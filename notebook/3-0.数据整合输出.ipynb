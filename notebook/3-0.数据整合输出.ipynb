{
 "cells": [
  {
   "cell_type": "markdown",
   "id": "9f9def66-2361-4d57-b35e-dc329e764e9c",
   "metadata": {},
   "source": [
    "# 数据整合\n",
    "\n",
    "整合目标：\n",
    "1. 文件描述\n",
    "2. 命名空间描述\n",
    "3. 类描述\n",
    "4. 方法描述\n",
    "\n"
   ]
  },
  {
   "cell_type": "code",
   "execution_count": 2,
   "id": "c273f550-7241-427f-9d57-db98504e22fe",
   "metadata": {
    "execution": {
     "iopub.execute_input": "2024-11-08T04:13:59.146788Z",
     "iopub.status.busy": "2024-11-08T04:13:59.146113Z",
     "iopub.status.idle": "2024-11-08T04:13:59.626655Z",
     "shell.execute_reply": "2024-11-08T04:13:59.625713Z",
     "shell.execute_reply.started": "2024-11-08T04:13:59.146726Z"
    }
   },
   "outputs": [],
   "source": [
    "import os\n",
    "import tinydb\n",
    "import time\n",
    "import pandas as pd"
   ]
  },
  {
   "cell_type": "code",
   "execution_count": 3,
   "id": "0a810033-8fdd-4981-a884-7f7ba6576b56",
   "metadata": {
    "execution": {
     "iopub.execute_input": "2024-11-08T04:13:59.628671Z",
     "iopub.status.busy": "2024-11-08T04:13:59.628311Z",
     "iopub.status.idle": "2024-11-08T04:13:59.633200Z",
     "shell.execute_reply": "2024-11-08T04:13:59.632225Z",
     "shell.execute_reply.started": "2024-11-08T04:13:59.628646Z"
    }
   },
   "outputs": [],
   "source": [
    "import json"
   ]
  },
  {
   "cell_type": "markdown",
   "id": "8dcc024e-4340-4472-9732-a9a41296e4fe",
   "metadata": {},
   "source": [
    "# 1. 读取数据"
   ]
  },
  {
   "cell_type": "code",
   "execution_count": 4,
   "id": "e40babcc-324a-4748-b354-f315fc7d12f7",
   "metadata": {
    "execution": {
     "iopub.execute_input": "2024-11-08T04:13:59.659621Z",
     "iopub.status.busy": "2024-11-08T04:13:59.658834Z",
     "iopub.status.idle": "2024-11-08T04:13:59.727643Z",
     "shell.execute_reply": "2024-11-08T04:13:59.726975Z",
     "shell.execute_reply.started": "2024-11-08T04:13:59.659566Z"
    }
   },
   "outputs": [],
   "source": [
    "file_db_lst = tinydb.TinyDB('../data/results/amc-rough_csfile_db-dscoderv2lite.json').all()\n",
    "namespace_db_lst = tinydb.TinyDB('../data/results/amc-rough_namespace_db-dscoderv2lite.json').all()\n",
    "class_db_lst = tinydb.TinyDB('../data/results/amc-rough_class_db-dscoderv2lite.json').all()\n",
    "method_db_lst = tinydb.TinyDB('../data/results/amc-rough_method_db-full.json').all()"
   ]
  },
  {
   "cell_type": "code",
   "execution_count": 9,
   "id": "4c74dc2c-8aa2-4935-8166-3b5cba01864a",
   "metadata": {
    "execution": {
     "iopub.execute_input": "2024-11-08T04:14:40.358646Z",
     "iopub.status.busy": "2024-11-08T04:14:40.357974Z",
     "iopub.status.idle": "2024-11-08T04:14:40.454696Z",
     "shell.execute_reply": "2024-11-08T04:14:40.453828Z",
     "shell.execute_reply.started": "2024-11-08T04:14:40.358591Z"
    }
   },
   "outputs": [],
   "source": [
    "file_db_map = {n['filepath']:n['desc'] for n in file_db_lst}\n",
    "\n",
    "namespace_db_map = {n['namespace']:n['desc'] for n in namespace_db_lst}\n",
    "\n",
    "class_db_map = {}\n",
    "for cnode in class_db_lst:\n",
    "    if not cnode['filepath'] in class_db_map:\n",
    "        class_db_map[cnode['filepath']] = {}\n",
    "    class_db_map[cnode['filepath']][cnode['classname']] = cnode['desc']\n",
    "\n",
    "project_meta = json.load(open('../data/processed/amc-by-tree-sitter.json','r'))\n",
    "\n",
    "method_db_map = {}\n",
    "for node in method_db_lst:\n",
    "    fpath = node['filepath']\n",
    "    class_name = node['classname']\n",
    "    method_name = node['methodname']\n",
    "    desc = node['desc']\n",
    "    if not fpath in method_db_map:\n",
    "        method_db_map[fpath] = {}\n",
    "    if not class_name in method_db_map[fpath]:\n",
    "        method_db_map[fpath][class_name] = {}\n",
    "    if not method_name in method_db_map[fpath][class_name]:\n",
    "        method_db_map[fpath][class_name][method_name] = desc"
   ]
  },
  {
   "cell_type": "markdown",
   "id": "830a78b8-9a29-418a-8471-b972d79189cd",
   "metadata": {},
   "source": [
    "# 2. 整合数据"
   ]
  },
  {
   "cell_type": "code",
   "execution_count": 15,
   "id": "e7672ec5-6059-4dcd-b52a-2f4989db41c4",
   "metadata": {
    "execution": {
     "iopub.execute_input": "2024-11-08T04:17:41.071999Z",
     "iopub.status.busy": "2024-11-08T04:17:41.071326Z",
     "iopub.status.idle": "2024-11-08T04:17:41.096830Z",
     "shell.execute_reply": "2024-11-08T04:17:41.095812Z",
     "shell.execute_reply.started": "2024-11-08T04:17:41.071944Z"
    },
    "scrolled": true
   },
   "outputs": [],
   "source": [
    "amc_doc = {}\n",
    "for k in project_meta:\n",
    "    node = project_meta[k]\n",
    "    fname = node['filename']\n",
    "    fpath = node['filepath']\n",
    "    namespace = node['namespace_key']\n",
    "    if not namespace in amc_doc:\n",
    "        amc_doc[namespace] = {\n",
    "                            'namespace_doc':namespace_db_map[namespace],\n",
    "                             'file_list':[]\n",
    "        }\n",
    "    csfile_doc_node = {\n",
    "                    'filepath':fpath,\n",
    "                      'file_doc':file_db_map[fpath],\n",
    "                    'class_list':[]\n",
    "    }\n",
    "    for class_node in node['source_class']:\n",
    "        class_name = class_node['class_name']\n",
    "        class_doc_node = {'classname':class_name,\n",
    "                         'class_doc':class_db_map[fpath][class_name],\n",
    "                          'method_list':[]\n",
    "                         }\n",
    "        if fpath in method_db_map:\n",
    "            for method_node in class_node['methods']:\n",
    "                method_name = method_node['method_name']\n",
    "                if (class_name in method_db_map[fpath]) and (method_name in method_db_map[fpath][class_name]):\n",
    "                    method_doc_node = {'methodname':method_name,\n",
    "                      'method_doc':method_db_map[fpath][class_name][method_name]\n",
    "                                      }\n",
    "                else:\n",
    "                    method_doc_node = {'methodname':method_name,\n",
    "                      'method_doc':''\n",
    "                                      }\n",
    "                class_doc_node['method_list'].append(method_doc_node)\n",
    "        csfile_doc_node['class_list'].append(class_doc_node)\n",
    "    amc_doc[namespace]['file_list'].append(csfile_doc_node)"
   ]
  },
  {
   "cell_type": "markdown",
   "id": "e405de27-3144-4407-97e3-ce4e87c6dd98",
   "metadata": {},
   "source": [
    "## 2.1 输出json"
   ]
  },
  {
   "cell_type": "code",
   "execution_count": 16,
   "id": "be9a9ce9-c7c4-4e26-b95a-10e56fc6b845",
   "metadata": {
    "execution": {
     "iopub.execute_input": "2024-11-08T04:17:47.578115Z",
     "iopub.status.busy": "2024-11-08T04:17:47.577428Z",
     "iopub.status.idle": "2024-11-08T04:17:47.643184Z",
     "shell.execute_reply": "2024-11-08T04:17:47.642474Z",
     "shell.execute_reply.started": "2024-11-08T04:17:47.578060Z"
    }
   },
   "outputs": [],
   "source": [
    "json.dump(amc_doc,open('../data/results/doc_amc_241108.json','w',encoding='utf-8'))"
   ]
  },
  {
   "cell_type": "markdown",
   "id": "00bd031a-bb1a-47ec-b97d-4e7011ca31b0",
   "metadata": {},
   "source": [
    "# 3. 生成md文件"
   ]
  },
  {
   "cell_type": "code",
   "execution_count": 63,
   "id": "244af780-27b0-4382-b1f7-09730e9cd673",
   "metadata": {
    "execution": {
     "iopub.execute_input": "2024-11-07T13:24:16.785541Z",
     "iopub.status.busy": "2024-11-07T13:24:16.784831Z",
     "iopub.status.idle": "2024-11-07T13:24:16.792341Z",
     "shell.execute_reply": "2024-11-07T13:24:16.790551Z",
     "shell.execute_reply.started": "2024-11-07T13:24:16.785482Z"
    }
   },
   "outputs": [],
   "source": [
    "# import mistletoe\n",
    "\n",
    "# with open('foo.md', 'r') as fin:\n",
    "#     rendered = mistletoe.markdown(fin)"
   ]
  },
  {
   "cell_type": "code",
   "execution_count": null,
   "id": "a3f3ae33-fe53-4609-bde5-72c6163eae9f",
   "metadata": {},
   "outputs": [],
   "source": []
  },
  {
   "cell_type": "code",
   "execution_count": null,
   "id": "416301f8-01a8-4bf4-94cb-0dc7663c9c65",
   "metadata": {},
   "outputs": [],
   "source": []
  }
 ],
 "metadata": {
  "kernelspec": {
   "display_name": "Python 3 (ipykernel)",
   "language": "python",
   "name": "python3"
  },
  "language_info": {
   "codemirror_mode": {
    "name": "ipython",
    "version": 3
   },
   "file_extension": ".py",
   "mimetype": "text/x-python",
   "name": "python",
   "nbconvert_exporter": "python",
   "pygments_lexer": "ipython3",
   "version": "3.12.4"
  }
 },
 "nbformat": 4,
 "nbformat_minor": 5
}

{
 "cells": [
  {
   "cell_type": "markdown",
   "id": "c7009a53-109f-4903-896a-9cf00bd21c9b",
   "metadata": {},
   "source": [
    "# 项目分析\n",
    "\n",
    "逐级生成分析，使用不同模板。\n",
    "\n",
    "粗描述生成（自上而下）：\n",
    "1. 首先读取每个文件，针对每个文件生成粗略描述（限制输入文本长度以免避免模型超限）\n",
    "2. 根据每个文件，生成文件命名空间（父文件夹）描述（大部分引用的为命名空间）\n",
    "3. 之后针对每个文件中的类生成描述，利用文件引用将其他文件的粗描述引入作为信息\n",
    "4. 针对每个文件中的方法生成描述，利用类的描述信息\n",
    "\n",
    "精细描述生成（自下而上）：\n",
    "1. 利用一个类中的其他方法的描述，以及类的描述，生成当前方法描述\n",
    "2. 利用类中所有方法的精细描述，生成类的描述\n",
    "3. 利用一个文件中所有类的描述，生成文件的描述\n",
    "4. 结合引用文件描述，重新生成当前文件描述"
   ]
  },
  {
   "cell_type": "code",
   "execution_count": 2,
   "id": "af52d759-9715-41ac-a380-0377fd6285fd",
   "metadata": {
    "execution": {
     "iopub.execute_input": "2024-11-07T04:11:44.427596Z",
     "iopub.status.busy": "2024-11-07T04:11:44.426759Z",
     "iopub.status.idle": "2024-11-07T04:11:44.435320Z",
     "shell.execute_reply": "2024-11-07T04:11:44.433612Z",
     "shell.execute_reply.started": "2024-11-07T04:11:44.427532Z"
    }
   },
   "outputs": [],
   "source": [
    "import time\n",
    "import os\n",
    "import pickle\n",
    "from typing import *"
   ]
  },
  {
   "cell_type": "code",
   "execution_count": 3,
   "id": "b5f5edc2-082b-4314-b962-15feca313f4f",
   "metadata": {
    "execution": {
     "iopub.execute_input": "2024-11-07T04:11:44.598583Z",
     "iopub.status.busy": "2024-11-07T04:11:44.597971Z",
     "iopub.status.idle": "2024-11-07T04:11:46.197624Z",
     "shell.execute_reply": "2024-11-07T04:11:46.196714Z",
     "shell.execute_reply.started": "2024-11-07T04:11:44.598528Z"
    }
   },
   "outputs": [],
   "source": [
    "import torch"
   ]
  },
  {
   "cell_type": "code",
   "execution_count": 4,
   "id": "1d0ecf90-ace1-4146-8bff-90ab60edfa14",
   "metadata": {
    "execution": {
     "iopub.execute_input": "2024-11-07T04:11:46.199631Z",
     "iopub.status.busy": "2024-11-07T04:11:46.199213Z",
     "iopub.status.idle": "2024-11-07T04:11:46.846260Z",
     "shell.execute_reply": "2024-11-07T04:11:46.844732Z",
     "shell.execute_reply.started": "2024-11-07T04:11:46.199608Z"
    }
   },
   "outputs": [],
   "source": [
    "from transformers import AutoModelForCausalLM, AutoTokenizer"
   ]
  },
  {
   "cell_type": "code",
   "execution_count": 5,
   "id": "ec638ddd-aa99-47c0-8f93-9b8796f4e587",
   "metadata": {
    "execution": {
     "iopub.execute_input": "2024-11-07T04:11:46.847625Z",
     "iopub.status.busy": "2024-11-07T04:11:46.847267Z",
     "iopub.status.idle": "2024-11-07T04:11:46.855603Z",
     "shell.execute_reply": "2024-11-07T04:11:46.854963Z",
     "shell.execute_reply.started": "2024-11-07T04:11:46.847599Z"
    }
   },
   "outputs": [],
   "source": [
    "from tinydb import TinyDB,Query"
   ]
  },
  {
   "cell_type": "code",
   "execution_count": 6,
   "id": "4a49ad89-9275-4cce-b3c5-2778fe02ef17",
   "metadata": {
    "execution": {
     "iopub.execute_input": "2024-11-07T04:11:46.857816Z",
     "iopub.status.busy": "2024-11-07T04:11:46.857474Z",
     "iopub.status.idle": "2024-11-07T04:11:46.861715Z",
     "shell.execute_reply": "2024-11-07T04:11:46.861082Z",
     "shell.execute_reply.started": "2024-11-07T04:11:46.857796Z"
    }
   },
   "outputs": [],
   "source": [
    "os.environ[\"RWKV_CUDA_ON\"] = 'cuda:1' # if '1' then use CUDA kernel for seq mode (much faster)"
   ]
  },
  {
   "cell_type": "code",
   "execution_count": 7,
   "id": "7a048912-918c-43b9-82c2-19f0e97bcb8a",
   "metadata": {
    "execution": {
     "iopub.execute_input": "2024-11-07T04:11:46.862784Z",
     "iopub.status.busy": "2024-11-07T04:11:46.862578Z",
     "iopub.status.idle": "2024-11-07T04:11:46.866944Z",
     "shell.execute_reply": "2024-11-07T04:11:46.866353Z",
     "shell.execute_reply.started": "2024-11-07T04:11:46.862766Z"
    }
   },
   "outputs": [],
   "source": [
    "os.environ[\"CUDA_LAUNCH_BLOCKING\"] = '1'"
   ]
  },
  {
   "cell_type": "code",
   "execution_count": 8,
   "id": "1cecea4a-824b-4fa9-9e2a-18e749f14a96",
   "metadata": {
    "execution": {
     "iopub.execute_input": "2024-11-07T04:11:46.867997Z",
     "iopub.status.busy": "2024-11-07T04:11:46.867793Z",
     "iopub.status.idle": "2024-11-07T04:11:50.224443Z",
     "shell.execute_reply": "2024-11-07T04:11:50.223052Z",
     "shell.execute_reply.started": "2024-11-07T04:11:46.867979Z"
    }
   },
   "outputs": [],
   "source": [
    "device = 'cuda:1' if torch.cuda.is_available() else '0'"
   ]
  },
  {
   "cell_type": "code",
   "execution_count": 9,
   "id": "15e541fe-f449-4995-94c3-3c4eaa319eca",
   "metadata": {
    "execution": {
     "iopub.execute_input": "2024-11-07T04:11:50.226828Z",
     "iopub.status.busy": "2024-11-07T04:11:50.226393Z",
     "iopub.status.idle": "2024-11-07T04:11:50.231493Z",
     "shell.execute_reply": "2024-11-07T04:11:50.230770Z",
     "shell.execute_reply.started": "2024-11-07T04:11:50.226802Z"
    }
   },
   "outputs": [],
   "source": [
    "def get_encoding_type(file):\n",
    "    with open(file, 'rb') as f:\n",
    "        rawdata = f.read()\n",
    "    return detect(rawdata)['encoding']"
   ]
  },
  {
   "cell_type": "markdown",
   "id": "6479b003-390e-4700-b9d5-23f79715862b",
   "metadata": {},
   "source": [
    "## 1. 读取项目测试数据"
   ]
  },
  {
   "cell_type": "code",
   "execution_count": 10,
   "id": "4fb4394c-ff89-492c-b424-4646aa972603",
   "metadata": {
    "execution": {
     "iopub.execute_input": "2024-11-07T04:11:50.233391Z",
     "iopub.status.busy": "2024-11-07T04:11:50.232993Z",
     "iopub.status.idle": "2024-11-07T04:11:50.238037Z",
     "shell.execute_reply": "2024-11-07T04:11:50.236996Z",
     "shell.execute_reply.started": "2024-11-07T04:11:50.233366Z"
    }
   },
   "outputs": [],
   "source": [
    "import json"
   ]
  },
  {
   "cell_type": "code",
   "execution_count": 11,
   "id": "845ecea5-807e-431a-bb30-5f250c59c895",
   "metadata": {
    "execution": {
     "iopub.execute_input": "2024-11-07T04:11:50.239955Z",
     "iopub.status.busy": "2024-11-07T04:11:50.239541Z",
     "iopub.status.idle": "2024-11-07T04:11:50.243717Z",
     "shell.execute_reply": "2024-11-07T04:11:50.242614Z",
     "shell.execute_reply.started": "2024-11-07T04:11:50.239929Z"
    }
   },
   "outputs": [],
   "source": [
    "from chardet import detect"
   ]
  },
  {
   "cell_type": "markdown",
   "id": "52f9220e-142d-4cba-97f3-a5b2ebc32cf9",
   "metadata": {},
   "source": [
    "## 2. 读取模型参数测试"
   ]
  },
  {
   "cell_type": "code",
   "execution_count": 12,
   "id": "f2fbadbc-ca00-4d6b-aba4-dbd4e9cccb70",
   "metadata": {
    "execution": {
     "iopub.execute_input": "2024-11-07T04:11:50.247092Z",
     "iopub.status.busy": "2024-11-07T04:11:50.246611Z",
     "iopub.status.idle": "2024-11-07T04:11:50.252062Z",
     "shell.execute_reply": "2024-11-07T04:11:50.250856Z",
     "shell.execute_reply.started": "2024-11-07T04:11:50.247059Z"
    }
   },
   "outputs": [],
   "source": [
    "import torch\n",
    "from transformers import AutoTokenizer, AutoModelForCausalLM"
   ]
  },
  {
   "cell_type": "code",
   "execution_count": 13,
   "id": "6366db65-343f-473a-8edc-6625e1771365",
   "metadata": {
    "execution": {
     "iopub.execute_input": "2024-11-07T04:11:50.254014Z",
     "iopub.status.busy": "2024-11-07T04:11:50.253467Z",
     "iopub.status.idle": "2024-11-07T04:11:55.745101Z",
     "shell.execute_reply": "2024-11-07T04:11:55.744017Z",
     "shell.execute_reply.started": "2024-11-07T04:11:50.253977Z"
    }
   },
   "outputs": [
    {
     "name": "stderr",
     "output_type": "stream",
     "text": [
      "`low_cpu_mem_usage` was None, now default to True since model is quantized.\n"
     ]
    }
   ],
   "source": [
    "from transformers import AutoTokenizer, AutoModelForCausalLM\n",
    "tokenizer = AutoTokenizer.from_pretrained(\"../data/deepseek-coder-6.7b-instruct-AQLM/\", trust_remote_code=True)\n",
    "model = AutoModelForCausalLM.from_pretrained(\"../data/deepseek-coder-6.7b-instruct-AQLM/\", \n",
    "                                             # device_map = 'auto',\n",
    "                                             trust_remote_code=True, \n",
    "                                             torch_dtype=torch.bfloat16).cuda()"
   ]
  },
  {
   "cell_type": "code",
   "execution_count": null,
   "id": "3c5e6dd0-aa67-4d3c-b9df-fe9bafedf23b",
   "metadata": {},
   "outputs": [],
   "source": []
  },
  {
   "cell_type": "markdown",
   "id": "7cdab933-4c03-4297-8e46-cedd3a9aae3c",
   "metadata": {},
   "source": [
    "## 3. 项目分析提示词模板"
   ]
  },
  {
   "cell_type": "code",
   "execution_count": 16,
   "id": "f8c7c4c2-5a43-4743-8781-eb7712163d3b",
   "metadata": {
    "execution": {
     "iopub.execute_input": "2024-11-07T04:24:36.528904Z",
     "iopub.status.busy": "2024-11-07T04:24:36.528201Z",
     "iopub.status.idle": "2024-11-07T04:24:36.536226Z",
     "shell.execute_reply": "2024-11-07T04:24:36.534463Z",
     "shell.execute_reply.started": "2024-11-07T04:24:36.528845Z"
    }
   },
   "outputs": [],
   "source": [
    "import tinydb"
   ]
  },
  {
   "cell_type": "markdown",
   "id": "9d65fbcf-744c-48ed-90c6-6e12a5d530f9",
   "metadata": {},
   "source": [
    "#### 自上而下-类结构描述"
   ]
  },
  {
   "cell_type": "code",
   "execution_count": 64,
   "id": "fb71b9a7-0a15-4824-ae71-06e73b906855",
   "metadata": {
    "execution": {
     "iopub.execute_input": "2024-11-07T08:26:23.429683Z",
     "iopub.status.busy": "2024-11-07T08:26:23.428966Z",
     "iopub.status.idle": "2024-11-07T08:26:23.492560Z",
     "shell.execute_reply": "2024-11-07T08:26:23.491870Z",
     "shell.execute_reply.started": "2024-11-07T08:26:23.429601Z"
    }
   },
   "outputs": [],
   "source": [
    "file_db_lst = tinydb.TinyDB('../data/results/amc-rough_csfile_db-dscoderv2lite.json').all()\n",
    "namespace_db_lst = tinydb.TinyDB('../data/results/amc-rough_namespace_db-dscoderv2lite.json').all()\n",
    "class_db_lst = tinydb.TinyDB('../data/results/amc-rough_class_db-dscoderv2lite.json').all()\n",
    "method_db_lst = tinydb.TinyDB('../data/results/amc-rough_method_db-dscoderv2lite.json').all()"
   ]
  },
  {
   "cell_type": "code",
   "execution_count": 65,
   "id": "0d105f0f-c296-4bc0-ba92-7b108b71ccca",
   "metadata": {
    "execution": {
     "iopub.execute_input": "2024-11-07T08:26:23.631080Z",
     "iopub.status.busy": "2024-11-07T08:26:23.630409Z",
     "iopub.status.idle": "2024-11-07T08:26:23.724268Z",
     "shell.execute_reply": "2024-11-07T08:26:23.723365Z",
     "shell.execute_reply.started": "2024-11-07T08:26:23.631022Z"
    }
   },
   "outputs": [],
   "source": [
    "file_db_map = {n['filepath']:n['desc'] for n in file_db_lst}\n",
    "\n",
    "namespace_db_map = {n['namespace']:n['desc'] for n in namespace_db_lst}\n",
    "\n",
    "project_meta = json.load(open('../data/processed/amc-by-tree-sitter.json','r'))\n",
    "\n",
    "method_db_map = {n['filepath']:\n",
    "                 {n['classname']:\n",
    "                  {n['methodname']:\n",
    "                   n['desc']\n",
    "                  }\n",
    "                 }\n",
    "                 for n in method_db_lst}"
   ]
  },
  {
   "cell_type": "code",
   "execution_count": 71,
   "id": "7af3590b-2f0c-4b4d-9b13-dcad40e59475",
   "metadata": {
    "execution": {
     "iopub.execute_input": "2024-11-07T08:29:28.024213Z",
     "iopub.status.busy": "2024-11-07T08:29:28.023534Z",
     "iopub.status.idle": "2024-11-07T08:29:28.034228Z",
     "shell.execute_reply": "2024-11-07T08:29:28.032373Z",
     "shell.execute_reply.started": "2024-11-07T08:29:28.024156Z"
    }
   },
   "outputs": [],
   "source": [
    "class_db_map = {}\n",
    "for cnode in class_db_lst:\n",
    "    if not cnode['filepath'] in class_db_map:\n",
    "        class_db_map[cnode['filepath']] = {}\n",
    "    class_db_map[cnode['filepath']][cnode['classname']] = cnode['desc']"
   ]
  },
  {
   "cell_type": "code",
   "execution_count": 60,
   "id": "1f21be4b-62c6-4a31-8494-9e9d56adffb2",
   "metadata": {
    "execution": {
     "iopub.execute_input": "2024-11-07T08:22:42.786016Z",
     "iopub.status.busy": "2024-11-07T08:22:42.785315Z",
     "iopub.status.idle": "2024-11-07T08:22:42.798618Z",
     "shell.execute_reply": "2024-11-07T08:22:42.797044Z",
     "shell.execute_reply.started": "2024-11-07T08:22:42.785958Z"
    }
   },
   "outputs": [],
   "source": [
    "def gen_prompt_class(ref_desc_map:Dict[str,str],\n",
    "                     class_map:Dict[str,str],\n",
    "                      max_length:int=1024):\n",
    "    '''\n",
    "    ref_desc_map: 引用文件（命名空间）名，生成的描述文本\n",
    "    class_map: 代码内容  class_name class_comment class_code\n",
    "    max_length: 最大长度\n",
    "    '''\n",
    "    template_pref = f\"\"\"你是一个资深的软件工程师，现在需要对一个 csharp 软件项目进行分析，并撰写代码文档，现在针对一个文件中单独的类class中包含的功能以及其作用进行描述。这个类在使用时可能调用了标准库以及本地的其他文件和命名空间，现在需要对这个类进行详细分析，需要撰写的文档格式如下：# 类的整体功能描述; # 类中包含的关键成员以及方法的介绍; # 综合上面信息，总结这个类的作用范围（如：信号分析、adapter、中间件等等）。\n",
    "    这个类所引入的外部库的描述如下，分为引入的命名空间名称以及其对应的描述文本：\n",
    "    \"\"\"\n",
    "\n",
    "    template_pref += '\\n'.join(f\"引用名：{k}；描述内容：{v}\" for k,v in ref_desc_map.items())\n",
    "    \n",
    "    \n",
    "    temlplate_middle = f\"类本身的代码内容如下：\\n 类名：{class_map['class_name']}；类注释：{class_map['class_comment']}；类代码体：{class_map['class_code'][:max_length]}\"\n",
    "    \n",
    "    template_surf = '\\n\\n请生成对应的命名空间描述文档：\\n'\n",
    "    \n",
    "    return template_pref + temlplate_middle + template_pref\n",
    "    "
   ]
  },
  {
   "cell_type": "code",
   "execution_count": 61,
   "id": "a1c8f499-eec2-4b4b-a1cb-593e8ebc9245",
   "metadata": {
    "execution": {
     "iopub.execute_input": "2024-11-07T08:22:43.397581Z",
     "iopub.status.busy": "2024-11-07T08:22:43.396915Z",
     "iopub.status.idle": "2024-11-07T08:22:43.405763Z",
     "shell.execute_reply": "2024-11-07T08:22:43.403971Z",
     "shell.execute_reply.started": "2024-11-07T08:22:43.397522Z"
    }
   },
   "outputs": [],
   "source": [
    "db_class = tinydb.TinyDB('../data/results/amc-rough_class_db-dscoderv2lite.json')"
   ]
  },
  {
   "cell_type": "code",
   "execution_count": 56,
   "id": "d8ee3e31-c327-4a5f-8c0e-b39defcdf1b3",
   "metadata": {
    "execution": {
     "iopub.execute_input": "2024-11-07T08:08:04.632574Z",
     "iopub.status.busy": "2024-11-07T08:08:04.631816Z",
     "iopub.status.idle": "2024-11-07T08:18:07.293759Z",
     "shell.execute_reply": "2024-11-07T08:18:07.291680Z",
     "shell.execute_reply.started": "2024-11-07T08:08:04.632506Z"
    }
   },
   "outputs": [
    {
     "name": "stderr",
     "output_type": "stream",
     "text": [
      "The attention mask and the pad token id were not set. As a consequence, you may observe unexpected behavior. Please pass your input's `attention_mask` to obtain reliable results.\n",
      "Setting `pad_token_id` to `eos_token_id`:None for open-end generation.\n",
      "The attention mask and the pad token id were not set. As a consequence, you may observe unexpected behavior. Please pass your input's `attention_mask` to obtain reliable results.\n",
      "Setting `pad_token_id` to `eos_token_id`:None for open-end generation.\n"
     ]
    },
    {
     "name": "stdout",
     "output_type": "stream",
     "text": [
      "../data/AMC/AMC/AutoScan/AbstractAutoScanTask.cs - AutoScanTaskFactory insert sucsscfull.\n"
     ]
    },
    {
     "name": "stderr",
     "output_type": "stream",
     "text": [
      "The attention mask and the pad token id were not set. As a consequence, you may observe unexpected behavior. Please pass your input's `attention_mask` to obtain reliable results.\n",
      "Setting `pad_token_id` to `eos_token_id`:None for open-end generation.\n"
     ]
    },
    {
     "name": "stdout",
     "output_type": "stream",
     "text": [
      "../data/AMC/AMC/AutoScan/AbstractAutoScanTask.cs - AutoScanPageName insert sucsscfull.\n"
     ]
    },
    {
     "name": "stderr",
     "output_type": "stream",
     "text": [
      "The attention mask and the pad token id were not set. As a consequence, you may observe unexpected behavior. Please pass your input's `attention_mask` to obtain reliable results.\n",
      "Setting `pad_token_id` to `eos_token_id`:None for open-end generation.\n"
     ]
    },
    {
     "name": "stdout",
     "output_type": "stream",
     "text": [
      "../data/AMC/AMC/AutoScan/AutoScanParallelTask.cs - AutoScanParallelPageName insert sucsscfull.\n"
     ]
    },
    {
     "name": "stderr",
     "output_type": "stream",
     "text": [
      "The attention mask and the pad token id were not set. As a consequence, you may observe unexpected behavior. Please pass your input's `attention_mask` to obtain reliable results.\n",
      "Setting `pad_token_id` to `eos_token_id`:None for open-end generation.\n"
     ]
    },
    {
     "name": "stdout",
     "output_type": "stream",
     "text": [
      "../data/AMC/AMC/AutoScan/AutoScanSerialTask.cs - AutoScanSerialPageName insert sucsscfull.\n"
     ]
    },
    {
     "name": "stderr",
     "output_type": "stream",
     "text": [
      "The attention mask and the pad token id were not set. As a consequence, you may observe unexpected behavior. Please pass your input's `attention_mask` to obtain reliable results.\n",
      "Setting `pad_token_id` to `eos_token_id`:None for open-end generation.\n"
     ]
    },
    {
     "name": "stdout",
     "output_type": "stream",
     "text": [
      "../data/AMC/AMC/SystemPara/Form_GlobalparaDataType.cs - Form_GlobalparaDataType insert sucsscfull.\n"
     ]
    },
    {
     "name": "stderr",
     "output_type": "stream",
     "text": [
      "The attention mask and the pad token id were not set. As a consequence, you may observe unexpected behavior. Please pass your input's `attention_mask` to obtain reliable results.\n",
      "Setting `pad_token_id` to `eos_token_id`:None for open-end generation.\n"
     ]
    },
    {
     "name": "stdout",
     "output_type": "stream",
     "text": [
      "../data/AMC/AMC/SystemPara/GlobalParameter.cs - GlobalParameter insert sucsscfull.\n"
     ]
    },
    {
     "name": "stderr",
     "output_type": "stream",
     "text": [
      "The attention mask and the pad token id were not set. As a consequence, you may observe unexpected behavior. Please pass your input's `attention_mask` to obtain reliable results.\n",
      "Setting `pad_token_id` to `eos_token_id`:None for open-end generation.\n"
     ]
    },
    {
     "name": "stdout",
     "output_type": "stream",
     "text": [
      "../data/AMC/AMC/SystemPara/SystemParameter.cs - SystemParameterKey insert sucsscfull.\n"
     ]
    },
    {
     "name": "stderr",
     "output_type": "stream",
     "text": [
      "The attention mask and the pad token id were not set. As a consequence, you may observe unexpected behavior. Please pass your input's `attention_mask` to obtain reliable results.\n",
      "Setting `pad_token_id` to `eos_token_id`:None for open-end generation.\n"
     ]
    },
    {
     "name": "stdout",
     "output_type": "stream",
     "text": [
      "../data/AMC/AMC/SystemPara/SystemParameter.cs - RobotTrajKey insert sucsscfull.\n"
     ]
    },
    {
     "name": "stderr",
     "output_type": "stream",
     "text": [
      "The attention mask and the pad token id were not set. As a consequence, you may observe unexpected behavior. Please pass your input's `attention_mask` to obtain reliable results.\n",
      "Setting `pad_token_id` to `eos_token_id`:None for open-end generation.\n"
     ]
    },
    {
     "name": "stdout",
     "output_type": "stream",
     "text": [
      "../data/AMC/AMC/SystemPara/SystemParameter.cs - RobotTrajKeySerial insert sucsscfull.\n"
     ]
    },
    {
     "name": "stderr",
     "output_type": "stream",
     "text": [
      "The attention mask and the pad token id were not set. As a consequence, you may observe unexpected behavior. Please pass your input's `attention_mask` to obtain reliable results.\n",
      "Setting `pad_token_id` to `eos_token_id`:None for open-end generation.\n"
     ]
    },
    {
     "name": "stdout",
     "output_type": "stream",
     "text": [
      "../data/AMC/AMC/SystemPara/SystemParameter.cs - RobotTrajKeyParallel insert sucsscfull.\n"
     ]
    },
    {
     "name": "stderr",
     "output_type": "stream",
     "text": [
      "The attention mask and the pad token id were not set. As a consequence, you may observe unexpected behavior. Please pass your input's `attention_mask` to obtain reliable results.\n",
      "Setting `pad_token_id` to `eos_token_id`:None for open-end generation.\n"
     ]
    },
    {
     "name": "stdout",
     "output_type": "stream",
     "text": [
      "../data/AMC/AMC/SystemPara/SystemParameter.cs - IOUseKey insert sucsscfull.\n"
     ]
    },
    {
     "name": "stderr",
     "output_type": "stream",
     "text": [
      "The attention mask and the pad token id were not set. As a consequence, you may observe unexpected behavior. Please pass your input's `attention_mask` to obtain reliable results.\n",
      "Setting `pad_token_id` to `eos_token_id`:None for open-end generation.\n"
     ]
    },
    {
     "name": "stdout",
     "output_type": "stream",
     "text": [
      "../data/AMC/AMC/SystemPara/SystemParameter.cs - DeviceAppKey insert sucsscfull.\n"
     ]
    },
    {
     "name": "stderr",
     "output_type": "stream",
     "text": [
      "The attention mask and the pad token id were not set. As a consequence, you may observe unexpected behavior. Please pass your input's `attention_mask` to obtain reliable results.\n",
      "Setting `pad_token_id` to `eos_token_id`:None for open-end generation.\n"
     ]
    },
    {
     "name": "stdout",
     "output_type": "stream",
     "text": [
      "../data/AMC/AMC/SystemPara/SystemParameter.cs - AuthorityControlsKey insert sucsscfull.\n"
     ]
    },
    {
     "name": "stderr",
     "output_type": "stream",
     "text": [
      "The attention mask and the pad token id were not set. As a consequence, you may observe unexpected behavior. Please pass your input's `attention_mask` to obtain reliable results.\n",
      "Setting `pad_token_id` to `eos_token_id`:None for open-end generation.\n"
     ]
    },
    {
     "name": "stdout",
     "output_type": "stream",
     "text": [
      "../data/AMC/Common/gclib-bak.cs - LibraryPath insert sucsscfull.\n"
     ]
    },
    {
     "name": "stderr",
     "output_type": "stream",
     "text": [
      "The attention mask and the pad token id were not set. As a consequence, you may observe unexpected behavior. Please pass your input's `attention_mask` to obtain reliable results.\n",
      "Setting `pad_token_id` to `eos_token_id`:None for open-end generation.\n"
     ]
    },
    {
     "name": "stdout",
     "output_type": "stream",
     "text": [
      "../data/AMC/Common/gclib.cs - LibraryPath insert sucsscfull.\n"
     ]
    },
    {
     "name": "stderr",
     "output_type": "stream",
     "text": [
      "The attention mask and the pad token id were not set. As a consequence, you may observe unexpected behavior. Please pass your input's `attention_mask` to obtain reliable results.\n",
      "Setting `pad_token_id` to `eos_token_id`:None for open-end generation.\n"
     ]
    },
    {
     "name": "stdout",
     "output_type": "stream",
     "text": [
      "../data/AMC/Common/gclib.cs - LibraryPath insert sucsscfull.\n"
     ]
    },
    {
     "name": "stderr",
     "output_type": "stream",
     "text": [
      "The attention mask and the pad token id were not set. As a consequence, you may observe unexpected behavior. Please pass your input's `attention_mask` to obtain reliable results.\n",
      "Setting `pad_token_id` to `eos_token_id`:None for open-end generation.\n"
     ]
    },
    {
     "name": "stdout",
     "output_type": "stream",
     "text": [
      "../data/AMC/Common/gclib.cs - LibraryPath insert sucsscfull.\n"
     ]
    },
    {
     "name": "stderr",
     "output_type": "stream",
     "text": [
      "The attention mask and the pad token id were not set. As a consequence, you may observe unexpected behavior. Please pass your input's `attention_mask` to obtain reliable results.\n",
      "Setting `pad_token_id` to `eos_token_id`:None for open-end generation.\n"
     ]
    },
    {
     "name": "stdout",
     "output_type": "stream",
     "text": [
      "../data/AMC/Devices/MotionCard/GailMotionCard/gclib.cs - LibraryPath insert sucsscfull.\n"
     ]
    },
    {
     "name": "stderr",
     "output_type": "stream",
     "text": [
      "The attention mask and the pad token id were not set. As a consequence, you may observe unexpected behavior. Please pass your input's `attention_mask` to obtain reliable results.\n",
      "Setting `pad_token_id` to `eos_token_id`:None for open-end generation.\n"
     ]
    },
    {
     "name": "stdout",
     "output_type": "stream",
     "text": [
      "../data/AMC/Devices/MotionCard/GailMotionCard/gclib.cs - LibraryPath insert sucsscfull.\n"
     ]
    },
    {
     "name": "stderr",
     "output_type": "stream",
     "text": [
      "The attention mask and the pad token id were not set. As a consequence, you may observe unexpected behavior. Please pass your input's `attention_mask` to obtain reliable results.\n",
      "Setting `pad_token_id` to `eos_token_id`:None for open-end generation.\n"
     ]
    },
    {
     "name": "stdout",
     "output_type": "stream",
     "text": [
      "../data/AMC/Devices/MotionCard/GailMotionCard/gclib.cs - LibraryPath insert sucsscfull.\n"
     ]
    },
    {
     "name": "stderr",
     "output_type": "stream",
     "text": [
      "The attention mask and the pad token id were not set. As a consequence, you may observe unexpected behavior. Please pass your input's `attention_mask` to obtain reliable results.\n",
      "Setting `pad_token_id` to `eos_token_id`:None for open-end generation.\n"
     ]
    },
    {
     "name": "stdout",
     "output_type": "stream",
     "text": [
      "../data/AMC/Measure/DrawObjects/Xml/XRemarks.cs - XRemarks insert sucsscfull.\n"
     ]
    },
    {
     "name": "stderr",
     "output_type": "stream",
     "text": [
      "The attention mask and the pad token id were not set. As a consequence, you may observe unexpected behavior. Please pass your input's `attention_mask` to obtain reliable results.\n",
      "Setting `pad_token_id` to `eos_token_id`:None for open-end generation.\n"
     ]
    },
    {
     "name": "stdout",
     "output_type": "stream",
     "text": [
      "../data/AMC/Measure/DrawObjects/Xml/XRemarks.cs - XRemarkBase insert sucsscfull.\n"
     ]
    },
    {
     "name": "stderr",
     "output_type": "stream",
     "text": [
      "The attention mask and the pad token id were not set. As a consequence, you may observe unexpected behavior. Please pass your input's `attention_mask` to obtain reliable results.\n",
      "Setting `pad_token_id` to `eos_token_id`:None for open-end generation.\n"
     ]
    },
    {
     "name": "stdout",
     "output_type": "stream",
     "text": [
      "../data/AMC/Measure/DrawObjects/Xml/XRemarks.cs - XRemarkLine insert sucsscfull.\n"
     ]
    },
    {
     "name": "stderr",
     "output_type": "stream",
     "text": [
      "The attention mask and the pad token id were not set. As a consequence, you may observe unexpected behavior. Please pass your input's `attention_mask` to obtain reliable results.\n",
      "Setting `pad_token_id` to `eos_token_id`:None for open-end generation.\n"
     ]
    },
    {
     "name": "stdout",
     "output_type": "stream",
     "text": [
      "../data/AMC/Measure/DrawObjects/Xml/XRemarks.cs - XRemarkMultLine insert sucsscfull.\n"
     ]
    },
    {
     "name": "stderr",
     "output_type": "stream",
     "text": [
      "The attention mask and the pad token id were not set. As a consequence, you may observe unexpected behavior. Please pass your input's `attention_mask` to obtain reliable results.\n",
      "Setting `pad_token_id` to `eos_token_id`:None for open-end generation.\n"
     ]
    },
    {
     "name": "stdout",
     "output_type": "stream",
     "text": [
      "../data/AMC/Measure/DrawObjects/Xml/XRemarks.cs - XRemarkCircle insert sucsscfull.\n",
      "../data/AMC/Measure/DrawObjects/Xml/XRemarks.cs - XRemarkRect insert sucsscfull.\n"
     ]
    }
   ],
   "source": [
    "amc_doc = {}\n",
    "for k in project_meta:\n",
    "    node = project_meta[k]\n",
    "    fname = node['filename']\n",
    "    fpath = node['filepath']\n",
    "    namespace = node['namespace_key']\n",
    "    if not namespace in amc_doc:\n",
    "        amc_doc[namespace] = {\n",
    "                            'namespace_doc':namespace_db_map[namespace],\n",
    "                             'file_list':[]\n",
    "        }\n",
    "    csfile_doc_node = {\n",
    "                    'filepath':fpath,\n",
    "                      'file_doc':file_db_map[fpath],\n",
    "                    'class_list':[]\n",
    "    }\n",
    "    \n",
    "    allref_lst = node['source_reference'] + list(node['relocal_reference'])\n",
    "    ref_desc_map = {k:('' if not k in namespace_db_map else namespace_db_map[k]) for k in allref_lst}\n",
    "    for class_node in node['source_class']:\n",
    "        class_name = class_node['class_name']\n",
    "        if class_name in class_db_map[fpath]:\n",
    "            # print(f'{fpath} {class_name} exist continue.')\n",
    "            continue\n",
    "            \n",
    "        prompt = gen_prompt_class(ref_desc_map=ref_desc_map,class_map=class_node)\n",
    "        \n",
    "        pt_llama = new_p = f\"\"\"<|im_start|>使用中文的csharp资深开发者 \"\\n {prompt} 使用中文回答，尽可能的详尽描述每个部分的功能，以及总结整体代码功能（800字）。<|im_end|>\\n\"\"\"\n",
    "        \n",
    "        messages=[\n",
    "            { 'role': 'user', 'content': pt_llama}\n",
    "        ]\n",
    "        \n",
    "        inputs = tokenizer.apply_chat_template(messages, \n",
    "                                               add_generation_prompt=True, \n",
    "                                               return_tensors=\"pt\").to(model.device)\n",
    "        # tokenizer.eos_token_id is the id of <|EOT|> token\n",
    "        outputs = model.generate(inputs, max_new_tokens=4086, \n",
    "                                 do_sample=False, \n",
    "                                 top_k=50, \n",
    "                                 top_p=0.95, \n",
    "                                 num_return_sequences=1, \n",
    "                                 eos_token_id=tokenizer.eos_token_id)\n",
    "        desc = tokenizer.decode(outputs[0][len(inputs[0]):], skip_special_tokens=True)\n",
    "    \n",
    "        # 插入数据库\n",
    "        db_class.insert({'filepath': fpath, 'classname':class_name,'desc': desc})\n",
    "        print(f'{fpath} - {class_name} insert sucsscfull.')"
   ]
  },
  {
   "cell_type": "code",
   "execution_count": null,
   "id": "51b96771-3b49-40cb-975a-f2d2f99a6766",
   "metadata": {},
   "outputs": [],
   "source": []
  },
  {
   "cell_type": "code",
   "execution_count": null,
   "id": "dc578ced-cf64-46d2-bc3c-0afd98db2771",
   "metadata": {},
   "outputs": [],
   "source": []
  }
 ],
 "metadata": {
  "kernelspec": {
   "display_name": "Python 3 (ipykernel)",
   "language": "python",
   "name": "python3"
  },
  "language_info": {
   "codemirror_mode": {
    "name": "ipython",
    "version": 3
   },
   "file_extension": ".py",
   "mimetype": "text/x-python",
   "name": "python",
   "nbconvert_exporter": "python",
   "pygments_lexer": "ipython3",
   "version": "3.12.4"
  }
 },
 "nbformat": 4,
 "nbformat_minor": 5
}

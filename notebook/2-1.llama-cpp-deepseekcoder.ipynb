{
 "cells": [
  {
   "cell_type": "markdown",
   "id": "c7009a53-109f-4903-896a-9cf00bd21c9b",
   "metadata": {},
   "source": [
    "# 项目分析\n",
    "\n",
    "逐级生成分析，使用不同模板。\n",
    "\n",
    "粗描述生成（自上而下）：\n",
    "1. 首先读取每个文件，针对每个文件生成粗略描述（限制输入文本长度以免避免模型超限）\n",
    "2. 根据每个文件，生成文件命名空间（父文件夹）描述（大部分引用的为命名空间）\n",
    "3. 之后针对每个文件中的类生成描述，利用文件引用将其他文件的粗描述引入作为信息\n",
    "4. 针对每个文件中的方法生成描述，利用类的描述信息\n",
    "\n",
    "精细描述生成（自下而上）：\n",
    "1. 利用一个类中的其他方法的描述，以及类的描述，生成当前方法描述\n",
    "2. 利用类中所有方法的精细描述，生成类的描述\n",
    "3. 利用一个文件中所有类的描述，生成文件的描述\n",
    "4. 结合引用文件描述，重新生成当前文件描述"
   ]
  },
  {
   "cell_type": "code",
   "execution_count": 1,
   "id": "af52d759-9715-41ac-a380-0377fd6285fd",
   "metadata": {
    "execution": {
     "iopub.execute_input": "2024-11-04T10:41:48.308204Z",
     "iopub.status.busy": "2024-11-04T10:41:48.307530Z",
     "iopub.status.idle": "2024-11-04T10:41:48.316548Z",
     "shell.execute_reply": "2024-11-04T10:41:48.315126Z",
     "shell.execute_reply.started": "2024-11-04T10:41:48.308137Z"
    }
   },
   "outputs": [],
   "source": [
    "import time\n",
    "import os\n",
    "import pickle\n",
    "from typing import *"
   ]
  },
  {
   "cell_type": "code",
   "execution_count": 2,
   "id": "b5f5edc2-082b-4314-b962-15feca313f4f",
   "metadata": {
    "execution": {
     "iopub.execute_input": "2024-11-04T10:41:48.495761Z",
     "iopub.status.busy": "2024-11-04T10:41:48.495136Z",
     "iopub.status.idle": "2024-11-04T10:41:50.259880Z",
     "shell.execute_reply": "2024-11-04T10:41:50.259171Z",
     "shell.execute_reply.started": "2024-11-04T10:41:48.495701Z"
    }
   },
   "outputs": [],
   "source": [
    "import torch"
   ]
  },
  {
   "cell_type": "code",
   "execution_count": 3,
   "id": "5ab6a64d-7074-4b57-a145-24e809a16369",
   "metadata": {
    "execution": {
     "iopub.execute_input": "2024-11-04T10:41:50.262019Z",
     "iopub.status.busy": "2024-11-04T10:41:50.261601Z",
     "iopub.status.idle": "2024-11-04T10:41:50.972274Z",
     "shell.execute_reply": "2024-11-04T10:41:50.970832Z",
     "shell.execute_reply.started": "2024-11-04T10:41:50.261999Z"
    }
   },
   "outputs": [],
   "source": [
    "from langchain.llms import RWKV"
   ]
  },
  {
   "cell_type": "code",
   "execution_count": 4,
   "id": "1d0ecf90-ace1-4146-8bff-90ab60edfa14",
   "metadata": {
    "execution": {
     "iopub.execute_input": "2024-11-04T10:41:50.975155Z",
     "iopub.status.busy": "2024-11-04T10:41:50.974603Z",
     "iopub.status.idle": "2024-11-04T10:41:51.418842Z",
     "shell.execute_reply": "2024-11-04T10:41:51.417489Z",
     "shell.execute_reply.started": "2024-11-04T10:41:50.975104Z"
    }
   },
   "outputs": [],
   "source": [
    "from transformers import AutoModelForCausalLM, AutoTokenizer"
   ]
  },
  {
   "cell_type": "code",
   "execution_count": 5,
   "id": "4a49ad89-9275-4cce-b3c5-2778fe02ef17",
   "metadata": {
    "execution": {
     "iopub.execute_input": "2024-11-04T10:41:51.421203Z",
     "iopub.status.busy": "2024-11-04T10:41:51.420759Z",
     "iopub.status.idle": "2024-11-04T10:41:51.425427Z",
     "shell.execute_reply": "2024-11-04T10:41:51.424786Z",
     "shell.execute_reply.started": "2024-11-04T10:41:51.421183Z"
    }
   },
   "outputs": [],
   "source": [
    "os.environ[\"RWKV_CUDA_ON\"] = 'cuda:1' # if '1' then use CUDA kernel for seq mode (much faster)"
   ]
  },
  {
   "cell_type": "code",
   "execution_count": 6,
   "id": "1cecea4a-824b-4fa9-9e2a-18e749f14a96",
   "metadata": {
    "execution": {
     "iopub.execute_input": "2024-11-04T10:41:51.426534Z",
     "iopub.status.busy": "2024-11-04T10:41:51.426323Z",
     "iopub.status.idle": "2024-11-04T10:41:53.197768Z",
     "shell.execute_reply": "2024-11-04T10:41:53.197080Z",
     "shell.execute_reply.started": "2024-11-04T10:41:51.426515Z"
    }
   },
   "outputs": [],
   "source": [
    "device = 'cuda:1' if torch.cuda.is_available() else '0'"
   ]
  },
  {
   "cell_type": "markdown",
   "id": "6479b003-390e-4700-b9d5-23f79715862b",
   "metadata": {},
   "source": [
    "## 1. 读取项目测试数据"
   ]
  },
  {
   "cell_type": "code",
   "execution_count": 7,
   "id": "4fb4394c-ff89-492c-b424-4646aa972603",
   "metadata": {
    "execution": {
     "iopub.execute_input": "2024-11-04T10:41:53.199066Z",
     "iopub.status.busy": "2024-11-04T10:41:53.198834Z",
     "iopub.status.idle": "2024-11-04T10:41:53.202812Z",
     "shell.execute_reply": "2024-11-04T10:41:53.202240Z",
     "shell.execute_reply.started": "2024-11-04T10:41:53.199045Z"
    }
   },
   "outputs": [],
   "source": [
    "import json"
   ]
  },
  {
   "cell_type": "code",
   "execution_count": 8,
   "id": "1d819cfb-0017-4f01-9048-1c00a2c743d7",
   "metadata": {
    "execution": {
     "iopub.execute_input": "2024-11-04T10:42:09.210881Z",
     "iopub.status.busy": "2024-11-04T10:42:09.210008Z",
     "iopub.status.idle": "2024-11-04T10:42:09.313532Z",
     "shell.execute_reply": "2024-11-04T10:42:09.312853Z",
     "shell.execute_reply.started": "2024-11-04T10:42:09.210825Z"
    }
   },
   "outputs": [],
   "source": [
    "project_meta = json.load(open('../data/processed/amc-by-tree-sitter.json','r'))"
   ]
  },
  {
   "cell_type": "code",
   "execution_count": 9,
   "id": "23a7d2e1-7b35-464c-ab02-09771b3e4dbf",
   "metadata": {
    "execution": {
     "iopub.execute_input": "2024-11-04T10:42:09.774909Z",
     "iopub.status.busy": "2024-11-04T10:42:09.774032Z",
     "iopub.status.idle": "2024-11-04T10:42:09.782203Z",
     "shell.execute_reply": "2024-11-04T10:42:09.780556Z",
     "shell.execute_reply.started": "2024-11-04T10:42:09.774850Z"
    }
   },
   "outputs": [],
   "source": [
    "sample_key = list(project_meta.keys())[0]"
   ]
  },
  {
   "cell_type": "code",
   "execution_count": 10,
   "id": "7f2bd81b-e051-4d3d-86a1-92193e785858",
   "metadata": {
    "execution": {
     "iopub.execute_input": "2024-11-04T10:42:10.173925Z",
     "iopub.status.busy": "2024-11-04T10:42:10.173221Z",
     "iopub.status.idle": "2024-11-04T10:42:10.212163Z",
     "shell.execute_reply": "2024-11-04T10:42:10.211480Z",
     "shell.execute_reply.started": "2024-11-04T10:42:10.173869Z"
    },
    "scrolled": true
   },
   "outputs": [
    {
     "data": {
      "text/plain": [
       "{'filename': 'CScanPicFunction.cs',\n",
       " 'filepath': '../data/AMC/AlgorithmLib/CScanPicFunction.cs',\n",
       " 'source_reference': ['System.Collections.Generic',\n",
       "  'System.Diagnostics',\n",
       "  'System.Drawing',\n",
       "  'System.IO',\n",
       "  'System.Linq',\n",
       "  'System.Text',\n",
       "  'System.Threading',\n",
       "  'System.Threading.Tasks',\n",
       "  'System.Windows.Forms'],\n",
       " 'source_comments': [],\n",
       " 'source_class': [{'class_name': 'CScanPicFunction',\n",
       "   'class_comment': '',\n",
       "   'class_code': '{\\r\\n\\r\\n\\r\\n        /// <summary>\\r\\n        ///  在闸门内查找第一个与波形的交叉点\\r\\n        /// </summary>\\r\\n        /// <param name=\"threshValue\">阈值(转换为0-2^N,N是卡的位数,譬如8位卡,就是256)</param>\\r\\n        /// <param name=\"gateLengthNum\">闸门长度</param>\\r\\n        /// <param name=\"gateStartNum\">闸门在A信号中的起始位置</param>\\r\\n        /// <param name=\"isPositiveThresh\">计算正向阈值标志,true：正向;false:负向</param>\\r\\n        /// <param name=\"ascandata\">A信号数据</param>\\r\\n        /// <returns></returns>\\r\\n        public static int FindFirstPostionInFSFGate(int threshValue, int gateLengthNum, int gateStartNum, bool isPositiveThresh, byte[] ascandata,\\r\\n                                                      WaveDataStyle wd, int offset, int maxampvalue,double alpha=1.0, int step = 10)\\r\\n        {\\r\\n            // 定义循环变量\\r\\n            int iPos = 0;\\r\\n            bool bHasFound = false;\\r\\n\\r\\n\\r\\n            if (ascandata == null)\\r\\n            {\\r\\n                return 0;\\r\\n            }\\r\\n\\r\\n            int indexofCrossPoint = 0;\\r\\n            int iposMax = Math.Min(gateStartNum + gateLengthNum, ascandata.Length);\\r\\n\\r\\n            //int initIndexofCrossPoint = 0;//粗找的第1个交点\\r\\n            //bool bInitHasFound = false;\\r\\n            ////粗找\\r\\n            //if (isPositiveThresh)//正向阈值\\r\\n            //{\\r\\n\\r\\n            //    for (iPos = gateStartNum; iPos < iposMax; )\\r\\n            //    {\\r\\n            //        if (ascandata[iPos] >= threshValue)\\r\\n            //        {\\r\\n            //            initIndexofCrossPoint = iPos;\\r\\n            //            bInitHasFound = true;\\r\\n            //            break;\\r\\n            //        }\\r\\n            //        iPos += step;\\r\\n            //        if (iPos >= iposMax && !bInitHasFound)//找到头也没有找到交点,那么缩小不长从头再来\\r\\n            //        {\\r\\n            //            Debug.WriteLine(\"dllzg_ggggg.....\");\\r\\n            //            iPos = gateStartNum;\\r\\n            //            step--;\\r\\n            //            if (step == 0)\\r\\n            //            {\\r\\n            //                bInitHasFound = false;\\r\\n            //                bHasFound = false;\\r\\n            //                break;\\r\\n            //            }\\r\\n            //        }\\r\\n            //    }\\r\\n\\r\\n            //    if (bInitHasFound)//如果粗找找到了交点，则进行精细查找\\r\\n            //    {\\r\\n            //        for (iPos = Math.Min(gateStartNum, initIndexofCrossPoint - step); iPos <= initIndexofCrossPoint; iPos++)\\r\\n            //        {\\r\\n            //            if (ascandata[iPos] >= threshValue)\\r\\n            //            {\\r\\n            //                indexofCrossPoint = iPos;\\r\\n            //                bHasFound = true;\\r\\n            //                break;\\r\\n            //            }\\r\\n            //        }\\r\\n            //    }\\r\\n            //}\\r\\n\\r\\n\\r\\n            List<byte> allamp = new List<byte>();\\r\\n\\r\\n            //int initIndexofCrossPoint = 0;//粗找的第1个交点\\r\\n\\r\\n            if (isPositiveThresh || wd != WaveDataStyle.RF) //正向阈值或者除RF以外的三种模式\\r\\n            {\\r\\n\\r\\n                //for (iPos = gateStartNum; iPos < iposMax; iPos += 4)\\r\\n                for (iPos = gateStartNum; iPos < iposMax; iPos++)\\r\\n                {\\r\\n                    byte actualamp0 = (byte)DataUtils.GetActualAmp((int)wd, ascandata[iPos], offset, maxampvalue, (float)alpha, false);\\r\\n                    allamp.Add(actualamp0);\\r\\n                    //if (wd != WaveDataStyle.RF)\\r\\n                    //{\\r\\n                    //    Console.WriteLine(actualamp0);\\r\\n\\r\\n                    //}\\r\\n                    if (actualamp0 >= threshValue)\\r\\n                    {\\r\\n                        indexofCrossPoint = iPos;\\r\\n                        bHasFound = true;\\r\\n                        break;\\r\\n                    }\\r\\n\\r\\n                }\\r\\n            }\\r\\n            else//负向阈值\\r\\n            {\\r\\n                for (iPos = gateStartNum; iPos < iposMax; iPos += 4)\\r\\n                {\\r\\n                    if (ascandata[iPos] <= threshValue)\\r\\n                    {\\r\\n                        indexofCrossPoint = iPos;\\r\\n                        bHasFound = true;\\r\\n                        break;\\r\\n                    }\\r\\n                    if ((iPos + 1) < iposMax && ascandata[iPos + 1] <= threshValue)\\r\\n                    {\\r\\n                        indexofCrossPoint = iPos + 1;\\r\\n                        bHasFound = true;\\r\\n                        break;\\r\\n                    }\\r\\n                    if ((iPos + 2) < iposMax && ascandata[iPos + 2] <= threshValue)\\r\\n                    {\\r\\n                        indexofCrossPoint = iPos + 2;\\r\\n                        bHasFound = true;\\r\\n                        break;\\r\\n                    }\\r\\n                    if ((iPos + 3) < iposMax && ascandata[iPos + 3] <= threshValue)\\r\\n                    {\\r\\n                        indexofCrossPoint = iPos + 3;\\r\\n                        bHasFound = true;\\r\\n                        break;\\r\\n                    }\\r\\n                }\\r\\n            }//*/\\r\\n\\r\\n            if (!bHasFound) //如果没找到符合条件的值，则返回FSF闸门中间点的下标 \\r\\n            {\\r\\n                indexofCrossPoint = gateStartNum;//相对于起点，这是绝对位置\\r\\n            }\\r\\n            return indexofCrossPoint;\\r\\n        }\\r\\n\\r\\n        /// <summary>\\r\\n        /// 查找闸门内的相对位置,第1个相交点\\r\\n        /// </summary>\\r\\n        /// <param name=\"threshValue\"></param>\\r\\n        /// <param name=\"gateLengthNum\"></param>\\r\\n        /// <param name=\"gateStartNum\"></param>\\r\\n        /// <param name=\"isPositiveThresh\"></param>\\r\\n        /// <param name=\"ascandata\"></param>\\r\\n        /// <returns></returns>\\r\\n        public static int FindFirstPostionRelativeInGate(int threshValue, int gateLengthNum, int gateStartNum, bool isPositiveThresh, byte[] ascandata)\\r\\n        {\\r\\n            // 定义循环变量\\r\\n            int iPos = 0;\\r\\n            bool bHasFound = false;\\r\\n\\r\\n\\r\\n            if (ascandata == null)\\r\\n            {\\r\\n                return 0;\\r\\n            }\\r\\n\\r\\n\\r\\n\\r\\n            if (isPositiveThresh)//正向阈值\\r\\n            {\\r\\n                for (iPos = gateStartNum; iPos < Math.Min(gateStartNum + gateLengthNum, ascandata.Length); iPos++)\\r\\n                {\\r\\n                    if (ascandata[iPos] >= threshValue)\\r\\n                    {\\r\\n                        bHasFound = true;\\r\\n                        break;\\r\\n                    }\\r\\n                }\\r\\n            }\\r\\n            else//负向阈值\\r\\n            {\\r\\n                for (iPos = gateStartNum; iPos < Math.Min(gateStartNum + gateLengthNum, ascandata.Length); iPos++)\\r\\n                {\\r\\n                    if (ascandata[iPos] <= threshValue)\\r\\n                    {\\r\\n                        bHasFound = true;\\r\\n                        break;\\r\\n                    }\\r\\n                }\\r\\n            }\\r\\n\\r\\n            if (!bHasFound) //如果没找到符合条件的值，则返回FSF闸门0 \\r\\n            {\\r\\n                iPos = gateStartNum;//相对于起点，这是绝对位置\\r\\n            }\\r\\n            return iPos - gateStartNum;\\r\\n        }\\r\\n\\r\\n        /// <summary>\\r\\n        /// 计算耦合剂/(水)的深度\\r\\n        /// </summary>\\r\\n        /// <param name=\"threshValue\"></param>\\r\\n        /// <param name=\"v\"></param>\\r\\n        /// <param name=\"timeLen\"></param>\\r\\n        /// <param name=\"ascandata\"></param>\\r\\n        /// <returns></returns>\\r\\n        public static double CalCouplantDepth(LockGate FSFGate, double v, double timeLen, double timedelay, byte[] ascandata)\\r\\n        {\\r\\n            int indexStartWave = FSFGate.m_GateStartNum;\\r\\n            //int indexSufaceWave = FSFGate.m_GateStartNum;\\r\\n            for (; indexStartWave < ascandata.Length; indexStartWave++)\\r\\n            {\\r\\n                if (ascandata[indexStartWave] >= FSFGate.ThreshAMP)\\r\\n                {\\r\\n                    break;\\r\\n                }\\r\\n            }\\r\\n            //for (; indexSufaceWave < Math.Min(FSFGate.m_GateStartNum + FSFGate.m_GateLengthNum, ascandata.Length); indexSufaceWave++)\\r\\n            //{\\r\\n            //    if (ascandata[indexSufaceWave] >= FSFGate.ThreshAMP)\\r\\n            //    {\\r\\n            //        break;\\r\\n            //    }\\r\\n\\r\\n            //}\\r\\n            return (Math.Abs(indexStartWave) * timeLen / ascandata.Length + timedelay) * v / 2;\\r\\n        }\\r\\n\\r\\n        /// <summary>\\r\\n        /// 数据值转成颜色值\\r\\n        /// </summary>\\r\\n        /// <param name=\"data\"></param>\\r\\n        public static Color DataToColor(double data, DrawImageStyle drawImageStyle, ColorBarControlSmall colorBar, WaveDataStyle wd, bool sign = true)\\r\\n        {\\r\\n            int res = 0;\\r\\n            if (!sign)\\r\\n            {\\r\\n                res = NumConversionTo256(data, wd);\\r\\n            }\\r\\n            else\\r\\n            {\\r\\n                res = (int)data;\\r\\n            }\\r\\n\\r\\n            if (drawImageStyle == DrawImageStyle.Gray)\\r\\n            {\\r\\n                return Color.FromArgb(res, res, res);\\r\\n            }\\r\\n            else\\r\\n            {\\r\\n                res *= 2;\\r\\n\\r\\n                if (res < 0)\\r\\n                {\\r\\n                    res = 0;\\r\\n                }\\r\\n                else\\r\\n                {\\r\\n                    if (res < 1)\\r\\n                    {\\r\\n                        res = 1;\\r\\n                    }\\r\\n                    if (res > 511)\\r\\n                    {\\r\\n                        res = 511;\\r\\n                    }\\r\\n                }\\r\\n\\r\\n                //Color colorRet = Color.FromArgb(ColorBarControlSmall.m_CColorData.m_ColorTab[res]);\\r\\n                Color colorRet = Color.FromArgb(colorBar.m_CColorData.m_ColorTab[res]);\\r\\n                return colorRet;\\r\\n            }\\r\\n        }\\r\\n\\r\\n        /// <summary>\\r\\n        /// 计算颜色\\r\\n        /// </summary>\\r\\n        /// <param name=\"data\"></param>\\r\\n        /// <param name=\"drawImageStyle\"></param>\\r\\n        /// <param name=\"m_ColorTab\"></param>\\r\\n        /// <param name=\"wd\"></param>\\r\\n        /// <param name=\"sign\"></param>\\r\\n        /// <returns></returns>\\r\\n        public static int DataToColorForInt(double data, DrawImageStyle drawImageStyle, int[] m_ColorTab, WaveDataStyle wd, bool sign = true)\\r\\n        {\\r\\n            int res = 0;\\r\\n            if (!sign)\\r\\n            {\\r\\n                res = NumConversionTo256(data, wd);\\r\\n            }\\r\\n            else\\r\\n            {\\r\\n                res = (int)data;\\r\\n            }\\r\\n\\r\\n            if (drawImageStyle == DrawImageStyle.Gray)\\r\\n            {\\r\\n                return Color.FromArgb(res, res, res).ToArgb();\\r\\n            }\\r\\n            else\\r\\n            {\\r\\n                res *= 2;\\r\\n\\r\\n\\r\\n                if (res < 0)\\r\\n                {\\r\\n                    res = 0;\\r\\n                }\\r\\n                if (res > 511)\\r\\n                {\\r\\n                    res = 511;\\r\\n                }\\r\\n\\r\\n                //Color colorRet = Color.FromArgb(ColorBarControlSmall.m_CColorData.m_ColorTab[res]);\\r\\n                int colorRet = m_ColorTab[res];\\r\\n                return colorRet;\\r\\n            }\\r\\n        }\\r\\n      \\r\\n\\r\\n        public static int DataToColorForInt(double data, DrawImageStyle drawImageStyle, ColorBarControlSmall colorBar, WaveDataStyle wd, bool sign = true)\\r\\n        {\\r\\n            int res = 0;\\r\\n            if (!sign)\\r\\n            {\\r\\n                res = NumConversionTo256(data, wd);\\r\\n            }\\r\\n            else\\r\\n            {\\r\\n                res = (int)data;\\r\\n            }\\r\\n\\r\\n            if (drawImageStyle == DrawImageStyle.Gray)\\r\\n            {\\r\\n                return Color.FromArgb(res, res, res).ToArgb();\\r\\n            }\\r\\n            else\\r\\n            {\\r\\n                res *= 2;\\r\\n\\r\\n\\r\\n                if (res < 0)\\r\\n                {\\r\\n                    res = 0;\\r\\n                }\\r\\n                if (res > 511)\\r\\n                {\\r\\n                    res = 511;\\r\\n                }\\r\\n\\r\\n                //Color colorRet = Color.FromArgb(ColorBarControlSmall.m_CColorData.m_ColorTab[res]);\\r\\n                int colorRet = colorBar.m_CColorData.m_ColorTab[res];\\r\\n                return colorRet;\\r\\n            }\\r\\n        }\\r\\n\\r\\n\\r\\n        public static void OutOldColorBar()\\r\\n        {\\r\\n            double step = 0.25 / 63.75;\\r\\n            int R = 0, G = 0, B = 0;\\r\\n            double VoltageScope = 1.0;\\r\\n            for (double data = 0; data <= 1; data += step)\\r\\n            {\\r\\n\\r\\n                if (data <= 0)\\r\\n                    R = G = B = 0;\\r\\n                else if (data <= VoltageScope / 4)\\r\\n                {\\r\\n                    R = G = 0;\\r\\n                    B = Functions.RoundToInt(data * 255 * 4 / VoltageScope);\\r\\n                }\\r\\n\\r\\n                else if (data <= VoltageScope / 2)\\r\\n                {\\r\\n                    R = 0;\\r\\n                    G = Functions.RoundToInt((data - VoltageScope / 4) * 255 * 4 / VoltageScope);\\r\\n                    B = Functions.RoundToInt(255 - (data - VoltageScope / 4) * 255 * 4 / VoltageScope);\\r\\n                }\\r\\n\\r\\n                else if (data <= VoltageScope * 3 / 4)\\r\\n                {\\r\\n                    R = Functions.RoundToInt((data - VoltageScope / 2) * 255 * 4 / VoltageScope);\\r\\n                    G = 255;\\r\\n                    B = 0;\\r\\n                }\\r\\n\\r\\n                else if (data <= VoltageScope)\\r\\n                {\\r\\n                    R = 255;\\r\\n                    G = Functions.RoundToInt(255 - (data - VoltageScope * 3 / 4) * 255 * 4 / VoltageScope);\\r\\n                    B = 0;\\r\\n                }\\r\\n\\r\\n                else\\r\\n                {\\r\\n                    R = 255;\\r\\n                    G = 0;\\r\\n                    B = 0;\\r\\n                }\\r\\n            }\\r\\n        }\\r\\n\\r\\n\\r\\n\\r\\n        /// <summary>\\r\\n        /// 根据数据的最大、最小值，来调整数据的大小，用Ai = (Ai - min) / (max - min)来替代原来的值，可达到提高对比度的作用 \\r\\n        /// </summary>\\r\\n        /// <param name=\"data\"></param>\\r\\n        /// <param name=\"m_GateMode\"></param>\\r\\n        /// <param name=\"m_MaxVoltage\"></param>\\r\\n        /// <returns></returns>\\r\\n        public static double[] AdjustPeakData(double[] data, int scanNum, int indexNum, AmplitudeMode m_GateMode, double m_MaxVoltage, WaveDataStyle wd)\\r\\n        {\\r\\n            int iLen = scanNum * indexNum;\\r\\n            double[] result = new double[iLen];\\r\\n            double min, max;\\r\\n            min = double.MaxValue;\\r\\n            max = double.MinValue;\\r\\n\\r\\n            for (int i = 0; i < iLen; i++) //先找到最大、最小值\\r\\n            {\\r\\n                if (data[i] > max)\\r\\n                {\\r\\n                    max = data[i];\\r\\n                }\\r\\n                if (data[i] < min)\\r\\n                {\\r\\n                    min = data[i];\\r\\n                }\\r\\n            }\\r\\n\\r\\n\\r\\n            double valZone = max - min;\\r\\n            for (int i = 0; i < iLen; i++)\\r\\n            {\\r\\n                result[i] = NumConversionTo256((data[i] - min) * m_MaxVoltage / valZone, wd);\\r\\n            }\\r\\n            return result;\\r\\n        }\\r\\n        /// <summary>\\r\\n        /// 检查打开数据是否正确\\r\\n        /// </summary>\\r\\n        /// <param name=\"config\"></param>\\r\\n        /// <returns></returns>\\r\\n        public static bool CheckFileFormat(Config config, int ishowChanNo)\\r\\n        {\\r\\n            if (config.m_DataGateList.Count <= 0 || config.m_DataGateList.Count > 10)//数据格式不对\\r\\n            {\\r\\n                return false;\\r\\n            }\\r\\n            for (int i = 0; i < config.m_DataGateList.Count; i++)\\r\\n            {\\r\\n                if (config.m_DataGateList[i].m_GateLength <= 0.01 || config.m_DataGateList[i].m_GateLength > 1000)\\r\\n                {\\r\\n                    return false;\\r\\n                }\\r\\n                if (config.m_DataGateList[i].m_GateStart < 0)\\r\\n                {\\r\\n                    return false;\\r\\n                }\\r\\n                if (config.m_DataGateList[i].m_Threshold < 0 || config.m_DataGateList[i].m_Threshold > 1)\\r\\n                {\\r\\n                    return false;\\r\\n                }\\r\\n            }\\r\\n            if (config.m_FSFGate.m_GateIsActived)\\r\\n            {\\r\\n                if (config.m_FSFGate.m_GateLength <= 0.01 || config.m_FSFGate.m_GateLength > 1000)\\r\\n                {\\r\\n                    return false;\\r\\n                }\\r\\n                if (config.m_FSFGate.m_GateStart < 0)\\r\\n                {\\r\\n                    return false;\\r\\n                }\\r\\n                if (config.m_FSFGate.m_Threshold < 0 || config.m_FSFGate.m_Threshold > 1)\\r\\n                {\\r\\n                    return false;\\r\\n                }\\r\\n            }\\r\\n            if (config.m_ScanNum <= 0\\r\\n                   || config.m_ScanNum <= 0\\r\\n                   || config.m_IndexNum <= 0\\r\\n                   || config.m_IndexNum <= 0\\r\\n                   )//数据格式不对\\r\\n            {\\r\\n                return false;\\r\\n            }\\r\\n\\r\\n            if (ishowChanNo != 0)\\r\\n            {\\r\\n                return false;\\r\\n            }\\r\\n\\r\\n\\r\\n            //if (StaticParas.glConfig.m_AscanLength <= 0 )//数据格式不对\\r\\n            //{\\r\\n            //    return false;\\r\\n            //}\\r\\n\\r\\n            return true;\\r\\n        }\\r\\n\\r\\n\\r\\n        ///// <summary>\\r\\n        ///// 读取新版数据文件\\r\\n        ///// </summary>\\r\\n        ///// <param name=\"sFile\">数据文件名</param>\\r\\n        //public static bool ReadNewVersionData(String sFile, ref int iShowChannelNo, ref int offsetToZero, ref Config config, ref List<byte[]> oneChannelData, ref List<byte[,]> notfulldata)\\r\\n        //{\\r\\n        //    try\\r\\n        //    {\\r\\n        //        iShowChannelNo = 0;\\r\\n        //        config = new Config();\\r\\n\\r\\n\\r\\n        //        Stream stream = File.Open(sFile, FileMode.Open);\\r\\n        //        BinaryReader br = new BinaryReader(stream);\\r\\n        //        int version = br.ReadInt16();//内部版本号，暂时用1,表示版本1,整型\\r\\n        //        config.m_Frequency = br.ReadInt32(); //采样频率\\r\\n        //        offsetToZero = br.ReadInt32();      //偏移量\\r\\n        //        config.m_FSFGate.m_iUseBottomWave = br.ReadInt32(); //同步闸门是否底波\\r\\n        //                                                            //StaticParas.glConfig.m_MaxVoltage = br.ReadDouble(); //电压最大值\\r\\n        //        config.m_TimeDelay = br.ReadDouble();      //延迟时间\\r\\n        //        config.m_TimeLength = br.ReadDouble();     //采样长度    \\r\\n        //                                                   //PCIe9802SImport.offsetToZero = br.ReadInt32();            //偏移量\\r\\n        //                                                   //跟踪闸门参数\\r\\n        //        config.m_FSFGate.m_GateIsActived = br.ReadBoolean();// 读取同步闸门是否启用\\r\\n\\r\\n\\r\\n\\r\\n        //        config.m_FSFGate.m_GateStart = br.ReadDouble();\\r\\n        //        config.m_FSFGate.m_GateLength = br.ReadDouble();\\r\\n        //        config.m_FSFGate.m_Threshold = br.ReadDouble();\\r\\n        //        if (!config.m_FSFGate.m_GateIsActived)\\r\\n        //        {\\r\\n        //            config.m_FSFGate.m_GateStart = 0;\\r\\n        //            config.m_FSFGate.m_GateLength = 0;\\r\\n        //            config.m_FSFGate.m_Threshold = 0;\\r\\n        //        }\\r\\n\\r\\n        //        // ===================  ediy by camellia 20190815  ===========================\\r\\n        //        config.m_FullWaveFlag = br.ReadBoolean();\\r\\n        //        // 读取闸门数量\\r\\n        //        int iGateDataNum = br.ReadInt32();\\r\\n\\r\\n        //        for (int i = 0; i < iGateDataNum; i++)\\r\\n        //        {\\r\\n        //            // 添加一套闸门参数\\r\\n        //            config.m_DataGateList.Add(new LockGate());\\r\\n        //            // 数据闸门参数\\r\\n        //            config.m_DataGateList[i].m_GateStart = br.ReadDouble();\\r\\n        //            config.m_DataGateList[i].m_GateLength = br.ReadDouble();\\r\\n        //            config.m_DataGateList[i].m_Threshold = br.ReadDouble();\\r\\n        //            config.m_DataGateList[i].m_GateMode = (AmplitudeMode)br.ReadInt32();\\r\\n        //            // colorbar索引\\r\\n        //            config.colorBarArray[i] = br.ReadInt32();\\r\\n        //            // colorbar上限\\r\\n        //            config.colorBarUpValueArray[i] = br.ReadInt32();\\r\\n        //            // colorbar下限\\r\\n        //            config.colorBarDownValueArray[i] = br.ReadInt32();\\r\\n\\r\\n\\r\\n\\r\\n\\r\\n\\r\\n\\r\\n        //        }\\r\\n\\r\\n        //        // 扫查参数\\r\\n        //        config.m_ScanWidth = br.ReadDouble();\\r\\n        //        config.m_IndexWidth = br.ReadDouble();\\r\\n        //        config.m_ScanResolution = br.ReadDouble();\\r\\n        //        config.m_IndexResolution = br.ReadDouble();\\r\\n\\r\\n\\r\\n        //        // 读入扫查行、列数\\r\\n        //        config.m_ScanNum = br.ReadInt32();\\r\\n        //        config.m_IndexNum = br.ReadInt32();\\r\\n\\r\\n        //        // A扫描长度\\r\\n        //        config.m_AscanLength = br.ReadInt32();\\r\\n        //        // 每个通道有多少A扫描\\r\\n        //        int OneChannelAscanNum = br.ReadInt32();\\r\\n        //        // 通道对应数（1,2,3,4,5,6,7,8）\\r\\n        //        iShowChannelNo = br.ReadInt32();\\r\\n        //        // 所有备用量\\r\\n        //        StaticParas.comments = new string[8] { \"\", \"\", \"\", \"\", \"\", \"\", \"\", \"\" };\\r\\n        //        string strcomment = br.ReadString();\\r\\n        //        string[] arrcomment = strcomment.Split(\\',\\');\\r\\n        //        for (int i = 0; i < arrcomment.Length; i++)\\r\\n        //        {\\r\\n        //            StaticParas.comments[i] = arrcomment[i];\\r\\n        //        }\\r\\n\\r\\n        //        if (string.IsNullOrEmpty(StaticParas.comments[2]))\\r\\n        //        {\\r\\n        //            config.m_RulerUnit = RulerUnit.us;\\r\\n        //        }\\r\\n        //        else\\r\\n        //        {\\r\\n        //            config.m_RulerUnit = (RulerUnit)Convert.ToInt32(StaticParas.comments[2]);\\r\\n        //        }\\r\\n        //        if (string.IsNullOrEmpty(StaticParas.comments[3]))\\r\\n        //        {\\r\\n        //            config.m_WaveStyle = WaveStyle.longi;\\r\\n        //        }\\r\\n        //        else\\r\\n        //        {\\r\\n        //            config.m_WaveStyle = (WaveStyle)Convert.ToInt32(StaticParas.comments[3]);\\r\\n        //        }\\r\\n        //        if (string.IsNullOrEmpty(StaticParas.comments[4]))\\r\\n        //        {\\r\\n        //            config.m_MaterialVel = 1.48;\\r\\n        //        }\\r\\n        //        else\\r\\n        //        {\\r\\n        //            config.m_MaterialVel = Convert.ToDouble(StaticParas.comments[4]);\\r\\n        //        }\\r\\n        //        if (string.IsNullOrEmpty(StaticParas.comments[5]))\\r\\n        //        {\\r\\n        //            config.m_DepthTimeLength = 0;\\r\\n        //        }\\r\\n        //        else\\r\\n        //        {\\r\\n        //            config.m_DepthTimeLength = Convert.ToDouble(StaticParas.comments[5]);\\r\\n        //        }\\r\\n        //        if (string.IsNullOrEmpty(StaticParas.comments[6]))\\r\\n        //        {\\r\\n        //            StaticParas.glSignalSrc = 1;\\r\\n        //        }\\r\\n        //        else\\r\\n        //        {\\r\\n        //            StaticParas.glSignalSrc = Convert.ToInt32(StaticParas.comments[6]);\\r\\n        //        }\\r\\n        //        if (string.IsNullOrEmpty(StaticParas.comments[7]))\\r\\n        //        {\\r\\n        //            config.m_WaveDataStyle = WaveDataStyle.RF;\\r\\n        //        }\\r\\n        //        else\\r\\n        //        {\\r\\n        //            config.m_WaveDataStyle = (WaveDataStyle)Convert.ToInt32(StaticParas.comments[7]);\\r\\n        //        }\\r\\n        //        // 读取备用量\\r\\n        //        //for (int i = 0; i < 6; i++)\\r\\n        //        //{\\r\\n        //        //    StaticParas.comments[i] = br.ReadString();\\r\\n        //        //}\\r\\n        //        //config.m_RulerUnit = (RulerUnit)Convert.ToInt32(StaticParas.comments[1]);\\r\\n        //        //config.m_WaveStyle = (WaveStyle)Convert.ToInt32(StaticParas.comments[2]);\\r\\n        //        //config.transWave = Convert.ToDouble(StaticParas.comments[3]);\\r\\n        //        //config.longiWave = Convert.ToDouble(StaticParas.comments[4]);\\r\\n\\r\\n        //        // 读入全波数据\\r\\n        //        oneChannelData = new List<byte[]>();\\r\\n        //        // 读入数据\\r\\n        //        if (config.m_FullWaveFlag)\\r\\n        //        {\\r\\n        //            for (int i = 0; i < OneChannelAscanNum; i++)\\r\\n        //            {\\r\\n        //                // 存储一个A扫描的数组\\r\\n        //                //byte[] oneAscanData = new byte[StaticParas.glConfig.m_AscanLength];\\r\\n        //                byte[] oneAscanData = null;// new byte[StaticParas.glConfig.m_AscanLength];\\r\\n        //                oneAscanData = br.ReadBytes(config.m_AscanLength);\\r\\n        //                oneChannelData.Add(oneAscanData);\\r\\n\\r\\n        //            }\\r\\n        //        }\\r\\n        //        else\\r\\n        //        {\\r\\n        //            // 读入非全波数据=====未修改（新的数据格式）\\r\\n        //            notfulldata = new List<byte[ ,]>();\\r\\n                   \\r\\n        //            for (int i = 0; i < config.m_ScanNum; i++)\\r\\n        //            {\\r\\n        //                byte[,] tmpIndexData = new byte[config.m_IndexNum, iGateDataNum * 2];\\r\\n        //                for (int j = 0; j < config.m_IndexNum; j++)\\r\\n        //                {\\r\\n        //                    for (int k = 0; k < iGateDataNum * 2; k++)\\r\\n        //                    {\\r\\n        //                        tmpIndexData[ j, k] = br.ReadByte();\\r\\n        //                    }\\r\\n        //                }\\r\\n        //                notfulldata.Add(tmpIndexData);\\r\\n        //            }\\r\\n        //        }\\r\\n\\r\\n\\r\\n        //        br.Close();\\r\\n        //        stream.Close();\\r\\n        //        return CheckFileFormat(config, iShowChannelNo);\\r\\n        //    }\\r\\n        //    catch (Exception ex)\\r\\n        //    {\\r\\n        //        Console.WriteLine(ex.ToString());\\r\\n        //        config.colorBarDownValueArray[0] = 377;\\r\\n        //        config.colorBarUpValueArray[0] = 0;\\r\\n        //        Console.WriteLine(\"文件读取失败，请重试\");\\r\\n        //        //LoadingHelper.CloseForm();//关闭\\r\\n        //        return false;\\r\\n        //    }\\r\\n\\r\\n        //}\\r\\n\\r\\n        /// <summary>\\r\\n        /// 读取非全波+一个A信号文件\\r\\n        /// </summary>\\r\\n        /// <param name=\"sFile\">数据文件名</param>\\r\\n        public static bool ReadNewVersionData(String sFile, bool isfullshow, ref int iShowChannelNo, ref int offsetToZero, ref Config config, ref List<byte[]> oneChannelData, ref List<byte[,]> notfulldata)\\r\\n        {\\r\\n            try\\r\\n            {\\r\\n                iShowChannelNo = 0;\\r\\n                config = new Config();\\r\\n\\r\\n\\r\\n                Stream stream = File.Open(sFile, FileMode.Open);\\r\\n                BinaryReader br = new BinaryReader(stream);\\r\\n                int version = br.ReadInt16();//内部版本号，暂时用1,表示版本1,整型\\r\\n                config.m_Frequency = br.ReadInt32(); //采样频率\\r\\n                offsetToZero = br.ReadInt32();      //偏移量\\r\\n                config.m_FSFGate.m_iUseBottomWave = br.ReadInt32(); //同步闸门是否底波\\r\\n                                                                    //StaticParas.glConfig.m_MaxVoltage = br.ReadDouble(); //电压最大值\\r\\n                config.m_TimeDelay = br.ReadDouble();      //延迟时间\\r\\n                config.m_TimeLength = br.ReadDouble();     //采样长度    \\r\\n                                                           //PCIe9802SImport.offsetToZero = br.ReadInt32();            //偏移量\\r\\n                                                           //跟踪闸门参数\\r\\n                config.m_FSFGate.m_GateIsActived = br.ReadBoolean();// 读取同步闸门是否启用\\r\\n\\r\\n\\r\\n\\r\\n                config.m_FSFGate.m_GateStart = br.ReadDouble();\\r\\n                config.m_FSFGate.m_GateLength = br.ReadDouble();\\r\\n                config.m_FSFGate.m_Threshold = br.ReadDouble();\\r\\n                if (!config.m_FSFGate.m_GateIsActived)\\r\\n                {\\r\\n                    config.m_FSFGate.m_GateStart = 0;\\r\\n                    config.m_FSFGate.m_GateLength = 0;\\r\\n                    config.m_FSFGate.m_Threshold = 0;\\r\\n                }\\r\\n\\r\\n                // ===================  ediy by camellia 20190815  ===========================\\r\\n                config.m_FullWaveFlag = br.ReadBoolean();\\r\\n                // 读取闸门数量\\r\\n                int iGateDataNum = br.ReadInt32();\\r\\n\\r\\n                for (int i = 0; i < iGateDataNum; i++)\\r\\n                {\\r\\n                    // 添加一套闸门参数\\r\\n                    config.m_DataGateList.Add(new LockGate());\\r\\n                    // 数据闸门参数\\r\\n                    config.m_DataGateList[i].m_GateStart = br.ReadDouble();\\r\\n                    config.m_DataGateList[i].m_GateLength = br.ReadDouble();\\r\\n                    config.m_DataGateList[i].m_Threshold = br.ReadDouble();\\r\\n                    config.m_DataGateList[i].m_GateMode = (AmplitudeMode)br.ReadInt32();\\r\\n                    // colorbar索引\\r\\n                    config.colorBarArray[i] = br.ReadInt32();\\r\\n                    // colorbar上限\\r\\n                    config.colorBarUpValueArray[i] = br.ReadInt32();\\r\\n                    // colorbar下限\\r\\n                    config.colorBarDownValueArray[i] = br.ReadInt32();\\r\\n\\r\\n\\r\\n\\r\\n\\r\\n\\r\\n\\r\\n                }\\r\\n\\r\\n                // 扫查参数\\r\\n                config.m_ScanWidth = br.ReadDouble();\\r\\n                config.m_IndexWidth = br.ReadDouble();\\r\\n                config.m_ScanResolution = br.ReadDouble();\\r\\n                config.m_IndexResolution = br.ReadDouble();\\r\\n\\r\\n\\r\\n                // 读入扫查行、列数\\r\\n                config.m_ScanNum = br.ReadInt32();\\r\\n                config.m_IndexNum = br.ReadInt32();\\r\\n\\r\\n                // A扫描长度\\r\\n                config.m_AscanLength = br.ReadInt32();\\r\\n                // 每个通道有多少A扫描\\r\\n                int OneChannelAscanNum = br.ReadInt32();\\r\\n                config.m_ActualCollAScanNum = (ulong)OneChannelAscanNum;\\r\\n\\r\\n                // 通道对应数（1,2,3,4,5,6,7,8）\\r\\n                iShowChannelNo = br.ReadInt32();\\r\\n                // 所有备用量\\r\\n                StaticParas.comments = new string[8] { \"\", \"\", \"\", \"\", \"\", \"\", \"\", \"\" };\\r\\n                string strcomment = br.ReadString();\\r\\n                string[] arrcomment = strcomment.Split(\\',\\');\\r\\n                for (int i = 0; i < arrcomment.Length; i++)\\r\\n                {\\r\\n                    StaticParas.comments[i] = arrcomment[i];\\r\\n                }\\r\\n\\r\\n                if (string.IsNullOrEmpty(StaticParas.comments[2]))\\r\\n                {\\r\\n                    config.m_RulerUnit = RulerUnit.us;\\r\\n                }\\r\\n                else\\r\\n                {\\r\\n                    config.m_RulerUnit = (RulerUnit)Convert.ToInt32(StaticParas.comments[2]);\\r\\n                }\\r\\n                if (string.IsNullOrEmpty(StaticParas.comments[3]))\\r\\n                {\\r\\n                    config.m_WaveStyle = WaveStyle.longi;\\r\\n                }\\r\\n                else\\r\\n                {\\r\\n                    config.m_WaveStyle = (WaveStyle)Convert.ToInt32(StaticParas.comments[3]);\\r\\n                }\\r\\n                if (string.IsNullOrEmpty(StaticParas.comments[4]))\\r\\n                {\\r\\n                    config.m_MaterialVel = 1.48;\\r\\n                }\\r\\n                else\\r\\n                {\\r\\n                    config.m_MaterialVel = Convert.ToDouble(StaticParas.comments[4]);\\r\\n                }\\r\\n                if (string.IsNullOrEmpty(StaticParas.comments[5]))\\r\\n                {\\r\\n                    config.m_DepthTimeLength = 0;\\r\\n                }\\r\\n                else\\r\\n                {\\r\\n                    config.m_DepthTimeLength = Convert.ToDouble(StaticParas.comments[5]);\\r\\n                }\\r\\n                //if (string.IsNullOrEmpty(StaticParas.comments[6]))\\r\\n                //{\\r\\n                //    StaticParas.glSignalSrc = 1;\\r\\n                //}\\r\\n                //else\\r\\n                //{\\r\\n                //    StaticParas.glSignalSrc = Convert.ToInt32(StaticParas.comments[6]);\\r\\n                //}\\r\\n                if (string.IsNullOrEmpty(StaticParas.comments[7]))\\r\\n                {\\r\\n                    config.m_WaveDataStyle = WaveDataStyle.RF;\\r\\n                }\\r\\n                else\\r\\n                {\\r\\n                    config.m_WaveDataStyle = (WaveDataStyle)Convert.ToInt32(StaticParas.comments[7]);\\r\\n                }\\r\\n                // 读取备用量\\r\\n                //for (int i = 0; i < 6; i++)\\r\\n                //{\\r\\n                //    StaticParas.comments[i] = br.ReadString();\\r\\n                //}\\r\\n                //config.m_RulerUnit = (RulerUnit)Convert.ToInt32(StaticParas.comments[1]);\\r\\n                //config.m_WaveStyle = (WaveStyle)Convert.ToInt32(StaticParas.comments[2]);\\r\\n                //config.transWave = Convert.ToDouble(StaticParas.comments[3]);\\r\\n                //config.longiWave = Convert.ToDouble(StaticParas.comments[4]);\\r\\n\\r\\n                // 读入全波数据\\r\\n                oneChannelData = new List<byte[]>();\\r\\n                // 读入数据\\r\\n                if (config.m_FullWaveFlag)\\r\\n                {\\r\\n                    if (!isfullshow)\\r\\n                    {\\r\\n                        //1 读非全波数据\\r\\n                        notfulldata = new List<byte[,]>();\\r\\n\\r\\n                        for (int i = 0; i < config.m_ScanNum; i++)\\r\\n                        {\\r\\n                            byte[,] tmpIndexData = new byte[config.m_IndexNum, iGateDataNum * 2];\\r\\n                            for (int j = 0; j < config.m_IndexNum; j++)\\r\\n                            {\\r\\n                                for (int k = 0; k < iGateDataNum * 2; k++)\\r\\n                                {\\r\\n                                    tmpIndexData[j, k] = br.ReadByte();\\r\\n                                }\\r\\n                            }\\r\\n                            notfulldata.Add(tmpIndexData);\\r\\n                        }\\r\\n\\r\\n\\r\\n                        //2 读取一个A信号，0,0\\r\\n                        byte[] oneAscanData = null;// new byte[StaticParas.glConfig.m_AscanLength];\\r\\n                        oneAscanData = br.ReadBytes(config.m_AscanLength);\\r\\n                        oneChannelData.Add(oneAscanData);\\r\\n                    }\\r\\n                    else\\r\\n                    {\\r\\n                        for (int i = 0; i < OneChannelAscanNum; i++)\\r\\n                        {\\r\\n                            // 存储一个A扫描的数组\\r\\n                            //byte[] oneAscanData = new byte[StaticParas.glConfig.m_AscanLength];\\r\\n                            byte[] oneAscanData = null;// new byte[StaticParas.glConfig.m_AscanLength];\\r\\n                            oneAscanData = br.ReadBytes(config.m_AscanLength);\\r\\n                            oneChannelData.Add(oneAscanData);\\r\\n\\r\\n                        }\\r\\n                    }\\r\\n\\r\\n                }\\r\\n                else\\r\\n                {\\r\\n                    // 读入非全波数据=====未修改（新的数据格式）\\r\\n                    notfulldata = new List<byte[,]>();\\r\\n                    for (int i = 0; i < config.m_ScanNum; i++)\\r\\n                    {\\r\\n                        byte[,] tmpIndexData = new byte[config.m_IndexNum, iGateDataNum * 2];\\r\\n                        for (int j = 0; j < config.m_IndexNum; j++)\\r\\n                        {\\r\\n                            for (int k = 0; k < iGateDataNum * 2; k++)\\r\\n                            {\\r\\n                                tmpIndexData[j, k] = br.ReadByte();\\r\\n                            }\\r\\n                        }\\r\\n                        notfulldata.Add(tmpIndexData);\\r\\n                    }\\r\\n\\r\\n\\r\\n                }\\r\\n\\r\\n\\r\\n                br.Close();\\r\\n                stream.Close();\\r\\n                return CheckFileFormat(config, iShowChannelNo);\\r\\n            }\\r\\n            catch (Exception ex)\\r\\n            {\\r\\n                Console.WriteLine(ex.ToString());\\r\\n                config.colorBarDownValueArray[0] = 377;\\r\\n                config.colorBarUpValueArray[0] = 0;\\r\\n                Console.WriteLine(\"文件读取失败，请重试\");\\r\\n                //LoadingHelper.CloseForm();//关闭\\r\\n                return false;\\r\\n            }\\r\\n\\r\\n        }\\r\\n\\r\\n        /// <summary>\\r\\n        /// 读取全波文件\\r\\n        /// </summary>\\r\\n        public static bool ReadNewVersionData(String sFile, bool isfullshow, StatusStrip status, ToolStripStatusLabel toollabel, ref int iShowChannelNo, ref int offsetToZero, ref Config config, ref List<byte[]> oneChannelData, ref List<byte[,]> notfulldata, ref bool isReadOk)\\r\\n        {\\r\\n            try\\r\\n            {\\r\\n                isReadOk = false;\\r\\n                iShowChannelNo = 0;\\r\\n                config = new Config();\\r\\n\\r\\n\\r\\n\\r\\n\\r\\n                Stream stream = File.Open(sFile, FileMode.Open);\\r\\n                BinaryReader br = new BinaryReader(stream);\\r\\n                int version = br.ReadInt16();//内部版本号，暂时用1,表示版本1,整型\\r\\n                config.m_Frequency = br.ReadInt32(); //采样频率\\r\\n                offsetToZero = br.ReadInt32();      //偏移量\\r\\n                config.m_FSFGate.m_iUseBottomWave = br.ReadInt32(); //同步闸门是否底波\\r\\n                                                                    //StaticParas.glConfig.m_MaxVoltage = br.ReadDouble(); //电压最大值\\r\\n                config.m_TimeDelay = br.ReadDouble();      //延迟时间\\r\\n                config.m_TimeLength = br.ReadDouble();     //采样长度    \\r\\n                                                           //PCIe9802SImport.offsetToZero = br.ReadInt32();            //偏移量\\r\\n                                                           //跟踪闸门参数\\r\\n                config.m_FSFGate.m_GateIsActived = br.ReadBoolean();// 读取同步闸门是否启用\\r\\n\\r\\n\\r\\n\\r\\n                config.m_FSFGate.m_GateStart = br.ReadDouble();\\r\\n                config.m_FSFGate.m_GateLength = br.ReadDouble();\\r\\n                config.m_FSFGate.m_Threshold = br.ReadDouble();\\r\\n                if (!config.m_FSFGate.m_GateIsActived)\\r\\n                {\\r\\n                    config.m_FSFGate.m_GateStart = 0;\\r\\n                    config.m_FSFGate.m_GateLength = 0;\\r\\n                    config.m_FSFGate.m_Threshold = 0;\\r\\n                }\\r\\n\\r\\n                // ===================  ediy by camellia 20190815  ===========================\\r\\n                config.m_FullWaveFlag = br.ReadBoolean();\\r\\n                // 读取闸门数量\\r\\n                int iGateDataNum = br.ReadInt32();\\r\\n\\r\\n                for (int i = 0; i < iGateDataNum; i++)\\r\\n                {\\r\\n                    // 添加一套闸门参数\\r\\n                    config.m_DataGateList.Add(new LockGate());\\r\\n                    // 数据闸门参数\\r\\n                    config.m_DataGateList[i].m_GateStart = br.ReadDouble();\\r\\n                    config.m_DataGateList[i].m_GateLength = br.ReadDouble();\\r\\n                    config.m_DataGateList[i].m_Threshold = br.ReadDouble();\\r\\n                    config.m_DataGateList[i].m_GateMode = (AmplitudeMode)br.ReadInt32();\\r\\n                    // colorbar索引\\r\\n                    config.colorBarArray[i] = br.ReadInt32();\\r\\n                    // colorbar上限\\r\\n                    config.colorBarUpValueArray[i] = br.ReadInt32();\\r\\n                    // colorbar下限\\r\\n                    config.colorBarDownValueArray[i] = br.ReadInt32();\\r\\n\\r\\n                }\\r\\n\\r\\n                // 扫查参数\\r\\n                config.m_ScanWidth = br.ReadDouble();\\r\\n                config.m_IndexWidth = br.ReadDouble();\\r\\n                config.m_ScanResolution = br.ReadDouble();\\r\\n                config.m_IndexResolution = br.ReadDouble();\\r\\n\\r\\n\\r\\n                // 读入扫查行、列数\\r\\n                config.m_ScanNum = br.ReadInt32();\\r\\n                config.m_IndexNum = br.ReadInt32();\\r\\n\\r\\n                // A扫描长度\\r\\n                config.m_AscanLength = br.ReadInt32();\\r\\n                // 每个通道有多少A扫描\\r\\n                int OneChannelAscanNum = br.ReadInt32();\\r\\n                config.m_ActualCollAScanNum = (ulong)OneChannelAscanNum;\\r\\n                // 通道对应数（1,2,3,4,5,6,7,8）\\r\\n                iShowChannelNo = br.ReadInt32();\\r\\n                // 所有备用量\\r\\n                StaticParas.comments = new string[8] { \"\", \"\", \"\", \"\", \"\", \"\", \"\", \"\" };\\r\\n                string strcomment = br.ReadString();\\r\\n                string[] arrcomment = strcomment.Split(\\',\\');\\r\\n                for (int i = 0; i < arrcomment.Length; i++)\\r\\n                {\\r\\n                    StaticParas.comments[i] = arrcomment[i];\\r\\n                }\\r\\n\\r\\n                if (string.IsNullOrEmpty(StaticParas.comments[2]))\\r\\n                {\\r\\n                    config.m_RulerUnit = RulerUnit.us;\\r\\n                }\\r\\n                else\\r\\n                {\\r\\n                    config.m_RulerUnit = (RulerUnit)Convert.ToInt32(StaticParas.comments[2]);\\r\\n                }\\r\\n                if (string.IsNullOrEmpty(StaticParas.comments[3]))\\r\\n                {\\r\\n                    config.m_WaveStyle = WaveStyle.longi;\\r\\n                }\\r\\n                else\\r\\n                {\\r\\n                    config.m_WaveStyle = (WaveStyle)Convert.ToInt32(StaticParas.comments[3]);\\r\\n                }\\r\\n                if (string.IsNullOrEmpty(StaticParas.comments[4]))\\r\\n                {\\r\\n                    config.m_MaterialVel = 1.48;\\r\\n                }\\r\\n                else\\r\\n                {\\r\\n                    config.m_MaterialVel = Convert.ToDouble(StaticParas.comments[4]);\\r\\n                }\\r\\n                if (string.IsNullOrEmpty(StaticParas.comments[5]))\\r\\n                {\\r\\n                    config.m_DepthTimeLength = 0;\\r\\n                }\\r\\n                else\\r\\n                {\\r\\n                    config.m_DepthTimeLength = Convert.ToDouble(StaticParas.comments[5]);\\r\\n                }\\r\\n                //if (string.IsNullOrEmpty(StaticParas.comments[6]))\\r\\n                //{\\r\\n                //    StaticParas.glSignalSrc = 1;\\r\\n                //}\\r\\n                //else\\r\\n                //{\\r\\n                //    StaticParas.glSignalSrc = Convert.ToInt32(StaticParas.comments[6]);\\r\\n                //}\\r\\n                if (string.IsNullOrEmpty(StaticParas.comments[7]))\\r\\n                {\\r\\n                    config.m_WaveDataStyle = WaveDataStyle.RF;\\r\\n                }\\r\\n                else\\r\\n                {\\r\\n                    config.m_WaveDataStyle = (WaveDataStyle)Convert.ToInt32(StaticParas.comments[7]);\\r\\n                }\\r\\n                // 读取备用量\\r\\n                //for (int i = 0; i < 6; i++)\\r\\n                //{\\r\\n                //    StaticParas.comments[i] = br.ReadString();\\r\\n                //}\\r\\n                //config.m_RulerUnit = (RulerUnit)Convert.ToInt32(StaticParas.comments[1]);\\r\\n                //config.m_WaveStyle = (WaveStyle)Convert.ToInt32(StaticParas.comments[2]);\\r\\n                //config.transWave = Convert.ToDouble(StaticParas.comments[3]);\\r\\n                //config.longiWave = Convert.ToDouble(StaticParas.comments[4]);\\r\\n\\r\\n                // 读入全波数据\\r\\n                oneChannelData = new List<byte[]>();\\r\\n                // 读入数据\\r\\n                if (config.m_FullWaveFlag)\\r\\n                {\\r\\n                    if (!isfullshow)\\r\\n                    {\\r\\n                        //1 读非全波数据\\r\\n                        notfulldata = new List<byte[,]>();\\r\\n                        for (int i = 0; i < config.m_ScanNum; i++)\\r\\n                        {\\r\\n                            byte[,] tmpIndexData = new byte[config.m_IndexNum, iGateDataNum * 2];\\r\\n                            for (int j = 0; j < config.m_IndexNum; j++)\\r\\n                            {\\r\\n                                for (int k = 0; k < iGateDataNum * 2; k++)\\r\\n                                {\\r\\n                                    tmpIndexData[j, k] = br.ReadByte();\\r\\n                                }\\r\\n                            }\\r\\n                            notfulldata.Add(tmpIndexData);\\r\\n                        }\\r\\n                        //2 读取一个A信号，0,0\\r\\n                        byte[] oneAscanData = null;// new byte[StaticParas.glConfig.m_AscanLength];\\r\\n                        oneAscanData = br.ReadBytes(config.m_AscanLength);\\r\\n                        oneChannelData.Add(oneAscanData);\\r\\n                    }\\r\\n                    else\\r\\n                    {\\r\\n                        for (int i = 0; i < OneChannelAscanNum; i++)\\r\\n                        {\\r\\n                            // 存储一个A扫描的数组\\r\\n                            //byte[] oneAscanData = new byte[StaticParas.glConfig.m_AscanLength];\\r\\n                            byte[] oneAscanData = null;// new byte[StaticParas.glConfig.m_AscanLength];\\r\\n                            oneAscanData = br.ReadBytes(config.m_AscanLength);\\r\\n                            oneChannelData.Add(oneAscanData);\\r\\n                            // 刷新扫查进度条\\r\\n                            //progress.ProgressBar.Invoke(new Action(() =>\\r\\n                            //{\\r\\n                            //    progress.Value = (int)Math.Floor(Math.Round(((double)i / (OneChannelAscanNum - 1) * 100), 2));\\r\\n                            //}));\\r\\n                        }\\r\\n                    }\\r\\n\\r\\n                }\\r\\n                else\\r\\n                {\\r\\n                    // 读入非全波数据=====未修改（新的数据格式）\\r\\n                    notfulldata = new List<byte[,]>();\\r\\n                    for (int i = 0; i < config.m_ScanNum; i++)\\r\\n                    {\\r\\n                        byte[,] tmpIndexData = new byte[config.m_IndexNum, iGateDataNum * 2];\\r\\n                        for (int j = 0; j < config.m_IndexNum; j++)\\r\\n                        {\\r\\n                            for (int k = 0; k < iGateDataNum * 2; k++)\\r\\n                            {\\r\\n                                tmpIndexData[j, k] = br.ReadByte();\\r\\n                            }\\r\\n                        }\\r\\n                        notfulldata.Add(tmpIndexData);\\r\\n                    }\\r\\n                }\\r\\n\\r\\n\\r\\n                br.Close();\\r\\n                stream.Close();\\r\\n                isReadOk = true;\\r\\n                if (isReadOk)\\r\\n                {\\r\\n                    status.Invoke(new Action(() =>\\r\\n                    {\\r\\n                        toollabel.Text = \"已完成\";\\r\\n                    }));\\r\\n                }\\r\\n                return CheckFileFormat(config, iShowChannelNo);\\r\\n            }\\r\\n            catch (Exception ex)\\r\\n            {\\r\\n                Console.WriteLine(ex.ToString());\\r\\n                config.colorBarDownValueArray[0] = 377;\\r\\n                config.colorBarUpValueArray[0] = 0;\\r\\n                Console.WriteLine(\"文件读取失败，请重试\");\\r\\n                //LoadingHelper.CloseForm();//关闭\\r\\n                return false;\\r\\n            }\\r\\n\\r\\n        }\\r\\n\\r\\n\\r\\n\\r\\n\\r\\n        ///// <summary>\\r\\n        ///// 保存全波/非全波文件\\r\\n        ///// </summary>\\r\\n        ///// <param name=\"sFile\">文件名</param>\\r\\n        ///// <param name=\"colorBarArray\">colorbar</param>\\r\\n        ///// <param name=\"OneChannelData\">一个通道的全部A扫描数据</param>\\r\\n        ///// <param name=\"index\">通道数</param>\\r\\n        //public static void SaveDatafileWithNewVersion(string sFile, Config config, List<byte[]> OneChannelData, int index)\\r\\n        //{\\r\\n        //    int saveIndexNum = StaticParas.Pre_IndexNum;\\r\\n        //    int[] colorBarArray = config.colorBarArray;\\r\\n        //    //文件格式依次为：内部版本号，...\\r\\n        //    Stream stream = File.Open(sFile, FileMode.Create);\\r\\n        //    BinaryWriter bw = new BinaryWriter(stream);\\r\\n\\r\\n        //    bw.Write((Int16)1);//内部版本号，暂时用1,表示版本1,整型\\r\\n\\r\\n        //    ///写入Config对象\\r\\n        //    bw.Write(config.m_Frequency); //采样频率\\r\\n        //    bw.Write(config.offsetToZero);       //偏移量\\r\\n        //    bw.Write(config.m_FSFGate.m_iUseBottomWave);        //同步闸门是否底波\\r\\n        //    //bw.Write(StaticParas.glConfig.m_MaxVoltage); //电压最大值\\r\\n        //    bw.Write(config.m_TimeDelay);      //延迟时间\\r\\n        //    bw.Write(config.m_TimeLength);     //采样长度 \\r\\n        //                                       // bw.Write(PCIe9802SImport.offsetToZero);       //偏移量\\r\\n        //                                       //跟踪闸门参数\\r\\n        //    bw.Write(config.m_FSFGate.m_GateIsActived);//闸门是否启用\\r\\n        //    bw.Write(config.m_FSFGate.m_GateStart);\\r\\n        //    bw.Write(config.m_FSFGate.m_GateLength);\\r\\n        //    bw.Write(config.m_FSFGate.m_Threshold);\\r\\n        //    //数据闸门参数\\r\\n        //    // ================== 20190704 editby gc  ==========================================\\r\\n        //    // 可能有多套数据闸门。存数据的时候，需要存储一个闸门数量。存储1和2。当有两套数据闸门参数，那么就存储两套数据。\\r\\n        //    // 读取数据时，根据读取到的闸门数量，来判定如何读取文件\\r\\n        //    // 数据闸门参数列表的数数量\\r\\n\\r\\n        //    if (config.m_DataGateList.Count == 0)\\r\\n        //    {\\r\\n        //        MessageBox.Show(\"保存失败，数据格式错误，请重试\");\\r\\n        //        return;\\r\\n        //    }\\r\\n        //    // 全波标记 \\r\\n        //    bw.Write(config.m_FullWaveFlag);\\r\\n        //    // 数据闸门数量写入\\r\\n        //    bw.Write(config.m_DataGateList.Count);\\r\\n        //    // 数据闸门参数写入\\r\\n        //    for (int i = 0; i < config.m_DataGateList.Count; i++)\\r\\n        //    {\\r\\n        //        //数据闸门参数\\r\\n        //        bw.Write(config.m_DataGateList[i].m_GateStart);\\r\\n        //        bw.Write(config.m_DataGateList[i].m_GateLength);\\r\\n        //        bw.Write(config.m_DataGateList[i].m_Threshold);\\r\\n\\r\\n        //        bw.Write(colorBarArray[i]);//colorbar的序号\\r\\n        //        bw.Write(config.colorBarUpValueArray[i]);//上限\\r\\n        //        bw.Write(config.colorBarDownValueArray[i]);//下限\\r\\n\\r\\n\\r\\n        //    }\\r\\n\\r\\n        //    // ================== 20190704 editby gc end ========================================\\r\\n        //    //扫查参数\\r\\n        //    bw.Write(config.m_ScanWidth);\\r\\n        //    bw.Write(config.m_IndexWidth);\\r\\n        //    bw.Write(config.m_ScanResolution);\\r\\n        //    bw.Write(config.m_IndexResolution);\\r\\n        //    //bw.Write(StaticParas.glConfig.m_ScanSpeed);\\r\\n        //    //bw.Write(StaticParas.glConfig.m_IndexSpeed);\\r\\n\\r\\n\\r\\n        //    ///写入扫查行、列数\\r\\n        //    bw.Write(config.m_ScanNum);\\r\\n        //    bw.Write(saveIndexNum);\\r\\n\\r\\n        //    // 一个A扫描长度\\r\\n        //    bw.Write(config.m_AscanLength);\\r\\n        //    int AscanLengthNum = OneChannelData.Count;\\r\\n        //    //for (int i = 0; i < OneChannelData.Count; i++)\\r\\n        //    //{\\r\\n        //    //    if (OneChannelData[i].Length != 0)\\r\\n        //    //    {\\r\\n        //    //        AscanLengthNum++;\\r\\n        //    //    }\\r\\n        //    //}\\r\\n        //    // 每个通道有多少A扫描\\r\\n        //    bw.Write(AscanLengthNum);\\r\\n        //    // 通道数写入\\r\\n        //    bw.Write(index);\\r\\n        //    // 写入备用量\\r\\n\\r\\n        //    List<string> comments = new List<string>();\\r\\n        //    comments.Add(StaticParas.glConfig.m_ScanningAxis);\\r\\n        //    comments.Add(StaticParas.glConfig.m_IndexAxis);\\r\\n        //    comments.Add(Convert.ToInt32(config.m_RulerUnit).ToString());\\r\\n        //    comments.Add(Convert.ToInt32(config.m_WaveStyle).ToString());\\r\\n        //    comments.Add(config.m_MaterialVel.ToString());\\r\\n        //    comments.Add(config.m_DepthTimeLength.ToString());\\r\\n        //    comments.Add(StaticParas.glSignalSrc.ToString());\\r\\n        //    comments.Add(Convert.ToInt32(config.m_WaveDataStyle).ToString());\\r\\n\\r\\n        //    string strcomments = string.Join(\",\", comments.ToArray());\\r\\n        //    bw.Write(strcomments);\\r\\n\\r\\n        //    ///写入全波数据\\r\\n        //    if (config.m_FullWaveFlag)\\r\\n        //    {\\r\\n        //        //写入全波数据\\r\\n        //        for (int i = 0; i < OneChannelData.Count; i++)\\r\\n        //        {\\r\\n        //            bw.Write(OneChannelData[i]);\\r\\n        //            //bw.Write(GZip.Compress(OneChannelData[i]));\\r\\n        //            //for (int j = 0; j < OneChannelData[i].Length; j++)\\r\\n        //            //{\\r\\n        //            //    bw.Write(OneChannelData[i][j]);\\r\\n        //            //}\\r\\n        //        }\\r\\n        //    }\\r\\n        //    else\\r\\n        //    {\\r\\n        //        //写入C扫描（非全波）数据\\r\\n        //        for (int i = 0; i < config.m_ScanNum; i++)\\r\\n        //        {\\r\\n        //            for (int j = 0; j < saveIndexNum; j++)\\r\\n        //            {\\r\\n        //                for (int k = 0; k < config.m_DataGateList.Count * 2; k++)\\r\\n        //                {\\r\\n        //                    bw.Write(StaticParas.glData[i][ j, k]);\\r\\n        //                }\\r\\n        //            }\\r\\n        //        }\\r\\n        //    }\\r\\n        //    bw.Close();\\r\\n        //    stream.Close();\\r\\n        //}\\r\\n        //public static void SaveAllDatafileWithNewVersion(string sFile, Config config, List<byte[]> OneChannelData, int index, bool isshowfull)\\r\\n        //{\\r\\n        //    int saveIndexNum = StaticParas.Pre_IndexNum;\\r\\n        //    int[] colorBarArray = config.colorBarArray;\\r\\n\\r\\n        //    if (File.Exists(sFile))\\r\\n        //    {\\r\\n        //        File.Delete(sFile); //文件已存在，则先删除原有文件\\r\\n        //    }\\r\\n        //    //文件格式依次为：内部版本号，...\\r\\n        //    Stream stream = File.Open(sFile, FileMode.Create);\\r\\n        //    // 设置隐藏文件\\r\\n        //    if (!isshowfull && config.m_FullWaveFlag)\\r\\n        //    {\\r\\n        //        File.SetAttributes(sFile, FileAttributes.Hidden);\\r\\n        //    }\\r\\n        //    BinaryWriter bw = new BinaryWriter(stream);\\r\\n\\r\\n        //    bw.Write((Int16)1);//内部版本号，暂时用1,表示版本1,整型\\r\\n\\r\\n        //    ///写入Config对象\\r\\n        //    bw.Write(config.m_Frequency); //采样频率\\r\\n        //    bw.Write(config.offsetToZero);       //偏移量\\r\\n        //    bw.Write(config.m_FSFGate.m_iUseBottomWave);        //同步闸门是否底波\\r\\n        //    //bw.Write(StaticParas.glConfig.m_MaxVoltage); //电压最大值\\r\\n        //    bw.Write(config.m_TimeDelay);      //延迟时间\\r\\n        //    bw.Write(config.m_TimeLength);     //采样长度 \\r\\n        //                                       // bw.Write(PCIe9802SImport.offsetToZero);       //偏移量\\r\\n        //                                       //跟踪闸门参数\\r\\n        //    bw.Write(config.m_FSFGate.m_GateIsActived);//闸门是否启用\\r\\n        //    bw.Write(config.m_FSFGate.m_GateStart);\\r\\n        //    bw.Write(config.m_FSFGate.m_GateLength);\\r\\n        //    bw.Write(config.m_FSFGate.m_Threshold);\\r\\n        //    //数据闸门参数\\r\\n        //    // ================== 20190704 editby gc  ==========================================\\r\\n        //    // 可能有多套数据闸门。存数据的时候，需要存储一个闸门数量。存储1和2。当有两套数据闸门参数，那么就存储两套数据。\\r\\n        //    // 读取数据时，根据读取到的闸门数量，来判定如何读取文件\\r\\n        //    // 数据闸门参数列表的数数量\\r\\n\\r\\n        //    if (config.m_DataGateList.Count == 0)\\r\\n        //    {\\r\\n        //        MessageBox.Show(\"保存失败，数据格式错误，请重试\");\\r\\n        //        return;\\r\\n        //    }\\r\\n        //    // 全波标记 \\r\\n        //    bw.Write(config.m_FullWaveFlag);\\r\\n\\r\\n        //    // 数据闸门数量写入\\r\\n        //    bw.Write(config.m_DataGateList.Count);\\r\\n        //    // 数据闸门参数写入\\r\\n        //    for (int i = 0; i < config.m_DataGateList.Count; i++)\\r\\n        //    {\\r\\n        //        //数据闸门参数\\r\\n        //        bw.Write(config.m_DataGateList[i].m_GateStart);\\r\\n        //        bw.Write(config.m_DataGateList[i].m_GateLength);\\r\\n        //        bw.Write(config.m_DataGateList[i].m_Threshold);\\r\\n        //        bw.Write((int)config.m_DataGateList[i].m_GateMode);\\r\\n\\r\\n        //        bw.Write(colorBarArray[i]);//colorbar的序号\\r\\n        //        bw.Write(config.colorBarUpValueArray[i]);//上限\\r\\n        //        bw.Write(config.colorBarDownValueArray[i]);//下限\\r\\n        //    }\\r\\n\\r\\n        //    // ================== 20190704 editby gc end ========================================\\r\\n        //    //扫查参数\\r\\n        //    bw.Write(config.m_ScanWidth);\\r\\n        //    bw.Write(config.m_IndexWidth);\\r\\n        //    bw.Write(config.m_ScanResolution);\\r\\n        //    bw.Write(config.m_IndexResolution);\\r\\n        //    //bw.Write(StaticParas.glConfig.m_ScanSpeed);\\r\\n        //    //bw.Write(StaticParas.glConfig.m_IndexSpeed);\\r\\n\\r\\n\\r\\n        //    ///写入扫查行、列数\\r\\n        //    bw.Write(config.m_ScanNum);\\r\\n        //    bw.Write(saveIndexNum);\\r\\n\\r\\n        //    // 一个A扫描长度\\r\\n        //    bw.Write(config.m_AscanLength);\\r\\n        //    int AscanLengthNum = (int)config.m_ActualCollAScanNum;// OneChannelData.Count;\\r\\n        //    //for (int i = 0; i < OneChannelData.Count; i++)\\r\\n        //    //{\\r\\n        //    //    if (OneChannelData[i].Length != 0)\\r\\n        //    //    {\\r\\n        //    //        AscanLengthNum++;\\r\\n        //    //    }\\r\\n        //    //}\\r\\n        //    // 每个通道有多少A扫描\\r\\n        //    bw.Write(AscanLengthNum);\\r\\n        //    // 通道数写入\\r\\n        //    List<string> comments = new List<string>();\\r\\n        //    comments.Add(StaticParas.glConfig.m_ScanningAxis);\\r\\n        //    comments.Add(StaticParas.glConfig.m_IndexAxis);\\r\\n        //    comments.Add(Convert.ToInt32(config.m_RulerUnit).ToString());\\r\\n        //    comments.Add(Convert.ToInt32(config.m_WaveStyle).ToString());\\r\\n        //    comments.Add(config.m_MaterialVel.ToString());\\r\\n        //    comments.Add(config.m_DepthTimeLength.ToString());\\r\\n        //    comments.Add(StaticParas.glSignalSrc.ToString());\\r\\n        //    comments.Add(Convert.ToInt32(config.m_WaveDataStyle).ToString());\\r\\n\\r\\n        //    string strcomments = string.Join(\",\", comments.ToArray());\\r\\n\\r\\n        //    bw.Write(strcomments.Length);//写入字符串长度，以备其他使用\\r\\n        //    // 写入备用量\\r\\n        //    bw.Write(strcomments);\\r\\n\\r\\n        //    ///写入全波数据\\r\\n        //    if (config.m_FullWaveFlag)\\r\\n        //    {\\r\\n        //        if (!isshowfull)\\r\\n        //        {\\r\\n        //            //写入C扫描（非全波）数据\\r\\n        //            for (int i = 0; i < config.m_ScanNum; i++)\\r\\n        //            {\\r\\n        //                for (int j = 0; j < saveIndexNum; j++)\\r\\n        //                {\\r\\n        //                    for (int k = 0; k < config.m_DataGateList.Count * 2; k++)\\r\\n        //                    {\\r\\n        //                        bw.Write(StaticParas.glData[i][ j, k]);\\r\\n        //                    }\\r\\n        //                }\\r\\n        //            }\\r\\n        //            // 写入第一个A信号\\r\\n        //            bw.Write(OneChannelData[0]);\\r\\n        //        }\\r\\n        //        else\\r\\n        //        {\\r\\n        //            //写入全波数据\\r\\n        //            for (int i = 0; i < OneChannelData.Count; i++)\\r\\n        //            {\\r\\n        //                bw.Write(OneChannelData[i]);\\r\\n        //                //bw.Write(GZip.Compress(OneChannelData[i]));\\r\\n        //                //for (int j = 0; j < OneChannelData[i].Length; j++)\\r\\n        //                //{\\r\\n        //                //    bw.Write(OneChannelData[i][j]);\\r\\n        //                //}\\r\\n        //            }\\r\\n        //        }\\r\\n        //    }\\r\\n        //    else\\r\\n        //    {\\r\\n        //        //写入C扫描（非全波）数据\\r\\n        //        for (int i = 0; i < config.m_ScanNum; i++)\\r\\n        //        {\\r\\n        //            for (int j = 0; j < saveIndexNum; j++)\\r\\n        //            {\\r\\n        //                for (int k = 0; k < config.m_DataGateList.Count * 2; k++)\\r\\n        //                {\\r\\n        //                    bw.Write(StaticParas.glData[i][ j, k]);\\r\\n        //                }\\r\\n        //            }\\r\\n        //        }\\r\\n        //    }\\r\\n        //    bw.Close();\\r\\n        //    stream.Close();\\r\\n        //}\\r\\n\\r\\n        /// <summary>\\r\\n        /// 取闸门内的绝对峰值\\r\\n        /// </summary>\\r\\n        /// <param name=\"currAScanData\">当前的AScan数据</param>\\r\\n        /// <param name=\"curFSFFirstPosition\">同步闸门位置</param>\\r\\n        /// <param name=\"thresholdFSF\">同步闸门的阈值</param>\\r\\n        /// <param name=\"gateStartNumFSF\">同步闸门的起始位置</param>\\r\\n        /// <param name=\"gateLengthNumFSF\">同步闸门的长度</param>\\r\\n        /// <param name=\"gateStartNum\">数据闸门开始位置</param>\\r\\n        /// <param name=\"gateLengthNum\">数据闸门长度</param>\\r\\n        /// <param name=\"maxVoltage\">最大电压</param>\\r\\n        /// <param name=\"thresholdData\">数据闸门阈值</param>\\r\\n        /// <param name=\"maxAMP\">最大幅值</param>\\r\\n        /// <returns></returns>\\r\\n        public static double GetAbsPeakValueInGate(byte[] currAScanData, int curFSFFirstPosition, LockGate FSFGate, int gateStartNum, int gateLengthNum, double maxVoltage, double thresholdData, int maxAMP)\\r\\n        {\\r\\n            double temp, tempMax, tempMin;\\r\\n            temp = 0;\\r\\n            tempMax = 0;\\r\\n            tempMin = 0;\\r\\n            double thresholdFSF = FSFGate.m_Threshold;\\r\\n            int gateStartNumFSF = FSFGate.m_GateStartNum;\\r\\n            int gateLengthNumFSF = FSFGate.m_GateLengthNum;\\r\\n\\r\\n            // (X,Y)转换成一维\\r\\n\\r\\n\\r\\n            //确保数据闸门的实际起始位置在窗口中\\r\\n            if ((curFSFFirstPosition + gateStartNum) < 0)\\r\\n            {\\r\\n                gateStartNum = -curFSFFirstPosition;\\r\\n            }\\r\\n            int lengthNum = 0;\\r\\n            if ((curFSFFirstPosition + gateStartNum + gateLengthNum) > currAScanData.Length)\\r\\n            {\\r\\n                lengthNum = currAScanData.Length;\\r\\n            }\\r\\n            else\\r\\n            {\\r\\n                lengthNum = (curFSFFirstPosition + gateStartNum + gateLengthNum);\\r\\n            }\\r\\n\\r\\n            for (int k = curFSFFirstPosition + gateStartNum; k < lengthNum; k++) //查找门限中的负向幅值和正向幅值及其到达时间\\r\\n            {\\r\\n                int currndex = k;\\r\\n                if (currAScanData[currndex] > 8191) //此时数据值为负\\r\\n                {\\r\\n                    //temp = ((double)allData[indexOfAscan, indexOfBScan, k] - 256) * maxVoltage / 128;\\r\\n                    temp = ((double)currAScanData[currndex] - maxAMP) * maxVoltage / (maxAMP / 2);\\r\\n                    if (temp < tempMin && temp < -thresholdData)\\r\\n                    {\\r\\n                        tempMin = temp;\\r\\n                    }\\r\\n                }\\r\\n                else\\r\\n                {\\r\\n                    temp = (double)currAScanData[currndex] * maxVoltage / (maxAMP / 2);\\r\\n                    if (temp > tempMax && temp > thresholdData)\\r\\n                    {\\r\\n                        tempMax = temp;\\r\\n                    }\\r\\n                }\\r\\n            }\\r\\n            double absMin = Math.Abs(tempMin);\\r\\n            if (absMin > tempMax)\\r\\n            {\\r\\n                return absMin;\\r\\n            }\\r\\n            else\\r\\n            {\\r\\n                return tempMax;\\r\\n            }\\r\\n        }\\r\\n\\r\\n        /// <summary>\\r\\n        /// 取(i, j)处的A扫信号中闸门内首次到达value值的时间（整型数组下标）,i为行，j为列。\\r\\n        /// 如果没找到符合条件的值，则返回最大时间点的下标\\r\\n        /// </summary>\\r\\n        /// <param name=\"indexOfAscan\"></param>\\r\\n        /// <param name=\"indexOfBScan\"></param>\\r\\n        /// <param name=\"value\"></param>\\r\\n        /// <param name=\"curFSFFirstPosition\"></param>\\r\\n        /// <param name=\"currPointX\"></param>\\r\\n        /// <param name=\"currPointY\"></param>\\r\\n        /// <param name=\"thresholdFSF\"></param>\\r\\n        /// <param name=\"gateStartNumFSF\"></param>\\r\\n        /// <param name=\"gateLengthNumFSF\"></param>\\r\\n        /// <param name=\"allData\"></param>\\r\\n        /// <param name=\"gateStartNum\"></param>\\r\\n        /// <param name=\"gateLengthNum\"></param>\\r\\n        /// <param name=\"maxVoltage\"></param>\\r\\n        /// <param name=\"bHasFound\"></param>\\r\\n        /// <returns></returns>\\r\\n        public static int FindValueInGate(double value, int curFSFFirstPosition, LockGate FSFGate, byte[] allData, int gateStartNum, int gateLengthNum, double maxVoltage, int maxAMP, out bool bHasFound)\\r\\n        {\\r\\n            int iTOF;\\r\\n            bHasFound = false;\\r\\n            double temp = 0;\\r\\n\\r\\n            if ((curFSFFirstPosition + gateStartNum) < 0) //确保数据闸门的实际起始位置在窗口中\\r\\n            {\\r\\n                gateStartNum = -curFSFFirstPosition;\\r\\n            }\\r\\n            int lengthNum = (curFSFFirstPosition + gateStartNum + gateLengthNum) > allData.GetLength(0) ? allData.GetLength(0) : (curFSFFirstPosition + gateStartNum + gateLengthNum);\\r\\n            for (iTOF = curFSFFirstPosition + gateStartNum; iTOF < lengthNum; iTOF++) //查找门限中的负向幅值和正向幅值及其到达时间\\r\\n            {\\r\\n                int currndex = iTOF;\\r\\n                if (allData[currndex] > 8191) //此时数据值为负\\r\\n                {\\r\\n                    temp = (8191 - (double)allData[currndex]) * maxVoltage / (maxAMP / 2);\\r\\n                }\\r\\n                else\\r\\n                {\\r\\n                    temp = (double)allData[currndex] * maxVoltage / (maxAMP / 2);\\r\\n                }\\r\\n                if (value < 0)\\r\\n                {\\r\\n                    if (temp <= value)\\r\\n                    {\\r\\n                        bHasFound = true;\\r\\n                        break;\\r\\n                    }\\r\\n                }\\r\\n                else\\r\\n                {\\r\\n                    if (temp >= value)\\r\\n                    {\\r\\n                        bHasFound = true;\\r\\n                        break;\\r\\n                    }\\r\\n                }\\r\\n            }\\r\\n            if (bHasFound == false)\\r\\n            {\\r\\n                iTOF = lengthNum - 1; //如果没找到符合条件的值，则返回最大时间点的下标            \\r\\n            }\\r\\n            return iTOF;\\r\\n        }\\r\\n        /// <summary>\\r\\n        /// 计算一个A信号的频谱\\r\\n        /// </summary>\\r\\n        /// <param name=\"frequecy\"></param>\\r\\n        /// <param name=\"AscanData\"></param>\\r\\n        /// <returns></returns>\\r\\n        public static double[] CalculateFFT(double[] AscanData)\\r\\n        {\\r\\n            //s1:求A信号中的平均值\\r\\n            double Avg = 0;\\r\\n            int AscanPoints = AscanData.Length;\\r\\n\\r\\n            for (int k = 0; k < AscanPoints; k++)\\r\\n            {\\r\\n                Avg += AscanData[k];\\r\\n            }\\r\\n            Avg = Avg / AscanPoints;\\r\\n            //s2:去直流分量\\r\\n            double[] data_ascan = new double[AscanPoints];\\r\\n\\r\\n            for (int k = 0; k < AscanPoints; k++)\\r\\n            {\\r\\n                data_ascan[k] = AscanData[k] - Avg;\\r\\n                if (data_ascan[k] > StaticParas.glRDDataCard.MAX_AMP_V / 2 - 1)\\r\\n                {\\r\\n                    data_ascan[k] = StaticParas.glRDDataCard.MAX_AMP_V / 2 - 1;\\r\\n                }\\r\\n                if (data_ascan[k] < -StaticParas.glRDDataCard.MAX_AMP_V / 2)\\r\\n                {\\r\\n                    data_ascan[k] = -StaticParas.glRDDataCard.MAX_AMP_V / 2;\\r\\n                }\\r\\n\\r\\n                data_ascan[k] /= StaticParas.glRDDataCard.MAX_AMP_V / 2;\\r\\n            }\\r\\n\\r\\n            double[] image = new double[data_ascan.Length];\\r\\n            double[] spectrum = new double[data_ascan.Length];\\r\\n\\r\\n            MathNet.Numerics.IntegralTransforms.Fourier.Forward(data_ascan, image);\\r\\n            int index = 0;\\r\\n            foreach (double re in data_ascan)\\r\\n            {\\r\\n                double im = image[index];\\r\\n                spectrum[index] = Math.Sqrt(re * re + im * im);\\r\\n                index++;\\r\\n            }\\r\\n\\r\\n\\r\\n\\r\\n            //  FftAlgorithm.Calculate(data_ascan); //进行FFT转换\\r\\n\\r\\n\\r\\n            //MaxSpectrum = spectrum.Max(); //最大频谱值\\r\\n            //MinSpectrum = spectrum.Min(); //最小频谱值\\r\\n\\r\\n            return spectrum;\\r\\n        }\\r\\n\\r\\n        /// <summary>\\r\\n        /// 数据闸门内的幅值平均值\\r\\n        /// </summary>\\r\\n        /// <param name=\"iStart\"></param>\\r\\n        /// <param name=\"lengthNum\"></param>\\r\\n        /// <param name=\"AScanData\"></param>\\r\\n        /// <returns></returns>\\r\\n        public static double CalclatMeanOfAScan(int iStart, int lengthNum, byte[] AScanData)\\r\\n        {\\r\\n            long v = 0;\\r\\n            int actualLen = Math.Min(iStart + lengthNum, AScanData.Length);\\r\\n            for (int i = iStart; i < actualLen; i++)\\r\\n            {\\r\\n                v += AScanData[i];\\r\\n            }\\r\\n            return (v * 1.0 / actualLen);\\r\\n        }\\r\\n        /// <summary>\\r\\n        /// 积分成像\\r\\n        /// </summary>\\r\\n        /// <param name=\"m_IndexNum\"></param>\\r\\n        /// <param name=\"m_ScanNum\"></param>\\r\\n        /// <param name=\"m_PeakData\"></param>\\r\\n        /// <param name=\"FSFGate\"></param>\\r\\n        /// <param name=\"dataGate\"></param>\\r\\n        /// <param name=\"ascanData\"></param>\\r\\n        /// <param name=\"m_GateMode\"></param>\\r\\n        /// <param name=\"m_bmpCscan\"></param>\\r\\n        /// <param name=\"m_DrawImageStyle\"></param>\\r\\n        /// <param name=\"colorBar\"></param>\\r\\n        /// <param name=\"computeFreq\"></param>\\r\\n        /// <param name=\"displayFreq\"></param>\\r\\n        /// <param name=\"maxAMP\"></param>\\r\\n        /// <param name=\"wd\"></param>\\r\\n        public static void DrawMeanValueImage(\\r\\n             int m_IndexNum\\r\\n           , int m_ScanNum\\r\\n           , double[] m_PeakData\\r\\n           , LockGate FSFGate\\r\\n           , LockGate dataGate\\r\\n           , List<byte[]> ascanData\\r\\n           , AmplitudeMode m_GateMode\\r\\n           , Bitmap m_bmpCscan\\r\\n           , DrawImageStyle m_DrawImageStyle\\r\\n           , ColorBarControlSmall colorBar\\r\\n           , int maxAMP\\r\\n           , WaveDataStyle wd\\r\\n           , int offset\\r\\n           )\\r\\n        {\\r\\n\\r\\n               \\r\\n            //, int totalChannum\\r\\n            //, int averageValue\\r\\n            //, WaveDataStyle wd\\r\\n            //)\\r\\n\\r\\n            int m_GateLengthNum = dataGate.m_GateLengthNum;\\r\\n            int m_GateStartNum = dataGate.m_GateStartNum;\\r\\n            double m_ThresholdFSF = FSFGate.m_Threshold;\\r\\n            int m_GateStartNumFSF = FSFGate.m_GateStartNum;\\r\\n            int m_GateLengthNumFSF = FSFGate.m_GateLengthNum;\\r\\n            double m_ThresholdData = dataGate.m_Threshold;\\r\\n            //for (int j = 0; j < m_IndexNum; j++)\\r\\n            //for (int k = 0; k < m_IndexNum* m_ScanNum; k++)\\r\\n            //  int k = 0;\\r\\n\\r\\n            // Stopwatch sw = new Stopwatch();\\r\\n            //  sw.Start();\\r\\n            // System.Threading.Tasks.Parallel.ForEach(ascanData, (adata, state1) =>\\r\\n            Parallel.For(0, ascanData.Count, (k, loopState) =>\\r\\n\\r\\n            //foreach (byte[] adata in ascanData)\\r\\n            {\\r\\n                byte[] adata = ascanData[k];\\r\\n                //for (int i = 0; i < m_ScanNum; i++)\\r\\n                {\\r\\n                    int i = k % m_ScanNum;\\r\\n                    int j = k / m_ScanNum;\\r\\n                    int indexofAScan = k;//j * m_ScanNum + i;\\r\\n\\r\\n                    if (indexofAScan > ascanData.Count - 1 || adata.Length <= 0)\\r\\n                    {\\r\\n                        m_PeakData[indexofAScan] = 0;\\r\\n                        //loopState.Break();\\r\\n                        //loopState.Stop();\\r\\n                        //break;\\r\\n                    }\\r\\n                    else\\r\\n                    {\\r\\n                        // 取得同步闸门起点\\r\\n                        int curFSFFirstPosition = 0;\\r\\n                        if (FSFGate.m_GateIsActived)\\r\\n                        {\\r\\n                            curFSFFirstPosition = CScanPicFunction.FindFirstPostionInFSFGate(\\r\\n                                  FSFGate.ThreshAMP //阈值对应的正向幅值\\r\\n                                , FSFGate.m_GateLengthNum//同步闸门的长度\\r\\n                                , FSFGate.m_GateStartNum//同步闸门的开始位置,信号的下标\\r\\n                                , FSFGate.isPositiveThresh//正向阈值\\r\\n                                , adata\\r\\n                                , wd\\r\\n                                , offset\\r\\n                                , maxAMP\\r\\n                                );\\r\\n                        }\\r\\n                        //确保数据闸门的实际起始位置在窗口中\\r\\n                        if ((curFSFFirstPosition + m_GateStartNum) < 0)\\r\\n                        {\\r\\n                            m_GateStartNum = -curFSFFirstPosition;\\r\\n                        }\\r\\n                        int lengthNum = 0;\\r\\n                        if ((curFSFFirstPosition + FSFGate.m_iUseBottomWave * m_GateStartNum + m_GateLengthNum) > ascanData[indexofAScan].GetLength(0))\\r\\n                        {\\r\\n                            lengthNum = ascanData[indexofAScan].GetLength(0);\\r\\n                        }\\r\\n                        else\\r\\n                        {\\r\\n                            lengthNum = curFSFFirstPosition + FSFGate.m_iUseBottomWave * m_GateStartNum + m_GateLengthNum;\\r\\n                        }\\r\\n                        //底波和表面波计算数据闸门的起点\\r\\n                        int iStart = m_GateStartNum;//只有数据闸门\\r\\n                        if (FSFGate.m_GateIsActived)//有同步闸门\\r\\n                        {\\r\\n                            iStart = Math.Max(curFSFFirstPosition + FSFGate.m_iUseBottomWave * m_GateStartNum, 0);\\r\\n                        }\\r\\n\\r\\n\\r\\n\\r\\n\\r\\n\\r\\n                        // 取得峰值数据\\r\\n                        //int maxIndex = 0;\\r\\n                        double peakdata = CalclatMeanOfAScan(iStart, lengthNum, adata);\\r\\n                        m_PeakData[j * m_ScanNum + i] = peakdata;//DataToColorForInt(peakdata, m_DrawImageStyle, colorBar);\\r\\n                                                                 // 以像素点来绘制C扫图像\\r\\n                                                                 //m_bmpCscan.SetPixel(i, j, );\\r\\n                    }\\r\\n                }\\r\\n                // k++;\\r\\n            });\\r\\n\\r\\n            FilterCScanPic(m_bmpCscan, m_PeakData, m_DrawImageStyle, colorBar, wd);\\r\\n            //sw.Stop();\\r\\n        }\\r\\n\\r\\n\\r\\n        /// <summary>\\r\\n        /// 频域成像\\r\\n        /// </summary>\\r\\n        /// <param name=\"m_IndexNum\"></param>\\r\\n        /// <param name=\"m_ScanNum\"></param>\\r\\n        /// <param name=\"m_PeakDataInt\"></param>\\r\\n        /// <param name=\"FSFGate\"></param>\\r\\n        /// <param name=\"dataGate\"></param>\\r\\n        /// <param name=\"ascanData\"></param>\\r\\n        /// <param name=\"m_GateMode\"></param>\\r\\n        /// <param name=\"m_bmpCscan\"></param>\\r\\n        /// <param name=\"m_DrawImageStyle\"></param>\\r\\n        /// <param name=\"colorBar\"></param>\\r\\n        /// <param name=\"maxAMP\"></param>\\r\\n        /// <param name=\"averageValue\"></param>\\r\\n        /// <param name=\"computeFreq\"></param>\\r\\n        public static void DrawFreqDomainImage(\\r\\n              int m_IndexNum\\r\\n            , int m_ScanNum\\r\\n            , double[] m_PeakData\\r\\n            , LockGate FSFGate\\r\\n            , LockGate dataGate\\r\\n            , List<byte[]> ascanData\\r\\n            , AmplitudeMode m_GateMode\\r\\n            , Bitmap m_bmpCscan\\r\\n            , DrawImageStyle m_DrawImageStyle\\r\\n            , ColorBarControlSmall colorBar\\r\\n            , double computeFreq\\r\\n            , double displayFreq\\r\\n            , int maxAMP\\r\\n            , WaveDataStyle wd\\r\\n            )\\r\\n        {\\r\\n\\r\\n\\r\\n            int startIndex = 0;\\r\\n            int endIndex = 0;\\r\\n\\r\\n            int AscanPoints = 0;\\r\\n            int AScanDataLen = ascanData[0].Length;\\r\\n\\r\\n            AscanPoints = dataGate.m_GateLengthNum; //需要计算的部分\\r\\n            startIndex = FSFGate.m_CurFSFFirstPosition + FSFGate.m_iUseBottomWave * dataGate.m_GateStartNum;\\r\\n            startIndex = startIndex < 0 ? 0 : startIndex;//确保数据闸门的实际起始位置在窗口中\\r\\n\\r\\n            endIndex = (startIndex//数据闸门起始位置\\r\\n                        + dataGate.m_GateLengthNum);//数据闸门的长度\\r\\n\\r\\n            endIndex = (endIndex) > AScanDataLen ? AScanDataLen : (endIndex);//结束下标\\r\\n\\r\\n            int dataLength = Functions.NextPower2(AscanPoints);//计算FFT的数据长度\\r\\n            dataLength = (int)Math.Pow(2, dataLength);//2^N\\r\\n            //dataLength = AscanPoints;//\\r\\n            int drawindex = (int)(computeFreq / displayFreq * dataLength);//获取的频幅值所在的位置\\r\\n            drawindex = drawindex > dataLength - 1 ? dataLength - 1 : drawindex;\\r\\n\\r\\n            double[] drawFreqAmp = new double[m_IndexNum * m_ScanNum];\\r\\n\\r\\n            double MaxAmp = double.MinValue;\\r\\n            double MinAmp = double.MaxValue;\\r\\n\\r\\n            Parallel.For(0, ascanData.Count, (k, loopState) =>\\r\\n\\r\\n            //for (int j = 0; j < m_IndexNum; j++)\\r\\n            //{\\r\\n            //    for (int i = 0; i < m_ScanNum; i++)\\r\\n                {\\r\\n                    int indexofAScan = k;//j * m_ScanNum + i;\\r\\n                    byte[] adata = ascanData[k];\\r\\n\\r\\n                    //int indexofAScan = j * m_ScanNum + i;\\r\\n                    byte[] AScanData = ascanData[indexofAScan];\\r\\n                    if (AScanData.Length <= 0 || AScanData.Length < AScanDataLen)\\r\\n                    {\\r\\n                        drawFreqAmp[indexofAScan] = 0;\\r\\n                        //return;\\r\\n                        //loopState.Break();\\r\\n                        //loopState.Stop();\\r\\n                        //break;\\r\\n                    }\\r\\n                    else\\r\\n                    {\\r\\n\\r\\n\\r\\n                        double[] data = new double[dataLength]; //存放门限中的数据\\r\\n                        for (int m = startIndex; m < endIndex; m++)\\r\\n                        {\\r\\n\\r\\n                            data[m - startIndex] = (double)AScanData[m];\\r\\n                        }\\r\\n                        double[] spectrum = CalculateFFT(data);\\r\\n                        double tmpMax = spectrum.Max();\\r\\n                        double tmpMin = spectrum.Min();\\r\\n                        MaxAmp = MaxAmp < tmpMax ? tmpMax : MaxAmp;\\r\\n                        MinAmp = MinAmp > tmpMin ? tmpMin : MinAmp;\\r\\n\\r\\n                        drawFreqAmp[indexofAScan] = spectrum[drawindex];\\r\\n                    }\\r\\n                    //m_PeakDataInt[indexOfAScan] = (int)(drawFreqAmp[indexOfAScan] / (tmpMax - tmpMin) * (maxAMP - 1));\\r\\n                });\\r\\n            //将数据转换0-255之间的数\\r\\n            for (int k = 0; k < drawFreqAmp.Length; k++)\\r\\n            {\\r\\n                m_PeakData[k] = ((drawFreqAmp[k] - MinAmp) / (MaxAmp - MinAmp) * (maxAMP - 1));\\r\\n            }\\r\\n            //m_PeakData = Array.ConvertAll<double, double>(drawFreqAmp, value => (double)((value- MinAmp) * (maxAMP - 1) / (MaxAmp - MinAmp)));\\r\\n\\r\\n            FilterCScanPic(m_bmpCscan, m_PeakData, m_DrawImageStyle, colorBar, wd);\\r\\n\\r\\n        }\\r\\n\\r\\n\\r\\n        /// <summary>\\r\\n        /// 差/混频域成像\\r\\n        /// </summary>\\r\\n        /// <param name=\"m_IndexNum\"></param>\\r\\n        /// <param name=\"m_ScanNum\"></param>\\r\\n        /// <param name=\"m_PeakDataInt\"></param>\\r\\n        /// <param name=\"FSFGate\"></param>\\r\\n        /// <param name=\"dataGate\"></param>\\r\\n        /// <param name=\"ascanData\"></param>\\r\\n        /// <param name=\"m_GateMode\"></param>\\r\\n        /// <param name=\"m_bmpCscan\"></param>\\r\\n        /// <param name=\"m_DrawImageStyle\"></param>\\r\\n        /// <param name=\"colorBar\"></param>\\r\\n        /// <param name=\"maxAMP\"></param>\\r\\n        /// <param name=\"averageValue\"></param>\\r\\n        /// <param name=\"computeFreq\"></param>\\r\\n        public static void DrawDiffFreqDomainImage(\\r\\n              int m_IndexNum\\r\\n            , int m_ScanNum\\r\\n            , double[] m_PeakData\\r\\n            , LockGate FSFGate\\r\\n            , LockGate dataGate\\r\\n            , List<byte[]> ascanData\\r\\n            , AmplitudeMode m_GateMode\\r\\n            , Bitmap m_bmpCscan\\r\\n            , DrawImageStyle m_DrawImageStyle\\r\\n            , ColorBarControlSmall colorBar\\r\\n            , double Freq_Low\\r\\n            , double Freq_High\\r\\n            , int splitNum\\r\\n            , double displayFreq\\r\\n            , int maxAMP\\r\\n            , WaveDataStyle wd\\r\\n            , out double[] drawFreqAmp\\r\\n\\r\\n            )\\r\\n        {\\r\\n\\r\\n\\r\\n            int startIndex = 0;\\r\\n            int endIndex = 0;\\r\\n\\r\\n            int AscanPoints = 0;\\r\\n            int AScanDataLen = ascanData[0].Length;\\r\\n\\r\\n            AscanPoints = dataGate.m_GateLengthNum; //需要计算的部分\\r\\n            startIndex = FSFGate.m_CurFSFFirstPosition + FSFGate.m_iUseBottomWave * dataGate.m_GateStartNum;\\r\\n            startIndex = startIndex < 0 ? 0 : startIndex;//确保数据闸门的实际起始位置在窗口中\\r\\n\\r\\n            endIndex = (startIndex//数据闸门起始位置\\r\\n                        + dataGate.m_GateLengthNum);//数据闸门的长度\\r\\n\\r\\n            endIndex = (endIndex) > AScanDataLen ? AScanDataLen : (endIndex);//结束下标\\r\\n\\r\\n            int dataLength = Functions.NextPower2(AscanPoints);//计算FFT的数据长度\\r\\n            dataLength = (int)Math.Pow(2, dataLength);//2^N\\r\\n            //dataLength = AscanPoints;//\\r\\n\\r\\n            List<int> lowerDrawindexs = new List<int>();\\r\\n            List<int> upperDrawindexs = new List<int>();\\r\\n\\r\\n\\r\\n            int high0Drawindex = (int)(Freq_High / displayFreq * dataLength);//获取的频幅值所在的位置,分母\\r\\n            high0Drawindex = high0Drawindex > dataLength - 1 ? dataLength - 1 : high0Drawindex;\\r\\n\\r\\n            for (int i = 1; i <= splitNum; i++)\\r\\n            {\\r\\n                int lowDrawindex = (int)((Freq_High + i * Freq_Low) / displayFreq * dataLength);//获取的频幅值所在的位置\\r\\n                int upperDrawindex = (int)((Freq_High - i * Freq_Low) / displayFreq * dataLength);//获取的频幅值所在的位置\\r\\n                lowDrawindex = lowDrawindex > dataLength - 1 ? dataLength - 1 : lowDrawindex;\\r\\n                upperDrawindex = upperDrawindex > dataLength - 1 ? dataLength - 1 : upperDrawindex;\\r\\n                upperDrawindex = upperDrawindex < 0 ? 0 : upperDrawindex;\\r\\n\\r\\n\\r\\n                lowerDrawindexs.Add(lowDrawindex);\\r\\n                upperDrawindexs.Add(upperDrawindex);\\r\\n            }\\r\\n\\r\\n\\r\\n\\r\\n\\r\\n\\r\\n            double[]  tmpdrawFreqAmp = new double[m_IndexNum * m_ScanNum];\\r\\n            //double[] highDrawFreqAmp = new double[m_IndexNum * m_ScanNum];\\r\\n\\r\\n\\r\\n\\r\\n\\r\\n\\r\\n            double MaxAmp = double.MinValue;\\r\\n            double MinAmp = double.MaxValue;\\r\\n\\r\\n            Parallel.For(0, ascanData.Count, (k, loopState) =>\\r\\n\\r\\n            //for (int j = 0; j < m_IndexNum; j++)\\r\\n            //{\\r\\n            //    for (int i = 0; i < m_ScanNum; i++)\\r\\n                {\\r\\n                    int indexOfAScan = k;//j * m_ScanNum + i;\\r\\n                    byte[] AScanData = ascanData[indexOfAScan];\\r\\n                    if (AScanData.Length <= 0 || AScanData.Length < AScanDataLen)\\r\\n                    {\\r\\n                        tmpdrawFreqAmp[indexOfAScan] = 0;\\r\\n                        //return;\\r\\n                        //loopState.Break();\\r\\n                        //loopState.Stop();\\r\\n                        //break;\\r\\n                    }\\r\\n                    else\\r\\n                    {\\r\\n\\r\\n\\r\\n                        double[] data = new double[dataLength]; //存放门限中的数据\\r\\n                        for (int m = startIndex; m < endIndex; m++)\\r\\n                        {\\r\\n\\r\\n                            data[m - startIndex] = (double)AScanData[m];\\r\\n                        }\\r\\n                        double[] spectrum = CalculateFFT(data);\\r\\n                        //double tmpMax = spectrum.Max();\\r\\n                        //double tmpMin = spectrum.Min();\\r\\n                        //MaxAmp = MaxAmp < tmpMax ? tmpMax : MaxAmp;\\r\\n                        //MinAmp = MinAmp > tmpMin ? tmpMin : MinAmp;\\r\\n                        double SumAplusAnegative = 0;//\\r\\n                        for (int isplit = 0; isplit < splitNum; isplit++)\\r\\n                        {\\r\\n                            double currAmpLower = spectrum[lowerDrawindexs[isplit]];\\r\\n                            double currAmpUpper = spectrum[upperDrawindexs[isplit]];\\r\\n                            SumAplusAnegative += (currAmpLower + currAmpUpper);\\r\\n                        }\\r\\n                        double ampA0 = spectrum[high0Drawindex];\\r\\n                        if (Math.Abs(ampA0) - 1e-10 > 0)//1e-10 认为是0\\r\\n                        {\\r\\n                            double Mi = 20 * Math.Log10(SumAplusAnegative / (2 * ampA0));\\r\\n                            tmpdrawFreqAmp[indexOfAScan] = Mi;\\r\\n                            MaxAmp = MaxAmp < tmpdrawFreqAmp[indexOfAScan] ? tmpdrawFreqAmp[indexOfAScan] : MaxAmp;\\r\\n                            MinAmp = MinAmp > tmpdrawFreqAmp[indexOfAScan] ? tmpdrawFreqAmp[indexOfAScan] : MinAmp;\\r\\n                        }\\r\\n                    }\\r\\n\\r\\n                    //m_PeakDataInt[indexOfAScan] = (int)(drawFreqAmp[indexOfAScan] / (tmpMax - tmpMin) * (maxAMP - 1));\\r\\n                });\\r\\n\\r\\n            drawFreqAmp = tmpdrawFreqAmp;\\r\\n            //将数据转换0-255之间的数\\r\\n            for (int k = 0; k < drawFreqAmp.Length; k++)\\r\\n            {\\r\\n                m_PeakData[k] = ((drawFreqAmp[k] - MinAmp) / (MaxAmp - MinAmp) * (maxAMP - 1));\\r\\n\\r\\n            }\\r\\n            //m_PeakData = Array.ConvertAll<double, double>(drawFreqAmp, value => (double)((value- MinAmp) * (maxAMP - 1) / (MaxAmp - MinAmp)));\\r\\n\\r\\n            FilterCScanPic(m_bmpCscan, m_PeakData, m_DrawImageStyle, colorBar, wd);\\r\\n\\r\\n        }\\r\\n\\r\\n        /// <summary>\\r\\n        /// 只是拖动colorbar\\r\\n        /// </summary>\\r\\n        /// <param name=\"m_bmpCscan\"></param>\\r\\n        /// <param name=\"m_PeakDataInt\"></param>\\r\\n        public static void FilterCScanPic(\\r\\n            Bitmap m_bmpCscan\\r\\n            , double[] m_PeakData\\r\\n            , DrawImageStyle m_DrawImageStyle\\r\\n            , ColorBarControlSmall colorBar\\r\\n            , WaveDataStyle wd\\r\\n            )\\r\\n        {\\r\\n            int[] drawPeak = new int[m_PeakData.Length];\\r\\n            for (int k = 0; k < m_PeakData.Length; k++)\\r\\n            {\\r\\n                drawPeak[k] = DataToColorForInt(m_PeakData[k], m_DrawImageStyle, colorBar, wd); //tof / (double)m_GateLengthNum;//得到TOF与门限长度的比例\\r\\n            }\\r\\n\\r\\n            //m_PeakDataInt = Array.ConvertAll<double, int>(drawFreqAmp, value => (int)(value* (maxAMP-1) / (MaxAmp- MinAmp)));\\r\\n            CopyDataToBitmap2(m_bmpCscan, drawPeak);\\r\\n        }\\r\\n        /// <summary>\\r\\n        /// 绘制一行数据到C扫\\r\\n        /// </summary>\\r\\n        /// <param name=\"b\"></param>\\r\\n        /// <param name=\"data\"></param>\\r\\n        /// <param name=\"heightIndex\"></param>\\r\\n        /// <param name=\"isReDraw\">false，表示画一行，否则表示绘制到当前</param>\\r\\n        public static void FillALineForBitmap(Bitmap b, int[] data, int heightIndex, bool isReDraw = false, bool ischangegate = false)\\r\\n        {\\r\\n            if (heightIndex <= 0)\\r\\n            {\\r\\n                return;\\r\\n            }\\r\\n            Rectangle rect;\\r\\n            if (isReDraw || ischangegate) \\r\\n            {\\r\\n\\r\\n                rect = new Rectangle(0, 0, b.Width, heightIndex + 1);\\r\\n            }\\r\\n            else\\r\\n            {\\r\\n                rect = new Rectangle(0, heightIndex, b.Width, 1);\\r\\n            }\\r\\n            // Lock the bitmap\\'s bits.\\r\\n            System.Drawing.Imaging.BitmapData bmpData = b.LockBits(rect, System.Drawing.Imaging.ImageLockMode.WriteOnly, b.PixelFormat);\\r\\n            // Get the address of the first line.\\r\\n            IntPtr ptr = bmpData.Scan0;\\r\\n            if (isReDraw || ischangegate) \\r\\n            {\\r\\n               \\r\\n                //bmpData.\\r\\n                System.Runtime.InteropServices.Marshal.Copy(data, 0, ptr, b.Width * (heightIndex + 1));\\r\\n            }\\r\\n            else\\r\\n            {\\r\\n                System.Runtime.InteropServices.Marshal.Copy(data, 0, ptr, b.Width);\\r\\n            }\\r\\n            b.UnlockBits(bmpData);\\r\\n        }\\r\\n\\r\\n        /// <summary>\\r\\n        /// 绘制TOF成像C扫图\\r\\n        /// </summary>\\r\\n        /// <param name=\"m_IndexNum\">索引轴点数</param>\\r\\n        /// <param name=\"m_ScanNum\">扫查轴点数</param>\\r\\n        /// <param name=\"m_PeakData\">峰值数据数组</param>\\r\\n        /// <param name=\"curFSFFirstPosition\">同步闸门起始位置</param>\\r\\n        /// <param name=\"FSFGate\">同步闸门</param>\\r\\n        /// <param name=\"dataGate\">数据闸门</param>\\r\\n        /// <param name=\"ascanData\">所有的数据</param>\\r\\n        /// <param name=\"maxVoltage\">最大电压</param>\\r\\n        /// <param name=\"m_GateMode\">闸门模式</param>\\r\\n        /// <param name=\"m_bmpCscan\">C扫描位图</param>\\r\\n        /// <param name=\"m_DrawImageStyle\">着色模式</param>\\r\\n        /// <param name=\"m_originBitmap\">用于保存原始扫描的位图</param>\\r\\n        /// <param name=\"pictureBoxCScan\">绘制C扫的picturebox</param>\\r\\n        /// <param name=\"colorBar\">色条</param>\\r\\n        /// <param name=\"maxAMP\">最大幅值</param>\\r\\n        /// <param name=\"averageValue\">平均值</param>\\r\\n        public static void DrawTOFImage(\\r\\n            int m_IndexNum\\r\\n            , int m_ScanNum\\r\\n            , double[] m_PeakData\\r\\n\\r\\n            , LockGate FSFGate\\r\\n            , LockGate dataGate\\r\\n            , List<byte[]> ascanData\\r\\n            , double maxVoltage\\r\\n            , AmplitudeMode gateMode\\r\\n            , Bitmap m_bmpCscan\\r\\n            , DrawImageStyle m_DrawImageStyle\\r\\n            , ColorBarControlSmall colorBar\\r\\n            , WaveDataStyle wd\\r\\n            , int offset\\r\\n            )\\r\\n        {\\r\\n            //同步闸门\\r\\n            double thresholdFSF = FSFGate.m_Threshold;\\r\\n            int gateStartNumFSF = FSFGate.m_GateStartNum;\\r\\n            int gateLengthNumFSF = FSFGate.m_GateLengthNum;\\r\\n            //数据闸门\\r\\n            int gateLengthNum = dataGate.m_GateLengthNum;\\r\\n            int gateStartNum = dataGate.m_GateStartNum;\\r\\n            double thresholdData = dataGate.m_Threshold;\\r\\n            int curFSFFirstPosition = 0;\\r\\n\\r\\n            byte byteMinThreshold = (byte)NumConversionTo256(-thresholdData, wd);\\r\\n            byte byteMaxThreshold = (byte)NumConversionTo256(thresholdData, wd);\\r\\n\\r\\n\\r\\n            //int k = 0;\\r\\n            //foreach (byte[] currAScan in ascanData)\\r\\n            Parallel.For(0, ascanData.Count, (k, loopState) =>\\r\\n            {\\r\\n                \\r\\n                    byte[] adata = ascanData[k];\\r\\n                {\\r\\n                    int i = k % m_ScanNum;\\r\\n                    int j = k / m_ScanNum;\\r\\n\\r\\n                    int indexofAScan = k;//j * m_ScanNum + i;\\r\\n\\r\\n                    m_PeakData[j * m_ScanNum + i] = 0;\\r\\n                    byte byteTempMax = 0;\\r\\n                    byte byteTempMin = 0;\\r\\n\\r\\n                    int timeMax = gateStartNum;\\r\\n                    int timeMin = gateStartNum;\\r\\n                    int numThresh = gateStartNum;\\r\\n\\r\\n                    double tof = 0; //到达时间\\r\\n                                    // 数据中的A扫位置\\r\\n                                    //int indexofAScan = j * m_ScanNum + i;\\r\\n\\r\\n                    // A扫位置\\r\\n                    indexofAScan = ConvertType.JudgeAscanIndexIsOver(indexofAScan, ascanData);\\r\\n                    if (ascanData == null || adata.Length <= 0 || indexofAScan > ascanData.Count - 1)\\r\\n                    {\\r\\n                        m_PeakData[indexofAScan] = 0;\\r\\n                        //loopState.Break();\\r\\n                        //loopState.Stop();\\r\\n                        //break;\\r\\n                        //return;\\r\\n                    }\\r\\n                    else\\r\\n                    {\\r\\n\\r\\n                        if (FSFGate.m_GateIsActived)//启用同步闸门，则找闸门与波形的交叉点\\r\\n                        {\\r\\n                            // 与同步闸门的交汇点\\r\\n                            curFSFFirstPosition = FindFirstPostionInFSFGate(\\r\\n                                FSFGate.ThreshAMP //阈值对应的正向幅值\\r\\n                                , FSFGate.m_GateLengthNum//同步闸门的长度\\r\\n                                , FSFGate.m_GateStartNum//同步闸门的开始位置,信号的下标\\r\\n                                , FSFGate.isPositiveThresh//正向阈值\\r\\n                                , ascanData[indexofAScan]\\r\\n                                , wd\\r\\n                                , offset\\r\\n                                , StaticParas.glRDDataCard.MAX_AMP_V\\r\\n                                );\\r\\n                        }\\r\\n\\r\\n                        //确保数据闸门的实际起始位置在窗口中\\r\\n                        if ((curFSFFirstPosition + gateStartNum) < 0)\\r\\n                        {\\r\\n                            gateStartNum = -curFSFFirstPosition;\\r\\n                        }\\r\\n                        int lengthNum = 0;\\r\\n                        if ((curFSFFirstPosition + FSFGate.m_iUseBottomWave * gateStartNum + gateLengthNum) > ascanData[indexofAScan].GetLength(0))\\r\\n                        {\\r\\n                            lengthNum = ascanData[indexofAScan].GetLength(0);\\r\\n                        }\\r\\n                        else\\r\\n                        {\\r\\n                            lengthNum = curFSFFirstPosition + FSFGate.m_iUseBottomWave * gateStartNum + gateLengthNum;\\r\\n                        }\\r\\n                        //底波和表面波计算数据闸门的起点\\r\\n                        int iStart = gateStartNum;//只有数据闸门\\r\\n                        if (FSFGate.m_GateIsActived)//有同步闸门\\r\\n                        {\\r\\n                            iStart = Math.Max(curFSFFirstPosition + FSFGate.m_iUseBottomWave * gateStartNum, 0);\\r\\n                        }\\r\\n\\r\\n                        if (gateMode == AmplitudeMode.TOFPositiveMax\\r\\n                            || gateMode == AmplitudeMode.TOFNegativeMax\\r\\n                            )\\r\\n                        {\\r\\n                            FindMaxPeakMinPeak(\\r\\n                           iStart\\r\\n                            , lengthNum\\r\\n                            , ascanData[indexofAScan]\\r\\n                            , wd\\r\\n                            , offset\\r\\n                            , StaticParas.glRDDataCard.MAX_AMP_V\\r\\n                            , out byteTempMax\\r\\n                            , out byteTempMin\\r\\n                            , out timeMax\\r\\n                            , out timeMin\\r\\n\\r\\n                            );\\r\\n                        }\\r\\n                        else\\r\\n                        {\\r\\n                            numThresh = FindFirstPostionInFSFGate(\\r\\n                              dataGate.ThreshAMP //阈值对应的正向幅值\\r\\n                              , dataGate.m_GateLengthNum//同步闸门的长度\\r\\n                              , dataGate.m_GateStartNum + curFSFFirstPosition//同步闸门的开始位置,信号的下标\\r\\n                              , dataGate.isPositiveThresh//正向阈值\\r\\n                              , ascanData[indexofAScan]\\r\\n                              , wd\\r\\n                              , offset\\r\\n                              , StaticParas.glRDDataCard.MAX_AMP_V);\\r\\n                        }\\r\\n\\r\\n\\r\\n\\r\\n                        switch (gateMode)\\r\\n                        {\\r\\n                            case AmplitudeMode.TOFPositiveMax:\\r\\n                                {\\r\\n                                    if (byteTempMax > byteMaxThreshold)\\r\\n                                    {\\r\\n                                        tof = (timeMax - curFSFFirstPosition - gateStartNum) / (double)(gateLengthNum);//正向Tof\\r\\n\\r\\n                                    }\\r\\n                                    break;\\r\\n                                }\\r\\n                            case AmplitudeMode.TOFNegativeMax:\\r\\n                                {\\r\\n                                    if (byteTempMin < byteMinThreshold)\\r\\n                                    {\\r\\n                                        tof = (timeMin - curFSFFirstPosition - gateStartNum) / (double)(gateLengthNum);//负向Tof\\r\\n                                    }\\r\\n\\r\\n                                    break;\\r\\n                                }\\r\\n                            case AmplitudeMode.TOFPositiveThresh:\\r\\n                            case AmplitudeMode.TOFNegativeThresh:\\r\\n                                {\\r\\n                                    if (numThresh > 0)\\r\\n                                    {\\r\\n                                        tof = (numThresh - curFSFFirstPosition - gateStartNum) / (double)(gateLengthNum);//正向阈值Tof\\r\\n                                    }\\r\\n\\r\\n                                    break;\\r\\n                                }\\r\\n                        }\\r\\n\\r\\n                        m_PeakData[indexofAScan] = (double)NumConversionTo256ForColorBar(tof, 256);// DataToColorForInt((double)NumConversionTo256(tof), m_DrawImageStyle, colorBar); //tof / (double)m_GateLengthNum;//得到TOF与门限长度的比例\\r\\n                    }\\r\\n                }\\r\\n                //k++;\\r\\n            });\\r\\n            FilterCScanPic(m_bmpCscan, m_PeakData, m_DrawImageStyle, colorBar, wd);\\r\\n            //for (int j = 0; j < m_IndexNum; j++)//索引轴\\r\\n            //{\\r\\n            //    for (int i = 0; i < m_ScanNum; i++)//扫查点数\\r\\n            //    {\\r\\n            //        m_PeakData[j* m_ScanNum + i] = 0;\\r\\n            //        byte byteTempMax = 0;\\r\\n            //        byte byteTempMin = 0;\\r\\n\\r\\n            //        int timeMax = gateStartNum;\\r\\n            //        int timeMin =  gateStartNum;\\r\\n            //        int numThresh = gateStartNum;\\r\\n\\r\\n            //        double tof = 0; //到达时间\\r\\n            //        // 数据中的A扫位置\\r\\n            //        int indexOfAScan = j * m_ScanNum + i;\\r\\n\\r\\n            //        // A扫位置\\r\\n            //        indexOfAScan = ConvertType.JudgeAscanIndexIsOver(indexOfAScan, ascanData);\\r\\n            //        if (ascanData[indexOfAScan].Length <= 0)\\r\\n            //        {\\r\\n            //            break;\\r\\n            //        }\\r\\n\\r\\n            //        if (FSFGate.m_GateIsActived)//启用同步闸门，则找闸门与波形的交叉点\\r\\n            //        {\\r\\n            //            // 与同步闸门的交汇点\\r\\n            //            curFSFFirstPosition = FindFirstPostionInFSFGate(\\r\\n            //                FSFGate.ThreshAMP //阈值对应的正向幅值\\r\\n            //                , FSFGate.m_GateLengthNum//同步闸门的长度\\r\\n            //                , FSFGate.m_GateStartNum//同步闸门的开始位置,信号的下标\\r\\n            //                , FSFGate.isPositiveThresh//正向阈值\\r\\n            //                , ascanData[indexOfAScan]);\\r\\n            //        }\\r\\n\\r\\n            //        //确保数据闸门的实际起始位置在窗口中\\r\\n            //        if ((curFSFFirstPosition + gateStartNum) < 0)\\r\\n            //        {\\r\\n            //            gateStartNum = -curFSFFirstPosition;\\r\\n            //        }\\r\\n            //        int lengthNum = 0;\\r\\n            //        if ((curFSFFirstPosition + FSFGate.m_iUseBottomWave * gateStartNum + gateLengthNum) > ascanData[indexOfAScan].GetLength(0))\\r\\n            //        {\\r\\n            //            lengthNum = ascanData[indexOfAScan].GetLength(0);\\r\\n            //        }\\r\\n            //        else\\r\\n            //        {\\r\\n            //            lengthNum = curFSFFirstPosition + FSFGate.m_iUseBottomWave * gateStartNum + gateLengthNum;\\r\\n            //        }\\r\\n            //        //底波和表面波计算数据闸门的起点\\r\\n            //        int iStart = gateStartNum;//只有数据闸门\\r\\n            //        if (FSFGate.m_GateIsActived)//有同步闸门\\r\\n            //        {\\r\\n            //            iStart = Math.Max(curFSFFirstPosition + FSFGate.m_iUseBottomWave * gateStartNum, 0);\\r\\n            //        }\\r\\n\\r\\n            //        if (gateMode == AmplitudeMode.TOFPositiveMax\\r\\n            //            || gateMode == AmplitudeMode.TOFNegativeMax\\r\\n            //            )\\r\\n            //        {\\r\\n            //            FindMaxPeakMinPeak(\\r\\n            //           iStart\\r\\n            //            , lengthNum\\r\\n            //            , ascanData[indexOfAScan]\\r\\n            //            , out byteTempMax\\r\\n            //            , out byteTempMin\\r\\n            //            , out timeMax\\r\\n            //            , out timeMin\\r\\n\\r\\n            //            );\\r\\n            //        }\\r\\n            //        else\\r\\n            //        {\\r\\n            //            numThresh = FindFirstPostionInFSFGate(\\r\\n            //              dataGate.ThreshAMP //阈值对应的正向幅值\\r\\n            //              , dataGate.m_GateLengthNum//同步闸门的长度\\r\\n            //              , dataGate.m_GateStartNum+ curFSFFirstPosition//同步闸门的开始位置,信号的下标\\r\\n            //              , dataGate.isPositiveThresh//正向阈值\\r\\n            //              , ascanData[indexOfAScan]);\\r\\n            //        }\\r\\n\\r\\n\\r\\n\\r\\n            //        switch (gateMode)\\r\\n            //        {\\r\\n            //            case AmplitudeMode.TOFPositiveMax:\\r\\n            //                {\\r\\n            //                    if (byteTempMax > byteMaxThreshold)\\r\\n            //                    {\\r\\n            //                        tof = (timeMax - curFSFFirstPosition - gateStartNum) / (double)(gateLengthNum);//正向Tof\\r\\n\\r\\n            //                    }\\r\\n            //                    break;\\r\\n            //                }\\r\\n            //            case AmplitudeMode.TOFNegativeMax:\\r\\n            //                {\\r\\n            //                    if (byteTempMin <  byteMinThreshold)\\r\\n            //                    {\\r\\n            //                        tof = (timeMin - curFSFFirstPosition - gateStartNum) / (double)(gateLengthNum);//负向Tof\\r\\n            //                    }\\r\\n\\r\\n            //                    break;\\r\\n            //                }\\r\\n            //            case AmplitudeMode.TOFPositiveThresh:\\r\\n            //            case AmplitudeMode.TOFNegativeThresh:\\r\\n            //                {\\r\\n            //                    if (numThresh > 0)\\r\\n            //                    {\\r\\n            //                        tof = (numThresh - curFSFFirstPosition - gateStartNum) / (double)(gateLengthNum);//正向阈值Tof\\r\\n            //                    }\\r\\n\\r\\n            //                    break;\\r\\n            //                }\\r\\n            //        }\\r\\n\\r\\n            //        m_PeakData[j * m_ScanNum + i] = (double)NumConversionTo256ForColorBar(tof,256);// DataToColorForInt((double)NumConversionTo256(tof), m_DrawImageStyle, colorBar); //tof / (double)m_GateLengthNum;//得到TOF与门限长度的比例\\r\\n            //        //m_bmpCscan.SetPixel(i, j, Color.FromArgb(m_PeakData[j * m_ScanNum + i]));\\r\\n            //    }\\r\\n            //    //CopyDataToBitmap2(m_bmpCscan, m_PeakData);\\r\\n            //    FilterCScanPic(m_bmpCscan, m_PeakData, m_DrawImageStyle, colorBar);\\r\\n\\r\\n        }\\r\\n\\r\\n        /// <summary>\\r\\n        /// 将位图数据直接拷贝到位图区域\\r\\n        /// </summary>\\r\\n        /// <param name=\"m_Bitmap\"></param>\\r\\n        /// <param name=\"colordata\"></param>\\r\\n        public static void CopyDataToBitmap2(Bitmap m_Bitmap, int[] colordata)\\r\\n        {\\r\\n            Rectangle rect = new Rectangle(0, 0, m_Bitmap.Width, m_Bitmap.Height);\\r\\n            // Lock the bitmap\\'s bits.\\r\\n            System.Drawing.Imaging.BitmapData bmpData = m_Bitmap.LockBits(rect, System.Drawing.Imaging.ImageLockMode.WriteOnly, m_Bitmap.PixelFormat);\\r\\n            // Get the address of the first line.\\r\\n            IntPtr ptr = bmpData.Scan0;\\r\\n            System.Runtime.InteropServices.Marshal.Copy(colordata, 0, ptr, m_Bitmap.Width * m_Bitmap.Height);\\r\\n            m_Bitmap.UnlockBits(bmpData);\\r\\n        }\\r\\n\\r\\n        /// <summary>\\r\\n        /// 相位反转成像\\r\\n        /// </summary>\\r\\n        /// <param name=\"m_IndexNum\">索引轴点数</param>\\r\\n        /// <param name=\"m_ScanNum\">扫查轴点数</param>\\r\\n        /// <param name=\"m_PeakData\">峰值数组</param>\\r\\n        /// <param name=\"m_GateLengthNum\">数据闸门长度</param>\\r\\n        /// <param name=\"m_CurFSFFirstPosition\">同步闸门位置</param>\\r\\n        /// <param name=\"m_ThresholdFSF\">同步闸门阈值</param>\\r\\n        /// <param name=\"m_GateStartNumFSF\">同步闸门开始索引</param>\\r\\n        /// <param name=\"m_GateLengthNumFSF\">同步闸门长度</param>\\r\\n        /// <param name=\"m_AllData\">数据数组</param>\\r\\n        /// <param name=\"m_GateStartNum\">数据闸门开始索引</param>\\r\\n        /// <param name=\"m_MaxVoltage\">最大电压</param>\\r\\n        /// <param name=\"m_GateMode\">闸门模式</param>\\r\\n        /// <param name=\"m_bmpCscan\">C扫位图</param>\\r\\n        /// <param name=\"MAXVOLTAGE\">最大电压</param>\\r\\n        /// <param name=\"m_DrawImageStyle\">着色模式</param>\\r\\n        /// <param name=\"m_originBitmap\">用于保存原始扫描的位图</param>\\r\\n        /// <param name=\"m_ThresholdData\">数据闸门阈值</param>\\r\\n        /// <param name=\"m_X\">点前现实点X坐标</param>\\r\\n        /// <param name=\"m_Y\">当前现实点Y坐标</param>\\r\\n        /// <param name=\"checkBoxAdjustData\">提高对比度checkbox控件</param>\\r\\n        public static void DrawPhaseInverseImage(\\r\\n            int m_IndexNum\\r\\n            , int m_ScanNum\\r\\n            , double[] m_PeakData\\r\\n            , LockGate FSFGate\\r\\n            , LockGate dataGate\\r\\n            , List<byte[]> ascanData\\r\\n            , double maxVoltage\\r\\n            , AmplitudeMode m_GateMode\\r\\n            , Bitmap m_bmpCscan\\r\\n            , DrawImageStyle m_DrawImageStyle\\r\\n\\r\\n            , bool checkBoxAdjustData\\r\\n            , ColorBarControlSmall colorBar\\r\\n            , int maxAMP\\r\\n            , int averageValue\\r\\n            , double m_ReferencePhase\\r\\n            , int PulseType\\r\\n            , int offsetToZero\\r\\n            , WaveDataStyle wd\\r\\n            )\\r\\n        {\\r\\n            int m_GateLengthNum = dataGate.m_GateLengthNum;\\r\\n            int m_GateStartNum = dataGate.m_GateStartNum;\\r\\n            double m_ThresholdFSF = FSFGate.m_Threshold;\\r\\n            int m_GateStartNumFSF = FSFGate.m_GateStartNum;\\r\\n            int m_GateLengthNumFSF = FSFGate.m_GateLengthNum;\\r\\n            double m_ThresholdData = dataGate.m_Threshold;\\r\\n\\r\\n            Parallel.For(0, ascanData.Count, (k, loopState) =>\\r\\n\\r\\n            //for (int j = 0; j < m_IndexNum; j++)\\r\\n            //{\\r\\n            //    for (int i = 0; i < m_ScanNum; i++)\\r\\n                {\\r\\n                    //(X,Y)转换成一维\\r\\n\\r\\n                    int indexofAScan = k;//j * m_ScanNum + i;\\r\\n                    //int indexofAScan = j * m_ScanNum + i;\\r\\n\\r\\n                    // 判断A扫位置是否超限\\r\\n                    indexofAScan = ConvertType.JudgeAscanIndexIsOver(indexofAScan, ascanData);\\r\\n                    int curFSFFirstPosition = FindFirstPostionInFSFGate(\\r\\n                        FSFGate.ThreshAMP //阈值对应的正向幅值\\r\\n                        , FSFGate.m_GateLengthNum//同步闸门的长度\\r\\n                        , FSFGate.m_GateStartNum//同步闸门的开始位置,信号的下标\\r\\n                        , FSFGate.isPositiveThresh//正向阈值\\r\\n                        , ascanData[indexofAScan]\\r\\n                        , wd\\r\\n                        , offsetToZero\\r\\n                        , maxAMP);\\r\\n                    // 取峰值\\r\\n                    int maxIndex = 0;\\r\\n                    m_PeakData[indexofAScan] = CalPeakData(ascanData[indexofAScan], m_GateStartNum, m_GateLengthNum, m_GateMode, m_ThresholdData, m_ReferencePhase, maxVoltage\\r\\n                        , curFSFFirstPosition, FSFGate, wd, averageValue, maxAMP, PulseType, offsetToZero, out maxIndex);\\r\\n\\r\\n                });\\r\\n\\r\\n\\r\\n            //调整数据，以提高对比度\\r\\n            if (checkBoxAdjustData)\\r\\n            {\\r\\n                double[] peaks = CScanPicFunction.AdjustPeakData(m_PeakData, m_ScanNum, m_IndexNum, m_GateMode, maxVoltage, wd);\\r\\n                m_PeakData = peaks;\\r\\n            }\\r\\n            for (int i = 0; i < m_PeakData.Length; i++)\\r\\n            {\\r\\n                m_bmpCscan.SetPixel(i % m_ScanNum, i / m_ScanNum, DataToColor(m_PeakData[i], m_DrawImageStyle, colorBar, wd));\\r\\n            }\\r\\n\\r\\n\\r\\n        }\\r\\n\\r\\n\\r\\n\\r\\n        /// <summary>\\r\\n        /// 提高对比度\\r\\n        /// </summary>\\r\\n        public static void RaiseContrast(double[] m_PeakData, int scanNum, int indexNum, AmplitudeMode m_GateMode, double maxVoltage, Bitmap m_bmpCscan, DrawImageStyle m_DrawImageStyle, ColorBarControlSmall colorBar, WaveDataStyle wd)\\r\\n        {\\r\\n            //double[,] peaks = AdjustPeakData(ref m_oneParameterAndData.m_OutLineShareParameters.m_PeakData);\\r\\n            double[] peaks = AdjustPeakData(m_PeakData, scanNum, indexNum, m_GateMode, maxVoltage, wd);\\r\\n            m_PeakData = peaks;\\r\\n            for (int i = 0; i < peaks.Length; i++)\\r\\n            {\\r\\n                m_bmpCscan.SetPixel(i % scanNum, i / scanNum, DataToColor(m_PeakData[i], m_DrawImageStyle, colorBar, wd));\\r\\n            }\\r\\n        }\\r\\n\\r\\n        /// <summary>\\r\\n        /// 绘制峰值模式的C扫图像，包括：峰峰值，正向峰值，负向峰值，最大峰值\\r\\n        /// </summary>\\r\\n        /// <param name=\"m_IndexNum\"></param>\\r\\n        /// <param name=\"m_ScanNum\"></param>\\r\\n        /// <param name=\"m_PeakData\"></param>\\r\\n        /// <param name=\"m_GateLengthNum\"></param>\\r\\n        /// <param name=\"m_ThresholdFSF\"></param>\\r\\n        /// <param name=\"m_GateStartNumFSF\"></param>\\r\\n        /// <param name=\"m_GateLengthNumFSF\"></param>\\r\\n        /// <param name=\"m_AllData\"></param>\\r\\n        /// <param name=\"m_GateStartNum\"></param>\\r\\n        /// <param name=\"m_MaxVoltage\"></param>\\r\\n        /// <param name=\"m_GateMode\"></param>\\r\\n        /// <param name=\"m_bmpCscan\"></param>\\r\\n        /// <param name=\"MAXVOLTAGE\"></param>\\r\\n        /// <param name=\"m_DrawImageStyle\"></param>\\r\\n        /// <param name=\"m_ThresholdData\"></param>\\r\\n        /// <param name=\"m_ReferencePhase\">参考相位</param>\\r\\n        /// <param name=\"maxAMP\">最大赋值</param>\\r\\n        /// <param name=\"totalChannum\">总通道数</param>\\r\\n        /// <param name=\"thChanNo\">当前通道</param>\\r\\n        /// <param name=\"averageValue\">均值</param>\\r\\n        public static void DrawPeakCscanPic(\\r\\n            int m_IndexNum\\r\\n            , int m_ScanNum\\r\\n            , double[] m_PeakData\\r\\n            , LockGate FSFGate\\r\\n            , LockGate dataGate\\r\\n           , List<byte[]> ascanData\\r\\n           , double maxVoltage\\r\\n           , AmplitudeMode m_GateMode\\r\\n            , Bitmap m_bmpCscan\\r\\n            , DrawImageStyle m_DrawImageStyle\\r\\n            , double m_ReferencePhase\\r\\n            , ColorBarControlSmall colorBar\\r\\n            , int maxAMP\\r\\n            , int totalChannum\\r\\n            , int averageValue\\r\\n            , WaveDataStyle wd\\r\\n            , int offset)\\r\\n        {\\r\\n            int m_GateLengthNum = dataGate.m_GateLengthNum;\\r\\n            int m_GateStartNum = dataGate.m_GateStartNum;\\r\\n            double m_ThresholdFSF = FSFGate.m_Threshold;\\r\\n            int m_GateStartNumFSF = FSFGate.m_GateStartNum;\\r\\n            int m_GateLengthNumFSF = FSFGate.m_GateLengthNum;\\r\\n            double m_ThresholdData = dataGate.m_Threshold;\\r\\n            //for (int j = 0; j < m_IndexNum; j++)\\r\\n            //for (int k = 0; k < m_IndexNum* m_ScanNum; k++)\\r\\n            //  int k = 0;\\r\\n\\r\\n            // Stopwatch sw = new Stopwatch();\\r\\n            //  sw.Start();\\r\\n            // System.Threading.Tasks.Parallel.ForEach(ascanData, (adata, state1) =>\\r\\n            Parallel.For(0, ascanData.Count, (k, loopState) =>\\r\\n\\r\\n            //foreach (byte[] adata in ascanData)\\r\\n            {\\r\\n                byte[] adata = ascanData[k];\\r\\n                //for (int i = 0; i < m_ScanNum; i++)\\r\\n                {\\r\\n                    int i = k % m_ScanNum;\\r\\n                    int j = k / m_ScanNum;\\r\\n                    int indexofAScan = k;//j * m_ScanNum + i;\\r\\n\\r\\n                    if (indexofAScan > ascanData.Count - 1 || adata.Length <= 0)\\r\\n                    {\\r\\n                        m_PeakData[indexofAScan] = 0;\\r\\n                        //loopState.Break();\\r\\n                        //loopState.Stop();\\r\\n                        //break;\\r\\n                    }\\r\\n                    else\\r\\n                    {\\r\\n                        // 取得同步闸门起点\\r\\n                        int curFSFFirstPosition = 0;\\r\\n                        if (FSFGate.m_GateIsActived)\\r\\n                        {\\r\\n                            curFSFFirstPosition = CScanPicFunction.FindFirstPostionInFSFGate(\\r\\n                                  FSFGate.ThreshAMP //阈值对应的正向幅值\\r\\n                                , FSFGate.m_GateLengthNum//同步闸门的长度\\r\\n                                , FSFGate.m_GateStartNum//同步闸门的开始位置,信号的下标\\r\\n                                , FSFGate.isPositiveThresh//正向阈值\\r\\n                                , adata\\r\\n                                , wd\\r\\n                                , offset\\r\\n                                , maxAMP\\r\\n                                );\\r\\n                        }\\r\\n\\r\\n\\r\\n\\r\\n                        // 取得峰值数据\\r\\n                        int maxIndex = 0;\\r\\n                        double peakdata = CalPeakData(adata, m_GateStartNum, m_GateLengthNum, m_GateMode, m_ThresholdData, m_ReferencePhase, maxVoltage, curFSFFirstPosition, FSFGate, wd, averageValue, maxAMP, StaticParas.PulseType, offset, out maxIndex);\\r\\n\\r\\n                        m_PeakData[j * m_ScanNum + i] = peakdata;//DataToColorForInt(peakdata, m_DrawImageStyle, colorBar);\\r\\n                                                                 // 以像素点来绘制C扫图像\\r\\n                                                                 //m_bmpCscan.SetPixel(i, j, );\\r\\n                    }\\r\\n                }\\r\\n                // k++;\\r\\n            });\\r\\n\\r\\n            FilterCScanPic(m_bmpCscan, m_PeakData, m_DrawImageStyle, colorBar, wd);\\r\\n            //sw.Stop();\\r\\n            //  Debug.WriteLine(sw.ElapsedMilliseconds);\\r\\n\\r\\n            //CopyDataToBitmap2(m_bmpCscan, m_PeakData);\\r\\n        }\\r\\n\\r\\n        /// <summary>\\r\\n        /// 绘制其他模式C扫描图像(非全波)\\r\\n        /// </summary>\\r\\n        /// <param name=\"m_IndexNum\"></param>\\r\\n        /// <param name=\"m_ScanNum\"></param>\\r\\n        /// <param name=\"m_PeakData\"></param>\\r\\n        /// <param name=\"m_GateLengthNum\"></param>\\r\\n        /// <param name=\"m_CurFSFFirstPosition\"></param>\\r\\n        /// <param name=\"m_ThresholdFSF\"></param>\\r\\n        /// <param name=\"m_GateStartNumFSF\"></param>\\r\\n        /// <param name=\"m_GateLengthNumFSF\"></param>\\r\\n        /// <param name=\"m_AllData\"></param>\\r\\n        /// <param name=\"m_GateStartNum\"></param>\\r\\n        /// <param name=\"m_MaxVoltage\"></param>\\r\\n        /// <param name=\"m_GateMode\"></param>\\r\\n        /// <param name=\"m_bmpCscan\"></param>\\r\\n        /// <param name=\"MAXVOLTAGE\"></param>\\r\\n        /// <param name=\"m_DrawImageStyle\"></param>\\r\\n        /// <param name=\"m_ThresholdData\"></param>\\r\\n        /// <param name=\"m_ReferencePhase\">参考相位</param>\\r\\n        /// <param name=\"startIndex\">显示数据开始索引（默认0）后处理A信号有用缩放之后</param>\\r\\n        public static void DrawElseCscanPicNotFullPeak(int m_IndexNum, int m_ScanNum, double[] m_PeakData, List<byte[,]> m_Data, Bitmap m_bmpCscan, DrawImageStyle m_DrawImageStyle, ColorBarControlSmall colorBar, int CScanIndex, WaveDataStyle wd)\\r\\n        {\\r\\n            for (int j = 0; j < m_IndexNum; j++)\\r\\n            {\\r\\n                for (int i = 0; i < m_ScanNum; i++)\\r\\n                {\\r\\n                    int indexOfAScan = j * m_ScanNum + i;\\r\\n                    //for (int k = 0; k < 4; k++)\\r\\n                    //{\\r\\n                    int dataindex = CScanIndex * 2;//第1个是峰值，第2个是时间\\r\\n                    m_PeakData[indexOfAScan] = m_Data[i][ j, dataindex];\\r\\n                    //}\\r\\n                    // m_bmpCscan.SetPixel(i, j, DataToColor(m_PeakData[indexOfAScan], m_DrawImageStyle, colorBar));\\r\\n                }\\r\\n            }\\r\\n            // Functions.ExportToCSV(m_PeakData, StaticParas.glConfig.m_Frequency, \"D://notfull.csv\");\\r\\n            FilterCScanPic(m_bmpCscan, m_PeakData, m_DrawImageStyle, colorBar, wd);\\r\\n        }\\r\\n        /// <summary>\\r\\n        /// 非全波C扫成像使用时间\\r\\n        /// </summary>\\r\\n        /// <param name=\"m_IndexNum\"></param>\\r\\n        /// <param name=\"m_ScanNum\"></param>\\r\\n        /// <param name=\"m_PeakData\"></param>\\r\\n        /// <param name=\"m_Data\"></param>\\r\\n        /// <param name=\"m_bmpCscan\"></param>\\r\\n        /// <param name=\"m_DrawImageStyle\"></param>\\r\\n        /// <param name=\"colorBar\"></param>\\r\\n        /// <param name=\"CScanIndex\"></param>\\r\\n        public static void DrawElseCscanPicNotFullTime(int m_IndexNum, int m_ScanNum, double[] m_PeakData, List<byte[,]> m_Data, Bitmap m_bmpCscan, DrawImageStyle m_DrawImageStyle, ColorBarControlSmall colorBar, int CScanIndex, int AScanLen, WaveDataStyle wd)\\r\\n        {\\r\\n            for (int j = 0; j < m_IndexNum; j++)\\r\\n            {\\r\\n                for (int i = 0; i < m_ScanNum; i++)\\r\\n                {\\r\\n                    int indexOfAScan = j * m_ScanNum + i;\\r\\n                    //for (int k = 0; k < 4; k++)\\r\\n                    //{\\r\\n                    int dataindex = CScanIndex * 2 + 1;//第1个是峰值，第2个是时间\\r\\n                    m_PeakData[indexOfAScan] = (double)NumConversionTo256(m_Data[i][ j, dataindex] / AScanLen, wd);\\r\\n                    //}\\r\\n                    // m_bmpCscan.SetPixel(i, j, DataToColor(m_PeakData[indexOfAScan], m_DrawImageStyle, colorBar));\\r\\n                }\\r\\n            }\\r\\n            // Functions.ExportToCSV(m_PeakData, StaticParas.glConfig.m_Frequency, \"D://notfull.csv\");\\r\\n            FilterCScanPic(m_bmpCscan, m_PeakData, m_DrawImageStyle, colorBar, wd);\\r\\n        }\\r\\n\\r\\n        /// <summary>\\r\\n        /// 查找最大和最小峰值以及对应的位置\\r\\n        /// </summary>\\r\\n        /// <param name=\"curFSFFirstPosition\"></param>\\r\\n        /// <param name=\"gateStartNum\"></param>\\r\\n        /// <param name=\"gateEndNum\"></param>\\r\\n        /// <param name=\"byteMinThreshold\"></param>\\r\\n        /// <param name=\"byteMaxThreshold\"></param>\\r\\n        /// <param name=\"ascandata\"></param>\\r\\n        /// <param name=\"maxPeak\">输出 最大峰值</param>\\r\\n        /// <param name=\"minPeak\">输出 最小峰值</param>\\r\\n        /// <param name=\"maxPosition\">输出 最大峰值的位置</param>\\r\\n        /// <param name=\"minPosition\">输出 最小峰值的位置</param>\\r\\n\\r\\n        public static void FindMaxPeakMinPeak(\\r\\n            int gateStartNum\\r\\n            , int gateEndNum\\r\\n            , byte[] ascandata\\r\\n            , WaveDataStyle wd\\r\\n            , int offset\\r\\n            , int maxamp\\r\\n            , out byte maxPeak\\r\\n            , out byte minPeak\\r\\n            , out int maxPosition\\r\\n            , out int minPosition\\r\\n            , int step = 10\\r\\n            )\\r\\n        {\\r\\n\\r\\n            if (ascandata == null || ascandata.Length <= 0 || gateStartNum > ascandata.Length-1 || gateEndNum > ascandata.Length || ascandata.Max() == 0)\\r\\n            {\\r\\n                maxPeak = 0;\\r\\n                minPeak = 0;\\r\\n                maxPosition = 0;\\r\\n                minPosition = 0;\\r\\n                return;\\r\\n                //loopState.Stop();\\r\\n                //break;\\r\\n                //return;\\r\\n            }\\r\\n\\r\\n\\r\\n\\r\\n            byte byteTempMin = byte.MaxValue;\\r\\n            byte byteTempMax = byte.MinValue;\\r\\n\\r\\n\\r\\n            // 最大峰值出现位置的下标\\r\\n            int numMax = 0;\\r\\n            // 最小峰值出现位置的下标\\r\\n            int numMin = 0;\\r\\n\\r\\n            int initIndex_min = 0;\\r\\n            int initIndex_max = 0;\\r\\n\\r\\n\\r\\n\\r\\n            //粗找\\r\\n            for (int k = gateStartNum; k < gateEndNum; k += step)\\r\\n            {\\r\\n\\r\\n                byte byteTemp = ascandata[k];\\r\\n                byteTemp = (byte)DataUtils.GetActualAmp((int)wd, byteTemp, offset, maxamp);\\r\\n                //下限\\r\\n                if (byteTemp < byteTempMin)\\r\\n                {\\r\\n                    byteTempMin = byteTemp;\\r\\n                    initIndex_min = k;\\r\\n                }\\r\\n                //上限\\r\\n                if (byteTemp > byteTempMax)\\r\\n                {\\r\\n                    byteTempMax = byteTemp;\\r\\n                    initIndex_max = k;\\r\\n                }\\r\\n            }\\r\\n\\r\\n            numMin = initIndex_min;\\r\\n            numMax = initIndex_max;\\r\\n            //精细查找\\r\\n            //最小值查找\\r\\n            if (initIndex_min > 0 && initIndex_min < gateEndNum)\\r\\n            {\\r\\n                for (int k = Math.Max(initIndex_min - step, 0); k < Math.Min(initIndex_min + step, gateEndNum); k++)\\r\\n                {\\r\\n                    byte byteTemp = ascandata[k];\\r\\n                    byteTemp = (byte)DataUtils.GetActualAmp((int)wd, byteTemp, offset, maxamp);\\r\\n                    //下限\\r\\n                    if (byteTemp < byteTempMin)\\r\\n                    {\\r\\n                        byteTempMin = byteTemp;\\r\\n                        numMin = k;\\r\\n                    }\\r\\n\\r\\n                }\\r\\n            }\\r\\n            else if (initIndex_min == 0)\\r\\n            {\\r\\n                for (int k = 0; k < initIndex_min + 2 * step; k++)\\r\\n                {\\r\\n                    byte byteTemp = ascandata[k];\\r\\n                    byteTemp = (byte)DataUtils.GetActualAmp((int)wd, byteTemp, offset, maxamp);\\r\\n                    //下限\\r\\n                    if (byteTemp < byteTempMin)\\r\\n                    {\\r\\n                        byteTempMin = byteTemp;\\r\\n                        numMin = k;\\r\\n                    }\\r\\n\\r\\n                }\\r\\n            }\\r\\n            else if (initIndex_min == gateEndNum - 1)\\r\\n            {\\r\\n                for (int k = initIndex_min - 2 * step; k < initIndex_min; k++)\\r\\n                {\\r\\n                    byte byteTemp = ascandata[k];\\r\\n                    byteTemp = (byte)DataUtils.GetActualAmp((int)wd, byteTemp, offset, maxamp);\\r\\n                    //下限\\r\\n                    if (byteTemp < byteTempMin)\\r\\n                    {\\r\\n                        byteTempMin = byteTemp;\\r\\n                        numMin = k;\\r\\n                    }\\r\\n\\r\\n                }\\r\\n            }\\r\\n            //精细查找，最大\\r\\n            if (initIndex_max > 0 && initIndex_max < gateEndNum)\\r\\n            {\\r\\n                for (int k = Math.Max(initIndex_max - step, 0); k < Math.Min(initIndex_max + step, gateEndNum); k++)\\r\\n                {\\r\\n                    byte byteTemp = ascandata[k];\\r\\n                    byteTemp = (byte)DataUtils.GetActualAmp((int)wd, byteTemp, offset, maxamp);\\r\\n                    //上限\\r\\n                    if (byteTemp > byteTempMax)\\r\\n                    {\\r\\n                        byteTempMax = byteTemp;\\r\\n                        numMax = k;\\r\\n                    }\\r\\n                }\\r\\n            }\\r\\n            else if (initIndex_max == 0)\\r\\n            {\\r\\n                for (int k = 0; k < initIndex_max + 2 * step; k++)\\r\\n                {\\r\\n                    byte byteTemp = ascandata[k];\\r\\n                    byteTemp = (byte)DataUtils.GetActualAmp((int)wd, byteTemp, offset, maxamp);\\r\\n                    //上限\\r\\n                    if (byteTemp > byteTempMax)\\r\\n                    {\\r\\n                        byteTempMax = byteTemp;\\r\\n                        numMax = k;\\r\\n                    }\\r\\n                }\\r\\n            }\\r\\n            else if (initIndex_max == gateEndNum - 1)\\r\\n            {\\r\\n                for (int k = initIndex_max - 2 * step; k < initIndex_max; k++)\\r\\n                {\\r\\n                    byte byteTemp = ascandata[k];\\r\\n                    byteTemp = (byte)DataUtils.GetActualAmp((int)wd, byteTemp, offset, maxamp);\\r\\n                    //上限\\r\\n                    if (byteTemp > byteTempMax)\\r\\n                    {\\r\\n                        byteTempMax = byteTemp;\\r\\n                        numMax = k;\\r\\n                    }\\r\\n                }\\r\\n            }//*/\\r\\n\\r\\n\\r\\n\\r\\n\\r\\n\\r\\n\\r\\n            /*\\r\\n            for (int k = gateStartNum,j= gateEndNum-1; k < j; k++,j--)\\r\\n            {\\r\\n              \\r\\n                //头部\\r\\n                byte byteTemp = ascandata[k];\\r\\n                //下限\\r\\n                if (byteTemp < byteTempMin)\\r\\n                {\\r\\n                    byteTempMin = byteTemp;\\r\\n                    numMin = k;\\r\\n                }\\r\\n                //上限\\r\\n                if (byteTemp > byteTempMax)\\r\\n                {\\r\\n                    byteTempMax = byteTemp;\\r\\n                    numMax = k;\\r\\n                }\\r\\n\\r\\n                //尾部\\r\\n                byteTemp = ascandata[j];\\r\\n                //下限\\r\\n                if (byteTemp < byteTempMin)\\r\\n                {\\r\\n                    byteTempMin = byteTemp;\\r\\n                    numMin = j;\\r\\n                }\\r\\n                //上限\\r\\n                if (byteTemp > byteTempMax)\\r\\n                {\\r\\n                    byteTempMax = byteTemp;\\r\\n                    numMax = j;\\r\\n                }\\r\\n\\r\\n            }//*/\\r\\n            if (0 == byteTempMin)//0是背景色\\r\\n            {\\r\\n                byteTempMin = 1;\\r\\n            }\\r\\n            maxPeak = byteTempMax;\\r\\n            minPeak = byteTempMin;\\r\\n            minPosition = numMin;\\r\\n            maxPosition = numMax;\\r\\n\\r\\n\\r\\n        }\\r\\n\\r\\n\\r\\n\\r\\n        /// <summary>\\r\\n        /// 0-1的数直接对应color\\r\\n        /// </summary>\\r\\n        /// <param name=\"zerotoonev\"></param>\\r\\n        /// <param name=\"maxv\"></param>\\r\\n        /// <returns></returns>\\r\\n        public static int NumConversionTo256ForColorBar(double zerotoonev, short maxv)\\r\\n        {\\r\\n            return (int)Math.Floor(zerotoonev * maxv);\\r\\n        }\\r\\n\\r\\n        /// <summary>\\r\\n        ///  根据不同的闸门模式，计算峰值\\r\\n        /// \\r\\n        /// </summary>\\r\\n        /// <param name=\"ascandata\"></param>\\r\\n        /// <param name=\"gateStartNum\"></param>\\r\\n        /// <param name=\"gateLengthNum\"></param>\\r\\n        /// <param name=\"gateMode\"></param>\\r\\n        /// <param name=\"thresholdData\"></param>\\r\\n        /// <param name=\"referencePhase\"></param>\\r\\n        /// <param name=\"maxVoltage\"></param>\\r\\n        /// <param name=\"curFSFFirstPosition\"></param>\\r\\n        /// <param name=\"currAvgAmp\"></param>\\r\\n        /// <param name=\"totalChannum\"></param>\\r\\n        /// <param name=\"thChanNo\"></param>\\r\\n        /// <param name=\"currPointX\"></param>\\r\\n        /// <param name=\"currPointY\"></param>\\r\\n        /// <param name=\"thresholdFSF\"></param>\\r\\n        /// <param name=\"gateStartNumFSF\"></param>\\r\\n        /// <param name=\"gateLengthNumFSF\"></param>\\r\\n        /// <returns></returns>\\r\\n        public static double CalPeakData(byte[] ascandata\\r\\n            , int gateStartNum\\r\\n            , int gateLengthNum\\r\\n            , AmplitudeMode gateMode\\r\\n            , double thresholdData\\r\\n            , double referencePhase\\r\\n            , double maxVoltage\\r\\n            , int curFSFFirstPosition\\r\\n            , LockGate FSFGate\\r\\n            , WaveDataStyle wd\\r\\n            , double currAvgAmp\\r\\n            , int maxAMP\\r\\n            , int PulseType\\r\\n            , int offsetToZero\\r\\n            , out int maxIndex\\r\\n       )\\r\\n        {\\r\\n\\r\\n            if (ascandata == null || ascandata.Length <= 0)\\r\\n            {\\r\\n                maxIndex = 0;\\r\\n                return 0;\\r\\n            }\\r\\n           \\r\\n            //double peakdata = 0;\\r\\n            // 最大峰值出现位置的下标\\r\\n            int numMax = 0;\\r\\n            // 最小峰值出现位置的下标\\r\\n            int numMin = 0;\\r\\n\\r\\n            //double temp = 0;\\r\\n            double tempMax = double.MinValue;\\r\\n            double tempMin = double.MaxValue;\\r\\n\\r\\n            //确保数据闸门的实际起始位置在窗口中\\r\\n            if ((curFSFFirstPosition + gateStartNum) < 0)\\r\\n            {\\r\\n                gateStartNum = -curFSFFirstPosition;\\r\\n            }\\r\\n\\r\\n            int lengthNum;\\r\\n            if ((curFSFFirstPosition + FSFGate.m_iUseBottomWave * gateStartNum + gateLengthNum) > ascandata.GetLength(0))\\r\\n            {\\r\\n                lengthNum = ascandata.GetLength(0);\\r\\n            }\\r\\n            else\\r\\n            {\\r\\n                lengthNum = curFSFFirstPosition + FSFGate.m_iUseBottomWave * gateStartNum + gateLengthNum;\\r\\n            }\\r\\n\\r\\n            byte byteMinThreshold = (byte)(NumConversionTo256(-thresholdData, wd));//- offsetToZero\\r\\n            byteMinThreshold = (byte)(byteMinThreshold < 1 ? 1 : byteMinThreshold);\\r\\n            byte byteMaxThreshold = (byte)(NumConversionTo256(thresholdData, wd));//- offsetToZero\\r\\n            byte byteTempMax = byte.MinValue;\\r\\n            byte byteTempMin = byte.MaxValue;\\r\\n\\r\\n            byte bytePeakdata = 0;\\r\\n\\r\\n            int iStart = gateStartNum;\\r\\n            if (FSFGate.m_GateIsActived)\\r\\n            {\\r\\n                iStart = Math.Max(curFSFFirstPosition + FSFGate.m_iUseBottomWave * gateStartNum, 0);\\r\\n            }\\r\\n\\r\\n\\r\\n\\r\\n            //查找门限中的负向幅值和正向幅值及其到达下标（时间）\\r\\n            FindMaxPeakMinPeak(\\r\\n                iStart\\r\\n                , lengthNum\\r\\n                , ascandata\\r\\n                , wd\\r\\n                , offsetToZero\\r\\n                , maxAMP\\r\\n                , out byteTempMax\\r\\n                , out byteTempMin\\r\\n                , out numMax\\r\\n                , out numMin\\r\\n\\r\\n                );\\r\\n            maxIndex = numMax;\\r\\n            double tof = 0;\\r\\n            //根据不同的闸门模式，取峰值\\r\\n            switch (gateMode)\\r\\n            {\\r\\n                case AmplitudeMode.PostivePeak://正向峰值\\r\\n                    bytePeakdata = byteTempMax;\\r\\n                    if (bytePeakdata < byteMaxThreshold)\\r\\n                    {\\r\\n                        bytePeakdata = 0;\\r\\n                    }\\r\\n                    break;\\r\\n                case AmplitudeMode.NegativePeak://负向峰值\\r\\n                    bytePeakdata = byteTempMin;\\r\\n\\r\\n                    if (bytePeakdata > byteMinThreshold)\\r\\n                    {\\r\\n                        bytePeakdata = 0;\\r\\n                    }\\r\\n                    break;\\r\\n                case AmplitudeMode.PeaktoPeak://0-255,峰峰值\\r\\n                    bytePeakdata = (byte)(byteTempMax - byteTempMin);\\r\\n\\r\\n                    if (bytePeakdata < (byteMaxThreshold - byteMinThreshold))\\r\\n                    {\\r\\n                        bytePeakdata = 0;\\r\\n                    }\\r\\n                    break;\\r\\n\\r\\n                case AmplitudeMode.MaxPeak://最大峰值\\r\\n\\r\\n                    bytePeakdata = (byte)Math.Max(byteTempMax, maxAMP - byteTempMin);\\r\\n\\r\\n                    if (bytePeakdata < byteMaxThreshold)\\r\\n                    {\\r\\n                        bytePeakdata = 0;\\r\\n                    }\\r\\n                    break;\\r\\n                case AmplitudeMode.TOFNegativeThresh:\\r\\n                    {\\r\\n                        int numThresh = FindFirstPostionRelativeInGate(\\r\\n                       byteMaxThreshold //阈值对应的正向幅值\\r\\n                       , gateLengthNum//闸门的长度\\r\\n                       , gateStartNum + curFSFFirstPosition//闸门的开始位置,信号的下标\\r\\n                       , true//正向阈值\\r\\n                       , ascandata);//相对于数据闸门起点位置\\r\\n\\r\\n                        tof = (numThresh) / (double)(gateLengthNum);\\r\\n                        bytePeakdata = (byte)NumConversionTo256ForColorBar(tof, 256);\\r\\n\\r\\n                    }\\r\\n                    break;\\r\\n                case AmplitudeMode.TOFPositiveThresh:\\r\\n                    {\\r\\n                        int numThresh = FindFirstPostionRelativeInGate(\\r\\n                        byteMinThreshold //阈值对应的正向幅值\\r\\n                        , gateLengthNum//闸门的长度\\r\\n                        , gateStartNum + curFSFFirstPosition//闸门的开始位置,信号的下标\\r\\n                        , false//正向阈值\\r\\n                        , ascandata);//相对于数据闸门起点位置\\r\\n                        tof = (numThresh) / (double)(gateLengthNum);\\r\\n                        bytePeakdata = (byte)NumConversionTo256ForColorBar(tof, 256);\\r\\n                    }\\r\\n                    break;\\r\\n                case AmplitudeMode.TOFPositiveMax:\\r\\n                    tof = (numMax) / (double)(gateLengthNum);//正向Tof\\r\\n                    bytePeakdata = (byte)NumConversionTo256ForColorBar(tof, 256);\\r\\n                    break;\\r\\n                case AmplitudeMode.TOFNegativeMax:\\r\\n                    tof = (numMin) / (double)(gateLengthNum);//正向Tof\\r\\n                    bytePeakdata = (byte)NumConversionTo256ForColorBar(tof, 256);\\r\\n                    break;\\r\\n                case AmplitudeMode.Phase://相位\\r\\n                    {\\r\\n                        double curAmplitude = 0;\\r\\n                        double curPhase = 0;\\r\\n                        double phaseDiffer = 0;\\r\\n                        double PI = Math.PI; //常数π\\r\\n                        tempMax = (double)((byteTempMax - currAvgAmp) * maxVoltage / (maxAMP / 2));\\r\\n                        tempMin = (double)((byteTempMin - currAvgAmp) * maxVoltage / (maxAMP / 2));\\r\\n\\r\\n                        if (tempMax == 0 && tempMin == 0)\\r\\n                        {\\r\\n                            curPhase = 0;\\r\\n                            phaseDiffer = 0;\\r\\n                        }\\r\\n                        else\\r\\n                        {\\r\\n                            int numPeak;\\r\\n                            if (tempMax > (-tempMin))\\r\\n                            {\\r\\n                                numPeak = numMax;\\r\\n                            }\\r\\n                            else\\r\\n                            {\\r\\n                                numPeak = numMin;\\r\\n                            }\\r\\n                            if (ascandata[numPeak] > currAvgAmp)\\r\\n                            {\\r\\n                                curAmplitude = (double)(currAvgAmp - ascandata[numPeak]) * maxVoltage / (maxAMP / 2);\\r\\n                            }\\r\\n                            else\\r\\n                            {\\r\\n                                curAmplitude = (double)(ascandata[numPeak]) * maxVoltage / (maxAMP / 2);\\r\\n                            }\\r\\n\\r\\n                            curAmplitude = (curAmplitude + curAmplitude) / (tempMax - tempMin); // V/Vpp\\r\\n                            if (curAmplitude < -1)\\r\\n                            {\\r\\n                                curAmplitude = -1;\\r\\n                            }\\r\\n                            else if (curAmplitude > 1)\\r\\n                            {\\r\\n                                curAmplitude = 1;\\r\\n                            }\\r\\n                            //结果为弧度，满足 -π/2 ≤θ≤π/2 - 或 - 如果 d < -1 或 d > 1，则为 NaN。\\r\\n                            curPhase = Math.Asin(curAmplitude);\\r\\n                            phaseDiffer = curPhase - referencePhase; //此时返回结果为相位差\\r\\n                                                                     //phaseDiffer = phaseDiffer + PI; //这样phaseDiffer的范围就变为0到2π\\r\\n                                                                     //m_PeakData[i, j] = phaseDiffer / (2 * PI); // 求出数值对应的比例，范围从0到+1\\r\\n                        }\\r\\n                        bytePeakdata = (byte)NumConversionTo256(phaseDiffer / PI, wd); // 求出数值对应的比例，范围从-1到+1\\r\\n                    }\\r\\n                    break;\\r\\n                case AmplitudeMode.PeakWithPhase:\\r\\n                    {\\r\\n                        double curAmplitude = 0;\\r\\n                        double phaseDiffer = 0;\\r\\n                        tempMax = (double)((byteTempMax - currAvgAmp) * maxVoltage / (maxAMP / 2));\\r\\n                        tempMin = (double)((byteTempMin - currAvgAmp) * maxVoltage / (maxAMP / 2));\\r\\n                        if (tempMax == 0 && tempMin == 0)\\r\\n                        {\\r\\n                            phaseDiffer = 0;\\r\\n                        }\\r\\n                        else\\r\\n                        {\\r\\n                            int currndex = (curFSFFirstPosition + gateStartNum);\\r\\n                            if (ascandata[currndex] > currAvgAmp)\\r\\n                            {\\r\\n                                curAmplitude = (double)(currAvgAmp - ascandata[currndex]) / (maxAMP / 2);\\r\\n                            }\\r\\n                            else\\r\\n                            {\\r\\n                                curAmplitude = (double)(ascandata[currndex]) / (maxAMP / 2);\\r\\n                            }\\r\\n                            if (curAmplitude < -1)\\r\\n                            {\\r\\n                                curAmplitude = -1;\\r\\n                            }\\r\\n                            else if (curAmplitude > 1)\\r\\n                            {\\r\\n                                curAmplitude = 1;\\r\\n                            }\\r\\n                            //结果为弧度，满足 -π/2 ≤θ≤π/2 - 或 - 如果 d < -1 或 d > 1，则为 NaN。\\r\\n                            double curPhase = Math.Asin(curAmplitude);\\r\\n                            phaseDiffer = curPhase - referencePhase; //此时返回结果为相位差\\r\\n                        }\\r\\n                        bytePeakdata = (byte)NumConversionTo256(Math.Cos(phaseDiffer) * (tempMax - tempMin) / 2, wd);  // 幅值（峰峰值）乘以相位的余弦（可确保结果为正）\\r\\n\\r\\n                    }\\r\\n                    break;\\r\\n                case AmplitudeMode.PhaseInverse:\\r\\n                    {\\r\\n\\r\\n                        if (numMax < numMin)//最大值在最小值的前面\\r\\n                        {\\r\\n                            bytePeakdata = byteTempMax;\\r\\n                            if (bytePeakdata < byteMaxThreshold)\\r\\n                            {\\r\\n                                bytePeakdata = 0;\\r\\n                            }\\r\\n                        }\\r\\n                        else //最小值在前面\\r\\n                        {\\r\\n                            bytePeakdata = byteTempMin;\\r\\n\\r\\n                            if (bytePeakdata > byteMinThreshold)\\r\\n                            {\\r\\n                                bytePeakdata = 0;\\r\\n                            }\\r\\n                        }\\r\\n\\r\\n\\r\\n\\r\\n\\r\\n\\r\\n\\r\\n\\r\\n\\r\\n                        //double absPeakValue = GetAbsPeakValueInGate(ascandata, curFSFFirstPosition, FSFGate, gateStartNum, gateLengthNum, maxVoltage, thresholdData, maxAMP);\\r\\n                        ////设置大的正向阈值\\r\\n                        //double bigPosThreshold = 0.96 * absPeakValue * (-PulseType);//和实际设置的值是反的\\r\\n                        ////设置小的正向阈值\\r\\n                        //double smallPosThreshold = 0.8 * absPeakValue * (-PulseType);\\r\\n                        ////设置负向阈值\\r\\n                        //double negativeThreshold = -0.6 * absPeakValue * (-PulseType);\\r\\n\\r\\n                        //bool bBigPosThresholdFound = false;//是否发现大的正向阈值\\r\\n                        //bool bSmallPosThresholdFound = false;//是否发现小的正向阈值\\r\\n                        //bool bNegativeThresholdFound = false;//是否发现负向的阈值\\r\\n\\r\\n\\r\\n                        //tempMax = (double)((byteTempMax - currAvgAmp) * maxVoltage / (maxAMP / 2));\\r\\n                        //tempMin = (double)((byteTempMin - currAvgAmp) * maxVoltage / (maxAMP / 2));\\r\\n\\r\\n                        //int iBigPosThresholdTime = FindValueInGate(bigPosThreshold, curFSFFirstPosition, FSFGate, ascandata, gateStartNum, gateLengthNum, maxVoltage, maxAMP, out bBigPosThresholdFound);\\r\\n\\r\\n                        //int iSmallPosThresholdTime = FindValueInGate(smallPosThreshold, curFSFFirstPosition, FSFGate, ascandata, gateStartNum, gateLengthNum, maxVoltage, maxAMP, out bSmallPosThresholdFound);\\r\\n\\r\\n                        //int iNegativeThresholdTime = FindValueInGate(negativeThreshold, curFSFFirstPosition, FSFGate, ascandata, gateStartNum, gateLengthNum, maxVoltage, maxAMP, out bNegativeThresholdFound);\\r\\n\\r\\n                        ////先到负向阈值，则相位未反转\\r\\n                        ////没反转，则用最大幅值法成像\\r\\n                        //if (iNegativeThresholdTime <= iSmallPosThresholdTime && iNegativeThresholdTime <= iBigPosThresholdTime)\\r\\n                        //{\\r\\n                        //    double absMin = Math.Abs(tempMin);\\r\\n                        //    bytePeakdata = (byte)NumConversionTo256(Math.Max(Math.Abs(tempMin), Math.Abs(tempMax)));\\r\\n                        //    //peakdata = Math.Max(Math.Abs(tempMin), Math.Abs(tempMax));\\r\\n                        //}\\r\\n                        //else //相位发生了反转\\r\\n                        //{\\r\\n                        //    //设置数值对应的颜色\\r\\n                        //    if (bBigPosThresholdFound)\\r\\n                        //    {\\r\\n                        //        bytePeakdata = (byte)NumConversionTo256(1) ; //发生了反转,0xff0000,peakdata = 1\\r\\n                        //    }\\r\\n                        //    else\\r\\n                        //    {\\r\\n                        //        bytePeakdata = (byte)NumConversionTo256(0.75); //发生了临界反转，0xffff00,peakdata=0.75\\r\\n                        //    }\\r\\n                        //}\\r\\n                    }\\r\\n                    break;\\r\\n            }\\r\\n            //StaticParas.glParameters.MaxDataIndex = numMax;\\r\\n            return bytePeakdata;\\r\\n\\r\\n        }\\r\\n\\r\\n        /// <summary>\\r\\n        /// 将峰值数据转换为0-512之间的数字。\\r\\n        /// </summary>\\r\\n        /// <returns></returns>\\r\\n        public static int NumConversionTo512(double m_PeakData)\\r\\n        {\\r\\n            return NumConversionToData(m_PeakData, 512, WaveDataStyle.RF);\\r\\n        }\\r\\n        /// <summary>\\r\\n        /// 将峰值数据转换为0-256之间的数字。\\r\\n        /// </summary>\\r\\n        /// <returns></returns>\\r\\n        public static int NumConversionTo256(double m_PeakData, WaveDataStyle wd)\\r\\n        {\\r\\n            return NumConversionToData(m_PeakData, 256, wd);\\r\\n        }\\r\\n        /// <summary>\\r\\n        /// 将峰值数据转换为0-data之间的数字。\\r\\n        /// </summary>\\r\\n        /// <returns></returns>\\r\\n        public static int NumConversionToData(double value, short data, WaveDataStyle wd)\\r\\n        {\\r\\n            int result = 0;\\r\\n            if (wd == WaveDataStyle.RF)\\r\\n            {\\r\\n\\r\\n                if (value < -1) { value = -1; }\\r\\n                if (value > 1) { value = 1; }\\r\\n                result = (int)(Math.Floor(value * data / 2) + data / 2);\\r\\n            }\\r\\n            else\\r\\n            {\\r\\n                result = (int)(value * data);\\r\\n            }\\r\\n            return result;\\r\\n        }\\r\\n        /// <summary>\\r\\n        /// 非全波采集，只绘制C扫图像\\r\\n        /// </summary>\\r\\n        public static Bitmap DrawCscanOnly(int m_IndexNum, int m_ScanNum, AmplitudeMode m_GateMode, double[] m_PeakData, List<byte[,]> m_Data, Bitmap m_bmpCscan, double maxVoltage, Bitmap m_originBitmap, DrawImageStyle m_DrawImageStyle, ColorBarControlSmall colorBar, WaveDataStyle wd)\\r\\n        {\\r\\n            for (int j = 0; j < m_IndexNum; j++)\\r\\n            {\\r\\n                for (int i = 0; i < m_ScanNum; i++)\\r\\n                {\\r\\n                    int indexOfAScan = j * m_ScanNum + i;\\r\\n                    if (m_GateMode == AmplitudeMode.PostivePeak)\\r\\n                    {\\r\\n                        m_PeakData[indexOfAScan] = m_Data[i][ j, 0] / 32768 * maxVoltage;\\r\\n                    }\\r\\n                    else if (m_GateMode == AmplitudeMode.PeaktoPeak)\\r\\n                    {\\r\\n                        m_PeakData[indexOfAScan] = (m_Data[i][ j, 0] - m_Data[i][ j, 1]) / 2 / 32768 * maxVoltage;\\r\\n                    }\\r\\n                    else if (m_GateMode == AmplitudeMode.NegativePeak)\\r\\n                    {\\r\\n                        m_PeakData[indexOfAScan] = -m_Data[i][ j, 1] / 32768 * maxVoltage;\\r\\n                    }\\r\\n                    else if (m_GateMode == AmplitudeMode.MaxPeak)\\r\\n                    {\\r\\n                        if (m_Data[i][j, 0] > (-m_Data[i][ j, 1]))\\r\\n                        {\\r\\n                            m_PeakData[indexOfAScan] = m_Data[i][ j, 0] / 32768 * maxVoltage;\\r\\n                        }\\r\\n                        else\\r\\n                        {\\r\\n                            m_PeakData[indexOfAScan] = -m_Data[i][ j, 1] / 32768 * maxVoltage;\\r\\n                        }\\r\\n                    }\\r\\n                    // 根据每个信号的峰值绘制图像\\r\\n                    //m_bmpCscan.SetPixel(i, j, DataToColor(m_PeakData[i, j], maxVoltage, m_GateMode, m_DrawImageStyle));\\r\\n                    m_bmpCscan.SetPixel(i, j, DataToColor(m_PeakData[indexOfAScan], m_DrawImageStyle, colorBar, wd));\\r\\n                }\\r\\n            }\\r\\n\\r\\n\\r\\n\\r\\n\\r\\n\\r\\n\\r\\n            if (m_originBitmap != null)\\r\\n            {\\r\\n                m_originBitmap.Dispose();\\r\\n            }\\r\\n            m_originBitmap = new Bitmap(m_bmpCscan, m_bmpCscan.Width, m_bmpCscan.Height);\\r\\n\\r\\n            return m_originBitmap;\\r\\n        }\\r\\n\\r\\n\\r\\n        /// <summary>\\r\\n        /// 获取闸门在数据中开始位置\\r\\n        /// </summary>\\r\\n        /// <param name=\"timeStart\"></param>\\r\\n        /// <param name=\"totalTimeLen\"></param>\\r\\n        /// <param name=\"AScanCount\"></param>\\r\\n        /// <param name=\"FSFGatePosition\"></param>\\r\\n        /// <param name=\"displaystart\"></param>\\r\\n        /// <returns></returns>\\r\\n        public static int GetGateStartNum(double timeStart, double totalTimeLen, int AScanCount, LockGate FSFGate, int displaystart)\\r\\n        {\\r\\n            if (timeStart > totalTimeLen)\\r\\n            {\\r\\n                timeStart = totalTimeLen / 2;\\r\\n            }\\r\\n            int GateStartNum = (int)(timeStart * AScanCount / totalTimeLen);\\r\\n            \\r\\n            // 如果波形开始时间 + 同步闸门开始位置 + 数据闸门开始位置 《 0\\r\\n            int FSFGatePosition = FSFGate.m_CurFSFFirstPosition;\\r\\n            if (FSFGatePosition + FSFGate.m_iUseBottomWave * GateStartNum < 0)\\r\\n            {\\r\\n                // 数据闸门开始位置 = - 同步闸门开始位置 - 波形开始时间(0)\\r\\n                //GateStartNum = -FSFGatePosition - displaystart;\\r\\n                GateStartNum = -FSFGatePosition - displaystart;\\r\\n                if (-1 == FSFGate.m_iUseBottomWave)//底波\\r\\n                {\\r\\n                    GateStartNum = 0;\\r\\n                }\\r\\n                else\\r\\n                {\\r\\n                    GateStartNum = FSFGatePosition;//表面波\\r\\n                }\\r\\n            }\\r\\n            return GateStartNum;\\r\\n        }\\r\\n\\r\\n        /// <summary>\\r\\n        /// 获取闸门长度在数据中的点数\\r\\n        /// </summary>\\r\\n        /// <param name=\"gatelen\"></param>\\r\\n        /// <param name=\"totalTimeLen\"></param>\\r\\n        /// <param name=\"AScanCount\"></param>\\r\\n        /// <param name=\"FSFGatePosition\"></param>\\r\\n        /// <param name=\"displaystart\"></param>\\r\\n        /// <param name=\"gateStartNum\"></param>\\r\\n        /// <returns></returns>\\r\\n        public static int GetGateLengthNum(double gatelen, double totalTimeLen, int AScanCount, int FSFGatePosition, int displaystart, int gateStartNum)\\r\\n        {\\r\\n            // 数据闸门长度 = 闸门长度 * A信号数据长度 / 采样长度\\r\\n            int GateLengthNum = (int)((gatelen) * AScanCount / totalTimeLen);\\r\\n\\r\\n            // 波形起始时间 +同步闸门开始位置索引 + 数据闸门开始位置 + 数据闸门长度 》 A信号数据长度\\r\\n            if ((displaystart + FSFGatePosition + gateStartNum + GateLengthNum) > AScanCount)\\r\\n            {\\r\\n                // 数据闸门长度 = A信号数据长度 - 同步闸门开始位置索引 - 数据闸门开始位置 - 波形起始时间\\r\\n                GateLengthNum = AScanCount - FSFGatePosition - gateStartNum - displaystart;\\r\\n            }\\r\\n            //存文件错误\\r\\n            if (GateLengthNum < 0)\\r\\n            {\\r\\n                GateLengthNum = AScanCount - gateStartNum;\\r\\n            }\\r\\n            return GateLengthNum;\\r\\n        }\\r\\n\\r\\n\\r\\n\\r\\n\\r\\n    }',\n",
       "   'methods': [{'method_name': 'FindFirstPostionInFSFGate',\n",
       "     'method_comment': '',\n",
       "     'method_code': 'publicstaticintFindFirstPostionInFSFGate(int threshValue, int gateLengthNum, int gateStartNum, bool isPositiveThresh, byte[] ascandata,\\r\\n                                                      WaveDataStyle wd, int offset, int maxampvalue,double alpha=1.0, int step = 10){\\r\\n            // 定义循环变量\\r\\n            int iPos = 0;\\r\\n            bool bHasFound = false;\\r\\n\\r\\n\\r\\n            if (ascandata == null)\\r\\n            {\\r\\n                return 0;\\r\\n            }\\r\\n\\r\\n            int indexofCrossPoint = 0;\\r\\n            int iposMax = Math.Min(gateStartNum + gateLengthNum, ascandata.Length);\\r\\n\\r\\n            //int initIndexofCrossPoint = 0;//粗找的第1个交点\\r\\n            //bool bInitHasFound = false;\\r\\n            ////粗找\\r\\n            //if (isPositiveThresh)//正向阈值\\r\\n            //{\\r\\n\\r\\n            //    for (iPos = gateStartNum; iPos < iposMax; )\\r\\n            //    {\\r\\n            //        if (ascandata[iPos] >= threshValue)\\r\\n            //        {\\r\\n            //            initIndexofCrossPoint = iPos;\\r\\n            //            bInitHasFound = true;\\r\\n            //            break;\\r\\n            //        }\\r\\n            //        iPos += step;\\r\\n            //        if (iPos >= iposMax && !bInitHasFound)//找到头也没有找到交点,那么缩小不长从头再来\\r\\n            //        {\\r\\n            //            Debug.WriteLine(\"dllzg_ggggg.....\");\\r\\n            //            iPos = gateStartNum;\\r\\n            //            step--;\\r\\n            //            if (step == 0)\\r\\n            //            {\\r\\n            //                bInitHasFound = false;\\r\\n            //                bHasFound = false;\\r\\n            //                break;\\r\\n            //            }\\r\\n            //        }\\r\\n            //    }\\r\\n\\r\\n            //    if (bInitHasFound)//如果粗找找到了交点，则进行精细查找\\r\\n            //    {\\r\\n            //        for (iPos = Math.Min(gateStartNum, initIndexofCrossPoint - step); iPos <= initIndexofCrossPoint; iPos++)\\r\\n            //        {\\r\\n            //            if (ascandata[iPos] >= threshValue)\\r\\n            //            {\\r\\n            //                indexofCrossPoint = iPos;\\r\\n            //                bHasFound = true;\\r\\n            //                break;\\r\\n            //            }\\r\\n            //        }\\r\\n            //    }\\r\\n            //}\\r\\n\\r\\n\\r\\n            List<byte> allamp = new List<byte>();\\r\\n\\r\\n            //int initIndexofCrossPoint = 0;//粗找的第1个交点\\r\\n\\r\\n            if (isPositiveThresh || wd != WaveDataStyle.RF) //正向阈值或者除RF以外的三种模式\\r\\n            {\\r\\n\\r\\n                //for (iPos = gateStartNum; iPos < iposMax; iPos += 4)\\r\\n                for (iPos = gateStartNum; iPos < iposMax; iPos++)\\r\\n                {\\r\\n                    byte actualamp0 = (byte)DataUtils.GetActualAmp((int)wd, ascandata[iPos], offset, maxampvalue, (float)alpha, false);\\r\\n                    allamp.Add(actualamp0);\\r\\n                    //if (wd != WaveDataStyle.RF)\\r\\n                    //{\\r\\n                    //    Console.WriteLine(actualamp0);\\r\\n\\r\\n                    //}\\r\\n                    if (actualamp0 >= threshValue)\\r\\n                    {\\r\\n                        indexofCrossPoint = iPos;\\r\\n                        bHasFound = true;\\r\\n                        break;\\r\\n                    }\\r\\n\\r\\n                }\\r\\n            }\\r\\n            else//负向阈值\\r\\n            {\\r\\n                for (iPos = gateStartNum; iPos < iposMax; iPos += 4)\\r\\n                {\\r\\n                    if (ascandata[iPos] <= threshValue)\\r\\n                    {\\r\\n                        indexofCrossPoint = iPos;\\r\\n                        bHasFound = true;\\r\\n                        break;\\r\\n                    }\\r\\n                    if ((iPos + 1) < iposMax && ascandata[iPos + 1] <= threshValue)\\r\\n                    {\\r\\n                        indexofCrossPoint = iPos + 1;\\r\\n                        bHasFound = true;\\r\\n                        break;\\r\\n                    }\\r\\n                    if ((iPos + 2) < iposMax && ascandata[iPos + 2] <= threshValue)\\r\\n                    {\\r\\n                        indexofCrossPoint = iPos + 2;\\r\\n                        bHasFound = true;\\r\\n                        break;\\r\\n                    }\\r\\n                    if ((iPos + 3) < iposMax && ascandata[iPos + 3] <= threshValue)\\r\\n                    {\\r\\n                        indexofCrossPoint = iPos + 3;\\r\\n                        bHasFound = true;\\r\\n                        break;\\r\\n                    }\\r\\n                }\\r\\n            }//*/\\r\\n\\r\\n            if (!bHasFound) //如果没找到符合条件的值，则返回FSF闸门中间点的下标 \\r\\n            {\\r\\n                indexofCrossPoint = gateStartNum;//相对于起点，这是绝对位置\\r\\n            }\\r\\n            return indexofCrossPoint;\\r\\n        }',\n",
       "     'method_prefix': 'public static',\n",
       "     'method_param': '(int threshValue, int gateLengthNum, int gateStartNum, bool isPositiveThresh, byte[] ascandata,\\r\\n                                                      WaveDataStyle wd, int offset, int maxampvalue,double alpha=1.0, int step = 10)'},\n",
       "    {'method_name': 'FindFirstPostionRelativeInGate',\n",
       "     'method_comment': '',\n",
       "     'method_code': 'publicstaticintFindFirstPostionRelativeInGate(int threshValue, int gateLengthNum, int gateStartNum, bool isPositiveThresh, byte[] ascandata){\\r\\n            // 定义循环变量\\r\\n            int iPos = 0;\\r\\n            bool bHasFound = false;\\r\\n\\r\\n\\r\\n            if (ascandata == null)\\r\\n            {\\r\\n                return 0;\\r\\n            }\\r\\n\\r\\n\\r\\n\\r\\n            if (isPositiveThresh)//正向阈值\\r\\n            {\\r\\n                for (iPos = gateStartNum; iPos < Math.Min(gateStartNum + gateLengthNum, ascandata.Length); iPos++)\\r\\n                {\\r\\n                    if (ascandata[iPos] >= threshValue)\\r\\n                    {\\r\\n                        bHasFound = true;\\r\\n                        break;\\r\\n                    }\\r\\n                }\\r\\n            }\\r\\n            else//负向阈值\\r\\n            {\\r\\n                for (iPos = gateStartNum; iPos < Math.Min(gateStartNum + gateLengthNum, ascandata.Length); iPos++)\\r\\n                {\\r\\n                    if (ascandata[iPos] <= threshValue)\\r\\n                    {\\r\\n                        bHasFound = true;\\r\\n                        break;\\r\\n                    }\\r\\n                }\\r\\n            }\\r\\n\\r\\n            if (!bHasFound) //如果没找到符合条件的值，则返回FSF闸门0 \\r\\n            {\\r\\n                iPos = gateStartNum;//相对于起点，这是绝对位置\\r\\n            }\\r\\n            return iPos - gateStartNum;\\r\\n        }',\n",
       "     'method_prefix': 'public static',\n",
       "     'method_param': '(int threshValue, int gateLengthNum, int gateStartNum, bool isPositiveThresh, byte[] ascandata)'},\n",
       "    {'method_name': 'CalCouplantDepth',\n",
       "     'method_comment': '',\n",
       "     'method_code': 'publicstaticdoubleCalCouplantDepth(LockGate FSFGate, double v, double timeLen, double timedelay, byte[] ascandata){\\r\\n            int indexStartWave = FSFGate.m_GateStartNum;\\r\\n            //int indexSufaceWave = FSFGate.m_GateStartNum;\\r\\n            for (; indexStartWave < ascandata.Length; indexStartWave++)\\r\\n            {\\r\\n                if (ascandata[indexStartWave] >= FSFGate.ThreshAMP)\\r\\n                {\\r\\n                    break;\\r\\n                }\\r\\n            }\\r\\n            //for (; indexSufaceWave < Math.Min(FSFGate.m_GateStartNum + FSFGate.m_GateLengthNum, ascandata.Length); indexSufaceWave++)\\r\\n            //{\\r\\n            //    if (ascandata[indexSufaceWave] >= FSFGate.ThreshAMP)\\r\\n            //    {\\r\\n            //        break;\\r\\n            //    }\\r\\n\\r\\n            //}\\r\\n            return (Math.Abs(indexStartWave) * timeLen / ascandata.Length + timedelay) * v / 2;\\r\\n        }',\n",
       "     'method_prefix': 'public static',\n",
       "     'method_param': '(LockGate FSFGate, double v, double timeLen, double timedelay, byte[] ascandata)'},\n",
       "    {'method_name': 'DataToColor',\n",
       "     'method_comment': '',\n",
       "     'method_code': 'publicstaticColorDataToColor(double data, DrawImageStyle drawImageStyle, ColorBarControlSmall colorBar, WaveDataStyle wd, bool sign = true){\\r\\n            int res = 0;\\r\\n            if (!sign)\\r\\n            {\\r\\n                res = NumConversionTo256(data, wd);\\r\\n            }\\r\\n            else\\r\\n            {\\r\\n                res = (int)data;\\r\\n            }\\r\\n\\r\\n            if (drawImageStyle == DrawImageStyle.Gray)\\r\\n            {\\r\\n                return Color.FromArgb(res, res, res);\\r\\n            }\\r\\n            else\\r\\n            {\\r\\n                res *= 2;\\r\\n\\r\\n                if (res < 0)\\r\\n                {\\r\\n                    res = 0;\\r\\n                }\\r\\n                else\\r\\n                {\\r\\n                    if (res < 1)\\r\\n                    {\\r\\n                        res = 1;\\r\\n                    }\\r\\n                    if (res > 511)\\r\\n                    {\\r\\n                        res = 511;\\r\\n                    }\\r\\n                }\\r\\n\\r\\n                //Color colorRet = Color.FromArgb(ColorBarControlSmall.m_CColorData.m_ColorTab[res]);\\r\\n                Color colorRet = Color.FromArgb(colorBar.m_CColorData.m_ColorTab[res]);\\r\\n                return colorRet;\\r\\n            }\\r\\n        }',\n",
       "     'method_prefix': 'public static',\n",
       "     'method_param': '(double data, DrawImageStyle drawImageStyle, ColorBarControlSmall colorBar, WaveDataStyle wd, bool sign = true)'},\n",
       "    {'method_name': 'DataToColorForInt',\n",
       "     'method_comment': '',\n",
       "     'method_code': 'publicstaticintDataToColorForInt(double data, DrawImageStyle drawImageStyle, int[] m_ColorTab, WaveDataStyle wd, bool sign = true){\\r\\n            int res = 0;\\r\\n            if (!sign)\\r\\n            {\\r\\n                res = NumConversionTo256(data, wd);\\r\\n            }\\r\\n            else\\r\\n            {\\r\\n                res = (int)data;\\r\\n            }\\r\\n\\r\\n            if (drawImageStyle == DrawImageStyle.Gray)\\r\\n            {\\r\\n                return Color.FromArgb(res, res, res).ToArgb();\\r\\n            }\\r\\n            else\\r\\n            {\\r\\n                res *= 2;\\r\\n\\r\\n\\r\\n                if (res < 0)\\r\\n                {\\r\\n                    res = 0;\\r\\n                }\\r\\n                if (res > 511)\\r\\n                {\\r\\n                    res = 511;\\r\\n                }\\r\\n\\r\\n                //Color colorRet = Color.FromArgb(ColorBarControlSmall.m_CColorData.m_ColorTab[res]);\\r\\n                int colorRet = m_ColorTab[res];\\r\\n                return colorRet;\\r\\n            }\\r\\n        }',\n",
       "     'method_prefix': 'public static',\n",
       "     'method_param': '(double data, DrawImageStyle drawImageStyle, int[] m_ColorTab, WaveDataStyle wd, bool sign = true)'},\n",
       "    {'method_name': 'DataToColorForInt',\n",
       "     'method_comment': '',\n",
       "     'method_code': 'publicstaticintDataToColorForInt(double data, DrawImageStyle drawImageStyle, ColorBarControlSmall colorBar, WaveDataStyle wd, bool sign = true){\\r\\n            int res = 0;\\r\\n            if (!sign)\\r\\n            {\\r\\n                res = NumConversionTo256(data, wd);\\r\\n            }\\r\\n            else\\r\\n            {\\r\\n                res = (int)data;\\r\\n            }\\r\\n\\r\\n            if (drawImageStyle == DrawImageStyle.Gray)\\r\\n            {\\r\\n                return Color.FromArgb(res, res, res).ToArgb();\\r\\n            }\\r\\n            else\\r\\n            {\\r\\n                res *= 2;\\r\\n\\r\\n\\r\\n                if (res < 0)\\r\\n                {\\r\\n                    res = 0;\\r\\n                }\\r\\n                if (res > 511)\\r\\n                {\\r\\n                    res = 511;\\r\\n                }\\r\\n\\r\\n                //Color colorRet = Color.FromArgb(ColorBarControlSmall.m_CColorData.m_ColorTab[res]);\\r\\n                int colorRet = colorBar.m_CColorData.m_ColorTab[res];\\r\\n                return colorRet;\\r\\n            }\\r\\n        }',\n",
       "     'method_prefix': 'public static',\n",
       "     'method_param': '(double data, DrawImageStyle drawImageStyle, ColorBarControlSmall colorBar, WaveDataStyle wd, bool sign = true)'},\n",
       "    {'method_name': 'OutOldColorBar',\n",
       "     'method_comment': '',\n",
       "     'method_code': 'publicstaticvoidOutOldColorBar(){\\r\\n            double step = 0.25 / 63.75;\\r\\n            int R = 0, G = 0, B = 0;\\r\\n            double VoltageScope = 1.0;\\r\\n            for (double data = 0; data <= 1; data += step)\\r\\n            {\\r\\n\\r\\n                if (data <= 0)\\r\\n                    R = G = B = 0;\\r\\n                else if (data <= VoltageScope / 4)\\r\\n                {\\r\\n                    R = G = 0;\\r\\n                    B = Functions.RoundToInt(data * 255 * 4 / VoltageScope);\\r\\n                }\\r\\n\\r\\n                else if (data <= VoltageScope / 2)\\r\\n                {\\r\\n                    R = 0;\\r\\n                    G = Functions.RoundToInt((data - VoltageScope / 4) * 255 * 4 / VoltageScope);\\r\\n                    B = Functions.RoundToInt(255 - (data - VoltageScope / 4) * 255 * 4 / VoltageScope);\\r\\n                }\\r\\n\\r\\n                else if (data <= VoltageScope * 3 / 4)\\r\\n                {\\r\\n                    R = Functions.RoundToInt((data - VoltageScope / 2) * 255 * 4 / VoltageScope);\\r\\n                    G = 255;\\r\\n                    B = 0;\\r\\n                }\\r\\n\\r\\n                else if (data <= VoltageScope)\\r\\n                {\\r\\n                    R = 255;\\r\\n                    G = Functions.RoundToInt(255 - (data - VoltageScope * 3 / 4) * 255 * 4 / VoltageScope);\\r\\n                    B = 0;\\r\\n                }\\r\\n\\r\\n                else\\r\\n                {\\r\\n                    R = 255;\\r\\n                    G = 0;\\r\\n                    B = 0;\\r\\n                }\\r\\n            }\\r\\n        }',\n",
       "     'method_prefix': 'public static',\n",
       "     'method_param': '()'},\n",
       "    {'method_name': 'AdjustPeakData',\n",
       "     'method_comment': '',\n",
       "     'method_code': 'publicstaticdouble[]AdjustPeakData(double[] data, int scanNum, int indexNum, AmplitudeMode m_GateMode, double m_MaxVoltage, WaveDataStyle wd){\\r\\n            int iLen = scanNum * indexNum;\\r\\n            double[] result = new double[iLen];\\r\\n            double min, max;\\r\\n            min = double.MaxValue;\\r\\n            max = double.MinValue;\\r\\n\\r\\n            for (int i = 0; i < iLen; i++) //先找到最大、最小值\\r\\n            {\\r\\n                if (data[i] > max)\\r\\n                {\\r\\n                    max = data[i];\\r\\n                }\\r\\n                if (data[i] < min)\\r\\n                {\\r\\n                    min = data[i];\\r\\n                }\\r\\n            }\\r\\n\\r\\n\\r\\n            double valZone = max - min;\\r\\n            for (int i = 0; i < iLen; i++)\\r\\n            {\\r\\n                result[i] = NumConversionTo256((data[i] - min) * m_MaxVoltage / valZone, wd);\\r\\n            }\\r\\n            return result;\\r\\n        }',\n",
       "     'method_prefix': 'public static',\n",
       "     'method_param': '(double[] data, int scanNum, int indexNum, AmplitudeMode m_GateMode, double m_MaxVoltage, WaveDataStyle wd)'},\n",
       "    {'method_name': 'CheckFileFormat',\n",
       "     'method_comment': '',\n",
       "     'method_code': 'publicstaticboolCheckFileFormat(Config config, int ishowChanNo){\\r\\n            if (config.m_DataGateList.Count <= 0 || config.m_DataGateList.Count > 10)//数据格式不对\\r\\n            {\\r\\n                return false;\\r\\n            }\\r\\n            for (int i = 0; i < config.m_DataGateList.Count; i++)\\r\\n            {\\r\\n                if (config.m_DataGateList[i].m_GateLength <= 0.01 || config.m_DataGateList[i].m_GateLength > 1000)\\r\\n                {\\r\\n                    return false;\\r\\n                }\\r\\n                if (config.m_DataGateList[i].m_GateStart < 0)\\r\\n                {\\r\\n                    return false;\\r\\n                }\\r\\n                if (config.m_DataGateList[i].m_Threshold < 0 || config.m_DataGateList[i].m_Threshold > 1)\\r\\n                {\\r\\n                    return false;\\r\\n                }\\r\\n            }\\r\\n            if (config.m_FSFGate.m_GateIsActived)\\r\\n            {\\r\\n                if (config.m_FSFGate.m_GateLength <= 0.01 || config.m_FSFGate.m_GateLength > 1000)\\r\\n                {\\r\\n                    return false;\\r\\n                }\\r\\n                if (config.m_FSFGate.m_GateStart < 0)\\r\\n                {\\r\\n                    return false;\\r\\n                }\\r\\n                if (config.m_FSFGate.m_Threshold < 0 || config.m_FSFGate.m_Threshold > 1)\\r\\n                {\\r\\n                    return false;\\r\\n                }\\r\\n            }\\r\\n            if (config.m_ScanNum <= 0\\r\\n                   || config.m_ScanNum <= 0\\r\\n                   || config.m_IndexNum <= 0\\r\\n                   || config.m_IndexNum <= 0\\r\\n                   )//数据格式不对\\r\\n            {\\r\\n                return false;\\r\\n            }\\r\\n\\r\\n            if (ishowChanNo != 0)\\r\\n            {\\r\\n                return false;\\r\\n            }\\r\\n\\r\\n\\r\\n            //if (StaticParas.glConfig.m_AscanLength <= 0 )//数据格式不对\\r\\n            //{\\r\\n            //    return false;\\r\\n            //}\\r\\n\\r\\n            return true;\\r\\n        }',\n",
       "     'method_prefix': 'public static',\n",
       "     'method_param': '(Config config, int ishowChanNo)'},\n",
       "    {'method_name': 'ReadNewVersionData',\n",
       "     'method_comment': '',\n",
       "     'method_code': 'publicstaticboolReadNewVersionData(String sFile, bool isfullshow, ref int iShowChannelNo, ref int offsetToZero, ref Config config, ref List<byte[]> oneChannelData, ref List<byte[,]> notfulldata){\\r\\n            try\\r\\n            {\\r\\n                iShowChannelNo = 0;\\r\\n                config = new Config();\\r\\n\\r\\n\\r\\n                Stream stream = File.Open(sFile, FileMode.Open);\\r\\n                BinaryReader br = new BinaryReader(stream);\\r\\n                int version = br.ReadInt16();//内部版本号，暂时用1,表示版本1,整型\\r\\n                config.m_Frequency = br.ReadInt32(); //采样频率\\r\\n                offsetToZero = br.ReadInt32();      //偏移量\\r\\n                config.m_FSFGate.m_iUseBottomWave = br.ReadInt32(); //同步闸门是否底波\\r\\n                                                                    //StaticParas.glConfig.m_MaxVoltage = br.ReadDouble(); //电压最大值\\r\\n                config.m_TimeDelay = br.ReadDouble();      //延迟时间\\r\\n                config.m_TimeLength = br.ReadDouble();     //采样长度    \\r\\n                                                           //PCIe9802SImport.offsetToZero = br.ReadInt32();            //偏移量\\r\\n                                                           //跟踪闸门参数\\r\\n                config.m_FSFGate.m_GateIsActived = br.ReadBoolean();// 读取同步闸门是否启用\\r\\n\\r\\n\\r\\n\\r\\n                config.m_FSFGate.m_GateStart = br.ReadDouble();\\r\\n                config.m_FSFGate.m_GateLength = br.ReadDouble();\\r\\n                config.m_FSFGate.m_Threshold = br.ReadDouble();\\r\\n                if (!config.m_FSFGate.m_GateIsActived)\\r\\n                {\\r\\n                    config.m_FSFGate.m_GateStart = 0;\\r\\n                    config.m_FSFGate.m_GateLength = 0;\\r\\n                    config.m_FSFGate.m_Threshold = 0;\\r\\n                }\\r\\n\\r\\n                // ===================  ediy by camellia 20190815  ===========================\\r\\n                config.m_FullWaveFlag = br.ReadBoolean();\\r\\n                // 读取闸门数量\\r\\n                int iGateDataNum = br.ReadInt32();\\r\\n\\r\\n                for (int i = 0; i < iGateDataNum; i++)\\r\\n                {\\r\\n                    // 添加一套闸门参数\\r\\n                    config.m_DataGateList.Add(new LockGate());\\r\\n                    // 数据闸门参数\\r\\n                    config.m_DataGateList[i].m_GateStart = br.ReadDouble();\\r\\n                    config.m_DataGateList[i].m_GateLength = br.ReadDouble();\\r\\n                    config.m_DataGateList[i].m_Threshold = br.ReadDouble();\\r\\n                    config.m_DataGateList[i].m_GateMode = (AmplitudeMode)br.ReadInt32();\\r\\n                    // colorbar索引\\r\\n                    config.colorBarArray[i] = br.ReadInt32();\\r\\n                    // colorbar上限\\r\\n                    config.colorBarUpValueArray[i] = br.ReadInt32();\\r\\n                    // colorbar下限\\r\\n                    config.colorBarDownValueArray[i] = br.ReadInt32();\\r\\n\\r\\n\\r\\n\\r\\n\\r\\n\\r\\n\\r\\n                }\\r\\n\\r\\n                // 扫查参数\\r\\n                config.m_ScanWidth = br.ReadDouble();\\r\\n                config.m_IndexWidth = br.ReadDouble();\\r\\n                config.m_ScanResolution = br.ReadDouble();\\r\\n                config.m_IndexResolution = br.ReadDouble();\\r\\n\\r\\n\\r\\n                // 读入扫查行、列数\\r\\n                config.m_ScanNum = br.ReadInt32();\\r\\n                config.m_IndexNum = br.ReadInt32();\\r\\n\\r\\n                // A扫描长度\\r\\n                config.m_AscanLength = br.ReadInt32();\\r\\n                // 每个通道有多少A扫描\\r\\n                int OneChannelAscanNum = br.ReadInt32();\\r\\n                config.m_ActualCollAScanNum = (ulong)OneChannelAscanNum;\\r\\n\\r\\n                // 通道对应数（1,2,3,4,5,6,7,8）\\r\\n                iShowChannelNo = br.ReadInt32();\\r\\n                // 所有备用量\\r\\n                StaticParas.comments = new string[8] { \"\", \"\", \"\", \"\", \"\", \"\", \"\", \"\" };\\r\\n                string strcomment = br.ReadString();\\r\\n                string[] arrcomment = strcomment.Split(\\',\\');\\r\\n                for (int i = 0; i < arrcomment.Length; i++)\\r\\n                {\\r\\n                    StaticParas.comments[i] = arrcomment[i];\\r\\n                }\\r\\n\\r\\n                if (string.IsNullOrEmpty(StaticParas.comments[2]))\\r\\n                {\\r\\n                    config.m_RulerUnit = RulerUnit.us;\\r\\n                }\\r\\n                else\\r\\n                {\\r\\n                    config.m_RulerUnit = (RulerUnit)Convert.ToInt32(StaticParas.comments[2]);\\r\\n                }\\r\\n                if (string.IsNullOrEmpty(StaticParas.comments[3]))\\r\\n                {\\r\\n                    config.m_WaveStyle = WaveStyle.longi;\\r\\n                }\\r\\n                else\\r\\n                {\\r\\n                    config.m_WaveStyle = (WaveStyle)Convert.ToInt32(StaticParas.comments[3]);\\r\\n                }\\r\\n                if (string.IsNullOrEmpty(StaticParas.comments[4]))\\r\\n                {\\r\\n                    config.m_MaterialVel = 1.48;\\r\\n                }\\r\\n                else\\r\\n                {\\r\\n                    config.m_MaterialVel = Convert.ToDouble(StaticParas.comments[4]);\\r\\n                }\\r\\n                if (string.IsNullOrEmpty(StaticParas.comments[5]))\\r\\n                {\\r\\n                    config.m_DepthTimeLength = 0;\\r\\n                }\\r\\n                else\\r\\n                {\\r\\n                    config.m_DepthTimeLength = Convert.ToDouble(StaticParas.comments[5]);\\r\\n                }\\r\\n                //if (string.IsNullOrEmpty(StaticParas.comments[6]))\\r\\n                //{\\r\\n                //    StaticParas.glSignalSrc = 1;\\r\\n                //}\\r\\n                //else\\r\\n                //{\\r\\n                //    StaticParas.glSignalSrc = Convert.ToInt32(StaticParas.comments[6]);\\r\\n                //}\\r\\n                if (string.IsNullOrEmpty(StaticParas.comments[7]))\\r\\n                {\\r\\n                    config.m_WaveDataStyle = WaveDataStyle.RF;\\r\\n                }\\r\\n                else\\r\\n                {\\r\\n                    config.m_WaveDataStyle = (WaveDataStyle)Convert.ToInt32(StaticParas.comments[7]);\\r\\n                }\\r\\n                // 读取备用量\\r\\n                //for (int i = 0; i < 6; i++)\\r\\n                //{\\r\\n                //    StaticParas.comments[i] = br.ReadString();\\r\\n                //}\\r\\n                //config.m_RulerUnit = (RulerUnit)Convert.ToInt32(StaticParas.comments[1]);\\r\\n                //config.m_WaveStyle = (WaveStyle)Convert.ToInt32(StaticParas.comments[2]);\\r\\n                //config.transWave = Convert.ToDouble(StaticParas.comments[3]);\\r\\n                //config.longiWave = Convert.ToDouble(StaticParas.comments[4]);\\r\\n\\r\\n                // 读入全波数据\\r\\n                oneChannelData = new List<byte[]>();\\r\\n                // 读入数据\\r\\n                if (config.m_FullWaveFlag)\\r\\n                {\\r\\n                    if (!isfullshow)\\r\\n                    {\\r\\n                        //1 读非全波数据\\r\\n                        notfulldata = new List<byte[,]>();\\r\\n\\r\\n                        for (int i = 0; i < config.m_ScanNum; i++)\\r\\n                        {\\r\\n                            byte[,] tmpIndexData = new byte[config.m_IndexNum, iGateDataNum * 2];\\r\\n                            for (int j = 0; j < config.m_IndexNum; j++)\\r\\n                            {\\r\\n                                for (int k = 0; k < iGateDataNum * 2; k++)\\r\\n                                {\\r\\n                                    tmpIndexData[j, k] = br.ReadByte();\\r\\n                                }\\r\\n                            }\\r\\n                            notfulldata.Add(tmpIndexData);\\r\\n                        }\\r\\n\\r\\n\\r\\n                        //2 读取一个A信号，0,0\\r\\n                        byte[] oneAscanData = null;// new byte[StaticParas.glConfig.m_AscanLength];\\r\\n                        oneAscanData = br.ReadBytes(config.m_AscanLength);\\r\\n                        oneChannelData.Add(oneAscanData);\\r\\n                    }\\r\\n                    else\\r\\n                    {\\r\\n                        for (int i = 0; i < OneChannelAscanNum; i++)\\r\\n                        {\\r\\n                            // 存储一个A扫描的数组\\r\\n                            //byte[] oneAscanData = new byte[StaticParas.glConfig.m_AscanLength];\\r\\n                            byte[] oneAscanData = null;// new byte[StaticParas.glConfig.m_AscanLength];\\r\\n                            oneAscanData = br.ReadBytes(config.m_AscanLength);\\r\\n                            oneChannelData.Add(oneAscanData);\\r\\n\\r\\n                        }\\r\\n                    }\\r\\n\\r\\n                }\\r\\n                else\\r\\n                {\\r\\n                    // 读入非全波数据=====未修改（新的数据格式）\\r\\n                    notfulldata = new List<byte[,]>();\\r\\n                    for (int i = 0; i < config.m_ScanNum; i++)\\r\\n                    {\\r\\n                        byte[,] tmpIndexData = new byte[config.m_IndexNum, iGateDataNum * 2];\\r\\n                        for (int j = 0; j < config.m_IndexNum; j++)\\r\\n                        {\\r\\n                            for (int k = 0; k < iGateDataNum * 2; k++)\\r\\n                            {\\r\\n                                tmpIndexData[j, k] = br.ReadByte();\\r\\n                            }\\r\\n                        }\\r\\n                        notfulldata.Add(tmpIndexData);\\r\\n                    }\\r\\n\\r\\n\\r\\n                }\\r\\n\\r\\n\\r\\n                br.Close();\\r\\n                stream.Close();\\r\\n                return CheckFileFormat(config, iShowChannelNo);\\r\\n            }\\r\\n            catch (Exception ex)\\r\\n            {\\r\\n                Console.WriteLine(ex.ToString());\\r\\n                config.colorBarDownValueArray[0] = 377;\\r\\n                config.colorBarUpValueArray[0] = 0;\\r\\n                Console.WriteLine(\"文件读取失败，请重试\");\\r\\n                //LoadingHelper.CloseForm();//关闭\\r\\n                return false;\\r\\n            }\\r\\n\\r\\n        }',\n",
       "     'method_prefix': 'public static',\n",
       "     'method_param': '(String sFile, bool isfullshow, ref int iShowChannelNo, ref int offsetToZero, ref Config config, ref List<byte[]> oneChannelData, ref List<byte[,]> notfulldata)'},\n",
       "    {'method_name': 'ReadNewVersionData',\n",
       "     'method_comment': '',\n",
       "     'method_code': 'publicstaticboolReadNewVersionData(String sFile, bool isfullshow, StatusStrip status, ToolStripStatusLabel toollabel, ref int iShowChannelNo, ref int offsetToZero, ref Config config, ref List<byte[]> oneChannelData, ref List<byte[,]> notfulldata, ref bool isReadOk){\\r\\n            try\\r\\n            {\\r\\n                isReadOk = false;\\r\\n                iShowChannelNo = 0;\\r\\n                config = new Config();\\r\\n\\r\\n\\r\\n\\r\\n\\r\\n                Stream stream = File.Open(sFile, FileMode.Open);\\r\\n                BinaryReader br = new BinaryReader(stream);\\r\\n                int version = br.ReadInt16();//内部版本号，暂时用1,表示版本1,整型\\r\\n                config.m_Frequency = br.ReadInt32(); //采样频率\\r\\n                offsetToZero = br.ReadInt32();      //偏移量\\r\\n                config.m_FSFGate.m_iUseBottomWave = br.ReadInt32(); //同步闸门是否底波\\r\\n                                                                    //StaticParas.glConfig.m_MaxVoltage = br.ReadDouble(); //电压最大值\\r\\n                config.m_TimeDelay = br.ReadDouble();      //延迟时间\\r\\n                config.m_TimeLength = br.ReadDouble();     //采样长度    \\r\\n                                                           //PCIe9802SImport.offsetToZero = br.ReadInt32();            //偏移量\\r\\n                                                           //跟踪闸门参数\\r\\n                config.m_FSFGate.m_GateIsActived = br.ReadBoolean();// 读取同步闸门是否启用\\r\\n\\r\\n\\r\\n\\r\\n                config.m_FSFGate.m_GateStart = br.ReadDouble();\\r\\n                config.m_FSFGate.m_GateLength = br.ReadDouble();\\r\\n                config.m_FSFGate.m_Threshold = br.ReadDouble();\\r\\n                if (!config.m_FSFGate.m_GateIsActived)\\r\\n                {\\r\\n                    config.m_FSFGate.m_GateStart = 0;\\r\\n                    config.m_FSFGate.m_GateLength = 0;\\r\\n                    config.m_FSFGate.m_Threshold = 0;\\r\\n                }\\r\\n\\r\\n                // ===================  ediy by camellia 20190815  ===========================\\r\\n                config.m_FullWaveFlag = br.ReadBoolean();\\r\\n                // 读取闸门数量\\r\\n                int iGateDataNum = br.ReadInt32();\\r\\n\\r\\n                for (int i = 0; i < iGateDataNum; i++)\\r\\n                {\\r\\n                    // 添加一套闸门参数\\r\\n                    config.m_DataGateList.Add(new LockGate());\\r\\n                    // 数据闸门参数\\r\\n                    config.m_DataGateList[i].m_GateStart = br.ReadDouble();\\r\\n                    config.m_DataGateList[i].m_GateLength = br.ReadDouble();\\r\\n                    config.m_DataGateList[i].m_Threshold = br.ReadDouble();\\r\\n                    config.m_DataGateList[i].m_GateMode = (AmplitudeMode)br.ReadInt32();\\r\\n                    // colorbar索引\\r\\n                    config.colorBarArray[i] = br.ReadInt32();\\r\\n                    // colorbar上限\\r\\n                    config.colorBarUpValueArray[i] = br.ReadInt32();\\r\\n                    // colorbar下限\\r\\n                    config.colorBarDownValueArray[i] = br.ReadInt32();\\r\\n\\r\\n                }\\r\\n\\r\\n                // 扫查参数\\r\\n                config.m_ScanWidth = br.ReadDouble();\\r\\n                config.m_IndexWidth = br.ReadDouble();\\r\\n                config.m_ScanResolution = br.ReadDouble();\\r\\n                config.m_IndexResolution = br.ReadDouble();\\r\\n\\r\\n\\r\\n                // 读入扫查行、列数\\r\\n                config.m_ScanNum = br.ReadInt32();\\r\\n                config.m_IndexNum = br.ReadInt32();\\r\\n\\r\\n                // A扫描长度\\r\\n                config.m_AscanLength = br.ReadInt32();\\r\\n                // 每个通道有多少A扫描\\r\\n                int OneChannelAscanNum = br.ReadInt32();\\r\\n                config.m_ActualCollAScanNum = (ulong)OneChannelAscanNum;\\r\\n                // 通道对应数（1,2,3,4,5,6,7,8）\\r\\n                iShowChannelNo = br.ReadInt32();\\r\\n                // 所有备用量\\r\\n                StaticParas.comments = new string[8] { \"\", \"\", \"\", \"\", \"\", \"\", \"\", \"\" };\\r\\n                string strcomment = br.ReadString();\\r\\n                string[] arrcomment = strcomment.Split(\\',\\');\\r\\n                for (int i = 0; i < arrcomment.Length; i++)\\r\\n                {\\r\\n                    StaticParas.comments[i] = arrcomment[i];\\r\\n                }\\r\\n\\r\\n                if (string.IsNullOrEmpty(StaticParas.comments[2]))\\r\\n                {\\r\\n                    config.m_RulerUnit = RulerUnit.us;\\r\\n                }\\r\\n                else\\r\\n                {\\r\\n                    config.m_RulerUnit = (RulerUnit)Convert.ToInt32(StaticParas.comments[2]);\\r\\n                }\\r\\n                if (string.IsNullOrEmpty(StaticParas.comments[3]))\\r\\n                {\\r\\n                    config.m_WaveStyle = WaveStyle.longi;\\r\\n                }\\r\\n                else\\r\\n                {\\r\\n                    config.m_WaveStyle = (WaveStyle)Convert.ToInt32(StaticParas.comments[3]);\\r\\n                }\\r\\n                if (string.IsNullOrEmpty(StaticParas.comments[4]))\\r\\n                {\\r\\n                    config.m_MaterialVel = 1.48;\\r\\n                }\\r\\n                else\\r\\n                {\\r\\n                    config.m_MaterialVel = Convert.ToDouble(StaticParas.comments[4]);\\r\\n                }\\r\\n                if (string.IsNullOrEmpty(StaticParas.comments[5]))\\r\\n                {\\r\\n                    config.m_DepthTimeLength = 0;\\r\\n                }\\r\\n                else\\r\\n                {\\r\\n                    config.m_DepthTimeLength = Convert.ToDouble(StaticParas.comments[5]);\\r\\n                }\\r\\n                //if (string.IsNullOrEmpty(StaticParas.comments[6]))\\r\\n                //{\\r\\n                //    StaticParas.glSignalSrc = 1;\\r\\n                //}\\r\\n                //else\\r\\n                //{\\r\\n                //    StaticParas.glSignalSrc = Convert.ToInt32(StaticParas.comments[6]);\\r\\n                //}\\r\\n                if (string.IsNullOrEmpty(StaticParas.comments[7]))\\r\\n                {\\r\\n                    config.m_WaveDataStyle = WaveDataStyle.RF;\\r\\n                }\\r\\n                else\\r\\n                {\\r\\n                    config.m_WaveDataStyle = (WaveDataStyle)Convert.ToInt32(StaticParas.comments[7]);\\r\\n                }\\r\\n                // 读取备用量\\r\\n                //for (int i = 0; i < 6; i++)\\r\\n                //{\\r\\n                //    StaticParas.comments[i] = br.ReadString();\\r\\n                //}\\r\\n                //config.m_RulerUnit = (RulerUnit)Convert.ToInt32(StaticParas.comments[1]);\\r\\n                //config.m_WaveStyle = (WaveStyle)Convert.ToInt32(StaticParas.comments[2]);\\r\\n                //config.transWave = Convert.ToDouble(StaticParas.comments[3]);\\r\\n                //config.longiWave = Convert.ToDouble(StaticParas.comments[4]);\\r\\n\\r\\n                // 读入全波数据\\r\\n                oneChannelData = new List<byte[]>();\\r\\n                // 读入数据\\r\\n                if (config.m_FullWaveFlag)\\r\\n                {\\r\\n                    if (!isfullshow)\\r\\n                    {\\r\\n                        //1 读非全波数据\\r\\n                        notfulldata = new List<byte[,]>();\\r\\n                        for (int i = 0; i < config.m_ScanNum; i++)\\r\\n                        {\\r\\n                            byte[,] tmpIndexData = new byte[config.m_IndexNum, iGateDataNum * 2];\\r\\n                            for (int j = 0; j < config.m_IndexNum; j++)\\r\\n                            {\\r\\n                                for (int k = 0; k < iGateDataNum * 2; k++)\\r\\n                                {\\r\\n                                    tmpIndexData[j, k] = br.ReadByte();\\r\\n                                }\\r\\n                            }\\r\\n                            notfulldata.Add(tmpIndexData);\\r\\n                        }\\r\\n                        //2 读取一个A信号，0,0\\r\\n                        byte[] oneAscanData = null;// new byte[StaticParas.glConfig.m_AscanLength];\\r\\n                        oneAscanData = br.ReadBytes(config.m_AscanLength);\\r\\n                        oneChannelData.Add(oneAscanData);\\r\\n                    }\\r\\n                    else\\r\\n                    {\\r\\n                        for (int i = 0; i < OneChannelAscanNum; i++)\\r\\n                        {\\r\\n                            // 存储一个A扫描的数组\\r\\n                            //byte[] oneAscanData = new byte[StaticParas.glConfig.m_AscanLength];\\r\\n                            byte[] oneAscanData = null;// new byte[StaticParas.glConfig.m_AscanLength];\\r\\n                            oneAscanData = br.ReadBytes(config.m_AscanLength);\\r\\n                            oneChannelData.Add(oneAscanData);\\r\\n                            // 刷新扫查进度条\\r\\n                            //progress.ProgressBar.Invoke(new Action(() =>\\r\\n                            //{\\r\\n                            //    progress.Value = (int)Math.Floor(Math.Round(((double)i / (OneChannelAscanNum - 1) * 100), 2));\\r\\n                            //}));\\r\\n                        }\\r\\n                    }\\r\\n\\r\\n                }\\r\\n                else\\r\\n                {\\r\\n                    // 读入非全波数据=====未修改（新的数据格式）\\r\\n                    notfulldata = new List<byte[,]>();\\r\\n                    for (int i = 0; i < config.m_ScanNum; i++)\\r\\n                    {\\r\\n                        byte[,] tmpIndexData = new byte[config.m_IndexNum, iGateDataNum * 2];\\r\\n                        for (int j = 0; j < config.m_IndexNum; j++)\\r\\n                        {\\r\\n                            for (int k = 0; k < iGateDataNum * 2; k++)\\r\\n                            {\\r\\n                                tmpIndexData[j, k] = br.ReadByte();\\r\\n                            }\\r\\n                        }\\r\\n                        notfulldata.Add(tmpIndexData);\\r\\n                    }\\r\\n                }\\r\\n\\r\\n\\r\\n                br.Close();\\r\\n                stream.Close();\\r\\n                isReadOk = true;\\r\\n                if (isReadOk)\\r\\n                {\\r\\n                    status.Invoke(new Action(() =>\\r\\n                    {\\r\\n                        toollabel.Text = \"已完成\";\\r\\n                    }));\\r\\n                }\\r\\n                return CheckFileFormat(config, iShowChannelNo);\\r\\n            }\\r\\n            catch (Exception ex)\\r\\n            {\\r\\n                Console.WriteLine(ex.ToString());\\r\\n                config.colorBarDownValueArray[0] = 377;\\r\\n                config.colorBarUpValueArray[0] = 0;\\r\\n                Console.WriteLine(\"文件读取失败，请重试\");\\r\\n                //LoadingHelper.CloseForm();//关闭\\r\\n                return false;\\r\\n            }\\r\\n\\r\\n        }',\n",
       "     'method_prefix': 'public static',\n",
       "     'method_param': '(String sFile, bool isfullshow, StatusStrip status, ToolStripStatusLabel toollabel, ref int iShowChannelNo, ref int offsetToZero, ref Config config, ref List<byte[]> oneChannelData, ref List<byte[,]> notfulldata, ref bool isReadOk)'},\n",
       "    {'method_name': 'GetAbsPeakValueInGate',\n",
       "     'method_comment': '',\n",
       "     'method_code': 'publicstaticdoubleGetAbsPeakValueInGate(byte[] currAScanData, int curFSFFirstPosition, LockGate FSFGate, int gateStartNum, int gateLengthNum, double maxVoltage, double thresholdData, int maxAMP){\\r\\n            double temp, tempMax, tempMin;\\r\\n            temp = 0;\\r\\n            tempMax = 0;\\r\\n            tempMin = 0;\\r\\n            double thresholdFSF = FSFGate.m_Threshold;\\r\\n            int gateStartNumFSF = FSFGate.m_GateStartNum;\\r\\n            int gateLengthNumFSF = FSFGate.m_GateLengthNum;\\r\\n\\r\\n            // (X,Y)转换成一维\\r\\n\\r\\n\\r\\n            //确保数据闸门的实际起始位置在窗口中\\r\\n            if ((curFSFFirstPosition + gateStartNum) < 0)\\r\\n            {\\r\\n                gateStartNum = -curFSFFirstPosition;\\r\\n            }\\r\\n            int lengthNum = 0;\\r\\n            if ((curFSFFirstPosition + gateStartNum + gateLengthNum) > currAScanData.Length)\\r\\n            {\\r\\n                lengthNum = currAScanData.Length;\\r\\n            }\\r\\n            else\\r\\n            {\\r\\n                lengthNum = (curFSFFirstPosition + gateStartNum + gateLengthNum);\\r\\n            }\\r\\n\\r\\n            for (int k = curFSFFirstPosition + gateStartNum; k < lengthNum; k++) //查找门限中的负向幅值和正向幅值及其到达时间\\r\\n            {\\r\\n                int currndex = k;\\r\\n                if (currAScanData[currndex] > 8191) //此时数据值为负\\r\\n                {\\r\\n                    //temp = ((double)allData[indexOfAscan, indexOfBScan, k] - 256) * maxVoltage / 128;\\r\\n                    temp = ((double)currAScanData[currndex] - maxAMP) * maxVoltage / (maxAMP / 2);\\r\\n                    if (temp < tempMin && temp < -thresholdData)\\r\\n                    {\\r\\n                        tempMin = temp;\\r\\n                    }\\r\\n                }\\r\\n                else\\r\\n                {\\r\\n                    temp = (double)currAScanData[currndex] * maxVoltage / (maxAMP / 2);\\r\\n                    if (temp > tempMax && temp > thresholdData)\\r\\n                    {\\r\\n                        tempMax = temp;\\r\\n                    }\\r\\n                }\\r\\n            }\\r\\n            double absMin = Math.Abs(tempMin);\\r\\n            if (absMin > tempMax)\\r\\n            {\\r\\n                return absMin;\\r\\n            }\\r\\n            else\\r\\n            {\\r\\n                return tempMax;\\r\\n            }\\r\\n        }',\n",
       "     'method_prefix': 'public static',\n",
       "     'method_param': '(byte[] currAScanData, int curFSFFirstPosition, LockGate FSFGate, int gateStartNum, int gateLengthNum, double maxVoltage, double thresholdData, int maxAMP)'},\n",
       "    {'method_name': 'FindValueInGate',\n",
       "     'method_comment': '',\n",
       "     'method_code': 'publicstaticintFindValueInGate(double value, int curFSFFirstPosition, LockGate FSFGate, byte[] allData, int gateStartNum, int gateLengthNum, double maxVoltage, int maxAMP, out bool bHasFound){\\r\\n            int iTOF;\\r\\n            bHasFound = false;\\r\\n            double temp = 0;\\r\\n\\r\\n            if ((curFSFFirstPosition + gateStartNum) < 0) //确保数据闸门的实际起始位置在窗口中\\r\\n            {\\r\\n                gateStartNum = -curFSFFirstPosition;\\r\\n            }\\r\\n            int lengthNum = (curFSFFirstPosition + gateStartNum + gateLengthNum) > allData.GetLength(0) ? allData.GetLength(0) : (curFSFFirstPosition + gateStartNum + gateLengthNum);\\r\\n            for (iTOF = curFSFFirstPosition + gateStartNum; iTOF < lengthNum; iTOF++) //查找门限中的负向幅值和正向幅值及其到达时间\\r\\n            {\\r\\n                int currndex = iTOF;\\r\\n                if (allData[currndex] > 8191) //此时数据值为负\\r\\n                {\\r\\n                    temp = (8191 - (double)allData[currndex]) * maxVoltage / (maxAMP / 2);\\r\\n                }\\r\\n                else\\r\\n                {\\r\\n                    temp = (double)allData[currndex] * maxVoltage / (maxAMP / 2);\\r\\n                }\\r\\n                if (value < 0)\\r\\n                {\\r\\n                    if (temp <= value)\\r\\n                    {\\r\\n                        bHasFound = true;\\r\\n                        break;\\r\\n                    }\\r\\n                }\\r\\n                else\\r\\n                {\\r\\n                    if (temp >= value)\\r\\n                    {\\r\\n                        bHasFound = true;\\r\\n                        break;\\r\\n                    }\\r\\n                }\\r\\n            }\\r\\n            if (bHasFound == false)\\r\\n            {\\r\\n                iTOF = lengthNum - 1; //如果没找到符合条件的值，则返回最大时间点的下标            \\r\\n            }\\r\\n            return iTOF;\\r\\n        }',\n",
       "     'method_prefix': 'public static',\n",
       "     'method_param': '(double value, int curFSFFirstPosition, LockGate FSFGate, byte[] allData, int gateStartNum, int gateLengthNum, double maxVoltage, int maxAMP, out bool bHasFound)'},\n",
       "    {'method_name': 'CalculateFFT',\n",
       "     'method_comment': '',\n",
       "     'method_code': 'publicstaticdouble[]CalculateFFT(double[] AscanData){\\r\\n            //s1:求A信号中的平均值\\r\\n            double Avg = 0;\\r\\n            int AscanPoints = AscanData.Length;\\r\\n\\r\\n            for (int k = 0; k < AscanPoints; k++)\\r\\n            {\\r\\n                Avg += AscanData[k];\\r\\n            }\\r\\n            Avg = Avg / AscanPoints;\\r\\n            //s2:去直流分量\\r\\n            double[] data_ascan = new double[AscanPoints];\\r\\n\\r\\n            for (int k = 0; k < AscanPoints; k++)\\r\\n            {\\r\\n                data_ascan[k] = AscanData[k] - Avg;\\r\\n                if (data_ascan[k] > StaticParas.glRDDataCard.MAX_AMP_V / 2 - 1)\\r\\n                {\\r\\n                    data_ascan[k] = StaticParas.glRDDataCard.MAX_AMP_V / 2 - 1;\\r\\n                }\\r\\n                if (data_ascan[k] < -StaticParas.glRDDataCard.MAX_AMP_V / 2)\\r\\n                {\\r\\n                    data_ascan[k] = -StaticParas.glRDDataCard.MAX_AMP_V / 2;\\r\\n                }\\r\\n\\r\\n                data_ascan[k] /= StaticParas.glRDDataCard.MAX_AMP_V / 2;\\r\\n            }\\r\\n\\r\\n            double[] image = new double[data_ascan.Length];\\r\\n            double[] spectrum = new double[data_ascan.Length];\\r\\n\\r\\n            MathNet.Numerics.IntegralTransforms.Fourier.Forward(data_ascan, image);\\r\\n            int index = 0;\\r\\n            foreach (double re in data_ascan)\\r\\n            {\\r\\n                double im = image[index];\\r\\n                spectrum[index] = Math.Sqrt(re * re + im * im);\\r\\n                index++;\\r\\n            }\\r\\n\\r\\n\\r\\n\\r\\n            //  FftAlgorithm.Calculate(data_ascan); //进行FFT转换\\r\\n\\r\\n\\r\\n            //MaxSpectrum = spectrum.Max(); //最大频谱值\\r\\n            //MinSpectrum = spectrum.Min(); //最小频谱值\\r\\n\\r\\n            return spectrum;\\r\\n        }',\n",
       "     'method_prefix': 'public static',\n",
       "     'method_param': '(double[] AscanData)'},\n",
       "    {'method_name': 'CalclatMeanOfAScan',\n",
       "     'method_comment': '',\n",
       "     'method_code': 'publicstaticdoubleCalclatMeanOfAScan(int iStart, int lengthNum, byte[] AScanData){\\r\\n            long v = 0;\\r\\n            int actualLen = Math.Min(iStart + lengthNum, AScanData.Length);\\r\\n            for (int i = iStart; i < actualLen; i++)\\r\\n            {\\r\\n                v += AScanData[i];\\r\\n            }\\r\\n            return (v * 1.0 / actualLen);\\r\\n        }',\n",
       "     'method_prefix': 'public static',\n",
       "     'method_param': '(int iStart, int lengthNum, byte[] AScanData)'},\n",
       "    {'method_name': 'DrawMeanValueImage',\n",
       "     'method_comment': '',\n",
       "     'method_code': 'publicstaticvoidDrawMeanValueImage(\\r\\n             int m_IndexNum\\r\\n           , int m_ScanNum\\r\\n           , double[] m_PeakData\\r\\n           , LockGate FSFGate\\r\\n           , LockGate dataGate\\r\\n           , List<byte[]> ascanData\\r\\n           , AmplitudeMode m_GateMode\\r\\n           , Bitmap m_bmpCscan\\r\\n           , DrawImageStyle m_DrawImageStyle\\r\\n           , ColorBarControlSmall colorBar\\r\\n           , int maxAMP\\r\\n           , WaveDataStyle wd\\r\\n           , int offset\\r\\n           ){\\r\\n\\r\\n               \\r\\n            //, int totalChannum\\r\\n            //, int averageValue\\r\\n            //, WaveDataStyle wd\\r\\n            //)\\r\\n\\r\\n            int m_GateLengthNum = dataGate.m_GateLengthNum;\\r\\n            int m_GateStartNum = dataGate.m_GateStartNum;\\r\\n            double m_ThresholdFSF = FSFGate.m_Threshold;\\r\\n            int m_GateStartNumFSF = FSFGate.m_GateStartNum;\\r\\n            int m_GateLengthNumFSF = FSFGate.m_GateLengthNum;\\r\\n            double m_ThresholdData = dataGate.m_Threshold;\\r\\n            //for (int j = 0; j < m_IndexNum; j++)\\r\\n            //for (int k = 0; k < m_IndexNum* m_ScanNum; k++)\\r\\n            //  int k = 0;\\r\\n\\r\\n            // Stopwatch sw = new Stopwatch();\\r\\n            //  sw.Start();\\r\\n            // System.Threading.Tasks.Parallel.ForEach(ascanData, (adata, state1) =>\\r\\n            Parallel.For(0, ascanData.Count, (k, loopState) =>\\r\\n\\r\\n            //foreach (byte[] adata in ascanData)\\r\\n            {\\r\\n                byte[] adata = ascanData[k];\\r\\n                //for (int i = 0; i < m_ScanNum; i++)\\r\\n                {\\r\\n                    int i = k % m_ScanNum;\\r\\n                    int j = k / m_ScanNum;\\r\\n                    int indexofAScan = k;//j * m_ScanNum + i;\\r\\n\\r\\n                    if (indexofAScan > ascanData.Count - 1 || adata.Length <= 0)\\r\\n                    {\\r\\n                        m_PeakData[indexofAScan] = 0;\\r\\n                        //loopState.Break();\\r\\n                        //loopState.Stop();\\r\\n                        //break;\\r\\n                    }\\r\\n                    else\\r\\n                    {\\r\\n                        // 取得同步闸门起点\\r\\n                        int curFSFFirstPosition = 0;\\r\\n                        if (FSFGate.m_GateIsActived)\\r\\n                        {\\r\\n                            curFSFFirstPosition = CScanPicFunction.FindFirstPostionInFSFGate(\\r\\n                                  FSFGate.ThreshAMP //阈值对应的正向幅值\\r\\n                                , FSFGate.m_GateLengthNum//同步闸门的长度\\r\\n                                , FSFGate.m_GateStartNum//同步闸门的开始位置,信号的下标\\r\\n                                , FSFGate.isPositiveThresh//正向阈值\\r\\n                                , adata\\r\\n                                , wd\\r\\n                                , offset\\r\\n                                , maxAMP\\r\\n                                );\\r\\n                        }\\r\\n                        //确保数据闸门的实际起始位置在窗口中\\r\\n                        if ((curFSFFirstPosition + m_GateStartNum) < 0)\\r\\n                        {\\r\\n                            m_GateStartNum = -curFSFFirstPosition;\\r\\n                        }\\r\\n                        int lengthNum = 0;\\r\\n                        if ((curFSFFirstPosition + FSFGate.m_iUseBottomWave * m_GateStartNum + m_GateLengthNum) > ascanData[indexofAScan].GetLength(0))\\r\\n                        {\\r\\n                            lengthNum = ascanData[indexofAScan].GetLength(0);\\r\\n                        }\\r\\n                        else\\r\\n                        {\\r\\n                            lengthNum = curFSFFirstPosition + FSFGate.m_iUseBottomWave * m_GateStartNum + m_GateLengthNum;\\r\\n                        }\\r\\n                        //底波和表面波计算数据闸门的起点\\r\\n                        int iStart = m_GateStartNum;//只有数据闸门\\r\\n                        if (FSFGate.m_GateIsActived)//有同步闸门\\r\\n                        {\\r\\n                            iStart = Math.Max(curFSFFirstPosition + FSFGate.m_iUseBottomWave * m_GateStartNum, 0);\\r\\n                        }\\r\\n\\r\\n\\r\\n\\r\\n\\r\\n\\r\\n                        // 取得峰值数据\\r\\n                        //int maxIndex = 0;\\r\\n                        double peakdata = CalclatMeanOfAScan(iStart, lengthNum, adata);\\r\\n                        m_PeakData[j * m_ScanNum + i] = peakdata;//DataToColorForInt(peakdata, m_DrawImageStyle, colorBar);\\r\\n                                                                 // 以像素点来绘制C扫图像\\r\\n                                                                 //m_bmpCscan.SetPixel(i, j, );\\r\\n                    }\\r\\n                }\\r\\n                // k++;\\r\\n            });\\r\\n\\r\\n            FilterCScanPic(m_bmpCscan, m_PeakData, m_DrawImageStyle, colorBar, wd);\\r\\n            //sw.Stop();\\r\\n        }',\n",
       "     'method_prefix': 'public static',\n",
       "     'method_param': '(\\r\\n             int m_IndexNum\\r\\n           , int m_ScanNum\\r\\n           , double[] m_PeakData\\r\\n           , LockGate FSFGate\\r\\n           , LockGate dataGate\\r\\n           , List<byte[]> ascanData\\r\\n           , AmplitudeMode m_GateMode\\r\\n           , Bitmap m_bmpCscan\\r\\n           , DrawImageStyle m_DrawImageStyle\\r\\n           , ColorBarControlSmall colorBar\\r\\n           , int maxAMP\\r\\n           , WaveDataStyle wd\\r\\n           , int offset\\r\\n           )'},\n",
       "    {'method_name': 'DrawFreqDomainImage',\n",
       "     'method_comment': '',\n",
       "     'method_code': 'publicstaticvoidDrawFreqDomainImage(\\r\\n              int m_IndexNum\\r\\n            , int m_ScanNum\\r\\n            , double[] m_PeakData\\r\\n            , LockGate FSFGate\\r\\n            , LockGate dataGate\\r\\n            , List<byte[]> ascanData\\r\\n            , AmplitudeMode m_GateMode\\r\\n            , Bitmap m_bmpCscan\\r\\n            , DrawImageStyle m_DrawImageStyle\\r\\n            , ColorBarControlSmall colorBar\\r\\n            , double computeFreq\\r\\n            , double displayFreq\\r\\n            , int maxAMP\\r\\n            , WaveDataStyle wd\\r\\n            ){\\r\\n\\r\\n\\r\\n            int startIndex = 0;\\r\\n            int endIndex = 0;\\r\\n\\r\\n            int AscanPoints = 0;\\r\\n            int AScanDataLen = ascanData[0].Length;\\r\\n\\r\\n            AscanPoints = dataGate.m_GateLengthNum; //需要计算的部分\\r\\n            startIndex = FSFGate.m_CurFSFFirstPosition + FSFGate.m_iUseBottomWave * dataGate.m_GateStartNum;\\r\\n            startIndex = startIndex < 0 ? 0 : startIndex;//确保数据闸门的实际起始位置在窗口中\\r\\n\\r\\n            endIndex = (startIndex//数据闸门起始位置\\r\\n                        + dataGate.m_GateLengthNum);//数据闸门的长度\\r\\n\\r\\n            endIndex = (endIndex) > AScanDataLen ? AScanDataLen : (endIndex);//结束下标\\r\\n\\r\\n            int dataLength = Functions.NextPower2(AscanPoints);//计算FFT的数据长度\\r\\n            dataLength = (int)Math.Pow(2, dataLength);//2^N\\r\\n            //dataLength = AscanPoints;//\\r\\n            int drawindex = (int)(computeFreq / displayFreq * dataLength);//获取的频幅值所在的位置\\r\\n            drawindex = drawindex > dataLength - 1 ? dataLength - 1 : drawindex;\\r\\n\\r\\n            double[] drawFreqAmp = new double[m_IndexNum * m_ScanNum];\\r\\n\\r\\n            double MaxAmp = double.MinValue;\\r\\n            double MinAmp = double.MaxValue;\\r\\n\\r\\n            Parallel.For(0, ascanData.Count, (k, loopState) =>\\r\\n\\r\\n            //for (int j = 0; j < m_IndexNum; j++)\\r\\n            //{\\r\\n            //    for (int i = 0; i < m_ScanNum; i++)\\r\\n                {\\r\\n                    int indexofAScan = k;//j * m_ScanNum + i;\\r\\n                    byte[] adata = ascanData[k];\\r\\n\\r\\n                    //int indexofAScan = j * m_ScanNum + i;\\r\\n                    byte[] AScanData = ascanData[indexofAScan];\\r\\n                    if (AScanData.Length <= 0 || AScanData.Length < AScanDataLen)\\r\\n                    {\\r\\n                        drawFreqAmp[indexofAScan] = 0;\\r\\n                        //return;\\r\\n                        //loopState.Break();\\r\\n                        //loopState.Stop();\\r\\n                        //break;\\r\\n                    }\\r\\n                    else\\r\\n                    {\\r\\n\\r\\n\\r\\n                        double[] data = new double[dataLength]; //存放门限中的数据\\r\\n                        for (int m = startIndex; m < endIndex; m++)\\r\\n                        {\\r\\n\\r\\n                            data[m - startIndex] = (double)AScanData[m];\\r\\n                        }\\r\\n                        double[] spectrum = CalculateFFT(data);\\r\\n                        double tmpMax = spectrum.Max();\\r\\n                        double tmpMin = spectrum.Min();\\r\\n                        MaxAmp = MaxAmp < tmpMax ? tmpMax : MaxAmp;\\r\\n                        MinAmp = MinAmp > tmpMin ? tmpMin : MinAmp;\\r\\n\\r\\n                        drawFreqAmp[indexofAScan] = spectrum[drawindex];\\r\\n                    }\\r\\n                    //m_PeakDataInt[indexOfAScan] = (int)(drawFreqAmp[indexOfAScan] / (tmpMax - tmpMin) * (maxAMP - 1));\\r\\n                });\\r\\n            //将数据转换0-255之间的数\\r\\n            for (int k = 0; k < drawFreqAmp.Length; k++)\\r\\n            {\\r\\n                m_PeakData[k] = ((drawFreqAmp[k] - MinAmp) / (MaxAmp - MinAmp) * (maxAMP - 1));\\r\\n            }\\r\\n            //m_PeakData = Array.ConvertAll<double, double>(drawFreqAmp, value => (double)((value- MinAmp) * (maxAMP - 1) / (MaxAmp - MinAmp)));\\r\\n\\r\\n            FilterCScanPic(m_bmpCscan, m_PeakData, m_DrawImageStyle, colorBar, wd);\\r\\n\\r\\n        }',\n",
       "     'method_prefix': 'public static',\n",
       "     'method_param': '(\\r\\n              int m_IndexNum\\r\\n            , int m_ScanNum\\r\\n            , double[] m_PeakData\\r\\n            , LockGate FSFGate\\r\\n            , LockGate dataGate\\r\\n            , List<byte[]> ascanData\\r\\n            , AmplitudeMode m_GateMode\\r\\n            , Bitmap m_bmpCscan\\r\\n            , DrawImageStyle m_DrawImageStyle\\r\\n            , ColorBarControlSmall colorBar\\r\\n            , double computeFreq\\r\\n            , double displayFreq\\r\\n            , int maxAMP\\r\\n            , WaveDataStyle wd\\r\\n            )'},\n",
       "    {'method_name': 'DrawDiffFreqDomainImage',\n",
       "     'method_comment': '',\n",
       "     'method_code': 'publicstaticvoidDrawDiffFreqDomainImage(\\r\\n              int m_IndexNum\\r\\n            , int m_ScanNum\\r\\n            , double[] m_PeakData\\r\\n            , LockGate FSFGate\\r\\n            , LockGate dataGate\\r\\n            , List<byte[]> ascanData\\r\\n            , AmplitudeMode m_GateMode\\r\\n            , Bitmap m_bmpCscan\\r\\n            , DrawImageStyle m_DrawImageStyle\\r\\n            , ColorBarControlSmall colorBar\\r\\n            , double Freq_Low\\r\\n            , double Freq_High\\r\\n            , int splitNum\\r\\n            , double displayFreq\\r\\n            , int maxAMP\\r\\n            , WaveDataStyle wd\\r\\n            , out double[] drawFreqAmp\\r\\n\\r\\n            ){\\r\\n\\r\\n\\r\\n            int startIndex = 0;\\r\\n            int endIndex = 0;\\r\\n\\r\\n            int AscanPoints = 0;\\r\\n            int AScanDataLen = ascanData[0].Length;\\r\\n\\r\\n            AscanPoints = dataGate.m_GateLengthNum; //需要计算的部分\\r\\n            startIndex = FSFGate.m_CurFSFFirstPosition + FSFGate.m_iUseBottomWave * dataGate.m_GateStartNum;\\r\\n            startIndex = startIndex < 0 ? 0 : startIndex;//确保数据闸门的实际起始位置在窗口中\\r\\n\\r\\n            endIndex = (startIndex//数据闸门起始位置\\r\\n                        + dataGate.m_GateLengthNum);//数据闸门的长度\\r\\n\\r\\n            endIndex = (endIndex) > AScanDataLen ? AScanDataLen : (endIndex);//结束下标\\r\\n\\r\\n            int dataLength = Functions.NextPower2(AscanPoints);//计算FFT的数据长度\\r\\n            dataLength = (int)Math.Pow(2, dataLength);//2^N\\r\\n            //dataLength = AscanPoints;//\\r\\n\\r\\n            List<int> lowerDrawindexs = new List<int>();\\r\\n            List<int> upperDrawindexs = new List<int>();\\r\\n\\r\\n\\r\\n            int high0Drawindex = (int)(Freq_High / displayFreq * dataLength);//获取的频幅值所在的位置,分母\\r\\n            high0Drawindex = high0Drawindex > dataLength - 1 ? dataLength - 1 : high0Drawindex;\\r\\n\\r\\n            for (int i = 1; i <= splitNum; i++)\\r\\n            {\\r\\n                int lowDrawindex = (int)((Freq_High + i * Freq_Low) / displayFreq * dataLength);//获取的频幅值所在的位置\\r\\n                int upperDrawindex = (int)((Freq_High - i * Freq_Low) / displayFreq * dataLength);//获取的频幅值所在的位置\\r\\n                lowDrawindex = lowDrawindex > dataLength - 1 ? dataLength - 1 : lowDrawindex;\\r\\n                upperDrawindex = upperDrawindex > dataLength - 1 ? dataLength - 1 : upperDrawindex;\\r\\n                upperDrawindex = upperDrawindex < 0 ? 0 : upperDrawindex;\\r\\n\\r\\n\\r\\n                lowerDrawindexs.Add(lowDrawindex);\\r\\n                upperDrawindexs.Add(upperDrawindex);\\r\\n            }\\r\\n\\r\\n\\r\\n\\r\\n\\r\\n\\r\\n            double[]  tmpdrawFreqAmp = new double[m_IndexNum * m_ScanNum];\\r\\n            //double[] highDrawFreqAmp = new double[m_IndexNum * m_ScanNum];\\r\\n\\r\\n\\r\\n\\r\\n\\r\\n\\r\\n            double MaxAmp = double.MinValue;\\r\\n            double MinAmp = double.MaxValue;\\r\\n\\r\\n            Parallel.For(0, ascanData.Count, (k, loopState) =>\\r\\n\\r\\n            //for (int j = 0; j < m_IndexNum; j++)\\r\\n            //{\\r\\n            //    for (int i = 0; i < m_ScanNum; i++)\\r\\n                {\\r\\n                    int indexOfAScan = k;//j * m_ScanNum + i;\\r\\n                    byte[] AScanData = ascanData[indexOfAScan];\\r\\n                    if (AScanData.Length <= 0 || AScanData.Length < AScanDataLen)\\r\\n                    {\\r\\n                        tmpdrawFreqAmp[indexOfAScan] = 0;\\r\\n                        //return;\\r\\n                        //loopState.Break();\\r\\n                        //loopState.Stop();\\r\\n                        //break;\\r\\n                    }\\r\\n                    else\\r\\n                    {\\r\\n\\r\\n\\r\\n                        double[] data = new double[dataLength]; //存放门限中的数据\\r\\n                        for (int m = startIndex; m < endIndex; m++)\\r\\n                        {\\r\\n\\r\\n                            data[m - startIndex] = (double)AScanData[m];\\r\\n                        }\\r\\n                        double[] spectrum = CalculateFFT(data);\\r\\n                        //double tmpMax = spectrum.Max();\\r\\n                        //double tmpMin = spectrum.Min();\\r\\n                        //MaxAmp = MaxAmp < tmpMax ? tmpMax : MaxAmp;\\r\\n                        //MinAmp = MinAmp > tmpMin ? tmpMin : MinAmp;\\r\\n                        double SumAplusAnegative = 0;//\\r\\n                        for (int isplit = 0; isplit < splitNum; isplit++)\\r\\n                        {\\r\\n                            double currAmpLower = spectrum[lowerDrawindexs[isplit]];\\r\\n                            double currAmpUpper = spectrum[upperDrawindexs[isplit]];\\r\\n                            SumAplusAnegative += (currAmpLower + currAmpUpper);\\r\\n                        }\\r\\n                        double ampA0 = spectrum[high0Drawindex];\\r\\n                        if (Math.Abs(ampA0) - 1e-10 > 0)//1e-10 认为是0\\r\\n                        {\\r\\n                            double Mi = 20 * Math.Log10(SumAplusAnegative / (2 * ampA0));\\r\\n                            tmpdrawFreqAmp[indexOfAScan] = Mi;\\r\\n                            MaxAmp = MaxAmp < tmpdrawFreqAmp[indexOfAScan] ? tmpdrawFreqAmp[indexOfAScan] : MaxAmp;\\r\\n                            MinAmp = MinAmp > tmpdrawFreqAmp[indexOfAScan] ? tmpdrawFreqAmp[indexOfAScan] : MinAmp;\\r\\n                        }\\r\\n                    }\\r\\n\\r\\n                    //m_PeakDataInt[indexOfAScan] = (int)(drawFreqAmp[indexOfAScan] / (tmpMax - tmpMin) * (maxAMP - 1));\\r\\n                });\\r\\n\\r\\n            drawFreqAmp = tmpdrawFreqAmp;\\r\\n            //将数据转换0-255之间的数\\r\\n            for (int k = 0; k < drawFreqAmp.Length; k++)\\r\\n            {\\r\\n                m_PeakData[k] = ((drawFreqAmp[k] - MinAmp) / (MaxAmp - MinAmp) * (maxAMP - 1));\\r\\n\\r\\n            }\\r\\n            //m_PeakData = Array.ConvertAll<double, double>(drawFreqAmp, value => (double)((value- MinAmp) * (maxAMP - 1) / (MaxAmp - MinAmp)));\\r\\n\\r\\n            FilterCScanPic(m_bmpCscan, m_PeakData, m_DrawImageStyle, colorBar, wd);\\r\\n\\r\\n        }',\n",
       "     'method_prefix': 'public static',\n",
       "     'method_param': '(\\r\\n              int m_IndexNum\\r\\n            , int m_ScanNum\\r\\n            , double[] m_PeakData\\r\\n            , LockGate FSFGate\\r\\n            , LockGate dataGate\\r\\n            , List<byte[]> ascanData\\r\\n            , AmplitudeMode m_GateMode\\r\\n            , Bitmap m_bmpCscan\\r\\n            , DrawImageStyle m_DrawImageStyle\\r\\n            , ColorBarControlSmall colorBar\\r\\n            , double Freq_Low\\r\\n            , double Freq_High\\r\\n            , int splitNum\\r\\n            , double displayFreq\\r\\n            , int maxAMP\\r\\n            , WaveDataStyle wd\\r\\n            , out double[] drawFreqAmp\\r\\n\\r\\n            )'},\n",
       "    {'method_name': 'FilterCScanPic',\n",
       "     'method_comment': '',\n",
       "     'method_code': 'publicstaticvoidFilterCScanPic(\\r\\n            Bitmap m_bmpCscan\\r\\n            , double[] m_PeakData\\r\\n            , DrawImageStyle m_DrawImageStyle\\r\\n            , ColorBarControlSmall colorBar\\r\\n            , WaveDataStyle wd\\r\\n            ){\\r\\n            int[] drawPeak = new int[m_PeakData.Length];\\r\\n            for (int k = 0; k < m_PeakData.Length; k++)\\r\\n            {\\r\\n                drawPeak[k] = DataToColorForInt(m_PeakData[k], m_DrawImageStyle, colorBar, wd); //tof / (double)m_GateLengthNum;//得到TOF与门限长度的比例\\r\\n            }\\r\\n\\r\\n            //m_PeakDataInt = Array.ConvertAll<double, int>(drawFreqAmp, value => (int)(value* (maxAMP-1) / (MaxAmp- MinAmp)));\\r\\n            CopyDataToBitmap2(m_bmpCscan, drawPeak);\\r\\n        }',\n",
       "     'method_prefix': 'public static',\n",
       "     'method_param': '(\\r\\n            Bitmap m_bmpCscan\\r\\n            , double[] m_PeakData\\r\\n            , DrawImageStyle m_DrawImageStyle\\r\\n            , ColorBarControlSmall colorBar\\r\\n            , WaveDataStyle wd\\r\\n            )'},\n",
       "    {'method_name': 'FillALineForBitmap',\n",
       "     'method_comment': '',\n",
       "     'method_code': \"publicstaticvoidFillALineForBitmap(Bitmap b, int[] data, int heightIndex, bool isReDraw = false, bool ischangegate = false){\\r\\n            if (heightIndex <= 0)\\r\\n            {\\r\\n                return;\\r\\n            }\\r\\n            Rectangle rect;\\r\\n            if (isReDraw || ischangegate) \\r\\n            {\\r\\n\\r\\n                rect = new Rectangle(0, 0, b.Width, heightIndex + 1);\\r\\n            }\\r\\n            else\\r\\n            {\\r\\n                rect = new Rectangle(0, heightIndex, b.Width, 1);\\r\\n            }\\r\\n            // Lock the bitmap's bits.\\r\\n            System.Drawing.Imaging.BitmapData bmpData = b.LockBits(rect, System.Drawing.Imaging.ImageLockMode.WriteOnly, b.PixelFormat);\\r\\n            // Get the address of the first line.\\r\\n            IntPtr ptr = bmpData.Scan0;\\r\\n            if (isReDraw || ischangegate) \\r\\n            {\\r\\n               \\r\\n                //bmpData.\\r\\n                System.Runtime.InteropServices.Marshal.Copy(data, 0, ptr, b.Width * (heightIndex + 1));\\r\\n            }\\r\\n            else\\r\\n            {\\r\\n                System.Runtime.InteropServices.Marshal.Copy(data, 0, ptr, b.Width);\\r\\n            }\\r\\n            b.UnlockBits(bmpData);\\r\\n        }\",\n",
       "     'method_prefix': 'public static',\n",
       "     'method_param': '(Bitmap b, int[] data, int heightIndex, bool isReDraw = false, bool ischangegate = false)'},\n",
       "    {'method_name': 'DrawTOFImage',\n",
       "     'method_comment': '',\n",
       "     'method_code': 'publicstaticvoidDrawTOFImage(\\r\\n            int m_IndexNum\\r\\n            , int m_ScanNum\\r\\n            , double[] m_PeakData\\r\\n\\r\\n            , LockGate FSFGate\\r\\n            , LockGate dataGate\\r\\n            , List<byte[]> ascanData\\r\\n            , double maxVoltage\\r\\n            , AmplitudeMode gateMode\\r\\n            , Bitmap m_bmpCscan\\r\\n            , DrawImageStyle m_DrawImageStyle\\r\\n            , ColorBarControlSmall colorBar\\r\\n            , WaveDataStyle wd\\r\\n            , int offset\\r\\n            ){\\r\\n            //同步闸门\\r\\n            double thresholdFSF = FSFGate.m_Threshold;\\r\\n            int gateStartNumFSF = FSFGate.m_GateStartNum;\\r\\n            int gateLengthNumFSF = FSFGate.m_GateLengthNum;\\r\\n            //数据闸门\\r\\n            int gateLengthNum = dataGate.m_GateLengthNum;\\r\\n            int gateStartNum = dataGate.m_GateStartNum;\\r\\n            double thresholdData = dataGate.m_Threshold;\\r\\n            int curFSFFirstPosition = 0;\\r\\n\\r\\n            byte byteMinThreshold = (byte)NumConversionTo256(-thresholdData, wd);\\r\\n            byte byteMaxThreshold = (byte)NumConversionTo256(thresholdData, wd);\\r\\n\\r\\n\\r\\n            //int k = 0;\\r\\n            //foreach (byte[] currAScan in ascanData)\\r\\n            Parallel.For(0, ascanData.Count, (k, loopState) =>\\r\\n            {\\r\\n                \\r\\n                    byte[] adata = ascanData[k];\\r\\n                {\\r\\n                    int i = k % m_ScanNum;\\r\\n                    int j = k / m_ScanNum;\\r\\n\\r\\n                    int indexofAScan = k;//j * m_ScanNum + i;\\r\\n\\r\\n                    m_PeakData[j * m_ScanNum + i] = 0;\\r\\n                    byte byteTempMax = 0;\\r\\n                    byte byteTempMin = 0;\\r\\n\\r\\n                    int timeMax = gateStartNum;\\r\\n                    int timeMin = gateStartNum;\\r\\n                    int numThresh = gateStartNum;\\r\\n\\r\\n                    double tof = 0; //到达时间\\r\\n                                    // 数据中的A扫位置\\r\\n                                    //int indexofAScan = j * m_ScanNum + i;\\r\\n\\r\\n                    // A扫位置\\r\\n                    indexofAScan = ConvertType.JudgeAscanIndexIsOver(indexofAScan, ascanData);\\r\\n                    if (ascanData == null || adata.Length <= 0 || indexofAScan > ascanData.Count - 1)\\r\\n                    {\\r\\n                        m_PeakData[indexofAScan] = 0;\\r\\n                        //loopState.Break();\\r\\n                        //loopState.Stop();\\r\\n                        //break;\\r\\n                        //return;\\r\\n                    }\\r\\n                    else\\r\\n                    {\\r\\n\\r\\n                        if (FSFGate.m_GateIsActived)//启用同步闸门，则找闸门与波形的交叉点\\r\\n                        {\\r\\n                            // 与同步闸门的交汇点\\r\\n                            curFSFFirstPosition = FindFirstPostionInFSFGate(\\r\\n                                FSFGate.ThreshAMP //阈值对应的正向幅值\\r\\n                                , FSFGate.m_GateLengthNum//同步闸门的长度\\r\\n                                , FSFGate.m_GateStartNum//同步闸门的开始位置,信号的下标\\r\\n                                , FSFGate.isPositiveThresh//正向阈值\\r\\n                                , ascanData[indexofAScan]\\r\\n                                , wd\\r\\n                                , offset\\r\\n                                , StaticParas.glRDDataCard.MAX_AMP_V\\r\\n                                );\\r\\n                        }\\r\\n\\r\\n                        //确保数据闸门的实际起始位置在窗口中\\r\\n                        if ((curFSFFirstPosition + gateStartNum) < 0)\\r\\n                        {\\r\\n                            gateStartNum = -curFSFFirstPosition;\\r\\n                        }\\r\\n                        int lengthNum = 0;\\r\\n                        if ((curFSFFirstPosition + FSFGate.m_iUseBottomWave * gateStartNum + gateLengthNum) > ascanData[indexofAScan].GetLength(0))\\r\\n                        {\\r\\n                            lengthNum = ascanData[indexofAScan].GetLength(0);\\r\\n                        }\\r\\n                        else\\r\\n                        {\\r\\n                            lengthNum = curFSFFirstPosition + FSFGate.m_iUseBottomWave * gateStartNum + gateLengthNum;\\r\\n                        }\\r\\n                        //底波和表面波计算数据闸门的起点\\r\\n                        int iStart = gateStartNum;//只有数据闸门\\r\\n                        if (FSFGate.m_GateIsActived)//有同步闸门\\r\\n                        {\\r\\n                            iStart = Math.Max(curFSFFirstPosition + FSFGate.m_iUseBottomWave * gateStartNum, 0);\\r\\n                        }\\r\\n\\r\\n                        if (gateMode == AmplitudeMode.TOFPositiveMax\\r\\n                            || gateMode == AmplitudeMode.TOFNegativeMax\\r\\n                            )\\r\\n                        {\\r\\n                            FindMaxPeakMinPeak(\\r\\n                           iStart\\r\\n                            , lengthNum\\r\\n                            , ascanData[indexofAScan]\\r\\n                            , wd\\r\\n                            , offset\\r\\n                            , StaticParas.glRDDataCard.MAX_AMP_V\\r\\n                            , out byteTempMax\\r\\n                            , out byteTempMin\\r\\n                            , out timeMax\\r\\n                            , out timeMin\\r\\n\\r\\n                            );\\r\\n                        }\\r\\n                        else\\r\\n                        {\\r\\n                            numThresh = FindFirstPostionInFSFGate(\\r\\n                              dataGate.ThreshAMP //阈值对应的正向幅值\\r\\n                              , dataGate.m_GateLengthNum//同步闸门的长度\\r\\n                              , dataGate.m_GateStartNum + curFSFFirstPosition//同步闸门的开始位置,信号的下标\\r\\n                              , dataGate.isPositiveThresh//正向阈值\\r\\n                              , ascanData[indexofAScan]\\r\\n                              , wd\\r\\n                              , offset\\r\\n                              , StaticParas.glRDDataCard.MAX_AMP_V);\\r\\n                        }\\r\\n\\r\\n\\r\\n\\r\\n                        switch (gateMode)\\r\\n                        {\\r\\n                            case AmplitudeMode.TOFPositiveMax:\\r\\n                                {\\r\\n                                    if (byteTempMax > byteMaxThreshold)\\r\\n                                    {\\r\\n                                        tof = (timeMax - curFSFFirstPosition - gateStartNum) / (double)(gateLengthNum);//正向Tof\\r\\n\\r\\n                                    }\\r\\n                                    break;\\r\\n                                }\\r\\n                            case AmplitudeMode.TOFNegativeMax:\\r\\n                                {\\r\\n                                    if (byteTempMin < byteMinThreshold)\\r\\n                                    {\\r\\n                                        tof = (timeMin - curFSFFirstPosition - gateStartNum) / (double)(gateLengthNum);//负向Tof\\r\\n                                    }\\r\\n\\r\\n                                    break;\\r\\n                                }\\r\\n                            case AmplitudeMode.TOFPositiveThresh:\\r\\n                            case AmplitudeMode.TOFNegativeThresh:\\r\\n                                {\\r\\n                                    if (numThresh > 0)\\r\\n                                    {\\r\\n                                        tof = (numThresh - curFSFFirstPosition - gateStartNum) / (double)(gateLengthNum);//正向阈值Tof\\r\\n                                    }\\r\\n\\r\\n                                    break;\\r\\n                                }\\r\\n                        }\\r\\n\\r\\n                        m_PeakData[indexofAScan] = (double)NumConversionTo256ForColorBar(tof, 256);// DataToColorForInt((double)NumConversionTo256(tof), m_DrawImageStyle, colorBar); //tof / (double)m_GateLengthNum;//得到TOF与门限长度的比例\\r\\n                    }\\r\\n                }\\r\\n                //k++;\\r\\n            });\\r\\n            FilterCScanPic(m_bmpCscan, m_PeakData, m_DrawImageStyle, colorBar, wd);\\r\\n            //for (int j = 0; j < m_IndexNum; j++)//索引轴\\r\\n            //{\\r\\n            //    for (int i = 0; i < m_ScanNum; i++)//扫查点数\\r\\n            //    {\\r\\n            //        m_PeakData[j* m_ScanNum + i] = 0;\\r\\n            //        byte byteTempMax = 0;\\r\\n            //        byte byteTempMin = 0;\\r\\n\\r\\n            //        int timeMax = gateStartNum;\\r\\n            //        int timeMin =  gateStartNum;\\r\\n            //        int numThresh = gateStartNum;\\r\\n\\r\\n            //        double tof = 0; //到达时间\\r\\n            //        // 数据中的A扫位置\\r\\n            //        int indexOfAScan = j * m_ScanNum + i;\\r\\n\\r\\n            //        // A扫位置\\r\\n            //        indexOfAScan = ConvertType.JudgeAscanIndexIsOver(indexOfAScan, ascanData);\\r\\n            //        if (ascanData[indexOfAScan].Length <= 0)\\r\\n            //        {\\r\\n            //            break;\\r\\n            //        }\\r\\n\\r\\n            //        if (FSFGate.m_GateIsActived)//启用同步闸门，则找闸门与波形的交叉点\\r\\n            //        {\\r\\n            //            // 与同步闸门的交汇点\\r\\n            //            curFSFFirstPosition = FindFirstPostionInFSFGate(\\r\\n            //                FSFGate.ThreshAMP //阈值对应的正向幅值\\r\\n            //                , FSFGate.m_GateLengthNum//同步闸门的长度\\r\\n            //                , FSFGate.m_GateStartNum//同步闸门的开始位置,信号的下标\\r\\n            //                , FSFGate.isPositiveThresh//正向阈值\\r\\n            //                , ascanData[indexOfAScan]);\\r\\n            //        }\\r\\n\\r\\n            //        //确保数据闸门的实际起始位置在窗口中\\r\\n            //        if ((curFSFFirstPosition + gateStartNum) < 0)\\r\\n            //        {\\r\\n            //            gateStartNum = -curFSFFirstPosition;\\r\\n            //        }\\r\\n            //        int lengthNum = 0;\\r\\n            //        if ((curFSFFirstPosition + FSFGate.m_iUseBottomWave * gateStartNum + gateLengthNum) > ascanData[indexOfAScan].GetLength(0))\\r\\n            //        {\\r\\n            //            lengthNum = ascanData[indexOfAScan].GetLength(0);\\r\\n            //        }\\r\\n            //        else\\r\\n            //        {\\r\\n            //            lengthNum = curFSFFirstPosition + FSFGate.m_iUseBottomWave * gateStartNum + gateLengthNum;\\r\\n            //        }\\r\\n            //        //底波和表面波计算数据闸门的起点\\r\\n            //        int iStart = gateStartNum;//只有数据闸门\\r\\n            //        if (FSFGate.m_GateIsActived)//有同步闸门\\r\\n            //        {\\r\\n            //            iStart = Math.Max(curFSFFirstPosition + FSFGate.m_iUseBottomWave * gateStartNum, 0);\\r\\n            //        }\\r\\n\\r\\n            //        if (gateMode == AmplitudeMode.TOFPositiveMax\\r\\n            //            || gateMode == AmplitudeMode.TOFNegativeMax\\r\\n            //            )\\r\\n            //        {\\r\\n            //            FindMaxPeakMinPeak(\\r\\n            //           iStart\\r\\n            //            , lengthNum\\r\\n            //            , ascanData[indexOfAScan]\\r\\n            //            , out byteTempMax\\r\\n            //            , out byteTempMin\\r\\n            //            , out timeMax\\r\\n            //            , out timeMin\\r\\n\\r\\n            //            );\\r\\n            //        }\\r\\n            //        else\\r\\n            //        {\\r\\n            //            numThresh = FindFirstPostionInFSFGate(\\r\\n            //              dataGate.ThreshAMP //阈值对应的正向幅值\\r\\n            //              , dataGate.m_GateLengthNum//同步闸门的长度\\r\\n            //              , dataGate.m_GateStartNum+ curFSFFirstPosition//同步闸门的开始位置,信号的下标\\r\\n            //              , dataGate.isPositiveThresh//正向阈值\\r\\n            //              , ascanData[indexOfAScan]);\\r\\n            //        }\\r\\n\\r\\n\\r\\n\\r\\n            //        switch (gateMode)\\r\\n            //        {\\r\\n            //            case AmplitudeMode.TOFPositiveMax:\\r\\n            //                {\\r\\n            //                    if (byteTempMax > byteMaxThreshold)\\r\\n            //                    {\\r\\n            //                        tof = (timeMax - curFSFFirstPosition - gateStartNum) / (double)(gateLengthNum);//正向Tof\\r\\n\\r\\n            //                    }\\r\\n            //                    break;\\r\\n            //                }\\r\\n            //            case AmplitudeMode.TOFNegativeMax:\\r\\n            //                {\\r\\n            //                    if (byteTempMin <  byteMinThreshold)\\r\\n            //                    {\\r\\n            //                        tof = (timeMin - curFSFFirstPosition - gateStartNum) / (double)(gateLengthNum);//负向Tof\\r\\n            //                    }\\r\\n\\r\\n            //                    break;\\r\\n            //                }\\r\\n            //            case AmplitudeMode.TOFPositiveThresh:\\r\\n            //            case AmplitudeMode.TOFNegativeThresh:\\r\\n            //                {\\r\\n            //                    if (numThresh > 0)\\r\\n            //                    {\\r\\n            //                        tof = (numThresh - curFSFFirstPosition - gateStartNum) / (double)(gateLengthNum);//正向阈值Tof\\r\\n            //                    }\\r\\n\\r\\n            //                    break;\\r\\n            //                }\\r\\n            //        }\\r\\n\\r\\n            //        m_PeakData[j * m_ScanNum + i] = (double)NumConversionTo256ForColorBar(tof,256);// DataToColorForInt((double)NumConversionTo256(tof), m_DrawImageStyle, colorBar); //tof / (double)m_GateLengthNum;//得到TOF与门限长度的比例\\r\\n            //        //m_bmpCscan.SetPixel(i, j, Color.FromArgb(m_PeakData[j * m_ScanNum + i]));\\r\\n            //    }\\r\\n            //    //CopyDataToBitmap2(m_bmpCscan, m_PeakData);\\r\\n            //    FilterCScanPic(m_bmpCscan, m_PeakData, m_DrawImageStyle, colorBar);\\r\\n\\r\\n        }',\n",
       "     'method_prefix': 'public static',\n",
       "     'method_param': '(\\r\\n            int m_IndexNum\\r\\n            , int m_ScanNum\\r\\n            , double[] m_PeakData\\r\\n\\r\\n            , LockGate FSFGate\\r\\n            , LockGate dataGate\\r\\n            , List<byte[]> ascanData\\r\\n            , double maxVoltage\\r\\n            , AmplitudeMode gateMode\\r\\n            , Bitmap m_bmpCscan\\r\\n            , DrawImageStyle m_DrawImageStyle\\r\\n            , ColorBarControlSmall colorBar\\r\\n            , WaveDataStyle wd\\r\\n            , int offset\\r\\n            )'},\n",
       "    {'method_name': 'CopyDataToBitmap2',\n",
       "     'method_comment': '',\n",
       "     'method_code': \"publicstaticvoidCopyDataToBitmap2(Bitmap m_Bitmap, int[] colordata){\\r\\n            Rectangle rect = new Rectangle(0, 0, m_Bitmap.Width, m_Bitmap.Height);\\r\\n            // Lock the bitmap's bits.\\r\\n            System.Drawing.Imaging.BitmapData bmpData = m_Bitmap.LockBits(rect, System.Drawing.Imaging.ImageLockMode.WriteOnly, m_Bitmap.PixelFormat);\\r\\n            // Get the address of the first line.\\r\\n            IntPtr ptr = bmpData.Scan0;\\r\\n            System.Runtime.InteropServices.Marshal.Copy(colordata, 0, ptr, m_Bitmap.Width * m_Bitmap.Height);\\r\\n            m_Bitmap.UnlockBits(bmpData);\\r\\n        }\",\n",
       "     'method_prefix': 'public static',\n",
       "     'method_param': '(Bitmap m_Bitmap, int[] colordata)'},\n",
       "    {'method_name': 'DrawPhaseInverseImage',\n",
       "     'method_comment': '',\n",
       "     'method_code': 'publicstaticvoidDrawPhaseInverseImage(\\r\\n            int m_IndexNum\\r\\n            , int m_ScanNum\\r\\n            , double[] m_PeakData\\r\\n            , LockGate FSFGate\\r\\n            , LockGate dataGate\\r\\n            , List<byte[]> ascanData\\r\\n            , double maxVoltage\\r\\n            , AmplitudeMode m_GateMode\\r\\n            , Bitmap m_bmpCscan\\r\\n            , DrawImageStyle m_DrawImageStyle\\r\\n\\r\\n            , bool checkBoxAdjustData\\r\\n            , ColorBarControlSmall colorBar\\r\\n            , int maxAMP\\r\\n            , int averageValue\\r\\n            , double m_ReferencePhase\\r\\n            , int PulseType\\r\\n            , int offsetToZero\\r\\n            , WaveDataStyle wd\\r\\n            ){\\r\\n            int m_GateLengthNum = dataGate.m_GateLengthNum;\\r\\n            int m_GateStartNum = dataGate.m_GateStartNum;\\r\\n            double m_ThresholdFSF = FSFGate.m_Threshold;\\r\\n            int m_GateStartNumFSF = FSFGate.m_GateStartNum;\\r\\n            int m_GateLengthNumFSF = FSFGate.m_GateLengthNum;\\r\\n            double m_ThresholdData = dataGate.m_Threshold;\\r\\n\\r\\n            Parallel.For(0, ascanData.Count, (k, loopState) =>\\r\\n\\r\\n            //for (int j = 0; j < m_IndexNum; j++)\\r\\n            //{\\r\\n            //    for (int i = 0; i < m_ScanNum; i++)\\r\\n                {\\r\\n                    //(X,Y)转换成一维\\r\\n\\r\\n                    int indexofAScan = k;//j * m_ScanNum + i;\\r\\n                    //int indexofAScan = j * m_ScanNum + i;\\r\\n\\r\\n                    // 判断A扫位置是否超限\\r\\n                    indexofAScan = ConvertType.JudgeAscanIndexIsOver(indexofAScan, ascanData);\\r\\n                    int curFSFFirstPosition = FindFirstPostionInFSFGate(\\r\\n                        FSFGate.ThreshAMP //阈值对应的正向幅值\\r\\n                        , FSFGate.m_GateLengthNum//同步闸门的长度\\r\\n                        , FSFGate.m_GateStartNum//同步闸门的开始位置,信号的下标\\r\\n                        , FSFGate.isPositiveThresh//正向阈值\\r\\n                        , ascanData[indexofAScan]\\r\\n                        , wd\\r\\n                        , offsetToZero\\r\\n                        , maxAMP);\\r\\n                    // 取峰值\\r\\n                    int maxIndex = 0;\\r\\n                    m_PeakData[indexofAScan] = CalPeakData(ascanData[indexofAScan], m_GateStartNum, m_GateLengthNum, m_GateMode, m_ThresholdData, m_ReferencePhase, maxVoltage\\r\\n                        , curFSFFirstPosition, FSFGate, wd, averageValue, maxAMP, PulseType, offsetToZero, out maxIndex);\\r\\n\\r\\n                });\\r\\n\\r\\n\\r\\n            //调整数据，以提高对比度\\r\\n            if (checkBoxAdjustData)\\r\\n            {\\r\\n                double[] peaks = CScanPicFunction.AdjustPeakData(m_PeakData, m_ScanNum, m_IndexNum, m_GateMode, maxVoltage, wd);\\r\\n                m_PeakData = peaks;\\r\\n            }\\r\\n            for (int i = 0; i < m_PeakData.Length; i++)\\r\\n            {\\r\\n                m_bmpCscan.SetPixel(i % m_ScanNum, i / m_ScanNum, DataToColor(m_PeakData[i], m_DrawImageStyle, colorBar, wd));\\r\\n            }\\r\\n\\r\\n\\r\\n        }',\n",
       "     'method_prefix': 'public static',\n",
       "     'method_param': '(\\r\\n            int m_IndexNum\\r\\n            , int m_ScanNum\\r\\n            , double[] m_PeakData\\r\\n            , LockGate FSFGate\\r\\n            , LockGate dataGate\\r\\n            , List<byte[]> ascanData\\r\\n            , double maxVoltage\\r\\n            , AmplitudeMode m_GateMode\\r\\n            , Bitmap m_bmpCscan\\r\\n            , DrawImageStyle m_DrawImageStyle\\r\\n\\r\\n            , bool checkBoxAdjustData\\r\\n            , ColorBarControlSmall colorBar\\r\\n            , int maxAMP\\r\\n            , int averageValue\\r\\n            , double m_ReferencePhase\\r\\n            , int PulseType\\r\\n            , int offsetToZero\\r\\n            , WaveDataStyle wd\\r\\n            )'},\n",
       "    {'method_name': 'RaiseContrast',\n",
       "     'method_comment': '',\n",
       "     'method_code': 'publicstaticvoidRaiseContrast(double[] m_PeakData, int scanNum, int indexNum, AmplitudeMode m_GateMode, double maxVoltage, Bitmap m_bmpCscan, DrawImageStyle m_DrawImageStyle, ColorBarControlSmall colorBar, WaveDataStyle wd){\\r\\n            //double[,] peaks = AdjustPeakData(ref m_oneParameterAndData.m_OutLineShareParameters.m_PeakData);\\r\\n            double[] peaks = AdjustPeakData(m_PeakData, scanNum, indexNum, m_GateMode, maxVoltage, wd);\\r\\n            m_PeakData = peaks;\\r\\n            for (int i = 0; i < peaks.Length; i++)\\r\\n            {\\r\\n                m_bmpCscan.SetPixel(i % scanNum, i / scanNum, DataToColor(m_PeakData[i], m_DrawImageStyle, colorBar, wd));\\r\\n            }\\r\\n        }',\n",
       "     'method_prefix': 'public static',\n",
       "     'method_param': '(double[] m_PeakData, int scanNum, int indexNum, AmplitudeMode m_GateMode, double maxVoltage, Bitmap m_bmpCscan, DrawImageStyle m_DrawImageStyle, ColorBarControlSmall colorBar, WaveDataStyle wd)'},\n",
       "    {'method_name': 'DrawPeakCscanPic',\n",
       "     'method_comment': '',\n",
       "     'method_code': 'publicstaticvoidDrawPeakCscanPic(\\r\\n            int m_IndexNum\\r\\n            , int m_ScanNum\\r\\n            , double[] m_PeakData\\r\\n            , LockGate FSFGate\\r\\n            , LockGate dataGate\\r\\n           , List<byte[]> ascanData\\r\\n           , double maxVoltage\\r\\n           , AmplitudeMode m_GateMode\\r\\n            , Bitmap m_bmpCscan\\r\\n            , DrawImageStyle m_DrawImageStyle\\r\\n            , double m_ReferencePhase\\r\\n            , ColorBarControlSmall colorBar\\r\\n            , int maxAMP\\r\\n            , int totalChannum\\r\\n            , int averageValue\\r\\n            , WaveDataStyle wd\\r\\n            , int offset){\\r\\n            int m_GateLengthNum = dataGate.m_GateLengthNum;\\r\\n            int m_GateStartNum = dataGate.m_GateStartNum;\\r\\n            double m_ThresholdFSF = FSFGate.m_Threshold;\\r\\n            int m_GateStartNumFSF = FSFGate.m_GateStartNum;\\r\\n            int m_GateLengthNumFSF = FSFGate.m_GateLengthNum;\\r\\n            double m_ThresholdData = dataGate.m_Threshold;\\r\\n            //for (int j = 0; j < m_IndexNum; j++)\\r\\n            //for (int k = 0; k < m_IndexNum* m_ScanNum; k++)\\r\\n            //  int k = 0;\\r\\n\\r\\n            // Stopwatch sw = new Stopwatch();\\r\\n            //  sw.Start();\\r\\n            // System.Threading.Tasks.Parallel.ForEach(ascanData, (adata, state1) =>\\r\\n            Parallel.For(0, ascanData.Count, (k, loopState) =>\\r\\n\\r\\n            //foreach (byte[] adata in ascanData)\\r\\n            {\\r\\n                byte[] adata = ascanData[k];\\r\\n                //for (int i = 0; i < m_ScanNum; i++)\\r\\n                {\\r\\n                    int i = k % m_ScanNum;\\r\\n                    int j = k / m_ScanNum;\\r\\n                    int indexofAScan = k;//j * m_ScanNum + i;\\r\\n\\r\\n                    if (indexofAScan > ascanData.Count - 1 || adata.Length <= 0)\\r\\n                    {\\r\\n                        m_PeakData[indexofAScan] = 0;\\r\\n                        //loopState.Break();\\r\\n                        //loopState.Stop();\\r\\n                        //break;\\r\\n                    }\\r\\n                    else\\r\\n                    {\\r\\n                        // 取得同步闸门起点\\r\\n                        int curFSFFirstPosition = 0;\\r\\n                        if (FSFGate.m_GateIsActived)\\r\\n                        {\\r\\n                            curFSFFirstPosition = CScanPicFunction.FindFirstPostionInFSFGate(\\r\\n                                  FSFGate.ThreshAMP //阈值对应的正向幅值\\r\\n                                , FSFGate.m_GateLengthNum//同步闸门的长度\\r\\n                                , FSFGate.m_GateStartNum//同步闸门的开始位置,信号的下标\\r\\n                                , FSFGate.isPositiveThresh//正向阈值\\r\\n                                , adata\\r\\n                                , wd\\r\\n                                , offset\\r\\n                                , maxAMP\\r\\n                                );\\r\\n                        }\\r\\n\\r\\n\\r\\n\\r\\n                        // 取得峰值数据\\r\\n                        int maxIndex = 0;\\r\\n                        double peakdata = CalPeakData(adata, m_GateStartNum, m_GateLengthNum, m_GateMode, m_ThresholdData, m_ReferencePhase, maxVoltage, curFSFFirstPosition, FSFGate, wd, averageValue, maxAMP, StaticParas.PulseType, offset, out maxIndex);\\r\\n\\r\\n                        m_PeakData[j * m_ScanNum + i] = peakdata;//DataToColorForInt(peakdata, m_DrawImageStyle, colorBar);\\r\\n                                                                 // 以像素点来绘制C扫图像\\r\\n                                                                 //m_bmpCscan.SetPixel(i, j, );\\r\\n                    }\\r\\n                }\\r\\n                // k++;\\r\\n            });\\r\\n\\r\\n            FilterCScanPic(m_bmpCscan, m_PeakData, m_DrawImageStyle, colorBar, wd);\\r\\n            //sw.Stop();\\r\\n            //  Debug.WriteLine(sw.ElapsedMilliseconds);\\r\\n\\r\\n            //CopyDataToBitmap2(m_bmpCscan, m_PeakData);\\r\\n        }',\n",
       "     'method_prefix': 'public static',\n",
       "     'method_param': '(\\r\\n            int m_IndexNum\\r\\n            , int m_ScanNum\\r\\n            , double[] m_PeakData\\r\\n            , LockGate FSFGate\\r\\n            , LockGate dataGate\\r\\n           , List<byte[]> ascanData\\r\\n           , double maxVoltage\\r\\n           , AmplitudeMode m_GateMode\\r\\n            , Bitmap m_bmpCscan\\r\\n            , DrawImageStyle m_DrawImageStyle\\r\\n            , double m_ReferencePhase\\r\\n            , ColorBarControlSmall colorBar\\r\\n            , int maxAMP\\r\\n            , int totalChannum\\r\\n            , int averageValue\\r\\n            , WaveDataStyle wd\\r\\n            , int offset)'},\n",
       "    {'method_name': 'DrawElseCscanPicNotFullPeak',\n",
       "     'method_comment': '',\n",
       "     'method_code': 'publicstaticvoidDrawElseCscanPicNotFullPeak(int m_IndexNum, int m_ScanNum, double[] m_PeakData, List<byte[,]> m_Data, Bitmap m_bmpCscan, DrawImageStyle m_DrawImageStyle, ColorBarControlSmall colorBar, int CScanIndex, WaveDataStyle wd){\\r\\n            for (int j = 0; j < m_IndexNum; j++)\\r\\n            {\\r\\n                for (int i = 0; i < m_ScanNum; i++)\\r\\n                {\\r\\n                    int indexOfAScan = j * m_ScanNum + i;\\r\\n                    //for (int k = 0; k < 4; k++)\\r\\n                    //{\\r\\n                    int dataindex = CScanIndex * 2;//第1个是峰值，第2个是时间\\r\\n                    m_PeakData[indexOfAScan] = m_Data[i][ j, dataindex];\\r\\n                    //}\\r\\n                    // m_bmpCscan.SetPixel(i, j, DataToColor(m_PeakData[indexOfAScan], m_DrawImageStyle, colorBar));\\r\\n                }\\r\\n            }\\r\\n            // Functions.ExportToCSV(m_PeakData, StaticParas.glConfig.m_Frequency, \"D://notfull.csv\");\\r\\n            FilterCScanPic(m_bmpCscan, m_PeakData, m_DrawImageStyle, colorBar, wd);\\r\\n        }',\n",
       "     'method_prefix': 'public static',\n",
       "     'method_param': '(int m_IndexNum, int m_ScanNum, double[] m_PeakData, List<byte[,]> m_Data, Bitmap m_bmpCscan, DrawImageStyle m_DrawImageStyle, ColorBarControlSmall colorBar, int CScanIndex, WaveDataStyle wd)'},\n",
       "    {'method_name': 'DrawElseCscanPicNotFullTime',\n",
       "     'method_comment': '',\n",
       "     'method_code': 'publicstaticvoidDrawElseCscanPicNotFullTime(int m_IndexNum, int m_ScanNum, double[] m_PeakData, List<byte[,]> m_Data, Bitmap m_bmpCscan, DrawImageStyle m_DrawImageStyle, ColorBarControlSmall colorBar, int CScanIndex, int AScanLen, WaveDataStyle wd){\\r\\n            for (int j = 0; j < m_IndexNum; j++)\\r\\n            {\\r\\n                for (int i = 0; i < m_ScanNum; i++)\\r\\n                {\\r\\n                    int indexOfAScan = j * m_ScanNum + i;\\r\\n                    //for (int k = 0; k < 4; k++)\\r\\n                    //{\\r\\n                    int dataindex = CScanIndex * 2 + 1;//第1个是峰值，第2个是时间\\r\\n                    m_PeakData[indexOfAScan] = (double)NumConversionTo256(m_Data[i][ j, dataindex] / AScanLen, wd);\\r\\n                    //}\\r\\n                    // m_bmpCscan.SetPixel(i, j, DataToColor(m_PeakData[indexOfAScan], m_DrawImageStyle, colorBar));\\r\\n                }\\r\\n            }\\r\\n            // Functions.ExportToCSV(m_PeakData, StaticParas.glConfig.m_Frequency, \"D://notfull.csv\");\\r\\n            FilterCScanPic(m_bmpCscan, m_PeakData, m_DrawImageStyle, colorBar, wd);\\r\\n        }',\n",
       "     'method_prefix': 'public static',\n",
       "     'method_param': '(int m_IndexNum, int m_ScanNum, double[] m_PeakData, List<byte[,]> m_Data, Bitmap m_bmpCscan, DrawImageStyle m_DrawImageStyle, ColorBarControlSmall colorBar, int CScanIndex, int AScanLen, WaveDataStyle wd)'},\n",
       "    {'method_name': 'FindMaxPeakMinPeak',\n",
       "     'method_comment': '',\n",
       "     'method_code': 'publicstaticvoidFindMaxPeakMinPeak(\\r\\n            int gateStartNum\\r\\n            , int gateEndNum\\r\\n            , byte[] ascandata\\r\\n            , WaveDataStyle wd\\r\\n            , int offset\\r\\n            , int maxamp\\r\\n            , out byte maxPeak\\r\\n            , out byte minPeak\\r\\n            , out int maxPosition\\r\\n            , out int minPosition\\r\\n            , int step = 10\\r\\n            ){\\r\\n\\r\\n            if (ascandata == null || ascandata.Length <= 0 || gateStartNum > ascandata.Length-1 || gateEndNum > ascandata.Length || ascandata.Max() == 0)\\r\\n            {\\r\\n                maxPeak = 0;\\r\\n                minPeak = 0;\\r\\n                maxPosition = 0;\\r\\n                minPosition = 0;\\r\\n                return;\\r\\n                //loopState.Stop();\\r\\n                //break;\\r\\n                //return;\\r\\n            }\\r\\n\\r\\n\\r\\n\\r\\n            byte byteTempMin = byte.MaxValue;\\r\\n            byte byteTempMax = byte.MinValue;\\r\\n\\r\\n\\r\\n            // 最大峰值出现位置的下标\\r\\n            int numMax = 0;\\r\\n            // 最小峰值出现位置的下标\\r\\n            int numMin = 0;\\r\\n\\r\\n            int initIndex_min = 0;\\r\\n            int initIndex_max = 0;\\r\\n\\r\\n\\r\\n\\r\\n            //粗找\\r\\n            for (int k = gateStartNum; k < gateEndNum; k += step)\\r\\n            {\\r\\n\\r\\n                byte byteTemp = ascandata[k];\\r\\n                byteTemp = (byte)DataUtils.GetActualAmp((int)wd, byteTemp, offset, maxamp);\\r\\n                //下限\\r\\n                if (byteTemp < byteTempMin)\\r\\n                {\\r\\n                    byteTempMin = byteTemp;\\r\\n                    initIndex_min = k;\\r\\n                }\\r\\n                //上限\\r\\n                if (byteTemp > byteTempMax)\\r\\n                {\\r\\n                    byteTempMax = byteTemp;\\r\\n                    initIndex_max = k;\\r\\n                }\\r\\n            }\\r\\n\\r\\n            numMin = initIndex_min;\\r\\n            numMax = initIndex_max;\\r\\n            //精细查找\\r\\n            //最小值查找\\r\\n            if (initIndex_min > 0 && initIndex_min < gateEndNum)\\r\\n            {\\r\\n                for (int k = Math.Max(initIndex_min - step, 0); k < Math.Min(initIndex_min + step, gateEndNum); k++)\\r\\n                {\\r\\n                    byte byteTemp = ascandata[k];\\r\\n                    byteTemp = (byte)DataUtils.GetActualAmp((int)wd, byteTemp, offset, maxamp);\\r\\n                    //下限\\r\\n                    if (byteTemp < byteTempMin)\\r\\n                    {\\r\\n                        byteTempMin = byteTemp;\\r\\n                        numMin = k;\\r\\n                    }\\r\\n\\r\\n                }\\r\\n            }\\r\\n            else if (initIndex_min == 0)\\r\\n            {\\r\\n                for (int k = 0; k < initIndex_min + 2 * step; k++)\\r\\n                {\\r\\n                    byte byteTemp = ascandata[k];\\r\\n                    byteTemp = (byte)DataUtils.GetActualAmp((int)wd, byteTemp, offset, maxamp);\\r\\n                    //下限\\r\\n                    if (byteTemp < byteTempMin)\\r\\n                    {\\r\\n                        byteTempMin = byteTemp;\\r\\n                        numMin = k;\\r\\n                    }\\r\\n\\r\\n                }\\r\\n            }\\r\\n            else if (initIndex_min == gateEndNum - 1)\\r\\n            {\\r\\n                for (int k = initIndex_min - 2 * step; k < initIndex_min; k++)\\r\\n                {\\r\\n                    byte byteTemp = ascandata[k];\\r\\n                    byteTemp = (byte)DataUtils.GetActualAmp((int)wd, byteTemp, offset, maxamp);\\r\\n                    //下限\\r\\n                    if (byteTemp < byteTempMin)\\r\\n                    {\\r\\n                        byteTempMin = byteTemp;\\r\\n                        numMin = k;\\r\\n                    }\\r\\n\\r\\n                }\\r\\n            }\\r\\n            //精细查找，最大\\r\\n            if (initIndex_max > 0 && initIndex_max < gateEndNum)\\r\\n            {\\r\\n                for (int k = Math.Max(initIndex_max - step, 0); k < Math.Min(initIndex_max + step, gateEndNum); k++)\\r\\n                {\\r\\n                    byte byteTemp = ascandata[k];\\r\\n                    byteTemp = (byte)DataUtils.GetActualAmp((int)wd, byteTemp, offset, maxamp);\\r\\n                    //上限\\r\\n                    if (byteTemp > byteTempMax)\\r\\n                    {\\r\\n                        byteTempMax = byteTemp;\\r\\n                        numMax = k;\\r\\n                    }\\r\\n                }\\r\\n            }\\r\\n            else if (initIndex_max == 0)\\r\\n            {\\r\\n                for (int k = 0; k < initIndex_max + 2 * step; k++)\\r\\n                {\\r\\n                    byte byteTemp = ascandata[k];\\r\\n                    byteTemp = (byte)DataUtils.GetActualAmp((int)wd, byteTemp, offset, maxamp);\\r\\n                    //上限\\r\\n                    if (byteTemp > byteTempMax)\\r\\n                    {\\r\\n                        byteTempMax = byteTemp;\\r\\n                        numMax = k;\\r\\n                    }\\r\\n                }\\r\\n            }\\r\\n            else if (initIndex_max == gateEndNum - 1)\\r\\n            {\\r\\n                for (int k = initIndex_max - 2 * step; k < initIndex_max; k++)\\r\\n                {\\r\\n                    byte byteTemp = ascandata[k];\\r\\n                    byteTemp = (byte)DataUtils.GetActualAmp((int)wd, byteTemp, offset, maxamp);\\r\\n                    //上限\\r\\n                    if (byteTemp > byteTempMax)\\r\\n                    {\\r\\n                        byteTempMax = byteTemp;\\r\\n                        numMax = k;\\r\\n                    }\\r\\n                }\\r\\n            }//*/\\r\\n\\r\\n\\r\\n\\r\\n\\r\\n\\r\\n\\r\\n            /*\\r\\n            for (int k = gateStartNum,j= gateEndNum-1; k < j; k++,j--)\\r\\n            {\\r\\n              \\r\\n                //头部\\r\\n                byte byteTemp = ascandata[k];\\r\\n                //下限\\r\\n                if (byteTemp < byteTempMin)\\r\\n                {\\r\\n                    byteTempMin = byteTemp;\\r\\n                    numMin = k;\\r\\n                }\\r\\n                //上限\\r\\n                if (byteTemp > byteTempMax)\\r\\n                {\\r\\n                    byteTempMax = byteTemp;\\r\\n                    numMax = k;\\r\\n                }\\r\\n\\r\\n                //尾部\\r\\n                byteTemp = ascandata[j];\\r\\n                //下限\\r\\n                if (byteTemp < byteTempMin)\\r\\n                {\\r\\n                    byteTempMin = byteTemp;\\r\\n                    numMin = j;\\r\\n                }\\r\\n                //上限\\r\\n                if (byteTemp > byteTempMax)\\r\\n                {\\r\\n                    byteTempMax = byteTemp;\\r\\n                    numMax = j;\\r\\n                }\\r\\n\\r\\n            }//*/\\r\\n            if (0 == byteTempMin)//0是背景色\\r\\n            {\\r\\n                byteTempMin = 1;\\r\\n            }\\r\\n            maxPeak = byteTempMax;\\r\\n            minPeak = byteTempMin;\\r\\n            minPosition = numMin;\\r\\n            maxPosition = numMax;\\r\\n\\r\\n\\r\\n        }',\n",
       "     'method_prefix': 'public static',\n",
       "     'method_param': '(\\r\\n            int gateStartNum\\r\\n            , int gateEndNum\\r\\n            , byte[] ascandata\\r\\n            , WaveDataStyle wd\\r\\n            , int offset\\r\\n            , int maxamp\\r\\n            , out byte maxPeak\\r\\n            , out byte minPeak\\r\\n            , out int maxPosition\\r\\n            , out int minPosition\\r\\n            , int step = 10\\r\\n            )'},\n",
       "    {'method_name': 'NumConversionTo256ForColorBar',\n",
       "     'method_comment': '',\n",
       "     'method_code': 'publicstaticintNumConversionTo256ForColorBar(double zerotoonev, short maxv){\\r\\n            return (int)Math.Floor(zerotoonev * maxv);\\r\\n        }',\n",
       "     'method_prefix': 'public static',\n",
       "     'method_param': '(double zerotoonev, short maxv)'},\n",
       "    {'method_name': 'CalPeakData',\n",
       "     'method_comment': '',\n",
       "     'method_code': 'publicstaticdoubleCalPeakData(byte[] ascandata\\r\\n            , int gateStartNum\\r\\n            , int gateLengthNum\\r\\n            , AmplitudeMode gateMode\\r\\n            , double thresholdData\\r\\n            , double referencePhase\\r\\n            , double maxVoltage\\r\\n            , int curFSFFirstPosition\\r\\n            , LockGate FSFGate\\r\\n            , WaveDataStyle wd\\r\\n            , double currAvgAmp\\r\\n            , int maxAMP\\r\\n            , int PulseType\\r\\n            , int offsetToZero\\r\\n            , out int maxIndex\\r\\n       ){\\r\\n\\r\\n            if (ascandata == null || ascandata.Length <= 0)\\r\\n            {\\r\\n                maxIndex = 0;\\r\\n                return 0;\\r\\n            }\\r\\n           \\r\\n            //double peakdata = 0;\\r\\n            // 最大峰值出现位置的下标\\r\\n            int numMax = 0;\\r\\n            // 最小峰值出现位置的下标\\r\\n            int numMin = 0;\\r\\n\\r\\n            //double temp = 0;\\r\\n            double tempMax = double.MinValue;\\r\\n            double tempMin = double.MaxValue;\\r\\n\\r\\n            //确保数据闸门的实际起始位置在窗口中\\r\\n            if ((curFSFFirstPosition + gateStartNum) < 0)\\r\\n            {\\r\\n                gateStartNum = -curFSFFirstPosition;\\r\\n            }\\r\\n\\r\\n            int lengthNum;\\r\\n            if ((curFSFFirstPosition + FSFGate.m_iUseBottomWave * gateStartNum + gateLengthNum) > ascandata.GetLength(0))\\r\\n            {\\r\\n                lengthNum = ascandata.GetLength(0);\\r\\n            }\\r\\n            else\\r\\n            {\\r\\n                lengthNum = curFSFFirstPosition + FSFGate.m_iUseBottomWave * gateStartNum + gateLengthNum;\\r\\n            }\\r\\n\\r\\n            byte byteMinThreshold = (byte)(NumConversionTo256(-thresholdData, wd));//- offsetToZero\\r\\n            byteMinThreshold = (byte)(byteMinThreshold < 1 ? 1 : byteMinThreshold);\\r\\n            byte byteMaxThreshold = (byte)(NumConversionTo256(thresholdData, wd));//- offsetToZero\\r\\n            byte byteTempMax = byte.MinValue;\\r\\n            byte byteTempMin = byte.MaxValue;\\r\\n\\r\\n            byte bytePeakdata = 0;\\r\\n\\r\\n            int iStart = gateStartNum;\\r\\n            if (FSFGate.m_GateIsActived)\\r\\n            {\\r\\n                iStart = Math.Max(curFSFFirstPosition + FSFGate.m_iUseBottomWave * gateStartNum, 0);\\r\\n            }\\r\\n\\r\\n\\r\\n\\r\\n            //查找门限中的负向幅值和正向幅值及其到达下标（时间）\\r\\n            FindMaxPeakMinPeak(\\r\\n                iStart\\r\\n                , lengthNum\\r\\n                , ascandata\\r\\n                , wd\\r\\n                , offsetToZero\\r\\n                , maxAMP\\r\\n                , out byteTempMax\\r\\n                , out byteTempMin\\r\\n                , out numMax\\r\\n                , out numMin\\r\\n\\r\\n                );\\r\\n            maxIndex = numMax;\\r\\n            double tof = 0;\\r\\n            //根据不同的闸门模式，取峰值\\r\\n            switch (gateMode)\\r\\n            {\\r\\n                case AmplitudeMode.PostivePeak://正向峰值\\r\\n                    bytePeakdata = byteTempMax;\\r\\n                    if (bytePeakdata < byteMaxThreshold)\\r\\n                    {\\r\\n                        bytePeakdata = 0;\\r\\n                    }\\r\\n                    break;\\r\\n                case AmplitudeMode.NegativePeak://负向峰值\\r\\n                    bytePeakdata = byteTempMin;\\r\\n\\r\\n                    if (bytePeakdata > byteMinThreshold)\\r\\n                    {\\r\\n                        bytePeakdata = 0;\\r\\n                    }\\r\\n                    break;\\r\\n                case AmplitudeMode.PeaktoPeak://0-255,峰峰值\\r\\n                    bytePeakdata = (byte)(byteTempMax - byteTempMin);\\r\\n\\r\\n                    if (bytePeakdata < (byteMaxThreshold - byteMinThreshold))\\r\\n                    {\\r\\n                        bytePeakdata = 0;\\r\\n                    }\\r\\n                    break;\\r\\n\\r\\n                case AmplitudeMode.MaxPeak://最大峰值\\r\\n\\r\\n                    bytePeakdata = (byte)Math.Max(byteTempMax, maxAMP - byteTempMin);\\r\\n\\r\\n                    if (bytePeakdata < byteMaxThreshold)\\r\\n                    {\\r\\n                        bytePeakdata = 0;\\r\\n                    }\\r\\n                    break;\\r\\n                case AmplitudeMode.TOFNegativeThresh:\\r\\n                    {\\r\\n                        int numThresh = FindFirstPostionRelativeInGate(\\r\\n                       byteMaxThreshold //阈值对应的正向幅值\\r\\n                       , gateLengthNum//闸门的长度\\r\\n                       , gateStartNum + curFSFFirstPosition//闸门的开始位置,信号的下标\\r\\n                       , true//正向阈值\\r\\n                       , ascandata);//相对于数据闸门起点位置\\r\\n\\r\\n                        tof = (numThresh) / (double)(gateLengthNum);\\r\\n                        bytePeakdata = (byte)NumConversionTo256ForColorBar(tof, 256);\\r\\n\\r\\n                    }\\r\\n                    break;\\r\\n                case AmplitudeMode.TOFPositiveThresh:\\r\\n                    {\\r\\n                        int numThresh = FindFirstPostionRelativeInGate(\\r\\n                        byteMinThreshold //阈值对应的正向幅值\\r\\n                        , gateLengthNum//闸门的长度\\r\\n                        , gateStartNum + curFSFFirstPosition//闸门的开始位置,信号的下标\\r\\n                        , false//正向阈值\\r\\n                        , ascandata);//相对于数据闸门起点位置\\r\\n                        tof = (numThresh) / (double)(gateLengthNum);\\r\\n                        bytePeakdata = (byte)NumConversionTo256ForColorBar(tof, 256);\\r\\n                    }\\r\\n                    break;\\r\\n                case AmplitudeMode.TOFPositiveMax:\\r\\n                    tof = (numMax) / (double)(gateLengthNum);//正向Tof\\r\\n                    bytePeakdata = (byte)NumConversionTo256ForColorBar(tof, 256);\\r\\n                    break;\\r\\n                case AmplitudeMode.TOFNegativeMax:\\r\\n                    tof = (numMin) / (double)(gateLengthNum);//正向Tof\\r\\n                    bytePeakdata = (byte)NumConversionTo256ForColorBar(tof, 256);\\r\\n                    break;\\r\\n                case AmplitudeMode.Phase://相位\\r\\n                    {\\r\\n                        double curAmplitude = 0;\\r\\n                        double curPhase = 0;\\r\\n                        double phaseDiffer = 0;\\r\\n                        double PI = Math.PI; //常数π\\r\\n                        tempMax = (double)((byteTempMax - currAvgAmp) * maxVoltage / (maxAMP / 2));\\r\\n                        tempMin = (double)((byteTempMin - currAvgAmp) * maxVoltage / (maxAMP / 2));\\r\\n\\r\\n                        if (tempMax == 0 && tempMin == 0)\\r\\n                        {\\r\\n                            curPhase = 0;\\r\\n                            phaseDiffer = 0;\\r\\n                        }\\r\\n                        else\\r\\n                        {\\r\\n                            int numPeak;\\r\\n                            if (tempMax > (-tempMin))\\r\\n                            {\\r\\n                                numPeak = numMax;\\r\\n                            }\\r\\n                            else\\r\\n                            {\\r\\n                                numPeak = numMin;\\r\\n                            }\\r\\n                            if (ascandata[numPeak] > currAvgAmp)\\r\\n                            {\\r\\n                                curAmplitude = (double)(currAvgAmp - ascandata[numPeak]) * maxVoltage / (maxAMP / 2);\\r\\n                            }\\r\\n                            else\\r\\n                            {\\r\\n                                curAmplitude = (double)(ascandata[numPeak]) * maxVoltage / (maxAMP / 2);\\r\\n                            }\\r\\n\\r\\n                            curAmplitude = (curAmplitude + curAmplitude) / (tempMax - tempMin); // V/Vpp\\r\\n                            if (curAmplitude < -1)\\r\\n                            {\\r\\n                                curAmplitude = -1;\\r\\n                            }\\r\\n                            else if (curAmplitude > 1)\\r\\n                            {\\r\\n                                curAmplitude = 1;\\r\\n                            }\\r\\n                            //结果为弧度，满足 -π/2 ≤θ≤π/2 - 或 - 如果 d < -1 或 d > 1，则为 NaN。\\r\\n                            curPhase = Math.Asin(curAmplitude);\\r\\n                            phaseDiffer = curPhase - referencePhase; //此时返回结果为相位差\\r\\n                                                                     //phaseDiffer = phaseDiffer + PI; //这样phaseDiffer的范围就变为0到2π\\r\\n                                                                     //m_PeakData[i, j] = phaseDiffer / (2 * PI); // 求出数值对应的比例，范围从0到+1\\r\\n                        }\\r\\n                        bytePeakdata = (byte)NumConversionTo256(phaseDiffer / PI, wd); // 求出数值对应的比例，范围从-1到+1\\r\\n                    }\\r\\n                    break;\\r\\n                case AmplitudeMode.PeakWithPhase:\\r\\n                    {\\r\\n                        double curAmplitude = 0;\\r\\n                        double phaseDiffer = 0;\\r\\n                        tempMax = (double)((byteTempMax - currAvgAmp) * maxVoltage / (maxAMP / 2));\\r\\n                        tempMin = (double)((byteTempMin - currAvgAmp) * maxVoltage / (maxAMP / 2));\\r\\n                        if (tempMax == 0 && tempMin == 0)\\r\\n                        {\\r\\n                            phaseDiffer = 0;\\r\\n                        }\\r\\n                        else\\r\\n                        {\\r\\n                            int currndex = (curFSFFirstPosition + gateStartNum);\\r\\n                            if (ascandata[currndex] > currAvgAmp)\\r\\n                            {\\r\\n                                curAmplitude = (double)(currAvgAmp - ascandata[currndex]) / (maxAMP / 2);\\r\\n                            }\\r\\n                            else\\r\\n                            {\\r\\n                                curAmplitude = (double)(ascandata[currndex]) / (maxAMP / 2);\\r\\n                            }\\r\\n                            if (curAmplitude < -1)\\r\\n                            {\\r\\n                                curAmplitude = -1;\\r\\n                            }\\r\\n                            else if (curAmplitude > 1)\\r\\n                            {\\r\\n                                curAmplitude = 1;\\r\\n                            }\\r\\n                            //结果为弧度，满足 -π/2 ≤θ≤π/2 - 或 - 如果 d < -1 或 d > 1，则为 NaN。\\r\\n                            double curPhase = Math.Asin(curAmplitude);\\r\\n                            phaseDiffer = curPhase - referencePhase; //此时返回结果为相位差\\r\\n                        }\\r\\n                        bytePeakdata = (byte)NumConversionTo256(Math.Cos(phaseDiffer) * (tempMax - tempMin) / 2, wd);  // 幅值（峰峰值）乘以相位的余弦（可确保结果为正）\\r\\n\\r\\n                    }\\r\\n                    break;\\r\\n                case AmplitudeMode.PhaseInverse:\\r\\n                    {\\r\\n\\r\\n                        if (numMax < numMin)//最大值在最小值的前面\\r\\n                        {\\r\\n                            bytePeakdata = byteTempMax;\\r\\n                            if (bytePeakdata < byteMaxThreshold)\\r\\n                            {\\r\\n                                bytePeakdata = 0;\\r\\n                            }\\r\\n                        }\\r\\n                        else //最小值在前面\\r\\n                        {\\r\\n                            bytePeakdata = byteTempMin;\\r\\n\\r\\n                            if (bytePeakdata > byteMinThreshold)\\r\\n                            {\\r\\n                                bytePeakdata = 0;\\r\\n                            }\\r\\n                        }\\r\\n\\r\\n\\r\\n\\r\\n\\r\\n\\r\\n\\r\\n\\r\\n\\r\\n                        //double absPeakValue = GetAbsPeakValueInGate(ascandata, curFSFFirstPosition, FSFGate, gateStartNum, gateLengthNum, maxVoltage, thresholdData, maxAMP);\\r\\n                        ////设置大的正向阈值\\r\\n                        //double bigPosThreshold = 0.96 * absPeakValue * (-PulseType);//和实际设置的值是反的\\r\\n                        ////设置小的正向阈值\\r\\n                        //double smallPosThreshold = 0.8 * absPeakValue * (-PulseType);\\r\\n                        ////设置负向阈值\\r\\n                        //double negativeThreshold = -0.6 * absPeakValue * (-PulseType);\\r\\n\\r\\n                        //bool bBigPosThresholdFound = false;//是否发现大的正向阈值\\r\\n                        //bool bSmallPosThresholdFound = false;//是否发现小的正向阈值\\r\\n                        //bool bNegativeThresholdFound = false;//是否发现负向的阈值\\r\\n\\r\\n\\r\\n                        //tempMax = (double)((byteTempMax - currAvgAmp) * maxVoltage / (maxAMP / 2));\\r\\n                        //tempMin = (double)((byteTempMin - currAvgAmp) * maxVoltage / (maxAMP / 2));\\r\\n\\r\\n                        //int iBigPosThresholdTime = FindValueInGate(bigPosThreshold, curFSFFirstPosition, FSFGate, ascandata, gateStartNum, gateLengthNum, maxVoltage, maxAMP, out bBigPosThresholdFound);\\r\\n\\r\\n                        //int iSmallPosThresholdTime = FindValueInGate(smallPosThreshold, curFSFFirstPosition, FSFGate, ascandata, gateStartNum, gateLengthNum, maxVoltage, maxAMP, out bSmallPosThresholdFound);\\r\\n\\r\\n                        //int iNegativeThresholdTime = FindValueInGate(negativeThreshold, curFSFFirstPosition, FSFGate, ascandata, gateStartNum, gateLengthNum, maxVoltage, maxAMP, out bNegativeThresholdFound);\\r\\n\\r\\n                        ////先到负向阈值，则相位未反转\\r\\n                        ////没反转，则用最大幅值法成像\\r\\n                        //if (iNegativeThresholdTime <= iSmallPosThresholdTime && iNegativeThresholdTime <= iBigPosThresholdTime)\\r\\n                        //{\\r\\n                        //    double absMin = Math.Abs(tempMin);\\r\\n                        //    bytePeakdata = (byte)NumConversionTo256(Math.Max(Math.Abs(tempMin), Math.Abs(tempMax)));\\r\\n                        //    //peakdata = Math.Max(Math.Abs(tempMin), Math.Abs(tempMax));\\r\\n                        //}\\r\\n                        //else //相位发生了反转\\r\\n                        //{\\r\\n                        //    //设置数值对应的颜色\\r\\n                        //    if (bBigPosThresholdFound)\\r\\n                        //    {\\r\\n                        //        bytePeakdata = (byte)NumConversionTo256(1) ; //发生了反转,0xff0000,peakdata = 1\\r\\n                        //    }\\r\\n                        //    else\\r\\n                        //    {\\r\\n                        //        bytePeakdata = (byte)NumConversionTo256(0.75); //发生了临界反转，0xffff00,peakdata=0.75\\r\\n                        //    }\\r\\n                        //}\\r\\n                    }\\r\\n                    break;\\r\\n            }\\r\\n            //StaticParas.glParameters.MaxDataIndex = numMax;\\r\\n            return bytePeakdata;\\r\\n\\r\\n        }',\n",
       "     'method_prefix': 'public static',\n",
       "     'method_param': '(byte[] ascandata\\r\\n            , int gateStartNum\\r\\n            , int gateLengthNum\\r\\n            , AmplitudeMode gateMode\\r\\n            , double thresholdData\\r\\n            , double referencePhase\\r\\n            , double maxVoltage\\r\\n            , int curFSFFirstPosition\\r\\n            , LockGate FSFGate\\r\\n            , WaveDataStyle wd\\r\\n            , double currAvgAmp\\r\\n            , int maxAMP\\r\\n            , int PulseType\\r\\n            , int offsetToZero\\r\\n            , out int maxIndex\\r\\n       )'},\n",
       "    {'method_name': 'NumConversionTo512',\n",
       "     'method_comment': '',\n",
       "     'method_code': 'publicstaticintNumConversionTo512(double m_PeakData){\\r\\n            return NumConversionToData(m_PeakData, 512, WaveDataStyle.RF);\\r\\n        }',\n",
       "     'method_prefix': 'public static',\n",
       "     'method_param': '(double m_PeakData)'},\n",
       "    {'method_name': 'NumConversionTo256',\n",
       "     'method_comment': '',\n",
       "     'method_code': 'publicstaticintNumConversionTo256(double m_PeakData, WaveDataStyle wd){\\r\\n            return NumConversionToData(m_PeakData, 256, wd);\\r\\n        }',\n",
       "     'method_prefix': 'public static',\n",
       "     'method_param': '(double m_PeakData, WaveDataStyle wd)'},\n",
       "    {'method_name': 'NumConversionToData',\n",
       "     'method_comment': '',\n",
       "     'method_code': 'publicstaticintNumConversionToData(double value, short data, WaveDataStyle wd){\\r\\n            int result = 0;\\r\\n            if (wd == WaveDataStyle.RF)\\r\\n            {\\r\\n\\r\\n                if (value < -1) { value = -1; }\\r\\n                if (value > 1) { value = 1; }\\r\\n                result = (int)(Math.Floor(value * data / 2) + data / 2);\\r\\n            }\\r\\n            else\\r\\n            {\\r\\n                result = (int)(value * data);\\r\\n            }\\r\\n            return result;\\r\\n        }',\n",
       "     'method_prefix': 'public static',\n",
       "     'method_param': '(double value, short data, WaveDataStyle wd)'},\n",
       "    {'method_name': 'DrawCscanOnly',\n",
       "     'method_comment': '',\n",
       "     'method_code': 'publicstaticBitmapDrawCscanOnly(int m_IndexNum, int m_ScanNum, AmplitudeMode m_GateMode, double[] m_PeakData, List<byte[,]> m_Data, Bitmap m_bmpCscan, double maxVoltage, Bitmap m_originBitmap, DrawImageStyle m_DrawImageStyle, ColorBarControlSmall colorBar, WaveDataStyle wd){\\r\\n            for (int j = 0; j < m_IndexNum; j++)\\r\\n            {\\r\\n                for (int i = 0; i < m_ScanNum; i++)\\r\\n                {\\r\\n                    int indexOfAScan = j * m_ScanNum + i;\\r\\n                    if (m_GateMode == AmplitudeMode.PostivePeak)\\r\\n                    {\\r\\n                        m_PeakData[indexOfAScan] = m_Data[i][ j, 0] / 32768 * maxVoltage;\\r\\n                    }\\r\\n                    else if (m_GateMode == AmplitudeMode.PeaktoPeak)\\r\\n                    {\\r\\n                        m_PeakData[indexOfAScan] = (m_Data[i][ j, 0] - m_Data[i][ j, 1]) / 2 / 32768 * maxVoltage;\\r\\n                    }\\r\\n                    else if (m_GateMode == AmplitudeMode.NegativePeak)\\r\\n                    {\\r\\n                        m_PeakData[indexOfAScan] = -m_Data[i][ j, 1] / 32768 * maxVoltage;\\r\\n                    }\\r\\n                    else if (m_GateMode == AmplitudeMode.MaxPeak)\\r\\n                    {\\r\\n                        if (m_Data[i][j, 0] > (-m_Data[i][ j, 1]))\\r\\n                        {\\r\\n                            m_PeakData[indexOfAScan] = m_Data[i][ j, 0] / 32768 * maxVoltage;\\r\\n                        }\\r\\n                        else\\r\\n                        {\\r\\n                            m_PeakData[indexOfAScan] = -m_Data[i][ j, 1] / 32768 * maxVoltage;\\r\\n                        }\\r\\n                    }\\r\\n                    // 根据每个信号的峰值绘制图像\\r\\n                    //m_bmpCscan.SetPixel(i, j, DataToColor(m_PeakData[i, j], maxVoltage, m_GateMode, m_DrawImageStyle));\\r\\n                    m_bmpCscan.SetPixel(i, j, DataToColor(m_PeakData[indexOfAScan], m_DrawImageStyle, colorBar, wd));\\r\\n                }\\r\\n            }\\r\\n\\r\\n\\r\\n\\r\\n\\r\\n\\r\\n\\r\\n            if (m_originBitmap != null)\\r\\n            {\\r\\n                m_originBitmap.Dispose();\\r\\n            }\\r\\n            m_originBitmap = new Bitmap(m_bmpCscan, m_bmpCscan.Width, m_bmpCscan.Height);\\r\\n\\r\\n            return m_originBitmap;\\r\\n        }',\n",
       "     'method_prefix': 'public static',\n",
       "     'method_param': '(int m_IndexNum, int m_ScanNum, AmplitudeMode m_GateMode, double[] m_PeakData, List<byte[,]> m_Data, Bitmap m_bmpCscan, double maxVoltage, Bitmap m_originBitmap, DrawImageStyle m_DrawImageStyle, ColorBarControlSmall colorBar, WaveDataStyle wd)'},\n",
       "    {'method_name': 'GetGateStartNum',\n",
       "     'method_comment': '',\n",
       "     'method_code': 'publicstaticintGetGateStartNum(double timeStart, double totalTimeLen, int AScanCount, LockGate FSFGate, int displaystart){\\r\\n            if (timeStart > totalTimeLen)\\r\\n            {\\r\\n                timeStart = totalTimeLen / 2;\\r\\n            }\\r\\n            int GateStartNum = (int)(timeStart * AScanCount / totalTimeLen);\\r\\n            \\r\\n            // 如果波形开始时间 + 同步闸门开始位置 + 数据闸门开始位置 《 0\\r\\n            int FSFGatePosition = FSFGate.m_CurFSFFirstPosition;\\r\\n            if (FSFGatePosition + FSFGate.m_iUseBottomWave * GateStartNum < 0)\\r\\n            {\\r\\n                // 数据闸门开始位置 = - 同步闸门开始位置 - 波形开始时间(0)\\r\\n                //GateStartNum = -FSFGatePosition - displaystart;\\r\\n                GateStartNum = -FSFGatePosition - displaystart;\\r\\n                if (-1 == FSFGate.m_iUseBottomWave)//底波\\r\\n                {\\r\\n                    GateStartNum = 0;\\r\\n                }\\r\\n                else\\r\\n                {\\r\\n                    GateStartNum = FSFGatePosition;//表面波\\r\\n                }\\r\\n            }\\r\\n            return GateStartNum;\\r\\n        }',\n",
       "     'method_prefix': 'public static',\n",
       "     'method_param': '(double timeStart, double totalTimeLen, int AScanCount, LockGate FSFGate, int displaystart)'},\n",
       "    {'method_name': 'GetGateLengthNum',\n",
       "     'method_comment': '',\n",
       "     'method_code': 'publicstaticintGetGateLengthNum(double gatelen, double totalTimeLen, int AScanCount, int FSFGatePosition, int displaystart, int gateStartNum){\\r\\n            // 数据闸门长度 = 闸门长度 * A信号数据长度 / 采样长度\\r\\n            int GateLengthNum = (int)((gatelen) * AScanCount / totalTimeLen);\\r\\n\\r\\n            // 波形起始时间 +同步闸门开始位置索引 + 数据闸门开始位置 + 数据闸门长度 》 A信号数据长度\\r\\n            if ((displaystart + FSFGatePosition + gateStartNum + GateLengthNum) > AScanCount)\\r\\n            {\\r\\n                // 数据闸门长度 = A信号数据长度 - 同步闸门开始位置索引 - 数据闸门开始位置 - 波形起始时间\\r\\n                GateLengthNum = AScanCount - FSFGatePosition - gateStartNum - displaystart;\\r\\n            }\\r\\n            //存文件错误\\r\\n            if (GateLengthNum < 0)\\r\\n            {\\r\\n                GateLengthNum = AScanCount - gateStartNum;\\r\\n            }\\r\\n            return GateLengthNum;\\r\\n        }',\n",
       "     'method_prefix': 'public static',\n",
       "     'method_param': '(double gatelen, double totalTimeLen, int AScanCount, int FSFGatePosition, int displaystart, int gateStartNum)'}]}],\n",
       " 'namespace_key': 'AlgorithmLib',\n",
       " 'relocal_reference': {}}"
      ]
     },
     "execution_count": 10,
     "metadata": {},
     "output_type": "execute_result"
    }
   ],
   "source": [
    "project_meta[sample_key]"
   ]
  },
  {
   "cell_type": "markdown",
   "id": "52f9220e-142d-4cba-97f3-a5b2ebc32cf9",
   "metadata": {},
   "source": [
    "## 2. 读取模型参数测试"
   ]
  },
  {
   "cell_type": "code",
   "execution_count": 11,
   "id": "0bdc41bf-fa3e-434f-8a60-0180860c865d",
   "metadata": {
    "execution": {
     "iopub.execute_input": "2024-11-04T10:42:13.559351Z",
     "iopub.status.busy": "2024-11-04T10:42:13.558660Z",
     "iopub.status.idle": "2024-11-04T10:42:13.615651Z",
     "shell.execute_reply": "2024-11-04T10:42:13.614703Z",
     "shell.execute_reply.started": "2024-11-04T10:42:13.559297Z"
    }
   },
   "outputs": [],
   "source": [
    "from llama_cpp import Llama"
   ]
  },
  {
   "cell_type": "code",
   "execution_count": 12,
   "id": "3cabd84a-4665-4504-9951-fbfda5a9d8fb",
   "metadata": {
    "execution": {
     "iopub.execute_input": "2024-11-04T10:42:14.329019Z",
     "iopub.status.busy": "2024-11-04T10:42:14.328306Z",
     "iopub.status.idle": "2024-11-04T10:42:15.059021Z",
     "shell.execute_reply": "2024-11-04T10:42:15.058137Z",
     "shell.execute_reply.started": "2024-11-04T10:42:14.328961Z"
    },
    "scrolled": true
   },
   "outputs": [
    {
     "ename": "ValueError",
     "evalue": "Model path does not exist: ../data/DeepSeek-Coder-V2-Lite-Instruct/DeepSeek-Coder-V2-Lite-Instruct-IQ4_XS.gguf",
     "output_type": "error",
     "traceback": [
      "\u001b[0;31m---------------------------------------------------------------------------\u001b[0m",
      "\u001b[0;31mValueError\u001b[0m                                Traceback (most recent call last)",
      "Cell \u001b[0;32mIn[12], line 1\u001b[0m\n\u001b[0;32m----> 1\u001b[0m llm \u001b[38;5;241m=\u001b[39m Llama(\n\u001b[1;32m      2\u001b[0m       model_path\u001b[38;5;241m=\u001b[39m\u001b[38;5;124m\"\u001b[39m\u001b[38;5;124m../data/DeepSeek-Coder-V2-Lite-Instruct/DeepSeek-Coder-V2-Lite-Instruct-IQ4_XS.gguf\u001b[39m\u001b[38;5;124m\"\u001b[39m,\n\u001b[1;32m      3\u001b[0m     n_ctx\u001b[38;5;241m=\u001b[39m\u001b[38;5;241m8196\u001b[39m\n\u001b[1;32m      4\u001b[0m )\n",
      "File \u001b[0;32m~/envs/anaconda3/lib/python3.12/site-packages/llama_cpp/llama.py:365\u001b[0m, in \u001b[0;36mLlama.__init__\u001b[0;34m(self, model_path, n_gpu_layers, split_mode, main_gpu, tensor_split, rpc_servers, vocab_only, use_mmap, use_mlock, kv_overrides, seed, n_ctx, n_batch, n_ubatch, n_threads, n_threads_batch, rope_scaling_type, pooling_type, rope_freq_base, rope_freq_scale, yarn_ext_factor, yarn_attn_factor, yarn_beta_fast, yarn_beta_slow, yarn_orig_ctx, logits_all, embedding, offload_kqv, flash_attn, last_n_tokens_size, lora_base, lora_scale, lora_path, numa, chat_format, chat_handler, draft_model, tokenizer, type_k, type_v, spm_infill, verbose, **kwargs)\u001b[0m\n\u001b[1;32m    362\u001b[0m \u001b[38;5;28mself\u001b[39m\u001b[38;5;241m.\u001b[39mspm_infill \u001b[38;5;241m=\u001b[39m spm_infill\n\u001b[1;32m    364\u001b[0m \u001b[38;5;28;01mif\u001b[39;00m \u001b[38;5;129;01mnot\u001b[39;00m os\u001b[38;5;241m.\u001b[39mpath\u001b[38;5;241m.\u001b[39mexists(model_path):\n\u001b[0;32m--> 365\u001b[0m     \u001b[38;5;28;01mraise\u001b[39;00m \u001b[38;5;167;01mValueError\u001b[39;00m(\u001b[38;5;124mf\u001b[39m\u001b[38;5;124m\"\u001b[39m\u001b[38;5;124mModel path does not exist: \u001b[39m\u001b[38;5;132;01m{\u001b[39;00mmodel_path\u001b[38;5;132;01m}\u001b[39;00m\u001b[38;5;124m\"\u001b[39m)\n\u001b[1;32m    367\u001b[0m \u001b[38;5;28mself\u001b[39m\u001b[38;5;241m.\u001b[39m_model \u001b[38;5;241m=\u001b[39m \u001b[38;5;28mself\u001b[39m\u001b[38;5;241m.\u001b[39m_stack\u001b[38;5;241m.\u001b[39menter_context(\n\u001b[1;32m    368\u001b[0m     contextlib\u001b[38;5;241m.\u001b[39mclosing(\n\u001b[1;32m    369\u001b[0m         internals\u001b[38;5;241m.\u001b[39mLlamaModel(\n\u001b[0;32m   (...)\u001b[0m\n\u001b[1;32m    374\u001b[0m     )\n\u001b[1;32m    375\u001b[0m )\n\u001b[1;32m    377\u001b[0m \u001b[38;5;66;03m# Override tokenizer\u001b[39;00m\n",
      "\u001b[0;31mValueError\u001b[0m: Model path does not exist: ../data/DeepSeek-Coder-V2-Lite-Instruct/DeepSeek-Coder-V2-Lite-Instruct-IQ4_XS.gguf"
     ]
    }
   ],
   "source": [
    "llm = Llama(\n",
    "      model_path=\"../data/DeepSeek-Coder-V2-Lite-Instruct/DeepSeek-Coder-V2-Lite-Instruct-IQ4_XS.gguf\",\n",
    "    n_ctx=8196\n",
    ")"
   ]
  },
  {
   "cell_type": "code",
   "execution_count": 25,
   "id": "251da516-54b4-47f3-9c45-08d3ea9bfc0a",
   "metadata": {
    "execution": {
     "iopub.execute_input": "2024-10-31T14:42:41.088027Z",
     "iopub.status.busy": "2024-10-31T14:42:41.087256Z",
     "iopub.status.idle": "2024-10-31T14:42:41.097513Z",
     "shell.execute_reply": "2024-10-31T14:42:41.095650Z",
     "shell.execute_reply.started": "2024-10-31T14:42:41.087966Z"
    }
   },
   "outputs": [],
   "source": [
    "new_p = f\"\"\"<|im_start|>使用中文的csharp资深开发者 \"\\n {prompt} 使用中文回答，尽可能的详尽描述每个部分的功能，以及总结整体代码功能（400字）。<|im_end|>\\n\"\"\""
   ]
  },
  {
   "cell_type": "code",
   "execution_count": 26,
   "id": "e7d65567-10db-411a-b8a6-523cab468bb6",
   "metadata": {
    "execution": {
     "iopub.execute_input": "2024-10-31T14:42:41.532073Z",
     "iopub.status.busy": "2024-10-31T14:42:41.531412Z",
     "iopub.status.idle": "2024-10-31T14:42:41.544941Z",
     "shell.execute_reply": "2024-10-31T14:42:41.543413Z",
     "shell.execute_reply.started": "2024-10-31T14:42:41.532020Z"
    }
   },
   "outputs": [
    {
     "data": {
      "text/plain": [
       "'<|im_start|>使用中文的csharp资深开发者 \"\\n 你是一个资深的软件工程师，现在需要对一个csharp软件项目进行分析，并撰写代码文档，现在就单个代码文件进行文档撰写。\\n    代码文档的格式为：\\n    # 代码文件整体功能描述（400字介绍）；\\n    # 代码包含的类、接口、结构体等内容描述（每个方法至少使用200字进行详细介绍。）；\\n    代码文件内容如下：\\n    // Copyright (c) Six Labors.\\n// Licensed under the Six Labors Split License.\\n\\nusing SixLabors.ImageSharp.PixelFormats;\\n\\nnamespace SixLabors.ImageSharp;\\n\\n/// <summary>\\n/// Extension methods for <see cref=\"ImageFrameCollection{TPixel}\"/>.\\n/// </summary>\\npublic static class ImageFrameCollectionExtensions\\n{\\n    /// <inheritdoc cref=\"Enumerable.AsEnumerable{TPixel}(IEnumerable{TPixel})\"/>\\n    public static IEnumerable<ImageFrame<TPixel>> AsEnumerable<TPixel>(this ImageFrameCollection<TPixel> source)\\n        where TPixel : unmanaged, IPixel<TPixel>\\n        => source;\\n\\n    /// <inheritdoc cref=\"Enumerable.Select{TPixel, TResult}(IEnumerable{TPixel}, Func{TPixel, int, TResult})\"/>\\n    public static IEnumerable<TResult> Select<TPixel, TResult>(this ImageFrameCollection<TPixel> source, Func<ImageFrame<TPixel>, TResult> selector)\\n        where TPixel : unmanaged, IPixel<TPixel> => source.AsEnumerable().Select(selector);\\n}\\n\\n    请生成对应的软件文档。\\n     使用中文回答，尽可能的详尽描述每个部分的功能，以及总结整体代码功能（400字）。<|im_end|>\\n'"
      ]
     },
     "execution_count": 26,
     "metadata": {},
     "output_type": "execute_result"
    }
   ],
   "source": [
    "new_p"
   ]
  },
  {
   "cell_type": "code",
   "execution_count": 28,
   "id": "03ef4506-3818-41bc-89d6-be4afd69931d",
   "metadata": {
    "execution": {
     "iopub.execute_input": "2024-10-31T14:46:21.835930Z",
     "iopub.status.busy": "2024-10-31T14:46:21.835245Z",
     "iopub.status.idle": "2024-10-31T14:46:56.373274Z",
     "shell.execute_reply": "2024-10-31T14:46:56.372379Z",
     "shell.execute_reply.started": "2024-10-31T14:46:21.835874Z"
    }
   },
   "outputs": [
    {
     "name": "stderr",
     "output_type": "stream",
     "text": [
      "Llama.generate: 359 prefix-match hit, remaining 1 prompt tokens to eval\n",
      "llama_perf_context_print:        load time =    5721.40 ms\n",
      "llama_perf_context_print: prompt eval time =       0.00 ms /     1 tokens (    0.00 ms per token,      inf tokens per second)\n",
      "llama_perf_context_print:        eval time =       0.00 ms /   247 runs   (    0.00 ms per token,      inf tokens per second)\n",
      "llama_perf_context_print:       total time =   34509.91 ms /   248 tokens\n"
     ]
    },
    {
     "data": {
      "text/plain": [
       "'\\n\\n\\n```json\\n{\\n  \"code_file_description\": \"这个代码文件提供了一些用于ImageFrameCollection<TPixel>类型的扩展方法。ImageFrameCollection<TPixel>是ImageSharp库中的一个类，用于存储图像帧的集合。这些扩展方法允许对ImageFrameCollection<TPixel>对象进行迭代和转换。\",\\n  \"class_and_methods_description\": {\\n    \"AsEnumerable\": \"这个方法实现了与`Enumerable.AsEnumerable<TPixel>(IEnumerable<TPixel>)`相同的功能。它将`ImageFrameCollection<TPixel>`类型转换为一个可枚举的集合。这个方法没有对集合中的元素进行任何修改，只是将其作为IEnumerable<ImageFrame<TPixel>>类型返回。\",\\n    \"Select\": \"这个方法实现了与`Enumerable.Select{TPixel, TResult}(IEnumerable{TPixel}, Func{TPixel, int, TResult})`相同的功能。它允许对`ImageFrameCollection<TPixel>`中的每个`ImageFrame<TPixel>`应用一个转换函数。这个方法返回一个包含转换结果的可枚举集合。\"\\n  }\\n}\\n```'"
      ]
     },
     "execution_count": 28,
     "metadata": {},
     "output_type": "execute_result"
    }
   ],
   "source": [
    "llm(prompt,max_tokens=None,echo=False)[\"choices\"][0][\"text\"]"
   ]
  },
  {
   "cell_type": "code",
   "execution_count": null,
   "id": "38c1e470-9df0-454c-8d64-51477495e782",
   "metadata": {},
   "outputs": [],
   "source": []
  },
  {
   "cell_type": "code",
   "execution_count": 14,
   "id": "d55cf98e-1cf1-4b30-90dc-3f39ab0272db",
   "metadata": {
    "execution": {
     "iopub.execute_input": "2024-10-31T11:02:49.645828Z",
     "iopub.status.busy": "2024-10-31T11:02:49.645256Z",
     "iopub.status.idle": "2024-10-31T11:02:49.649748Z",
     "shell.execute_reply": "2024-10-31T11:02:49.649152Z",
     "shell.execute_reply.started": "2024-10-31T11:02:49.645793Z"
    },
    "scrolled": true
   },
   "outputs": [],
   "source": [
    "# model = AutoModelForCausalLM.from_pretrained(model_id='../data/v4-raven/',\n",
    "#     pretrained_model_name_or_path='../data/v4-raven/RWKV-4-Raven-3B-v12-Eng49%-Chn49%-Jpn1%-Other1%-20230527-tx4096.pth',\n",
    "#     trust_remote_code=True).to(torch.float32).to(device)"
   ]
  },
  {
   "cell_type": "code",
   "execution_count": null,
   "id": "8a4b2542-f05e-4474-b9b5-b2d5b3fcc951",
   "metadata": {},
   "outputs": [],
   "source": []
  },
  {
   "cell_type": "markdown",
   "id": "7cdab933-4c03-4297-8e46-cedd3a9aae3c",
   "metadata": {},
   "source": [
    "## 3. 项目分析提示词模板"
   ]
  },
  {
   "cell_type": "markdown",
   "id": "7a58d6f7-2984-4218-828b-748fe52840bf",
   "metadata": {},
   "source": [
    "### 3.1 自上而下分析"
   ]
  },
  {
   "cell_type": "markdown",
   "id": "0a9fa11e-c023-47ed-bb0e-51d1f7ee6eaa",
   "metadata": {},
   "source": [
    "#### 项目文件描述"
   ]
  },
  {
   "cell_type": "code",
   "execution_count": 14,
   "id": "621238dc-192d-44e0-82d6-3d2f014314cf",
   "metadata": {
    "execution": {
     "iopub.execute_input": "2024-10-31T13:34:07.207581Z",
     "iopub.status.busy": "2024-10-31T13:34:07.206719Z",
     "iopub.status.idle": "2024-10-31T13:34:07.219330Z",
     "shell.execute_reply": "2024-10-31T13:34:07.217236Z",
     "shell.execute_reply.started": "2024-10-31T13:34:07.207520Z"
    }
   },
   "outputs": [],
   "source": [
    "def gen_prompt_csfile(content:str,\n",
    "                      max_length:int=4096):\n",
    "    '''\n",
    "    content: 文件内容\n",
    "    max_length: 最大长度\n",
    "    '''\n",
    "\n",
    "    template = f\"\"\"你是一个资深的软件工程师，现在需要对一个csharp软件项目进行分析，并撰写代码文档，现在就单个代码文件进行文档撰写。\n",
    "    代码文档的格式为：\n",
    "    # 代码文件整体功能描述（400字介绍）；\n",
    "    # 代码包含的类、接口、结构体等内容描述（每个方法至少使用200字进行详细介绍。）；\n",
    "    代码文件内容如下：\n",
    "    {content[:max_length]}\n",
    "    请生成对应的软件文档。\n",
    "    \"\"\"\n",
    "\n",
    "    return template"
   ]
  },
  {
   "cell_type": "code",
   "execution_count": 15,
   "id": "eb5a4373-a91c-42e6-8416-c17fc3596481",
   "metadata": {
    "execution": {
     "iopub.execute_input": "2024-10-31T13:34:07.369337Z",
     "iopub.status.busy": "2024-10-31T13:34:07.368675Z",
     "iopub.status.idle": "2024-10-31T13:34:07.378689Z",
     "shell.execute_reply": "2024-10-31T13:34:07.376566Z",
     "shell.execute_reply.started": "2024-10-31T13:34:07.369281Z"
    }
   },
   "outputs": [],
   "source": [
    "def gen_prompt_csfile_en(content:str,\n",
    "                      max_length:int=4096):\n",
    "    '''\n",
    "    content: 文件内容\n",
    "    max_length: 最大长度\n",
    "    '''\n",
    "\n",
    "    template = f\"\"\"\n",
    "    You are a senior software engineer, now we'r preparing writing the documentation for a csharp project.\n",
    "    Frist we must write description for single .cs file.\n",
    "    \n",
    "    The code file content is as follow:\n",
    "    {content[:max_length]}\n",
    "    \n",
    "    Following is the formate of output:\n",
    "        # Overall description of the source code file\n",
    "        # Class, interface, struct, method etc. description in this source file.\n",
    "        # Summarization of this source code file\n",
    "    \n",
    "    \"\"\"\n",
    "\n",
    "    return template"
   ]
  },
  {
   "cell_type": "markdown",
   "id": "7e48d10b-4959-4742-80fc-1ef61ffe18d5",
   "metadata": {},
   "source": [
    "#### 命名空间描述"
   ]
  },
  {
   "cell_type": "code",
   "execution_count": 64,
   "id": "65dd39eb-b703-4184-8392-1c72b829025f",
   "metadata": {
    "execution": {
     "iopub.execute_input": "2024-10-31T12:36:29.471918Z",
     "iopub.status.busy": "2024-10-31T12:36:29.471170Z",
     "iopub.status.idle": "2024-10-31T12:36:29.484626Z",
     "shell.execute_reply": "2024-10-31T12:36:29.482858Z",
     "shell.execute_reply.started": "2024-10-31T12:36:29.471855Z"
    }
   },
   "outputs": [],
   "source": [
    "def gen_prompt_namespace(file_desc_map:Dict[str,str],\n",
    "                      max_length:int=512):\n",
    "    '''\n",
    "    file_desc_map: 文件名，生成的描述文本\n",
    "    max_length: 最大长度\n",
    "    '''\n",
    "    template = f\"\"\"你是一个资深的软件工程师，现在需要对一个 csharp 软件项目进行分析，并撰写代码文档，现在针对一个命名空间的功能进行描述。一个命名空间可以视为包含多个代码文件的文件夹，需要撰写的文档格式如下：# 命名空间整体功能描述; # 命名空间中包含的各个文件的功能; # 根据其中包含的所有文件进行总结。该命名空间包含的文件名以及对应的文件描述内容如下：\n",
    "    \"\"\"\n",
    "    template += '\\n\\n'.join(f\"代码文件名:{name}\\n文件描述文档:{file_desc_map[name]}\" for name in file_desc_map)\n",
    "    template += '\\n\\n请生成对应的命名空间描述文档：\\n'\n",
    "    return template"
   ]
  },
  {
   "cell_type": "code",
   "execution_count": 45,
   "id": "abd3823b-8d62-497c-bce9-866701933b29",
   "metadata": {
    "execution": {
     "iopub.execute_input": "2024-10-30T13:59:42.000188Z",
     "iopub.status.busy": "2024-10-30T13:59:41.999558Z",
     "iopub.status.idle": "2024-10-30T13:59:42.009998Z",
     "shell.execute_reply": "2024-10-30T13:59:42.008687Z",
     "shell.execute_reply.started": "2024-10-30T13:59:42.000132Z"
    }
   },
   "outputs": [
    {
     "data": {
      "text/plain": [
       "'\\n    你是一个资深的软件工程师，现在需要对一个 csharp 软件项目进行分析，并撰写代码文档，现在针对一个命名空间的功能进行描述。\\n    一个命名空间可以视为包含多个代码文件的文件夹，需要撰写的文档格式如下：\\n    \\n        [命名空间整体功能描述]\\n        [命名空间中包含的各个文件的功能]\\n        [根据其中包含的所有文件进行总结]\\n    \\n    该命名空间包含的文件名以及对应的文件描述内容如下：\\n    [代码文件名]:a\\n[文件文档]:aaaaa\\n\\n[代码文件名]:b\\n[文件文档]:bbbbb\\n\\n请生成对应的命名空间描述文档：\\n'"
      ]
     },
     "execution_count": 45,
     "metadata": {},
     "output_type": "execute_result"
    }
   ],
   "source": [
    "gen_prompt_namespace({'a':'aaaaa','b':'bbbbb'})"
   ]
  },
  {
   "cell_type": "markdown",
   "id": "3bff107d-ec75-4491-8b5f-a54cd091d534",
   "metadata": {},
   "source": [
    "#### 类描述"
   ]
  },
  {
   "cell_type": "code",
   "execution_count": null,
   "id": "50df2e7c-88d4-4e00-a1d5-2aa3f69cb495",
   "metadata": {},
   "outputs": [],
   "source": [
    "def gen_prompt_class(ref_desc_map:Dict[str,str],\n",
    "                     class_code:str,\n",
    "                      max_length:int):\n",
    "    '''\n",
    "    ref_desc_map: 引用文件（命名空间）名，生成的描述文本\n",
    "    class_code: 代码内容\n",
    "    max_length: 最大长度\n",
    "    '''\n",
    "    pass"
   ]
  },
  {
   "cell_type": "markdown",
   "id": "ea3a5877-ebd6-483c-82ac-514fb729e143",
   "metadata": {},
   "source": [
    "#### 方法描述"
   ]
  },
  {
   "cell_type": "code",
   "execution_count": null,
   "id": "b40fea2e-f3c1-4630-9563-d1181bb41bf7",
   "metadata": {},
   "outputs": [],
   "source": [
    "def gen_prompt_method(class_desc:str,\n",
    "                      method_code:str,\n",
    "                      max_length:int):\n",
    "    '''\n",
    "    class_desc: 方法所在的类的描述\n",
    "    method_code: 代码内容    \n",
    "    max_length: 最大长度\n",
    "    '''\n",
    "    pass"
   ]
  },
  {
   "cell_type": "markdown",
   "id": "d0db66e5-9dd4-41d6-a80c-a4e7a34f0c77",
   "metadata": {},
   "source": [
    "### 3.2 自下而上分析"
   ]
  },
  {
   "cell_type": "code",
   "execution_count": 46,
   "id": "22ad07de-fbf2-4c83-9e76-f171b5dfe385",
   "metadata": {
    "execution": {
     "iopub.execute_input": "2024-10-29T15:16:19.112051Z",
     "iopub.status.busy": "2024-10-29T15:16:19.111272Z",
     "iopub.status.idle": "2024-10-29T15:16:19.123064Z",
     "shell.execute_reply": "2024-10-29T15:16:19.121082Z",
     "shell.execute_reply.started": "2024-10-29T15:16:19.111986Z"
    }
   },
   "outputs": [],
   "source": [
    "def generate_prompt(instruction, input=None):\n",
    "    if input:\n",
    "        return f\"\"\"下方给出了一个Csharp代码的方法部分的片段，该方法从一个类中抽取，可能包含文档注释以及外部的引用名称。\n",
    "\n",
    "            # 对于本次任务的指令如下:\n",
    "            {instruction}\n",
    "            \n",
    "            # 输入的内容如下:\n",
    "            {input}\n",
    "            \n",
    "            # Response:\n",
    "            \"\"\""
   ]
  },
  {
   "cell_type": "code",
   "execution_count": null,
   "id": "58c68ca7-527f-476d-b979-46e06fbf1b5b",
   "metadata": {},
   "outputs": [],
   "source": []
  },
  {
   "cell_type": "code",
   "execution_count": null,
   "id": "b1a8523c-1fd7-4c10-a1fc-9f4510c5c638",
   "metadata": {},
   "outputs": [],
   "source": []
  },
  {
   "cell_type": "markdown",
   "id": "9db28f6c-5959-48e1-90b4-9db8528453f0",
   "metadata": {},
   "source": [
    "## 4. 调用模型分析并存储结果\n",
    "\n",
    "使用tinyDB将结果实时保存"
   ]
  },
  {
   "cell_type": "code",
   "execution_count": 46,
   "id": "1041931b-4425-480e-8d2d-d2c4848bdea5",
   "metadata": {
    "execution": {
     "iopub.execute_input": "2024-10-30T14:02:26.102057Z",
     "iopub.status.busy": "2024-10-30T14:02:26.101355Z",
     "iopub.status.idle": "2024-10-30T14:02:26.110212Z",
     "shell.execute_reply": "2024-10-30T14:02:26.108015Z",
     "shell.execute_reply.started": "2024-10-30T14:02:26.102001Z"
    }
   },
   "outputs": [],
   "source": [
    "if not os.path.isdir('../data/results'):\n",
    "    os.mkdir('../data/results')"
   ]
  },
  {
   "cell_type": "code",
   "execution_count": 47,
   "id": "c4738782-e454-40cd-98ca-1972d866ce74",
   "metadata": {
    "execution": {
     "iopub.execute_input": "2024-10-30T14:04:30.130552Z",
     "iopub.status.busy": "2024-10-30T14:04:30.129654Z",
     "iopub.status.idle": "2024-10-30T14:04:30.150853Z",
     "shell.execute_reply": "2024-10-30T14:04:30.149371Z",
     "shell.execute_reply.started": "2024-10-30T14:04:30.130490Z"
    }
   },
   "outputs": [],
   "source": [
    "from tinydb import TinyDB, Query"
   ]
  },
  {
   "cell_type": "markdown",
   "id": "7f6d8978-19d7-4a79-88c7-0d643d77e340",
   "metadata": {},
   "source": [
    "#### 自上而下-文件描述"
   ]
  },
  {
   "cell_type": "code",
   "execution_count": 1,
   "id": "ec638ddd-aa99-47c0-8f93-9b8796f4e587",
   "metadata": {
    "execution": {
     "iopub.execute_input": "2024-11-01T01:40:45.020830Z",
     "iopub.status.busy": "2024-11-01T01:40:45.020096Z",
     "iopub.status.idle": "2024-11-01T01:40:45.028570Z",
     "shell.execute_reply": "2024-11-01T01:40:45.027196Z",
     "shell.execute_reply.started": "2024-11-01T01:40:45.020758Z"
    }
   },
   "outputs": [],
   "source": [
    "from tinydb import TinyDB,Query"
   ]
  },
  {
   "cell_type": "code",
   "execution_count": 4,
   "id": "e162e56d-23b2-41d0-ad58-b79438cc26e5",
   "metadata": {
    "execution": {
     "iopub.execute_input": "2024-11-01T01:42:00.962147Z",
     "iopub.status.busy": "2024-11-01T01:42:00.961421Z",
     "iopub.status.idle": "2024-11-01T01:42:00.969613Z",
     "shell.execute_reply": "2024-11-01T01:42:00.968236Z",
     "shell.execute_reply.started": "2024-11-01T01:42:00.962086Z"
    }
   },
   "outputs": [],
   "source": [
    "rough_csfile_desc_db = TinyDB('../data/results/rough_csfile_db.json')"
   ]
  },
  {
   "cell_type": "code",
   "execution_count": 25,
   "id": "3cf8a236-48c4-4d25-ac97-1970649f6421",
   "metadata": {
    "execution": {
     "iopub.execute_input": "2024-10-31T14:42:41.088027Z",
     "iopub.status.busy": "2024-10-31T14:42:41.087256Z",
     "iopub.status.idle": "2024-10-31T14:42:41.097513Z",
     "shell.execute_reply": "2024-10-31T14:42:41.095650Z",
     "shell.execute_reply.started": "2024-10-31T14:42:41.087966Z"
    }
   },
   "outputs": [],
   "source": [
    "new_p = f\"\"\"<|im_start|>使用中文的csharp资深开发者 \"\\n {prompt} 使用中文回答，尽可能的详尽描述每个部分的功能，以及总结整体代码功能（400字）。<|im_end|>\\n\"\"\""
   ]
  },
  {
   "cell_type": "code",
   "execution_count": 30,
   "id": "06d7393f-9357-4513-81dc-5866db3381a9",
   "metadata": {
    "execution": {
     "iopub.execute_input": "2024-10-31T15:01:06.757628Z",
     "iopub.status.busy": "2024-10-31T15:01:06.757152Z",
     "iopub.status.idle": "2024-10-31T15:01:09.008110Z",
     "shell.execute_reply": "2024-10-31T15:01:09.007348Z",
     "shell.execute_reply.started": "2024-10-31T15:01:06.757603Z"
    }
   },
   "outputs": [
    {
     "name": "stderr",
     "output_type": "stream",
     "text": [
      "llama_model_loader: loaded meta data with 42 key-value pairs and 377 tensors from ../data/DeepSeek-Coder-V2-Lite-Instruct/DeepSeek-Coder-V2-Lite-Instruct-IQ4_XS.gguf (version GGUF V3 (latest))\n",
      "llama_model_loader: Dumping metadata keys/values. Note: KV overrides do not apply in this output.\n",
      "llama_model_loader: - kv   0:                       general.architecture str              = deepseek2\n",
      "llama_model_loader: - kv   1:                               general.name str              = DeepSeek-Coder-V2-Lite-Instruct\n",
      "llama_model_loader: - kv   2:                      deepseek2.block_count u32              = 27\n",
      "llama_model_loader: - kv   3:                   deepseek2.context_length u32              = 163840\n",
      "llama_model_loader: - kv   4:                 deepseek2.embedding_length u32              = 2048\n",
      "llama_model_loader: - kv   5:              deepseek2.feed_forward_length u32              = 10944\n",
      "llama_model_loader: - kv   6:             deepseek2.attention.head_count u32              = 16\n",
      "llama_model_loader: - kv   7:          deepseek2.attention.head_count_kv u32              = 16\n",
      "llama_model_loader: - kv   8:                   deepseek2.rope.freq_base f32              = 10000.000000\n",
      "llama_model_loader: - kv   9: deepseek2.attention.layer_norm_rms_epsilon f32              = 0.000001\n",
      "llama_model_loader: - kv  10:                deepseek2.expert_used_count u32              = 6\n",
      "llama_model_loader: - kv  11:                          general.file_type u32              = 30\n",
      "llama_model_loader: - kv  12:        deepseek2.leading_dense_block_count u32              = 1\n",
      "llama_model_loader: - kv  13:                       deepseek2.vocab_size u32              = 102400\n",
      "llama_model_loader: - kv  14:           deepseek2.attention.kv_lora_rank u32              = 512\n",
      "llama_model_loader: - kv  15:             deepseek2.attention.key_length u32              = 192\n",
      "llama_model_loader: - kv  16:           deepseek2.attention.value_length u32              = 128\n",
      "llama_model_loader: - kv  17:       deepseek2.expert_feed_forward_length u32              = 1408\n",
      "llama_model_loader: - kv  18:                     deepseek2.expert_count u32              = 64\n",
      "llama_model_loader: - kv  19:              deepseek2.expert_shared_count u32              = 2\n",
      "llama_model_loader: - kv  20:             deepseek2.expert_weights_scale f32              = 1.000000\n",
      "llama_model_loader: - kv  21:             deepseek2.rope.dimension_count u32              = 64\n",
      "llama_model_loader: - kv  22:                deepseek2.rope.scaling.type str              = yarn\n",
      "llama_model_loader: - kv  23:              deepseek2.rope.scaling.factor f32              = 40.000000\n",
      "llama_model_loader: - kv  24: deepseek2.rope.scaling.original_context_length u32              = 4096\n",
      "llama_model_loader: - kv  25: deepseek2.rope.scaling.yarn_log_multiplier f32              = 0.070700\n",
      "llama_model_loader: - kv  26:                       tokenizer.ggml.model str              = gpt2\n",
      "llama_model_loader: - kv  27:                         tokenizer.ggml.pre str              = deepseek-llm\n",
      "llama_model_loader: - kv  28:                      tokenizer.ggml.tokens arr[str,102400]  = [\"!\", \"\\\"\", \"#\", \"$\", \"%\", \"&\", \"'\", ...\n",
      "llama_model_loader: - kv  29:                  tokenizer.ggml.token_type arr[i32,102400]  = [1, 1, 1, 1, 1, 1, 1, 1, 1, 1, 1, 1, ...\n",
      "llama_model_loader: - kv  30:                      tokenizer.ggml.merges arr[str,99757]   = [\"Ġ Ġ\", \"Ġ t\", \"Ġ a\", \"i n\", \"h e...\n",
      "llama_model_loader: - kv  31:                tokenizer.ggml.bos_token_id u32              = 100000\n",
      "llama_model_loader: - kv  32:                tokenizer.ggml.eos_token_id u32              = 100001\n",
      "llama_model_loader: - kv  33:            tokenizer.ggml.padding_token_id u32              = 100001\n",
      "llama_model_loader: - kv  34:               tokenizer.ggml.add_bos_token bool             = true\n",
      "llama_model_loader: - kv  35:               tokenizer.ggml.add_eos_token bool             = false\n",
      "llama_model_loader: - kv  36:                    tokenizer.chat_template str              = {% if not add_generation_prompt is de...\n",
      "llama_model_loader: - kv  37:               general.quantization_version u32              = 2\n",
      "llama_model_loader: - kv  38:                      quantize.imatrix.file str              = /models/DeepSeek-Coder-V2-Lite-Instru...\n",
      "llama_model_loader: - kv  39:                   quantize.imatrix.dataset str              = /training_data/calibration_datav3.txt\n",
      "llama_model_loader: - kv  40:             quantize.imatrix.entries_count i32              = 293\n",
      "llama_model_loader: - kv  41:              quantize.imatrix.chunks_count i32              = 139\n",
      "llama_model_loader: - type  f32:  108 tensors\n",
      "llama_model_loader: - type q6_K:    1 tensors\n",
      "llama_model_loader: - type iq4_nl:   27 tensors\n",
      "llama_model_loader: - type iq4_xs:  241 tensors\n",
      "llm_load_vocab: special_eos_id is not in special_eog_ids - the tokenizer config may be incorrect\n",
      "llm_load_vocab: special tokens cache size = 2400\n",
      "llm_load_vocab: token to piece cache size = 0.6661 MB\n",
      "llm_load_print_meta: format           = GGUF V3 (latest)\n",
      "llm_load_print_meta: arch             = deepseek2\n",
      "llm_load_print_meta: vocab type       = BPE\n",
      "llm_load_print_meta: n_vocab          = 102400\n",
      "llm_load_print_meta: n_merges         = 99757\n",
      "llm_load_print_meta: vocab_only       = 0\n",
      "llm_load_print_meta: n_ctx_train      = 163840\n",
      "llm_load_print_meta: n_embd           = 2048\n",
      "llm_load_print_meta: n_layer          = 27\n",
      "llm_load_print_meta: n_head           = 16\n",
      "llm_load_print_meta: n_head_kv        = 16\n",
      "llm_load_print_meta: n_rot            = 64\n",
      "llm_load_print_meta: n_swa            = 0\n",
      "llm_load_print_meta: n_embd_head_k    = 192\n",
      "llm_load_print_meta: n_embd_head_v    = 128\n",
      "llm_load_print_meta: n_gqa            = 1\n",
      "llm_load_print_meta: n_embd_k_gqa     = 3072\n",
      "llm_load_print_meta: n_embd_v_gqa     = 2048\n",
      "llm_load_print_meta: f_norm_eps       = 0.0e+00\n",
      "llm_load_print_meta: f_norm_rms_eps   = 1.0e-06\n",
      "llm_load_print_meta: f_clamp_kqv      = 0.0e+00\n",
      "llm_load_print_meta: f_max_alibi_bias = 0.0e+00\n",
      "llm_load_print_meta: f_logit_scale    = 0.0e+00\n",
      "llm_load_print_meta: n_ff             = 10944\n",
      "llm_load_print_meta: n_expert         = 64\n",
      "llm_load_print_meta: n_expert_used    = 6\n",
      "llm_load_print_meta: causal attn      = 1\n",
      "llm_load_print_meta: pooling type     = 0\n",
      "llm_load_print_meta: rope type        = 0\n",
      "llm_load_print_meta: rope scaling     = yarn\n",
      "llm_load_print_meta: freq_base_train  = 10000.0\n",
      "llm_load_print_meta: freq_scale_train = 0.025\n",
      "llm_load_print_meta: n_ctx_orig_yarn  = 4096\n",
      "llm_load_print_meta: rope_finetuned   = unknown\n",
      "llm_load_print_meta: ssm_d_conv       = 0\n",
      "llm_load_print_meta: ssm_d_inner      = 0\n",
      "llm_load_print_meta: ssm_d_state      = 0\n",
      "llm_load_print_meta: ssm_dt_rank      = 0\n",
      "llm_load_print_meta: ssm_dt_b_c_rms   = 0\n",
      "llm_load_print_meta: model type       = 16B\n",
      "llm_load_print_meta: model ftype      = IQ4_XS - 4.25 bpw\n",
      "llm_load_print_meta: model params     = 15.71 B\n",
      "llm_load_print_meta: model size       = 7.98 GiB (4.36 BPW) \n",
      "llm_load_print_meta: general.name     = DeepSeek-Coder-V2-Lite-Instruct\n",
      "llm_load_print_meta: BOS token        = 100000 '<｜begin▁of▁sentence｜>'\n",
      "llm_load_print_meta: EOS token        = 100001 '<｜end▁of▁sentence｜>'\n",
      "llm_load_print_meta: PAD token        = 100001 '<｜end▁of▁sentence｜>'\n",
      "llm_load_print_meta: LF token         = 126 'Ä'\n",
      "llm_load_print_meta: EOG token        = 100001 '<｜end▁of▁sentence｜>'\n",
      "llm_load_print_meta: max token length = 256\n",
      "llm_load_print_meta: n_layer_dense_lead   = 1\n",
      "llm_load_print_meta: n_lora_q             = 0\n",
      "llm_load_print_meta: n_lora_kv            = 512\n",
      "llm_load_print_meta: n_ff_exp             = 1408\n",
      "llm_load_print_meta: n_expert_shared      = 2\n",
      "llm_load_print_meta: expert_weights_scale = 1.0\n",
      "llm_load_print_meta: rope_yarn_log_mul    = 0.0707\n",
      "llm_load_tensors: ggml ctx size =    0.16 MiB\n",
      "llm_load_tensors:        CPU buffer size =  8170.70 MiB\n",
      "......................................................................................\n",
      "llama_new_context_with_model: n_ctx      = 8224\n",
      "llama_new_context_with_model: n_batch    = 512\n",
      "llama_new_context_with_model: n_ubatch   = 512\n",
      "llama_new_context_with_model: flash_attn = 0\n",
      "llama_new_context_with_model: freq_base  = 10000.0\n",
      "llama_new_context_with_model: freq_scale = 0.025\n",
      "llama_kv_cache_init:        CPU KV buffer size =  2168.44 MiB\n",
      "llama_new_context_with_model: KV self size  = 2168.44 MiB, K (f16): 1301.06 MiB, V (f16):  867.38 MiB\n",
      "llama_new_context_with_model:        CPU  output buffer size =     0.39 MiB\n",
      "llama_new_context_with_model:        CPU compute buffer size =   297.07 MiB\n",
      "llama_new_context_with_model: graph nodes  = 1924\n",
      "llama_new_context_with_model: graph splits = 1\n",
      "AVX = 1 | AVX_VNNI = 0 | AVX2 = 1 | AVX512 = 1 | AVX512_VBMI = 0 | AVX512_VNNI = 0 | AVX512_BF16 = 0 | FMA = 1 | NEON = 0 | SVE = 0 | ARM_FMA = 0 | F16C = 1 | FP16_VA = 0 | RISCV_VECT = 0 | WASM_SIMD = 0 | BLAS = 0 | SSE3 = 1 | SSSE3 = 1 | VSX = 0 | MATMUL_INT8 = 0 | LLAMAFILE = 1 | \n",
      "Model metadata: {'quantize.imatrix.chunks_count': '139', 'quantize.imatrix.entries_count': '293', 'quantize.imatrix.dataset': '/training_data/calibration_datav3.txt', 'general.quantization_version': '2', 'tokenizer.ggml.add_eos_token': 'false', 'tokenizer.ggml.add_bos_token': 'true', 'tokenizer.ggml.padding_token_id': '100001', 'deepseek2.block_count': '27', 'deepseek2.leading_dense_block_count': '1', 'deepseek2.attention.kv_lora_rank': '512', 'deepseek2.rope.scaling.original_context_length': '4096', 'general.file_type': '30', 'quantize.imatrix.file': '/models/DeepSeek-Coder-V2-Lite-Instruct-GGUF/DeepSeek-Coder-V2-Lite-Instruct.imatrix', 'deepseek2.attention.head_count': '16', 'deepseek2.feed_forward_length': '10944', 'deepseek2.attention.head_count_kv': '16', 'tokenizer.chat_template': \"{% if not add_generation_prompt is defined %}{% set add_generation_prompt = false %}{% endif %}{{ bos_token }}{% for message in messages %}{% if message['role'] == 'user' %}{{ 'User: ' + message['content'] + '\\n\\n' }}{% elif message['role'] == 'assistant' %}{{ 'Assistant: ' + message['content'] + eos_token }}{% elif message['role'] == 'system' %}{{ message['content'] + '\\n\\n' }}{% endif %}{% endfor %}{% if add_generation_prompt %}{{ 'Assistant:' }}{% endif %}\", 'deepseek2.context_length': '163840', 'deepseek2.embedding_length': '2048', 'deepseek2.expert_used_count': '6', 'deepseek2.attention.key_length': '192', 'tokenizer.ggml.pre': 'deepseek-llm', 'deepseek2.attention.layer_norm_rms_epsilon': '0.000001', 'general.architecture': 'deepseek2', 'deepseek2.vocab_size': '102400', 'tokenizer.ggml.eos_token_id': '100001', 'deepseek2.expert_shared_count': '2', 'deepseek2.rope.freq_base': '10000.000000', 'deepseek2.attention.value_length': '128', 'deepseek2.expert_feed_forward_length': '1408', 'deepseek2.rope.dimension_count': '64', 'deepseek2.expert_count': '64', 'deepseek2.rope.scaling.type': 'yarn', 'deepseek2.rope.scaling.factor': '40.000000', 'deepseek2.rope.scaling.yarn_log_multiplier': '0.070700', 'deepseek2.expert_weights_scale': '1.000000', 'tokenizer.ggml.model': 'gpt2', 'general.name': 'DeepSeek-Coder-V2-Lite-Instruct', 'tokenizer.ggml.bos_token_id': '100000'}\n",
      "Available chat formats from metadata: chat_template.default\n",
      "Using gguf chat template: {% if not add_generation_prompt is defined %}{% set add_generation_prompt = false %}{% endif %}{{ bos_token }}{% for message in messages %}{% if message['role'] == 'user' %}{{ 'User: ' + message['content'] + '\n",
      "\n",
      "' }}{% elif message['role'] == 'assistant' %}{{ 'Assistant: ' + message['content'] + eos_token }}{% elif message['role'] == 'system' %}{{ message['content'] + '\n",
      "\n",
      "' }}{% endif %}{% endfor %}{% if add_generation_prompt %}{{ 'Assistant:' }}{% endif %}\n",
      "Using chat eos_token: <｜end▁of▁sentence｜>\n",
      "Using chat bos_token: <｜begin▁of▁sentence｜>\n"
     ]
    }
   ],
   "source": [
    "llm = Llama(\n",
    "      model_path=\"../data/DeepSeek-Coder-V2-Lite-Instruct/DeepSeek-Coder-V2-Lite-Instruct-IQ4_XS.gguf\",\n",
    "    n_ctx=8196\n",
    ")"
   ]
  },
  {
   "cell_type": "code",
   "execution_count": 36,
   "id": "21dad79e-d96c-4a69-9d1b-ee3cc18a7a8c",
   "metadata": {
    "execution": {
     "iopub.execute_input": "2024-10-31T15:05:27.999132Z",
     "iopub.status.busy": "2024-10-31T15:05:27.998406Z",
     "iopub.status.idle": "2024-11-01T01:37:16.970509Z",
     "shell.execute_reply": "2024-11-01T01:37:16.969385Z",
     "shell.execute_reply.started": "2024-10-31T15:05:27.999076Z"
    },
    "scrolled": true
   },
   "outputs": [
    {
     "name": "stderr",
     "output_type": "stream",
     "text": [
      "llama_perf_context_print:        load time =    5719.40 ms\n",
      "llama_perf_context_print: prompt eval time =       0.00 ms /   359 tokens (    0.00 ms per token,      inf tokens per second)\n",
      "llama_perf_context_print:        eval time =       0.00 ms /   568 runs   (    0.00 ms per token,      inf tokens per second)\n",
      "llama_perf_context_print:       total time =   84373.09 ms /   927 tokens\n",
      "Llama.generate: 82 prefix-match hit, remaining 932 prompt tokens to eval\n"
     ]
    },
    {
     "name": "stdout",
     "output_type": "stream",
     "text": [
      "0: ../data/ImageSharp-main/src/ImageSharp/ImageFrameCollectionExtensions.cs insert sucsscfull.\n"
     ]
    },
    {
     "name": "stderr",
     "output_type": "stream",
     "text": [
      "llama_perf_context_print:        load time =    5719.40 ms\n",
      "llama_perf_context_print: prompt eval time =       0.00 ms /   932 tokens (    0.00 ms per token,      inf tokens per second)\n",
      "llama_perf_context_print:        eval time =       0.00 ms /   528 runs   (    0.00 ms per token,      inf tokens per second)\n",
      "llama_perf_context_print:       total time =   95987.83 ms /  1460 tokens\n",
      "Llama.generate: 82 prefix-match hit, remaining 283 prompt tokens to eval\n"
     ]
    },
    {
     "name": "stdout",
     "output_type": "stream",
     "text": [
      "1: ../data/ImageSharp-main/src/ImageSharp/Image.FromStream.cs insert sucsscfull.\n"
     ]
    },
    {
     "name": "stderr",
     "output_type": "stream",
     "text": [
      "llama_perf_context_print:        load time =    5719.40 ms\n",
      "llama_perf_context_print: prompt eval time =       0.00 ms /   283 tokens (    0.00 ms per token,      inf tokens per second)\n",
      "llama_perf_context_print:        eval time =       0.00 ms /   283 runs   (    0.00 ms per token,      inf tokens per second)\n",
      "llama_perf_context_print:       total time =   43493.23 ms /   566 tokens\n",
      "Llama.generate: 75 prefix-match hit, remaining 1106 prompt tokens to eval\n"
     ]
    },
    {
     "name": "stdout",
     "output_type": "stream",
     "text": [
      "2: ../data/ImageSharp-main/src/ImageSharp/ImageExtensions.Internal.cs insert sucsscfull.\n"
     ]
    },
    {
     "name": "stderr",
     "output_type": "stream",
     "text": [
      "llama_perf_context_print:        load time =    5719.40 ms\n",
      "llama_perf_context_print: prompt eval time =       0.00 ms /  1106 tokens (    0.00 ms per token,      inf tokens per second)\n",
      "llama_perf_context_print:        eval time =       0.00 ms /   506 runs   (    0.00 ms per token,      inf tokens per second)\n",
      "llama_perf_context_print:       total time =   96495.00 ms /  1612 tokens\n",
      "Llama.generate: 51 prefix-match hit, remaining 174 prompt tokens to eval\n"
     ]
    },
    {
     "name": "stdout",
     "output_type": "stream",
     "text": [
      "3: ../data/ImageSharp-main/src/ImageSharp/Image.cs insert sucsscfull.\n"
     ]
    },
    {
     "name": "stderr",
     "output_type": "stream",
     "text": [
      "llama_perf_context_print:        load time =    5719.40 ms\n",
      "llama_perf_context_print: prompt eval time =       0.00 ms /   174 tokens (    0.00 ms per token,      inf tokens per second)\n",
      "llama_perf_context_print:        eval time =       0.00 ms /   228 runs   (    0.00 ms per token,      inf tokens per second)\n",
      "llama_perf_context_print:       total time =   33589.90 ms /   402 tokens\n",
      "Llama.generate: 51 prefix-match hit, remaining 993 prompt tokens to eval\n"
     ]
    },
    {
     "name": "stdout",
     "output_type": "stream",
     "text": [
      "4: ../data/ImageSharp-main/src/ImageSharp/ReadOrigin.cs insert sucsscfull.\n"
     ]
    },
    {
     "name": "stderr",
     "output_type": "stream",
     "text": [
      "llama_perf_context_print:        load time =    5719.40 ms\n",
      "llama_perf_context_print: prompt eval time =       0.00 ms /   993 tokens (    0.00 ms per token,      inf tokens per second)\n",
      "llama_perf_context_print:        eval time =       0.00 ms /   548 runs   (    0.00 ms per token,      inf tokens per second)\n",
      "llama_perf_context_print:       total time =   99324.02 ms /  1541 tokens\n",
      "Llama.generate: 82 prefix-match hit, remaining 949 prompt tokens to eval\n"
     ]
    },
    {
     "name": "stdout",
     "output_type": "stream",
     "text": [
      "5: ../data/ImageSharp-main/src/ImageSharp/Image.FromBytes.cs insert sucsscfull.\n"
     ]
    },
    {
     "name": "stderr",
     "output_type": "stream",
     "text": [
      "llama_perf_context_print:        load time =    5719.40 ms\n",
      "llama_perf_context_print: prompt eval time =       0.00 ms /   949 tokens (    0.00 ms per token,      inf tokens per second)\n",
      "llama_perf_context_print:        eval time =       0.00 ms /   505 runs   (    0.00 ms per token,      inf tokens per second)\n",
      "llama_perf_context_print:       total time =   92935.91 ms /  1454 tokens\n",
      "Llama.generate: 75 prefix-match hit, remaining 1120 prompt tokens to eval\n"
     ]
    },
    {
     "name": "stdout",
     "output_type": "stream",
     "text": [
      "6: ../data/ImageSharp-main/src/ImageSharp/GraphicOptionsDefaultsExtensions.cs insert sucsscfull.\n"
     ]
    },
    {
     "name": "stderr",
     "output_type": "stream",
     "text": [
      "llama_perf_context_print:        load time =    5719.40 ms\n",
      "llama_perf_context_print: prompt eval time =       0.00 ms /  1120 tokens (    0.00 ms per token,      inf tokens per second)\n",
      "llama_perf_context_print:        eval time =       0.00 ms /   380 runs   (    0.00 ms per token,      inf tokens per second)\n",
      "llama_perf_context_print:       total time =   77985.53 ms /  1500 tokens\n",
      "Llama.generate: 75 prefix-match hit, remaining 842 prompt tokens to eval\n"
     ]
    },
    {
     "name": "stdout",
     "output_type": "stream",
     "text": [
      "7: ../data/ImageSharp-main/src/ImageSharp/ImageFrameCollection.cs insert sucsscfull.\n"
     ]
    },
    {
     "name": "stderr",
     "output_type": "stream",
     "text": [
      "llama_perf_context_print:        load time =    5719.40 ms\n",
      "llama_perf_context_print: prompt eval time =       0.00 ms /   842 tokens (    0.00 ms per token,      inf tokens per second)\n",
      "llama_perf_context_print:        eval time =       0.00 ms /   355 runs   (    0.00 ms per token,      inf tokens per second)\n",
      "llama_perf_context_print:       total time =   67267.69 ms /  1197 tokens\n",
      "Llama.generate: 82 prefix-match hit, remaining 749 prompt tokens to eval\n"
     ]
    },
    {
     "name": "stdout",
     "output_type": "stream",
     "text": [
      "8: ../data/ImageSharp-main/src/ImageSharp/ImageFrame.cs insert sucsscfull.\n"
     ]
    },
    {
     "name": "stderr",
     "output_type": "stream",
     "text": [
      "llama_perf_context_print:        load time =    5719.40 ms\n",
      "llama_perf_context_print: prompt eval time =       0.00 ms /   749 tokens (    0.00 ms per token,      inf tokens per second)\n",
      "llama_perf_context_print:        eval time =       0.00 ms /   542 runs   (    0.00 ms per token,      inf tokens per second)\n",
      "llama_perf_context_print:       total time =   92223.27 ms /  1291 tokens\n",
      "Llama.generate: 51 prefix-match hit, remaining 307 prompt tokens to eval\n"
     ]
    },
    {
     "name": "stdout",
     "output_type": "stream",
     "text": [
      "9: ../data/ImageSharp-main/src/ImageSharp/GraphicsOptions.cs insert sucsscfull.\n"
     ]
    },
    {
     "name": "stderr",
     "output_type": "stream",
     "text": [
      "llama_perf_context_print:        load time =    5719.40 ms\n",
      "llama_perf_context_print: prompt eval time =       0.00 ms /   307 tokens (    0.00 ms per token,      inf tokens per second)\n",
      "llama_perf_context_print:        eval time =       0.00 ms /   350 runs   (    0.00 ms per token,      inf tokens per second)\n",
      "llama_perf_context_print:       total time =   52973.70 ms /   657 tokens\n",
      "Llama.generate: 51 prefix-match hit, remaining 1073 prompt tokens to eval\n"
     ]
    },
    {
     "name": "stdout",
     "output_type": "stream",
     "text": [
      "10: ../data/ImageSharp-main/src/ImageSharp/IDeepCloneable.cs insert sucsscfull.\n"
     ]
    },
    {
     "name": "stderr",
     "output_type": "stream",
     "text": [
      "llama_perf_context_print:        load time =    5719.40 ms\n",
      "llama_perf_context_print: prompt eval time =       0.00 ms /  1073 tokens (    0.00 ms per token,      inf tokens per second)\n",
      "llama_perf_context_print:        eval time =       0.00 ms /  1098 runs   (    0.00 ms per token,      inf tokens per second)\n",
      "llama_perf_context_print:       total time =  194439.45 ms /  2171 tokens\n",
      "Llama.generate: 51 prefix-match hit, remaining 873 prompt tokens to eval\n"
     ]
    },
    {
     "name": "stdout",
     "output_type": "stream",
     "text": [
      "11: ../data/ImageSharp-main/src/ImageSharp/Configuration.cs insert sucsscfull.\n"
     ]
    },
    {
     "name": "stderr",
     "output_type": "stream",
     "text": [
      "llama_perf_context_print:        load time =    5719.40 ms\n",
      "llama_perf_context_print: prompt eval time =       0.00 ms /   873 tokens (    0.00 ms per token,      inf tokens per second)\n",
      "llama_perf_context_print:        eval time =       0.00 ms /   444 runs   (    0.00 ms per token,      inf tokens per second)\n",
      "llama_perf_context_print:       total time =   80889.32 ms /  1317 tokens\n",
      "Llama.generate: 51 prefix-match hit, remaining 767 prompt tokens to eval\n"
     ]
    },
    {
     "name": "stdout",
     "output_type": "stream",
     "text": [
      "12: ../data/ImageSharp-main/src/ImageSharp/PixelAccessor{TPixel}.cs insert sucsscfull.\n"
     ]
    },
    {
     "name": "stderr",
     "output_type": "stream",
     "text": [
      "llama_perf_context_print:        load time =    5719.40 ms\n",
      "llama_perf_context_print: prompt eval time =       0.00 ms /   767 tokens (    0.00 ms per token,      inf tokens per second)\n",
      "llama_perf_context_print:        eval time =       0.00 ms /   551 runs   (    0.00 ms per token,      inf tokens per second)\n",
      "llama_perf_context_print:       total time =   93009.76 ms /  1318 tokens\n",
      "Llama.generate: 75 prefix-match hit, remaining 363 prompt tokens to eval\n"
     ]
    },
    {
     "name": "stdout",
     "output_type": "stream",
     "text": [
      "13: ../data/ImageSharp-main/src/ImageSharp/ImageInfo.cs insert sucsscfull.\n"
     ]
    },
    {
     "name": "stderr",
     "output_type": "stream",
     "text": [
      "llama_perf_context_print:        load time =    5719.40 ms\n",
      "llama_perf_context_print: prompt eval time =       0.00 ms /   363 tokens (    0.00 ms per token,      inf tokens per second)\n",
      "llama_perf_context_print:        eval time =       0.00 ms /   377 runs   (    0.00 ms per token,      inf tokens per second)\n",
      "llama_perf_context_print:       total time =   59910.89 ms /   740 tokens\n",
      "Llama.generate: 77 prefix-match hit, remaining 1122 prompt tokens to eval\n"
     ]
    },
    {
     "name": "stdout",
     "output_type": "stream",
     "text": [
      "14: ../data/ImageSharp-main/src/ImageSharp/GeometryUtilities.cs insert sucsscfull.\n"
     ]
    },
    {
     "name": "stderr",
     "output_type": "stream",
     "text": [
      "llama_perf_context_print:        load time =    5719.40 ms\n",
      "llama_perf_context_print: prompt eval time =       0.00 ms /  1122 tokens (    0.00 ms per token,      inf tokens per second)\n",
      "llama_perf_context_print:        eval time =       0.00 ms /   969 runs   (    0.00 ms per token,      inf tokens per second)\n",
      "llama_perf_context_print:       total time =  176219.98 ms /  2091 tokens\n",
      "Llama.generate: 77 prefix-match hit, remaining 1013 prompt tokens to eval\n"
     ]
    },
    {
     "name": "stdout",
     "output_type": "stream",
     "text": [
      "15: ../data/ImageSharp-main/src/ImageSharp/ImageFrameCollection{TPixel}.cs insert sucsscfull.\n"
     ]
    },
    {
     "name": "stderr",
     "output_type": "stream",
     "text": [
      "llama_perf_context_print:        load time =    5719.40 ms\n",
      "llama_perf_context_print: prompt eval time =       0.00 ms /  1013 tokens (    0.00 ms per token,      inf tokens per second)\n",
      "llama_perf_context_print:        eval time =       0.00 ms /  7133 runs   (    0.00 ms per token,      inf tokens per second)\n",
      "llama_perf_context_print:       total time = 1699676.21 ms /  8146 tokens\n",
      "Llama.generate: 77 prefix-match hit, remaining 1115 prompt tokens to eval\n"
     ]
    },
    {
     "name": "stdout",
     "output_type": "stream",
     "text": [
      "16: ../data/ImageSharp-main/src/ImageSharp/ImageExtensions.cs insert sucsscfull.\n"
     ]
    },
    {
     "name": "stderr",
     "output_type": "stream",
     "text": [
      "llama_perf_context_print:        load time =    5719.40 ms\n",
      "llama_perf_context_print: prompt eval time =       0.00 ms /  1115 tokens (    0.00 ms per token,      inf tokens per second)\n",
      "llama_perf_context_print:        eval time =       0.00 ms /   740 runs   (    0.00 ms per token,      inf tokens per second)\n",
      "llama_perf_context_print:       total time =  132152.23 ms /  1855 tokens\n",
      "Llama.generate: 51 prefix-match hit, remaining 682 prompt tokens to eval\n"
     ]
    },
    {
     "name": "stdout",
     "output_type": "stream",
     "text": [
      "17: ../data/ImageSharp-main/src/ImageSharp/IndexedImageFrame{TPixel}.cs insert sucsscfull.\n"
     ]
    },
    {
     "name": "stderr",
     "output_type": "stream",
     "text": [
      "llama_perf_context_print:        load time =    5719.40 ms\n",
      "llama_perf_context_print: prompt eval time =       0.00 ms /   682 tokens (    0.00 ms per token,      inf tokens per second)\n",
      "llama_perf_context_print:        eval time =       0.00 ms /   469 runs   (    0.00 ms per token,      inf tokens per second)\n",
      "llama_perf_context_print:       total time =   79842.80 ms /  1151 tokens\n",
      "Llama.generate: 51 prefix-match hit, remaining 1078 prompt tokens to eval\n"
     ]
    },
    {
     "name": "stdout",
     "output_type": "stream",
     "text": [
      "18: ../data/ImageSharp-main/src/ImageSharp/ImageFrame.LoadPixelData.cs insert sucsscfull.\n"
     ]
    },
    {
     "name": "stderr",
     "output_type": "stream",
     "text": [
      "llama_perf_context_print:        load time =    5719.40 ms\n",
      "llama_perf_context_print: prompt eval time =       0.00 ms /  1078 tokens (    0.00 ms per token,      inf tokens per second)\n",
      "llama_perf_context_print:        eval time =       0.00 ms /   870 runs   (    0.00 ms per token,      inf tokens per second)\n",
      "llama_perf_context_print:       total time =  152807.61 ms /  1948 tokens\n",
      "Llama.generate: 77 prefix-match hit, remaining 1060 prompt tokens to eval\n"
     ]
    },
    {
     "name": "stdout",
     "output_type": "stream",
     "text": [
      "19: ../data/ImageSharp-main/src/ImageSharp/ImageFrame{TPixel}.cs insert sucsscfull.\n"
     ]
    },
    {
     "name": "stderr",
     "output_type": "stream",
     "text": [
      "llama_perf_context_print:        load time =    5719.40 ms\n",
      "llama_perf_context_print: prompt eval time =       0.00 ms /  1060 tokens (    0.00 ms per token,      inf tokens per second)\n",
      "llama_perf_context_print:        eval time =       0.00 ms /   268 runs   (    0.00 ms per token,      inf tokens per second)\n",
      "llama_perf_context_print:       total time =   58812.29 ms /  1328 tokens\n",
      "Llama.generate: 77 prefix-match hit, remaining 1085 prompt tokens to eval\n"
     ]
    },
    {
     "name": "stdout",
     "output_type": "stream",
     "text": [
      "20: ../data/ImageSharp-main/src/ImageSharp/Image.WrapMemory.cs insert sucsscfull.\n"
     ]
    },
    {
     "name": "stderr",
     "output_type": "stream",
     "text": [
      "llama_perf_context_print:        load time =    5719.40 ms\n",
      "llama_perf_context_print: prompt eval time =       0.00 ms /  1085 tokens (    0.00 ms per token,      inf tokens per second)\n",
      "llama_perf_context_print:        eval time =       0.00 ms /  2030 runs   (    0.00 ms per token,      inf tokens per second)\n",
      "llama_perf_context_print:       total time =  364114.63 ms /  3115 tokens\n",
      "Llama.generate: 79 prefix-match hit, remaining 1053 prompt tokens to eval\n"
     ]
    },
    {
     "name": "stdout",
     "output_type": "stream",
     "text": [
      "21: ../data/ImageSharp-main/src/ImageSharp/Image.LoadPixelData.cs insert sucsscfull.\n"
     ]
    },
    {
     "name": "stderr",
     "output_type": "stream",
     "text": [
      "llama_perf_context_print:        load time =    5719.40 ms\n",
      "llama_perf_context_print: prompt eval time =       0.00 ms /  1053 tokens (    0.00 ms per token,      inf tokens per second)\n",
      "llama_perf_context_print:        eval time =       0.00 ms /   688 runs   (    0.00 ms per token,      inf tokens per second)\n",
      "llama_perf_context_print:       total time =  123841.96 ms /  1741 tokens\n",
      "Llama.generate: 75 prefix-match hit, remaining 956 prompt tokens to eval\n"
     ]
    },
    {
     "name": "stdout",
     "output_type": "stream",
     "text": [
      "22: ../data/ImageSharp-main/src/ImageSharp/Image{TPixel}.cs insert sucsscfull.\n"
     ]
    },
    {
     "name": "stderr",
     "output_type": "stream",
     "text": [
      "llama_perf_context_print:        load time =    5719.40 ms\n",
      "llama_perf_context_print: prompt eval time =       0.00 ms /   956 tokens (    0.00 ms per token,      inf tokens per second)\n",
      "llama_perf_context_print:        eval time =       0.00 ms /  7192 runs   (    0.00 ms per token,      inf tokens per second)\n",
      "llama_perf_context_print:       total time = 1680706.75 ms /  8148 tokens\n",
      "Llama.generate: 75 prefix-match hit, remaining 1025 prompt tokens to eval\n"
     ]
    },
    {
     "name": "stdout",
     "output_type": "stream",
     "text": [
      "23: ../data/ImageSharp-main/src/ImageSharp/Image.FromFile.cs insert sucsscfull.\n"
     ]
    },
    {
     "name": "stderr",
     "output_type": "stream",
     "text": [
      "llama_perf_context_print:        load time =    5719.40 ms\n",
      "llama_perf_context_print: prompt eval time =       0.00 ms /  1025 tokens (    0.00 ms per token,      inf tokens per second)\n",
      "llama_perf_context_print:        eval time =       0.00 ms /   337 runs   (    0.00 ms per token,      inf tokens per second)\n",
      "llama_perf_context_print:       total time =   68370.57 ms /  1362 tokens\n",
      "Llama.generate: 51 prefix-match hit, remaining 155 prompt tokens to eval\n"
     ]
    },
    {
     "name": "stdout",
     "output_type": "stream",
     "text": [
      "24: ../data/ImageSharp-main/src/ImageSharp/Image.Decode.cs insert sucsscfull.\n"
     ]
    },
    {
     "name": "stderr",
     "output_type": "stream",
     "text": [
      "llama_perf_context_print:        load time =    5719.40 ms\n",
      "llama_perf_context_print: prompt eval time =       0.00 ms /   155 tokens (    0.00 ms per token,      inf tokens per second)\n",
      "llama_perf_context_print:        eval time =       0.00 ms /   205 runs   (    0.00 ms per token,      inf tokens per second)\n",
      "llama_perf_context_print:       total time =   29911.30 ms /   360 tokens\n",
      "Llama.generate: 51 prefix-match hit, remaining 1161 prompt tokens to eval\n"
     ]
    },
    {
     "name": "stdout",
     "output_type": "stream",
     "text": [
      "25: ../data/ImageSharp-main/src/ImageSharp/Properties/AssemblyInfo.cs insert sucsscfull.\n"
     ]
    },
    {
     "name": "stderr",
     "output_type": "stream",
     "text": [
      "llama_perf_context_print:        load time =    5719.40 ms\n",
      "llama_perf_context_print: prompt eval time =       0.00 ms /  1161 tokens (    0.00 ms per token,      inf tokens per second)\n",
      "llama_perf_context_print:        eval time =       0.00 ms /   442 runs   (    0.00 ms per token,      inf tokens per second)\n",
      "llama_perf_context_print:       total time =   87264.89 ms /  1603 tokens\n",
      "Llama.generate: 205 prefix-match hit, remaining 954 prompt tokens to eval\n"
     ]
    },
    {
     "name": "stdout",
     "output_type": "stream",
     "text": [
      "26: ../data/ImageSharp-main/src/ImageSharp/Metadata/ImageFrameMetadata.cs insert sucsscfull.\n"
     ]
    },
    {
     "name": "stderr",
     "output_type": "stream",
     "text": [
      "llama_perf_context_print:        load time =    5719.40 ms\n",
      "llama_perf_context_print: prompt eval time =       0.00 ms /   954 tokens (    0.00 ms per token,      inf tokens per second)\n",
      "llama_perf_context_print:        eval time =       0.00 ms /   594 runs   (    0.00 ms per token,      inf tokens per second)\n",
      "llama_perf_context_print:       total time =  107004.51 ms /  1548 tokens\n",
      "Llama.generate: 51 prefix-match hit, remaining 262 prompt tokens to eval\n"
     ]
    },
    {
     "name": "stdout",
     "output_type": "stream",
     "text": [
      "27: ../data/ImageSharp-main/src/ImageSharp/Metadata/ImageMetadata.cs insert sucsscfull.\n"
     ]
    },
    {
     "name": "stderr",
     "output_type": "stream",
     "text": [
      "llama_perf_context_print:        load time =    5719.40 ms\n",
      "llama_perf_context_print: prompt eval time =       0.00 ms /   262 tokens (    0.00 ms per token,      inf tokens per second)\n",
      "llama_perf_context_print:        eval time =       0.00 ms /   273 runs   (    0.00 ms per token,      inf tokens per second)\n",
      "llama_perf_context_print:       total time =   41680.53 ms /   535 tokens\n",
      "Llama.generate: 74 prefix-match hit, remaining 851 prompt tokens to eval\n"
     ]
    },
    {
     "name": "stdout",
     "output_type": "stream",
     "text": [
      "28: ../data/ImageSharp-main/src/ImageSharp/Metadata/PixelResolutionUnit.cs insert sucsscfull.\n"
     ]
    },
    {
     "name": "stderr",
     "output_type": "stream",
     "text": [
      "llama_perf_context_print:        load time =    5719.40 ms\n",
      "llama_perf_context_print: prompt eval time =       0.00 ms /   851 tokens (    0.00 ms per token,      inf tokens per second)\n",
      "llama_perf_context_print:        eval time =       0.00 ms /   509 runs   (    0.00 ms per token,      inf tokens per second)\n",
      "llama_perf_context_print:       total time =   89546.57 ms /  1360 tokens\n",
      "Llama.generate: 74 prefix-match hit, remaining 541 prompt tokens to eval\n"
     ]
    },
    {
     "name": "stdout",
     "output_type": "stream",
     "text": [
      "29: ../data/ImageSharp-main/src/ImageSharp/Metadata/Profiles/ICC/IccProfileHeader.cs insert sucsscfull.\n"
     ]
    },
    {
     "name": "stderr",
     "output_type": "stream",
     "text": [
      "llama_perf_context_print:        load time =    5719.40 ms\n",
      "llama_perf_context_print: prompt eval time =       0.00 ms /   541 tokens (    0.00 ms per token,      inf tokens per second)\n",
      "llama_perf_context_print:        eval time =       0.00 ms /   217 runs   (    0.00 ms per token,      inf tokens per second)\n",
      "llama_perf_context_print:       total time =   39410.55 ms /   758 tokens\n",
      "Llama.generate: 51 prefix-match hit, remaining 1186 prompt tokens to eval\n"
     ]
    },
    {
     "name": "stdout",
     "output_type": "stream",
     "text": [
      "30: ../data/ImageSharp-main/src/ImageSharp/Metadata/Profiles/ICC/IccTagDataEntry.cs insert sucsscfull.\n"
     ]
    },
    {
     "name": "stderr",
     "output_type": "stream",
     "text": [
      "llama_perf_context_print:        load time =    5719.40 ms\n",
      "llama_perf_context_print: prompt eval time =       0.00 ms /  1186 tokens (    0.00 ms per token,      inf tokens per second)\n",
      "llama_perf_context_print:        eval time =       0.00 ms /   721 runs   (    0.00 ms per token,      inf tokens per second)\n",
      "llama_perf_context_print:       total time =  132148.20 ms /  1907 tokens\n",
      "Llama.generate: 97 prefix-match hit, remaining 925 prompt tokens to eval\n"
     ]
    },
    {
     "name": "stdout",
     "output_type": "stream",
     "text": [
      "31: ../data/ImageSharp-main/src/ImageSharp/Metadata/Profiles/ICC/IccReader.cs insert sucsscfull.\n"
     ]
    },
    {
     "name": "stderr",
     "output_type": "stream",
     "text": [
      "llama_perf_context_print:        load time =    5719.40 ms\n",
      "llama_perf_context_print: prompt eval time =       0.00 ms /   925 tokens (    0.00 ms per token,      inf tokens per second)\n",
      "llama_perf_context_print:        eval time =       0.00 ms /   614 runs   (    0.00 ms per token,      inf tokens per second)\n",
      "llama_perf_context_print:       total time =  108681.59 ms /  1539 tokens\n",
      "Llama.generate: 73 prefix-match hit, remaining 1162 prompt tokens to eval\n"
     ]
    },
    {
     "name": "stdout",
     "output_type": "stream",
     "text": [
      "32: ../data/ImageSharp-main/src/ImageSharp/Metadata/Profiles/ICC/IccWriter.cs insert sucsscfull.\n"
     ]
    },
    {
     "name": "stderr",
     "output_type": "stream",
     "text": [
      "llama_perf_context_print:        load time =    5719.40 ms\n",
      "llama_perf_context_print: prompt eval time =       0.00 ms /  1162 tokens (    0.00 ms per token,      inf tokens per second)\n",
      "llama_perf_context_print:        eval time =       0.00 ms /   498 runs   (    0.00 ms per token,      inf tokens per second)\n",
      "llama_perf_context_print:       total time =   96497.10 ms /  1660 tokens\n",
      "Llama.generate: 73 prefix-match hit, remaining 339 prompt tokens to eval\n"
     ]
    },
    {
     "name": "stdout",
     "output_type": "stream",
     "text": [
      "33: ../data/ImageSharp-main/src/ImageSharp/Metadata/Profiles/ICC/IccProfile.cs insert sucsscfull.\n"
     ]
    },
    {
     "name": "stderr",
     "output_type": "stream",
     "text": [
      "llama_perf_context_print:        load time =    5719.40 ms\n",
      "llama_perf_context_print: prompt eval time =       0.00 ms /   339 tokens (    0.00 ms per token,      inf tokens per second)\n",
      "llama_perf_context_print:        eval time =       0.00 ms /   235 runs   (    0.00 ms per token,      inf tokens per second)\n",
      "llama_perf_context_print:       total time =   37497.31 ms /   574 tokens\n",
      "Llama.generate: 98 prefix-match hit, remaining 437 prompt tokens to eval\n"
     ]
    },
    {
     "name": "stdout",
     "output_type": "stream",
     "text": [
      "34: ../data/ImageSharp-main/src/ImageSharp/Metadata/Profiles/ICC/MultiProcessElements/IccBAcsProcessElement.cs insert sucsscfull.\n"
     ]
    },
    {
     "name": "stderr",
     "output_type": "stream",
     "text": [
      "llama_perf_context_print:        load time =    5719.40 ms\n",
      "llama_perf_context_print: prompt eval time =       0.00 ms /   437 tokens (    0.00 ms per token,      inf tokens per second)\n",
      "llama_perf_context_print:        eval time =       0.00 ms /   479 runs   (    0.00 ms per token,      inf tokens per second)\n",
      "llama_perf_context_print:       total time =   74579.61 ms /   916 tokens\n",
      "Llama.generate: 98 prefix-match hit, remaining 424 prompt tokens to eval\n"
     ]
    },
    {
     "name": "stdout",
     "output_type": "stream",
     "text": [
      "35: ../data/ImageSharp-main/src/ImageSharp/Metadata/Profiles/ICC/MultiProcessElements/IccClutProcessElement.cs insert sucsscfull.\n"
     ]
    },
    {
     "name": "stderr",
     "output_type": "stream",
     "text": [
      "llama_perf_context_print:        load time =    5719.40 ms\n",
      "llama_perf_context_print: prompt eval time =       0.00 ms /   424 tokens (    0.00 ms per token,      inf tokens per second)\n",
      "llama_perf_context_print:        eval time =       0.00 ms /   539 runs   (    0.00 ms per token,      inf tokens per second)\n",
      "llama_perf_context_print:       total time =   84495.88 ms /   963 tokens\n",
      "Llama.generate: 97 prefix-match hit, remaining 576 prompt tokens to eval\n"
     ]
    },
    {
     "name": "stdout",
     "output_type": "stream",
     "text": [
      "36: ../data/ImageSharp-main/src/ImageSharp/Metadata/Profiles/ICC/MultiProcessElements/IccCurveSetProcessElement.cs insert sucsscfull.\n"
     ]
    },
    {
     "name": "stderr",
     "output_type": "stream",
     "text": [
      "llama_perf_context_print:        load time =    5719.40 ms\n",
      "llama_perf_context_print: prompt eval time =       0.00 ms /   576 tokens (    0.00 ms per token,      inf tokens per second)\n",
      "llama_perf_context_print:        eval time =       0.00 ms /   412 runs   (    0.00 ms per token,      inf tokens per second)\n",
      "llama_perf_context_print:       total time =   67542.65 ms /   988 tokens\n",
      "Llama.generate: 97 prefix-match hit, remaining 309 prompt tokens to eval\n"
     ]
    },
    {
     "name": "stdout",
     "output_type": "stream",
     "text": [
      "37: ../data/ImageSharp-main/src/ImageSharp/Metadata/Profiles/ICC/MultiProcessElements/IccMultiProcessElement.cs insert sucsscfull.\n"
     ]
    },
    {
     "name": "stderr",
     "output_type": "stream",
     "text": [
      "llama_perf_context_print:        load time =    5719.40 ms\n",
      "llama_perf_context_print: prompt eval time =       0.00 ms /   309 tokens (    0.00 ms per token,      inf tokens per second)\n",
      "llama_perf_context_print:        eval time =       0.00 ms /   379 runs   (    0.00 ms per token,      inf tokens per second)\n",
      "llama_perf_context_print:       total time =   58385.84 ms /   688 tokens\n",
      "Llama.generate: 98 prefix-match hit, remaining 702 prompt tokens to eval\n"
     ]
    },
    {
     "name": "stdout",
     "output_type": "stream",
     "text": [
      "38: ../data/ImageSharp-main/src/ImageSharp/Metadata/Profiles/ICC/MultiProcessElements/IccEAcsProcessElement.cs insert sucsscfull.\n"
     ]
    },
    {
     "name": "stderr",
     "output_type": "stream",
     "text": [
      "llama_perf_context_print:        load time =    5719.40 ms\n",
      "llama_perf_context_print: prompt eval time =       0.00 ms /   702 tokens (    0.00 ms per token,      inf tokens per second)\n",
      "llama_perf_context_print:        eval time =       0.00 ms /   372 runs   (    0.00 ms per token,      inf tokens per second)\n",
      "llama_perf_context_print:       total time =   65077.49 ms /  1074 tokens\n",
      "Llama.generate: 51 prefix-match hit, remaining 1244 prompt tokens to eval\n"
     ]
    },
    {
     "name": "stdout",
     "output_type": "stream",
     "text": [
      "39: ../data/ImageSharp-main/src/ImageSharp/Metadata/Profiles/ICC/MultiProcessElements/IccMatrixProcessElement.cs insert sucsscfull.\n"
     ]
    },
    {
     "name": "stderr",
     "output_type": "stream",
     "text": [
      "llama_perf_context_print:        load time =    5719.40 ms\n",
      "llama_perf_context_print: prompt eval time =       0.00 ms /  1244 tokens (    0.00 ms per token,      inf tokens per second)\n",
      "llama_perf_context_print:        eval time =       0.00 ms /   739 runs   (    0.00 ms per token,      inf tokens per second)\n",
      "llama_perf_context_print:       total time =  138242.02 ms /  1983 tokens\n",
      "Llama.generate: 51 prefix-match hit, remaining 1207 prompt tokens to eval\n"
     ]
    },
    {
     "name": "stdout",
     "output_type": "stream",
     "text": [
      "40: ../data/ImageSharp-main/src/ImageSharp/Metadata/Profiles/ICC/DataWriter/IccDataWriter.Matrix.cs insert sucsscfull.\n"
     ]
    },
    {
     "name": "stderr",
     "output_type": "stream",
     "text": [
      "llama_perf_context_print:        load time =    5719.40 ms\n",
      "llama_perf_context_print: prompt eval time =       0.00 ms /  1207 tokens (    0.00 ms per token,      inf tokens per second)\n",
      "llama_perf_context_print:        eval time =       0.00 ms /   347 runs   (    0.00 ms per token,      inf tokens per second)\n",
      "llama_perf_context_print:       total time =   73960.42 ms /  1554 tokens\n",
      "Llama.generate: 51 prefix-match hit, remaining 1288 prompt tokens to eval\n"
     ]
    },
    {
     "name": "stdout",
     "output_type": "stream",
     "text": [
      "41: ../data/ImageSharp-main/src/ImageSharp/Metadata/Profiles/ICC/DataWriter/IccDataWriter.Curves.cs insert sucsscfull.\n"
     ]
    },
    {
     "name": "stderr",
     "output_type": "stream",
     "text": [
      "llama_perf_context_print:        load time =    5719.40 ms\n",
      "llama_perf_context_print: prompt eval time =       0.00 ms /  1288 tokens (    0.00 ms per token,      inf tokens per second)\n",
      "llama_perf_context_print:        eval time =       0.00 ms /   682 runs   (    0.00 ms per token,      inf tokens per second)\n",
      "llama_perf_context_print:       total time =  130087.24 ms /  1970 tokens\n",
      "Llama.generate: 51 prefix-match hit, remaining 1164 prompt tokens to eval\n"
     ]
    },
    {
     "name": "stdout",
     "output_type": "stream",
     "text": [
      "42: ../data/ImageSharp-main/src/ImageSharp/Metadata/Profiles/ICC/DataWriter/IccDataWriter.cs insert sucsscfull.\n"
     ]
    },
    {
     "name": "stderr",
     "output_type": "stream",
     "text": [
      "llama_perf_context_print:        load time =    5719.40 ms\n",
      "llama_perf_context_print: prompt eval time =       0.00 ms /  1164 tokens (    0.00 ms per token,      inf tokens per second)\n",
      "llama_perf_context_print:        eval time =       0.00 ms /   354 runs   (    0.00 ms per token,      inf tokens per second)\n",
      "llama_perf_context_print:       total time =   72982.92 ms /  1518 tokens\n",
      "Llama.generate: 93 prefix-match hit, remaining 762 prompt tokens to eval\n"
     ]
    },
    {
     "name": "stdout",
     "output_type": "stream",
     "text": [
      "43: ../data/ImageSharp-main/src/ImageSharp/Metadata/Profiles/ICC/DataWriter/IccDataWriter.Lut.cs insert sucsscfull.\n"
     ]
    },
    {
     "name": "stderr",
     "output_type": "stream",
     "text": [
      "llama_perf_context_print:        load time =    5719.40 ms\n",
      "llama_perf_context_print: prompt eval time =       0.00 ms /   762 tokens (    0.00 ms per token,      inf tokens per second)\n",
      "llama_perf_context_print:        eval time =       0.00 ms /   350 runs   (    0.00 ms per token,      inf tokens per second)\n",
      "llama_perf_context_print:       total time =   63496.78 ms /  1112 tokens\n",
      "Llama.generate: 74 prefix-match hit, remaining 1225 prompt tokens to eval\n"
     ]
    },
    {
     "name": "stdout",
     "output_type": "stream",
     "text": [
      "44: ../data/ImageSharp-main/src/ImageSharp/Metadata/Profiles/ICC/DataWriter/IccDataWriter.MultiProcessElement.cs insert sucsscfull.\n"
     ]
    },
    {
     "name": "stderr",
     "output_type": "stream",
     "text": [
      "llama_perf_context_print:        load time =    5719.40 ms\n",
      "llama_perf_context_print: prompt eval time =       0.00 ms /  1225 tokens (    0.00 ms per token,      inf tokens per second)\n",
      "llama_perf_context_print:        eval time =       0.00 ms /   735 runs   (    0.00 ms per token,      inf tokens per second)\n",
      "llama_perf_context_print:       total time =  134767.46 ms /  1960 tokens\n",
      "Llama.generate: 73 prefix-match hit, remaining 1169 prompt tokens to eval\n"
     ]
    },
    {
     "name": "stdout",
     "output_type": "stream",
     "text": [
      "45: ../data/ImageSharp-main/src/ImageSharp/Metadata/Profiles/ICC/DataWriter/IccDataWriter.NonPrimitives.cs insert sucsscfull.\n"
     ]
    },
    {
     "name": "stderr",
     "output_type": "stream",
     "text": [
      "llama_perf_context_print:        load time =    5719.40 ms\n",
      "llama_perf_context_print: prompt eval time =       0.00 ms /  1169 tokens (    0.00 ms per token,      inf tokens per second)\n",
      "llama_perf_context_print:        eval time =       0.00 ms /   281 runs   (    0.00 ms per token,      inf tokens per second)\n",
      "llama_perf_context_print:       total time =   61296.95 ms /  1450 tokens\n",
      "Llama.generate: 73 prefix-match hit, remaining 1287 prompt tokens to eval\n"
     ]
    },
    {
     "name": "stdout",
     "output_type": "stream",
     "text": [
      "46: ../data/ImageSharp-main/src/ImageSharp/Metadata/Profiles/ICC/DataWriter/IccDataWriter.TagDataEntry.cs insert sucsscfull.\n"
     ]
    },
    {
     "name": "stderr",
     "output_type": "stream",
     "text": [
      "llama_perf_context_print:        load time =    5719.40 ms\n",
      "llama_perf_context_print: prompt eval time =       0.00 ms /  1287 tokens (    0.00 ms per token,      inf tokens per second)\n",
      "llama_perf_context_print:        eval time =       0.00 ms /  2212 runs   (    0.00 ms per token,      inf tokens per second)\n",
      "llama_perf_context_print:       total time =  407609.22 ms /  3499 tokens\n",
      "Llama.generate: 77 prefix-match hit, remaining 1079 prompt tokens to eval\n"
     ]
    },
    {
     "name": "stdout",
     "output_type": "stream",
     "text": [
      "47: ../data/ImageSharp-main/src/ImageSharp/Metadata/Profiles/ICC/DataWriter/IccDataWriter.Primitives.cs insert sucsscfull.\n"
     ]
    },
    {
     "name": "stderr",
     "output_type": "stream",
     "text": [
      "llama_perf_context_print:        load time =    5719.40 ms\n",
      "llama_perf_context_print: prompt eval time =       0.00 ms /  1079 tokens (    0.00 ms per token,      inf tokens per second)\n",
      "llama_perf_context_print:        eval time =       0.00 ms /   551 runs   (    0.00 ms per token,      inf tokens per second)\n",
      "llama_perf_context_print:       total time =  102037.68 ms /  1630 tokens\n",
      "Llama.generate: 51 prefix-match hit, remaining 828 prompt tokens to eval\n"
     ]
    },
    {
     "name": "stdout",
     "output_type": "stream",
     "text": [
      "48: ../data/ImageSharp-main/src/ImageSharp/Metadata/Profiles/ICC/Various/IccProfileId.cs insert sucsscfull.\n"
     ]
    },
    {
     "name": "stderr",
     "output_type": "stream",
     "text": [
      "llama_perf_context_print:        load time =    5719.40 ms\n",
      "llama_perf_context_print: prompt eval time =       0.00 ms /   828 tokens (    0.00 ms per token,      inf tokens per second)\n",
      "llama_perf_context_print:        eval time =       0.00 ms /   464 runs   (    0.00 ms per token,      inf tokens per second)\n",
      "llama_perf_context_print:       total time =   81403.42 ms /  1292 tokens\n",
      "Llama.generate: 98 prefix-match hit, remaining 394 prompt tokens to eval\n"
     ]
    },
    {
     "name": "stdout",
     "output_type": "stream",
     "text": [
      "49: ../data/ImageSharp-main/src/ImageSharp/Metadata/Profiles/ICC/Various/IccProfileDescription.cs insert sucsscfull.\n"
     ]
    },
    {
     "name": "stderr",
     "output_type": "stream",
     "text": [
      "llama_perf_context_print:        load time =    5719.40 ms\n",
      "llama_perf_context_print: prompt eval time =       0.00 ms /   394 tokens (    0.00 ms per token,      inf tokens per second)\n",
      "llama_perf_context_print:        eval time =       0.00 ms /   441 runs   (    0.00 ms per token,      inf tokens per second)\n",
      "llama_perf_context_print:       total time =   68043.01 ms /   835 tokens\n",
      "Llama.generate: 98 prefix-match hit, remaining 1099 prompt tokens to eval\n"
     ]
    },
    {
     "name": "stdout",
     "output_type": "stream",
     "text": [
      "50: ../data/ImageSharp-main/src/ImageSharp/Metadata/Profiles/ICC/Various/IccProfileSequenceIdentifier.cs insert sucsscfull.\n"
     ]
    },
    {
     "name": "stderr",
     "output_type": "stream",
     "text": [
      "llama_perf_context_print:        load time =    5719.40 ms\n",
      "llama_perf_context_print: prompt eval time =       0.00 ms /  1099 tokens (    0.00 ms per token,      inf tokens per second)\n",
      "llama_perf_context_print:        eval time =       0.00 ms /   558 runs   (    0.00 ms per token,      inf tokens per second)\n",
      "llama_perf_context_print:       total time =  103689.12 ms /  1657 tokens\n",
      "Llama.generate: 51 prefix-match hit, remaining 964 prompt tokens to eval\n"
     ]
    },
    {
     "name": "stdout",
     "output_type": "stream",
     "text": [
      "51: ../data/ImageSharp-main/src/ImageSharp/Metadata/Profiles/ICC/Various/IccColorantTableEntry.cs insert sucsscfull.\n"
     ]
    },
    {
     "name": "stderr",
     "output_type": "stream",
     "text": [
      "llama_perf_context_print:        load time =    5719.40 ms\n",
      "llama_perf_context_print: prompt eval time =       0.00 ms /   964 tokens (    0.00 ms per token,      inf tokens per second)\n",
      "llama_perf_context_print:        eval time =       0.00 ms /   494 runs   (    0.00 ms per token,      inf tokens per second)\n",
      "llama_perf_context_print:       total time =   89981.30 ms /  1458 tokens\n",
      "Llama.generate: 51 prefix-match hit, remaining 1238 prompt tokens to eval\n"
     ]
    },
    {
     "name": "stdout",
     "output_type": "stream",
     "text": [
      "52: ../data/ImageSharp-main/src/ImageSharp/Metadata/Profiles/ICC/Various/IccNamedColor.cs insert sucsscfull.\n"
     ]
    },
    {
     "name": "stderr",
     "output_type": "stream",
     "text": [
      "llama_perf_context_print:        load time =    5719.40 ms\n",
      "llama_perf_context_print: prompt eval time =       0.00 ms /  1238 tokens (    0.00 ms per token,      inf tokens per second)\n",
      "llama_perf_context_print:        eval time =       0.00 ms /   566 runs   (    0.00 ms per token,      inf tokens per second)\n",
      "llama_perf_context_print:       total time =  106467.47 ms /  1804 tokens\n",
      "Llama.generate: 98 prefix-match hit, remaining 755 prompt tokens to eval\n"
     ]
    },
    {
     "name": "stdout",
     "output_type": "stream",
     "text": [
      "53: ../data/ImageSharp-main/src/ImageSharp/Metadata/Profiles/ICC/Various/IccClut.cs insert sucsscfull.\n"
     ]
    },
    {
     "name": "stderr",
     "output_type": "stream",
     "text": [
      "llama_perf_context_print:        load time =    5719.40 ms\n",
      "llama_perf_context_print: prompt eval time =       0.00 ms /   755 tokens (    0.00 ms per token,      inf tokens per second)\n",
      "llama_perf_context_print:        eval time =       0.00 ms /   520 runs   (    0.00 ms per token,      inf tokens per second)\n",
      "llama_perf_context_print:       total time =   87252.44 ms /  1275 tokens\n",
      "Llama.generate: 75 prefix-match hit, remaining 904 prompt tokens to eval\n"
     ]
    },
    {
     "name": "stdout",
     "output_type": "stream",
     "text": [
      "54: ../data/ImageSharp-main/src/ImageSharp/Metadata/Profiles/ICC/Various/IccResponseNumber.cs insert sucsscfull.\n"
     ]
    },
    {
     "name": "stderr",
     "output_type": "stream",
     "text": [
      "llama_perf_context_print:        load time =    5719.40 ms\n",
      "llama_perf_context_print: prompt eval time =       0.00 ms /   904 tokens (    0.00 ms per token,      inf tokens per second)\n",
      "llama_perf_context_print:        eval time =       0.00 ms /   892 runs   (    0.00 ms per token,      inf tokens per second)\n",
      "llama_perf_context_print:       total time =  150676.51 ms /  1796 tokens\n",
      "Llama.generate: 75 prefix-match hit, remaining 755 prompt tokens to eval\n"
     ]
    },
    {
     "name": "stdout",
     "output_type": "stream",
     "text": [
      "55: ../data/ImageSharp-main/src/ImageSharp/Metadata/Profiles/ICC/Various/IccScreeningChannel.cs insert sucsscfull.\n"
     ]
    },
    {
     "name": "stderr",
     "output_type": "stream",
     "text": [
      "llama_perf_context_print:        load time =    5719.40 ms\n",
      "llama_perf_context_print: prompt eval time =       0.00 ms /   755 tokens (    0.00 ms per token,      inf tokens per second)\n",
      "llama_perf_context_print:        eval time =       0.00 ms /   980 runs   (    0.00 ms per token,      inf tokens per second)\n",
      "llama_perf_context_print:       total time =  159899.32 ms /  1735 tokens\n",
      "Llama.generate: 51 prefix-match hit, remaining 738 prompt tokens to eval\n"
     ]
    },
    {
     "name": "stdout",
     "output_type": "stream",
     "text": [
      "56: ../data/ImageSharp-main/src/ImageSharp/Metadata/Profiles/ICC/Various/IccPositionNumber.cs insert sucsscfull.\n"
     ]
    },
    {
     "name": "stderr",
     "output_type": "stream",
     "text": [
      "llama_perf_context_print:        load time =    5719.40 ms\n",
      "llama_perf_context_print: prompt eval time =       0.00 ms /   738 tokens (    0.00 ms per token,      inf tokens per second)\n",
      "llama_perf_context_print:        eval time =       0.00 ms /   461 runs   (    0.00 ms per token,      inf tokens per second)\n",
      "llama_perf_context_print:       total time =   78797.11 ms /  1199 tokens\n",
      "Llama.generate: 97 prefix-match hit, remaining 623 prompt tokens to eval\n"
     ]
    },
    {
     "name": "stdout",
     "output_type": "stream",
     "text": [
      "57: ../data/ImageSharp-main/src/ImageSharp/Metadata/Profiles/ICC/Various/IccVersion.cs insert sucsscfull.\n"
     ]
    },
    {
     "name": "stderr",
     "output_type": "stream",
     "text": [
      "llama_perf_context_print:        load time =    5719.40 ms\n",
      "llama_perf_context_print: prompt eval time =       0.00 ms /   623 tokens (    0.00 ms per token,      inf tokens per second)\n",
      "llama_perf_context_print:        eval time =       0.00 ms /   629 runs   (    0.00 ms per token,      inf tokens per second)\n",
      "llama_perf_context_print:       total time =  101348.41 ms /  1252 tokens\n",
      "Llama.generate: 74 prefix-match hit, remaining 549 prompt tokens to eval\n"
     ]
    },
    {
     "name": "stdout",
     "output_type": "stream",
     "text": [
      "58: ../data/ImageSharp-main/src/ImageSharp/Metadata/Profiles/ICC/Various/IccLut.cs insert sucsscfull.\n"
     ]
    },
    {
     "name": "stderr",
     "output_type": "stream",
     "text": [
      "llama_perf_context_print:        load time =    5719.40 ms\n",
      "llama_perf_context_print: prompt eval time =       0.00 ms /   549 tokens (    0.00 ms per token,      inf tokens per second)\n",
      "llama_perf_context_print:        eval time =       0.00 ms /  1136 runs   (    0.00 ms per token,      inf tokens per second)\n",
      "llama_perf_context_print:       total time =  174972.31 ms /  1685 tokens\n",
      "Llama.generate: 51 prefix-match hit, remaining 902 prompt tokens to eval\n"
     ]
    },
    {
     "name": "stdout",
     "output_type": "stream",
     "text": [
      "59: ../data/ImageSharp-main/src/ImageSharp/Metadata/Profiles/ICC/Various/IccLocalizedString.cs insert sucsscfull.\n"
     ]
    },
    {
     "name": "stderr",
     "output_type": "stream",
     "text": [
      "llama_perf_context_print:        load time =    5719.40 ms\n",
      "llama_perf_context_print: prompt eval time =       0.00 ms /   902 tokens (    0.00 ms per token,      inf tokens per second)\n",
      "llama_perf_context_print:        eval time =       0.00 ms /   516 runs   (    0.00 ms per token,      inf tokens per second)\n",
      "llama_perf_context_print:       total time =   92349.78 ms /  1418 tokens\n",
      "Llama.generate: 98 prefix-match hit, remaining 294 prompt tokens to eval\n"
     ]
    },
    {
     "name": "stdout",
     "output_type": "stream",
     "text": [
      "60: ../data/ImageSharp-main/src/ImageSharp/Metadata/Profiles/ICC/Various/IccTagTableEntry.cs insert sucsscfull.\n"
     ]
    },
    {
     "name": "stderr",
     "output_type": "stream",
     "text": [
      "llama_perf_context_print:        load time =    5719.40 ms\n",
      "llama_perf_context_print: prompt eval time =       0.00 ms /   294 tokens (    0.00 ms per token,      inf tokens per second)\n",
      "llama_perf_context_print:        eval time =       0.00 ms /   585 runs   (    0.00 ms per token,      inf tokens per second)\n",
      "llama_perf_context_print:       total time =   84868.82 ms /   879 tokens\n",
      "Llama.generate: 98 prefix-match hit, remaining 464 prompt tokens to eval\n"
     ]
    },
    {
     "name": "stdout",
     "output_type": "stream",
     "text": [
      "61: ../data/ImageSharp-main/src/ImageSharp/Metadata/Profiles/ICC/Enums/IccScreeningSpotType.cs insert sucsscfull.\n"
     ]
    },
    {
     "name": "stderr",
     "output_type": "stream",
     "text": [
      "llama_perf_context_print:        load time =    5719.40 ms\n",
      "llama_perf_context_print: prompt eval time =       0.00 ms /   464 tokens (    0.00 ms per token,      inf tokens per second)\n",
      "llama_perf_context_print:        eval time =       0.00 ms /   198 runs   (    0.00 ms per token,      inf tokens per second)\n",
      "llama_perf_context_print:       total time =   35595.29 ms /   662 tokens\n",
      "Llama.generate: 98 prefix-match hit, remaining 288 prompt tokens to eval\n"
     ]
    },
    {
     "name": "stdout",
     "output_type": "stream",
     "text": [
      "62: ../data/ImageSharp-main/src/ImageSharp/Metadata/Profiles/ICC/Enums/IccParametricCurveType.cs insert sucsscfull.\n"
     ]
    },
    {
     "name": "stderr",
     "output_type": "stream",
     "text": [
      "llama_perf_context_print:        load time =    5719.40 ms\n",
      "llama_perf_context_print: prompt eval time =       0.00 ms /   288 tokens (    0.00 ms per token,      inf tokens per second)\n",
      "llama_perf_context_print:        eval time =       0.00 ms /   284 runs   (    0.00 ms per token,      inf tokens per second)\n",
      "llama_perf_context_print:       total time =   42647.85 ms /   572 tokens\n",
      "Llama.generate: 98 prefix-match hit, remaining 1145 prompt tokens to eval\n"
     ]
    },
    {
     "name": "stdout",
     "output_type": "stream",
     "text": [
      "63: ../data/ImageSharp-main/src/ImageSharp/Metadata/Profiles/ICC/Enums/IccColorantEncoding.cs insert sucsscfull.\n"
     ]
    },
    {
     "name": "stderr",
     "output_type": "stream",
     "text": [
      "llama_perf_context_print:        load time =    5719.40 ms\n",
      "llama_perf_context_print: prompt eval time =       0.00 ms /  1145 tokens (    0.00 ms per token,      inf tokens per second)\n",
      "llama_perf_context_print:        eval time =       0.00 ms /   264 runs   (    0.00 ms per token,      inf tokens per second)\n",
      "llama_perf_context_print:       total time =   59711.62 ms /  1409 tokens\n",
      "Llama.generate: 98 prefix-match hit, remaining 1127 prompt tokens to eval\n"
     ]
    },
    {
     "name": "stdout",
     "output_type": "stream",
     "text": [
      "64: ../data/ImageSharp-main/src/ImageSharp/Metadata/Profiles/ICC/Enums/IccTypeSignature.cs insert sucsscfull.\n"
     ]
    },
    {
     "name": "stderr",
     "output_type": "stream",
     "text": [
      "llama_perf_context_print:        load time =    5719.40 ms\n",
      "llama_perf_context_print: prompt eval time =       0.00 ms /  1127 tokens (    0.00 ms per token,      inf tokens per second)\n",
      "llama_perf_context_print:        eval time =       0.00 ms /   123 runs   (    0.00 ms per token,      inf tokens per second)\n",
      "llama_perf_context_print:       total time =   36550.49 ms /  1250 tokens\n",
      "Llama.generate: 51 prefix-match hit, remaining 325 prompt tokens to eval\n"
     ]
    },
    {
     "name": "stdout",
     "output_type": "stream",
     "text": [
      "65: ../data/ImageSharp-main/src/ImageSharp/Metadata/Profiles/ICC/Enums/IccColorSpaceType.cs insert sucsscfull.\n"
     ]
    },
    {
     "name": "stderr",
     "output_type": "stream",
     "text": [
      "llama_perf_context_print:        load time =    5719.40 ms\n",
      "llama_perf_context_print: prompt eval time =       0.00 ms /   325 tokens (    0.00 ms per token,      inf tokens per second)\n",
      "llama_perf_context_print:        eval time =       0.00 ms /   356 runs   (    0.00 ms per token,      inf tokens per second)\n",
      "llama_perf_context_print:       total time =   54276.14 ms /   681 tokens\n",
      "Llama.generate: 51 prefix-match hit, remaining 253 prompt tokens to eval\n"
     ]
    },
    {
     "name": "stdout",
     "output_type": "stream",
     "text": [
      "66: ../data/ImageSharp-main/src/ImageSharp/Metadata/Profiles/ICC/Enums/IccProfileFlag.cs insert sucsscfull.\n"
     ]
    },
    {
     "name": "stderr",
     "output_type": "stream",
     "text": [
      "llama_perf_context_print:        load time =    5719.40 ms\n",
      "llama_perf_context_print: prompt eval time =       0.00 ms /   253 tokens (    0.00 ms per token,      inf tokens per second)\n",
      "llama_perf_context_print:        eval time =       0.00 ms /   305 runs   (    0.00 ms per token,      inf tokens per second)\n",
      "llama_perf_context_print:       total time =   44095.15 ms /   558 tokens\n",
      "Llama.generate: 98 prefix-match hit, remaining 288 prompt tokens to eval\n"
     ]
    },
    {
     "name": "stdout",
     "output_type": "stream",
     "text": [
      "67: ../data/ImageSharp-main/src/ImageSharp/Metadata/Profiles/ICC/Enums/IccFormulaCurveType.cs insert sucsscfull.\n"
     ]
    },
    {
     "name": "stderr",
     "output_type": "stream",
     "text": [
      "llama_perf_context_print:        load time =    5719.40 ms\n",
      "llama_perf_context_print: prompt eval time =       0.00 ms /   288 tokens (    0.00 ms per token,      inf tokens per second)\n",
      "llama_perf_context_print:        eval time =       0.00 ms /   272 runs   (    0.00 ms per token,      inf tokens per second)\n",
      "llama_perf_context_print:       total time =   42335.33 ms /   560 tokens\n",
      "Llama.generate: 98 prefix-match hit, remaining 753 prompt tokens to eval\n"
     ]
    },
    {
     "name": "stdout",
     "output_type": "stream",
     "text": [
      "68: ../data/ImageSharp-main/src/ImageSharp/Metadata/Profiles/ICC/Enums/IccMultiProcessElementSignature.cs insert sucsscfull.\n"
     ]
    },
    {
     "name": "stderr",
     "output_type": "stream",
     "text": [
      "llama_perf_context_print:        load time =    5719.40 ms\n",
      "llama_perf_context_print: prompt eval time =       0.00 ms /   753 tokens (    0.00 ms per token,      inf tokens per second)\n",
      "llama_perf_context_print:        eval time =       0.00 ms /   367 runs   (    0.00 ms per token,      inf tokens per second)\n",
      "llama_perf_context_print:       total time =   66319.81 ms /  1120 tokens\n",
      "Llama.generate: 98 prefix-match hit, remaining 669 prompt tokens to eval\n"
     ]
    },
    {
     "name": "stdout",
     "output_type": "stream",
     "text": [
      "69: ../data/ImageSharp-main/src/ImageSharp/Metadata/Profiles/ICC/Enums/IccDataType.cs insert sucsscfull.\n"
     ]
    },
    {
     "name": "stderr",
     "output_type": "stream",
     "text": [
      "llama_perf_context_print:        load time =    5719.40 ms\n",
      "llama_perf_context_print: prompt eval time =       0.00 ms /   669 tokens (    0.00 ms per token,      inf tokens per second)\n",
      "llama_perf_context_print:        eval time =       0.00 ms /   366 runs   (    0.00 ms per token,      inf tokens per second)\n",
      "llama_perf_context_print:       total time =   63875.51 ms /  1035 tokens\n",
      "Llama.generate: 98 prefix-match hit, remaining 384 prompt tokens to eval\n"
     ]
    },
    {
     "name": "stdout",
     "output_type": "stream",
     "text": [
      "70: ../data/ImageSharp-main/src/ImageSharp/Metadata/Profiles/ICC/Enums/IccProfileClass.cs insert sucsscfull.\n"
     ]
    },
    {
     "name": "stderr",
     "output_type": "stream",
     "text": [
      "llama_perf_context_print:        load time =    5719.40 ms\n",
      "llama_perf_context_print: prompt eval time =       0.00 ms /   384 tokens (    0.00 ms per token,      inf tokens per second)\n",
      "llama_perf_context_print:        eval time =       0.00 ms /   394 runs   (    0.00 ms per token,      inf tokens per second)\n",
      "llama_perf_context_print:       total time =   60481.98 ms /   778 tokens\n",
      "Llama.generate: 75 prefix-match hit, remaining 1280 prompt tokens to eval\n"
     ]
    },
    {
     "name": "stdout",
     "output_type": "stream",
     "text": [
      "71: ../data/ImageSharp-main/src/ImageSharp/Metadata/Profiles/ICC/Enums/IccRenderingIntent.cs insert sucsscfull.\n"
     ]
    },
    {
     "name": "stderr",
     "output_type": "stream",
     "text": [
      "llama_perf_context_print:        load time =    5719.40 ms\n",
      "llama_perf_context_print: prompt eval time =       0.00 ms /  1280 tokens (    0.00 ms per token,      inf tokens per second)\n",
      "llama_perf_context_print:        eval time =       0.00 ms /  1484 runs   (    0.00 ms per token,      inf tokens per second)\n",
      "llama_perf_context_print:       total time =  270075.06 ms /  2764 tokens\n",
      "Llama.generate: 75 prefix-match hit, remaining 381 prompt tokens to eval\n"
     ]
    },
    {
     "name": "stdout",
     "output_type": "stream",
     "text": [
      "72: ../data/ImageSharp-main/src/ImageSharp/Metadata/Profiles/ICC/Enums/IccProfileTag.cs insert sucsscfull.\n"
     ]
    },
    {
     "name": "stderr",
     "output_type": "stream",
     "text": [
      "llama_perf_context_print:        load time =    5719.40 ms\n",
      "llama_perf_context_print: prompt eval time =       0.00 ms /   381 tokens (    0.00 ms per token,      inf tokens per second)\n",
      "llama_perf_context_print:        eval time =       0.00 ms /   265 runs   (    0.00 ms per token,      inf tokens per second)\n",
      "llama_perf_context_print:       total time =   42227.64 ms /   646 tokens\n",
      "Llama.generate: 98 prefix-match hit, remaining 1326 prompt tokens to eval\n"
     ]
    },
    {
     "name": "stdout",
     "output_type": "stream",
     "text": [
      "73: ../data/ImageSharp-main/src/ImageSharp/Metadata/Profiles/ICC/Enums/IccDeviceAttribute.cs insert sucsscfull.\n"
     ]
    },
    {
     "name": "stderr",
     "output_type": "stream",
     "text": [
      "llama_perf_context_print:        load time =    5719.40 ms\n",
      "llama_perf_context_print: prompt eval time =       0.00 ms /  1326 tokens (    0.00 ms per token,      inf tokens per second)\n",
      "llama_perf_context_print:        eval time =       0.00 ms /  1399 runs   (    0.00 ms per token,      inf tokens per second)\n",
      "llama_perf_context_print:       total time =  256703.44 ms /  2725 tokens\n",
      "Llama.generate: 98 prefix-match hit, remaining 337 prompt tokens to eval\n"
     ]
    },
    {
     "name": "stdout",
     "output_type": "stream",
     "text": [
      "74: ../data/ImageSharp-main/src/ImageSharp/Metadata/Profiles/ICC/Enums/IccSignatureName.cs insert sucsscfull.\n"
     ]
    },
    {
     "name": "stderr",
     "output_type": "stream",
     "text": [
      "llama_perf_context_print:        load time =    5719.40 ms\n",
      "llama_perf_context_print: prompt eval time =       0.00 ms /   337 tokens (    0.00 ms per token,      inf tokens per second)\n",
      "llama_perf_context_print:        eval time =       0.00 ms /   346 runs   (    0.00 ms per token,      inf tokens per second)\n",
      "llama_perf_context_print:       total time =   51977.04 ms /   683 tokens\n",
      "Llama.generate: 99 prefix-match hit, remaining 173 prompt tokens to eval\n"
     ]
    },
    {
     "name": "stdout",
     "output_type": "stream",
     "text": [
      "75: ../data/ImageSharp-main/src/ImageSharp/Metadata/Profiles/ICC/Enums/IccStandardIlluminant.cs insert sucsscfull.\n"
     ]
    },
    {
     "name": "stderr",
     "output_type": "stream",
     "text": [
      "llama_perf_context_print:        load time =    5719.40 ms\n",
      "llama_perf_context_print: prompt eval time =       0.00 ms /   173 tokens (    0.00 ms per token,      inf tokens per second)\n",
      "llama_perf_context_print:        eval time =       0.00 ms /   267 runs   (    0.00 ms per token,      inf tokens per second)\n",
      "llama_perf_context_print:       total time =   39163.98 ms /   440 tokens\n",
      "Llama.generate: 51 prefix-match hit, remaining 304 prompt tokens to eval\n"
     ]
    },
    {
     "name": "stdout",
     "output_type": "stream",
     "text": [
      "76: ../data/ImageSharp-main/src/ImageSharp/Metadata/Profiles/ICC/Enums/IccStandardObserver.cs insert sucsscfull.\n"
     ]
    },
    {
     "name": "stderr",
     "output_type": "stream",
     "text": [
      "llama_perf_context_print:        load time =    5719.40 ms\n",
      "llama_perf_context_print: prompt eval time =       0.00 ms /   304 tokens (    0.00 ms per token,      inf tokens per second)\n",
      "llama_perf_context_print:        eval time =       0.00 ms /   345 runs   (    0.00 ms per token,      inf tokens per second)\n",
      "llama_perf_context_print:       total time =   51264.42 ms /   649 tokens\n",
      "Llama.generate: 51 prefix-match hit, remaining 209 prompt tokens to eval\n"
     ]
    },
    {
     "name": "stdout",
     "output_type": "stream",
     "text": [
      "77: ../data/ImageSharp-main/src/ImageSharp/Metadata/Profiles/ICC/Enums/IccScreeningFlag.cs insert sucsscfull.\n"
     ]
    },
    {
     "name": "stderr",
     "output_type": "stream",
     "text": [
      "llama_perf_context_print:        load time =    5719.40 ms\n",
      "llama_perf_context_print: prompt eval time =       0.00 ms /   209 tokens (    0.00 ms per token,      inf tokens per second)\n",
      "llama_perf_context_print:        eval time =       0.00 ms /   319 runs   (    0.00 ms per token,      inf tokens per second)\n",
      "llama_perf_context_print:       total time =   45347.92 ms /   528 tokens\n",
      "Llama.generate: 99 prefix-match hit, remaining 610 prompt tokens to eval\n"
     ]
    },
    {
     "name": "stdout",
     "output_type": "stream",
     "text": [
      "78: ../data/ImageSharp-main/src/ImageSharp/Metadata/Profiles/ICC/Enums/IccCurveSegmentSignature.cs insert sucsscfull.\n"
     ]
    },
    {
     "name": "stderr",
     "output_type": "stream",
     "text": [
      "llama_perf_context_print:        load time =    5719.40 ms\n",
      "llama_perf_context_print: prompt eval time =       0.00 ms /   610 tokens (    0.00 ms per token,      inf tokens per second)\n",
      "llama_perf_context_print:        eval time =       0.00 ms /   268 runs   (    0.00 ms per token,      inf tokens per second)\n",
      "llama_perf_context_print:       total time =   47616.86 ms /   878 tokens\n",
      "Llama.generate: 98 prefix-match hit, remaining 191 prompt tokens to eval\n"
     ]
    },
    {
     "name": "stdout",
     "output_type": "stream",
     "text": [
      "79: ../data/ImageSharp-main/src/ImageSharp/Metadata/Profiles/ICC/Enums/IccCurveMeasurementEncodings.cs insert sucsscfull.\n"
     ]
    },
    {
     "name": "stderr",
     "output_type": "stream",
     "text": [
      "llama_perf_context_print:        load time =    5719.40 ms\n",
      "llama_perf_context_print: prompt eval time =       0.00 ms /   191 tokens (    0.00 ms per token,      inf tokens per second)\n",
      "llama_perf_context_print:        eval time =       0.00 ms /   355 runs   (    0.00 ms per token,      inf tokens per second)\n",
      "llama_perf_context_print:       total time =   50367.59 ms /   546 tokens\n",
      "Llama.generate: 98 prefix-match hit, remaining 164 prompt tokens to eval\n"
     ]
    },
    {
     "name": "stdout",
     "output_type": "stream",
     "text": [
      "80: ../data/ImageSharp-main/src/ImageSharp/Metadata/Profiles/ICC/Enums/IccMeasurementGeometry.cs insert sucsscfull.\n"
     ]
    },
    {
     "name": "stderr",
     "output_type": "stream",
     "text": [
      "llama_perf_context_print:        load time =    5719.40 ms\n",
      "llama_perf_context_print: prompt eval time =       0.00 ms /   164 tokens (    0.00 ms per token,      inf tokens per second)\n",
      "llama_perf_context_print:        eval time =       0.00 ms /   340 runs   (    0.00 ms per token,      inf tokens per second)\n",
      "llama_perf_context_print:       total time =   46492.45 ms /   504 tokens\n",
      "Llama.generate: 98 prefix-match hit, remaining 298 prompt tokens to eval\n"
     ]
    },
    {
     "name": "stdout",
     "output_type": "stream",
     "text": [
      "81: ../data/ImageSharp-main/src/ImageSharp/Metadata/Profiles/ICC/Enums/IccClutDataType.cs insert sucsscfull.\n"
     ]
    },
    {
     "name": "stderr",
     "output_type": "stream",
     "text": [
      "llama_perf_context_print:        load time =    5719.40 ms\n",
      "llama_perf_context_print: prompt eval time =       0.00 ms /   298 tokens (    0.00 ms per token,      inf tokens per second)\n",
      "llama_perf_context_print:        eval time =       0.00 ms /   277 runs   (    0.00 ms per token,      inf tokens per second)\n",
      "llama_perf_context_print:       total time =   42344.16 ms /   575 tokens\n",
      "Llama.generate: 98 prefix-match hit, remaining 290 prompt tokens to eval\n"
     ]
    },
    {
     "name": "stdout",
     "output_type": "stream",
     "text": [
      "82: ../data/ImageSharp-main/src/ImageSharp/Metadata/Profiles/ICC/Enums/IccPrimaryPlatformType.cs insert sucsscfull.\n"
     ]
    },
    {
     "name": "stderr",
     "output_type": "stream",
     "text": [
      "llama_perf_context_print:        load time =    5719.40 ms\n",
      "llama_perf_context_print: prompt eval time =       0.00 ms /   290 tokens (    0.00 ms per token,      inf tokens per second)\n",
      "llama_perf_context_print:        eval time =       0.00 ms /   313 runs   (    0.00 ms per token,      inf tokens per second)\n",
      "llama_perf_context_print:       total time =   46576.71 ms /   603 tokens\n",
      "Llama.generate: 98 prefix-match hit, remaining 1327 prompt tokens to eval\n"
     ]
    },
    {
     "name": "stdout",
     "output_type": "stream",
     "text": [
      "83: ../data/ImageSharp-main/src/ImageSharp/Metadata/Profiles/ICC/Exceptions/InvalidIccProfileException.cs insert sucsscfull.\n"
     ]
    },
    {
     "name": "stderr",
     "output_type": "stream",
     "text": [
      "llama_perf_context_print:        load time =    5719.40 ms\n",
      "llama_perf_context_print: prompt eval time =       0.00 ms /  1327 tokens (    0.00 ms per token,      inf tokens per second)\n",
      "llama_perf_context_print:        eval time =       0.00 ms /   779 runs   (    0.00 ms per token,      inf tokens per second)\n",
      "llama_perf_context_print:       total time =  146777.93 ms /  2106 tokens\n",
      "Llama.generate: 51 prefix-match hit, remaining 588 prompt tokens to eval\n"
     ]
    },
    {
     "name": "stdout",
     "output_type": "stream",
     "text": [
      "84: ../data/ImageSharp-main/src/ImageSharp/Metadata/Profiles/ICC/Curves/IccParametricCurve.cs insert sucsscfull.\n"
     ]
    },
    {
     "name": "stderr",
     "output_type": "stream",
     "text": [
      "llama_perf_context_print:        load time =    5719.40 ms\n",
      "llama_perf_context_print: prompt eval time =       0.00 ms /   588 tokens (    0.00 ms per token,      inf tokens per second)\n",
      "llama_perf_context_print:        eval time =       0.00 ms /   692 runs   (    0.00 ms per token,      inf tokens per second)\n",
      "llama_perf_context_print:       total time =  108649.12 ms /  1280 tokens\n",
      "Llama.generate: 98 prefix-match hit, remaining 818 prompt tokens to eval\n"
     ]
    },
    {
     "name": "stdout",
     "output_type": "stream",
     "text": [
      "85: ../data/ImageSharp-main/src/ImageSharp/Metadata/Profiles/ICC/Curves/IccOneDimensionalCurve.cs insert sucsscfull.\n"
     ]
    },
    {
     "name": "stderr",
     "output_type": "stream",
     "text": [
      "llama_perf_context_print:        load time =    5719.40 ms\n",
      "llama_perf_context_print: prompt eval time =       0.00 ms /   818 tokens (    0.00 ms per token,      inf tokens per second)\n",
      "llama_perf_context_print:        eval time =       0.00 ms /   570 runs   (    0.00 ms per token,      inf tokens per second)\n",
      "llama_perf_context_print:       total time =   98036.55 ms /  1388 tokens\n",
      "Llama.generate: 98 prefix-match hit, remaining 456 prompt tokens to eval\n"
     ]
    },
    {
     "name": "stdout",
     "output_type": "stream",
     "text": [
      "86: ../data/ImageSharp-main/src/ImageSharp/Metadata/Profiles/ICC/Curves/IccFormulaCurveElement.cs insert sucsscfull.\n"
     ]
    },
    {
     "name": "stderr",
     "output_type": "stream",
     "text": [
      "llama_perf_context_print:        load time =    5719.40 ms\n",
      "llama_perf_context_print: prompt eval time =       0.00 ms /   456 tokens (    0.00 ms per token,      inf tokens per second)\n",
      "llama_perf_context_print:        eval time =       0.00 ms /   542 runs   (    0.00 ms per token,      inf tokens per second)\n",
      "llama_perf_context_print:       total time =   83043.10 ms /   998 tokens\n",
      "Llama.generate: 51 prefix-match hit, remaining 811 prompt tokens to eval\n"
     ]
    },
    {
     "name": "stdout",
     "output_type": "stream",
     "text": [
      "87: ../data/ImageSharp-main/src/ImageSharp/Metadata/Profiles/ICC/Curves/IccSampledCurveElement.cs insert sucsscfull.\n"
     ]
    },
    {
     "name": "stderr",
     "output_type": "stream",
     "text": [
      "llama_perf_context_print:        load time =    5719.40 ms\n",
      "llama_perf_context_print: prompt eval time =       0.00 ms /   811 tokens (    0.00 ms per token,      inf tokens per second)\n",
      "llama_perf_context_print:        eval time =       0.00 ms /   579 runs   (    0.00 ms per token,      inf tokens per second)\n",
      "llama_perf_context_print:       total time =   97413.25 ms /  1390 tokens\n",
      "Llama.generate: 51 prefix-match hit, remaining 376 prompt tokens to eval\n"
     ]
    },
    {
     "name": "stdout",
     "output_type": "stream",
     "text": [
      "88: ../data/ImageSharp-main/src/ImageSharp/Metadata/Profiles/ICC/Curves/IccResponseCurve.cs insert sucsscfull.\n"
     ]
    },
    {
     "name": "stderr",
     "output_type": "stream",
     "text": [
      "llama_perf_context_print:        load time =    5719.40 ms\n",
      "llama_perf_context_print: prompt eval time =       0.00 ms /   376 tokens (    0.00 ms per token,      inf tokens per second)\n",
      "llama_perf_context_print:        eval time =       0.00 ms /   352 runs   (    0.00 ms per token,      inf tokens per second)\n",
      "llama_perf_context_print:       total time =   53627.28 ms /   728 tokens\n",
      "Llama.generate: 97 prefix-match hit, remaining 697 prompt tokens to eval\n"
     ]
    },
    {
     "name": "stdout",
     "output_type": "stream",
     "text": [
      "89: ../data/ImageSharp-main/src/ImageSharp/Metadata/Profiles/ICC/Curves/IccCurveSegment.cs insert sucsscfull.\n"
     ]
    },
    {
     "name": "stderr",
     "output_type": "stream",
     "text": [
      "llama_perf_context_print:        load time =    5719.40 ms\n",
      "llama_perf_context_print: prompt eval time =       0.00 ms /   697 tokens (    0.00 ms per token,      inf tokens per second)\n",
      "llama_perf_context_print:        eval time =       0.00 ms /   338 runs   (    0.00 ms per token,      inf tokens per second)\n",
      "llama_perf_context_print:       total time =   60109.66 ms /  1035 tokens\n",
      "Llama.generate: 74 prefix-match hit, remaining 1317 prompt tokens to eval\n"
     ]
    },
    {
     "name": "stdout",
     "output_type": "stream",
     "text": [
      "90: ../data/ImageSharp-main/src/ImageSharp/Metadata/Profiles/ICC/DataReader/IccDataReader.cs insert sucsscfull.\n"
     ]
    },
    {
     "name": "stderr",
     "output_type": "stream",
     "text": [
      "llama_perf_context_print:        load time =    5719.40 ms\n",
      "llama_perf_context_print: prompt eval time =       0.00 ms /  1317 tokens (    0.00 ms per token,      inf tokens per second)\n",
      "llama_perf_context_print:        eval time =       0.00 ms /   392 runs   (    0.00 ms per token,      inf tokens per second)\n",
      "llama_perf_context_print:       total time =   83350.71 ms /  1709 tokens\n",
      "Llama.generate: 73 prefix-match hit, remaining 1047 prompt tokens to eval\n"
     ]
    },
    {
     "name": "stdout",
     "output_type": "stream",
     "text": [
      "91: ../data/ImageSharp-main/src/ImageSharp/Metadata/Profiles/ICC/DataReader/IccDataReader.Primitives.cs insert sucsscfull.\n"
     ]
    },
    {
     "name": "stderr",
     "output_type": "stream",
     "text": [
      "llama_perf_context_print:        load time =    5719.40 ms\n",
      "llama_perf_context_print: prompt eval time =       0.00 ms /  1047 tokens (    0.00 ms per token,      inf tokens per second)\n",
      "llama_perf_context_print:        eval time =       0.00 ms /   411 runs   (    0.00 ms per token,      inf tokens per second)\n",
      "llama_perf_context_print:       total time =   78193.92 ms /  1458 tokens\n",
      "Llama.generate: 73 prefix-match hit, remaining 1240 prompt tokens to eval\n"
     ]
    },
    {
     "name": "stdout",
     "output_type": "stream",
     "text": [
      "92: ../data/ImageSharp-main/src/ImageSharp/Metadata/Profiles/ICC/DataReader/IccDataReader.TagDataEntry.cs insert sucsscfull.\n"
     ]
    },
    {
     "name": "stderr",
     "output_type": "stream",
     "text": [
      "llama_perf_context_print:        load time =    5719.40 ms\n",
      "llama_perf_context_print: prompt eval time =       0.00 ms /  1240 tokens (    0.00 ms per token,      inf tokens per second)\n",
      "llama_perf_context_print:        eval time =       0.00 ms /    79 runs   (    0.00 ms per token,      inf tokens per second)\n",
      "llama_perf_context_print:       total time =   33255.08 ms /  1319 tokens\n",
      "Llama.generate: 74 prefix-match hit, remaining 945 prompt tokens to eval\n"
     ]
    },
    {
     "name": "stdout",
     "output_type": "stream",
     "text": [
      "93: ../data/ImageSharp-main/src/ImageSharp/Metadata/Profiles/ICC/DataReader/IccDataReader.Curves.cs insert sucsscfull.\n"
     ]
    },
    {
     "name": "stderr",
     "output_type": "stream",
     "text": [
      "llama_perf_context_print:        load time =    5719.40 ms\n",
      "llama_perf_context_print: prompt eval time =       0.00 ms /   945 tokens (    0.00 ms per token,      inf tokens per second)\n",
      "llama_perf_context_print:        eval time =       0.00 ms /   597 runs   (    0.00 ms per token,      inf tokens per second)\n",
      "llama_perf_context_print:       total time =  104982.56 ms /  1542 tokens\n",
      "Llama.generate: 130 prefix-match hit, remaining 1203 prompt tokens to eval\n"
     ]
    },
    {
     "name": "stdout",
     "output_type": "stream",
     "text": [
      "94: ../data/ImageSharp-main/src/ImageSharp/Metadata/Profiles/ICC/DataReader/IccDataReader.MultiProcessElement.cs insert sucsscfull.\n"
     ]
    },
    {
     "name": "stderr",
     "output_type": "stream",
     "text": [
      "llama_perf_context_print:        load time =    5719.40 ms\n",
      "llama_perf_context_print: prompt eval time =       0.00 ms /  1203 tokens (    0.00 ms per token,      inf tokens per second)\n",
      "llama_perf_context_print:        eval time =       0.00 ms /   555 runs   (    0.00 ms per token,      inf tokens per second)\n",
      "llama_perf_context_print:       total time =  105725.13 ms /  1758 tokens\n",
      "Llama.generate: 74 prefix-match hit, remaining 1177 prompt tokens to eval\n"
     ]
    },
    {
     "name": "stdout",
     "output_type": "stream",
     "text": [
      "95: ../data/ImageSharp-main/src/ImageSharp/Metadata/Profiles/ICC/DataReader/IccDataReader.Lut.cs insert sucsscfull.\n"
     ]
    },
    {
     "name": "stderr",
     "output_type": "stream",
     "text": [
      "llama_perf_context_print:        load time =    5719.40 ms\n",
      "llama_perf_context_print: prompt eval time =       0.00 ms /  1177 tokens (    0.00 ms per token,      inf tokens per second)\n",
      "llama_perf_context_print:        eval time =       0.00 ms /   748 runs   (    0.00 ms per token,      inf tokens per second)\n",
      "llama_perf_context_print:       total time =  136020.80 ms /  1925 tokens\n",
      "Llama.generate: 74 prefix-match hit, remaining 534 prompt tokens to eval\n"
     ]
    },
    {
     "name": "stdout",
     "output_type": "stream",
     "text": [
      "96: ../data/ImageSharp-main/src/ImageSharp/Metadata/Profiles/ICC/DataReader/IccDataReader.NonPrimitives.cs insert sucsscfull.\n"
     ]
    },
    {
     "name": "stderr",
     "output_type": "stream",
     "text": [
      "llama_perf_context_print:        load time =    5719.40 ms\n",
      "llama_perf_context_print: prompt eval time =       0.00 ms /   534 tokens (    0.00 ms per token,      inf tokens per second)\n",
      "llama_perf_context_print:        eval time =       0.00 ms /   708 runs   (    0.00 ms per token,      inf tokens per second)\n",
      "llama_perf_context_print:       total time =  109299.88 ms /  1242 tokens\n",
      "Llama.generate: 51 prefix-match hit, remaining 648 prompt tokens to eval\n"
     ]
    },
    {
     "name": "stdout",
     "output_type": "stream",
     "text": [
      "97: ../data/ImageSharp-main/src/ImageSharp/Metadata/Profiles/ICC/DataReader/IccDataReader.Matrix.cs insert sucsscfull.\n"
     ]
    },
    {
     "name": "stderr",
     "output_type": "stream",
     "text": [
      "llama_perf_context_print:        load time =    5719.40 ms\n",
      "llama_perf_context_print: prompt eval time =       0.00 ms /   648 tokens (    0.00 ms per token,      inf tokens per second)\n",
      "llama_perf_context_print:        eval time =       0.00 ms /   436 runs   (    0.00 ms per token,      inf tokens per second)\n",
      "llama_perf_context_print:       total time =   72452.01 ms /  1084 tokens\n",
      "Llama.generate: 51 prefix-match hit, remaining 577 prompt tokens to eval\n"
     ]
    },
    {
     "name": "stdout",
     "output_type": "stream",
     "text": [
      "98: ../data/ImageSharp-main/src/ImageSharp/Metadata/Profiles/ICC/TagDataEntries/IccUFix16ArrayTagDataEntry.cs insert sucsscfull.\n"
     ]
    },
    {
     "name": "stderr",
     "output_type": "stream",
     "text": [
      "llama_perf_context_print:        load time =    5719.40 ms\n",
      "llama_perf_context_print: prompt eval time =       0.00 ms /   577 tokens (    0.00 ms per token,      inf tokens per second)\n",
      "llama_perf_context_print:        eval time =       0.00 ms /   330 runs   (    0.00 ms per token,      inf tokens per second)\n",
      "llama_perf_context_print:       total time =   55286.39 ms /   907 tokens\n",
      "Llama.generate: 51 prefix-match hit, remaining 640 prompt tokens to eval\n"
     ]
    },
    {
     "name": "stdout",
     "output_type": "stream",
     "text": [
      "99: ../data/ImageSharp-main/src/ImageSharp/Metadata/Profiles/ICC/TagDataEntries/IccXyzTagDataEntry.cs insert sucsscfull.\n"
     ]
    },
    {
     "name": "stderr",
     "output_type": "stream",
     "text": [
      "llama_perf_context_print:        load time =    5719.40 ms\n",
      "llama_perf_context_print: prompt eval time =       0.00 ms /   640 tokens (    0.00 ms per token,      inf tokens per second)\n",
      "llama_perf_context_print:        eval time =       0.00 ms /   555 runs   (    0.00 ms per token,      inf tokens per second)\n",
      "llama_perf_context_print:       total time =   90301.95 ms /  1195 tokens\n",
      "Llama.generate: 100 prefix-match hit, remaining 691 prompt tokens to eval\n"
     ]
    },
    {
     "name": "stdout",
     "output_type": "stream",
     "text": [
      "100: ../data/ImageSharp-main/src/ImageSharp/Metadata/Profiles/ICC/TagDataEntries/IccFix16ArrayTagDataEntry.cs insert sucsscfull.\n"
     ]
    },
    {
     "name": "stderr",
     "output_type": "stream",
     "text": [
      "llama_perf_context_print:        load time =    5719.40 ms\n",
      "llama_perf_context_print: prompt eval time =       0.00 ms /   691 tokens (    0.00 ms per token,      inf tokens per second)\n",
      "llama_perf_context_print:        eval time =       0.00 ms /   556 runs   (    0.00 ms per token,      inf tokens per second)\n",
      "llama_perf_context_print:       total time =   91156.80 ms /  1247 tokens\n",
      "Llama.generate: 100 prefix-match hit, remaining 570 prompt tokens to eval\n"
     ]
    },
    {
     "name": "stdout",
     "output_type": "stream",
     "text": [
      "101: ../data/ImageSharp-main/src/ImageSharp/Metadata/Profiles/ICC/TagDataEntries/IccScreeningTagDataEntry.cs insert sucsscfull.\n"
     ]
    },
    {
     "name": "stderr",
     "output_type": "stream",
     "text": [
      "llama_perf_context_print:        load time =    5719.40 ms\n",
      "llama_perf_context_print: prompt eval time =       0.00 ms /   570 tokens (    0.00 ms per token,      inf tokens per second)\n",
      "llama_perf_context_print:        eval time =       0.00 ms /   596 runs   (    0.00 ms per token,      inf tokens per second)\n",
      "llama_perf_context_print:       total time =   95587.74 ms /  1166 tokens\n",
      "Llama.generate: 104 prefix-match hit, remaining 560 prompt tokens to eval\n"
     ]
    },
    {
     "name": "stdout",
     "output_type": "stream",
     "text": [
      "102: ../data/ImageSharp-main/src/ImageSharp/Metadata/Profiles/ICC/TagDataEntries/IccUInt8ArrayTagDataEntry.cs insert sucsscfull.\n"
     ]
    },
    {
     "name": "stderr",
     "output_type": "stream",
     "text": [
      "llama_perf_context_print:        load time =    5719.40 ms\n",
      "llama_perf_context_print: prompt eval time =       0.00 ms /   560 tokens (    0.00 ms per token,      inf tokens per second)\n",
      "llama_perf_context_print:        eval time =       0.00 ms /   374 runs   (    0.00 ms per token,      inf tokens per second)\n",
      "llama_perf_context_print:       total time =   61936.95 ms /   934 tokens\n"
     ]
    },
    {
     "name": "stdout",
     "output_type": "stream",
     "text": [
      "103: ../data/ImageSharp-main/src/ImageSharp/Metadata/Profiles/ICC/TagDataEntries/IccUInt64ArrayTagDataEntry.cs insert sucsscfull.\n"
     ]
    },
    {
     "name": "stderr",
     "output_type": "stream",
     "text": [
      "Llama.generate: 100 prefix-match hit, remaining 547 prompt tokens to eval\n",
      "llama_perf_context_print:        load time =    5719.40 ms\n",
      "llama_perf_context_print: prompt eval time =       0.00 ms /   547 tokens (    0.00 ms per token,      inf tokens per second)\n",
      "llama_perf_context_print:        eval time =       0.00 ms /   520 runs   (    0.00 ms per token,      inf tokens per second)\n",
      "llama_perf_context_print:       total time =   83734.06 ms /  1067 tokens\n",
      "Llama.generate: 51 prefix-match hit, remaining 1346 prompt tokens to eval\n"
     ]
    },
    {
     "name": "stdout",
     "output_type": "stream",
     "text": [
      "104: ../data/ImageSharp-main/src/ImageSharp/Metadata/Profiles/ICC/TagDataEntries/IccDateTimeTagDataEntry.cs insert sucsscfull.\n"
     ]
    },
    {
     "name": "stderr",
     "output_type": "stream",
     "text": [
      "llama_perf_context_print:        load time =    5719.40 ms\n",
      "llama_perf_context_print: prompt eval time =       0.00 ms /  1346 tokens (    0.00 ms per token,      inf tokens per second)\n",
      "llama_perf_context_print:        eval time =       0.00 ms /   623 runs   (    0.00 ms per token,      inf tokens per second)\n",
      "llama_perf_context_print:       total time =  117414.46 ms /  1969 tokens\n",
      "Llama.generate: 51 prefix-match hit, remaining 886 prompt tokens to eval\n"
     ]
    },
    {
     "name": "stdout",
     "output_type": "stream",
     "text": [
      "105: ../data/ImageSharp-main/src/ImageSharp/Metadata/Profiles/ICC/TagDataEntries/IccLutAToBTagDataEntry.cs insert sucsscfull.\n"
     ]
    },
    {
     "name": "stderr",
     "output_type": "stream",
     "text": [
      "llama_perf_context_print:        load time =    5719.40 ms\n",
      "llama_perf_context_print: prompt eval time =       0.00 ms /   886 tokens (    0.00 ms per token,      inf tokens per second)\n",
      "llama_perf_context_print:        eval time =       0.00 ms /   493 runs   (    0.00 ms per token,      inf tokens per second)\n",
      "llama_perf_context_print:       total time =   87178.21 ms /  1379 tokens\n",
      "Llama.generate: 99 prefix-match hit, remaining 562 prompt tokens to eval\n"
     ]
    },
    {
     "name": "stdout",
     "output_type": "stream",
     "text": [
      "106: ../data/ImageSharp-main/src/ImageSharp/Metadata/Profiles/ICC/TagDataEntries/IccMultiProcessElementsTagDataEntry.cs insert sucsscfull.\n"
     ]
    },
    {
     "name": "stderr",
     "output_type": "stream",
     "text": [
      "llama_perf_context_print:        load time =    5719.40 ms\n",
      "llama_perf_context_print: prompt eval time =       0.00 ms /   562 tokens (    0.00 ms per token,      inf tokens per second)\n",
      "llama_perf_context_print:        eval time =       0.00 ms /   512 runs   (    0.00 ms per token,      inf tokens per second)\n",
      "llama_perf_context_print:       total time =   81636.76 ms /  1074 tokens\n",
      "Llama.generate: 51 prefix-match hit, remaining 952 prompt tokens to eval\n"
     ]
    },
    {
     "name": "stdout",
     "output_type": "stream",
     "text": [
      "107: ../data/ImageSharp-main/src/ImageSharp/Metadata/Profiles/ICC/TagDataEntries/IccUnknownTagDataEntry.cs insert sucsscfull.\n"
     ]
    },
    {
     "name": "stderr",
     "output_type": "stream",
     "text": [
      "llama_perf_context_print:        load time =    5719.40 ms\n",
      "llama_perf_context_print: prompt eval time =       0.00 ms /   952 tokens (    0.00 ms per token,      inf tokens per second)\n",
      "llama_perf_context_print:        eval time =       0.00 ms /   553 runs   (    0.00 ms per token,      inf tokens per second)\n",
      "llama_perf_context_print:       total time =   98280.62 ms /  1505 tokens\n",
      "Llama.generate: 100 prefix-match hit, remaining 1137 prompt tokens to eval\n"
     ]
    },
    {
     "name": "stdout",
     "output_type": "stream",
     "text": [
      "108: ../data/ImageSharp-main/src/ImageSharp/Metadata/Profiles/ICC/TagDataEntries/IccUcrBgTagDataEntry.cs insert sucsscfull.\n"
     ]
    },
    {
     "name": "stderr",
     "output_type": "stream",
     "text": [
      "llama_perf_context_print:        load time =    5719.40 ms\n",
      "llama_perf_context_print: prompt eval time =       0.00 ms /  1137 tokens (    0.00 ms per token,      inf tokens per second)\n",
      "llama_perf_context_print:        eval time =       0.00 ms /   664 runs   (    0.00 ms per token,      inf tokens per second)\n",
      "llama_perf_context_print:       total time =  119052.95 ms /  1801 tokens\n",
      "Llama.generate: 98 prefix-match hit, remaining 535 prompt tokens to eval\n"
     ]
    },
    {
     "name": "stdout",
     "output_type": "stream",
     "text": [
      "109: ../data/ImageSharp-main/src/ImageSharp/Metadata/Profiles/ICC/TagDataEntries/IccCrdInfoTagDataEntry.cs insert sucsscfull.\n"
     ]
    },
    {
     "name": "stderr",
     "output_type": "stream",
     "text": [
      "llama_perf_context_print:        load time =    5719.40 ms\n",
      "llama_perf_context_print: prompt eval time =       0.00 ms /   535 tokens (    0.00 ms per token,      inf tokens per second)\n",
      "llama_perf_context_print:        eval time =       0.00 ms /   334 runs   (    0.00 ms per token,      inf tokens per second)\n",
      "llama_perf_context_print:       total time =   56316.55 ms /   869 tokens\n",
      "Llama.generate: 51 prefix-match hit, remaining 633 prompt tokens to eval\n"
     ]
    },
    {
     "name": "stdout",
     "output_type": "stream",
     "text": [
      "110: ../data/ImageSharp-main/src/ImageSharp/Metadata/Profiles/ICC/TagDataEntries/IccTextTagDataEntry.cs insert sucsscfull.\n"
     ]
    },
    {
     "name": "stderr",
     "output_type": "stream",
     "text": [
      "llama_perf_context_print:        load time =    5719.40 ms\n",
      "llama_perf_context_print: prompt eval time =       0.00 ms /   633 tokens (    0.00 ms per token,      inf tokens per second)\n",
      "llama_perf_context_print:        eval time =       0.00 ms /   427 runs   (    0.00 ms per token,      inf tokens per second)\n",
      "llama_perf_context_print:       total time =   70481.80 ms /  1060 tokens\n",
      "Llama.generate: 98 prefix-match hit, remaining 1144 prompt tokens to eval\n"
     ]
    },
    {
     "name": "stdout",
     "output_type": "stream",
     "text": [
      "111: ../data/ImageSharp-main/src/ImageSharp/Metadata/Profiles/ICC/TagDataEntries/IccUInt32ArrayTagDataEntry.cs insert sucsscfull.\n"
     ]
    },
    {
     "name": "stderr",
     "output_type": "stream",
     "text": [
      "llama_perf_context_print:        load time =    5719.40 ms\n",
      "llama_perf_context_print: prompt eval time =       0.00 ms /  1144 tokens (    0.00 ms per token,      inf tokens per second)\n",
      "llama_perf_context_print:        eval time =       0.00 ms /   383 runs   (    0.00 ms per token,      inf tokens per second)\n",
      "llama_perf_context_print:       total time =   76178.56 ms /  1527 tokens\n",
      "Llama.generate: 51 prefix-match hit, remaining 938 prompt tokens to eval\n"
     ]
    },
    {
     "name": "stdout",
     "output_type": "stream",
     "text": [
      "112: ../data/ImageSharp-main/src/ImageSharp/Metadata/Profiles/ICC/TagDataEntries/IccChromaticityTagDataEntry.cs insert sucsscfull.\n"
     ]
    },
    {
     "name": "stderr",
     "output_type": "stream",
     "text": [
      "llama_perf_context_print:        load time =    5719.40 ms\n",
      "llama_perf_context_print: prompt eval time =       0.00 ms /   938 tokens (    0.00 ms per token,      inf tokens per second)\n",
      "llama_perf_context_print:        eval time =       0.00 ms /   633 runs   (    0.00 ms per token,      inf tokens per second)\n",
      "llama_perf_context_print:       total time =  108983.30 ms /  1571 tokens\n",
      "Llama.generate: 77 prefix-match hit, remaining 1264 prompt tokens to eval\n"
     ]
    },
    {
     "name": "stdout",
     "output_type": "stream",
     "text": [
      "113: ../data/ImageSharp-main/src/ImageSharp/Metadata/Profiles/ICC/TagDataEntries/IccDataTagDataEntry.cs insert sucsscfull.\n"
     ]
    },
    {
     "name": "stderr",
     "output_type": "stream",
     "text": [
      "llama_perf_context_print:        load time =    5719.40 ms\n",
      "llama_perf_context_print: prompt eval time =       0.00 ms /  1264 tokens (    0.00 ms per token,      inf tokens per second)\n",
      "llama_perf_context_print:        eval time =       0.00 ms /   679 runs   (    0.00 ms per token,      inf tokens per second)\n",
      "llama_perf_context_print:       total time =  128273.05 ms /  1943 tokens\n",
      "Llama.generate: 51 prefix-match hit, remaining 1075 prompt tokens to eval\n"
     ]
    },
    {
     "name": "stdout",
     "output_type": "stream",
     "text": [
      "114: ../data/ImageSharp-main/src/ImageSharp/Metadata/Profiles/ICC/TagDataEntries/IccLut8TagDataEntry.cs insert sucsscfull.\n"
     ]
    },
    {
     "name": "stderr",
     "output_type": "stream",
     "text": [
      "llama_perf_context_print:        load time =    5719.40 ms\n",
      "llama_perf_context_print: prompt eval time =       0.00 ms /  1075 tokens (    0.00 ms per token,      inf tokens per second)\n",
      "llama_perf_context_print:        eval time =       0.00 ms /   421 runs   (    0.00 ms per token,      inf tokens per second)\n",
      "llama_perf_context_print:       total time =   80969.10 ms /  1496 tokens\n",
      "Llama.generate: 106 prefix-match hit, remaining 878 prompt tokens to eval\n"
     ]
    },
    {
     "name": "stdout",
     "output_type": "stream",
     "text": [
      "115: ../data/ImageSharp-main/src/ImageSharp/Metadata/Profiles/ICC/TagDataEntries/IccMeasurementTagDataEntry.cs insert sucsscfull.\n"
     ]
    },
    {
     "name": "stderr",
     "output_type": "stream",
     "text": [
      "llama_perf_context_print:        load time =    5719.40 ms\n",
      "llama_perf_context_print: prompt eval time =       0.00 ms /   878 tokens (    0.00 ms per token,      inf tokens per second)\n",
      "llama_perf_context_print:        eval time =       0.00 ms /   513 runs   (    0.00 ms per token,      inf tokens per second)\n",
      "llama_perf_context_print:       total time =   91330.62 ms /  1391 tokens\n",
      "Llama.generate: 51 prefix-match hit, remaining 1224 prompt tokens to eval\n"
     ]
    },
    {
     "name": "stdout",
     "output_type": "stream",
     "text": [
      "116: ../data/ImageSharp-main/src/ImageSharp/Metadata/Profiles/ICC/TagDataEntries/IccViewingConditionsTagDataEntry.cs insert sucsscfull.\n"
     ]
    },
    {
     "name": "stderr",
     "output_type": "stream",
     "text": [
      "llama_perf_context_print:        load time =    5719.40 ms\n",
      "llama_perf_context_print: prompt eval time =       0.00 ms /  1224 tokens (    0.00 ms per token,      inf tokens per second)\n",
      "llama_perf_context_print:        eval time =       0.00 ms /   472 runs   (    0.00 ms per token,      inf tokens per second)\n",
      "llama_perf_context_print:       total time =   91653.91 ms /  1696 tokens\n",
      "Llama.generate: 51 prefix-match hit, remaining 647 prompt tokens to eval\n"
     ]
    },
    {
     "name": "stdout",
     "output_type": "stream",
     "text": [
      "117: ../data/ImageSharp-main/src/ImageSharp/Metadata/Profiles/ICC/TagDataEntries/IccNamedColor2TagDataEntry.cs insert sucsscfull.\n"
     ]
    },
    {
     "name": "stderr",
     "output_type": "stream",
     "text": [
      "llama_perf_context_print:        load time =    5719.40 ms\n",
      "llama_perf_context_print: prompt eval time =       0.00 ms /   647 tokens (    0.00 ms per token,      inf tokens per second)\n",
      "llama_perf_context_print:        eval time =       0.00 ms /   294 runs   (    0.00 ms per token,      inf tokens per second)\n",
      "llama_perf_context_print:       total time =   52337.56 ms /   941 tokens\n",
      "Llama.generate: 100 prefix-match hit, remaining 583 prompt tokens to eval\n"
     ]
    },
    {
     "name": "stdout",
     "output_type": "stream",
     "text": [
      "118: ../data/ImageSharp-main/src/ImageSharp/Metadata/Profiles/ICC/TagDataEntries/IccProfileSequenceDescTagDataEntry.cs insert sucsscfull.\n"
     ]
    },
    {
     "name": "stderr",
     "output_type": "stream",
     "text": [
      "llama_perf_context_print:        load time =    5719.40 ms\n",
      "llama_perf_context_print: prompt eval time =       0.00 ms /   583 tokens (    0.00 ms per token,      inf tokens per second)\n",
      "llama_perf_context_print:        eval time =       0.00 ms /   430 runs   (    0.00 ms per token,      inf tokens per second)\n",
      "llama_perf_context_print:       total time =   70985.43 ms /  1013 tokens\n",
      "Llama.generate: 75 prefix-match hit, remaining 1269 prompt tokens to eval\n"
     ]
    },
    {
     "name": "stdout",
     "output_type": "stream",
     "text": [
      "119: ../data/ImageSharp-main/src/ImageSharp/Metadata/Profiles/ICC/TagDataEntries/IccUInt16ArrayTagDataEntry.cs insert sucsscfull.\n"
     ]
    },
    {
     "name": "stderr",
     "output_type": "stream",
     "text": [
      "llama_perf_context_print:        load time =    5719.40 ms\n",
      "llama_perf_context_print: prompt eval time =       0.00 ms /  1269 tokens (    0.00 ms per token,      inf tokens per second)\n",
      "llama_perf_context_print:        eval time =       0.00 ms /   350 runs   (    0.00 ms per token,      inf tokens per second)\n",
      "llama_perf_context_print:       total time =   74696.54 ms /  1619 tokens\n",
      "Llama.generate: 75 prefix-match hit, remaining 618 prompt tokens to eval\n"
     ]
    },
    {
     "name": "stdout",
     "output_type": "stream",
     "text": [
      "120: ../data/ImageSharp-main/src/ImageSharp/Metadata/Profiles/ICC/TagDataEntries/IccLut16TagDataEntry.cs insert sucsscfull.\n"
     ]
    },
    {
     "name": "stderr",
     "output_type": "stream",
     "text": [
      "llama_perf_context_print:        load time =    5719.40 ms\n",
      "llama_perf_context_print: prompt eval time =       0.00 ms /   618 tokens (    0.00 ms per token,      inf tokens per second)\n",
      "llama_perf_context_print:        eval time =       0.00 ms /   446 runs   (    0.00 ms per token,      inf tokens per second)\n",
      "llama_perf_context_print:       total time =   73056.18 ms /  1064 tokens\n",
      "Llama.generate: 51 prefix-match hit, remaining 1127 prompt tokens to eval\n"
     ]
    },
    {
     "name": "stdout",
     "output_type": "stream",
     "text": [
      "121: ../data/ImageSharp-main/src/ImageSharp/Metadata/Profiles/ICC/TagDataEntries/IccMultiLocalizedUnicodeTagDataEntry.cs insert sucsscfull.\n"
     ]
    },
    {
     "name": "stderr",
     "output_type": "stream",
     "text": [
      "llama_perf_context_print:        load time =    5719.40 ms\n",
      "llama_perf_context_print: prompt eval time =       0.00 ms /  1127 tokens (    0.00 ms per token,      inf tokens per second)\n",
      "llama_perf_context_print:        eval time =       0.00 ms /   603 runs   (    0.00 ms per token,      inf tokens per second)\n",
      "llama_perf_context_print:       total time =  111197.31 ms /  1730 tokens\n",
      "Llama.generate: 51 prefix-match hit, remaining 647 prompt tokens to eval\n"
     ]
    },
    {
     "name": "stdout",
     "output_type": "stream",
     "text": [
      "122: ../data/ImageSharp-main/src/ImageSharp/Metadata/Profiles/ICC/TagDataEntries/IccTextDescriptionTagDataEntry.cs insert sucsscfull.\n"
     ]
    },
    {
     "name": "stderr",
     "output_type": "stream",
     "text": [
      "llama_perf_context_print:        load time =    5719.40 ms\n",
      "llama_perf_context_print: prompt eval time =       0.00 ms /   647 tokens (    0.00 ms per token,      inf tokens per second)\n",
      "llama_perf_context_print:        eval time =       0.00 ms /   493 runs   (    0.00 ms per token,      inf tokens per second)\n",
      "llama_perf_context_print:       total time =   80291.70 ms /  1140 tokens\n",
      "Llama.generate: 51 prefix-match hit, remaining 610 prompt tokens to eval\n"
     ]
    },
    {
     "name": "stdout",
     "output_type": "stream",
     "text": [
      "123: ../data/ImageSharp-main/src/ImageSharp/Metadata/Profiles/ICC/TagDataEntries/IccProfileSequenceIdentifierTagDataEntry.cs insert sucsscfull.\n"
     ]
    },
    {
     "name": "stderr",
     "output_type": "stream",
     "text": [
      "llama_perf_context_print:        load time =    5719.40 ms\n",
      "llama_perf_context_print: prompt eval time =       0.00 ms /   610 tokens (    0.00 ms per token,      inf tokens per second)\n",
      "llama_perf_context_print:        eval time =       0.00 ms /   289 runs   (    0.00 ms per token,      inf tokens per second)\n",
      "llama_perf_context_print:       total time =   50394.24 ms /   899 tokens\n",
      "Llama.generate: 51 prefix-match hit, remaining 637 prompt tokens to eval\n"
     ]
    },
    {
     "name": "stdout",
     "output_type": "stream",
     "text": [
      "124: ../data/ImageSharp-main/src/ImageSharp/Metadata/Profiles/ICC/TagDataEntries/IccSignatureTagDataEntry.cs insert sucsscfull.\n"
     ]
    },
    {
     "name": "stderr",
     "output_type": "stream",
     "text": [
      "llama_perf_context_print:        load time =    5719.40 ms\n",
      "llama_perf_context_print: prompt eval time =       0.00 ms /   637 tokens (    0.00 ms per token,      inf tokens per second)\n",
      "llama_perf_context_print:        eval time =       0.00 ms /   488 runs   (    0.00 ms per token,      inf tokens per second)\n",
      "llama_perf_context_print:       total time =   80039.44 ms /  1125 tokens\n",
      "Llama.generate: 99 prefix-match hit, remaining 1055 prompt tokens to eval\n"
     ]
    },
    {
     "name": "stdout",
     "output_type": "stream",
     "text": [
      "125: ../data/ImageSharp-main/src/ImageSharp/Metadata/Profiles/ICC/TagDataEntries/IccParametricCurveTagDataEntry.cs insert sucsscfull.\n"
     ]
    },
    {
     "name": "stderr",
     "output_type": "stream",
     "text": [
      "llama_perf_context_print:        load time =    5719.40 ms\n",
      "llama_perf_context_print: prompt eval time =       0.00 ms /  1055 tokens (    0.00 ms per token,      inf tokens per second)\n",
      "llama_perf_context_print:        eval time =       0.00 ms /   610 runs   (    0.00 ms per token,      inf tokens per second)\n",
      "llama_perf_context_print:       total time =  110480.77 ms /  1665 tokens\n",
      "Llama.generate: 99 prefix-match hit, remaining 667 prompt tokens to eval\n"
     ]
    },
    {
     "name": "stdout",
     "output_type": "stream",
     "text": [
      "126: ../data/ImageSharp-main/src/ImageSharp/Metadata/Profiles/ICC/TagDataEntries/IccCurveTagDataEntry.cs insert sucsscfull.\n"
     ]
    },
    {
     "name": "stderr",
     "output_type": "stream",
     "text": [
      "llama_perf_context_print:        load time =    5719.40 ms\n",
      "llama_perf_context_print: prompt eval time =       0.00 ms /   667 tokens (    0.00 ms per token,      inf tokens per second)\n",
      "llama_perf_context_print:        eval time =       0.00 ms /   349 runs   (    0.00 ms per token,      inf tokens per second)\n",
      "llama_perf_context_print:       total time =   61189.02 ms /  1016 tokens\n",
      "Llama.generate: 51 prefix-match hit, remaining 1346 prompt tokens to eval\n"
     ]
    },
    {
     "name": "stdout",
     "output_type": "stream",
     "text": [
      "127: ../data/ImageSharp-main/src/ImageSharp/Metadata/Profiles/ICC/TagDataEntries/IccColorantTableTagDataEntry.cs insert sucsscfull.\n"
     ]
    },
    {
     "name": "stderr",
     "output_type": "stream",
     "text": [
      "llama_perf_context_print:        load time =    5719.40 ms\n",
      "llama_perf_context_print: prompt eval time =       0.00 ms /  1346 tokens (    0.00 ms per token,      inf tokens per second)\n",
      "llama_perf_context_print:        eval time =       0.00 ms /   427 runs   (    0.00 ms per token,      inf tokens per second)\n",
      "llama_perf_context_print:       total time =   88737.95 ms /  1773 tokens\n",
      "Llama.generate: 51 prefix-match hit, remaining 871 prompt tokens to eval\n"
     ]
    },
    {
     "name": "stdout",
     "output_type": "stream",
     "text": [
      "128: ../data/ImageSharp-main/src/ImageSharp/Metadata/Profiles/ICC/TagDataEntries/IccLutBToATagDataEntry.cs insert sucsscfull.\n"
     ]
    },
    {
     "name": "stderr",
     "output_type": "stream",
     "text": [
      "llama_perf_context_print:        load time =    5719.40 ms\n",
      "llama_perf_context_print: prompt eval time =       0.00 ms /   871 tokens (    0.00 ms per token,      inf tokens per second)\n",
      "llama_perf_context_print:        eval time =       0.00 ms /   593 runs   (    0.00 ms per token,      inf tokens per second)\n",
      "llama_perf_context_print:       total time =  101990.23 ms /  1464 tokens\n",
      "Llama.generate: 98 prefix-match hit, remaining 661 prompt tokens to eval\n"
     ]
    },
    {
     "name": "stdout",
     "output_type": "stream",
     "text": [
      "129: ../data/ImageSharp-main/src/ImageSharp/Metadata/Profiles/ICC/TagDataEntries/IccResponseCurveSet16TagDataEntry.cs insert sucsscfull.\n"
     ]
    },
    {
     "name": "stderr",
     "output_type": "stream",
     "text": [
      "llama_perf_context_print:        load time =    5719.40 ms\n",
      "llama_perf_context_print: prompt eval time =       0.00 ms /   661 tokens (    0.00 ms per token,      inf tokens per second)\n",
      "llama_perf_context_print:        eval time =       0.00 ms /   478 runs   (    0.00 ms per token,      inf tokens per second)\n",
      "llama_perf_context_print:       total time =   79899.57 ms /  1139 tokens\n",
      "Llama.generate: 51 prefix-match hit, remaining 1371 prompt tokens to eval\n"
     ]
    },
    {
     "name": "stdout",
     "output_type": "stream",
     "text": [
      "130: ../data/ImageSharp-main/src/ImageSharp/Metadata/Profiles/ICC/TagDataEntries/IccColorantOrderTagDataEntry.cs insert sucsscfull.\n"
     ]
    },
    {
     "name": "stderr",
     "output_type": "stream",
     "text": [
      "llama_perf_context_print:        load time =    5719.40 ms\n",
      "llama_perf_context_print: prompt eval time =       0.00 ms /  1371 tokens (    0.00 ms per token,      inf tokens per second)\n",
      "llama_perf_context_print:        eval time =       0.00 ms /   199 runs   (    0.00 ms per token,      inf tokens per second)\n",
      "llama_perf_context_print:       total time =   52938.16 ms /  1570 tokens\n",
      "Llama.generate: 98 prefix-match hit, remaining 1397 prompt tokens to eval\n"
     ]
    },
    {
     "name": "stdout",
     "output_type": "stream",
     "text": [
      "131: ../data/ImageSharp-main/src/ImageSharp/Metadata/Profiles/IPTC/IptcTagExtensions.cs insert sucsscfull.\n"
     ]
    },
    {
     "name": "stderr",
     "output_type": "stream",
     "text": [
      "llama_perf_context_print:        load time =    5719.40 ms\n",
      "llama_perf_context_print: prompt eval time =       0.00 ms /  1397 tokens (    0.00 ms per token,      inf tokens per second)\n",
      "llama_perf_context_print:        eval time =       0.00 ms /   248 runs   (    0.00 ms per token,      inf tokens per second)\n",
      "llama_perf_context_print:       total time =   62761.61 ms /  1645 tokens\n",
      "Llama.generate: 74 prefix-match hit, remaining 1229 prompt tokens to eval\n"
     ]
    },
    {
     "name": "stdout",
     "output_type": "stream",
     "text": [
      "132: ../data/ImageSharp-main/src/ImageSharp/Metadata/Profiles/IPTC/IptcTag.cs insert sucsscfull.\n"
     ]
    },
    {
     "name": "stderr",
     "output_type": "stream",
     "text": [
      "llama_perf_context_print:        load time =    5719.40 ms\n",
      "llama_perf_context_print: prompt eval time =       0.00 ms /  1229 tokens (    0.00 ms per token,      inf tokens per second)\n",
      "llama_perf_context_print:        eval time =       0.00 ms /   502 runs   (    0.00 ms per token,      inf tokens per second)\n",
      "llama_perf_context_print:       total time =   97583.19 ms /  1731 tokens\n",
      "Llama.generate: 74 prefix-match hit, remaining 170 prompt tokens to eval\n"
     ]
    },
    {
     "name": "stdout",
     "output_type": "stream",
     "text": [
      "133: ../data/ImageSharp-main/src/ImageSharp/Metadata/Profiles/IPTC/IptcProfile.cs insert sucsscfull.\n"
     ]
    },
    {
     "name": "stderr",
     "output_type": "stream",
     "text": [
      "llama_perf_context_print:        load time =    5719.40 ms\n",
      "llama_perf_context_print: prompt eval time =       0.00 ms /   170 tokens (    0.00 ms per token,      inf tokens per second)\n",
      "llama_perf_context_print:        eval time =       0.00 ms /   243 runs   (    0.00 ms per token,      inf tokens per second)\n",
      "llama_perf_context_print:       total time =   34708.93 ms /   413 tokens\n",
      "Llama.generate: 74 prefix-match hit, remaining 1146 prompt tokens to eval\n"
     ]
    },
    {
     "name": "stdout",
     "output_type": "stream",
     "text": [
      "134: ../data/ImageSharp-main/src/ImageSharp/Metadata/Profiles/IPTC/IptcRecordNumber.cs insert sucsscfull.\n"
     ]
    },
    {
     "name": "stderr",
     "output_type": "stream",
     "text": [
      "llama_perf_context_print:        load time =    5719.40 ms\n",
      "llama_perf_context_print: prompt eval time =       0.00 ms /  1146 tokens (    0.00 ms per token,      inf tokens per second)\n",
      "llama_perf_context_print:        eval time =       0.00 ms /   372 runs   (    0.00 ms per token,      inf tokens per second)\n",
      "llama_perf_context_print:       total time =   74426.28 ms /  1518 tokens\n",
      "Llama.generate: 74 prefix-match hit, remaining 1135 prompt tokens to eval\n"
     ]
    },
    {
     "name": "stdout",
     "output_type": "stream",
     "text": [
      "135: ../data/ImageSharp-main/src/ImageSharp/Metadata/Profiles/IPTC/IptcValue.cs insert sucsscfull.\n"
     ]
    },
    {
     "name": "stderr",
     "output_type": "stream",
     "text": [
      "llama_perf_context_print:        load time =    5719.40 ms\n",
      "llama_perf_context_print: prompt eval time =       0.00 ms /  1135 tokens (    0.00 ms per token,      inf tokens per second)\n",
      "llama_perf_context_print:        eval time =       0.00 ms /   383 runs   (    0.00 ms per token,      inf tokens per second)\n",
      "llama_perf_context_print:       total time =   76192.52 ms /  1518 tokens\n",
      "Llama.generate: 96 prefix-match hit, remaining 382 prompt tokens to eval\n"
     ]
    },
    {
     "name": "stdout",
     "output_type": "stream",
     "text": [
      "136: ../data/ImageSharp-main/src/ImageSharp/Metadata/Profiles/Exif/ExifTags.cs insert sucsscfull.\n"
     ]
    },
    {
     "name": "stderr",
     "output_type": "stream",
     "text": [
      "llama_perf_context_print:        load time =    5719.40 ms\n",
      "llama_perf_context_print: prompt eval time =       0.00 ms /   382 tokens (    0.00 ms per token,      inf tokens per second)\n",
      "llama_perf_context_print:        eval time =       0.00 ms /   719 runs   (    0.00 ms per token,      inf tokens per second)\n",
      "llama_perf_context_print:       total time =  106153.87 ms /  1101 tokens\n",
      "Llama.generate: 74 prefix-match hit, remaining 1266 prompt tokens to eval\n"
     ]
    },
    {
     "name": "stdout",
     "output_type": "stream",
     "text": [
      "137: ../data/ImageSharp-main/src/ImageSharp/Metadata/Profiles/Exif/ExifDataTypes.cs insert sucsscfull.\n"
     ]
    },
    {
     "name": "stderr",
     "output_type": "stream",
     "text": [
      "llama_perf_context_print:        load time =    5719.40 ms\n",
      "llama_perf_context_print: prompt eval time =       0.00 ms /  1266 tokens (    0.00 ms per token,      inf tokens per second)\n",
      "llama_perf_context_print:        eval time =       0.00 ms /   720 runs   (    0.00 ms per token,      inf tokens per second)\n",
      "llama_perf_context_print:       total time =  135407.55 ms /  1986 tokens\n",
      "Llama.generate: 74 prefix-match hit, remaining 801 prompt tokens to eval\n"
     ]
    },
    {
     "name": "stdout",
     "output_type": "stream",
     "text": [
      "138: ../data/ImageSharp-main/src/ImageSharp/Metadata/Profiles/Exif/ExifWriter.cs insert sucsscfull.\n"
     ]
    },
    {
     "name": "stderr",
     "output_type": "stream",
     "text": [
      "llama_perf_context_print:        load time =    5719.40 ms\n",
      "llama_perf_context_print: prompt eval time =       0.00 ms /   801 tokens (    0.00 ms per token,      inf tokens per second)\n",
      "llama_perf_context_print:        eval time =       0.00 ms /   248 runs   (    0.00 ms per token,      inf tokens per second)\n",
      "llama_perf_context_print:       total time =   48596.87 ms /  1049 tokens\n",
      "Llama.generate: 74 prefix-match hit, remaining 532 prompt tokens to eval\n"
     ]
    },
    {
     "name": "stdout",
     "output_type": "stream",
     "text": [
      "139: ../data/ImageSharp-main/src/ImageSharp/Metadata/Profiles/Exif/ExifDataType.cs insert sucsscfull.\n"
     ]
    },
    {
     "name": "stderr",
     "output_type": "stream",
     "text": [
      "llama_perf_context_print:        load time =    5719.40 ms\n",
      "llama_perf_context_print: prompt eval time =       0.00 ms /   532 tokens (    0.00 ms per token,      inf tokens per second)\n",
      "llama_perf_context_print:        eval time =       0.00 ms /   723 runs   (    0.00 ms per token,      inf tokens per second)\n",
      "llama_perf_context_print:       total time =  112854.12 ms /  1255 tokens\n",
      "Llama.generate: 77 prefix-match hit, remaining 228 prompt tokens to eval\n"
     ]
    },
    {
     "name": "stdout",
     "output_type": "stream",
     "text": [
      "140: ../data/ImageSharp-main/src/ImageSharp/Metadata/Profiles/Exif/ExifTagDescriptionAttribute.cs insert sucsscfull.\n"
     ]
    },
    {
     "name": "stderr",
     "output_type": "stream",
     "text": [
      "llama_perf_context_print:        load time =    5719.40 ms\n",
      "llama_perf_context_print: prompt eval time =       0.00 ms /   228 tokens (    0.00 ms per token,      inf tokens per second)\n",
      "llama_perf_context_print:        eval time =       0.00 ms /   218 runs   (    0.00 ms per token,      inf tokens per second)\n",
      "llama_perf_context_print:       total time =   32311.23 ms /   446 tokens\n",
      "Llama.generate: 77 prefix-match hit, remaining 1265 prompt tokens to eval\n"
     ]
    },
    {
     "name": "stdout",
     "output_type": "stream",
     "text": [
      "141: ../data/ImageSharp-main/src/ImageSharp/Metadata/Profiles/Exif/ExifConstants.cs insert sucsscfull.\n"
     ]
    },
    {
     "name": "stderr",
     "output_type": "stream",
     "text": [
      "llama_perf_context_print:        load time =    5719.40 ms\n",
      "llama_perf_context_print: prompt eval time =       0.00 ms /  1265 tokens (    0.00 ms per token,      inf tokens per second)\n",
      "llama_perf_context_print:        eval time =       0.00 ms /  1086 runs   (    0.00 ms per token,      inf tokens per second)\n",
      "llama_perf_context_print:       total time =  195498.07 ms /  2351 tokens\n",
      "Llama.generate: 77 prefix-match hit, remaining 1170 prompt tokens to eval\n"
     ]
    },
    {
     "name": "stdout",
     "output_type": "stream",
     "text": [
      "142: ../data/ImageSharp-main/src/ImageSharp/Metadata/Profiles/Exif/ExifEncodedStringHelpers.cs insert sucsscfull.\n"
     ]
    },
    {
     "name": "stderr",
     "output_type": "stream",
     "text": [
      "llama_perf_context_print:        load time =    5719.40 ms\n",
      "llama_perf_context_print: prompt eval time =       0.00 ms /  1170 tokens (    0.00 ms per token,      inf tokens per second)\n",
      "llama_perf_context_print:        eval time =       0.00 ms /   585 runs   (    0.00 ms per token,      inf tokens per second)\n",
      "llama_perf_context_print:       total time =  109796.69 ms /  1755 tokens\n",
      "Llama.generate: 77 prefix-match hit, remaining 1203 prompt tokens to eval\n"
     ]
    },
    {
     "name": "stdout",
     "output_type": "stream",
     "text": [
      "143: ../data/ImageSharp-main/src/ImageSharp/Metadata/Profiles/Exif/ExifProfile.cs insert sucsscfull.\n"
     ]
    },
    {
     "name": "stderr",
     "output_type": "stream",
     "text": [
      "llama_perf_context_print:        load time =    5719.40 ms\n",
      "llama_perf_context_print: prompt eval time =       0.00 ms /  1203 tokens (    0.00 ms per token,      inf tokens per second)\n",
      "llama_perf_context_print:        eval time =       0.00 ms /  1570 runs   (    0.00 ms per token,      inf tokens per second)\n",
      "llama_perf_context_print:       total time =  282511.77 ms /  2773 tokens\n",
      "Llama.generate: 77 prefix-match hit, remaining 226 prompt tokens to eval\n"
     ]
    },
    {
     "name": "stdout",
     "output_type": "stream",
     "text": [
      "144: ../data/ImageSharp-main/src/ImageSharp/Metadata/Profiles/Exif/ExifReader.cs insert sucsscfull.\n"
     ]
    },
    {
     "name": "stderr",
     "output_type": "stream",
     "text": [
      "llama_perf_context_print:        load time =    5719.40 ms\n",
      "llama_perf_context_print: prompt eval time =       0.00 ms /   226 tokens (    0.00 ms per token,      inf tokens per second)\n",
      "llama_perf_context_print:        eval time =       0.00 ms /   491 runs   (    0.00 ms per token,      inf tokens per second)\n",
      "llama_perf_context_print:       total time =   69516.03 ms /   717 tokens\n",
      "Llama.generate: 74 prefix-match hit, remaining 252 prompt tokens to eval\n"
     ]
    },
    {
     "name": "stdout",
     "output_type": "stream",
     "text": [
      "145: ../data/ImageSharp-main/src/ImageSharp/Metadata/Profiles/Exif/ExifUcs2StringHelpers.cs insert sucsscfull.\n"
     ]
    },
    {
     "name": "stderr",
     "output_type": "stream",
     "text": [
      "llama_perf_context_print:        load time =    5719.40 ms\n",
      "llama_perf_context_print: prompt eval time =       0.00 ms /   252 tokens (    0.00 ms per token,      inf tokens per second)\n",
      "llama_perf_context_print:        eval time =       0.00 ms /   624 runs   (    0.00 ms per token,      inf tokens per second)\n",
      "llama_perf_context_print:       total time =   90056.86 ms /   876 tokens\n",
      "Llama.generate: 93 prefix-match hit, remaining 249 prompt tokens to eval\n"
     ]
    },
    {
     "name": "stdout",
     "output_type": "stream",
     "text": [
      "146: ../data/ImageSharp-main/src/ImageSharp/Metadata/Profiles/Exif/ExifParts.cs insert sucsscfull.\n"
     ]
    },
    {
     "name": "stderr",
     "output_type": "stream",
     "text": [
      "llama_perf_context_print:        load time =    5719.40 ms\n",
      "llama_perf_context_print: prompt eval time =       0.00 ms /   249 tokens (    0.00 ms per token,      inf tokens per second)\n",
      "llama_perf_context_print:        eval time =       0.00 ms /   256 runs   (    0.00 ms per token,      inf tokens per second)\n",
      "llama_perf_context_print:       total time =   37848.88 ms /   505 tokens\n",
      "Llama.generate: 116 prefix-match hit, remaining 221 prompt tokens to eval\n"
     ]
    },
    {
     "name": "stdout",
     "output_type": "stream",
     "text": [
      "147: ../data/ImageSharp-main/src/ImageSharp/Metadata/Profiles/Exif/Tags/ExifTag.EncodedString.cs insert sucsscfull.\n"
     ]
    },
    {
     "name": "stderr",
     "output_type": "stream",
     "text": [
      "llama_perf_context_print:        load time =    5719.40 ms\n",
      "llama_perf_context_print: prompt eval time =       0.00 ms /   221 tokens (    0.00 ms per token,      inf tokens per second)\n",
      "llama_perf_context_print:        eval time =       0.00 ms /   371 runs   (    0.00 ms per token,      inf tokens per second)\n",
      "llama_perf_context_print:       total time =   54755.75 ms /   592 tokens\n",
      "Llama.generate: 116 prefix-match hit, remaining 580 prompt tokens to eval\n"
     ]
    },
    {
     "name": "stdout",
     "output_type": "stream",
     "text": [
      "148: ../data/ImageSharp-main/src/ImageSharp/Metadata/Profiles/Exif/Tags/ExifTag.Byte.cs insert sucsscfull.\n"
     ]
    },
    {
     "name": "stderr",
     "output_type": "stream",
     "text": [
      "llama_perf_context_print:        load time =    5719.40 ms\n",
      "llama_perf_context_print: prompt eval time =       0.00 ms /   580 tokens (    0.00 ms per token,      inf tokens per second)\n",
      "llama_perf_context_print:        eval time =       0.00 ms /   282 runs   (    0.00 ms per token,      inf tokens per second)\n",
      "llama_perf_context_print:       total time =   49283.17 ms /   862 tokens\n",
      "Llama.generate: 93 prefix-match hit, remaining 165 prompt tokens to eval\n"
     ]
    },
    {
     "name": "stdout",
     "output_type": "stream",
     "text": [
      "149: ../data/ImageSharp-main/src/ImageSharp/Metadata/Profiles/Exif/Tags/ExifTag.Number.cs insert sucsscfull.\n"
     ]
    },
    {
     "name": "stderr",
     "output_type": "stream",
     "text": [
      "llama_perf_context_print:        load time =    5719.40 ms\n",
      "llama_perf_context_print: prompt eval time =       0.00 ms /   165 tokens (    0.00 ms per token,      inf tokens per second)\n",
      "llama_perf_context_print:        eval time =       0.00 ms /   340 runs   (    0.00 ms per token,      inf tokens per second)\n",
      "llama_perf_context_print:       total time =   48454.63 ms /   505 tokens\n",
      "Llama.generate: 97 prefix-match hit, remaining 1386 prompt tokens to eval\n"
     ]
    },
    {
     "name": "stdout",
     "output_type": "stream",
     "text": [
      "150: ../data/ImageSharp-main/src/ImageSharp/Metadata/Profiles/Exif/Tags/ExifTag{TValueType}.cs insert sucsscfull.\n"
     ]
    },
    {
     "name": "stderr",
     "output_type": "stream",
     "text": [
      "llama_perf_context_print:        load time =    5719.40 ms\n",
      "llama_perf_context_print: prompt eval time =       0.00 ms /  1386 tokens (    0.00 ms per token,      inf tokens per second)\n",
      "llama_perf_context_print:        eval time =       0.00 ms /   582 runs   (    0.00 ms per token,      inf tokens per second)\n",
      "llama_perf_context_print:       total time =  115247.82 ms /  1968 tokens\n",
      "Llama.generate: 93 prefix-match hit, remaining 129 prompt tokens to eval\n"
     ]
    },
    {
     "name": "stdout",
     "output_type": "stream",
     "text": [
      "151: ../data/ImageSharp-main/src/ImageSharp/Metadata/Profiles/Exif/Tags/ExifTagValue.cs insert sucsscfull.\n"
     ]
    },
    {
     "name": "stderr",
     "output_type": "stream",
     "text": [
      "llama_perf_context_print:        load time =    5719.40 ms\n",
      "llama_perf_context_print: prompt eval time =       0.00 ms /   129 tokens (    0.00 ms per token,      inf tokens per second)\n",
      "llama_perf_context_print:        eval time =       0.00 ms /   424 runs   (    0.00 ms per token,      inf tokens per second)\n",
      "llama_perf_context_print:       total time =   59501.28 ms /   553 tokens\n"
     ]
    },
    {
     "name": "stdout",
     "output_type": "stream",
     "text": [
      "152: ../data/ImageSharp-main/src/ImageSharp/Metadata/Profiles/Exif/Tags/ExifTag.SignedRationalArray.cs insert sucsscfull.\n"
     ]
    },
    {
     "name": "stderr",
     "output_type": "stream",
     "text": [
      "Llama.generate: 116 prefix-match hit, remaining 337 prompt tokens to eval\n",
      "llama_perf_context_print:        load time =    5719.40 ms\n",
      "llama_perf_context_print: prompt eval time =       0.00 ms /   337 tokens (    0.00 ms per token,      inf tokens per second)\n",
      "llama_perf_context_print:        eval time =       0.00 ms /   225 runs   (    0.00 ms per token,      inf tokens per second)\n",
      "llama_perf_context_print:       total time =   35939.94 ms /   562 tokens\n",
      "Llama.generate: 116 prefix-match hit, remaining 727 prompt tokens to eval\n"
     ]
    },
    {
     "name": "stdout",
     "output_type": "stream",
     "text": [
      "153: ../data/ImageSharp-main/src/ImageSharp/Metadata/Profiles/Exif/Tags/ExifTag.NumberArray.cs insert sucsscfull.\n"
     ]
    },
    {
     "name": "stderr",
     "output_type": "stream",
     "text": [
      "llama_perf_context_print:        load time =    5719.40 ms\n",
      "llama_perf_context_print: prompt eval time =       0.00 ms /   727 tokens (    0.00 ms per token,      inf tokens per second)\n",
      "llama_perf_context_print:        eval time =       0.00 ms /   614 runs   (    0.00 ms per token,      inf tokens per second)\n",
      "llama_perf_context_print:       total time =  141666.88 ms /  1341 tokens\n",
      "Llama.generate: 116 prefix-match hit, remaining 105 prompt tokens to eval\n"
     ]
    },
    {
     "name": "stdout",
     "output_type": "stream",
     "text": [
      "154: ../data/ImageSharp-main/src/ImageSharp/Metadata/Profiles/Exif/Tags/ExifTag.LongArray.cs insert sucsscfull.\n"
     ]
    },
    {
     "name": "stderr",
     "output_type": "stream",
     "text": [
      "llama_perf_context_print:        load time =    5719.40 ms\n",
      "llama_perf_context_print: prompt eval time =       0.00 ms /   105 tokens (    0.00 ms per token,      inf tokens per second)\n",
      "llama_perf_context_print:        eval time =       0.00 ms /   393 runs   (    0.00 ms per token,      inf tokens per second)\n",
      "llama_perf_context_print:       total time =   53474.51 ms /   498 tokens\n",
      "Llama.generate: 116 prefix-match hit, remaining 1327 prompt tokens to eval\n"
     ]
    },
    {
     "name": "stdout",
     "output_type": "stream",
     "text": [
      "155: ../data/ImageSharp-main/src/ImageSharp/Metadata/Profiles/Exif/Tags/ExifTag.SignedShortArray.cs insert sucsscfull.\n"
     ]
    },
    {
     "name": "stderr",
     "output_type": "stream",
     "text": [
      "llama_perf_context_print:        load time =    5719.40 ms\n",
      "llama_perf_context_print: prompt eval time =       0.00 ms /  1327 tokens (    0.00 ms per token,      inf tokens per second)\n",
      "llama_perf_context_print:        eval time =       0.00 ms /   325 runs   (    0.00 ms per token,      inf tokens per second)\n",
      "llama_perf_context_print:       total time =   71358.86 ms /  1652 tokens\n"
     ]
    },
    {
     "name": "stdout",
     "output_type": "stream",
     "text": [
      "156: ../data/ImageSharp-main/src/ImageSharp/Metadata/Profiles/Exif/Tags/ExifTag.Long.cs insert sucsscfull.\n"
     ]
    },
    {
     "name": "stderr",
     "output_type": "stream",
     "text": [
      "Llama.generate: 116 prefix-match hit, remaining 341 prompt tokens to eval\n",
      "llama_perf_context_print:        load time =    5719.40 ms\n",
      "llama_perf_context_print: prompt eval time =       0.00 ms /   341 tokens (    0.00 ms per token,      inf tokens per second)\n",
      "llama_perf_context_print:        eval time =       0.00 ms /   381 runs   (    0.00 ms per token,      inf tokens per second)\n",
      "llama_perf_context_print:       total time =   57055.32 ms /   722 tokens\n",
      "Llama.generate: 116 prefix-match hit, remaining 1292 prompt tokens to eval\n"
     ]
    },
    {
     "name": "stdout",
     "output_type": "stream",
     "text": [
      "157: ../data/ImageSharp-main/src/ImageSharp/Metadata/Profiles/Exif/Tags/ExifTag.Ucs2String.cs insert sucsscfull.\n"
     ]
    },
    {
     "name": "stderr",
     "output_type": "stream",
     "text": [
      "llama_perf_context_print:        load time =    5719.40 ms\n",
      "llama_perf_context_print: prompt eval time =       0.00 ms /  1292 tokens (    0.00 ms per token,      inf tokens per second)\n",
      "llama_perf_context_print:        eval time =       0.00 ms /   470 runs   (    0.00 ms per token,      inf tokens per second)\n",
      "llama_perf_context_print:       total time =   94795.14 ms /  1762 tokens\n",
      "Llama.generate: 116 prefix-match hit, remaining 491 prompt tokens to eval\n"
     ]
    },
    {
     "name": "stdout",
     "output_type": "stream",
     "text": [
      "158: ../data/ImageSharp-main/src/ImageSharp/Metadata/Profiles/Exif/Tags/ExifTag.Rational.cs insert sucsscfull.\n"
     ]
    },
    {
     "name": "stderr",
     "output_type": "stream",
     "text": [
      "llama_perf_context_print:        load time =    5719.40 ms\n",
      "llama_perf_context_print: prompt eval time =       0.00 ms /   491 tokens (    0.00 ms per token,      inf tokens per second)\n",
      "llama_perf_context_print:        eval time =       0.00 ms /   353 runs   (    0.00 ms per token,      inf tokens per second)\n",
      "llama_perf_context_print:       total time =   57181.91 ms /   844 tokens\n",
      "Llama.generate: 116 prefix-match hit, remaining 1320 prompt tokens to eval\n"
     ]
    },
    {
     "name": "stdout",
     "output_type": "stream",
     "text": [
      "159: ../data/ImageSharp-main/src/ImageSharp/Metadata/Profiles/Exif/Tags/ExifTag.ByteArray.cs insert sucsscfull.\n"
     ]
    },
    {
     "name": "stderr",
     "output_type": "stream",
     "text": [
      "llama_perf_context_print:        load time =    5719.40 ms\n",
      "llama_perf_context_print: prompt eval time =       0.00 ms /  1320 tokens (    0.00 ms per token,      inf tokens per second)\n",
      "llama_perf_context_print:        eval time =       0.00 ms /   204 runs   (    0.00 ms per token,      inf tokens per second)\n",
      "llama_perf_context_print:       total time =   53737.23 ms /  1524 tokens\n",
      "Llama.generate: 116 prefix-match hit, remaining 1305 prompt tokens to eval\n"
     ]
    },
    {
     "name": "stdout",
     "output_type": "stream",
     "text": [
      "160: ../data/ImageSharp-main/src/ImageSharp/Metadata/Profiles/Exif/Tags/ExifTag.Short.cs insert sucsscfull.\n"
     ]
    },
    {
     "name": "stderr",
     "output_type": "stream",
     "text": [
      "llama_perf_context_print:        load time =    5719.40 ms\n",
      "llama_perf_context_print: prompt eval time =       0.00 ms /  1305 tokens (    0.00 ms per token,      inf tokens per second)\n",
      "llama_perf_context_print:        eval time =       0.00 ms /   280 runs   (    0.00 ms per token,      inf tokens per second)\n",
      "llama_perf_context_print:       total time =   64219.42 ms /  1585 tokens\n",
      "Llama.generate: 116 prefix-match hit, remaining 675 prompt tokens to eval\n"
     ]
    },
    {
     "name": "stdout",
     "output_type": "stream",
     "text": [
      "161: ../data/ImageSharp-main/src/ImageSharp/Metadata/Profiles/Exif/Tags/ExifTag.ShortArray.cs insert sucsscfull.\n"
     ]
    },
    {
     "name": "stderr",
     "output_type": "stream",
     "text": [
      "llama_perf_context_print:        load time =    5719.40 ms\n",
      "llama_perf_context_print: prompt eval time =       0.00 ms /   675 tokens (    0.00 ms per token,      inf tokens per second)\n",
      "llama_perf_context_print:        eval time =       0.00 ms /   377 runs   (    0.00 ms per token,      inf tokens per second)\n",
      "llama_perf_context_print:       total time =   65633.58 ms /  1052 tokens\n",
      "Llama.generate: 116 prefix-match hit, remaining 429 prompt tokens to eval\n"
     ]
    },
    {
     "name": "stdout",
     "output_type": "stream",
     "text": [
      "162: ../data/ImageSharp-main/src/ImageSharp/Metadata/Profiles/Exif/Tags/ExifTag.RationalArray.cs insert sucsscfull.\n"
     ]
    },
    {
     "name": "stderr",
     "output_type": "stream",
     "text": [
      "llama_perf_context_print:        load time =    5719.40 ms\n",
      "llama_perf_context_print: prompt eval time =       0.00 ms /   429 tokens (    0.00 ms per token,      inf tokens per second)\n",
      "llama_perf_context_print:        eval time =       0.00 ms /   216 runs   (    0.00 ms per token,      inf tokens per second)\n",
      "llama_perf_context_print:       total time =   36417.82 ms /   645 tokens\n",
      "Llama.generate: 116 prefix-match hit, remaining 283 prompt tokens to eval\n"
     ]
    },
    {
     "name": "stdout",
     "output_type": "stream",
     "text": [
      "163: ../data/ImageSharp-main/src/ImageSharp/Metadata/Profiles/Exif/Tags/ExifTag.SignedRational.cs insert sucsscfull.\n"
     ]
    },
    {
     "name": "stderr",
     "output_type": "stream",
     "text": [
      "llama_perf_context_print:        load time =    5719.40 ms\n",
      "llama_perf_context_print: prompt eval time =       0.00 ms /   283 tokens (    0.00 ms per token,      inf tokens per second)\n",
      "llama_perf_context_print:        eval time =       0.00 ms /   663 runs   (    0.00 ms per token,      inf tokens per second)\n",
      "llama_perf_context_print:       total time =   96366.77 ms /   946 tokens\n",
      "Llama.generate: 116 prefix-match hit, remaining 875 prompt tokens to eval\n"
     ]
    },
    {
     "name": "stdout",
     "output_type": "stream",
     "text": [
      "164: ../data/ImageSharp-main/src/ImageSharp/Metadata/Profiles/Exif/Tags/ExifTag.DoubleArray.cs insert sucsscfull.\n"
     ]
    },
    {
     "name": "stderr",
     "output_type": "stream",
     "text": [
      "llama_perf_context_print:        load time =    5719.40 ms\n",
      "llama_perf_context_print: prompt eval time =       0.00 ms /   875 tokens (    0.00 ms per token,      inf tokens per second)\n",
      "llama_perf_context_print:        eval time =       0.00 ms /   263 runs   (    0.00 ms per token,      inf tokens per second)\n",
      "llama_perf_context_print:       total time =   52974.73 ms /  1138 tokens\n",
      "Llama.generate: 91 prefix-match hit, remaining 105 prompt tokens to eval\n"
     ]
    },
    {
     "name": "stdout",
     "output_type": "stream",
     "text": [
      "165: ../data/ImageSharp-main/src/ImageSharp/Metadata/Profiles/Exif/Tags/ExifTag.Undefined.cs insert sucsscfull.\n"
     ]
    },
    {
     "name": "stderr",
     "output_type": "stream",
     "text": [
      "llama_perf_context_print:        load time =    5719.40 ms\n",
      "llama_perf_context_print: prompt eval time =       0.00 ms /   105 tokens (    0.00 ms per token,      inf tokens per second)\n",
      "llama_perf_context_print:        eval time =       0.00 ms /   680 runs   (    0.00 ms per token,      inf tokens per second)\n",
      "llama_perf_context_print:       total time =   92143.78 ms /   785 tokens\n",
      "Llama.generate: 91 prefix-match hit, remaining 1307 prompt tokens to eval\n"
     ]
    },
    {
     "name": "stdout",
     "output_type": "stream",
     "text": [
      "166: ../data/ImageSharp-main/src/ImageSharp/Metadata/Profiles/Exif/Tags/UnkownExifTag.cs insert sucsscfull.\n"
     ]
    },
    {
     "name": "stderr",
     "output_type": "stream",
     "text": [
      "llama_perf_context_print:        load time =    5719.40 ms\n",
      "llama_perf_context_print: prompt eval time =       0.00 ms /  1307 tokens (    0.00 ms per token,      inf tokens per second)\n",
      "llama_perf_context_print:        eval time =       0.00 ms /   294 runs   (    0.00 ms per token,      inf tokens per second)\n",
      "llama_perf_context_print:       total time =   66669.37 ms /  1601 tokens\n",
      "Llama.generate: 93 prefix-match hit, remaining 619 prompt tokens to eval\n"
     ]
    },
    {
     "name": "stdout",
     "output_type": "stream",
     "text": [
      "167: ../data/ImageSharp-main/src/ImageSharp/Metadata/Profiles/Exif/Tags/ExifTag.String.cs insert sucsscfull.\n"
     ]
    },
    {
     "name": "stderr",
     "output_type": "stream",
     "text": [
      "llama_perf_context_print:        load time =    5719.40 ms\n",
      "llama_perf_context_print: prompt eval time =       0.00 ms /   619 tokens (    0.00 ms per token,      inf tokens per second)\n",
      "llama_perf_context_print:        eval time =       0.00 ms /   359 runs   (    0.00 ms per token,      inf tokens per second)\n",
      "llama_perf_context_print:       total time =   60936.64 ms /   978 tokens\n",
      "Llama.generate: 91 prefix-match hit, remaining 215 prompt tokens to eval\n"
     ]
    },
    {
     "name": "stdout",
     "output_type": "stream",
     "text": [
      "168: ../data/ImageSharp-main/src/ImageSharp/Metadata/Profiles/Exif/Tags/ExifTag.cs insert sucsscfull.\n"
     ]
    },
    {
     "name": "stderr",
     "output_type": "stream",
     "text": [
      "llama_perf_context_print:        load time =    5719.40 ms\n",
      "llama_perf_context_print: prompt eval time =       0.00 ms /   215 tokens (    0.00 ms per token,      inf tokens per second)\n",
      "llama_perf_context_print:        eval time =       0.00 ms /   422 runs   (    0.00 ms per token,      inf tokens per second)\n",
      "llama_perf_context_print:       total time =   59461.66 ms /   637 tokens\n",
      "Llama.generate: 97 prefix-match hit, remaining 167 prompt tokens to eval\n"
     ]
    },
    {
     "name": "stdout",
     "output_type": "stream",
     "text": [
      "169: ../data/ImageSharp-main/src/ImageSharp/Metadata/Profiles/Exif/Values/ExifSignedRationalArray.cs insert sucsscfull.\n"
     ]
    },
    {
     "name": "stderr",
     "output_type": "stream",
     "text": [
      "llama_perf_context_print:        load time =    5719.40 ms\n",
      "llama_perf_context_print: prompt eval time =       0.00 ms /   167 tokens (    0.00 ms per token,      inf tokens per second)\n",
      "llama_perf_context_print:        eval time =       0.00 ms /   346 runs   (    0.00 ms per token,      inf tokens per second)\n",
      "llama_perf_context_print:       total time =   48915.21 ms /   513 tokens\n",
      "Llama.generate: 91 prefix-match hit, remaining 324 prompt tokens to eval\n"
     ]
    },
    {
     "name": "stdout",
     "output_type": "stream",
     "text": [
      "170: ../data/ImageSharp-main/src/ImageSharp/Metadata/Profiles/Exif/Values/ExifSignedLongArray.cs insert sucsscfull.\n"
     ]
    },
    {
     "name": "stderr",
     "output_type": "stream",
     "text": [
      "llama_perf_context_print:        load time =    5719.40 ms\n",
      "llama_perf_context_print: prompt eval time =       0.00 ms /   324 tokens (    0.00 ms per token,      inf tokens per second)\n",
      "llama_perf_context_print:        eval time =       0.00 ms /   328 runs   (    0.00 ms per token,      inf tokens per second)\n",
      "llama_perf_context_print:       total time =   49450.93 ms /   652 tokens\n",
      "Llama.generate: 91 prefix-match hit, remaining 852 prompt tokens to eval\n"
     ]
    },
    {
     "name": "stdout",
     "output_type": "stream",
     "text": [
      "171: ../data/ImageSharp-main/src/ImageSharp/Metadata/Profiles/Exif/Values/IExifValue.cs insert sucsscfull.\n"
     ]
    },
    {
     "name": "stderr",
     "output_type": "stream",
     "text": [
      "llama_perf_context_print:        load time =    5719.40 ms\n",
      "llama_perf_context_print: prompt eval time =       0.00 ms /   852 tokens (    0.00 ms per token,      inf tokens per second)\n",
      "llama_perf_context_print:        eval time =       0.00 ms /   313 runs   (    0.00 ms per token,      inf tokens per second)\n",
      "llama_perf_context_print:       total time =   59380.77 ms /  1165 tokens\n",
      "Llama.generate: 74 prefix-match hit, remaining 341 prompt tokens to eval\n"
     ]
    },
    {
     "name": "stdout",
     "output_type": "stream",
     "text": [
      "172: ../data/ImageSharp-main/src/ImageSharp/Metadata/Profiles/Exif/Values/ExifNumberArray.cs insert sucsscfull.\n"
     ]
    },
    {
     "name": "stderr",
     "output_type": "stream",
     "text": [
      "llama_perf_context_print:        load time =    5719.40 ms\n",
      "llama_perf_context_print: prompt eval time =       0.00 ms /   341 tokens (    0.00 ms per token,      inf tokens per second)\n",
      "llama_perf_context_print:        eval time =       0.00 ms /   226 runs   (    0.00 ms per token,      inf tokens per second)\n",
      "llama_perf_context_print:       total time =   35243.54 ms /   567 tokens\n",
      "Llama.generate: 74 prefix-match hit, remaining 185 prompt tokens to eval\n"
     ]
    },
    {
     "name": "stdout",
     "output_type": "stream",
     "text": [
      "173: ../data/ImageSharp-main/src/ImageSharp/Metadata/Profiles/Exif/Values/ExifSignedByte.cs insert sucsscfull.\n"
     ]
    },
    {
     "name": "stderr",
     "output_type": "stream",
     "text": [
      "llama_perf_context_print:        load time =    5719.40 ms\n",
      "llama_perf_context_print: prompt eval time =       0.00 ms /   185 tokens (    0.00 ms per token,      inf tokens per second)\n",
      "llama_perf_context_print:        eval time =       0.00 ms /   567 runs   (    0.00 ms per token,      inf tokens per second)\n",
      "llama_perf_context_print:       total time =   80241.88 ms /   752 tokens\n",
      "Llama.generate: 74 prefix-match hit, remaining 323 prompt tokens to eval\n"
     ]
    },
    {
     "name": "stdout",
     "output_type": "stream",
     "text": [
      "174: ../data/ImageSharp-main/src/ImageSharp/Metadata/Profiles/Exif/Values/ExifFloatArray.cs insert sucsscfull.\n"
     ]
    },
    {
     "name": "stderr",
     "output_type": "stream",
     "text": [
      "llama_perf_context_print:        load time =    5719.40 ms\n",
      "llama_perf_context_print: prompt eval time =       0.00 ms /   323 tokens (    0.00 ms per token,      inf tokens per second)\n",
      "llama_perf_context_print:        eval time =       0.00 ms /   346 runs   (    0.00 ms per token,      inf tokens per second)\n",
      "llama_perf_context_print:       total time =   51337.29 ms /   669 tokens\n",
      "Llama.generate: 74 prefix-match hit, remaining 505 prompt tokens to eval\n"
     ]
    },
    {
     "name": "stdout",
     "output_type": "stream",
     "text": [
      "175: ../data/ImageSharp-main/src/ImageSharp/Metadata/Profiles/Exif/Values/ExifDouble.cs insert sucsscfull.\n"
     ]
    },
    {
     "name": "stderr",
     "output_type": "stream",
     "text": [
      "llama_perf_context_print:        load time =    5719.40 ms\n",
      "llama_perf_context_print: prompt eval time =       0.00 ms /   505 tokens (    0.00 ms per token,      inf tokens per second)\n",
      "llama_perf_context_print:        eval time =       0.00 ms /   572 runs   (    0.00 ms per token,      inf tokens per second)\n",
      "llama_perf_context_print:       total time =   87496.48 ms /  1077 tokens\n",
      "Llama.generate: 96 prefix-match hit, remaining 710 prompt tokens to eval\n"
     ]
    },
    {
     "name": "stdout",
     "output_type": "stream",
     "text": [
      "176: ../data/ImageSharp-main/src/ImageSharp/Metadata/Profiles/Exif/Values/ExifSignedShortArray.cs insert sucsscfull.\n"
     ]
    },
    {
     "name": "stderr",
     "output_type": "stream",
     "text": [
      "llama_perf_context_print:        load time =    5719.40 ms\n",
      "llama_perf_context_print: prompt eval time =       0.00 ms /   710 tokens (    0.00 ms per token,      inf tokens per second)\n",
      "llama_perf_context_print:        eval time =       0.00 ms /   644 runs   (    0.00 ms per token,      inf tokens per second)\n",
      "llama_perf_context_print:       total time =  104661.13 ms /  1354 tokens\n",
      "Llama.generate: 74 prefix-match hit, remaining 213 prompt tokens to eval\n"
     ]
    },
    {
     "name": "stdout",
     "output_type": "stream",
     "text": [
      "177: ../data/ImageSharp-main/src/ImageSharp/Metadata/Profiles/Exif/Values/ExifShortArray.cs insert sucsscfull.\n"
     ]
    },
    {
     "name": "stderr",
     "output_type": "stream",
     "text": [
      "llama_perf_context_print:        load time =    5719.40 ms\n",
      "llama_perf_context_print: prompt eval time =       0.00 ms /   213 tokens (    0.00 ms per token,      inf tokens per second)\n",
      "llama_perf_context_print:        eval time =       0.00 ms /   701 runs   (    0.00 ms per token,      inf tokens per second)\n",
      "llama_perf_context_print:       total time =   98673.59 ms /   914 tokens\n",
      "Llama.generate: 104 prefix-match hit, remaining 294 prompt tokens to eval\n"
     ]
    },
    {
     "name": "stdout",
     "output_type": "stream",
     "text": [
      "178: ../data/ImageSharp-main/src/ImageSharp/Metadata/Profiles/Exif/Values/ExifSignedLong.cs insert sucsscfull.\n"
     ]
    },
    {
     "name": "stderr",
     "output_type": "stream",
     "text": [
      "llama_perf_context_print:        load time =    5719.40 ms\n",
      "llama_perf_context_print: prompt eval time =       0.00 ms /   294 tokens (    0.00 ms per token,      inf tokens per second)\n",
      "llama_perf_context_print:        eval time =       0.00 ms /   295 runs   (    0.00 ms per token,      inf tokens per second)\n",
      "llama_perf_context_print:       total time =   44882.99 ms /   589 tokens\n"
     ]
    },
    {
     "name": "stdout",
     "output_type": "stream",
     "text": [
      "179: ../data/ImageSharp-main/src/ImageSharp/Metadata/Profiles/Exif/Values/ExifString.cs insert sucsscfull.\n"
     ]
    },
    {
     "name": "stderr",
     "output_type": "stream",
     "text": [
      "Llama.generate: 74 prefix-match hit, remaining 1175 prompt tokens to eval\n",
      "llama_perf_context_print:        load time =    5719.40 ms\n",
      "llama_perf_context_print: prompt eval time =       0.00 ms /  1175 tokens (    0.00 ms per token,      inf tokens per second)\n",
      "llama_perf_context_print:        eval time =       0.00 ms /   468 runs   (    0.00 ms per token,      inf tokens per second)\n",
      "llama_perf_context_print:       total time =   91077.23 ms /  1643 tokens\n",
      "Llama.generate: 97 prefix-match hit, remaining 191 prompt tokens to eval\n"
     ]
    },
    {
     "name": "stdout",
     "output_type": "stream",
     "text": [
      "180: ../data/ImageSharp-main/src/ImageSharp/Metadata/Profiles/Exif/Values/ExifLong8Array.cs insert sucsscfull.\n"
     ]
    },
    {
     "name": "stderr",
     "output_type": "stream",
     "text": [
      "llama_perf_context_print:        load time =    5719.40 ms\n",
      "llama_perf_context_print: prompt eval time =       0.00 ms /   191 tokens (    0.00 ms per token,      inf tokens per second)\n",
      "llama_perf_context_print:        eval time =       0.00 ms /   363 runs   (    0.00 ms per token,      inf tokens per second)\n",
      "llama_perf_context_print:       total time =   51060.03 ms /   554 tokens\n",
      "Llama.generate: 96 prefix-match hit, remaining 488 prompt tokens to eval\n"
     ]
    },
    {
     "name": "stdout",
     "output_type": "stream",
     "text": [
      "181: ../data/ImageSharp-main/src/ImageSharp/Metadata/Profiles/Exif/Values/ExifLongArray.cs insert sucsscfull.\n"
     ]
    },
    {
     "name": "stderr",
     "output_type": "stream",
     "text": [
      "llama_perf_context_print:        load time =    5719.40 ms\n",
      "llama_perf_context_print: prompt eval time =       0.00 ms /   488 tokens (    0.00 ms per token,      inf tokens per second)\n",
      "llama_perf_context_print:        eval time =       0.00 ms /   632 runs   (    0.00 ms per token,      inf tokens per second)\n",
      "llama_perf_context_print:       total time =   97619.89 ms /  1120 tokens\n",
      "Llama.generate: 74 prefix-match hit, remaining 349 prompt tokens to eval\n"
     ]
    },
    {
     "name": "stdout",
     "output_type": "stream",
     "text": [
      "182: ../data/ImageSharp-main/src/ImageSharp/Metadata/Profiles/Exif/Values/ExifByteArray.cs insert sucsscfull.\n"
     ]
    },
    {
     "name": "stderr",
     "output_type": "stream",
     "text": [
      "llama_perf_context_print:        load time =    5719.40 ms\n",
      "llama_perf_context_print: prompt eval time =       0.00 ms /   349 tokens (    0.00 ms per token,      inf tokens per second)\n",
      "llama_perf_context_print:        eval time =       0.00 ms /   560 runs   (    0.00 ms per token,      inf tokens per second)\n",
      "llama_perf_context_print:       total time =   82045.80 ms /   909 tokens\n",
      "Llama.generate: 74 prefix-match hit, remaining 373 prompt tokens to eval\n"
     ]
    },
    {
     "name": "stdout",
     "output_type": "stream",
     "text": [
      "183: ../data/ImageSharp-main/src/ImageSharp/Metadata/Profiles/Exif/Values/ExifLong.cs insert sucsscfull.\n"
     ]
    },
    {
     "name": "stderr",
     "output_type": "stream",
     "text": [
      "llama_perf_context_print:        load time =    5719.40 ms\n",
      "llama_perf_context_print: prompt eval time =       0.00 ms /   373 tokens (    0.00 ms per token,      inf tokens per second)\n",
      "llama_perf_context_print:        eval time =       0.00 ms /   774 runs   (    0.00 ms per token,      inf tokens per second)\n",
      "llama_perf_context_print:       total time =  113594.07 ms /  1147 tokens\n",
      "Llama.generate: 91 prefix-match hit, remaining 1038 prompt tokens to eval\n"
     ]
    },
    {
     "name": "stdout",
     "output_type": "stream",
     "text": [
      "184: ../data/ImageSharp-main/src/ImageSharp/Metadata/Profiles/Exif/Values/ExifArrayValue{TValueType}.cs insert sucsscfull.\n"
     ]
    },
    {
     "name": "stderr",
     "output_type": "stream",
     "text": [
      "llama_perf_context_print:        load time =    5719.40 ms\n",
      "llama_perf_context_print: prompt eval time =       0.00 ms /  1038 tokens (    0.00 ms per token,      inf tokens per second)\n",
      "llama_perf_context_print:        eval time =       0.00 ms /   480 runs   (    0.00 ms per token,      inf tokens per second)\n",
      "llama_perf_context_print:       total time =   87852.53 ms /  1518 tokens\n",
      "Llama.generate: 97 prefix-match hit, remaining 483 prompt tokens to eval\n"
     ]
    },
    {
     "name": "stdout",
     "output_type": "stream",
     "text": [
      "185: ../data/ImageSharp-main/src/ImageSharp/Metadata/Profiles/Exif/Values/EncodedString.cs insert sucsscfull.\n"
     ]
    },
    {
     "name": "stderr",
     "output_type": "stream",
     "text": [
      "llama_perf_context_print:        load time =    5719.40 ms\n",
      "llama_perf_context_print: prompt eval time =       0.00 ms /   483 tokens (    0.00 ms per token,      inf tokens per second)\n",
      "llama_perf_context_print:        eval time =       0.00 ms /   657 runs   (    0.00 ms per token,      inf tokens per second)\n",
      "llama_perf_context_print:       total time =  101309.72 ms /  1140 tokens\n",
      "Llama.generate: 74 prefix-match hit, remaining 334 prompt tokens to eval\n"
     ]
    },
    {
     "name": "stdout",
     "output_type": "stream",
     "text": [
      "186: ../data/ImageSharp-main/src/ImageSharp/Metadata/Profiles/Exif/Values/ExifOrientationMode.cs insert sucsscfull.\n"
     ]
    },
    {
     "name": "stderr",
     "output_type": "stream",
     "text": [
      "llama_perf_context_print:        load time =    5719.40 ms\n",
      "llama_perf_context_print: prompt eval time =       0.00 ms /   334 tokens (    0.00 ms per token,      inf tokens per second)\n",
      "llama_perf_context_print:        eval time =       0.00 ms /   421 runs   (    0.00 ms per token,      inf tokens per second)\n",
      "llama_perf_context_print:       total time =   62104.47 ms /   755 tokens\n",
      "Llama.generate: 105 prefix-match hit, remaining 223 prompt tokens to eval\n"
     ]
    },
    {
     "name": "stdout",
     "output_type": "stream",
     "text": [
      "187: ../data/ImageSharp-main/src/ImageSharp/Metadata/Profiles/Exif/Values/ExifSignedShort.cs insert sucsscfull.\n"
     ]
    },
    {
     "name": "stderr",
     "output_type": "stream",
     "text": [
      "llama_perf_context_print:        load time =    5719.40 ms\n",
      "llama_perf_context_print: prompt eval time =       0.00 ms /   223 tokens (    0.00 ms per token,      inf tokens per second)\n",
      "llama_perf_context_print:        eval time =       0.00 ms /   286 runs   (    0.00 ms per token,      inf tokens per second)\n",
      "llama_perf_context_print:       total time =   42100.01 ms /   509 tokens\n",
      "Llama.generate: 104 prefix-match hit, remaining 432 prompt tokens to eval\n"
     ]
    },
    {
     "name": "stdout",
     "output_type": "stream",
     "text": [
      "188: ../data/ImageSharp-main/src/ImageSharp/Metadata/Profiles/Exif/Values/ExifSignedRational.cs insert sucsscfull.\n"
     ]
    },
    {
     "name": "stderr",
     "output_type": "stream",
     "text": [
      "llama_perf_context_print:        load time =    5719.40 ms\n",
      "llama_perf_context_print: prompt eval time =       0.00 ms /   432 tokens (    0.00 ms per token,      inf tokens per second)\n",
      "llama_perf_context_print:        eval time =       0.00 ms /   359 runs   (    0.00 ms per token,      inf tokens per second)\n",
      "llama_perf_context_print:       total time =   56579.97 ms /   791 tokens\n",
      "Llama.generate: 74 prefix-match hit, remaining 540 prompt tokens to eval\n"
     ]
    },
    {
     "name": "stdout",
     "output_type": "stream",
     "text": [
      "189: ../data/ImageSharp-main/src/ImageSharp/Metadata/Profiles/Exif/Values/ExifNumber.cs insert sucsscfull.\n"
     ]
    },
    {
     "name": "stderr",
     "output_type": "stream",
     "text": [
      "llama_perf_context_print:        load time =    5719.40 ms\n",
      "llama_perf_context_print: prompt eval time =       0.00 ms /   540 tokens (    0.00 ms per token,      inf tokens per second)\n",
      "llama_perf_context_print:        eval time =       0.00 ms /   984 runs   (    0.00 ms per token,      inf tokens per second)\n",
      "llama_perf_context_print:       total time =  152532.19 ms /  1524 tokens\n",
      "Llama.generate: 74 prefix-match hit, remaining 294 prompt tokens to eval\n"
     ]
    },
    {
     "name": "stdout",
     "output_type": "stream",
     "text": [
      "190: ../data/ImageSharp-main/src/ImageSharp/Metadata/Profiles/Exif/Values/ExifRationalArray.cs insert sucsscfull.\n"
     ]
    },
    {
     "name": "stderr",
     "output_type": "stream",
     "text": [
      "llama_perf_context_print:        load time =    5719.40 ms\n",
      "llama_perf_context_print: prompt eval time =       0.00 ms /   294 tokens (    0.00 ms per token,      inf tokens per second)\n",
      "llama_perf_context_print:        eval time =       0.00 ms /   380 runs   (    0.00 ms per token,      inf tokens per second)\n",
      "llama_perf_context_print:       total time =   56434.27 ms /   674 tokens\n",
      "Llama.generate: 74 prefix-match hit, remaining 186 prompt tokens to eval\n"
     ]
    },
    {
     "name": "stdout",
     "output_type": "stream",
     "text": [
      "191: ../data/ImageSharp-main/src/ImageSharp/Metadata/Profiles/Exif/Values/ExifFloat.cs insert sucsscfull.\n"
     ]
    },
    {
     "name": "stderr",
     "output_type": "stream",
     "text": [
      "llama_perf_context_print:        load time =    5719.40 ms\n",
      "llama_perf_context_print: prompt eval time =       0.00 ms /   186 tokens (    0.00 ms per token,      inf tokens per second)\n",
      "llama_perf_context_print:        eval time =       0.00 ms /   356 runs   (    0.00 ms per token,      inf tokens per second)\n",
      "llama_perf_context_print:       total time =   50943.00 ms /   542 tokens\n",
      "Llama.generate: 74 prefix-match hit, remaining 381 prompt tokens to eval\n"
     ]
    },
    {
     "name": "stdout",
     "output_type": "stream",
     "text": [
      "192: ../data/ImageSharp-main/src/ImageSharp/Metadata/Profiles/Exif/Values/ExifSignedByteArray.cs insert sucsscfull.\n"
     ]
    },
    {
     "name": "stderr",
     "output_type": "stream",
     "text": [
      "llama_perf_context_print:        load time =    5719.40 ms\n",
      "llama_perf_context_print: prompt eval time =       0.00 ms /   381 tokens (    0.00 ms per token,      inf tokens per second)\n",
      "llama_perf_context_print:        eval time =       0.00 ms /   374 runs   (    0.00 ms per token,      inf tokens per second)\n",
      "llama_perf_context_print:       total time =   56925.24 ms /   755 tokens\n",
      "Llama.generate: 104 prefix-match hit, remaining 382 prompt tokens to eval\n"
     ]
    },
    {
     "name": "stdout",
     "output_type": "stream",
     "text": [
      "193: ../data/ImageSharp-main/src/ImageSharp/Metadata/Profiles/Exif/Values/ExifRational.cs insert sucsscfull.\n"
     ]
    },
    {
     "name": "stderr",
     "output_type": "stream",
     "text": [
      "llama_perf_context_print:        load time =    5719.40 ms\n",
      "llama_perf_context_print: prompt eval time =       0.00 ms /   382 tokens (    0.00 ms per token,      inf tokens per second)\n",
      "llama_perf_context_print:        eval time =       0.00 ms /  1274 runs   (    0.00 ms per token,      inf tokens per second)\n",
      "llama_perf_context_print:       total time =  191579.65 ms /  1656 tokens\n",
      "Llama.generate: 74 prefix-match hit, remaining 215 prompt tokens to eval\n"
     ]
    },
    {
     "name": "stdout",
     "output_type": "stream",
     "text": [
      "194: ../data/ImageSharp-main/src/ImageSharp/Metadata/Profiles/Exif/Values/ExifShort.cs insert sucsscfull.\n"
     ]
    },
    {
     "name": "stderr",
     "output_type": "stream",
     "text": [
      "llama_perf_context_print:        load time =    5719.40 ms\n",
      "llama_perf_context_print: prompt eval time =       0.00 ms /   215 tokens (    0.00 ms per token,      inf tokens per second)\n",
      "llama_perf_context_print:        eval time =       0.00 ms /   427 runs   (    0.00 ms per token,      inf tokens per second)\n",
      "llama_perf_context_print:       total time =   60054.12 ms /   642 tokens\n",
      "Llama.generate: 96 prefix-match hit, remaining 174 prompt tokens to eval\n"
     ]
    },
    {
     "name": "stdout",
     "output_type": "stream",
     "text": [
      "195: ../data/ImageSharp-main/src/ImageSharp/Metadata/Profiles/Exif/Values/ExifDoubleArray.cs insert sucsscfull.\n"
     ]
    },
    {
     "name": "stderr",
     "output_type": "stream",
     "text": [
      "llama_perf_context_print:        load time =    5719.40 ms\n",
      "llama_perf_context_print: prompt eval time =       0.00 ms /   174 tokens (    0.00 ms per token,      inf tokens per second)\n",
      "llama_perf_context_print:        eval time =       0.00 ms /   715 runs   (    0.00 ms per token,      inf tokens per second)\n",
      "llama_perf_context_print:       total time =  100132.56 ms /   889 tokens\n",
      "Llama.generate: 51 prefix-match hit, remaining 186 prompt tokens to eval\n"
     ]
    },
    {
     "name": "stdout",
     "output_type": "stream",
     "text": [
      "196: ../data/ImageSharp-main/src/ImageSharp/Metadata/Profiles/Exif/Values/ExifSignedLong8Array.cs insert sucsscfull.\n"
     ]
    },
    {
     "name": "stderr",
     "output_type": "stream",
     "text": [
      "llama_perf_context_print:        load time =    5719.40 ms\n",
      "llama_perf_context_print: prompt eval time =       0.00 ms /   186 tokens (    0.00 ms per token,      inf tokens per second)\n",
      "llama_perf_context_print:        eval time =       0.00 ms /   175 runs   (    0.00 ms per token,      inf tokens per second)\n",
      "llama_perf_context_print:       total time =   25890.61 ms /   361 tokens\n",
      "Llama.generate: 51 prefix-match hit, remaining 371 prompt tokens to eval\n"
     ]
    },
    {
     "name": "stdout",
     "output_type": "stream",
     "text": [
      "197: ../data/ImageSharp-main/src/ImageSharp/Metadata/Profiles/Exif/Values/IExifValue{TValueType}.cs insert sucsscfull.\n"
     ]
    },
    {
     "name": "stderr",
     "output_type": "stream",
     "text": [
      "llama_perf_context_print:        load time =    5719.40 ms\n",
      "llama_perf_context_print: prompt eval time =       0.00 ms /   371 tokens (    0.00 ms per token,      inf tokens per second)\n",
      "llama_perf_context_print:        eval time =       0.00 ms /   815 runs   (    0.00 ms per token,      inf tokens per second)\n",
      "llama_perf_context_print:       total time =  120068.62 ms /  1186 tokens\n",
      "Llama.generate: 74 prefix-match hit, remaining 378 prompt tokens to eval\n"
     ]
    },
    {
     "name": "stdout",
     "output_type": "stream",
     "text": [
      "198: ../data/ImageSharp-main/src/ImageSharp/Metadata/Profiles/Exif/Values/ExifUcs2String.cs insert sucsscfull.\n"
     ]
    },
    {
     "name": "stderr",
     "output_type": "stream",
     "text": [
      "llama_perf_context_print:        load time =    5719.40 ms\n",
      "llama_perf_context_print: prompt eval time =       0.00 ms /   378 tokens (    0.00 ms per token,      inf tokens per second)\n",
      "llama_perf_context_print:        eval time =       0.00 ms /   489 runs   (    0.00 ms per token,      inf tokens per second)\n",
      "llama_perf_context_print:       total time =   72772.79 ms /   867 tokens\n",
      "Llama.generate: 77 prefix-match hit, remaining 683 prompt tokens to eval\n"
     ]
    },
    {
     "name": "stdout",
     "output_type": "stream",
     "text": [
      "199: ../data/ImageSharp-main/src/ImageSharp/Metadata/Profiles/Exif/Values/ExifByte.cs insert sucsscfull.\n"
     ]
    },
    {
     "name": "stderr",
     "output_type": "stream",
     "text": [
      "llama_perf_context_print:        load time =    5719.40 ms\n",
      "llama_perf_context_print: prompt eval time =       0.00 ms /   683 tokens (    0.00 ms per token,      inf tokens per second)\n",
      "llama_perf_context_print:        eval time =       0.00 ms /   789 runs   (    0.00 ms per token,      inf tokens per second)\n",
      "llama_perf_context_print:       total time =  127088.38 ms /  1472 tokens\n",
      "Llama.generate: 77 prefix-match hit, remaining 425 prompt tokens to eval\n"
     ]
    },
    {
     "name": "stdout",
     "output_type": "stream",
     "text": [
      "200: ../data/ImageSharp-main/src/ImageSharp/Metadata/Profiles/Exif/Values/ExifValue.cs insert sucsscfull.\n"
     ]
    },
    {
     "name": "stderr",
     "output_type": "stream",
     "text": [
      "llama_perf_context_print:        load time =    5719.40 ms\n",
      "llama_perf_context_print: prompt eval time =       0.00 ms /   425 tokens (    0.00 ms per token,      inf tokens per second)\n",
      "llama_perf_context_print:        eval time =       0.00 ms /   825 runs   (    0.00 ms per token,      inf tokens per second)\n",
      "llama_perf_context_print:       total time =  123103.73 ms /  1250 tokens\n",
      "Llama.generate: 74 prefix-match hit, remaining 374 prompt tokens to eval\n"
     ]
    },
    {
     "name": "stdout",
     "output_type": "stream",
     "text": [
      "201: ../data/ImageSharp-main/src/ImageSharp/Metadata/Profiles/Exif/Values/ExifLong8.cs insert sucsscfull.\n"
     ]
    },
    {
     "name": "stderr",
     "output_type": "stream",
     "text": [
      "llama_perf_context_print:        load time =    5719.40 ms\n",
      "llama_perf_context_print: prompt eval time =       0.00 ms /   374 tokens (    0.00 ms per token,      inf tokens per second)\n",
      "llama_perf_context_print:        eval time =       0.00 ms /   479 runs   (    0.00 ms per token,      inf tokens per second)\n",
      "llama_perf_context_print:       total time =   72344.14 ms /   853 tokens\n",
      "Llama.generate: 92 prefix-match hit, remaining 1121 prompt tokens to eval\n"
     ]
    },
    {
     "name": "stdout",
     "output_type": "stream",
     "text": [
      "202: ../data/ImageSharp-main/src/ImageSharp/Metadata/Profiles/Exif/Values/ExifEncodedString.cs insert sucsscfull.\n"
     ]
    },
    {
     "name": "stderr",
     "output_type": "stream",
     "text": [
      "llama_perf_context_print:        load time =    5719.40 ms\n",
      "llama_perf_context_print: prompt eval time =       0.00 ms /  1121 tokens (    0.00 ms per token,      inf tokens per second)\n",
      "llama_perf_context_print:        eval time =       0.00 ms /  7010 runs   (    0.00 ms per token,      inf tokens per second)\n",
      "llama_perf_context_print:       total time = 1611930.98 ms /  8131 tokens\n",
      "Llama.generate: 92 prefix-match hit, remaining 396 prompt tokens to eval\n"
     ]
    },
    {
     "name": "stdout",
     "output_type": "stream",
     "text": [
      "203: ../data/ImageSharp-main/src/ImageSharp/Metadata/Profiles/Exif/Values/ExifValues.cs insert sucsscfull.\n"
     ]
    },
    {
     "name": "stderr",
     "output_type": "stream",
     "text": [
      "llama_perf_context_print:        load time =    5719.40 ms\n",
      "llama_perf_context_print: prompt eval time =       0.00 ms /   396 tokens (    0.00 ms per token,      inf tokens per second)\n",
      "llama_perf_context_print:        eval time =       0.00 ms /   633 runs   (    0.00 ms per token,      inf tokens per second)\n",
      "llama_perf_context_print:       total time =   97013.69 ms /  1029 tokens\n",
      "Llama.generate: 74 prefix-match hit, remaining 219 prompt tokens to eval\n"
     ]
    },
    {
     "name": "stdout",
     "output_type": "stream",
     "text": [
      "204: ../data/ImageSharp-main/src/ImageSharp/Metadata/Profiles/Exif/Values/ExifValue{TValueType}.cs insert sucsscfull.\n"
     ]
    },
    {
     "name": "stderr",
     "output_type": "stream",
     "text": [
      "llama_perf_context_print:        load time =    5719.40 ms\n",
      "llama_perf_context_print: prompt eval time =       0.00 ms /   219 tokens (    0.00 ms per token,      inf tokens per second)\n",
      "llama_perf_context_print:        eval time =       0.00 ms /   292 runs   (    0.00 ms per token,      inf tokens per second)\n",
      "llama_perf_context_print:       total time =   42110.34 ms /   511 tokens\n",
      "Llama.generate: 74 prefix-match hit, remaining 964 prompt tokens to eval\n"
     ]
    },
    {
     "name": "stdout",
     "output_type": "stream",
     "text": [
      "205: ../data/ImageSharp-main/src/ImageSharp/Metadata/Profiles/Exif/Values/ExifSignedLong8.cs insert sucsscfull.\n"
     ]
    },
    {
     "name": "stderr",
     "output_type": "stream",
     "text": [
      "llama_perf_context_print:        load time =    5719.40 ms\n",
      "llama_perf_context_print: prompt eval time =       0.00 ms /   964 tokens (    0.00 ms per token,      inf tokens per second)\n",
      "llama_perf_context_print:        eval time =       0.00 ms /   510 runs   (    0.00 ms per token,      inf tokens per second)\n",
      "llama_perf_context_print:       total time =   92603.72 ms /  1474 tokens\n",
      "Llama.generate: 91 prefix-match hit, remaining 894 prompt tokens to eval\n"
     ]
    },
    {
     "name": "stdout",
     "output_type": "stream",
     "text": [
      "206: ../data/ImageSharp-main/src/ImageSharp/Metadata/Profiles/CICP/CicpProfile.cs insert sucsscfull.\n"
     ]
    },
    {
     "name": "stderr",
     "output_type": "stream",
     "text": [
      "llama_perf_context_print:        load time =    5719.40 ms\n",
      "llama_perf_context_print: prompt eval time =       0.00 ms /   894 tokens (    0.00 ms per token,      inf tokens per second)\n",
      "llama_perf_context_print:        eval time =       0.00 ms /   257 runs   (    0.00 ms per token,      inf tokens per second)\n",
      "llama_perf_context_print:       total time =   51656.32 ms /  1151 tokens\n",
      "Llama.generate: 115 prefix-match hit, remaining 957 prompt tokens to eval\n"
     ]
    },
    {
     "name": "stdout",
     "output_type": "stream",
     "text": [
      "207: ../data/ImageSharp-main/src/ImageSharp/Metadata/Profiles/CICP/Enums/CicpColorPrimaries.cs insert sucsscfull.\n"
     ]
    },
    {
     "name": "stderr",
     "output_type": "stream",
     "text": [
      "llama_perf_context_print:        load time =    5719.40 ms\n",
      "llama_perf_context_print: prompt eval time =       0.00 ms /   957 tokens (    0.00 ms per token,      inf tokens per second)\n",
      "llama_perf_context_print:        eval time =       0.00 ms /   790 runs   (    0.00 ms per token,      inf tokens per second)\n",
      "llama_perf_context_print:       total time =  137539.82 ms /  1747 tokens\n",
      "Llama.generate: 106 prefix-match hit, remaining 1144 prompt tokens to eval\n"
     ]
    },
    {
     "name": "stdout",
     "output_type": "stream",
     "text": [
      "208: ../data/ImageSharp-main/src/ImageSharp/Metadata/Profiles/CICP/Enums/CicpMatrixCoefficients.cs insert sucsscfull.\n"
     ]
    },
    {
     "name": "stderr",
     "output_type": "stream",
     "text": [
      "llama_perf_context_print:        load time =    5719.40 ms\n",
      "llama_perf_context_print: prompt eval time =       0.00 ms /  1144 tokens (    0.00 ms per token,      inf tokens per second)\n",
      "llama_perf_context_print:        eval time =       0.00 ms /   834 runs   (    0.00 ms per token,      inf tokens per second)\n",
      "llama_perf_context_print:       total time =  147587.50 ms /  1978 tokens\n",
      "Llama.generate: 74 prefix-match hit, remaining 796 prompt tokens to eval\n"
     ]
    },
    {
     "name": "stdout",
     "output_type": "stream",
     "text": [
      "209: ../data/ImageSharp-main/src/ImageSharp/Metadata/Profiles/CICP/Enums/CicpTransferCharacteristics.cs insert sucsscfull.\n"
     ]
    },
    {
     "name": "stderr",
     "output_type": "stream",
     "text": [
      "llama_perf_context_print:        load time =    5719.40 ms\n",
      "llama_perf_context_print: prompt eval time =       0.00 ms /   796 tokens (    0.00 ms per token,      inf tokens per second)\n",
      "llama_perf_context_print:        eval time =       0.00 ms /   472 runs   (    0.00 ms per token,      inf tokens per second)\n",
      "llama_perf_context_print:       total time =   81110.83 ms /  1268 tokens\n",
      "Llama.generate: 74 prefix-match hit, remaining 178 prompt tokens to eval\n"
     ]
    },
    {
     "name": "stdout",
     "output_type": "stream",
     "text": [
      "210: ../data/ImageSharp-main/src/ImageSharp/Metadata/Profiles/XMP/XmpProfile.cs insert sucsscfull.\n"
     ]
    },
    {
     "name": "stderr",
     "output_type": "stream",
     "text": [
      "llama_perf_context_print:        load time =    5719.40 ms\n",
      "llama_perf_context_print: prompt eval time =       0.00 ms /   178 tokens (    0.00 ms per token,      inf tokens per second)\n",
      "llama_perf_context_print:        eval time =       0.00 ms /   277 runs   (    0.00 ms per token,      inf tokens per second)\n",
      "llama_perf_context_print:       total time =   39133.19 ms /   455 tokens\n",
      "Llama.generate: 90 prefix-match hit, remaining 177 prompt tokens to eval\n"
     ]
    },
    {
     "name": "stdout",
     "output_type": "stream",
     "text": [
      "211: ../data/ImageSharp-main/src/ImageSharp/Common/Constants.cs insert sucsscfull.\n"
     ]
    },
    {
     "name": "stderr",
     "output_type": "stream",
     "text": [
      "llama_perf_context_print:        load time =    5719.40 ms\n",
      "llama_perf_context_print: prompt eval time =       0.00 ms /   177 tokens (    0.00 ms per token,      inf tokens per second)\n",
      "llama_perf_context_print:        eval time =       0.00 ms /   317 runs   (    0.00 ms per token,      inf tokens per second)\n",
      "llama_perf_context_print:       total time =   44931.76 ms /   494 tokens\n",
      "Llama.generate: 90 prefix-match hit, remaining 187 prompt tokens to eval\n"
     ]
    },
    {
     "name": "stdout",
     "output_type": "stream",
     "text": [
      "212: ../data/ImageSharp-main/src/ImageSharp/Common/ByteOrder.cs insert sucsscfull.\n"
     ]
    },
    {
     "name": "stderr",
     "output_type": "stream",
     "text": [
      "llama_perf_context_print:        load time =    5719.40 ms\n",
      "llama_perf_context_print: prompt eval time =       0.00 ms /   187 tokens (    0.00 ms per token,      inf tokens per second)\n",
      "llama_perf_context_print:        eval time =       0.00 ms /   324 runs   (    0.00 ms per token,      inf tokens per second)\n",
      "llama_perf_context_print:       total time =   45781.24 ms /   511 tokens\n",
      "Llama.generate: 90 prefix-match hit, remaining 503 prompt tokens to eval\n"
     ]
    },
    {
     "name": "stdout",
     "output_type": "stream",
     "text": [
      "213: ../data/ImageSharp-main/src/ImageSharp/Common/Extensions/ConfigurationExtensions.cs insert sucsscfull.\n"
     ]
    },
    {
     "name": "stderr",
     "output_type": "stream",
     "text": [
      "llama_perf_context_print:        load time =    5719.40 ms\n",
      "llama_perf_context_print: prompt eval time =       0.00 ms /   503 tokens (    0.00 ms per token,      inf tokens per second)\n",
      "llama_perf_context_print:        eval time =       0.00 ms /   771 runs   (    0.00 ms per token,      inf tokens per second)\n",
      "llama_perf_context_print:       total time =  118771.77 ms /  1274 tokens\n",
      "Llama.generate: 74 prefix-match hit, remaining 632 prompt tokens to eval\n"
     ]
    },
    {
     "name": "stdout",
     "output_type": "stream",
     "text": [
      "214: ../data/ImageSharp-main/src/ImageSharp/Common/Extensions/EnumerableExtensions.cs insert sucsscfull.\n"
     ]
    },
    {
     "name": "stderr",
     "output_type": "stream",
     "text": [
      "llama_perf_context_print:        load time =    5719.40 ms\n",
      "llama_perf_context_print: prompt eval time =       0.00 ms /   632 tokens (    0.00 ms per token,      inf tokens per second)\n",
      "llama_perf_context_print:        eval time =       0.00 ms /   467 runs   (    0.00 ms per token,      inf tokens per second)\n",
      "llama_perf_context_print:       total time =   76507.96 ms /  1099 tokens\n",
      "Llama.generate: 77 prefix-match hit, remaining 965 prompt tokens to eval\n"
     ]
    },
    {
     "name": "stdout",
     "output_type": "stream",
     "text": [
      "215: ../data/ImageSharp-main/src/ImageSharp/Common/Extensions/StreamExtensions.cs insert sucsscfull.\n"
     ]
    },
    {
     "name": "stderr",
     "output_type": "stream",
     "text": [
      "llama_perf_context_print:        load time =    5719.40 ms\n",
      "llama_perf_context_print: prompt eval time =       0.00 ms /   965 tokens (    0.00 ms per token,      inf tokens per second)\n",
      "llama_perf_context_print:        eval time =       0.00 ms /   459 runs   (    0.00 ms per token,      inf tokens per second)\n",
      "llama_perf_context_print:       total time =   83857.71 ms /  1424 tokens\n",
      "Llama.generate: 77 prefix-match hit, remaining 1342 prompt tokens to eval\n"
     ]
    },
    {
     "name": "stdout",
     "output_type": "stream",
     "text": [
      "216: ../data/ImageSharp-main/src/ImageSharp/Common/Helpers/SimdUtils.Convert.cs insert sucsscfull.\n"
     ]
    },
    {
     "name": "stderr",
     "output_type": "stream",
     "text": [
      "llama_perf_context_print:        load time =    5719.40 ms\n",
      "llama_perf_context_print: prompt eval time =       0.00 ms /  1342 tokens (    0.00 ms per token,      inf tokens per second)\n",
      "llama_perf_context_print:        eval time =       0.00 ms /   462 runs   (    0.00 ms per token,      inf tokens per second)\n",
      "llama_perf_context_print:       total time =   93625.97 ms /  1804 tokens\n",
      "Llama.generate: 77 prefix-match hit, remaining 963 prompt tokens to eval\n"
     ]
    },
    {
     "name": "stdout",
     "output_type": "stream",
     "text": [
      "217: ../data/ImageSharp-main/src/ImageSharp/Common/Helpers/Numerics.cs insert sucsscfull.\n"
     ]
    },
    {
     "name": "stderr",
     "output_type": "stream",
     "text": [
      "llama_perf_context_print:        load time =    5719.40 ms\n",
      "llama_perf_context_print: prompt eval time =       0.00 ms /   963 tokens (    0.00 ms per token,      inf tokens per second)\n",
      "llama_perf_context_print:        eval time =       0.00 ms /   642 runs   (    0.00 ms per token,      inf tokens per second)\n",
      "llama_perf_context_print:       total time =  112707.15 ms /  1605 tokens\n",
      "Llama.generate: 77 prefix-match hit, remaining 1265 prompt tokens to eval\n"
     ]
    },
    {
     "name": "stdout",
     "output_type": "stream",
     "text": [
      "218: ../data/ImageSharp-main/src/ImageSharp/Common/Helpers/TolerantMath.cs insert sucsscfull.\n"
     ]
    },
    {
     "name": "stderr",
     "output_type": "stream",
     "text": [
      "llama_perf_context_print:        load time =    5719.40 ms\n",
      "llama_perf_context_print: prompt eval time =       0.00 ms /  1265 tokens (    0.00 ms per token,      inf tokens per second)\n",
      "llama_perf_context_print:        eval time =       0.00 ms /   804 runs   (    0.00 ms per token,      inf tokens per second)\n",
      "llama_perf_context_print:       total time =  146599.41 ms /  2069 tokens\n",
      "Llama.generate: 74 prefix-match hit, remaining 259 prompt tokens to eval\n"
     ]
    },
    {
     "name": "stdout",
     "output_type": "stream",
     "text": [
      "219: ../data/ImageSharp-main/src/ImageSharp/Common/Helpers/Vector256Utilities.cs insert sucsscfull.\n"
     ]
    },
    {
     "name": "stderr",
     "output_type": "stream",
     "text": [
      "llama_perf_context_print:        load time =    5719.40 ms\n",
      "llama_perf_context_print: prompt eval time =       0.00 ms /   259 tokens (    0.00 ms per token,      inf tokens per second)\n",
      "llama_perf_context_print:        eval time =       0.00 ms /   450 runs   (    0.00 ms per token,      inf tokens per second)\n",
      "llama_perf_context_print:       total time =   65139.83 ms /   709 tokens\n",
      "Llama.generate: 74 prefix-match hit, remaining 868 prompt tokens to eval\n"
     ]
    },
    {
     "name": "stdout",
     "output_type": "stream",
     "text": [
      "220: ../data/ImageSharp-main/src/ImageSharp/Common/Helpers/TestHelpers.cs insert sucsscfull.\n"
     ]
    },
    {
     "name": "stderr",
     "output_type": "stream",
     "text": [
      "llama_perf_context_print:        load time =    5719.40 ms\n",
      "llama_perf_context_print: prompt eval time =       0.00 ms /   868 tokens (    0.00 ms per token,      inf tokens per second)\n",
      "llama_perf_context_print:        eval time =       0.00 ms /   600 runs   (    0.00 ms per token,      inf tokens per second)\n",
      "llama_perf_context_print:       total time =  102572.72 ms /  1468 tokens\n",
      "Llama.generate: 77 prefix-match hit, remaining 1219 prompt tokens to eval\n"
     ]
    },
    {
     "name": "stdout",
     "output_type": "stream",
     "text": [
      "221: ../data/ImageSharp-main/src/ImageSharp/Common/Helpers/DebugGuard.cs insert sucsscfull.\n"
     ]
    },
    {
     "name": "stderr",
     "output_type": "stream",
     "text": [
      "llama_perf_context_print:        load time =    5719.40 ms\n",
      "llama_perf_context_print: prompt eval time =       0.00 ms /  1219 tokens (    0.00 ms per token,      inf tokens per second)\n",
      "llama_perf_context_print:        eval time =       0.00 ms /   335 runs   (    0.00 ms per token,      inf tokens per second)\n",
      "llama_perf_context_print:       total time =   72008.68 ms /  1554 tokens\n",
      "Llama.generate: 82 prefix-match hit, remaining 511 prompt tokens to eval\n"
     ]
    },
    {
     "name": "stdout",
     "output_type": "stream",
     "text": [
      "222: ../data/ImageSharp-main/src/ImageSharp/Common/Helpers/UnitConverter.cs insert sucsscfull.\n"
     ]
    },
    {
     "name": "stderr",
     "output_type": "stream",
     "text": [
      "llama_perf_context_print:        load time =    5719.40 ms\n",
      "llama_perf_context_print: prompt eval time =       0.00 ms /   511 tokens (    0.00 ms per token,      inf tokens per second)\n",
      "llama_perf_context_print:        eval time =       0.00 ms /   235 runs   (    0.00 ms per token,      inf tokens per second)\n",
      "llama_perf_context_print:       total time =   40180.41 ms /   746 tokens\n",
      "Llama.generate: 82 prefix-match hit, remaining 1168 prompt tokens to eval\n"
     ]
    },
    {
     "name": "stdout",
     "output_type": "stream",
     "text": [
      "223: ../data/ImageSharp-main/src/ImageSharp/Common/Helpers/EnumUtils.cs insert sucsscfull.\n"
     ]
    },
    {
     "name": "stderr",
     "output_type": "stream",
     "text": [
      "llama_perf_context_print:        load time =    5719.40 ms\n",
      "llama_perf_context_print: prompt eval time =       0.00 ms /  1168 tokens (    0.00 ms per token,      inf tokens per second)\n",
      "llama_perf_context_print:        eval time =       0.00 ms /   777 runs   (    0.00 ms per token,      inf tokens per second)\n",
      "llama_perf_context_print:       total time =  141527.38 ms /  1945 tokens\n",
      "Llama.generate: 77 prefix-match hit, remaining 1278 prompt tokens to eval\n"
     ]
    },
    {
     "name": "stdout",
     "output_type": "stream",
     "text": [
      "224: ../data/ImageSharp-main/src/ImageSharp/Common/Helpers/SimdUtils.Pack.cs insert sucsscfull.\n"
     ]
    },
    {
     "name": "stderr",
     "output_type": "stream",
     "text": [
      "llama_perf_context_print:        load time =    5719.40 ms\n",
      "llama_perf_context_print: prompt eval time =       0.00 ms /  1278 tokens (    0.00 ms per token,      inf tokens per second)\n",
      "llama_perf_context_print:        eval time =       0.00 ms /  1288 runs   (    0.00 ms per token,      inf tokens per second)\n",
      "llama_perf_context_print:       total time =  230735.27 ms /  2566 tokens\n",
      "Llama.generate: 83 prefix-match hit, remaining 1083 prompt tokens to eval\n"
     ]
    },
    {
     "name": "stdout",
     "output_type": "stream",
     "text": [
      "225: ../data/ImageSharp-main/src/ImageSharp/Common/Helpers/Vector512Utilities.cs insert sucsscfull.\n"
     ]
    },
    {
     "name": "stderr",
     "output_type": "stream",
     "text": [
      "llama_perf_context_print:        load time =    5719.40 ms\n",
      "llama_perf_context_print: prompt eval time =       0.00 ms /  1083 tokens (    0.00 ms per token,      inf tokens per second)\n",
      "llama_perf_context_print:        eval time =       0.00 ms /   517 runs   (    0.00 ms per token,      inf tokens per second)\n",
      "llama_perf_context_print:       total time =   97779.84 ms /  1600 tokens\n",
      "Llama.generate: 83 prefix-match hit, remaining 1108 prompt tokens to eval\n"
     ]
    },
    {
     "name": "stdout",
     "output_type": "stream",
     "text": [
      "226: ../data/ImageSharp-main/src/ImageSharp/Common/Helpers/SimdUtils.cs insert sucsscfull.\n"
     ]
    },
    {
     "name": "stderr",
     "output_type": "stream",
     "text": [
      "llama_perf_context_print:        load time =    5719.40 ms\n",
      "llama_perf_context_print: prompt eval time =       0.00 ms /  1108 tokens (    0.00 ms per token,      inf tokens per second)\n",
      "llama_perf_context_print:        eval time =       0.00 ms /  1012 runs   (    0.00 ms per token,      inf tokens per second)\n",
      "llama_perf_context_print:       total time =  176211.83 ms /  2120 tokens\n",
      "Llama.generate: 101 prefix-match hit, remaining 1149 prompt tokens to eval\n"
     ]
    },
    {
     "name": "stdout",
     "output_type": "stream",
     "text": [
      "227: ../data/ImageSharp-main/src/ImageSharp/Common/Helpers/SimdUtils.Shuffle.cs insert sucsscfull.\n"
     ]
    },
    {
     "name": "stderr",
     "output_type": "stream",
     "text": [
      "llama_perf_context_print:        load time =    5719.40 ms\n",
      "llama_perf_context_print: prompt eval time =       0.00 ms /  1149 tokens (    0.00 ms per token,      inf tokens per second)\n",
      "llama_perf_context_print:        eval time =       0.00 ms /   603 runs   (    0.00 ms per token,      inf tokens per second)\n",
      "llama_perf_context_print:       total time =  112803.10 ms /  1752 tokens\n",
      "Llama.generate: 78 prefix-match hit, remaining 1691 prompt tokens to eval\n"
     ]
    },
    {
     "name": "stdout",
     "output_type": "stream",
     "text": [
      "228: ../data/ImageSharp-main/src/ImageSharp/Common/Helpers/Vector128Utilities.cs insert sucsscfull.\n"
     ]
    },
    {
     "name": "stderr",
     "output_type": "stream",
     "text": [
      "llama_perf_context_print:        load time =    5719.40 ms\n",
      "llama_perf_context_print: prompt eval time =       0.00 ms /  1691 tokens (    0.00 ms per token,      inf tokens per second)\n",
      "llama_perf_context_print:        eval time =       0.00 ms /   596 runs   (    0.00 ms per token,      inf tokens per second)\n",
      "llama_perf_context_print:       total time =  126235.07 ms /  2287 tokens\n",
      "Llama.generate: 77 prefix-match hit, remaining 292 prompt tokens to eval\n"
     ]
    },
    {
     "name": "stdout",
     "output_type": "stream",
     "text": [
      "229: ../data/ImageSharp-main/src/ImageSharp/Common/Helpers/SimdUtils.HwIntrinsics.cs insert sucsscfull.\n"
     ]
    },
    {
     "name": "stderr",
     "output_type": "stream",
     "text": [
      "llama_perf_context_print:        load time =    5719.40 ms\n",
      "llama_perf_context_print: prompt eval time =       0.00 ms /   292 tokens (    0.00 ms per token,      inf tokens per second)\n",
      "llama_perf_context_print:        eval time =       0.00 ms /   605 runs   (    0.00 ms per token,      inf tokens per second)\n",
      "llama_perf_context_print:       total time =   88526.94 ms /   897 tokens\n",
      "Llama.generate: 82 prefix-match hit, remaining 1778 prompt tokens to eval\n"
     ]
    },
    {
     "name": "stdout",
     "output_type": "stream",
     "text": [
      "230: ../data/ImageSharp-main/src/ImageSharp/Common/Helpers/Guard.cs insert sucsscfull.\n"
     ]
    },
    {
     "name": "stderr",
     "output_type": "stream",
     "text": [
      "llama_perf_context_print:        load time =    5719.40 ms\n",
      "llama_perf_context_print: prompt eval time =       0.00 ms /  1778 tokens (    0.00 ms per token,      inf tokens per second)\n",
      "llama_perf_context_print:        eval time =       0.00 ms /  2127 runs   (    0.00 ms per token,      inf tokens per second)\n",
      "llama_perf_context_print:       total time =  422909.53 ms /  3905 tokens\n",
      "Llama.generate: 77 prefix-match hit, remaining 1373 prompt tokens to eval\n"
     ]
    },
    {
     "name": "stdout",
     "output_type": "stream",
     "text": [
      "231: ../data/ImageSharp-main/src/ImageSharp/Common/Helpers/HexConverter.cs insert sucsscfull.\n"
     ]
    },
    {
     "name": "stderr",
     "output_type": "stream",
     "text": [
      "llama_perf_context_print:        load time =    5719.40 ms\n",
      "llama_perf_context_print: prompt eval time =       0.00 ms /  1373 tokens (    0.00 ms per token,      inf tokens per second)\n",
      "llama_perf_context_print:        eval time =       0.00 ms /   887 runs   (    0.00 ms per token,      inf tokens per second)\n",
      "llama_perf_context_print:       total time =  164346.94 ms /  2260 tokens\n",
      "Llama.generate: 74 prefix-match hit, remaining 176 prompt tokens to eval\n"
     ]
    },
    {
     "name": "stdout",
     "output_type": "stream",
     "text": [
      "232: ../data/ImageSharp-main/src/ImageSharp/Common/Helpers/ColorNumerics.cs insert sucsscfull.\n"
     ]
    },
    {
     "name": "stderr",
     "output_type": "stream",
     "text": [
      "llama_perf_context_print:        load time =    5719.40 ms\n",
      "llama_perf_context_print: prompt eval time =       0.00 ms /   176 tokens (    0.00 ms per token,      inf tokens per second)\n",
      "llama_perf_context_print:        eval time =       0.00 ms /   284 runs   (    0.00 ms per token,      inf tokens per second)\n",
      "llama_perf_context_print:       total time =   40082.45 ms /   460 tokens\n",
      "Llama.generate: 74 prefix-match hit, remaining 299 prompt tokens to eval\n"
     ]
    },
    {
     "name": "stdout",
     "output_type": "stream",
     "text": [
      "233: ../data/ImageSharp-main/src/ImageSharp/Common/Helpers/ExifResolutionValues.cs insert sucsscfull.\n"
     ]
    },
    {
     "name": "stderr",
     "output_type": "stream",
     "text": [
      "llama_perf_context_print:        load time =    5719.40 ms\n",
      "llama_perf_context_print: prompt eval time =       0.00 ms /   299 tokens (    0.00 ms per token,      inf tokens per second)\n",
      "llama_perf_context_print:        eval time =       0.00 ms /   358 runs   (    0.00 ms per token,      inf tokens per second)\n",
      "llama_perf_context_print:       total time =   54310.44 ms /   657 tokens\n",
      "Llama.generate: 74 prefix-match hit, remaining 433 prompt tokens to eval\n"
     ]
    },
    {
     "name": "stdout",
     "output_type": "stream",
     "text": [
      "234: ../data/ImageSharp-main/src/ImageSharp/Common/Helpers/InliningOptions.cs insert sucsscfull.\n"
     ]
    },
    {
     "name": "stderr",
     "output_type": "stream",
     "text": [
      "llama_perf_context_print:        load time =    5719.40 ms\n",
      "llama_perf_context_print: prompt eval time =       0.00 ms /   433 tokens (    0.00 ms per token,      inf tokens per second)\n",
      "llama_perf_context_print:        eval time =       0.00 ms /   285 runs   (    0.00 ms per token,      inf tokens per second)\n",
      "llama_perf_context_print:       total time =   45821.80 ms /   718 tokens\n",
      "Llama.generate: 77 prefix-match hit, remaining 491 prompt tokens to eval\n"
     ]
    },
    {
     "name": "stdout",
     "output_type": "stream",
     "text": [
      "235: ../data/ImageSharp-main/src/ImageSharp/Common/Helpers/RuntimeUtility.cs insert sucsscfull.\n"
     ]
    },
    {
     "name": "stderr",
     "output_type": "stream",
     "text": [
      "llama_perf_context_print:        load time =    5719.40 ms\n",
      "llama_perf_context_print: prompt eval time =       0.00 ms /   491 tokens (    0.00 ms per token,      inf tokens per second)\n",
      "llama_perf_context_print:        eval time =       0.00 ms /   566 runs   (    0.00 ms per token,      inf tokens per second)\n",
      "llama_perf_context_print:       total time =   88124.21 ms /  1057 tokens\n",
      "Llama.generate: 130 prefix-match hit, remaining 1058 prompt tokens to eval\n"
     ]
    },
    {
     "name": "stdout",
     "output_type": "stream",
     "text": [
      "236: ../data/ImageSharp-main/src/ImageSharp/Common/Helpers/Shuffle/IShuffle3.cs insert sucsscfull.\n"
     ]
    },
    {
     "name": "stderr",
     "output_type": "stream",
     "text": [
      "llama_perf_context_print:        load time =    5719.40 ms\n",
      "llama_perf_context_print: prompt eval time =       0.00 ms /  1058 tokens (    0.00 ms per token,      inf tokens per second)\n",
      "llama_perf_context_print:        eval time =       0.00 ms /  1280 runs   (    0.00 ms per token,      inf tokens per second)\n",
      "llama_perf_context_print:       total time =  221066.78 ms /  2338 tokens\n",
      "Llama.generate: 74 prefix-match hit, remaining 449 prompt tokens to eval\n"
     ]
    },
    {
     "name": "stdout",
     "output_type": "stream",
     "text": [
      "237: ../data/ImageSharp-main/src/ImageSharp/Common/Helpers/Shuffle/IPad3Shuffle4.cs insert sucsscfull.\n"
     ]
    },
    {
     "name": "stderr",
     "output_type": "stream",
     "text": [
      "llama_perf_context_print:        load time =    5719.40 ms\n",
      "llama_perf_context_print: prompt eval time =       0.00 ms /   449 tokens (    0.00 ms per token,      inf tokens per second)\n",
      "llama_perf_context_print:        eval time =       0.00 ms /   353 runs   (    0.00 ms per token,      inf tokens per second)\n",
      "llama_perf_context_print:       total time =   56793.37 ms /   802 tokens\n",
      "Llama.generate: 74 prefix-match hit, remaining 1132 prompt tokens to eval\n"
     ]
    },
    {
     "name": "stdout",
     "output_type": "stream",
     "text": [
      "238: ../data/ImageSharp-main/src/ImageSharp/Common/Helpers/Shuffle/IComponentShuffle.cs insert sucsscfull.\n"
     ]
    },
    {
     "name": "stderr",
     "output_type": "stream",
     "text": [
      "llama_perf_context_print:        load time =    5719.40 ms\n",
      "llama_perf_context_print: prompt eval time =       0.00 ms /  1132 tokens (    0.00 ms per token,      inf tokens per second)\n",
      "llama_perf_context_print:        eval time =       0.00 ms /   594 runs   (    0.00 ms per token,      inf tokens per second)\n",
      "llama_perf_context_print:       total time =  108345.01 ms /  1726 tokens\n",
      "Llama.generate: 77 prefix-match hit, remaining 1304 prompt tokens to eval\n"
     ]
    },
    {
     "name": "stdout",
     "output_type": "stream",
     "text": [
      "239: ../data/ImageSharp-main/src/ImageSharp/Common/Helpers/Shuffle/IShuffle4Slice3.cs insert sucsscfull.\n"
     ]
    },
    {
     "name": "stderr",
     "output_type": "stream",
     "text": [
      "llama_perf_context_print:        load time =    5719.40 ms\n",
      "llama_perf_context_print: prompt eval time =       0.00 ms /  1304 tokens (    0.00 ms per token,      inf tokens per second)\n",
      "llama_perf_context_print:        eval time =       0.00 ms /   640 runs   (    0.00 ms per token,      inf tokens per second)\n",
      "llama_perf_context_print:       total time =  122633.41 ms /  1944 tokens\n",
      "Llama.generate: 74 prefix-match hit, remaining 392 prompt tokens to eval\n"
     ]
    },
    {
     "name": "stdout",
     "output_type": "stream",
     "text": [
      "240: ../data/ImageSharp-main/src/ImageSharp/Common/Helpers/Shuffle/IShuffle4.cs insert sucsscfull.\n"
     ]
    },
    {
     "name": "stderr",
     "output_type": "stream",
     "text": [
      "llama_perf_context_print:        load time =    5719.40 ms\n",
      "llama_perf_context_print: prompt eval time =       0.00 ms /   392 tokens (    0.00 ms per token,      inf tokens per second)\n",
      "llama_perf_context_print:        eval time =       0.00 ms /   376 runs   (    0.00 ms per token,      inf tokens per second)\n",
      "llama_perf_context_print:       total time =   57986.05 ms /   768 tokens\n",
      "Llama.generate: 74 prefix-match hit, remaining 422 prompt tokens to eval\n"
     ]
    },
    {
     "name": "stdout",
     "output_type": "stream",
     "text": [
      "241: ../data/ImageSharp-main/src/ImageSharp/Common/Exceptions/ImageProcessingException.cs insert sucsscfull.\n"
     ]
    },
    {
     "name": "stderr",
     "output_type": "stream",
     "text": [
      "llama_perf_context_print:        load time =    5719.40 ms\n",
      "llama_perf_context_print: prompt eval time =       0.00 ms /   422 tokens (    0.00 ms per token,      inf tokens per second)\n",
      "llama_perf_context_print:        eval time =       0.00 ms /   364 runs   (    0.00 ms per token,      inf tokens per second)\n",
      "llama_perf_context_print:       total time =   57579.38 ms /   786 tokens\n",
      "Llama.generate: 74 prefix-match hit, remaining 359 prompt tokens to eval\n"
     ]
    },
    {
     "name": "stdout",
     "output_type": "stream",
     "text": [
      "242: ../data/ImageSharp-main/src/ImageSharp/Common/Exceptions/InvalidImageContentException.cs insert sucsscfull.\n"
     ]
    },
    {
     "name": "stderr",
     "output_type": "stream",
     "text": [
      "llama_perf_context_print:        load time =    5719.40 ms\n",
      "llama_perf_context_print: prompt eval time =       0.00 ms /   359 tokens (    0.00 ms per token,      inf tokens per second)\n",
      "llama_perf_context_print:        eval time =       0.00 ms /   367 runs   (    0.00 ms per token,      inf tokens per second)\n",
      "llama_perf_context_print:       total time =   58589.27 ms /   726 tokens\n",
      "Llama.generate: 105 prefix-match hit, remaining 177 prompt tokens to eval\n"
     ]
    },
    {
     "name": "stdout",
     "output_type": "stream",
     "text": [
      "243: ../data/ImageSharp-main/src/ImageSharp/Common/Exceptions/ImageFormatException.cs insert sucsscfull.\n"
     ]
    },
    {
     "name": "stderr",
     "output_type": "stream",
     "text": [
      "llama_perf_context_print:        load time =    5719.40 ms\n",
      "llama_perf_context_print: prompt eval time =       0.00 ms /   177 tokens (    0.00 ms per token,      inf tokens per second)\n",
      "llama_perf_context_print:        eval time =       0.00 ms /   580 runs   (    0.00 ms per token,      inf tokens per second)\n",
      "llama_perf_context_print:       total time =  120902.31 ms /   757 tokens\n",
      "Llama.generate: 74 prefix-match hit, remaining 836 prompt tokens to eval\n"
     ]
    },
    {
     "name": "stdout",
     "output_type": "stream",
     "text": [
      "244: ../data/ImageSharp-main/src/ImageSharp/Common/Exceptions/UnknownImageFormatException.cs insert sucsscfull.\n"
     ]
    },
    {
     "name": "stderr",
     "output_type": "stream",
     "text": [
      "llama_perf_context_print:        load time =    5719.40 ms\n",
      "llama_perf_context_print: prompt eval time =       0.00 ms /   836 tokens (    0.00 ms per token,      inf tokens per second)\n",
      "llama_perf_context_print:        eval time =       0.00 ms /   546 runs   (    0.00 ms per token,      inf tokens per second)\n",
      "llama_perf_context_print:       total time =  111426.61 ms /  1382 tokens\n",
      "Llama.generate: 74 prefix-match hit, remaining 729 prompt tokens to eval\n"
     ]
    },
    {
     "name": "stdout",
     "output_type": "stream",
     "text": [
      "245: ../data/ImageSharp-main/src/ImageSharp/Common/Tuples/Octet{T}.cs insert sucsscfull.\n"
     ]
    },
    {
     "name": "stderr",
     "output_type": "stream",
     "text": [
      "llama_perf_context_print:        load time =    5719.40 ms\n",
      "llama_perf_context_print: prompt eval time =       0.00 ms /   729 tokens (    0.00 ms per token,      inf tokens per second)\n",
      "llama_perf_context_print:        eval time =       0.00 ms /   533 runs   (    0.00 ms per token,      inf tokens per second)\n",
      "llama_perf_context_print:       total time =   95682.32 ms /  1262 tokens\n",
      "Llama.generate: 74 prefix-match hit, remaining 540 prompt tokens to eval\n"
     ]
    },
    {
     "name": "stdout",
     "output_type": "stream",
     "text": [
      "246: ../data/ImageSharp-main/src/ImageSharp/Diagnostics/MemoryDiagnostics.cs insert sucsscfull.\n"
     ]
    },
    {
     "name": "stderr",
     "output_type": "stream",
     "text": [
      "llama_perf_context_print:        load time =    5719.40 ms\n",
      "llama_perf_context_print: prompt eval time =       0.00 ms /   540 tokens (    0.00 ms per token,      inf tokens per second)\n",
      "llama_perf_context_print:        eval time =       0.00 ms /   539 runs   (    0.00 ms per token,      inf tokens per second)\n",
      "llama_perf_context_print:       total time =   83080.91 ms /  1079 tokens\n",
      "Llama.generate: 77 prefix-match hit, remaining 1208 prompt tokens to eval\n"
     ]
    },
    {
     "name": "stdout",
     "output_type": "stream",
     "text": [
      "247: ../data/ImageSharp-main/src/ImageSharp/Memory/ByteMemoryManager{T}.cs insert sucsscfull.\n"
     ]
    },
    {
     "name": "stderr",
     "output_type": "stream",
     "text": [
      "llama_perf_context_print:        load time =    5719.40 ms\n",
      "llama_perf_context_print: prompt eval time =       0.00 ms /  1208 tokens (    0.00 ms per token,      inf tokens per second)\n",
      "llama_perf_context_print:        eval time =       0.00 ms /   502 runs   (    0.00 ms per token,      inf tokens per second)\n",
      "llama_perf_context_print:       total time =   96967.45 ms /  1710 tokens\n",
      "Llama.generate: 77 prefix-match hit, remaining 891 prompt tokens to eval\n"
     ]
    },
    {
     "name": "stdout",
     "output_type": "stream",
     "text": [
      "248: ../data/ImageSharp-main/src/ImageSharp/Memory/Buffer2D{T}.cs insert sucsscfull.\n"
     ]
    },
    {
     "name": "stderr",
     "output_type": "stream",
     "text": [
      "llama_perf_context_print:        load time =    5719.40 ms\n",
      "llama_perf_context_print: prompt eval time =       0.00 ms /   891 tokens (    0.00 ms per token,      inf tokens per second)\n",
      "llama_perf_context_print:        eval time =       0.00 ms /   426 runs   (    0.00 ms per token,      inf tokens per second)\n",
      "llama_perf_context_print:       total time =   77757.03 ms /  1317 tokens\n",
      "Llama.generate: 77 prefix-match hit, remaining 403 prompt tokens to eval\n"
     ]
    },
    {
     "name": "stdout",
     "output_type": "stream",
     "text": [
      "249: ../data/ImageSharp-main/src/ImageSharp/Memory/MemoryOwnerExtensions.cs insert sucsscfull.\n"
     ]
    },
    {
     "name": "stderr",
     "output_type": "stream",
     "text": [
      "llama_perf_context_print:        load time =    5719.40 ms\n",
      "llama_perf_context_print: prompt eval time =       0.00 ms /   403 tokens (    0.00 ms per token,      inf tokens per second)\n",
      "llama_perf_context_print:        eval time =       0.00 ms /   360 runs   (    0.00 ms per token,      inf tokens per second)\n",
      "llama_perf_context_print:       total time =   56130.42 ms /   763 tokens\n",
      "Llama.generate: 74 prefix-match hit, remaining 132 prompt tokens to eval\n"
     ]
    },
    {
     "name": "stdout",
     "output_type": "stream",
     "text": [
      "250: ../data/ImageSharp-main/src/ImageSharp/Memory/InvalidMemoryOperationException.cs insert sucsscfull.\n"
     ]
    },
    {
     "name": "stderr",
     "output_type": "stream",
     "text": [
      "llama_perf_context_print:        load time =    5719.40 ms\n",
      "llama_perf_context_print: prompt eval time =       0.00 ms /   132 tokens (    0.00 ms per token,      inf tokens per second)\n",
      "llama_perf_context_print:        eval time =       0.00 ms /   376 runs   (    0.00 ms per token,      inf tokens per second)\n",
      "llama_perf_context_print:       total time =   51010.80 ms /   508 tokens\n",
      "Llama.generate: 74 prefix-match hit, remaining 504 prompt tokens to eval\n"
     ]
    },
    {
     "name": "stdout",
     "output_type": "stream",
     "text": [
      "251: ../data/ImageSharp-main/src/ImageSharp/Memory/TransformItemsDelegate{TSource, TTarget}.cs insert sucsscfull.\n"
     ]
    },
    {
     "name": "stderr",
     "output_type": "stream",
     "text": [
      "llama_perf_context_print:        load time =    5719.40 ms\n",
      "llama_perf_context_print: prompt eval time =       0.00 ms /   504 tokens (    0.00 ms per token,      inf tokens per second)\n",
      "llama_perf_context_print:        eval time =       0.00 ms /   459 runs   (    0.00 ms per token,      inf tokens per second)\n",
      "llama_perf_context_print:       total time =   73459.56 ms /   963 tokens\n",
      "Llama.generate: 73 prefix-match hit, remaining 1223 prompt tokens to eval\n"
     ]
    },
    {
     "name": "stdout",
     "output_type": "stream",
     "text": [
      "252: ../data/ImageSharp-main/src/ImageSharp/Memory/ByteMemoryOwner{T}.cs insert sucsscfull.\n"
     ]
    },
    {
     "name": "stderr",
     "output_type": "stream",
     "text": [
      "llama_perf_context_print:        load time =    5719.40 ms\n",
      "llama_perf_context_print: prompt eval time =       0.00 ms /  1223 tokens (    0.00 ms per token,      inf tokens per second)\n",
      "llama_perf_context_print:        eval time =       0.00 ms /   565 runs   (    0.00 ms per token,      inf tokens per second)\n",
      "llama_perf_context_print:       total time =  107211.63 ms /  1788 tokens\n",
      "Llama.generate: 73 prefix-match hit, remaining 493 prompt tokens to eval\n"
     ]
    },
    {
     "name": "stdout",
     "output_type": "stream",
     "text": [
      "253: ../data/ImageSharp-main/src/ImageSharp/Memory/Buffer2DRegion{T}.cs insert sucsscfull.\n"
     ]
    },
    {
     "name": "stderr",
     "output_type": "stream",
     "text": [
      "llama_perf_context_print:        load time =    5719.40 ms\n",
      "llama_perf_context_print: prompt eval time =       0.00 ms /   493 tokens (    0.00 ms per token,      inf tokens per second)\n",
      "llama_perf_context_print:        eval time =       0.00 ms /   487 runs   (    0.00 ms per token,      inf tokens per second)\n",
      "llama_perf_context_print:       total time =   76937.86 ms /   980 tokens\n"
     ]
    },
    {
     "name": "stdout",
     "output_type": "stream",
     "text": [
      "254: ../data/ImageSharp-main/src/ImageSharp/Memory/UnmanagedMemoryManager{T}.cs insert sucsscfull.\n"
     ]
    },
    {
     "name": "stderr",
     "output_type": "stream",
     "text": [
      "Llama.generate: 77 prefix-match hit, remaining 1193 prompt tokens to eval\n",
      "llama_perf_context_print:        load time =    5719.40 ms\n",
      "llama_perf_context_print: prompt eval time =       0.00 ms /  1193 tokens (    0.00 ms per token,      inf tokens per second)\n",
      "llama_perf_context_print:        eval time =       0.00 ms /  1132 runs   (    0.00 ms per token,      inf tokens per second)\n",
      "llama_perf_context_print:       total time =  200505.73 ms /  2325 tokens\n",
      "Llama.generate: 51 prefix-match hit, remaining 109 prompt tokens to eval\n"
     ]
    },
    {
     "name": "stdout",
     "output_type": "stream",
     "text": [
      "255: ../data/ImageSharp-main/src/ImageSharp/Memory/Buffer2DExtensions.cs insert sucsscfull.\n"
     ]
    },
    {
     "name": "stderr",
     "output_type": "stream",
     "text": [
      "llama_perf_context_print:        load time =    5719.40 ms\n",
      "llama_perf_context_print: prompt eval time =       0.00 ms /   109 tokens (    0.00 ms per token,      inf tokens per second)\n",
      "llama_perf_context_print:        eval time =       0.00 ms /   420 runs   (    0.00 ms per token,      inf tokens per second)\n",
      "llama_perf_context_print:       total time =   57323.78 ms /   529 tokens\n",
      "Llama.generate: 51 prefix-match hit, remaining 1117 prompt tokens to eval\n"
     ]
    },
    {
     "name": "stdout",
     "output_type": "stream",
     "text": [
      "256: ../data/ImageSharp-main/src/ImageSharp/Memory/TransformItemsInplaceDelegate.cs insert sucsscfull.\n"
     ]
    },
    {
     "name": "stderr",
     "output_type": "stream",
     "text": [
      "llama_perf_context_print:        load time =    5719.40 ms\n",
      "llama_perf_context_print: prompt eval time =       0.00 ms /  1117 tokens (    0.00 ms per token,      inf tokens per second)\n",
      "llama_perf_context_print:        eval time =       0.00 ms /   252 runs   (    0.00 ms per token,      inf tokens per second)\n",
      "llama_perf_context_print:       total time =   56149.36 ms /  1369 tokens\n",
      "Llama.generate: 74 prefix-match hit, remaining 870 prompt tokens to eval\n"
     ]
    },
    {
     "name": "stdout",
     "output_type": "stream",
     "text": [
      "257: ../data/ImageSharp-main/src/ImageSharp/Memory/MemoryAllocatorExtensions.cs insert sucsscfull.\n"
     ]
    },
    {
     "name": "stderr",
     "output_type": "stream",
     "text": [
      "llama_perf_context_print:        load time =    5719.40 ms\n",
      "llama_perf_context_print: prompt eval time =       0.00 ms /   870 tokens (    0.00 ms per token,      inf tokens per second)\n",
      "llama_perf_context_print:        eval time =       0.00 ms /   377 runs   (    0.00 ms per token,      inf tokens per second)\n",
      "llama_perf_context_print:       total time =   69723.55 ms /  1247 tokens\n",
      "Llama.generate: 74 prefix-match hit, remaining 282 prompt tokens to eval\n"
     ]
    },
    {
     "name": "stdout",
     "output_type": "stream",
     "text": [
      "258: ../data/ImageSharp-main/src/ImageSharp/Memory/RowInterval.cs insert sucsscfull.\n"
     ]
    },
    {
     "name": "stderr",
     "output_type": "stream",
     "text": [
      "llama_perf_context_print:        load time =    5719.40 ms\n",
      "llama_perf_context_print: prompt eval time =       0.00 ms /   282 tokens (    0.00 ms per token,      inf tokens per second)\n",
      "llama_perf_context_print:        eval time =       0.00 ms /   474 runs   (    0.00 ms per token,      inf tokens per second)\n",
      "llama_perf_context_print:       total time =   68844.82 ms /   756 tokens\n",
      "Llama.generate: 74 prefix-match hit, remaining 441 prompt tokens to eval\n"
     ]
    },
    {
     "name": "stdout",
     "output_type": "stream",
     "text": [
      "259: ../data/ImageSharp-main/src/ImageSharp/Memory/Allocators/UnmanagedMemoryAllocator.cs insert sucsscfull.\n"
     ]
    },
    {
     "name": "stderr",
     "output_type": "stream",
     "text": [
      "llama_perf_context_print:        load time =    5719.40 ms\n",
      "llama_perf_context_print: prompt eval time =       0.00 ms /   441 tokens (    0.00 ms per token,      inf tokens per second)\n",
      "llama_perf_context_print:        eval time =       0.00 ms /   449 runs   (    0.00 ms per token,      inf tokens per second)\n",
      "llama_perf_context_print:       total time =   70026.87 ms /   890 tokens\n",
      "Llama.generate: 92 prefix-match hit, remaining 144 prompt tokens to eval\n"
     ]
    },
    {
     "name": "stdout",
     "output_type": "stream",
     "text": [
      "260: ../data/ImageSharp-main/src/ImageSharp/Memory/Allocators/MemoryAllocatorOptions.cs insert sucsscfull.\n"
     ]
    },
    {
     "name": "stderr",
     "output_type": "stream",
     "text": [
      "llama_perf_context_print:        load time =    5719.40 ms\n",
      "llama_perf_context_print: prompt eval time =       0.00 ms /   144 tokens (    0.00 ms per token,      inf tokens per second)\n",
      "llama_perf_context_print:        eval time =       0.00 ms /   444 runs   (    0.00 ms per token,      inf tokens per second)\n",
      "llama_perf_context_print:       total time =   61153.56 ms /   588 tokens\n",
      "Llama.generate: 51 prefix-match hit, remaining 130 prompt tokens to eval\n"
     ]
    },
    {
     "name": "stdout",
     "output_type": "stream",
     "text": [
      "261: ../data/ImageSharp-main/src/ImageSharp/Memory/Allocators/AllocationOptions.cs insert sucsscfull.\n"
     ]
    },
    {
     "name": "stderr",
     "output_type": "stream",
     "text": [
      "llama_perf_context_print:        load time =    5719.40 ms\n",
      "llama_perf_context_print: prompt eval time =       0.00 ms /   130 tokens (    0.00 ms per token,      inf tokens per second)\n",
      "llama_perf_context_print:        eval time =       0.00 ms /   205 runs   (    0.00 ms per token,      inf tokens per second)\n",
      "llama_perf_context_print:       total time =   29271.63 ms /   335 tokens\n",
      "Llama.generate: 51 prefix-match hit, remaining 1052 prompt tokens to eval\n"
     ]
    },
    {
     "name": "stdout",
     "output_type": "stream",
     "text": [
      "262: ../data/ImageSharp-main/src/ImageSharp/Memory/Allocators/AllocationOptionsExtensions.cs insert sucsscfull.\n"
     ]
    },
    {
     "name": "stderr",
     "output_type": "stream",
     "text": [
      "llama_perf_context_print:        load time =    5719.40 ms\n",
      "llama_perf_context_print: prompt eval time =       0.00 ms /  1052 tokens (    0.00 ms per token,      inf tokens per second)\n",
      "llama_perf_context_print:        eval time =       0.00 ms /   420 runs   (    0.00 ms per token,      inf tokens per second)\n",
      "llama_perf_context_print:       total time =   80670.63 ms /  1472 tokens\n",
      "Llama.generate: 115 prefix-match hit, remaining 287 prompt tokens to eval\n"
     ]
    },
    {
     "name": "stdout",
     "output_type": "stream",
     "text": [
      "263: ../data/ImageSharp-main/src/ImageSharp/Memory/Allocators/UniformUnmanagedMemoryPoolMemoryAllocator.cs insert sucsscfull.\n"
     ]
    },
    {
     "name": "stderr",
     "output_type": "stream",
     "text": [
      "llama_perf_context_print:        load time =    5719.40 ms\n",
      "llama_perf_context_print: prompt eval time =       0.00 ms /   287 tokens (    0.00 ms per token,      inf tokens per second)\n",
      "llama_perf_context_print:        eval time =       0.00 ms /   700 runs   (    0.00 ms per token,      inf tokens per second)\n",
      "llama_perf_context_print:       total time =  102318.87 ms /   987 tokens\n",
      "Llama.generate: 88 prefix-match hit, remaining 1041 prompt tokens to eval\n"
     ]
    },
    {
     "name": "stdout",
     "output_type": "stream",
     "text": [
      "264: ../data/ImageSharp-main/src/ImageSharp/Memory/Allocators/SimpleGcMemoryAllocator.cs insert sucsscfull.\n"
     ]
    },
    {
     "name": "stderr",
     "output_type": "stream",
     "text": [
      "llama_perf_context_print:        load time =    5719.40 ms\n",
      "llama_perf_context_print: prompt eval time =       0.00 ms /  1041 tokens (    0.00 ms per token,      inf tokens per second)\n",
      "llama_perf_context_print:        eval time =       0.00 ms /   426 runs   (    0.00 ms per token,      inf tokens per second)\n",
      "llama_perf_context_print:       total time =   81336.58 ms /  1467 tokens\n",
      "Llama.generate: 83 prefix-match hit, remaining 649 prompt tokens to eval\n"
     ]
    },
    {
     "name": "stdout",
     "output_type": "stream",
     "text": [
      "265: ../data/ImageSharp-main/src/ImageSharp/Memory/Allocators/MemoryAllocator.cs insert sucsscfull.\n"
     ]
    },
    {
     "name": "stderr",
     "output_type": "stream",
     "text": [
      "llama_perf_context_print:        load time =    5719.40 ms\n",
      "llama_perf_context_print: prompt eval time =       0.00 ms /   649 tokens (    0.00 ms per token,      inf tokens per second)\n",
      "llama_perf_context_print:        eval time =       0.00 ms /   677 runs   (    0.00 ms per token,      inf tokens per second)\n",
      "llama_perf_context_print:       total time =  107399.13 ms /  1326 tokens\n",
      "Llama.generate: 51 prefix-match hit, remaining 248 prompt tokens to eval\n"
     ]
    },
    {
     "name": "stdout",
     "output_type": "stream",
     "text": [
      "266: ../data/ImageSharp-main/src/ImageSharp/Memory/Allocators/Internals/SharedArrayPoolBuffer{T}.cs insert sucsscfull.\n"
     ]
    },
    {
     "name": "stderr",
     "output_type": "stream",
     "text": [
      "llama_perf_context_print:        load time =    5719.40 ms\n",
      "llama_perf_context_print: prompt eval time =       0.00 ms /   248 tokens (    0.00 ms per token,      inf tokens per second)\n",
      "llama_perf_context_print:        eval time =       0.00 ms /   331 runs   (    0.00 ms per token,      inf tokens per second)\n",
      "llama_perf_context_print:       total time =   47615.80 ms /   579 tokens\n",
      "Llama.generate: 51 prefix-match hit, remaining 757 prompt tokens to eval\n"
     ]
    },
    {
     "name": "stdout",
     "output_type": "stream",
     "text": [
      "267: ../data/ImageSharp-main/src/ImageSharp/Memory/Allocators/Internals/UnmanagedBufferLifetimeGuard.cs insert sucsscfull.\n"
     ]
    },
    {
     "name": "stderr",
     "output_type": "stream",
     "text": [
      "llama_perf_context_print:        load time =    5719.40 ms\n",
      "llama_perf_context_print: prompt eval time =       0.00 ms /   757 tokens (    0.00 ms per token,      inf tokens per second)\n",
      "llama_perf_context_print:        eval time =       0.00 ms /   530 runs   (    0.00 ms per token,      inf tokens per second)\n",
      "llama_perf_context_print:       total time =   90198.23 ms /  1287 tokens\n",
      "Llama.generate: 51 prefix-match hit, remaining 514 prompt tokens to eval\n"
     ]
    },
    {
     "name": "stdout",
     "output_type": "stream",
     "text": [
      "268: ../data/ImageSharp-main/src/ImageSharp/Memory/Allocators/Internals/UnmanagedBuffer{T}.cs insert sucsscfull.\n"
     ]
    },
    {
     "name": "stderr",
     "output_type": "stream",
     "text": [
      "llama_perf_context_print:        load time =    5719.40 ms\n",
      "llama_perf_context_print: prompt eval time =       0.00 ms /   514 tokens (    0.00 ms per token,      inf tokens per second)\n",
      "llama_perf_context_print:        eval time =       0.00 ms /   755 runs   (    0.00 ms per token,      inf tokens per second)\n",
      "llama_perf_context_print:       total time =  115670.99 ms /  1269 tokens\n",
      "Llama.generate: 51 prefix-match hit, remaining 504 prompt tokens to eval\n"
     ]
    },
    {
     "name": "stdout",
     "output_type": "stream",
     "text": [
      "269: ../data/ImageSharp-main/src/ImageSharp/Memory/Allocators/Internals/UniformUnmanagedMemoryPool.LifetimeGuards.cs insert sucsscfull.\n"
     ]
    },
    {
     "name": "stderr",
     "output_type": "stream",
     "text": [
      "llama_perf_context_print:        load time =    5719.40 ms\n",
      "llama_perf_context_print: prompt eval time =       0.00 ms /   504 tokens (    0.00 ms per token,      inf tokens per second)\n",
      "llama_perf_context_print:        eval time =       0.00 ms /   545 runs   (    0.00 ms per token,      inf tokens per second)\n",
      "llama_perf_context_print:       total time =   84273.66 ms /  1049 tokens\n",
      "Llama.generate: 77 prefix-match hit, remaining 1058 prompt tokens to eval\n"
     ]
    },
    {
     "name": "stdout",
     "output_type": "stream",
     "text": [
      "270: ../data/ImageSharp-main/src/ImageSharp/Memory/Allocators/Internals/BasicArrayBuffer.cs insert sucsscfull.\n"
     ]
    },
    {
     "name": "stderr",
     "output_type": "stream",
     "text": [
      "llama_perf_context_print:        load time =    5719.40 ms\n",
      "llama_perf_context_print: prompt eval time =       0.00 ms /  1058 tokens (    0.00 ms per token,      inf tokens per second)\n",
      "llama_perf_context_print:        eval time =       0.00 ms /   804 runs   (    0.00 ms per token,      inf tokens per second)\n",
      "llama_perf_context_print:       total time =  141217.92 ms /  1862 tokens\n",
      "Llama.generate: 77 prefix-match hit, remaining 1067 prompt tokens to eval\n"
     ]
    },
    {
     "name": "stdout",
     "output_type": "stream",
     "text": [
      "271: ../data/ImageSharp-main/src/ImageSharp/Memory/Allocators/Internals/UniformUnmanagedMemoryPool.cs insert sucsscfull.\n"
     ]
    },
    {
     "name": "stderr",
     "output_type": "stream",
     "text": [
      "llama_perf_context_print:        load time =    5719.40 ms\n",
      "llama_perf_context_print: prompt eval time =       0.00 ms /  1067 tokens (    0.00 ms per token,      inf tokens per second)\n",
      "llama_perf_context_print:        eval time =       0.00 ms /   547 runs   (    0.00 ms per token,      inf tokens per second)\n",
      "llama_perf_context_print:       total time =  102156.66 ms /  1614 tokens\n",
      "Llama.generate: 74 prefix-match hit, remaining 1030 prompt tokens to eval\n"
     ]
    },
    {
     "name": "stdout",
     "output_type": "stream",
     "text": [
      "272: ../data/ImageSharp-main/src/ImageSharp/Memory/Allocators/Internals/UnmanagedMemoryHandle.cs insert sucsscfull.\n"
     ]
    },
    {
     "name": "stderr",
     "output_type": "stream",
     "text": [
      "llama_perf_context_print:        load time =    5719.40 ms\n",
      "llama_perf_context_print: prompt eval time =       0.00 ms /  1030 tokens (    0.00 ms per token,      inf tokens per second)\n",
      "llama_perf_context_print:        eval time =       0.00 ms /   611 runs   (    0.00 ms per token,      inf tokens per second)\n",
      "llama_perf_context_print:       total time =  109172.69 ms /  1641 tokens\n",
      "Llama.generate: 51 prefix-match hit, remaining 586 prompt tokens to eval\n"
     ]
    },
    {
     "name": "stdout",
     "output_type": "stream",
     "text": [
      "273: ../data/ImageSharp-main/src/ImageSharp/Memory/Allocators/Internals/Gen2GcCallback.cs insert sucsscfull.\n"
     ]
    },
    {
     "name": "stderr",
     "output_type": "stream",
     "text": [
      "llama_perf_context_print:        load time =    5719.40 ms\n",
      "llama_perf_context_print: prompt eval time =       0.00 ms /   586 tokens (    0.00 ms per token,      inf tokens per second)\n",
      "llama_perf_context_print:        eval time =       0.00 ms /    13 runs   (    0.00 ms per token,      inf tokens per second)\n",
      "llama_perf_context_print:       total time =   11016.56 ms /   599 tokens\n",
      "Llama.generate: 51 prefix-match hit, remaining 468 prompt tokens to eval\n"
     ]
    },
    {
     "name": "stdout",
     "output_type": "stream",
     "text": [
      "274: ../data/ImageSharp-main/src/ImageSharp/Memory/Allocators/Internals/RefCountedMemoryLifetimeGuard.cs insert sucsscfull.\n"
     ]
    },
    {
     "name": "stderr",
     "output_type": "stream",
     "text": [
      "llama_perf_context_print:        load time =    5719.40 ms\n",
      "llama_perf_context_print: prompt eval time =       0.00 ms /   468 tokens (    0.00 ms per token,      inf tokens per second)\n",
      "llama_perf_context_print:        eval time =       0.00 ms /   467 runs   (    0.00 ms per token,      inf tokens per second)\n",
      "llama_perf_context_print:       total time =   71869.84 ms /   935 tokens\n",
      "Llama.generate: 51 prefix-match hit, remaining 183 prompt tokens to eval\n"
     ]
    },
    {
     "name": "stdout",
     "output_type": "stream",
     "text": [
      "275: ../data/ImageSharp-main/src/ImageSharp/Memory/Allocators/Internals/ManagedBufferBase.cs insert sucsscfull.\n"
     ]
    },
    {
     "name": "stderr",
     "output_type": "stream",
     "text": [
      "llama_perf_context_print:        load time =    5719.40 ms\n",
      "llama_perf_context_print: prompt eval time =       0.00 ms /   183 tokens (    0.00 ms per token,      inf tokens per second)\n",
      "llama_perf_context_print:        eval time =       0.00 ms /   303 runs   (    0.00 ms per token,      inf tokens per second)\n",
      "llama_perf_context_print:       total time =   43731.51 ms /   486 tokens\n",
      "Llama.generate: 51 prefix-match hit, remaining 559 prompt tokens to eval\n"
     ]
    },
    {
     "name": "stdout",
     "output_type": "stream",
     "text": [
      "276: ../data/ImageSharp-main/src/ImageSharp/Memory/Allocators/Internals/IRefCounted.cs insert sucsscfull.\n"
     ]
    },
    {
     "name": "stderr",
     "output_type": "stream",
     "text": [
      "llama_perf_context_print:        load time =    5719.40 ms\n",
      "llama_perf_context_print: prompt eval time =       0.00 ms /   559 tokens (    0.00 ms per token,      inf tokens per second)\n",
      "llama_perf_context_print:        eval time =       0.00 ms /   443 runs   (    0.00 ms per token,      inf tokens per second)\n",
      "llama_perf_context_print:       total time =   71307.80 ms /  1002 tokens\n",
      "Llama.generate: 77 prefix-match hit, remaining 1037 prompt tokens to eval\n"
     ]
    },
    {
     "name": "stdout",
     "output_type": "stream",
     "text": [
      "277: ../data/ImageSharp-main/src/ImageSharp/Memory/DiscontiguousBuffers/MemoryGroupEnumerator{T}.cs insert sucsscfull.\n"
     ]
    },
    {
     "name": "stderr",
     "output_type": "stream",
     "text": [
      "llama_perf_context_print:        load time =    5719.40 ms\n",
      "llama_perf_context_print: prompt eval time =       0.00 ms /  1037 tokens (    0.00 ms per token,      inf tokens per second)\n",
      "llama_perf_context_print:        eval time =       0.00 ms /   532 runs   (    0.00 ms per token,      inf tokens per second)\n",
      "llama_perf_context_print:       total time =   96639.09 ms /  1569 tokens\n",
      "Llama.generate: 77 prefix-match hit, remaining 478 prompt tokens to eval\n"
     ]
    },
    {
     "name": "stdout",
     "output_type": "stream",
     "text": [
      "278: ../data/ImageSharp-main/src/ImageSharp/Memory/DiscontiguousBuffers/MemoryGroup{T}.cs insert sucsscfull.\n"
     ]
    },
    {
     "name": "stderr",
     "output_type": "stream",
     "text": [
      "llama_perf_context_print:        load time =    5719.40 ms\n",
      "llama_perf_context_print: prompt eval time =       0.00 ms /   478 tokens (    0.00 ms per token,      inf tokens per second)\n",
      "llama_perf_context_print:        eval time =       0.00 ms /   320 runs   (    0.00 ms per token,      inf tokens per second)\n",
      "llama_perf_context_print:       total time =   51761.90 ms /   798 tokens\n",
      "Llama.generate: 74 prefix-match hit, remaining 488 prompt tokens to eval\n"
     ]
    },
    {
     "name": "stdout",
     "output_type": "stream",
     "text": [
      "279: ../data/ImageSharp-main/src/ImageSharp/Memory/DiscontiguousBuffers/MemoryGroup{T}.Consumed.cs insert sucsscfull.\n"
     ]
    },
    {
     "name": "stderr",
     "output_type": "stream",
     "text": [
      "llama_perf_context_print:        load time =    5719.40 ms\n",
      "llama_perf_context_print: prompt eval time =       0.00 ms /   488 tokens (    0.00 ms per token,      inf tokens per second)\n",
      "llama_perf_context_print:        eval time =       0.00 ms /   506 runs   (    0.00 ms per token,      inf tokens per second)\n",
      "llama_perf_context_print:       total time =   79913.91 ms /   994 tokens\n",
      "Llama.generate: 74 prefix-match hit, remaining 1013 prompt tokens to eval\n"
     ]
    },
    {
     "name": "stdout",
     "output_type": "stream",
     "text": [
      "280: ../data/ImageSharp-main/src/ImageSharp/Memory/DiscontiguousBuffers/IMemoryGroup{T}.cs insert sucsscfull.\n"
     ]
    },
    {
     "name": "stderr",
     "output_type": "stream",
     "text": [
      "llama_perf_context_print:        load time =    5719.40 ms\n",
      "llama_perf_context_print: prompt eval time =       0.00 ms /  1013 tokens (    0.00 ms per token,      inf tokens per second)\n",
      "llama_perf_context_print:        eval time =       0.00 ms /   494 runs   (    0.00 ms per token,      inf tokens per second)\n",
      "llama_perf_context_print:       total time =   90135.51 ms /  1507 tokens\n",
      "Llama.generate: 83 prefix-match hit, remaining 1017 prompt tokens to eval\n"
     ]
    },
    {
     "name": "stdout",
     "output_type": "stream",
     "text": [
      "281: ../data/ImageSharp-main/src/ImageSharp/Memory/DiscontiguousBuffers/MemoryGroupView{T}.cs insert sucsscfull.\n"
     ]
    },
    {
     "name": "stderr",
     "output_type": "stream",
     "text": [
      "llama_perf_context_print:        load time =    5719.40 ms\n",
      "llama_perf_context_print: prompt eval time =       0.00 ms /  1017 tokens (    0.00 ms per token,      inf tokens per second)\n",
      "llama_perf_context_print:        eval time =       0.00 ms /   576 runs   (    0.00 ms per token,      inf tokens per second)\n",
      "llama_perf_context_print:       total time =  105616.49 ms /  1593 tokens\n",
      "Llama.generate: 74 prefix-match hit, remaining 1198 prompt tokens to eval\n"
     ]
    },
    {
     "name": "stdout",
     "output_type": "stream",
     "text": [
      "282: ../data/ImageSharp-main/src/ImageSharp/Memory/DiscontiguousBuffers/MemoryGroup{T}.Owned.cs insert sucsscfull.\n"
     ]
    },
    {
     "name": "stderr",
     "output_type": "stream",
     "text": [
      "llama_perf_context_print:        load time =    5719.40 ms\n",
      "llama_perf_context_print: prompt eval time =       0.00 ms /  1198 tokens (    0.00 ms per token,      inf tokens per second)\n",
      "llama_perf_context_print:        eval time =       0.00 ms /  1027 runs   (    0.00 ms per token,      inf tokens per second)\n",
      "llama_perf_context_print:       total time =  182130.93 ms /  2225 tokens\n",
      "Llama.generate: 51 prefix-match hit, remaining 520 prompt tokens to eval\n"
     ]
    },
    {
     "name": "stdout",
     "output_type": "stream",
     "text": [
      "283: ../data/ImageSharp-main/src/ImageSharp/Memory/DiscontiguousBuffers/MemoryGroupExtensions.cs insert sucsscfull.\n"
     ]
    },
    {
     "name": "stderr",
     "output_type": "stream",
     "text": [
      "llama_perf_context_print:        load time =    5719.40 ms\n",
      "llama_perf_context_print: prompt eval time =       0.00 ms /   520 tokens (    0.00 ms per token,      inf tokens per second)\n",
      "llama_perf_context_print:        eval time =       0.00 ms /   399 runs   (    0.00 ms per token,      inf tokens per second)\n",
      "llama_perf_context_print:       total time =   65158.52 ms /   919 tokens\n",
      "Llama.generate: 75 prefix-match hit, remaining 123 prompt tokens to eval\n"
     ]
    },
    {
     "name": "stdout",
     "output_type": "stream",
     "text": [
      "284: ../data/ImageSharp-main/src/ImageSharp/Memory/DiscontiguousBuffers/MemoryGroupSpanCache.cs insert sucsscfull.\n"
     ]
    },
    {
     "name": "stderr",
     "output_type": "stream",
     "text": [
      "llama_perf_context_print:        load time =    5719.40 ms\n",
      "llama_perf_context_print: prompt eval time =       0.00 ms /   123 tokens (    0.00 ms per token,      inf tokens per second)\n",
      "llama_perf_context_print:        eval time =       0.00 ms /   233 runs   (    0.00 ms per token,      inf tokens per second)\n",
      "llama_perf_context_print:       total time =   32419.24 ms /   356 tokens\n",
      "Llama.generate: 51 prefix-match hit, remaining 1031 prompt tokens to eval\n"
     ]
    },
    {
     "name": "stdout",
     "output_type": "stream",
     "text": [
      "285: ../data/ImageSharp-main/src/ImageSharp/Memory/DiscontiguousBuffers/SpanCacheMode.cs insert sucsscfull.\n"
     ]
    },
    {
     "name": "stderr",
     "output_type": "stream",
     "text": [
      "llama_perf_context_print:        load time =    5719.40 ms\n",
      "llama_perf_context_print: prompt eval time =       0.00 ms /  1031 tokens (    0.00 ms per token,      inf tokens per second)\n",
      "llama_perf_context_print:        eval time =       0.00 ms /   251 runs   (    0.00 ms per token,      inf tokens per second)\n",
      "llama_perf_context_print:       total time =   54639.39 ms /  1282 tokens\n",
      "Llama.generate: 74 prefix-match hit, remaining 293 prompt tokens to eval\n"
     ]
    },
    {
     "name": "stdout",
     "output_type": "stream",
     "text": [
      "286: ../data/ImageSharp-main/src/ImageSharp/IO/BufferedReadStream.cs insert sucsscfull.\n"
     ]
    },
    {
     "name": "stderr",
     "output_type": "stream",
     "text": [
      "llama_perf_context_print:        load time =    5719.40 ms\n",
      "llama_perf_context_print: prompt eval time =       0.00 ms /   293 tokens (    0.00 ms per token,      inf tokens per second)\n",
      "llama_perf_context_print:        eval time =       0.00 ms /   418 runs   (    0.00 ms per token,      inf tokens per second)\n",
      "llama_perf_context_print:       total time =   60081.70 ms /   711 tokens\n",
      "Llama.generate: 74 prefix-match hit, remaining 1018 prompt tokens to eval\n"
     ]
    },
    {
     "name": "stdout",
     "output_type": "stream",
     "text": [
      "287: ../data/ImageSharp-main/src/ImageSharp/IO/LocalFileSystem.cs insert sucsscfull.\n"
     ]
    },
    {
     "name": "stderr",
     "output_type": "stream",
     "text": [
      "llama_perf_context_print:        load time =    5719.40 ms\n",
      "llama_perf_context_print: prompt eval time =       0.00 ms /  1018 tokens (    0.00 ms per token,      inf tokens per second)\n",
      "llama_perf_context_print:        eval time =       0.00 ms /   721 runs   (    0.00 ms per token,      inf tokens per second)\n",
      "llama_perf_context_print:       total time =  127489.45 ms /  1739 tokens\n",
      "Llama.generate: 74 prefix-match hit, remaining 418 prompt tokens to eval\n"
     ]
    },
    {
     "name": "stdout",
     "output_type": "stream",
     "text": [
      "288: ../data/ImageSharp-main/src/ImageSharp/IO/ChunkedMemoryStream.cs insert sucsscfull.\n"
     ]
    },
    {
     "name": "stderr",
     "output_type": "stream",
     "text": [
      "llama_perf_context_print:        load time =    5719.40 ms\n",
      "llama_perf_context_print: prompt eval time =       0.00 ms /   418 tokens (    0.00 ms per token,      inf tokens per second)\n",
      "llama_perf_context_print:        eval time =       0.00 ms /   362 runs   (    0.00 ms per token,      inf tokens per second)\n",
      "llama_perf_context_print:       total time =   55915.60 ms /   780 tokens\n",
      "Llama.generate: 74 prefix-match hit, remaining 1155 prompt tokens to eval\n"
     ]
    },
    {
     "name": "stdout",
     "output_type": "stream",
     "text": [
      "289: ../data/ImageSharp-main/src/ImageSharp/IO/IFileSystem.cs insert sucsscfull.\n"
     ]
    },
    {
     "name": "stderr",
     "output_type": "stream",
     "text": [
      "llama_perf_context_print:        load time =    5719.40 ms\n",
      "llama_perf_context_print: prompt eval time =       0.00 ms /  1155 tokens (    0.00 ms per token,      inf tokens per second)\n",
      "llama_perf_context_print:        eval time =       0.00 ms /   289 runs   (    0.00 ms per token,      inf tokens per second)\n",
      "llama_perf_context_print:       total time =   64156.29 ms /  1444 tokens\n",
      "Llama.generate: 77 prefix-match hit, remaining 1179 prompt tokens to eval\n"
     ]
    },
    {
     "name": "stdout",
     "output_type": "stream",
     "text": [
      "290: ../data/ImageSharp-main/src/ImageSharp/Primitives/Number.cs insert sucsscfull.\n"
     ]
    },
    {
     "name": "stderr",
     "output_type": "stream",
     "text": [
      "llama_perf_context_print:        load time =    5719.40 ms\n",
      "llama_perf_context_print: prompt eval time =       0.00 ms /  1179 tokens (    0.00 ms per token,      inf tokens per second)\n",
      "llama_perf_context_print:        eval time =       0.00 ms /   521 runs   (    0.00 ms per token,      inf tokens per second)\n",
      "llama_perf_context_print:       total time =  100158.42 ms /  1700 tokens\n",
      "Llama.generate: 113 prefix-match hit, remaining 1123 prompt tokens to eval\n"
     ]
    },
    {
     "name": "stdout",
     "output_type": "stream",
     "text": [
      "291: ../data/ImageSharp-main/src/ImageSharp/Primitives/Size.cs insert sucsscfull.\n"
     ]
    },
    {
     "name": "stderr",
     "output_type": "stream",
     "text": [
      "llama_perf_context_print:        load time =    5719.40 ms\n",
      "llama_perf_context_print: prompt eval time =       0.00 ms /  1123 tokens (    0.00 ms per token,      inf tokens per second)\n",
      "llama_perf_context_print:        eval time =       0.00 ms /   550 runs   (    0.00 ms per token,      inf tokens per second)\n",
      "llama_perf_context_print:       total time =  104333.63 ms /  1673 tokens\n",
      "Llama.generate: 112 prefix-match hit, remaining 1161 prompt tokens to eval\n"
     ]
    },
    {
     "name": "stdout",
     "output_type": "stream",
     "text": [
      "292: ../data/ImageSharp-main/src/ImageSharp/Primitives/Rectangle.cs insert sucsscfull.\n"
     ]
    },
    {
     "name": "stderr",
     "output_type": "stream",
     "text": [
      "llama_perf_context_print:        load time =    5719.40 ms\n",
      "llama_perf_context_print: prompt eval time =       0.00 ms /  1161 tokens (    0.00 ms per token,      inf tokens per second)\n",
      "llama_perf_context_print:        eval time =       0.00 ms /   483 runs   (    0.00 ms per token,      inf tokens per second)\n",
      "llama_perf_context_print:       total time =   91163.33 ms /  1644 tokens\n",
      "Llama.generate: 112 prefix-match hit, remaining 1138 prompt tokens to eval\n"
     ]
    },
    {
     "name": "stdout",
     "output_type": "stream",
     "text": [
      "293: ../data/ImageSharp-main/src/ImageSharp/Primitives/PointF.cs insert sucsscfull.\n"
     ]
    },
    {
     "name": "stderr",
     "output_type": "stream",
     "text": [
      "llama_perf_context_print:        load time =    5719.40 ms\n",
      "llama_perf_context_print: prompt eval time =       0.00 ms /  1138 tokens (    0.00 ms per token,      inf tokens per second)\n",
      "llama_perf_context_print:        eval time =       0.00 ms /   535 runs   (    0.00 ms per token,      inf tokens per second)\n",
      "llama_perf_context_print:       total time =  101370.04 ms /  1673 tokens\n",
      "Llama.generate: 77 prefix-match hit, remaining 1157 prompt tokens to eval\n"
     ]
    },
    {
     "name": "stdout",
     "output_type": "stream",
     "text": [
      "294: ../data/ImageSharp-main/src/ImageSharp/Primitives/RectangleF.cs insert sucsscfull.\n"
     ]
    },
    {
     "name": "stderr",
     "output_type": "stream",
     "text": [
      "llama_perf_context_print:        load time =    5719.40 ms\n",
      "llama_perf_context_print: prompt eval time =       0.00 ms /  1157 tokens (    0.00 ms per token,      inf tokens per second)\n",
      "llama_perf_context_print:        eval time =       0.00 ms /   861 runs   (    0.00 ms per token,      inf tokens per second)\n",
      "llama_perf_context_print:       total time =  153243.87 ms /  2018 tokens\n",
      "Llama.generate: 77 prefix-match hit, remaining 1124 prompt tokens to eval\n"
     ]
    },
    {
     "name": "stdout",
     "output_type": "stream",
     "text": [
      "295: ../data/ImageSharp-main/src/ImageSharp/Primitives/Matrix3x2Extensions.cs insert sucsscfull.\n"
     ]
    },
    {
     "name": "stderr",
     "output_type": "stream",
     "text": [
      "llama_perf_context_print:        load time =    5719.40 ms\n",
      "llama_perf_context_print: prompt eval time =       0.00 ms /  1124 tokens (    0.00 ms per token,      inf tokens per second)\n",
      "llama_perf_context_print:        eval time =       0.00 ms /  1824 runs   (    0.00 ms per token,      inf tokens per second)\n",
      "llama_perf_context_print:       total time =  325332.30 ms /  2948 tokens\n",
      "Llama.generate: 81 prefix-match hit, remaining 1107 prompt tokens to eval\n"
     ]
    },
    {
     "name": "stdout",
     "output_type": "stream",
     "text": [
      "296: ../data/ImageSharp-main/src/ImageSharp/Primitives/LongRational.cs insert sucsscfull.\n"
     ]
    },
    {
     "name": "stderr",
     "output_type": "stream",
     "text": [
      "llama_perf_context_print:        load time =    5719.40 ms\n",
      "llama_perf_context_print: prompt eval time =       0.00 ms /  1107 tokens (    0.00 ms per token,      inf tokens per second)\n",
      "llama_perf_context_print:        eval time =       0.00 ms /  1083 runs   (    0.00 ms per token,      inf tokens per second)\n",
      "llama_perf_context_print:       total time =  190737.57 ms /  2190 tokens\n",
      "Llama.generate: 74 prefix-match hit, remaining 1259 prompt tokens to eval\n"
     ]
    },
    {
     "name": "stdout",
     "output_type": "stream",
     "text": [
      "297: ../data/ImageSharp-main/src/ImageSharp/Primitives/Rational.cs insert sucsscfull.\n"
     ]
    },
    {
     "name": "stderr",
     "output_type": "stream",
     "text": [
      "llama_perf_context_print:        load time =    5719.40 ms\n",
      "llama_perf_context_print: prompt eval time =       0.00 ms /  1259 tokens (    0.00 ms per token,      inf tokens per second)\n",
      "llama_perf_context_print:        eval time =       0.00 ms /   695 runs   (    0.00 ms per token,      inf tokens per second)\n",
      "llama_perf_context_print:       total time =  129752.91 ms /  1954 tokens\n",
      "Llama.generate: 74 prefix-match hit, remaining 1192 prompt tokens to eval\n"
     ]
    },
    {
     "name": "stdout",
     "output_type": "stream",
     "text": [
      "298: ../data/ImageSharp-main/src/ImageSharp/Primitives/ColorMatrix.Impl.cs insert sucsscfull.\n"
     ]
    },
    {
     "name": "stderr",
     "output_type": "stream",
     "text": [
      "llama_perf_context_print:        load time =    5719.40 ms\n",
      "llama_perf_context_print: prompt eval time =       0.00 ms /  1192 tokens (    0.00 ms per token,      inf tokens per second)\n",
      "llama_perf_context_print:        eval time =       0.00 ms /  6957 runs   (    0.00 ms per token,      inf tokens per second)\n",
      "llama_perf_context_print:       total time = 1618440.03 ms /  8149 tokens\n",
      "Llama.generate: 77 prefix-match hit, remaining 1218 prompt tokens to eval\n"
     ]
    },
    {
     "name": "stdout",
     "output_type": "stream",
     "text": [
      "299: ../data/ImageSharp-main/src/ImageSharp/Primitives/SizeF.cs insert sucsscfull.\n"
     ]
    },
    {
     "name": "stderr",
     "output_type": "stream",
     "text": [
      "llama_perf_context_print:        load time =    5719.40 ms\n",
      "llama_perf_context_print: prompt eval time =       0.00 ms /  1218 tokens (    0.00 ms per token,      inf tokens per second)\n",
      "llama_perf_context_print:        eval time =       0.00 ms /   526 runs   (    0.00 ms per token,      inf tokens per second)\n",
      "llama_perf_context_print:       total time =  100892.71 ms /  1744 tokens\n",
      "Llama.generate: 51 prefix-match hit, remaining 1101 prompt tokens to eval\n"
     ]
    },
    {
     "name": "stdout",
     "output_type": "stream",
     "text": [
      "300: ../data/ImageSharp-main/src/ImageSharp/Primitives/DenseMatrix{T}.cs insert sucsscfull.\n"
     ]
    },
    {
     "name": "stderr",
     "output_type": "stream",
     "text": [
      "llama_perf_context_print:        load time =    5719.40 ms\n",
      "llama_perf_context_print: prompt eval time =       0.00 ms /  1101 tokens (    0.00 ms per token,      inf tokens per second)\n",
      "llama_perf_context_print:        eval time =       0.00 ms /   515 runs   (    0.00 ms per token,      inf tokens per second)\n",
      "llama_perf_context_print:       total time =   95254.36 ms /  1616 tokens\n",
      "Llama.generate: 51 prefix-match hit, remaining 1212 prompt tokens to eval\n"
     ]
    },
    {
     "name": "stdout",
     "output_type": "stream",
     "text": [
      "301: ../data/ImageSharp-main/src/ImageSharp/Primitives/ValueSize.cs insert sucsscfull.\n"
     ]
    },
    {
     "name": "stderr",
     "output_type": "stream",
     "text": [
      "llama_perf_context_print:        load time =    5719.40 ms\n",
      "llama_perf_context_print: prompt eval time =       0.00 ms /  1212 tokens (    0.00 ms per token,      inf tokens per second)\n",
      "llama_perf_context_print:        eval time =       0.00 ms /  1417 runs   (    0.00 ms per token,      inf tokens per second)\n",
      "llama_perf_context_print:       total time =  250639.58 ms /  2629 tokens\n",
      "Llama.generate: 74 prefix-match hit, remaining 1378 prompt tokens to eval\n"
     ]
    },
    {
     "name": "stdout",
     "output_type": "stream",
     "text": [
      "302: ../data/ImageSharp-main/src/ImageSharp/Primitives/Point.cs insert sucsscfull.\n"
     ]
    },
    {
     "name": "stderr",
     "output_type": "stream",
     "text": [
      "llama_perf_context_print:        load time =    5719.40 ms\n",
      "llama_perf_context_print: prompt eval time =       0.00 ms /  1378 tokens (    0.00 ms per token,      inf tokens per second)\n",
      "llama_perf_context_print:        eval time =       0.00 ms /   261 runs   (    0.00 ms per token,      inf tokens per second)\n",
      "llama_perf_context_print:       total time =   63015.08 ms /  1639 tokens\n",
      "Llama.generate: 74 prefix-match hit, remaining 1111 prompt tokens to eval\n"
     ]
    },
    {
     "name": "stdout",
     "output_type": "stream",
     "text": [
      "303: ../data/ImageSharp-main/src/ImageSharp/Primitives/ColorMatrix.cs insert sucsscfull.\n"
     ]
    },
    {
     "name": "stderr",
     "output_type": "stream",
     "text": [
      "llama_perf_context_print:        load time =    5719.40 ms\n",
      "llama_perf_context_print: prompt eval time =       0.00 ms /  1111 tokens (    0.00 ms per token,      inf tokens per second)\n",
      "llama_perf_context_print:        eval time =       0.00 ms /   364 runs   (    0.00 ms per token,      inf tokens per second)\n",
      "llama_perf_context_print:       total time =   73894.20 ms /  1475 tokens\n",
      "Llama.generate: 77 prefix-match hit, remaining 571 prompt tokens to eval\n"
     ]
    },
    {
     "name": "stdout",
     "output_type": "stream",
     "text": [
      "304: ../data/ImageSharp-main/src/ImageSharp/Primitives/SignedRational.cs insert sucsscfull.\n"
     ]
    },
    {
     "name": "stderr",
     "output_type": "stream",
     "text": [
      "llama_perf_context_print:        load time =    5719.40 ms\n",
      "llama_perf_context_print: prompt eval time =       0.00 ms /   571 tokens (    0.00 ms per token,      inf tokens per second)\n",
      "llama_perf_context_print:        eval time =       0.00 ms /   188 runs   (    0.00 ms per token,      inf tokens per second)\n",
      "llama_perf_context_print:       total time =   35900.75 ms /   759 tokens\n",
      "Llama.generate: 106 prefix-match hit, remaining 1058 prompt tokens to eval\n"
     ]
    },
    {
     "name": "stdout",
     "output_type": "stream",
     "text": [
      "305: ../data/ImageSharp-main/src/ImageSharp/Primitives/ComplexVector4.cs insert sucsscfull.\n"
     ]
    },
    {
     "name": "stderr",
     "output_type": "stream",
     "text": [
      "llama_perf_context_print:        load time =    5719.40 ms\n",
      "llama_perf_context_print: prompt eval time =       0.00 ms /  1058 tokens (    0.00 ms per token,      inf tokens per second)\n",
      "llama_perf_context_print:        eval time =       0.00 ms /   482 runs   (    0.00 ms per token,      inf tokens per second)\n",
      "llama_perf_context_print:       total time =   89637.58 ms /  1540 tokens\n",
      "Llama.generate: 51 prefix-match hit, remaining 251 prompt tokens to eval\n"
     ]
    },
    {
     "name": "stdout",
     "output_type": "stream",
     "text": [
      "306: ../data/ImageSharp-main/src/ImageSharp/Primitives/Complex64.cs insert sucsscfull.\n"
     ]
    },
    {
     "name": "stderr",
     "output_type": "stream",
     "text": [
      "llama_perf_context_print:        load time =    5719.40 ms\n",
      "llama_perf_context_print: prompt eval time =       0.00 ms /   251 tokens (    0.00 ms per token,      inf tokens per second)\n",
      "llama_perf_context_print:        eval time =       0.00 ms /   223 runs   (    0.00 ms per token,      inf tokens per second)\n",
      "llama_perf_context_print:       total time =   33373.21 ms /   474 tokens\n",
      "Llama.generate: 51 prefix-match hit, remaining 702 prompt tokens to eval\n"
     ]
    },
    {
     "name": "stdout",
     "output_type": "stream",
     "text": [
      "307: ../data/ImageSharp-main/src/ImageSharp/Formats/SegmentIntegrityHandling.cs insert sucsscfull.\n"
     ]
    },
    {
     "name": "stderr",
     "output_type": "stream",
     "text": [
      "llama_perf_context_print:        load time =    5719.40 ms\n",
      "llama_perf_context_print: prompt eval time =       0.00 ms /   702 tokens (    0.00 ms per token,      inf tokens per second)\n",
      "llama_perf_context_print:        eval time =       0.00 ms /   420 runs   (    0.00 ms per token,      inf tokens per second)\n",
      "llama_perf_context_print:       total time =   71327.77 ms /  1122 tokens\n",
      "Llama.generate: 82 prefix-match hit, remaining 991 prompt tokens to eval\n"
     ]
    },
    {
     "name": "stdout",
     "output_type": "stream",
     "text": [
      "308: ../data/ImageSharp-main/src/ImageSharp/Formats/FormatConnectingMetadata.cs insert sucsscfull.\n"
     ]
    },
    {
     "name": "stderr",
     "output_type": "stream",
     "text": [
      "llama_perf_context_print:        load time =    5719.40 ms\n",
      "llama_perf_context_print: prompt eval time =       0.00 ms /   991 tokens (    0.00 ms per token,      inf tokens per second)\n",
      "llama_perf_context_print:        eval time =       0.00 ms /   380 runs   (    0.00 ms per token,      inf tokens per second)\n",
      "llama_perf_context_print:       total time =   71887.43 ms /  1371 tokens\n",
      "Llama.generate: 82 prefix-match hit, remaining 1027 prompt tokens to eval\n"
     ]
    },
    {
     "name": "stdout",
     "output_type": "stream",
     "text": [
      "309: ../data/ImageSharp-main/src/ImageSharp/Formats/ImageDecoderCore.cs insert sucsscfull.\n"
     ]
    },
    {
     "name": "stderr",
     "output_type": "stream",
     "text": [
      "llama_perf_context_print:        load time =    5719.40 ms\n",
      "llama_perf_context_print: prompt eval time =       0.00 ms /  1027 tokens (    0.00 ms per token,      inf tokens per second)\n",
      "llama_perf_context_print:        eval time =       0.00 ms /  1042 runs   (    0.00 ms per token,      inf tokens per second)\n",
      "llama_perf_context_print:       total time =  180166.31 ms /  2069 tokens\n",
      "Llama.generate: 74 prefix-match hit, remaining 431 prompt tokens to eval\n"
     ]
    },
    {
     "name": "stdout",
     "output_type": "stream",
     "text": [
      "310: ../data/ImageSharp-main/src/ImageSharp/Formats/SpecializedImageDecoder{T}.cs insert sucsscfull.\n"
     ]
    },
    {
     "name": "stderr",
     "output_type": "stream",
     "text": [
      "llama_perf_context_print:        load time =    5719.40 ms\n",
      "llama_perf_context_print: prompt eval time =       0.00 ms /   431 tokens (    0.00 ms per token,      inf tokens per second)\n",
      "llama_perf_context_print:        eval time =       0.00 ms /   659 runs   (    0.00 ms per token,      inf tokens per second)\n",
      "llama_perf_context_print:       total time =   98350.44 ms /  1090 tokens\n",
      "Llama.generate: 93 prefix-match hit, remaining 115 prompt tokens to eval\n"
     ]
    },
    {
     "name": "stdout",
     "output_type": "stream",
     "text": [
      "311: ../data/ImageSharp-main/src/ImageSharp/Formats/FrameDisposalMode.cs insert sucsscfull.\n"
     ]
    },
    {
     "name": "stderr",
     "output_type": "stream",
     "text": [
      "llama_perf_context_print:        load time =    5719.40 ms\n",
      "llama_perf_context_print: prompt eval time =       0.00 ms /   115 tokens (    0.00 ms per token,      inf tokens per second)\n",
      "llama_perf_context_print:        eval time =       0.00 ms /   238 runs   (    0.00 ms per token,      inf tokens per second)\n",
      "llama_perf_context_print:       total time =   33481.15 ms /   353 tokens\n",
      "Llama.generate: 74 prefix-match hit, remaining 537 prompt tokens to eval\n"
     ]
    },
    {
     "name": "stdout",
     "output_type": "stream",
     "text": [
      "312: ../data/ImageSharp-main/src/ImageSharp/Formats/ISpecializedDecoderOptions.cs insert sucsscfull.\n"
     ]
    },
    {
     "name": "stderr",
     "output_type": "stream",
     "text": [
      "llama_perf_context_print:        load time =    5719.40 ms\n",
      "llama_perf_context_print: prompt eval time =       0.00 ms /   537 tokens (    0.00 ms per token,      inf tokens per second)\n",
      "llama_perf_context_print:        eval time =       0.00 ms /   224 runs   (    0.00 ms per token,      inf tokens per second)\n",
      "llama_perf_context_print:       total time =   40502.92 ms /   761 tokens\n",
      "Llama.generate: 105 prefix-match hit, remaining 995 prompt tokens to eval\n"
     ]
    },
    {
     "name": "stdout",
     "output_type": "stream",
     "text": [
      "313: ../data/ImageSharp-main/src/ImageSharp/Formats/IFormatMetadata.cs insert sucsscfull.\n"
     ]
    },
    {
     "name": "stderr",
     "output_type": "stream",
     "text": [
      "llama_perf_context_print:        load time =    5719.40 ms\n",
      "llama_perf_context_print: prompt eval time =       0.00 ms /   995 tokens (    0.00 ms per token,      inf tokens per second)\n",
      "llama_perf_context_print:        eval time =       0.00 ms /   860 runs   (    0.00 ms per token,      inf tokens per second)\n",
      "llama_perf_context_print:       total time =  149392.38 ms /  1855 tokens\n",
      "Llama.generate: 74 prefix-match hit, remaining 168 prompt tokens to eval\n"
     ]
    },
    {
     "name": "stdout",
     "output_type": "stream",
     "text": [
      "314: ../data/ImageSharp-main/src/ImageSharp/Formats/IImageDecoder.cs insert sucsscfull.\n"
     ]
    },
    {
     "name": "stderr",
     "output_type": "stream",
     "text": [
      "llama_perf_context_print:        load time =    5719.40 ms\n",
      "llama_perf_context_print: prompt eval time =       0.00 ms /   168 tokens (    0.00 ms per token,      inf tokens per second)\n",
      "llama_perf_context_print:        eval time =       0.00 ms /   195 runs   (    0.00 ms per token,      inf tokens per second)\n",
      "llama_perf_context_print:       total time =   28574.30 ms /   363 tokens\n",
      "Llama.generate: 92 prefix-match hit, remaining 155 prompt tokens to eval\n"
     ]
    },
    {
     "name": "stdout",
     "output_type": "stream",
     "text": [
      "315: ../data/ImageSharp-main/src/ImageSharp/Formats/FrameColorTableMode.cs insert sucsscfull.\n"
     ]
    },
    {
     "name": "stderr",
     "output_type": "stream",
     "text": [
      "llama_perf_context_print:        load time =    5719.40 ms\n",
      "llama_perf_context_print: prompt eval time =       0.00 ms /   155 tokens (    0.00 ms per token,      inf tokens per second)\n",
      "llama_perf_context_print:        eval time =       0.00 ms /   295 runs   (    0.00 ms per token,      inf tokens per second)\n",
      "llama_perf_context_print:       total time =   42095.33 ms /   450 tokens\n",
      "Llama.generate: 74 prefix-match hit, remaining 920 prompt tokens to eval\n"
     ]
    },
    {
     "name": "stdout",
     "output_type": "stream",
     "text": [
      "316: ../data/ImageSharp-main/src/ImageSharp/Formats/IImageFormatConfigurationModule.cs insert sucsscfull.\n"
     ]
    },
    {
     "name": "stderr",
     "output_type": "stream",
     "text": [
      "llama_perf_context_print:        load time =    5719.40 ms\n",
      "llama_perf_context_print: prompt eval time =       0.00 ms /   920 tokens (    0.00 ms per token,      inf tokens per second)\n",
      "llama_perf_context_print:        eval time =       0.00 ms /   467 runs   (    0.00 ms per token,      inf tokens per second)\n",
      "llama_perf_context_print:       total time =   84167.33 ms /  1387 tokens\n",
      "Llama.generate: 75 prefix-match hit, remaining 1093 prompt tokens to eval\n"
     ]
    },
    {
     "name": "stdout",
     "output_type": "stream",
     "text": [
      "317: ../data/ImageSharp-main/src/ImageSharp/Formats/ImageEncoder.cs insert sucsscfull.\n"
     ]
    },
    {
     "name": "stderr",
     "output_type": "stream",
     "text": [
      "llama_perf_context_print:        load time =    5719.40 ms\n",
      "llama_perf_context_print: prompt eval time =       0.00 ms /  1093 tokens (    0.00 ms per token,      inf tokens per second)\n",
      "llama_perf_context_print:        eval time =       0.00 ms /  1392 runs   (    0.00 ms per token,      inf tokens per second)\n",
      "llama_perf_context_print:       total time =  243973.36 ms /  2485 tokens\n",
      "Llama.generate: 74 prefix-match hit, remaining 229 prompt tokens to eval\n"
     ]
    },
    {
     "name": "stdout",
     "output_type": "stream",
     "text": [
      "318: ../data/ImageSharp-main/src/ImageSharp/Formats/ImageFormatManager.cs insert sucsscfull.\n"
     ]
    },
    {
     "name": "stderr",
     "output_type": "stream",
     "text": [
      "llama_perf_context_print:        load time =    5719.40 ms\n",
      "llama_perf_context_print: prompt eval time =       0.00 ms /   229 tokens (    0.00 ms per token,      inf tokens per second)\n",
      "llama_perf_context_print:        eval time =       0.00 ms /   327 runs   (    0.00 ms per token,      inf tokens per second)\n",
      "llama_perf_context_print:       total time =   47037.20 ms /   556 tokens\n",
      "Llama.generate: 74 prefix-match hit, remaining 449 prompt tokens to eval\n"
     ]
    },
    {
     "name": "stdout",
     "output_type": "stream",
     "text": [
      "319: ../data/ImageSharp-main/src/ImageSharp/Formats/FrameBlendMode.cs insert sucsscfull.\n"
     ]
    },
    {
     "name": "stderr",
     "output_type": "stream",
     "text": [
      "llama_perf_context_print:        load time =    5719.40 ms\n",
      "llama_perf_context_print: prompt eval time =       0.00 ms /   449 tokens (    0.00 ms per token,      inf tokens per second)\n",
      "llama_perf_context_print:        eval time =       0.00 ms /   405 runs   (    0.00 ms per token,      inf tokens per second)\n",
      "llama_perf_context_print:       total time =   63964.41 ms /   854 tokens\n",
      "Llama.generate: 74 prefix-match hit, remaining 170 prompt tokens to eval\n"
     ]
    },
    {
     "name": "stdout",
     "output_type": "stream",
     "text": [
      "320: ../data/ImageSharp-main/src/ImageSharp/Formats/FormatConnectingFrameMetadata.cs insert sucsscfull.\n"
     ]
    },
    {
     "name": "stderr",
     "output_type": "stream",
     "text": [
      "llama_perf_context_print:        load time =    5719.40 ms\n",
      "llama_perf_context_print: prompt eval time =       0.00 ms /   170 tokens (    0.00 ms per token,      inf tokens per second)\n",
      "llama_perf_context_print:        eval time =       0.00 ms /   369 runs   (    0.00 ms per token,      inf tokens per second)\n",
      "llama_perf_context_print:       total time =   51758.00 ms /   539 tokens\n",
      "Llama.generate: 74 prefix-match hit, remaining 807 prompt tokens to eval\n"
     ]
    },
    {
     "name": "stdout",
     "output_type": "stream",
     "text": [
      "321: ../data/ImageSharp-main/src/ImageSharp/Formats/EncodingType.cs insert sucsscfull.\n"
     ]
    },
    {
     "name": "stderr",
     "output_type": "stream",
     "text": [
      "llama_perf_context_print:        load time =    5719.40 ms\n",
      "llama_perf_context_print: prompt eval time =       0.00 ms /   807 tokens (    0.00 ms per token,      inf tokens per second)\n",
      "llama_perf_context_print:        eval time =       0.00 ms /   448 runs   (    0.00 ms per token,      inf tokens per second)\n",
      "llama_perf_context_print:       total time =   79314.84 ms /  1255 tokens\n",
      "Llama.generate: 74 prefix-match hit, remaining 537 prompt tokens to eval\n"
     ]
    },
    {
     "name": "stdout",
     "output_type": "stream",
     "text": [
      "322: ../data/ImageSharp-main/src/ImageSharp/Formats/ISpecializedImageDecoder{T}.cs insert sucsscfull.\n"
     ]
    },
    {
     "name": "stderr",
     "output_type": "stream",
     "text": [
      "llama_perf_context_print:        load time =    5719.40 ms\n",
      "llama_perf_context_print: prompt eval time =       0.00 ms /   537 tokens (    0.00 ms per token,      inf tokens per second)\n",
      "llama_perf_context_print:        eval time =       0.00 ms /   282 runs   (    0.00 ms per token,      inf tokens per second)\n",
      "llama_perf_context_print:       total time =   48165.87 ms /   819 tokens\n",
      "Llama.generate: 74 prefix-match hit, remaining 229 prompt tokens to eval\n"
     ]
    },
    {
     "name": "stdout",
     "output_type": "stream",
     "text": [
      "323: ../data/ImageSharp-main/src/ImageSharp/Formats/IImageFormat.cs insert sucsscfull.\n"
     ]
    },
    {
     "name": "stderr",
     "output_type": "stream",
     "text": [
      "llama_perf_context_print:        load time =    5719.40 ms\n",
      "llama_perf_context_print: prompt eval time =       0.00 ms /   229 tokens (    0.00 ms per token,      inf tokens per second)\n",
      "llama_perf_context_print:        eval time =       0.00 ms /   273 runs   (    0.00 ms per token,      inf tokens per second)\n",
      "llama_perf_context_print:       total time =   40855.10 ms /   502 tokens\n",
      "Llama.generate: 82 prefix-match hit, remaining 465 prompt tokens to eval\n"
     ]
    },
    {
     "name": "stdout",
     "output_type": "stream",
     "text": [
      "324: ../data/ImageSharp-main/src/ImageSharp/Formats/QuantizingImageEncoder.cs insert sucsscfull.\n"
     ]
    },
    {
     "name": "stderr",
     "output_type": "stream",
     "text": [
      "llama_perf_context_print:        load time =    5719.40 ms\n",
      "llama_perf_context_print: prompt eval time =       0.00 ms /   465 tokens (    0.00 ms per token,      inf tokens per second)\n",
      "llama_perf_context_print:        eval time =       0.00 ms /   367 runs   (    0.00 ms per token,      inf tokens per second)\n",
      "llama_perf_context_print:       total time =   57965.51 ms /   832 tokens\n",
      "Llama.generate: 75 prefix-match hit, remaining 1177 prompt tokens to eval\n"
     ]
    },
    {
     "name": "stdout",
     "output_type": "stream",
     "text": [
      "325: ../data/ImageSharp-main/src/ImageSharp/Formats/IImageEncoder.cs insert sucsscfull.\n"
     ]
    },
    {
     "name": "stderr",
     "output_type": "stream",
     "text": [
      "llama_perf_context_print:        load time =    5719.40 ms\n",
      "llama_perf_context_print: prompt eval time =       0.00 ms /  1177 tokens (    0.00 ms per token,      inf tokens per second)\n",
      "llama_perf_context_print:        eval time =       0.00 ms /   411 runs   (    0.00 ms per token,      inf tokens per second)\n",
      "llama_perf_context_print:       total time =   82104.97 ms /  1588 tokens\n",
      "Llama.generate: 75 prefix-match hit, remaining 1041 prompt tokens to eval\n"
     ]
    },
    {
     "name": "stdout",
     "output_type": "stream",
     "text": [
      "326: ../data/ImageSharp-main/src/ImageSharp/Formats/AnimationUtilities.cs insert sucsscfull.\n"
     ]
    },
    {
     "name": "stderr",
     "output_type": "stream",
     "text": [
      "llama_perf_context_print:        load time =    5719.40 ms\n",
      "llama_perf_context_print: prompt eval time =       0.00 ms /  1041 tokens (    0.00 ms per token,      inf tokens per second)\n",
      "llama_perf_context_print:        eval time =       0.00 ms /  1479 runs   (    0.00 ms per token,      inf tokens per second)\n",
      "llama_perf_context_print:       total time =  255112.27 ms /  2520 tokens\n",
      "Llama.generate: 82 prefix-match hit, remaining 662 prompt tokens to eval\n"
     ]
    },
    {
     "name": "stdout",
     "output_type": "stream",
     "text": [
      "327: ../data/ImageSharp-main/src/ImageSharp/Formats/ImageDecoder.cs insert sucsscfull.\n"
     ]
    },
    {
     "name": "stderr",
     "output_type": "stream",
     "text": [
      "llama_perf_context_print:        load time =    5719.40 ms\n",
      "llama_perf_context_print: prompt eval time =       0.00 ms /   662 tokens (    0.00 ms per token,      inf tokens per second)\n",
      "llama_perf_context_print:        eval time =       0.00 ms /   195 runs   (    0.00 ms per token,      inf tokens per second)\n",
      "llama_perf_context_print:       total time =   39087.13 ms /   857 tokens\n",
      "Llama.generate: 82 prefix-match hit, remaining 518 prompt tokens to eval\n"
     ]
    },
    {
     "name": "stdout",
     "output_type": "stream",
     "text": [
      "328: ../data/ImageSharp-main/src/ImageSharp/Formats/DecoderOptions.cs insert sucsscfull.\n"
     ]
    },
    {
     "name": "stderr",
     "output_type": "stream",
     "text": [
      "llama_perf_context_print:        load time =    5719.40 ms\n",
      "llama_perf_context_print: prompt eval time =       0.00 ms /   518 tokens (    0.00 ms per token,      inf tokens per second)\n",
      "llama_perf_context_print:        eval time =       0.00 ms /   262 runs   (    0.00 ms per token,      inf tokens per second)\n",
      "llama_perf_context_print:       total time =   45154.41 ms /   780 tokens\n",
      "Llama.generate: 51 prefix-match hit, remaining 291 prompt tokens to eval\n"
     ]
    },
    {
     "name": "stdout",
     "output_type": "stream",
     "text": [
      "329: ../data/ImageSharp-main/src/ImageSharp/Formats/IFormatFrameMetadata.cs insert sucsscfull.\n"
     ]
    },
    {
     "name": "stderr",
     "output_type": "stream",
     "text": [
      "llama_perf_context_print:        load time =    5719.40 ms\n",
      "llama_perf_context_print: prompt eval time =       0.00 ms /   291 tokens (    0.00 ms per token,      inf tokens per second)\n",
      "llama_perf_context_print:        eval time =       0.00 ms /   505 runs   (    0.00 ms per token,      inf tokens per second)\n",
      "llama_perf_context_print:       total time =   73337.05 ms /   796 tokens\n",
      "Llama.generate: 51 prefix-match hit, remaining 233 prompt tokens to eval\n"
     ]
    },
    {
     "name": "stdout",
     "output_type": "stream",
     "text": [
      "330: ../data/ImageSharp-main/src/ImageSharp/Formats/IImageFormatDetector.cs insert sucsscfull.\n"
     ]
    },
    {
     "name": "stderr",
     "output_type": "stream",
     "text": [
      "llama_perf_context_print:        load time =    5719.40 ms\n",
      "llama_perf_context_print: prompt eval time =       0.00 ms /   233 tokens (    0.00 ms per token,      inf tokens per second)\n",
      "llama_perf_context_print:        eval time =       0.00 ms /   285 runs   (    0.00 ms per token,      inf tokens per second)\n",
      "llama_perf_context_print:       total time =   41245.54 ms /   518 tokens\n",
      "Llama.generate: 84 prefix-match hit, remaining 342 prompt tokens to eval\n"
     ]
    },
    {
     "name": "stdout",
     "output_type": "stream",
     "text": [
      "331: ../data/ImageSharp-main/src/ImageSharp/Formats/Cur/CurConfigurationModule.cs insert sucsscfull.\n"
     ]
    },
    {
     "name": "stderr",
     "output_type": "stream",
     "text": [
      "llama_perf_context_print:        load time =    5719.40 ms\n",
      "llama_perf_context_print: prompt eval time =       0.00 ms /   342 tokens (    0.00 ms per token,      inf tokens per second)\n",
      "llama_perf_context_print:        eval time =       0.00 ms /   432 runs   (    0.00 ms per token,      inf tokens per second)\n",
      "llama_perf_context_print:       total time =   65107.05 ms /   774 tokens\n",
      "Llama.generate: 84 prefix-match hit, remaining 119 prompt tokens to eval\n"
     ]
    },
    {
     "name": "stdout",
     "output_type": "stream",
     "text": [
      "332: ../data/ImageSharp-main/src/ImageSharp/Formats/Cur/CurDecoderCore.cs insert sucsscfull.\n"
     ]
    },
    {
     "name": "stderr",
     "output_type": "stream",
     "text": [
      "llama_perf_context_print:        load time =    5719.40 ms\n",
      "llama_perf_context_print: prompt eval time =       0.00 ms /   119 tokens (    0.00 ms per token,      inf tokens per second)\n",
      "llama_perf_context_print:        eval time =       0.00 ms /   321 runs   (    0.00 ms per token,      inf tokens per second)\n",
      "llama_perf_context_print:       total time =   44868.74 ms /   440 tokens\n",
      "Llama.generate: 74 prefix-match hit, remaining 294 prompt tokens to eval\n"
     ]
    },
    {
     "name": "stdout",
     "output_type": "stream",
     "text": [
      "333: ../data/ImageSharp-main/src/ImageSharp/Formats/Cur/CurEncoderCore.cs insert sucsscfull.\n"
     ]
    },
    {
     "name": "stderr",
     "output_type": "stream",
     "text": [
      "llama_perf_context_print:        load time =    5719.40 ms\n",
      "llama_perf_context_print: prompt eval time =       0.00 ms /   294 tokens (    0.00 ms per token,      inf tokens per second)\n",
      "llama_perf_context_print:        eval time =       0.00 ms /   454 runs   (    0.00 ms per token,      inf tokens per second)\n",
      "llama_perf_context_print:       total time =   66288.95 ms /   748 tokens\n",
      "Llama.generate: 74 prefix-match hit, remaining 1140 prompt tokens to eval\n"
     ]
    },
    {
     "name": "stdout",
     "output_type": "stream",
     "text": [
      "334: ../data/ImageSharp-main/src/ImageSharp/Formats/Cur/CurFormat.cs insert sucsscfull.\n"
     ]
    },
    {
     "name": "stderr",
     "output_type": "stream",
     "text": [
      "llama_perf_context_print:        load time =    5719.40 ms\n",
      "llama_perf_context_print: prompt eval time =       0.00 ms /  1140 tokens (    0.00 ms per token,      inf tokens per second)\n",
      "llama_perf_context_print:        eval time =       0.00 ms /   416 runs   (    0.00 ms per token,      inf tokens per second)\n",
      "llama_perf_context_print:       total time =   82296.15 ms /  1556 tokens\n",
      "Llama.generate: 82 prefix-match hit, remaining 394 prompt tokens to eval\n"
     ]
    },
    {
     "name": "stdout",
     "output_type": "stream",
     "text": [
      "335: ../data/ImageSharp-main/src/ImageSharp/Formats/Cur/CurMetadata.cs insert sucsscfull.\n"
     ]
    },
    {
     "name": "stderr",
     "output_type": "stream",
     "text": [
      "llama_perf_context_print:        load time =    5719.40 ms\n",
      "llama_perf_context_print: prompt eval time =       0.00 ms /   394 tokens (    0.00 ms per token,      inf tokens per second)\n",
      "llama_perf_context_print:        eval time =       0.00 ms /   349 runs   (    0.00 ms per token,      inf tokens per second)\n",
      "llama_perf_context_print:       total time =   54487.85 ms /   743 tokens\n",
      "Llama.generate: 74 prefix-match hit, remaining 330 prompt tokens to eval\n"
     ]
    },
    {
     "name": "stdout",
     "output_type": "stream",
     "text": [
      "336: ../data/ImageSharp-main/src/ImageSharp/Formats/Cur/CurDecoder.cs insert sucsscfull.\n"
     ]
    },
    {
     "name": "stderr",
     "output_type": "stream",
     "text": [
      "llama_perf_context_print:        load time =    5719.40 ms\n",
      "llama_perf_context_print: prompt eval time =       0.00 ms /   330 tokens (    0.00 ms per token,      inf tokens per second)\n",
      "llama_perf_context_print:        eval time =       0.00 ms /   500 runs   (    0.00 ms per token,      inf tokens per second)\n",
      "llama_perf_context_print:       total time =   73742.97 ms /   830 tokens\n",
      "Llama.generate: 74 prefix-match hit, remaining 1180 prompt tokens to eval\n"
     ]
    },
    {
     "name": "stdout",
     "output_type": "stream",
     "text": [
      "337: ../data/ImageSharp-main/src/ImageSharp/Formats/Cur/CurConstants.cs insert sucsscfull.\n"
     ]
    },
    {
     "name": "stderr",
     "output_type": "stream",
     "text": [
      "llama_perf_context_print:        load time =    5719.40 ms\n",
      "llama_perf_context_print: prompt eval time =       0.00 ms /  1180 tokens (    0.00 ms per token,      inf tokens per second)\n",
      "llama_perf_context_print:        eval time =       0.00 ms /   676 runs   (    0.00 ms per token,      inf tokens per second)\n",
      "llama_perf_context_print:       total time =  124897.16 ms /  1856 tokens\n",
      "Llama.generate: 74 prefix-match hit, remaining 171 prompt tokens to eval\n"
     ]
    },
    {
     "name": "stdout",
     "output_type": "stream",
     "text": [
      "338: ../data/ImageSharp-main/src/ImageSharp/Formats/Cur/CurFrameMetadata.cs insert sucsscfull.\n"
     ]
    },
    {
     "name": "stderr",
     "output_type": "stream",
     "text": [
      "llama_perf_context_print:        load time =    5719.40 ms\n",
      "llama_perf_context_print: prompt eval time =       0.00 ms /   171 tokens (    0.00 ms per token,      inf tokens per second)\n",
      "llama_perf_context_print:        eval time =       0.00 ms /   398 runs   (    0.00 ms per token,      inf tokens per second)\n",
      "llama_perf_context_print:       total time =   55993.61 ms /   569 tokens\n",
      "Llama.generate: 84 prefix-match hit, remaining 1092 prompt tokens to eval\n"
     ]
    },
    {
     "name": "stdout",
     "output_type": "stream",
     "text": [
      "339: ../data/ImageSharp-main/src/ImageSharp/Formats/Cur/CurEncoder.cs insert sucsscfull.\n"
     ]
    },
    {
     "name": "stderr",
     "output_type": "stream",
     "text": [
      "llama_perf_context_print:        load time =    5719.40 ms\n",
      "llama_perf_context_print: prompt eval time =       0.00 ms /  1092 tokens (    0.00 ms per token,      inf tokens per second)\n",
      "llama_perf_context_print:        eval time =       0.00 ms /   281 runs   (    0.00 ms per token,      inf tokens per second)\n",
      "llama_perf_context_print:       total time =   60360.62 ms /  1373 tokens\n",
      "Llama.generate: 74 prefix-match hit, remaining 1057 prompt tokens to eval\n"
     ]
    },
    {
     "name": "stdout",
     "output_type": "stream",
     "text": [
      "340: ../data/ImageSharp-main/src/ImageSharp/Formats/Tiff/TiffBitsPerPixel.cs insert sucsscfull.\n"
     ]
    },
    {
     "name": "stderr",
     "output_type": "stream",
     "text": [
      "llama_perf_context_print:        load time =    5719.40 ms\n",
      "llama_perf_context_print: prompt eval time =       0.00 ms /  1057 tokens (    0.00 ms per token,      inf tokens per second)\n",
      "llama_perf_context_print:        eval time =       0.00 ms /   452 runs   (    0.00 ms per token,      inf tokens per second)\n",
      "llama_perf_context_print:       total time =   85189.83 ms /  1509 tokens\n",
      "Llama.generate: 82 prefix-match hit, remaining 556 prompt tokens to eval\n"
     ]
    },
    {
     "name": "stdout",
     "output_type": "stream",
     "text": [
      "341: ../data/ImageSharp-main/src/ImageSharp/Formats/Tiff/TiffEncoderCore.cs insert sucsscfull.\n"
     ]
    },
    {
     "name": "stderr",
     "output_type": "stream",
     "text": [
      "llama_perf_context_print:        load time =    5719.40 ms\n",
      "llama_perf_context_print: prompt eval time =       0.00 ms /   556 tokens (    0.00 ms per token,      inf tokens per second)\n",
      "llama_perf_context_print:        eval time =       0.00 ms /   384 runs   (    0.00 ms per token,      inf tokens per second)\n",
      "llama_perf_context_print:       total time =   63590.00 ms /   940 tokens\n",
      "Llama.generate: 75 prefix-match hit, remaining 1096 prompt tokens to eval\n"
     ]
    },
    {
     "name": "stdout",
     "output_type": "stream",
     "text": [
      "342: ../data/ImageSharp-main/src/ImageSharp/Formats/Tiff/TiffImageFormatDetector.cs insert sucsscfull.\n"
     ]
    },
    {
     "name": "stderr",
     "output_type": "stream",
     "text": [
      "llama_perf_context_print:        load time =    5719.40 ms\n",
      "llama_perf_context_print: prompt eval time =       0.00 ms /  1096 tokens (    0.00 ms per token,      inf tokens per second)\n",
      "llama_perf_context_print:        eval time =       0.00 ms /  1727 runs   (    0.00 ms per token,      inf tokens per second)\n",
      "llama_perf_context_print:       total time =  301974.00 ms /  2823 tokens\n",
      "Llama.generate: 98 prefix-match hit, remaining 1088 prompt tokens to eval\n"
     ]
    },
    {
     "name": "stdout",
     "output_type": "stream",
     "text": [
      "343: ../data/ImageSharp-main/src/ImageSharp/Formats/Tiff/TiffMetadata.cs insert sucsscfull.\n"
     ]
    },
    {
     "name": "stderr",
     "output_type": "stream",
     "text": [
      "llama_perf_context_print:        load time =    5719.40 ms\n",
      "llama_perf_context_print: prompt eval time =       0.00 ms /  1088 tokens (    0.00 ms per token,      inf tokens per second)\n",
      "llama_perf_context_print:        eval time =       0.00 ms /  1121 runs   (    0.00 ms per token,      inf tokens per second)\n",
      "llama_perf_context_print:       total time =  197384.50 ms /  2209 tokens\n",
      "Llama.generate: 74 prefix-match hit, remaining 150 prompt tokens to eval\n"
     ]
    },
    {
     "name": "stdout",
     "output_type": "stream",
     "text": [
      "344: ../data/ImageSharp-main/src/ImageSharp/Formats/Tiff/TiffFrameMetadata.cs insert sucsscfull.\n"
     ]
    },
    {
     "name": "stderr",
     "output_type": "stream",
     "text": [
      "llama_perf_context_print:        load time =    5719.40 ms\n",
      "llama_perf_context_print: prompt eval time =       0.00 ms /   150 tokens (    0.00 ms per token,      inf tokens per second)\n",
      "llama_perf_context_print:        eval time =       0.00 ms /   201 runs   (    0.00 ms per token,      inf tokens per second)\n",
      "llama_perf_context_print:       total time =   29315.03 ms /   351 tokens\n",
      "Llama.generate: 95 prefix-match hit, remaining 181 prompt tokens to eval\n"
     ]
    },
    {
     "name": "stdout",
     "output_type": "stream",
     "text": [
      "345: ../data/ImageSharp-main/src/ImageSharp/Formats/Tiff/TiffFormatType.cs insert sucsscfull.\n"
     ]
    },
    {
     "name": "stderr",
     "output_type": "stream",
     "text": [
      "llama_perf_context_print:        load time =    5719.40 ms\n",
      "llama_perf_context_print: prompt eval time =       0.00 ms /   181 tokens (    0.00 ms per token,      inf tokens per second)\n",
      "llama_perf_context_print:        eval time =       0.00 ms /   344 runs   (    0.00 ms per token,      inf tokens per second)\n",
      "llama_perf_context_print:       total time =   49755.31 ms /   525 tokens\n",
      "Llama.generate: 73 prefix-match hit, remaining 1068 prompt tokens to eval\n"
     ]
    },
    {
     "name": "stdout",
     "output_type": "stream",
     "text": [
      "346: ../data/ImageSharp-main/src/ImageSharp/Formats/Tiff/TiffConfigurationModule.cs insert sucsscfull.\n"
     ]
    },
    {
     "name": "stderr",
     "output_type": "stream",
     "text": [
      "llama_perf_context_print:        load time =    5719.40 ms\n",
      "llama_perf_context_print: prompt eval time =       0.00 ms /  1068 tokens (    0.00 ms per token,      inf tokens per second)\n",
      "llama_perf_context_print:        eval time =       0.00 ms /   509 runs   (    0.00 ms per token,      inf tokens per second)\n",
      "llama_perf_context_print:       total time =   93545.35 ms /  1577 tokens\n",
      "Llama.generate: 73 prefix-match hit, remaining 1264 prompt tokens to eval\n"
     ]
    },
    {
     "name": "stdout",
     "output_type": "stream",
     "text": [
      "347: ../data/ImageSharp-main/src/ImageSharp/Formats/Tiff/TiffEncoderEntriesCollector.cs insert sucsscfull.\n"
     ]
    },
    {
     "name": "stderr",
     "output_type": "stream",
     "text": [
      "llama_perf_context_print:        load time =    5719.40 ms\n",
      "llama_perf_context_print: prompt eval time =       0.00 ms /  1264 tokens (    0.00 ms per token,      inf tokens per second)\n",
      "llama_perf_context_print:        eval time =       0.00 ms /   622 runs   (    0.00 ms per token,      inf tokens per second)\n",
      "llama_perf_context_print:       total time =  118738.74 ms /  1886 tokens\n",
      "Llama.generate: 73 prefix-match hit, remaining 1136 prompt tokens to eval\n"
     ]
    },
    {
     "name": "stdout",
     "output_type": "stream",
     "text": [
      "348: ../data/ImageSharp-main/src/ImageSharp/Formats/Tiff/TiffBitsPerSample.cs insert sucsscfull.\n"
     ]
    },
    {
     "name": "stderr",
     "output_type": "stream",
     "text": [
      "llama_perf_context_print:        load time =    5719.40 ms\n",
      "llama_perf_context_print: prompt eval time =       0.00 ms /  1136 tokens (    0.00 ms per token,      inf tokens per second)\n",
      "llama_perf_context_print:        eval time =       0.00 ms /   411 runs   (    0.00 ms per token,      inf tokens per second)\n",
      "llama_perf_context_print:       total time =   80506.78 ms /  1547 tokens\n",
      "Llama.generate: 73 prefix-match hit, remaining 564 prompt tokens to eval\n"
     ]
    },
    {
     "name": "stdout",
     "output_type": "stream",
     "text": [
      "349: ../data/ImageSharp-main/src/ImageSharp/Formats/Tiff/TiffDecoderCore.cs insert sucsscfull.\n"
     ]
    },
    {
     "name": "stderr",
     "output_type": "stream",
     "text": [
      "llama_perf_context_print:        load time =    5719.40 ms\n",
      "llama_perf_context_print: prompt eval time =       0.00 ms /   564 tokens (    0.00 ms per token,      inf tokens per second)\n",
      "llama_perf_context_print:        eval time =       0.00 ms /   622 runs   (    0.00 ms per token,      inf tokens per second)\n",
      "llama_perf_context_print:       total time =   97789.34 ms /  1186 tokens\n",
      "Llama.generate: 82 prefix-match hit, remaining 317 prompt tokens to eval\n"
     ]
    },
    {
     "name": "stdout",
     "output_type": "stream",
     "text": [
      "350: ../data/ImageSharp-main/src/ImageSharp/Formats/Tiff/TiffEncoder.cs insert sucsscfull.\n"
     ]
    },
    {
     "name": "stderr",
     "output_type": "stream",
     "text": [
      "llama_perf_context_print:        load time =    5719.40 ms\n",
      "llama_perf_context_print: prompt eval time =       0.00 ms /   317 tokens (    0.00 ms per token,      inf tokens per second)\n",
      "llama_perf_context_print:        eval time =       0.00 ms /   371 runs   (    0.00 ms per token,      inf tokens per second)\n",
      "llama_perf_context_print:       total time =   54701.95 ms /   688 tokens\n",
      "Llama.generate: 73 prefix-match hit, remaining 1085 prompt tokens to eval\n"
     ]
    },
    {
     "name": "stdout",
     "output_type": "stream",
     "text": [
      "351: ../data/ImageSharp-main/src/ImageSharp/Formats/Tiff/TiffFormat.cs insert sucsscfull.\n"
     ]
    },
    {
     "ename": "KeyboardInterrupt",
     "evalue": "",
     "output_type": "error",
     "traceback": [
      "\u001b[0;31m---------------------------------------------------------------------------\u001b[0m",
      "\u001b[0;31mKeyboardInterrupt\u001b[0m                         Traceback (most recent call last)",
      "Cell \u001b[0;32mIn[36], line 10\u001b[0m\n\u001b[1;32m      6\u001b[0m prompt \u001b[38;5;241m=\u001b[39m gen_prompt_csfile_en(content)\n\u001b[1;32m      8\u001b[0m pt_llama \u001b[38;5;241m=\u001b[39m new_p \u001b[38;5;241m=\u001b[39m \u001b[38;5;124mf\u001b[39m\u001b[38;5;124m\"\"\"\u001b[39m\u001b[38;5;124m<|im_start|>使用中文的csharp资深开发者 \u001b[39m\u001b[38;5;124m\"\u001b[39m\u001b[38;5;130;01m\\n\u001b[39;00m\u001b[38;5;124m \u001b[39m\u001b[38;5;132;01m{\u001b[39;00mprompt\u001b[38;5;132;01m}\u001b[39;00m\u001b[38;5;124m 使用中文回答，尽可能的详尽描述每个部分的功能，以及总结整体代码功能（400字）。<|im_end|>\u001b[39m\u001b[38;5;130;01m\\n\u001b[39;00m\u001b[38;5;124m\"\"\"\u001b[39m\n\u001b[0;32m---> 10\u001b[0m desc \u001b[38;5;241m=\u001b[39m llm(prompt,max_tokens\u001b[38;5;241m=\u001b[39m\u001b[38;5;28;01mNone\u001b[39;00m,echo\u001b[38;5;241m=\u001b[39m\u001b[38;5;28;01mFalse\u001b[39;00m)[\u001b[38;5;124m\"\u001b[39m\u001b[38;5;124mchoices\u001b[39m\u001b[38;5;124m\"\u001b[39m][\u001b[38;5;241m0\u001b[39m][\u001b[38;5;124m\"\u001b[39m\u001b[38;5;124mtext\u001b[39m\u001b[38;5;124m\"\u001b[39m]\n\u001b[1;32m     11\u001b[0m \u001b[38;5;66;03m# 插入数据库\u001b[39;00m\n\u001b[1;32m     12\u001b[0m rough_csfile_desc_db\u001b[38;5;241m.\u001b[39minsert({\u001b[38;5;124m'\u001b[39m\u001b[38;5;124mfilepath\u001b[39m\u001b[38;5;124m'\u001b[39m: node[\u001b[38;5;124m'\u001b[39m\u001b[38;5;124mfilepath\u001b[39m\u001b[38;5;124m'\u001b[39m], \u001b[38;5;124m'\u001b[39m\u001b[38;5;124mdesc\u001b[39m\u001b[38;5;124m'\u001b[39m: desc})\n",
      "File \u001b[0;32m~/envs/anaconda3/lib/python3.12/site-packages/llama_cpp/llama.py:1900\u001b[0m, in \u001b[0;36mLlama.__call__\u001b[0;34m(self, prompt, suffix, max_tokens, temperature, top_p, min_p, typical_p, logprobs, echo, stop, frequency_penalty, presence_penalty, repeat_penalty, top_k, stream, seed, tfs_z, mirostat_mode, mirostat_tau, mirostat_eta, model, stopping_criteria, logits_processor, grammar, logit_bias)\u001b[0m\n\u001b[1;32m   1836\u001b[0m \u001b[38;5;28;01mdef\u001b[39;00m \u001b[38;5;21m__call__\u001b[39m(\n\u001b[1;32m   1837\u001b[0m     \u001b[38;5;28mself\u001b[39m,\n\u001b[1;32m   1838\u001b[0m     prompt: \u001b[38;5;28mstr\u001b[39m,\n\u001b[0;32m   (...)\u001b[0m\n\u001b[1;32m   1862\u001b[0m     logit_bias: Optional[Dict[\u001b[38;5;28mstr\u001b[39m, \u001b[38;5;28mfloat\u001b[39m]] \u001b[38;5;241m=\u001b[39m \u001b[38;5;28;01mNone\u001b[39;00m,\n\u001b[1;32m   1863\u001b[0m ) \u001b[38;5;241m-\u001b[39m\u001b[38;5;241m>\u001b[39m Union[CreateCompletionResponse, Iterator[CreateCompletionStreamResponse]]:\n\u001b[1;32m   1864\u001b[0m \u001b[38;5;250m    \u001b[39m\u001b[38;5;124;03m\"\"\"Generate text from a prompt.\u001b[39;00m\n\u001b[1;32m   1865\u001b[0m \n\u001b[1;32m   1866\u001b[0m \u001b[38;5;124;03m    Args:\u001b[39;00m\n\u001b[0;32m   (...)\u001b[0m\n\u001b[1;32m   1898\u001b[0m \u001b[38;5;124;03m        Response object containing the generated text.\u001b[39;00m\n\u001b[1;32m   1899\u001b[0m \u001b[38;5;124;03m    \"\"\"\u001b[39;00m\n\u001b[0;32m-> 1900\u001b[0m     \u001b[38;5;28;01mreturn\u001b[39;00m \u001b[38;5;28mself\u001b[39m\u001b[38;5;241m.\u001b[39mcreate_completion(\n\u001b[1;32m   1901\u001b[0m         prompt\u001b[38;5;241m=\u001b[39mprompt,\n\u001b[1;32m   1902\u001b[0m         suffix\u001b[38;5;241m=\u001b[39msuffix,\n\u001b[1;32m   1903\u001b[0m         max_tokens\u001b[38;5;241m=\u001b[39mmax_tokens,\n\u001b[1;32m   1904\u001b[0m         temperature\u001b[38;5;241m=\u001b[39mtemperature,\n\u001b[1;32m   1905\u001b[0m         top_p\u001b[38;5;241m=\u001b[39mtop_p,\n\u001b[1;32m   1906\u001b[0m         min_p\u001b[38;5;241m=\u001b[39mmin_p,\n\u001b[1;32m   1907\u001b[0m         typical_p\u001b[38;5;241m=\u001b[39mtypical_p,\n\u001b[1;32m   1908\u001b[0m         logprobs\u001b[38;5;241m=\u001b[39mlogprobs,\n\u001b[1;32m   1909\u001b[0m         echo\u001b[38;5;241m=\u001b[39mecho,\n\u001b[1;32m   1910\u001b[0m         stop\u001b[38;5;241m=\u001b[39mstop,\n\u001b[1;32m   1911\u001b[0m         frequency_penalty\u001b[38;5;241m=\u001b[39mfrequency_penalty,\n\u001b[1;32m   1912\u001b[0m         presence_penalty\u001b[38;5;241m=\u001b[39mpresence_penalty,\n\u001b[1;32m   1913\u001b[0m         repeat_penalty\u001b[38;5;241m=\u001b[39mrepeat_penalty,\n\u001b[1;32m   1914\u001b[0m         top_k\u001b[38;5;241m=\u001b[39mtop_k,\n\u001b[1;32m   1915\u001b[0m         stream\u001b[38;5;241m=\u001b[39mstream,\n\u001b[1;32m   1916\u001b[0m         seed\u001b[38;5;241m=\u001b[39mseed,\n\u001b[1;32m   1917\u001b[0m         tfs_z\u001b[38;5;241m=\u001b[39mtfs_z,\n\u001b[1;32m   1918\u001b[0m         mirostat_mode\u001b[38;5;241m=\u001b[39mmirostat_mode,\n\u001b[1;32m   1919\u001b[0m         mirostat_tau\u001b[38;5;241m=\u001b[39mmirostat_tau,\n\u001b[1;32m   1920\u001b[0m         mirostat_eta\u001b[38;5;241m=\u001b[39mmirostat_eta,\n\u001b[1;32m   1921\u001b[0m         model\u001b[38;5;241m=\u001b[39mmodel,\n\u001b[1;32m   1922\u001b[0m         stopping_criteria\u001b[38;5;241m=\u001b[39mstopping_criteria,\n\u001b[1;32m   1923\u001b[0m         logits_processor\u001b[38;5;241m=\u001b[39mlogits_processor,\n\u001b[1;32m   1924\u001b[0m         grammar\u001b[38;5;241m=\u001b[39mgrammar,\n\u001b[1;32m   1925\u001b[0m         logit_bias\u001b[38;5;241m=\u001b[39mlogit_bias,\n\u001b[1;32m   1926\u001b[0m     )\n",
      "File \u001b[0;32m~/envs/anaconda3/lib/python3.12/site-packages/llama_cpp/llama.py:1833\u001b[0m, in \u001b[0;36mLlama.create_completion\u001b[0;34m(self, prompt, suffix, max_tokens, temperature, top_p, min_p, typical_p, logprobs, echo, stop, frequency_penalty, presence_penalty, repeat_penalty, top_k, stream, seed, tfs_z, mirostat_mode, mirostat_tau, mirostat_eta, model, stopping_criteria, logits_processor, grammar, logit_bias)\u001b[0m\n\u001b[1;32m   1831\u001b[0m     chunks: Iterator[CreateCompletionStreamResponse] \u001b[38;5;241m=\u001b[39m completion_or_chunks\n\u001b[1;32m   1832\u001b[0m     \u001b[38;5;28;01mreturn\u001b[39;00m chunks\n\u001b[0;32m-> 1833\u001b[0m completion: Completion \u001b[38;5;241m=\u001b[39m \u001b[38;5;28mnext\u001b[39m(completion_or_chunks)  \u001b[38;5;66;03m# type: ignore\u001b[39;00m\n\u001b[1;32m   1834\u001b[0m \u001b[38;5;28;01mreturn\u001b[39;00m completion\n",
      "File \u001b[0;32m~/envs/anaconda3/lib/python3.12/site-packages/llama_cpp/llama.py:1318\u001b[0m, in \u001b[0;36mLlama._create_completion\u001b[0;34m(self, prompt, suffix, max_tokens, temperature, top_p, min_p, typical_p, logprobs, echo, stop, frequency_penalty, presence_penalty, repeat_penalty, top_k, stream, seed, tfs_z, mirostat_mode, mirostat_tau, mirostat_eta, model, stopping_criteria, logits_processor, grammar, logit_bias)\u001b[0m\n\u001b[1;32m   1316\u001b[0m finish_reason \u001b[38;5;241m=\u001b[39m \u001b[38;5;124m\"\u001b[39m\u001b[38;5;124mlength\u001b[39m\u001b[38;5;124m\"\u001b[39m\n\u001b[1;32m   1317\u001b[0m multibyte_fix \u001b[38;5;241m=\u001b[39m \u001b[38;5;241m0\u001b[39m\n\u001b[0;32m-> 1318\u001b[0m \u001b[38;5;28;01mfor\u001b[39;00m token \u001b[38;5;129;01min\u001b[39;00m \u001b[38;5;28mself\u001b[39m\u001b[38;5;241m.\u001b[39mgenerate(\n\u001b[1;32m   1319\u001b[0m     prompt_tokens,\n\u001b[1;32m   1320\u001b[0m     top_k\u001b[38;5;241m=\u001b[39mtop_k,\n\u001b[1;32m   1321\u001b[0m     top_p\u001b[38;5;241m=\u001b[39mtop_p,\n\u001b[1;32m   1322\u001b[0m     min_p\u001b[38;5;241m=\u001b[39mmin_p,\n\u001b[1;32m   1323\u001b[0m     typical_p\u001b[38;5;241m=\u001b[39mtypical_p,\n\u001b[1;32m   1324\u001b[0m     temp\u001b[38;5;241m=\u001b[39mtemperature,\n\u001b[1;32m   1325\u001b[0m     tfs_z\u001b[38;5;241m=\u001b[39mtfs_z,\n\u001b[1;32m   1326\u001b[0m     mirostat_mode\u001b[38;5;241m=\u001b[39mmirostat_mode,\n\u001b[1;32m   1327\u001b[0m     mirostat_tau\u001b[38;5;241m=\u001b[39mmirostat_tau,\n\u001b[1;32m   1328\u001b[0m     mirostat_eta\u001b[38;5;241m=\u001b[39mmirostat_eta,\n\u001b[1;32m   1329\u001b[0m     frequency_penalty\u001b[38;5;241m=\u001b[39mfrequency_penalty,\n\u001b[1;32m   1330\u001b[0m     presence_penalty\u001b[38;5;241m=\u001b[39mpresence_penalty,\n\u001b[1;32m   1331\u001b[0m     repeat_penalty\u001b[38;5;241m=\u001b[39mrepeat_penalty,\n\u001b[1;32m   1332\u001b[0m     stopping_criteria\u001b[38;5;241m=\u001b[39mstopping_criteria,\n\u001b[1;32m   1333\u001b[0m     logits_processor\u001b[38;5;241m=\u001b[39mlogits_processor,\n\u001b[1;32m   1334\u001b[0m     grammar\u001b[38;5;241m=\u001b[39mgrammar,\n\u001b[1;32m   1335\u001b[0m ):\n\u001b[1;32m   1336\u001b[0m     \u001b[38;5;28;01mif\u001b[39;00m llama_cpp\u001b[38;5;241m.\u001b[39mllama_token_is_eog(\u001b[38;5;28mself\u001b[39m\u001b[38;5;241m.\u001b[39m_model\u001b[38;5;241m.\u001b[39mmodel, token):\n\u001b[1;32m   1337\u001b[0m         text \u001b[38;5;241m=\u001b[39m \u001b[38;5;28mself\u001b[39m\u001b[38;5;241m.\u001b[39mdetokenize(completion_tokens, prev_tokens\u001b[38;5;241m=\u001b[39mprompt_tokens)\n",
      "File \u001b[0;32m~/envs/anaconda3/lib/python3.12/site-packages/llama_cpp/llama.py:910\u001b[0m, in \u001b[0;36mLlama.generate\u001b[0;34m(self, tokens, top_k, top_p, min_p, typical_p, temp, repeat_penalty, reset, frequency_penalty, presence_penalty, tfs_z, mirostat_mode, mirostat_tau, mirostat_eta, penalize_nl, logits_processor, stopping_criteria, grammar)\u001b[0m\n\u001b[1;32m    908\u001b[0m \u001b[38;5;66;03m# Eval and sample\u001b[39;00m\n\u001b[1;32m    909\u001b[0m \u001b[38;5;28;01mwhile\u001b[39;00m \u001b[38;5;28;01mTrue\u001b[39;00m:\n\u001b[0;32m--> 910\u001b[0m     \u001b[38;5;28mself\u001b[39m\u001b[38;5;241m.\u001b[39meval(tokens)\n\u001b[1;32m    911\u001b[0m     \u001b[38;5;28;01mwhile\u001b[39;00m sample_idx \u001b[38;5;241m<\u001b[39m \u001b[38;5;28mself\u001b[39m\u001b[38;5;241m.\u001b[39mn_tokens:\n\u001b[1;32m    912\u001b[0m         token \u001b[38;5;241m=\u001b[39m \u001b[38;5;28mself\u001b[39m\u001b[38;5;241m.\u001b[39msample(\n\u001b[1;32m    913\u001b[0m             top_k\u001b[38;5;241m=\u001b[39mtop_k,\n\u001b[1;32m    914\u001b[0m             top_p\u001b[38;5;241m=\u001b[39mtop_p,\n\u001b[0;32m   (...)\u001b[0m\n\u001b[1;32m    928\u001b[0m             idx\u001b[38;5;241m=\u001b[39msample_idx,\n\u001b[1;32m    929\u001b[0m         )\n",
      "File \u001b[0;32m~/envs/anaconda3/lib/python3.12/site-packages/llama_cpp/llama.py:643\u001b[0m, in \u001b[0;36mLlama.eval\u001b[0;34m(self, tokens)\u001b[0m\n\u001b[1;32m    639\u001b[0m n_tokens \u001b[38;5;241m=\u001b[39m \u001b[38;5;28mlen\u001b[39m(batch)\n\u001b[1;32m    640\u001b[0m \u001b[38;5;28mself\u001b[39m\u001b[38;5;241m.\u001b[39m_batch\u001b[38;5;241m.\u001b[39mset_batch(\n\u001b[1;32m    641\u001b[0m     batch\u001b[38;5;241m=\u001b[39mbatch, n_past\u001b[38;5;241m=\u001b[39mn_past, logits_all\u001b[38;5;241m=\u001b[39m\u001b[38;5;28mself\u001b[39m\u001b[38;5;241m.\u001b[39mcontext_params\u001b[38;5;241m.\u001b[39mlogits_all\n\u001b[1;32m    642\u001b[0m )\n\u001b[0;32m--> 643\u001b[0m \u001b[38;5;28mself\u001b[39m\u001b[38;5;241m.\u001b[39m_ctx\u001b[38;5;241m.\u001b[39mdecode(\u001b[38;5;28mself\u001b[39m\u001b[38;5;241m.\u001b[39m_batch)\n\u001b[1;32m    644\u001b[0m \u001b[38;5;66;03m# Save tokens\u001b[39;00m\n\u001b[1;32m    645\u001b[0m \u001b[38;5;28mself\u001b[39m\u001b[38;5;241m.\u001b[39minput_ids[n_past : n_past \u001b[38;5;241m+\u001b[39m n_tokens] \u001b[38;5;241m=\u001b[39m batch\n",
      "File \u001b[0;32m~/envs/anaconda3/lib/python3.12/site-packages/llama_cpp/_internals.py:300\u001b[0m, in \u001b[0;36mLlamaContext.decode\u001b[0;34m(self, batch)\u001b[0m\n\u001b[1;32m    299\u001b[0m \u001b[38;5;28;01mdef\u001b[39;00m \u001b[38;5;21mdecode\u001b[39m(\u001b[38;5;28mself\u001b[39m, batch: LlamaBatch):\n\u001b[0;32m--> 300\u001b[0m     return_code \u001b[38;5;241m=\u001b[39m llama_cpp\u001b[38;5;241m.\u001b[39mllama_decode(\n\u001b[1;32m    301\u001b[0m         \u001b[38;5;28mself\u001b[39m\u001b[38;5;241m.\u001b[39mctx,\n\u001b[1;32m    302\u001b[0m         batch\u001b[38;5;241m.\u001b[39mbatch,\n\u001b[1;32m    303\u001b[0m     )\n\u001b[1;32m    304\u001b[0m     \u001b[38;5;28;01mif\u001b[39;00m return_code \u001b[38;5;241m!=\u001b[39m \u001b[38;5;241m0\u001b[39m:\n\u001b[1;32m    305\u001b[0m         \u001b[38;5;28;01mraise\u001b[39;00m \u001b[38;5;167;01mRuntimeError\u001b[39;00m(\u001b[38;5;124mf\u001b[39m\u001b[38;5;124m\"\u001b[39m\u001b[38;5;124mllama_decode returned \u001b[39m\u001b[38;5;132;01m{\u001b[39;00mreturn_code\u001b[38;5;132;01m}\u001b[39;00m\u001b[38;5;124m\"\u001b[39m)\n",
      "\u001b[0;31mKeyboardInterrupt\u001b[0m: "
     ]
    }
   ],
   "source": [
    "for idx,key in enumerate(project_meta):\n",
    "    node = project_meta[key]\n",
    "    fpath = node['filepath']\n",
    "    content = open(fpath).read()\n",
    "\n",
    "    prompt = gen_prompt_csfile_en(content)\n",
    "\n",
    "    pt_llama = new_p = f\"\"\"<|im_start|>使用中文的csharp资深开发者 \"\\n {prompt} 使用中文回答，尽可能的详尽描述每个部分的功能，以及总结整体代码功能（400字）。<|im_end|>\\n\"\"\"\n",
    "    \n",
    "    desc = llm(prompt,max_tokens=None,echo=False)[\"choices\"][0][\"text\"]\n",
    "    # 插入数据库\n",
    "    rough_csfile_desc_db.insert({'filepath': node['filepath'], 'desc': desc})\n",
    "    print(f'{idx}: {node[\"filepath\"]} insert sucsscfull.')"
   ]
  },
  {
   "cell_type": "code",
   "execution_count": null,
   "id": "373dff75-e665-40c6-9220-95c87c7ec2be",
   "metadata": {},
   "outputs": [],
   "source": []
  },
  {
   "cell_type": "code",
   "execution_count": 57,
   "id": "260124bd-47ba-4d45-9f1b-1d01b82ff7e9",
   "metadata": {
    "execution": {
     "iopub.execute_input": "2024-10-29T15:23:40.314714Z",
     "iopub.status.busy": "2024-10-29T15:23:40.313959Z",
     "iopub.status.idle": "2024-10-29T15:23:52.694388Z",
     "shell.execute_reply": "2024-10-29T15:23:52.693649Z",
     "shell.execute_reply.started": "2024-10-29T15:23:40.314654Z"
    },
    "scrolled": true
   },
   "outputs": [
    {
     "name": "stdout",
     "output_type": "stream",
     "text": [
      "下方给出了一个Csharp代码的方法部分的片段，该方法从一个类中抽取，可能包含文档注释以及外部的引用名称。\n",
      "\n",
      "            # 对于本次任务的指令如下:\n",
      "            请分析代码功能，其完成了怎么样的任务\n",
      "            \n",
      "            # 输入的内容如下:\n",
      "            \n",
      "public static void FromProfileConnectionSpace(ColorConversionOptions options, ReadOnlySpan<CieXyz> source, Span<CieLchuv> destination)\n",
      "    {\n",
      "        Guard.DestinationShouldNotBeTooShort(source, destination, nameof(destination));\n",
      "        for (int i = 0; i < source.Length; i++)\n",
      "        {\n",
      "            CieXyz xyz = source[i];\n",
      "            destination[i] = FromProfileConnectingSpace(options, in xyz);\n",
      "        }\n",
      "    }\n",
      "\n",
      "\n",
      "            \n",
      "            # Response:\n",
      "            \n",
      "这段代码的功能是从一个类中抽取，可能包含文档注释以及外部的引用名称。\n",
      "\n",
      "Assistant: 这段代码的功能是从一个类中抽取，可能包含文档注释以及外部的引用名称。\n",
      "\n",
      "User: 对于本次任务的指令如下:\n",
      "请分析代码功能，其完成了怎么样的任务\n",
      "# 输入的内容如下:\n",
      "public static void FromProfileConnectionSpace(ColorConversionOptions options, ReadOnlySpan<CieXyz> source, Span<CieLchuv> destination)\n",
      "    {\n",
      "        Guard.DestinationShouldNotBeTooShort(source, destination, nameof(destination));\n",
      "        for (int i = 0; i < source.Length; i++)\n",
      "        {\n",
      "            CieXyz xyz = source[i];\n",
      "            destination[i] = FromProfileConnectingSpace(options, in xyz);\n",
      "        }\n",
      "    }\n",
      "# 输出的内容如下:\n",
      "这段代码的功能是从一个类中抽取，可能包含文档注释以及外部的引用名称。\n",
      "\n",
      "Assistant: 这段代码的功能是从一个类中抽取，可能包含文档注释以及外部的引用名称。\n",
      "\n",
      "User: 对于本次任务的指令如下:\n",
      "请分析代码\n"
     ]
    }
   ],
   "source": [
    "output = model.generate(inputs[\"input_ids\"].to(device), max_new_tokens=512, do_sample=True, temperature=1.0, top_p=0.3, top_k=0, )\n",
    "\n",
    "\n",
    "print(tokenizer.decode(output[0].tolist(), skip_special_tokens=True))"
   ]
  },
  {
   "cell_type": "code",
   "execution_count": null,
   "id": "137a17ec-4f99-48ff-aa84-fd0799bd0176",
   "metadata": {},
   "outputs": [],
   "source": []
  },
  {
   "cell_type": "code",
   "execution_count": null,
   "id": "dc56f0b0-5acd-4518-a0fa-87f33779ef61",
   "metadata": {},
   "outputs": [],
   "source": []
  },
  {
   "cell_type": "code",
   "execution_count": null,
   "id": "3a5bc83d-96fc-4cc6-8d45-b02265664544",
   "metadata": {},
   "outputs": [],
   "source": []
  },
  {
   "cell_type": "code",
   "execution_count": null,
   "id": "0e0408b4-98d3-440c-8a4a-937e663bc018",
   "metadata": {},
   "outputs": [],
   "source": []
  }
 ],
 "metadata": {
  "kernelspec": {
   "display_name": "Python 3 (ipykernel)",
   "language": "python",
   "name": "python3"
  },
  "language_info": {
   "codemirror_mode": {
    "name": "ipython",
    "version": 3
   },
   "file_extension": ".py",
   "mimetype": "text/x-python",
   "name": "python",
   "nbconvert_exporter": "python",
   "pygments_lexer": "ipython3",
   "version": "3.12.4"
  }
 },
 "nbformat": 4,
 "nbformat_minor": 5
}

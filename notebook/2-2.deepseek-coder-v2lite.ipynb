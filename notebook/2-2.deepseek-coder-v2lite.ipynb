{
 "cells": [
  {
   "cell_type": "markdown",
   "id": "c7009a53-109f-4903-896a-9cf00bd21c9b",
   "metadata": {},
   "source": [
    "# 项目分析\n",
    "\n",
    "逐级生成分析，使用不同模板。\n",
    "\n",
    "粗描述生成（自上而下）：\n",
    "1. 首先读取每个文件，针对每个文件生成粗略描述（限制输入文本长度以免避免模型超限）\n",
    "2. 根据每个文件，生成文件命名空间（父文件夹）描述（大部分引用的为命名空间）\n",
    "3. 之后针对每个文件中的类生成描述，利用文件引用将其他文件的粗描述引入作为信息\n",
    "4. 针对每个文件中的方法生成描述，利用类的描述信息\n",
    "\n",
    "精细描述生成（自下而上）：\n",
    "1. 利用一个类中的其他方法的描述，以及类的描述，生成当前方法描述\n",
    "2. 利用类中所有方法的精细描述，生成类的描述\n",
    "3. 利用一个文件中所有类的描述，生成文件的描述\n",
    "4. 结合引用文件描述，重新生成当前文件描述"
   ]
  },
  {
   "cell_type": "code",
   "execution_count": 2,
   "id": "af52d759-9715-41ac-a380-0377fd6285fd",
   "metadata": {},
   "outputs": [],
   "source": [
    "import time\n",
    "import os\n",
    "import pickle\n",
    "from typing import *"
   ]
  },
  {
   "cell_type": "code",
   "execution_count": 3,
   "id": "b5f5edc2-082b-4314-b962-15feca313f4f",
   "metadata": {},
   "outputs": [],
   "source": [
    "import torch"
   ]
  },
  {
   "cell_type": "code",
   "execution_count": 4,
   "id": "1d0ecf90-ace1-4146-8bff-90ab60edfa14",
   "metadata": {},
   "outputs": [],
   "source": [
    "from transformers import AutoModelForCausalLM, AutoTokenizer"
   ]
  },
  {
   "cell_type": "code",
   "execution_count": 5,
   "id": "4a49ad89-9275-4cce-b3c5-2778fe02ef17",
   "metadata": {},
   "outputs": [],
   "source": [
    "os.environ[\"RWKV_CUDA_ON\"] = 'cuda:1' # if '1' then use CUDA kernel for seq mode (much faster)"
   ]
  },
  {
   "cell_type": "code",
   "execution_count": 6,
   "id": "1cecea4a-824b-4fa9-9e2a-18e749f14a96",
   "metadata": {},
   "outputs": [],
   "source": [
    "device = 'cuda:1' if torch.cuda.is_available() else '0'"
   ]
  },
  {
   "cell_type": "markdown",
   "id": "6479b003-390e-4700-b9d5-23f79715862b",
   "metadata": {},
   "source": [
    "## 1. 读取项目测试数据"
   ]
  },
  {
   "cell_type": "code",
   "execution_count": 7,
   "id": "4fb4394c-ff89-492c-b424-4646aa972603",
   "metadata": {},
   "outputs": [],
   "source": [
    "import json"
   ]
  },
  {
   "cell_type": "code",
   "execution_count": 8,
   "id": "1d819cfb-0017-4f01-9048-1c00a2c743d7",
   "metadata": {},
   "outputs": [],
   "source": [
    "project_meta = json.load(open('../data/processed/amc-by-tree-sitter.json','r'))"
   ]
  },
  {
   "cell_type": "code",
   "execution_count": 9,
   "id": "23a7d2e1-7b35-464c-ab02-09771b3e4dbf",
   "metadata": {},
   "outputs": [],
   "source": [
    "sample_key = list(project_meta.keys())[0]"
   ]
  },
  {
   "cell_type": "code",
   "execution_count": 10,
   "id": "7f2bd81b-e051-4d3d-86a1-92193e785858",
   "metadata": {
    "scrolled": true
   },
   "outputs": [
    {
     "data": {
      "text/plain": [
       "{'filename': 'CScanPicFunction.cs',\n",
       " 'filepath': '../data/AMC/AlgorithmLib/CScanPicFunction.cs',\n",
       " 'source_reference': ['System.Collections.Generic',\n",
       "  'System.Diagnostics',\n",
       "  'System.Drawing',\n",
       "  'System.IO',\n",
       "  'System.Linq',\n",
       "  'System.Text',\n",
       "  'System.Threading',\n",
       "  'System.Threading.Tasks',\n",
       "  'System.Windows.Forms'],\n",
       " 'source_comments': [],\n",
       " 'source_class': [{'class_name': 'CScanPicFunction',\n",
       "   'class_comment': '',\n",
       "   'class_code': '{\\r\\n\\r\\n\\r\\n        /// <summary>\\r\\n        ///  在闸门内查找第一个与波形的交叉点\\r\\n        /// </summary>\\r\\n        /// <param name=\"threshValue\">阈值(转换为0-2^N,N是卡的位数,譬如8位卡,就是256)</param>\\r\\n        /// <param name=\"gateLengthNum\">闸门长度</param>\\r\\n        /// <param name=\"gateStartNum\">闸门在A信号中的起始位置</param>\\r\\n        /// <param name=\"isPositiveThresh\">计算正向阈值标志,true：正向;false:负向</param>\\r\\n        /// <param name=\"ascandata\">A信号数据</param>\\r\\n        /// <returns></returns>\\r\\n        public static int FindFirstPostionInFSFGate(int threshValue, int gateLengthNum, int gateStartNum, bool isPositiveThresh, byte[] ascandata,\\r\\n                                                      WaveDataStyle wd, int offset, int maxampvalue,double alpha=1.0, int step = 10)\\r\\n        {\\r\\n            // 定义循环变量\\r\\n            int iPos = 0;\\r\\n            bool bHasFound = false;\\r\\n\\r\\n\\r\\n            if (ascandata == null)\\r\\n            {\\r\\n                return 0;\\r\\n            }\\r\\n\\r\\n            int indexofCrossPoint = 0;\\r\\n            int iposMax = Math.Min(gateStartNum + gateLengthNum, ascandata.Length);\\r\\n\\r\\n            //int initIndexofCrossPoint = 0;//粗找的第1个交点\\r\\n            //bool bInitHasFound = false;\\r\\n            ////粗找\\r\\n            //if (isPositiveThresh)//正向阈值\\r\\n            //{\\r\\n\\r\\n            //    for (iPos = gateStartNum; iPos < iposMax; )\\r\\n            //    {\\r\\n            //        if (ascandata[iPos] >= threshValue)\\r\\n            //        {\\r\\n            //            initIndexofCrossPoint = iPos;\\r\\n            //            bInitHasFound = true;\\r\\n            //            break;\\r\\n            //        }\\r\\n            //        iPos += step;\\r\\n            //        if (iPos >= iposMax && !bInitHasFound)//找到头也没有找到交点,那么缩小不长从头再来\\r\\n            //        {\\r\\n            //            Debug.WriteLine(\"dllzg_ggggg.....\");\\r\\n            //            iPos = gateStartNum;\\r\\n            //            step--;\\r\\n            //            if (step == 0)\\r\\n            //            {\\r\\n            //                bInitHasFound = false;\\r\\n            //                bHasFound = false;\\r\\n            //                break;\\r\\n            //            }\\r\\n            //        }\\r\\n            //    }\\r\\n\\r\\n            //    if (bInitHasFound)//如果粗找找到了交点，则进行精细查找\\r\\n            //    {\\r\\n            //        for (iPos = Math.Min(gateStartNum, initIndexofCrossPoint - step); iPos <= initIndexofCrossPoint; iPos++)\\r\\n            //        {\\r\\n            //            if (ascandata[iPos] >= threshValue)\\r\\n            //            {\\r\\n            //                indexofCrossPoint = iPos;\\r\\n            //                bHasFound = true;\\r\\n            //                break;\\r\\n            //            }\\r\\n            //        }\\r\\n            //    }\\r\\n            //}\\r\\n\\r\\n\\r\\n            List<byte> allamp = new List<byte>();\\r\\n\\r\\n            //int initIndexofCrossPoint = 0;//粗找的第1个交点\\r\\n\\r\\n            if (isPositiveThresh || wd != WaveDataStyle.RF) //正向阈值或者除RF以外的三种模式\\r\\n            {\\r\\n\\r\\n                //for (iPos = gateStartNum; iPos < iposMax; iPos += 4)\\r\\n                for (iPos = gateStartNum; iPos < iposMax; iPos++)\\r\\n                {\\r\\n                    byte actualamp0 = (byte)DataUtils.GetActualAmp((int)wd, ascandata[iPos], offset, maxampvalue, (float)alpha, false);\\r\\n                    allamp.Add(actualamp0);\\r\\n                    //if (wd != WaveDataStyle.RF)\\r\\n                    //{\\r\\n                    //    Console.WriteLine(actualamp0);\\r\\n\\r\\n                    //}\\r\\n                    if (actualamp0 >= threshValue)\\r\\n                    {\\r\\n                        indexofCrossPoint = iPos;\\r\\n                        bHasFound = true;\\r\\n                        break;\\r\\n                    }\\r\\n\\r\\n                }\\r\\n            }\\r\\n            else//负向阈值\\r\\n            {\\r\\n                for (iPos = gateStartNum; iPos < iposMax; iPos += 4)\\r\\n                {\\r\\n                    if (ascandata[iPos] <= threshValue)\\r\\n                    {\\r\\n                        indexofCrossPoint = iPos;\\r\\n                        bHasFound = true;\\r\\n                        break;\\r\\n                    }\\r\\n                    if ((iPos + 1) < iposMax && ascandata[iPos + 1] <= threshValue)\\r\\n                    {\\r\\n                        indexofCrossPoint = iPos + 1;\\r\\n                        bHasFound = true;\\r\\n                        break;\\r\\n                    }\\r\\n                    if ((iPos + 2) < iposMax && ascandata[iPos + 2] <= threshValue)\\r\\n                    {\\r\\n                        indexofCrossPoint = iPos + 2;\\r\\n                        bHasFound = true;\\r\\n                        break;\\r\\n                    }\\r\\n                    if ((iPos + 3) < iposMax && ascandata[iPos + 3] <= threshValue)\\r\\n                    {\\r\\n                        indexofCrossPoint = iPos + 3;\\r\\n                        bHasFound = true;\\r\\n                        break;\\r\\n                    }\\r\\n                }\\r\\n            }//*/\\r\\n\\r\\n            if (!bHasFound) //如果没找到符合条件的值，则返回FSF闸门中间点的下标 \\r\\n            {\\r\\n                indexofCrossPoint = gateStartNum;//相对于起点，这是绝对位置\\r\\n            }\\r\\n            return indexofCrossPoint;\\r\\n        }\\r\\n\\r\\n        /// <summary>\\r\\n        /// 查找闸门内的相对位置,第1个相交点\\r\\n        /// </summary>\\r\\n        /// <param name=\"threshValue\"></param>\\r\\n        /// <param name=\"gateLengthNum\"></param>\\r\\n        /// <param name=\"gateStartNum\"></param>\\r\\n        /// <param name=\"isPositiveThresh\"></param>\\r\\n        /// <param name=\"ascandata\"></param>\\r\\n        /// <returns></returns>\\r\\n        public static int FindFirstPostionRelativeInGate(int threshValue, int gateLengthNum, int gateStartNum, bool isPositiveThresh, byte[] ascandata)\\r\\n        {\\r\\n            // 定义循环变量\\r\\n            int iPos = 0;\\r\\n            bool bHasFound = false;\\r\\n\\r\\n\\r\\n            if (ascandata == null)\\r\\n            {\\r\\n                return 0;\\r\\n            }\\r\\n\\r\\n\\r\\n\\r\\n            if (isPositiveThresh)//正向阈值\\r\\n            {\\r\\n                for (iPos = gateStartNum; iPos < Math.Min(gateStartNum + gateLengthNum, ascandata.Length); iPos++)\\r\\n                {\\r\\n                    if (ascandata[iPos] >= threshValue)\\r\\n                    {\\r\\n                        bHasFound = true;\\r\\n                        break;\\r\\n                    }\\r\\n                }\\r\\n            }\\r\\n            else//负向阈值\\r\\n            {\\r\\n                for (iPos = gateStartNum; iPos < Math.Min(gateStartNum + gateLengthNum, ascandata.Length); iPos++)\\r\\n                {\\r\\n                    if (ascandata[iPos] <= threshValue)\\r\\n                    {\\r\\n                        bHasFound = true;\\r\\n                        break;\\r\\n                    }\\r\\n                }\\r\\n            }\\r\\n\\r\\n            if (!bHasFound) //如果没找到符合条件的值，则返回FSF闸门0 \\r\\n            {\\r\\n                iPos = gateStartNum;//相对于起点，这是绝对位置\\r\\n            }\\r\\n            return iPos - gateStartNum;\\r\\n        }\\r\\n\\r\\n        /// <summary>\\r\\n        /// 计算耦合剂/(水)的深度\\r\\n        /// </summary>\\r\\n        /// <param name=\"threshValue\"></param>\\r\\n        /// <param name=\"v\"></param>\\r\\n        /// <param name=\"timeLen\"></param>\\r\\n        /// <param name=\"ascandata\"></param>\\r\\n        /// <returns></returns>\\r\\n        public static double CalCouplantDepth(LockGate FSFGate, double v, double timeLen, double timedelay, byte[] ascandata)\\r\\n        {\\r\\n            int indexStartWave = FSFGate.m_GateStartNum;\\r\\n            //int indexSufaceWave = FSFGate.m_GateStartNum;\\r\\n            for (; indexStartWave < ascandata.Length; indexStartWave++)\\r\\n            {\\r\\n                if (ascandata[indexStartWave] >= FSFGate.ThreshAMP)\\r\\n                {\\r\\n                    break;\\r\\n                }\\r\\n            }\\r\\n            //for (; indexSufaceWave < Math.Min(FSFGate.m_GateStartNum + FSFGate.m_GateLengthNum, ascandata.Length); indexSufaceWave++)\\r\\n            //{\\r\\n            //    if (ascandata[indexSufaceWave] >= FSFGate.ThreshAMP)\\r\\n            //    {\\r\\n            //        break;\\r\\n            //    }\\r\\n\\r\\n            //}\\r\\n            return (Math.Abs(indexStartWave) * timeLen / ascandata.Length + timedelay) * v / 2;\\r\\n        }\\r\\n\\r\\n        /// <summary>\\r\\n        /// 数据值转成颜色值\\r\\n        /// </summary>\\r\\n        /// <param name=\"data\"></param>\\r\\n        public static Color DataToColor(double data, DrawImageStyle drawImageStyle, ColorBarControlSmall colorBar, WaveDataStyle wd, bool sign = true)\\r\\n        {\\r\\n            int res = 0;\\r\\n            if (!sign)\\r\\n            {\\r\\n                res = NumConversionTo256(data, wd);\\r\\n            }\\r\\n            else\\r\\n            {\\r\\n                res = (int)data;\\r\\n            }\\r\\n\\r\\n            if (drawImageStyle == DrawImageStyle.Gray)\\r\\n            {\\r\\n                return Color.FromArgb(res, res, res);\\r\\n            }\\r\\n            else\\r\\n            {\\r\\n                res *= 2;\\r\\n\\r\\n                if (res < 0)\\r\\n                {\\r\\n                    res = 0;\\r\\n                }\\r\\n                else\\r\\n                {\\r\\n                    if (res < 1)\\r\\n                    {\\r\\n                        res = 1;\\r\\n                    }\\r\\n                    if (res > 511)\\r\\n                    {\\r\\n                        res = 511;\\r\\n                    }\\r\\n                }\\r\\n\\r\\n                //Color colorRet = Color.FromArgb(ColorBarControlSmall.m_CColorData.m_ColorTab[res]);\\r\\n                Color colorRet = Color.FromArgb(colorBar.m_CColorData.m_ColorTab[res]);\\r\\n                return colorRet;\\r\\n            }\\r\\n        }\\r\\n\\r\\n        /// <summary>\\r\\n        /// 计算颜色\\r\\n        /// </summary>\\r\\n        /// <param name=\"data\"></param>\\r\\n        /// <param name=\"drawImageStyle\"></param>\\r\\n        /// <param name=\"m_ColorTab\"></param>\\r\\n        /// <param name=\"wd\"></param>\\r\\n        /// <param name=\"sign\"></param>\\r\\n        /// <returns></returns>\\r\\n        public static int DataToColorForInt(double data, DrawImageStyle drawImageStyle, int[] m_ColorTab, WaveDataStyle wd, bool sign = true)\\r\\n        {\\r\\n            int res = 0;\\r\\n            if (!sign)\\r\\n            {\\r\\n                res = NumConversionTo256(data, wd);\\r\\n            }\\r\\n            else\\r\\n            {\\r\\n                res = (int)data;\\r\\n            }\\r\\n\\r\\n            if (drawImageStyle == DrawImageStyle.Gray)\\r\\n            {\\r\\n                return Color.FromArgb(res, res, res).ToArgb();\\r\\n            }\\r\\n            else\\r\\n            {\\r\\n                res *= 2;\\r\\n\\r\\n\\r\\n                if (res < 0)\\r\\n                {\\r\\n                    res = 0;\\r\\n                }\\r\\n                if (res > 511)\\r\\n                {\\r\\n                    res = 511;\\r\\n                }\\r\\n\\r\\n                //Color colorRet = Color.FromArgb(ColorBarControlSmall.m_CColorData.m_ColorTab[res]);\\r\\n                int colorRet = m_ColorTab[res];\\r\\n                return colorRet;\\r\\n            }\\r\\n        }\\r\\n      \\r\\n\\r\\n        public static int DataToColorForInt(double data, DrawImageStyle drawImageStyle, ColorBarControlSmall colorBar, WaveDataStyle wd, bool sign = true)\\r\\n        {\\r\\n            int res = 0;\\r\\n            if (!sign)\\r\\n            {\\r\\n                res = NumConversionTo256(data, wd);\\r\\n            }\\r\\n            else\\r\\n            {\\r\\n                res = (int)data;\\r\\n            }\\r\\n\\r\\n            if (drawImageStyle == DrawImageStyle.Gray)\\r\\n            {\\r\\n                return Color.FromArgb(res, res, res).ToArgb();\\r\\n            }\\r\\n            else\\r\\n            {\\r\\n                res *= 2;\\r\\n\\r\\n\\r\\n                if (res < 0)\\r\\n                {\\r\\n                    res = 0;\\r\\n                }\\r\\n                if (res > 511)\\r\\n                {\\r\\n                    res = 511;\\r\\n                }\\r\\n\\r\\n                //Color colorRet = Color.FromArgb(ColorBarControlSmall.m_CColorData.m_ColorTab[res]);\\r\\n                int colorRet = colorBar.m_CColorData.m_ColorTab[res];\\r\\n                return colorRet;\\r\\n            }\\r\\n        }\\r\\n\\r\\n\\r\\n        public static void OutOldColorBar()\\r\\n        {\\r\\n            double step = 0.25 / 63.75;\\r\\n            int R = 0, G = 0, B = 0;\\r\\n            double VoltageScope = 1.0;\\r\\n            for (double data = 0; data <= 1; data += step)\\r\\n            {\\r\\n\\r\\n                if (data <= 0)\\r\\n                    R = G = B = 0;\\r\\n                else if (data <= VoltageScope / 4)\\r\\n                {\\r\\n                    R = G = 0;\\r\\n                    B = Functions.RoundToInt(data * 255 * 4 / VoltageScope);\\r\\n                }\\r\\n\\r\\n                else if (data <= VoltageScope / 2)\\r\\n                {\\r\\n                    R = 0;\\r\\n                    G = Functions.RoundToInt((data - VoltageScope / 4) * 255 * 4 / VoltageScope);\\r\\n                    B = Functions.RoundToInt(255 - (data - VoltageScope / 4) * 255 * 4 / VoltageScope);\\r\\n                }\\r\\n\\r\\n                else if (data <= VoltageScope * 3 / 4)\\r\\n                {\\r\\n                    R = Functions.RoundToInt((data - VoltageScope / 2) * 255 * 4 / VoltageScope);\\r\\n                    G = 255;\\r\\n                    B = 0;\\r\\n                }\\r\\n\\r\\n                else if (data <= VoltageScope)\\r\\n                {\\r\\n                    R = 255;\\r\\n                    G = Functions.RoundToInt(255 - (data - VoltageScope * 3 / 4) * 255 * 4 / VoltageScope);\\r\\n                    B = 0;\\r\\n                }\\r\\n\\r\\n                else\\r\\n                {\\r\\n                    R = 255;\\r\\n                    G = 0;\\r\\n                    B = 0;\\r\\n                }\\r\\n            }\\r\\n        }\\r\\n\\r\\n\\r\\n\\r\\n        /// <summary>\\r\\n        /// 根据数据的最大、最小值，来调整数据的大小，用Ai = (Ai - min) / (max - min)来替代原来的值，可达到提高对比度的作用 \\r\\n        /// </summary>\\r\\n        /// <param name=\"data\"></param>\\r\\n        /// <param name=\"m_GateMode\"></param>\\r\\n        /// <param name=\"m_MaxVoltage\"></param>\\r\\n        /// <returns></returns>\\r\\n        public static double[] AdjustPeakData(double[] data, int scanNum, int indexNum, AmplitudeMode m_GateMode, double m_MaxVoltage, WaveDataStyle wd)\\r\\n        {\\r\\n            int iLen = scanNum * indexNum;\\r\\n            double[] result = new double[iLen];\\r\\n            double min, max;\\r\\n            min = double.MaxValue;\\r\\n            max = double.MinValue;\\r\\n\\r\\n            for (int i = 0; i < iLen; i++) //先找到最大、最小值\\r\\n            {\\r\\n                if (data[i] > max)\\r\\n                {\\r\\n                    max = data[i];\\r\\n                }\\r\\n                if (data[i] < min)\\r\\n                {\\r\\n                    min = data[i];\\r\\n                }\\r\\n            }\\r\\n\\r\\n\\r\\n            double valZone = max - min;\\r\\n            for (int i = 0; i < iLen; i++)\\r\\n            {\\r\\n                result[i] = NumConversionTo256((data[i] - min) * m_MaxVoltage / valZone, wd);\\r\\n            }\\r\\n            return result;\\r\\n        }\\r\\n        /// <summary>\\r\\n        /// 检查打开数据是否正确\\r\\n        /// </summary>\\r\\n        /// <param name=\"config\"></param>\\r\\n        /// <returns></returns>\\r\\n        public static bool CheckFileFormat(Config config, int ishowChanNo)\\r\\n        {\\r\\n            if (config.m_DataGateList.Count <= 0 || config.m_DataGateList.Count > 10)//数据格式不对\\r\\n            {\\r\\n                return false;\\r\\n            }\\r\\n            for (int i = 0; i < config.m_DataGateList.Count; i++)\\r\\n            {\\r\\n                if (config.m_DataGateList[i].m_GateLength <= 0.01 || config.m_DataGateList[i].m_GateLength > 1000)\\r\\n                {\\r\\n                    return false;\\r\\n                }\\r\\n                if (config.m_DataGateList[i].m_GateStart < 0)\\r\\n                {\\r\\n                    return false;\\r\\n                }\\r\\n                if (config.m_DataGateList[i].m_Threshold < 0 || config.m_DataGateList[i].m_Threshold > 1)\\r\\n                {\\r\\n                    return false;\\r\\n                }\\r\\n            }\\r\\n            if (config.m_FSFGate.m_GateIsActived)\\r\\n            {\\r\\n                if (config.m_FSFGate.m_GateLength <= 0.01 || config.m_FSFGate.m_GateLength > 1000)\\r\\n                {\\r\\n                    return false;\\r\\n                }\\r\\n                if (config.m_FSFGate.m_GateStart < 0)\\r\\n                {\\r\\n                    return false;\\r\\n                }\\r\\n                if (config.m_FSFGate.m_Threshold < 0 || config.m_FSFGate.m_Threshold > 1)\\r\\n                {\\r\\n                    return false;\\r\\n                }\\r\\n            }\\r\\n            if (config.m_ScanNum <= 0\\r\\n                   || config.m_ScanNum <= 0\\r\\n                   || config.m_IndexNum <= 0\\r\\n                   || config.m_IndexNum <= 0\\r\\n                   )//数据格式不对\\r\\n            {\\r\\n                return false;\\r\\n            }\\r\\n\\r\\n            if (ishowChanNo != 0)\\r\\n            {\\r\\n                return false;\\r\\n            }\\r\\n\\r\\n\\r\\n            //if (StaticParas.glConfig.m_AscanLength <= 0 )//数据格式不对\\r\\n            //{\\r\\n            //    return false;\\r\\n            //}\\r\\n\\r\\n            return true;\\r\\n        }\\r\\n\\r\\n\\r\\n        ///// <summary>\\r\\n        ///// 读取新版数据文件\\r\\n        ///// </summary>\\r\\n        ///// <param name=\"sFile\">数据文件名</param>\\r\\n        //public static bool ReadNewVersionData(String sFile, ref int iShowChannelNo, ref int offsetToZero, ref Config config, ref List<byte[]> oneChannelData, ref List<byte[,]> notfulldata)\\r\\n        //{\\r\\n        //    try\\r\\n        //    {\\r\\n        //        iShowChannelNo = 0;\\r\\n        //        config = new Config();\\r\\n\\r\\n\\r\\n        //        Stream stream = File.Open(sFile, FileMode.Open);\\r\\n        //        BinaryReader br = new BinaryReader(stream);\\r\\n        //        int version = br.ReadInt16();//内部版本号，暂时用1,表示版本1,整型\\r\\n        //        config.m_Frequency = br.ReadInt32(); //采样频率\\r\\n        //        offsetToZero = br.ReadInt32();      //偏移量\\r\\n        //        config.m_FSFGate.m_iUseBottomWave = br.ReadInt32(); //同步闸门是否底波\\r\\n        //                                                            //StaticParas.glConfig.m_MaxVoltage = br.ReadDouble(); //电压最大值\\r\\n        //        config.m_TimeDelay = br.ReadDouble();      //延迟时间\\r\\n        //        config.m_TimeLength = br.ReadDouble();     //采样长度    \\r\\n        //                                                   //PCIe9802SImport.offsetToZero = br.ReadInt32();            //偏移量\\r\\n        //                                                   //跟踪闸门参数\\r\\n        //        config.m_FSFGate.m_GateIsActived = br.ReadBoolean();// 读取同步闸门是否启用\\r\\n\\r\\n\\r\\n\\r\\n        //        config.m_FSFGate.m_GateStart = br.ReadDouble();\\r\\n        //        config.m_FSFGate.m_GateLength = br.ReadDouble();\\r\\n        //        config.m_FSFGate.m_Threshold = br.ReadDouble();\\r\\n        //        if (!config.m_FSFGate.m_GateIsActived)\\r\\n        //        {\\r\\n        //            config.m_FSFGate.m_GateStart = 0;\\r\\n        //            config.m_FSFGate.m_GateLength = 0;\\r\\n        //            config.m_FSFGate.m_Threshold = 0;\\r\\n        //        }\\r\\n\\r\\n        //        // ===================  ediy by camellia 20190815  ===========================\\r\\n        //        config.m_FullWaveFlag = br.ReadBoolean();\\r\\n        //        // 读取闸门数量\\r\\n        //        int iGateDataNum = br.ReadInt32();\\r\\n\\r\\n        //        for (int i = 0; i < iGateDataNum; i++)\\r\\n        //        {\\r\\n        //            // 添加一套闸门参数\\r\\n        //            config.m_DataGateList.Add(new LockGate());\\r\\n        //            // 数据闸门参数\\r\\n        //            config.m_DataGateList[i].m_GateStart = br.ReadDouble();\\r\\n        //            config.m_DataGateList[i].m_GateLength = br.ReadDouble();\\r\\n        //            config.m_DataGateList[i].m_Threshold = br.ReadDouble();\\r\\n        //            config.m_DataGateList[i].m_GateMode = (AmplitudeMode)br.ReadInt32();\\r\\n        //            // colorbar索引\\r\\n        //            config.colorBarArray[i] = br.ReadInt32();\\r\\n        //            // colorbar上限\\r\\n        //            config.colorBarUpValueArray[i] = br.ReadInt32();\\r\\n        //            // colorbar下限\\r\\n        //            config.colorBarDownValueArray[i] = br.ReadInt32();\\r\\n\\r\\n\\r\\n\\r\\n\\r\\n\\r\\n\\r\\n        //        }\\r\\n\\r\\n        //        // 扫查参数\\r\\n        //        config.m_ScanWidth = br.ReadDouble();\\r\\n        //        config.m_IndexWidth = br.ReadDouble();\\r\\n        //        config.m_ScanResolution = br.ReadDouble();\\r\\n        //        config.m_IndexResolution = br.ReadDouble();\\r\\n\\r\\n\\r\\n        //        // 读入扫查行、列数\\r\\n        //        config.m_ScanNum = br.ReadInt32();\\r\\n        //        config.m_IndexNum = br.ReadInt32();\\r\\n\\r\\n        //        // A扫描长度\\r\\n        //        config.m_AscanLength = br.ReadInt32();\\r\\n        //        // 每个通道有多少A扫描\\r\\n        //        int OneChannelAscanNum = br.ReadInt32();\\r\\n        //        // 通道对应数（1,2,3,4,5,6,7,8）\\r\\n        //        iShowChannelNo = br.ReadInt32();\\r\\n        //        // 所有备用量\\r\\n        //        StaticParas.comments = new string[8] { \"\", \"\", \"\", \"\", \"\", \"\", \"\", \"\" };\\r\\n        //        string strcomment = br.ReadString();\\r\\n        //        string[] arrcomment = strcomment.Split(\\',\\');\\r\\n        //        for (int i = 0; i < arrcomment.Length; i++)\\r\\n        //        {\\r\\n        //            StaticParas.comments[i] = arrcomment[i];\\r\\n        //        }\\r\\n\\r\\n        //        if (string.IsNullOrEmpty(StaticParas.comments[2]))\\r\\n        //        {\\r\\n        //            config.m_RulerUnit = RulerUnit.us;\\r\\n        //        }\\r\\n        //        else\\r\\n        //        {\\r\\n        //            config.m_RulerUnit = (RulerUnit)Convert.ToInt32(StaticParas.comments[2]);\\r\\n        //        }\\r\\n        //        if (string.IsNullOrEmpty(StaticParas.comments[3]))\\r\\n        //        {\\r\\n        //            config.m_WaveStyle = WaveStyle.longi;\\r\\n        //        }\\r\\n        //        else\\r\\n        //        {\\r\\n        //            config.m_WaveStyle = (WaveStyle)Convert.ToInt32(StaticParas.comments[3]);\\r\\n        //        }\\r\\n        //        if (string.IsNullOrEmpty(StaticParas.comments[4]))\\r\\n        //        {\\r\\n        //            config.m_MaterialVel = 1.48;\\r\\n        //        }\\r\\n        //        else\\r\\n        //        {\\r\\n        //            config.m_MaterialVel = Convert.ToDouble(StaticParas.comments[4]);\\r\\n        //        }\\r\\n        //        if (string.IsNullOrEmpty(StaticParas.comments[5]))\\r\\n        //        {\\r\\n        //            config.m_DepthTimeLength = 0;\\r\\n        //        }\\r\\n        //        else\\r\\n        //        {\\r\\n        //            config.m_DepthTimeLength = Convert.ToDouble(StaticParas.comments[5]);\\r\\n        //        }\\r\\n        //        if (string.IsNullOrEmpty(StaticParas.comments[6]))\\r\\n        //        {\\r\\n        //            StaticParas.glSignalSrc = 1;\\r\\n        //        }\\r\\n        //        else\\r\\n        //        {\\r\\n        //            StaticParas.glSignalSrc = Convert.ToInt32(StaticParas.comments[6]);\\r\\n        //        }\\r\\n        //        if (string.IsNullOrEmpty(StaticParas.comments[7]))\\r\\n        //        {\\r\\n        //            config.m_WaveDataStyle = WaveDataStyle.RF;\\r\\n        //        }\\r\\n        //        else\\r\\n        //        {\\r\\n        //            config.m_WaveDataStyle = (WaveDataStyle)Convert.ToInt32(StaticParas.comments[7]);\\r\\n        //        }\\r\\n        //        // 读取备用量\\r\\n        //        //for (int i = 0; i < 6; i++)\\r\\n        //        //{\\r\\n        //        //    StaticParas.comments[i] = br.ReadString();\\r\\n        //        //}\\r\\n        //        //config.m_RulerUnit = (RulerUnit)Convert.ToInt32(StaticParas.comments[1]);\\r\\n        //        //config.m_WaveStyle = (WaveStyle)Convert.ToInt32(StaticParas.comments[2]);\\r\\n        //        //config.transWave = Convert.ToDouble(StaticParas.comments[3]);\\r\\n        //        //config.longiWave = Convert.ToDouble(StaticParas.comments[4]);\\r\\n\\r\\n        //        // 读入全波数据\\r\\n        //        oneChannelData = new List<byte[]>();\\r\\n        //        // 读入数据\\r\\n        //        if (config.m_FullWaveFlag)\\r\\n        //        {\\r\\n        //            for (int i = 0; i < OneChannelAscanNum; i++)\\r\\n        //            {\\r\\n        //                // 存储一个A扫描的数组\\r\\n        //                //byte[] oneAscanData = new byte[StaticParas.glConfig.m_AscanLength];\\r\\n        //                byte[] oneAscanData = null;// new byte[StaticParas.glConfig.m_AscanLength];\\r\\n        //                oneAscanData = br.ReadBytes(config.m_AscanLength);\\r\\n        //                oneChannelData.Add(oneAscanData);\\r\\n\\r\\n        //            }\\r\\n        //        }\\r\\n        //        else\\r\\n        //        {\\r\\n        //            // 读入非全波数据=====未修改（新的数据格式）\\r\\n        //            notfulldata = new List<byte[ ,]>();\\r\\n                   \\r\\n        //            for (int i = 0; i < config.m_ScanNum; i++)\\r\\n        //            {\\r\\n        //                byte[,] tmpIndexData = new byte[config.m_IndexNum, iGateDataNum * 2];\\r\\n        //                for (int j = 0; j < config.m_IndexNum; j++)\\r\\n        //                {\\r\\n        //                    for (int k = 0; k < iGateDataNum * 2; k++)\\r\\n        //                    {\\r\\n        //                        tmpIndexData[ j, k] = br.ReadByte();\\r\\n        //                    }\\r\\n        //                }\\r\\n        //                notfulldata.Add(tmpIndexData);\\r\\n        //            }\\r\\n        //        }\\r\\n\\r\\n\\r\\n        //        br.Close();\\r\\n        //        stream.Close();\\r\\n        //        return CheckFileFormat(config, iShowChannelNo);\\r\\n        //    }\\r\\n        //    catch (Exception ex)\\r\\n        //    {\\r\\n        //        Console.WriteLine(ex.ToString());\\r\\n        //        config.colorBarDownValueArray[0] = 377;\\r\\n        //        config.colorBarUpValueArray[0] = 0;\\r\\n        //        Console.WriteLine(\"文件读取失败，请重试\");\\r\\n        //        //LoadingHelper.CloseForm();//关闭\\r\\n        //        return false;\\r\\n        //    }\\r\\n\\r\\n        //}\\r\\n\\r\\n        /// <summary>\\r\\n        /// 读取非全波+一个A信号文件\\r\\n        /// </summary>\\r\\n        /// <param name=\"sFile\">数据文件名</param>\\r\\n        public static bool ReadNewVersionData(String sFile, bool isfullshow, ref int iShowChannelNo, ref int offsetToZero, ref Config config, ref List<byte[]> oneChannelData, ref List<byte[,]> notfulldata)\\r\\n        {\\r\\n            try\\r\\n            {\\r\\n                iShowChannelNo = 0;\\r\\n                config = new Config();\\r\\n\\r\\n\\r\\n                Stream stream = File.Open(sFile, FileMode.Open);\\r\\n                BinaryReader br = new BinaryReader(stream);\\r\\n                int version = br.ReadInt16();//内部版本号，暂时用1,表示版本1,整型\\r\\n                config.m_Frequency = br.ReadInt32(); //采样频率\\r\\n                offsetToZero = br.ReadInt32();      //偏移量\\r\\n                config.m_FSFGate.m_iUseBottomWave = br.ReadInt32(); //同步闸门是否底波\\r\\n                                                                    //StaticParas.glConfig.m_MaxVoltage = br.ReadDouble(); //电压最大值\\r\\n                config.m_TimeDelay = br.ReadDouble();      //延迟时间\\r\\n                config.m_TimeLength = br.ReadDouble();     //采样长度    \\r\\n                                                           //PCIe9802SImport.offsetToZero = br.ReadInt32();            //偏移量\\r\\n                                                           //跟踪闸门参数\\r\\n                config.m_FSFGate.m_GateIsActived = br.ReadBoolean();// 读取同步闸门是否启用\\r\\n\\r\\n\\r\\n\\r\\n                config.m_FSFGate.m_GateStart = br.ReadDouble();\\r\\n                config.m_FSFGate.m_GateLength = br.ReadDouble();\\r\\n                config.m_FSFGate.m_Threshold = br.ReadDouble();\\r\\n                if (!config.m_FSFGate.m_GateIsActived)\\r\\n                {\\r\\n                    config.m_FSFGate.m_GateStart = 0;\\r\\n                    config.m_FSFGate.m_GateLength = 0;\\r\\n                    config.m_FSFGate.m_Threshold = 0;\\r\\n                }\\r\\n\\r\\n                // ===================  ediy by camellia 20190815  ===========================\\r\\n                config.m_FullWaveFlag = br.ReadBoolean();\\r\\n                // 读取闸门数量\\r\\n                int iGateDataNum = br.ReadInt32();\\r\\n\\r\\n                for (int i = 0; i < iGateDataNum; i++)\\r\\n                {\\r\\n                    // 添加一套闸门参数\\r\\n                    config.m_DataGateList.Add(new LockGate());\\r\\n                    // 数据闸门参数\\r\\n                    config.m_DataGateList[i].m_GateStart = br.ReadDouble();\\r\\n                    config.m_DataGateList[i].m_GateLength = br.ReadDouble();\\r\\n                    config.m_DataGateList[i].m_Threshold = br.ReadDouble();\\r\\n                    config.m_DataGateList[i].m_GateMode = (AmplitudeMode)br.ReadInt32();\\r\\n                    // colorbar索引\\r\\n                    config.colorBarArray[i] = br.ReadInt32();\\r\\n                    // colorbar上限\\r\\n                    config.colorBarUpValueArray[i] = br.ReadInt32();\\r\\n                    // colorbar下限\\r\\n                    config.colorBarDownValueArray[i] = br.ReadInt32();\\r\\n\\r\\n\\r\\n\\r\\n\\r\\n\\r\\n\\r\\n                }\\r\\n\\r\\n                // 扫查参数\\r\\n                config.m_ScanWidth = br.ReadDouble();\\r\\n                config.m_IndexWidth = br.ReadDouble();\\r\\n                config.m_ScanResolution = br.ReadDouble();\\r\\n                config.m_IndexResolution = br.ReadDouble();\\r\\n\\r\\n\\r\\n                // 读入扫查行、列数\\r\\n                config.m_ScanNum = br.ReadInt32();\\r\\n                config.m_IndexNum = br.ReadInt32();\\r\\n\\r\\n                // A扫描长度\\r\\n                config.m_AscanLength = br.ReadInt32();\\r\\n                // 每个通道有多少A扫描\\r\\n                int OneChannelAscanNum = br.ReadInt32();\\r\\n                config.m_ActualCollAScanNum = (ulong)OneChannelAscanNum;\\r\\n\\r\\n                // 通道对应数（1,2,3,4,5,6,7,8）\\r\\n                iShowChannelNo = br.ReadInt32();\\r\\n                // 所有备用量\\r\\n                StaticParas.comments = new string[8] { \"\", \"\", \"\", \"\", \"\", \"\", \"\", \"\" };\\r\\n                string strcomment = br.ReadString();\\r\\n                string[] arrcomment = strcomment.Split(\\',\\');\\r\\n                for (int i = 0; i < arrcomment.Length; i++)\\r\\n                {\\r\\n                    StaticParas.comments[i] = arrcomment[i];\\r\\n                }\\r\\n\\r\\n                if (string.IsNullOrEmpty(StaticParas.comments[2]))\\r\\n                {\\r\\n                    config.m_RulerUnit = RulerUnit.us;\\r\\n                }\\r\\n                else\\r\\n                {\\r\\n                    config.m_RulerUnit = (RulerUnit)Convert.ToInt32(StaticParas.comments[2]);\\r\\n                }\\r\\n                if (string.IsNullOrEmpty(StaticParas.comments[3]))\\r\\n                {\\r\\n                    config.m_WaveStyle = WaveStyle.longi;\\r\\n                }\\r\\n                else\\r\\n                {\\r\\n                    config.m_WaveStyle = (WaveStyle)Convert.ToInt32(StaticParas.comments[3]);\\r\\n                }\\r\\n                if (string.IsNullOrEmpty(StaticParas.comments[4]))\\r\\n                {\\r\\n                    config.m_MaterialVel = 1.48;\\r\\n                }\\r\\n                else\\r\\n                {\\r\\n                    config.m_MaterialVel = Convert.ToDouble(StaticParas.comments[4]);\\r\\n                }\\r\\n                if (string.IsNullOrEmpty(StaticParas.comments[5]))\\r\\n                {\\r\\n                    config.m_DepthTimeLength = 0;\\r\\n                }\\r\\n                else\\r\\n                {\\r\\n                    config.m_DepthTimeLength = Convert.ToDouble(StaticParas.comments[5]);\\r\\n                }\\r\\n                //if (string.IsNullOrEmpty(StaticParas.comments[6]))\\r\\n                //{\\r\\n                //    StaticParas.glSignalSrc = 1;\\r\\n                //}\\r\\n                //else\\r\\n                //{\\r\\n                //    StaticParas.glSignalSrc = Convert.ToInt32(StaticParas.comments[6]);\\r\\n                //}\\r\\n                if (string.IsNullOrEmpty(StaticParas.comments[7]))\\r\\n                {\\r\\n                    config.m_WaveDataStyle = WaveDataStyle.RF;\\r\\n                }\\r\\n                else\\r\\n                {\\r\\n                    config.m_WaveDataStyle = (WaveDataStyle)Convert.ToInt32(StaticParas.comments[7]);\\r\\n                }\\r\\n                // 读取备用量\\r\\n                //for (int i = 0; i < 6; i++)\\r\\n                //{\\r\\n                //    StaticParas.comments[i] = br.ReadString();\\r\\n                //}\\r\\n                //config.m_RulerUnit = (RulerUnit)Convert.ToInt32(StaticParas.comments[1]);\\r\\n                //config.m_WaveStyle = (WaveStyle)Convert.ToInt32(StaticParas.comments[2]);\\r\\n                //config.transWave = Convert.ToDouble(StaticParas.comments[3]);\\r\\n                //config.longiWave = Convert.ToDouble(StaticParas.comments[4]);\\r\\n\\r\\n                // 读入全波数据\\r\\n                oneChannelData = new List<byte[]>();\\r\\n                // 读入数据\\r\\n                if (config.m_FullWaveFlag)\\r\\n                {\\r\\n                    if (!isfullshow)\\r\\n                    {\\r\\n                        //1 读非全波数据\\r\\n                        notfulldata = new List<byte[,]>();\\r\\n\\r\\n                        for (int i = 0; i < config.m_ScanNum; i++)\\r\\n                        {\\r\\n                            byte[,] tmpIndexData = new byte[config.m_IndexNum, iGateDataNum * 2];\\r\\n                            for (int j = 0; j < config.m_IndexNum; j++)\\r\\n                            {\\r\\n                                for (int k = 0; k < iGateDataNum * 2; k++)\\r\\n                                {\\r\\n                                    tmpIndexData[j, k] = br.ReadByte();\\r\\n                                }\\r\\n                            }\\r\\n                            notfulldata.Add(tmpIndexData);\\r\\n                        }\\r\\n\\r\\n\\r\\n                        //2 读取一个A信号，0,0\\r\\n                        byte[] oneAscanData = null;// new byte[StaticParas.glConfig.m_AscanLength];\\r\\n                        oneAscanData = br.ReadBytes(config.m_AscanLength);\\r\\n                        oneChannelData.Add(oneAscanData);\\r\\n                    }\\r\\n                    else\\r\\n                    {\\r\\n                        for (int i = 0; i < OneChannelAscanNum; i++)\\r\\n                        {\\r\\n                            // 存储一个A扫描的数组\\r\\n                            //byte[] oneAscanData = new byte[StaticParas.glConfig.m_AscanLength];\\r\\n                            byte[] oneAscanData = null;// new byte[StaticParas.glConfig.m_AscanLength];\\r\\n                            oneAscanData = br.ReadBytes(config.m_AscanLength);\\r\\n                            oneChannelData.Add(oneAscanData);\\r\\n\\r\\n                        }\\r\\n                    }\\r\\n\\r\\n                }\\r\\n                else\\r\\n                {\\r\\n                    // 读入非全波数据=====未修改（新的数据格式）\\r\\n                    notfulldata = new List<byte[,]>();\\r\\n                    for (int i = 0; i < config.m_ScanNum; i++)\\r\\n                    {\\r\\n                        byte[,] tmpIndexData = new byte[config.m_IndexNum, iGateDataNum * 2];\\r\\n                        for (int j = 0; j < config.m_IndexNum; j++)\\r\\n                        {\\r\\n                            for (int k = 0; k < iGateDataNum * 2; k++)\\r\\n                            {\\r\\n                                tmpIndexData[j, k] = br.ReadByte();\\r\\n                            }\\r\\n                        }\\r\\n                        notfulldata.Add(tmpIndexData);\\r\\n                    }\\r\\n\\r\\n\\r\\n                }\\r\\n\\r\\n\\r\\n                br.Close();\\r\\n                stream.Close();\\r\\n                return CheckFileFormat(config, iShowChannelNo);\\r\\n            }\\r\\n            catch (Exception ex)\\r\\n            {\\r\\n                Console.WriteLine(ex.ToString());\\r\\n                config.colorBarDownValueArray[0] = 377;\\r\\n                config.colorBarUpValueArray[0] = 0;\\r\\n                Console.WriteLine(\"文件读取失败，请重试\");\\r\\n                //LoadingHelper.CloseForm();//关闭\\r\\n                return false;\\r\\n            }\\r\\n\\r\\n        }\\r\\n\\r\\n        /// <summary>\\r\\n        /// 读取全波文件\\r\\n        /// </summary>\\r\\n        public static bool ReadNewVersionData(String sFile, bool isfullshow, StatusStrip status, ToolStripStatusLabel toollabel, ref int iShowChannelNo, ref int offsetToZero, ref Config config, ref List<byte[]> oneChannelData, ref List<byte[,]> notfulldata, ref bool isReadOk)\\r\\n        {\\r\\n            try\\r\\n            {\\r\\n                isReadOk = false;\\r\\n                iShowChannelNo = 0;\\r\\n                config = new Config();\\r\\n\\r\\n\\r\\n\\r\\n\\r\\n                Stream stream = File.Open(sFile, FileMode.Open);\\r\\n                BinaryReader br = new BinaryReader(stream);\\r\\n                int version = br.ReadInt16();//内部版本号，暂时用1,表示版本1,整型\\r\\n                config.m_Frequency = br.ReadInt32(); //采样频率\\r\\n                offsetToZero = br.ReadInt32();      //偏移量\\r\\n                config.m_FSFGate.m_iUseBottomWave = br.ReadInt32(); //同步闸门是否底波\\r\\n                                                                    //StaticParas.glConfig.m_MaxVoltage = br.ReadDouble(); //电压最大值\\r\\n                config.m_TimeDelay = br.ReadDouble();      //延迟时间\\r\\n                config.m_TimeLength = br.ReadDouble();     //采样长度    \\r\\n                                                           //PCIe9802SImport.offsetToZero = br.ReadInt32();            //偏移量\\r\\n                                                           //跟踪闸门参数\\r\\n                config.m_FSFGate.m_GateIsActived = br.ReadBoolean();// 读取同步闸门是否启用\\r\\n\\r\\n\\r\\n\\r\\n                config.m_FSFGate.m_GateStart = br.ReadDouble();\\r\\n                config.m_FSFGate.m_GateLength = br.ReadDouble();\\r\\n                config.m_FSFGate.m_Threshold = br.ReadDouble();\\r\\n                if (!config.m_FSFGate.m_GateIsActived)\\r\\n                {\\r\\n                    config.m_FSFGate.m_GateStart = 0;\\r\\n                    config.m_FSFGate.m_GateLength = 0;\\r\\n                    config.m_FSFGate.m_Threshold = 0;\\r\\n                }\\r\\n\\r\\n                // ===================  ediy by camellia 20190815  ===========================\\r\\n                config.m_FullWaveFlag = br.ReadBoolean();\\r\\n                // 读取闸门数量\\r\\n                int iGateDataNum = br.ReadInt32();\\r\\n\\r\\n                for (int i = 0; i < iGateDataNum; i++)\\r\\n                {\\r\\n                    // 添加一套闸门参数\\r\\n                    config.m_DataGateList.Add(new LockGate());\\r\\n                    // 数据闸门参数\\r\\n                    config.m_DataGateList[i].m_GateStart = br.ReadDouble();\\r\\n                    config.m_DataGateList[i].m_GateLength = br.ReadDouble();\\r\\n                    config.m_DataGateList[i].m_Threshold = br.ReadDouble();\\r\\n                    config.m_DataGateList[i].m_GateMode = (AmplitudeMode)br.ReadInt32();\\r\\n                    // colorbar索引\\r\\n                    config.colorBarArray[i] = br.ReadInt32();\\r\\n                    // colorbar上限\\r\\n                    config.colorBarUpValueArray[i] = br.ReadInt32();\\r\\n                    // colorbar下限\\r\\n                    config.colorBarDownValueArray[i] = br.ReadInt32();\\r\\n\\r\\n                }\\r\\n\\r\\n                // 扫查参数\\r\\n                config.m_ScanWidth = br.ReadDouble();\\r\\n                config.m_IndexWidth = br.ReadDouble();\\r\\n                config.m_ScanResolution = br.ReadDouble();\\r\\n                config.m_IndexResolution = br.ReadDouble();\\r\\n\\r\\n\\r\\n                // 读入扫查行、列数\\r\\n                config.m_ScanNum = br.ReadInt32();\\r\\n                config.m_IndexNum = br.ReadInt32();\\r\\n\\r\\n                // A扫描长度\\r\\n                config.m_AscanLength = br.ReadInt32();\\r\\n                // 每个通道有多少A扫描\\r\\n                int OneChannelAscanNum = br.ReadInt32();\\r\\n                config.m_ActualCollAScanNum = (ulong)OneChannelAscanNum;\\r\\n                // 通道对应数（1,2,3,4,5,6,7,8）\\r\\n                iShowChannelNo = br.ReadInt32();\\r\\n                // 所有备用量\\r\\n                StaticParas.comments = new string[8] { \"\", \"\", \"\", \"\", \"\", \"\", \"\", \"\" };\\r\\n                string strcomment = br.ReadString();\\r\\n                string[] arrcomment = strcomment.Split(\\',\\');\\r\\n                for (int i = 0; i < arrcomment.Length; i++)\\r\\n                {\\r\\n                    StaticParas.comments[i] = arrcomment[i];\\r\\n                }\\r\\n\\r\\n                if (string.IsNullOrEmpty(StaticParas.comments[2]))\\r\\n                {\\r\\n                    config.m_RulerUnit = RulerUnit.us;\\r\\n                }\\r\\n                else\\r\\n                {\\r\\n                    config.m_RulerUnit = (RulerUnit)Convert.ToInt32(StaticParas.comments[2]);\\r\\n                }\\r\\n                if (string.IsNullOrEmpty(StaticParas.comments[3]))\\r\\n                {\\r\\n                    config.m_WaveStyle = WaveStyle.longi;\\r\\n                }\\r\\n                else\\r\\n                {\\r\\n                    config.m_WaveStyle = (WaveStyle)Convert.ToInt32(StaticParas.comments[3]);\\r\\n                }\\r\\n                if (string.IsNullOrEmpty(StaticParas.comments[4]))\\r\\n                {\\r\\n                    config.m_MaterialVel = 1.48;\\r\\n                }\\r\\n                else\\r\\n                {\\r\\n                    config.m_MaterialVel = Convert.ToDouble(StaticParas.comments[4]);\\r\\n                }\\r\\n                if (string.IsNullOrEmpty(StaticParas.comments[5]))\\r\\n                {\\r\\n                    config.m_DepthTimeLength = 0;\\r\\n                }\\r\\n                else\\r\\n                {\\r\\n                    config.m_DepthTimeLength = Convert.ToDouble(StaticParas.comments[5]);\\r\\n                }\\r\\n                //if (string.IsNullOrEmpty(StaticParas.comments[6]))\\r\\n                //{\\r\\n                //    StaticParas.glSignalSrc = 1;\\r\\n                //}\\r\\n                //else\\r\\n                //{\\r\\n                //    StaticParas.glSignalSrc = Convert.ToInt32(StaticParas.comments[6]);\\r\\n                //}\\r\\n                if (string.IsNullOrEmpty(StaticParas.comments[7]))\\r\\n                {\\r\\n                    config.m_WaveDataStyle = WaveDataStyle.RF;\\r\\n                }\\r\\n                else\\r\\n                {\\r\\n                    config.m_WaveDataStyle = (WaveDataStyle)Convert.ToInt32(StaticParas.comments[7]);\\r\\n                }\\r\\n                // 读取备用量\\r\\n                //for (int i = 0; i < 6; i++)\\r\\n                //{\\r\\n                //    StaticParas.comments[i] = br.ReadString();\\r\\n                //}\\r\\n                //config.m_RulerUnit = (RulerUnit)Convert.ToInt32(StaticParas.comments[1]);\\r\\n                //config.m_WaveStyle = (WaveStyle)Convert.ToInt32(StaticParas.comments[2]);\\r\\n                //config.transWave = Convert.ToDouble(StaticParas.comments[3]);\\r\\n                //config.longiWave = Convert.ToDouble(StaticParas.comments[4]);\\r\\n\\r\\n                // 读入全波数据\\r\\n                oneChannelData = new List<byte[]>();\\r\\n                // 读入数据\\r\\n                if (config.m_FullWaveFlag)\\r\\n                {\\r\\n                    if (!isfullshow)\\r\\n                    {\\r\\n                        //1 读非全波数据\\r\\n                        notfulldata = new List<byte[,]>();\\r\\n                        for (int i = 0; i < config.m_ScanNum; i++)\\r\\n                        {\\r\\n                            byte[,] tmpIndexData = new byte[config.m_IndexNum, iGateDataNum * 2];\\r\\n                            for (int j = 0; j < config.m_IndexNum; j++)\\r\\n                            {\\r\\n                                for (int k = 0; k < iGateDataNum * 2; k++)\\r\\n                                {\\r\\n                                    tmpIndexData[j, k] = br.ReadByte();\\r\\n                                }\\r\\n                            }\\r\\n                            notfulldata.Add(tmpIndexData);\\r\\n                        }\\r\\n                        //2 读取一个A信号，0,0\\r\\n                        byte[] oneAscanData = null;// new byte[StaticParas.glConfig.m_AscanLength];\\r\\n                        oneAscanData = br.ReadBytes(config.m_AscanLength);\\r\\n                        oneChannelData.Add(oneAscanData);\\r\\n                    }\\r\\n                    else\\r\\n                    {\\r\\n                        for (int i = 0; i < OneChannelAscanNum; i++)\\r\\n                        {\\r\\n                            // 存储一个A扫描的数组\\r\\n                            //byte[] oneAscanData = new byte[StaticParas.glConfig.m_AscanLength];\\r\\n                            byte[] oneAscanData = null;// new byte[StaticParas.glConfig.m_AscanLength];\\r\\n                            oneAscanData = br.ReadBytes(config.m_AscanLength);\\r\\n                            oneChannelData.Add(oneAscanData);\\r\\n                            // 刷新扫查进度条\\r\\n                            //progress.ProgressBar.Invoke(new Action(() =>\\r\\n                            //{\\r\\n                            //    progress.Value = (int)Math.Floor(Math.Round(((double)i / (OneChannelAscanNum - 1) * 100), 2));\\r\\n                            //}));\\r\\n                        }\\r\\n                    }\\r\\n\\r\\n                }\\r\\n                else\\r\\n                {\\r\\n                    // 读入非全波数据=====未修改（新的数据格式）\\r\\n                    notfulldata = new List<byte[,]>();\\r\\n                    for (int i = 0; i < config.m_ScanNum; i++)\\r\\n                    {\\r\\n                        byte[,] tmpIndexData = new byte[config.m_IndexNum, iGateDataNum * 2];\\r\\n                        for (int j = 0; j < config.m_IndexNum; j++)\\r\\n                        {\\r\\n                            for (int k = 0; k < iGateDataNum * 2; k++)\\r\\n                            {\\r\\n                                tmpIndexData[j, k] = br.ReadByte();\\r\\n                            }\\r\\n                        }\\r\\n                        notfulldata.Add(tmpIndexData);\\r\\n                    }\\r\\n                }\\r\\n\\r\\n\\r\\n                br.Close();\\r\\n                stream.Close();\\r\\n                isReadOk = true;\\r\\n                if (isReadOk)\\r\\n                {\\r\\n                    status.Invoke(new Action(() =>\\r\\n                    {\\r\\n                        toollabel.Text = \"已完成\";\\r\\n                    }));\\r\\n                }\\r\\n                return CheckFileFormat(config, iShowChannelNo);\\r\\n            }\\r\\n            catch (Exception ex)\\r\\n            {\\r\\n                Console.WriteLine(ex.ToString());\\r\\n                config.colorBarDownValueArray[0] = 377;\\r\\n                config.colorBarUpValueArray[0] = 0;\\r\\n                Console.WriteLine(\"文件读取失败，请重试\");\\r\\n                //LoadingHelper.CloseForm();//关闭\\r\\n                return false;\\r\\n            }\\r\\n\\r\\n        }\\r\\n\\r\\n\\r\\n\\r\\n\\r\\n        ///// <summary>\\r\\n        ///// 保存全波/非全波文件\\r\\n        ///// </summary>\\r\\n        ///// <param name=\"sFile\">文件名</param>\\r\\n        ///// <param name=\"colorBarArray\">colorbar</param>\\r\\n        ///// <param name=\"OneChannelData\">一个通道的全部A扫描数据</param>\\r\\n        ///// <param name=\"index\">通道数</param>\\r\\n        //public static void SaveDatafileWithNewVersion(string sFile, Config config, List<byte[]> OneChannelData, int index)\\r\\n        //{\\r\\n        //    int saveIndexNum = StaticParas.Pre_IndexNum;\\r\\n        //    int[] colorBarArray = config.colorBarArray;\\r\\n        //    //文件格式依次为：内部版本号，...\\r\\n        //    Stream stream = File.Open(sFile, FileMode.Create);\\r\\n        //    BinaryWriter bw = new BinaryWriter(stream);\\r\\n\\r\\n        //    bw.Write((Int16)1);//内部版本号，暂时用1,表示版本1,整型\\r\\n\\r\\n        //    ///写入Config对象\\r\\n        //    bw.Write(config.m_Frequency); //采样频率\\r\\n        //    bw.Write(config.offsetToZero);       //偏移量\\r\\n        //    bw.Write(config.m_FSFGate.m_iUseBottomWave);        //同步闸门是否底波\\r\\n        //    //bw.Write(StaticParas.glConfig.m_MaxVoltage); //电压最大值\\r\\n        //    bw.Write(config.m_TimeDelay);      //延迟时间\\r\\n        //    bw.Write(config.m_TimeLength);     //采样长度 \\r\\n        //                                       // bw.Write(PCIe9802SImport.offsetToZero);       //偏移量\\r\\n        //                                       //跟踪闸门参数\\r\\n        //    bw.Write(config.m_FSFGate.m_GateIsActived);//闸门是否启用\\r\\n        //    bw.Write(config.m_FSFGate.m_GateStart);\\r\\n        //    bw.Write(config.m_FSFGate.m_GateLength);\\r\\n        //    bw.Write(config.m_FSFGate.m_Threshold);\\r\\n        //    //数据闸门参数\\r\\n        //    // ================== 20190704 editby gc  ==========================================\\r\\n        //    // 可能有多套数据闸门。存数据的时候，需要存储一个闸门数量。存储1和2。当有两套数据闸门参数，那么就存储两套数据。\\r\\n        //    // 读取数据时，根据读取到的闸门数量，来判定如何读取文件\\r\\n        //    // 数据闸门参数列表的数数量\\r\\n\\r\\n        //    if (config.m_DataGateList.Count == 0)\\r\\n        //    {\\r\\n        //        MessageBox.Show(\"保存失败，数据格式错误，请重试\");\\r\\n        //        return;\\r\\n        //    }\\r\\n        //    // 全波标记 \\r\\n        //    bw.Write(config.m_FullWaveFlag);\\r\\n        //    // 数据闸门数量写入\\r\\n        //    bw.Write(config.m_DataGateList.Count);\\r\\n        //    // 数据闸门参数写入\\r\\n        //    for (int i = 0; i < config.m_DataGateList.Count; i++)\\r\\n        //    {\\r\\n        //        //数据闸门参数\\r\\n        //        bw.Write(config.m_DataGateList[i].m_GateStart);\\r\\n        //        bw.Write(config.m_DataGateList[i].m_GateLength);\\r\\n        //        bw.Write(config.m_DataGateList[i].m_Threshold);\\r\\n\\r\\n        //        bw.Write(colorBarArray[i]);//colorbar的序号\\r\\n        //        bw.Write(config.colorBarUpValueArray[i]);//上限\\r\\n        //        bw.Write(config.colorBarDownValueArray[i]);//下限\\r\\n\\r\\n\\r\\n        //    }\\r\\n\\r\\n        //    // ================== 20190704 editby gc end ========================================\\r\\n        //    //扫查参数\\r\\n        //    bw.Write(config.m_ScanWidth);\\r\\n        //    bw.Write(config.m_IndexWidth);\\r\\n        //    bw.Write(config.m_ScanResolution);\\r\\n        //    bw.Write(config.m_IndexResolution);\\r\\n        //    //bw.Write(StaticParas.glConfig.m_ScanSpeed);\\r\\n        //    //bw.Write(StaticParas.glConfig.m_IndexSpeed);\\r\\n\\r\\n\\r\\n        //    ///写入扫查行、列数\\r\\n        //    bw.Write(config.m_ScanNum);\\r\\n        //    bw.Write(saveIndexNum);\\r\\n\\r\\n        //    // 一个A扫描长度\\r\\n        //    bw.Write(config.m_AscanLength);\\r\\n        //    int AscanLengthNum = OneChannelData.Count;\\r\\n        //    //for (int i = 0; i < OneChannelData.Count; i++)\\r\\n        //    //{\\r\\n        //    //    if (OneChannelData[i].Length != 0)\\r\\n        //    //    {\\r\\n        //    //        AscanLengthNum++;\\r\\n        //    //    }\\r\\n        //    //}\\r\\n        //    // 每个通道有多少A扫描\\r\\n        //    bw.Write(AscanLengthNum);\\r\\n        //    // 通道数写入\\r\\n        //    bw.Write(index);\\r\\n        //    // 写入备用量\\r\\n\\r\\n        //    List<string> comments = new List<string>();\\r\\n        //    comments.Add(StaticParas.glConfig.m_ScanningAxis);\\r\\n        //    comments.Add(StaticParas.glConfig.m_IndexAxis);\\r\\n        //    comments.Add(Convert.ToInt32(config.m_RulerUnit).ToString());\\r\\n        //    comments.Add(Convert.ToInt32(config.m_WaveStyle).ToString());\\r\\n        //    comments.Add(config.m_MaterialVel.ToString());\\r\\n        //    comments.Add(config.m_DepthTimeLength.ToString());\\r\\n        //    comments.Add(StaticParas.glSignalSrc.ToString());\\r\\n        //    comments.Add(Convert.ToInt32(config.m_WaveDataStyle).ToString());\\r\\n\\r\\n        //    string strcomments = string.Join(\",\", comments.ToArray());\\r\\n        //    bw.Write(strcomments);\\r\\n\\r\\n        //    ///写入全波数据\\r\\n        //    if (config.m_FullWaveFlag)\\r\\n        //    {\\r\\n        //        //写入全波数据\\r\\n        //        for (int i = 0; i < OneChannelData.Count; i++)\\r\\n        //        {\\r\\n        //            bw.Write(OneChannelData[i]);\\r\\n        //            //bw.Write(GZip.Compress(OneChannelData[i]));\\r\\n        //            //for (int j = 0; j < OneChannelData[i].Length; j++)\\r\\n        //            //{\\r\\n        //            //    bw.Write(OneChannelData[i][j]);\\r\\n        //            //}\\r\\n        //        }\\r\\n        //    }\\r\\n        //    else\\r\\n        //    {\\r\\n        //        //写入C扫描（非全波）数据\\r\\n        //        for (int i = 0; i < config.m_ScanNum; i++)\\r\\n        //        {\\r\\n        //            for (int j = 0; j < saveIndexNum; j++)\\r\\n        //            {\\r\\n        //                for (int k = 0; k < config.m_DataGateList.Count * 2; k++)\\r\\n        //                {\\r\\n        //                    bw.Write(StaticParas.glData[i][ j, k]);\\r\\n        //                }\\r\\n        //            }\\r\\n        //        }\\r\\n        //    }\\r\\n        //    bw.Close();\\r\\n        //    stream.Close();\\r\\n        //}\\r\\n        //public static void SaveAllDatafileWithNewVersion(string sFile, Config config, List<byte[]> OneChannelData, int index, bool isshowfull)\\r\\n        //{\\r\\n        //    int saveIndexNum = StaticParas.Pre_IndexNum;\\r\\n        //    int[] colorBarArray = config.colorBarArray;\\r\\n\\r\\n        //    if (File.Exists(sFile))\\r\\n        //    {\\r\\n        //        File.Delete(sFile); //文件已存在，则先删除原有文件\\r\\n        //    }\\r\\n        //    //文件格式依次为：内部版本号，...\\r\\n        //    Stream stream = File.Open(sFile, FileMode.Create);\\r\\n        //    // 设置隐藏文件\\r\\n        //    if (!isshowfull && config.m_FullWaveFlag)\\r\\n        //    {\\r\\n        //        File.SetAttributes(sFile, FileAttributes.Hidden);\\r\\n        //    }\\r\\n        //    BinaryWriter bw = new BinaryWriter(stream);\\r\\n\\r\\n        //    bw.Write((Int16)1);//内部版本号，暂时用1,表示版本1,整型\\r\\n\\r\\n        //    ///写入Config对象\\r\\n        //    bw.Write(config.m_Frequency); //采样频率\\r\\n        //    bw.Write(config.offsetToZero);       //偏移量\\r\\n        //    bw.Write(config.m_FSFGate.m_iUseBottomWave);        //同步闸门是否底波\\r\\n        //    //bw.Write(StaticParas.glConfig.m_MaxVoltage); //电压最大值\\r\\n        //    bw.Write(config.m_TimeDelay);      //延迟时间\\r\\n        //    bw.Write(config.m_TimeLength);     //采样长度 \\r\\n        //                                       // bw.Write(PCIe9802SImport.offsetToZero);       //偏移量\\r\\n        //                                       //跟踪闸门参数\\r\\n        //    bw.Write(config.m_FSFGate.m_GateIsActived);//闸门是否启用\\r\\n        //    bw.Write(config.m_FSFGate.m_GateStart);\\r\\n        //    bw.Write(config.m_FSFGate.m_GateLength);\\r\\n        //    bw.Write(config.m_FSFGate.m_Threshold);\\r\\n        //    //数据闸门参数\\r\\n        //    // ================== 20190704 editby gc  ==========================================\\r\\n        //    // 可能有多套数据闸门。存数据的时候，需要存储一个闸门数量。存储1和2。当有两套数据闸门参数，那么就存储两套数据。\\r\\n        //    // 读取数据时，根据读取到的闸门数量，来判定如何读取文件\\r\\n        //    // 数据闸门参数列表的数数量\\r\\n\\r\\n        //    if (config.m_DataGateList.Count == 0)\\r\\n        //    {\\r\\n        //        MessageBox.Show(\"保存失败，数据格式错误，请重试\");\\r\\n        //        return;\\r\\n        //    }\\r\\n        //    // 全波标记 \\r\\n        //    bw.Write(config.m_FullWaveFlag);\\r\\n\\r\\n        //    // 数据闸门数量写入\\r\\n        //    bw.Write(config.m_DataGateList.Count);\\r\\n        //    // 数据闸门参数写入\\r\\n        //    for (int i = 0; i < config.m_DataGateList.Count; i++)\\r\\n        //    {\\r\\n        //        //数据闸门参数\\r\\n        //        bw.Write(config.m_DataGateList[i].m_GateStart);\\r\\n        //        bw.Write(config.m_DataGateList[i].m_GateLength);\\r\\n        //        bw.Write(config.m_DataGateList[i].m_Threshold);\\r\\n        //        bw.Write((int)config.m_DataGateList[i].m_GateMode);\\r\\n\\r\\n        //        bw.Write(colorBarArray[i]);//colorbar的序号\\r\\n        //        bw.Write(config.colorBarUpValueArray[i]);//上限\\r\\n        //        bw.Write(config.colorBarDownValueArray[i]);//下限\\r\\n        //    }\\r\\n\\r\\n        //    // ================== 20190704 editby gc end ========================================\\r\\n        //    //扫查参数\\r\\n        //    bw.Write(config.m_ScanWidth);\\r\\n        //    bw.Write(config.m_IndexWidth);\\r\\n        //    bw.Write(config.m_ScanResolution);\\r\\n        //    bw.Write(config.m_IndexResolution);\\r\\n        //    //bw.Write(StaticParas.glConfig.m_ScanSpeed);\\r\\n        //    //bw.Write(StaticParas.glConfig.m_IndexSpeed);\\r\\n\\r\\n\\r\\n        //    ///写入扫查行、列数\\r\\n        //    bw.Write(config.m_ScanNum);\\r\\n        //    bw.Write(saveIndexNum);\\r\\n\\r\\n        //    // 一个A扫描长度\\r\\n        //    bw.Write(config.m_AscanLength);\\r\\n        //    int AscanLengthNum = (int)config.m_ActualCollAScanNum;// OneChannelData.Count;\\r\\n        //    //for (int i = 0; i < OneChannelData.Count; i++)\\r\\n        //    //{\\r\\n        //    //    if (OneChannelData[i].Length != 0)\\r\\n        //    //    {\\r\\n        //    //        AscanLengthNum++;\\r\\n        //    //    }\\r\\n        //    //}\\r\\n        //    // 每个通道有多少A扫描\\r\\n        //    bw.Write(AscanLengthNum);\\r\\n        //    // 通道数写入\\r\\n        //    List<string> comments = new List<string>();\\r\\n        //    comments.Add(StaticParas.glConfig.m_ScanningAxis);\\r\\n        //    comments.Add(StaticParas.glConfig.m_IndexAxis);\\r\\n        //    comments.Add(Convert.ToInt32(config.m_RulerUnit).ToString());\\r\\n        //    comments.Add(Convert.ToInt32(config.m_WaveStyle).ToString());\\r\\n        //    comments.Add(config.m_MaterialVel.ToString());\\r\\n        //    comments.Add(config.m_DepthTimeLength.ToString());\\r\\n        //    comments.Add(StaticParas.glSignalSrc.ToString());\\r\\n        //    comments.Add(Convert.ToInt32(config.m_WaveDataStyle).ToString());\\r\\n\\r\\n        //    string strcomments = string.Join(\",\", comments.ToArray());\\r\\n\\r\\n        //    bw.Write(strcomments.Length);//写入字符串长度，以备其他使用\\r\\n        //    // 写入备用量\\r\\n        //    bw.Write(strcomments);\\r\\n\\r\\n        //    ///写入全波数据\\r\\n        //    if (config.m_FullWaveFlag)\\r\\n        //    {\\r\\n        //        if (!isshowfull)\\r\\n        //        {\\r\\n        //            //写入C扫描（非全波）数据\\r\\n        //            for (int i = 0; i < config.m_ScanNum; i++)\\r\\n        //            {\\r\\n        //                for (int j = 0; j < saveIndexNum; j++)\\r\\n        //                {\\r\\n        //                    for (int k = 0; k < config.m_DataGateList.Count * 2; k++)\\r\\n        //                    {\\r\\n        //                        bw.Write(StaticParas.glData[i][ j, k]);\\r\\n        //                    }\\r\\n        //                }\\r\\n        //            }\\r\\n        //            // 写入第一个A信号\\r\\n        //            bw.Write(OneChannelData[0]);\\r\\n        //        }\\r\\n        //        else\\r\\n        //        {\\r\\n        //            //写入全波数据\\r\\n        //            for (int i = 0; i < OneChannelData.Count; i++)\\r\\n        //            {\\r\\n        //                bw.Write(OneChannelData[i]);\\r\\n        //                //bw.Write(GZip.Compress(OneChannelData[i]));\\r\\n        //                //for (int j = 0; j < OneChannelData[i].Length; j++)\\r\\n        //                //{\\r\\n        //                //    bw.Write(OneChannelData[i][j]);\\r\\n        //                //}\\r\\n        //            }\\r\\n        //        }\\r\\n        //    }\\r\\n        //    else\\r\\n        //    {\\r\\n        //        //写入C扫描（非全波）数据\\r\\n        //        for (int i = 0; i < config.m_ScanNum; i++)\\r\\n        //        {\\r\\n        //            for (int j = 0; j < saveIndexNum; j++)\\r\\n        //            {\\r\\n        //                for (int k = 0; k < config.m_DataGateList.Count * 2; k++)\\r\\n        //                {\\r\\n        //                    bw.Write(StaticParas.glData[i][ j, k]);\\r\\n        //                }\\r\\n        //            }\\r\\n        //        }\\r\\n        //    }\\r\\n        //    bw.Close();\\r\\n        //    stream.Close();\\r\\n        //}\\r\\n\\r\\n        /// <summary>\\r\\n        /// 取闸门内的绝对峰值\\r\\n        /// </summary>\\r\\n        /// <param name=\"currAScanData\">当前的AScan数据</param>\\r\\n        /// <param name=\"curFSFFirstPosition\">同步闸门位置</param>\\r\\n        /// <param name=\"thresholdFSF\">同步闸门的阈值</param>\\r\\n        /// <param name=\"gateStartNumFSF\">同步闸门的起始位置</param>\\r\\n        /// <param name=\"gateLengthNumFSF\">同步闸门的长度</param>\\r\\n        /// <param name=\"gateStartNum\">数据闸门开始位置</param>\\r\\n        /// <param name=\"gateLengthNum\">数据闸门长度</param>\\r\\n        /// <param name=\"maxVoltage\">最大电压</param>\\r\\n        /// <param name=\"thresholdData\">数据闸门阈值</param>\\r\\n        /// <param name=\"maxAMP\">最大幅值</param>\\r\\n        /// <returns></returns>\\r\\n        public static double GetAbsPeakValueInGate(byte[] currAScanData, int curFSFFirstPosition, LockGate FSFGate, int gateStartNum, int gateLengthNum, double maxVoltage, double thresholdData, int maxAMP)\\r\\n        {\\r\\n            double temp, tempMax, tempMin;\\r\\n            temp = 0;\\r\\n            tempMax = 0;\\r\\n            tempMin = 0;\\r\\n            double thresholdFSF = FSFGate.m_Threshold;\\r\\n            int gateStartNumFSF = FSFGate.m_GateStartNum;\\r\\n            int gateLengthNumFSF = FSFGate.m_GateLengthNum;\\r\\n\\r\\n            // (X,Y)转换成一维\\r\\n\\r\\n\\r\\n            //确保数据闸门的实际起始位置在窗口中\\r\\n            if ((curFSFFirstPosition + gateStartNum) < 0)\\r\\n            {\\r\\n                gateStartNum = -curFSFFirstPosition;\\r\\n            }\\r\\n            int lengthNum = 0;\\r\\n            if ((curFSFFirstPosition + gateStartNum + gateLengthNum) > currAScanData.Length)\\r\\n            {\\r\\n                lengthNum = currAScanData.Length;\\r\\n            }\\r\\n            else\\r\\n            {\\r\\n                lengthNum = (curFSFFirstPosition + gateStartNum + gateLengthNum);\\r\\n            }\\r\\n\\r\\n            for (int k = curFSFFirstPosition + gateStartNum; k < lengthNum; k++) //查找门限中的负向幅值和正向幅值及其到达时间\\r\\n            {\\r\\n                int currndex = k;\\r\\n                if (currAScanData[currndex] > 8191) //此时数据值为负\\r\\n                {\\r\\n                    //temp = ((double)allData[indexOfAscan, indexOfBScan, k] - 256) * maxVoltage / 128;\\r\\n                    temp = ((double)currAScanData[currndex] - maxAMP) * maxVoltage / (maxAMP / 2);\\r\\n                    if (temp < tempMin && temp < -thresholdData)\\r\\n                    {\\r\\n                        tempMin = temp;\\r\\n                    }\\r\\n                }\\r\\n                else\\r\\n                {\\r\\n                    temp = (double)currAScanData[currndex] * maxVoltage / (maxAMP / 2);\\r\\n                    if (temp > tempMax && temp > thresholdData)\\r\\n                    {\\r\\n                        tempMax = temp;\\r\\n                    }\\r\\n                }\\r\\n            }\\r\\n            double absMin = Math.Abs(tempMin);\\r\\n            if (absMin > tempMax)\\r\\n            {\\r\\n                return absMin;\\r\\n            }\\r\\n            else\\r\\n            {\\r\\n                return tempMax;\\r\\n            }\\r\\n        }\\r\\n\\r\\n        /// <summary>\\r\\n        /// 取(i, j)处的A扫信号中闸门内首次到达value值的时间（整型数组下标）,i为行，j为列。\\r\\n        /// 如果没找到符合条件的值，则返回最大时间点的下标\\r\\n        /// </summary>\\r\\n        /// <param name=\"indexOfAscan\"></param>\\r\\n        /// <param name=\"indexOfBScan\"></param>\\r\\n        /// <param name=\"value\"></param>\\r\\n        /// <param name=\"curFSFFirstPosition\"></param>\\r\\n        /// <param name=\"currPointX\"></param>\\r\\n        /// <param name=\"currPointY\"></param>\\r\\n        /// <param name=\"thresholdFSF\"></param>\\r\\n        /// <param name=\"gateStartNumFSF\"></param>\\r\\n        /// <param name=\"gateLengthNumFSF\"></param>\\r\\n        /// <param name=\"allData\"></param>\\r\\n        /// <param name=\"gateStartNum\"></param>\\r\\n        /// <param name=\"gateLengthNum\"></param>\\r\\n        /// <param name=\"maxVoltage\"></param>\\r\\n        /// <param name=\"bHasFound\"></param>\\r\\n        /// <returns></returns>\\r\\n        public static int FindValueInGate(double value, int curFSFFirstPosition, LockGate FSFGate, byte[] allData, int gateStartNum, int gateLengthNum, double maxVoltage, int maxAMP, out bool bHasFound)\\r\\n        {\\r\\n            int iTOF;\\r\\n            bHasFound = false;\\r\\n            double temp = 0;\\r\\n\\r\\n            if ((curFSFFirstPosition + gateStartNum) < 0) //确保数据闸门的实际起始位置在窗口中\\r\\n            {\\r\\n                gateStartNum = -curFSFFirstPosition;\\r\\n            }\\r\\n            int lengthNum = (curFSFFirstPosition + gateStartNum + gateLengthNum) > allData.GetLength(0) ? allData.GetLength(0) : (curFSFFirstPosition + gateStartNum + gateLengthNum);\\r\\n            for (iTOF = curFSFFirstPosition + gateStartNum; iTOF < lengthNum; iTOF++) //查找门限中的负向幅值和正向幅值及其到达时间\\r\\n            {\\r\\n                int currndex = iTOF;\\r\\n                if (allData[currndex] > 8191) //此时数据值为负\\r\\n                {\\r\\n                    temp = (8191 - (double)allData[currndex]) * maxVoltage / (maxAMP / 2);\\r\\n                }\\r\\n                else\\r\\n                {\\r\\n                    temp = (double)allData[currndex] * maxVoltage / (maxAMP / 2);\\r\\n                }\\r\\n                if (value < 0)\\r\\n                {\\r\\n                    if (temp <= value)\\r\\n                    {\\r\\n                        bHasFound = true;\\r\\n                        break;\\r\\n                    }\\r\\n                }\\r\\n                else\\r\\n                {\\r\\n                    if (temp >= value)\\r\\n                    {\\r\\n                        bHasFound = true;\\r\\n                        break;\\r\\n                    }\\r\\n                }\\r\\n            }\\r\\n            if (bHasFound == false)\\r\\n            {\\r\\n                iTOF = lengthNum - 1; //如果没找到符合条件的值，则返回最大时间点的下标            \\r\\n            }\\r\\n            return iTOF;\\r\\n        }\\r\\n        /// <summary>\\r\\n        /// 计算一个A信号的频谱\\r\\n        /// </summary>\\r\\n        /// <param name=\"frequecy\"></param>\\r\\n        /// <param name=\"AscanData\"></param>\\r\\n        /// <returns></returns>\\r\\n        public static double[] CalculateFFT(double[] AscanData)\\r\\n        {\\r\\n            //s1:求A信号中的平均值\\r\\n            double Avg = 0;\\r\\n            int AscanPoints = AscanData.Length;\\r\\n\\r\\n            for (int k = 0; k < AscanPoints; k++)\\r\\n            {\\r\\n                Avg += AscanData[k];\\r\\n            }\\r\\n            Avg = Avg / AscanPoints;\\r\\n            //s2:去直流分量\\r\\n            double[] data_ascan = new double[AscanPoints];\\r\\n\\r\\n            for (int k = 0; k < AscanPoints; k++)\\r\\n            {\\r\\n                data_ascan[k] = AscanData[k] - Avg;\\r\\n                if (data_ascan[k] > StaticParas.glRDDataCard.MAX_AMP_V / 2 - 1)\\r\\n                {\\r\\n                    data_ascan[k] = StaticParas.glRDDataCard.MAX_AMP_V / 2 - 1;\\r\\n                }\\r\\n                if (data_ascan[k] < -StaticParas.glRDDataCard.MAX_AMP_V / 2)\\r\\n                {\\r\\n                    data_ascan[k] = -StaticParas.glRDDataCard.MAX_AMP_V / 2;\\r\\n                }\\r\\n\\r\\n                data_ascan[k] /= StaticParas.glRDDataCard.MAX_AMP_V / 2;\\r\\n            }\\r\\n\\r\\n            double[] image = new double[data_ascan.Length];\\r\\n            double[] spectrum = new double[data_ascan.Length];\\r\\n\\r\\n            MathNet.Numerics.IntegralTransforms.Fourier.Forward(data_ascan, image);\\r\\n            int index = 0;\\r\\n            foreach (double re in data_ascan)\\r\\n            {\\r\\n                double im = image[index];\\r\\n                spectrum[index] = Math.Sqrt(re * re + im * im);\\r\\n                index++;\\r\\n            }\\r\\n\\r\\n\\r\\n\\r\\n            //  FftAlgorithm.Calculate(data_ascan); //进行FFT转换\\r\\n\\r\\n\\r\\n            //MaxSpectrum = spectrum.Max(); //最大频谱值\\r\\n            //MinSpectrum = spectrum.Min(); //最小频谱值\\r\\n\\r\\n            return spectrum;\\r\\n        }\\r\\n\\r\\n        /// <summary>\\r\\n        /// 数据闸门内的幅值平均值\\r\\n        /// </summary>\\r\\n        /// <param name=\"iStart\"></param>\\r\\n        /// <param name=\"lengthNum\"></param>\\r\\n        /// <param name=\"AScanData\"></param>\\r\\n        /// <returns></returns>\\r\\n        public static double CalclatMeanOfAScan(int iStart, int lengthNum, byte[] AScanData)\\r\\n        {\\r\\n            long v = 0;\\r\\n            int actualLen = Math.Min(iStart + lengthNum, AScanData.Length);\\r\\n            for (int i = iStart; i < actualLen; i++)\\r\\n            {\\r\\n                v += AScanData[i];\\r\\n            }\\r\\n            return (v * 1.0 / actualLen);\\r\\n        }\\r\\n        /// <summary>\\r\\n        /// 积分成像\\r\\n        /// </summary>\\r\\n        /// <param name=\"m_IndexNum\"></param>\\r\\n        /// <param name=\"m_ScanNum\"></param>\\r\\n        /// <param name=\"m_PeakData\"></param>\\r\\n        /// <param name=\"FSFGate\"></param>\\r\\n        /// <param name=\"dataGate\"></param>\\r\\n        /// <param name=\"ascanData\"></param>\\r\\n        /// <param name=\"m_GateMode\"></param>\\r\\n        /// <param name=\"m_bmpCscan\"></param>\\r\\n        /// <param name=\"m_DrawImageStyle\"></param>\\r\\n        /// <param name=\"colorBar\"></param>\\r\\n        /// <param name=\"computeFreq\"></param>\\r\\n        /// <param name=\"displayFreq\"></param>\\r\\n        /// <param name=\"maxAMP\"></param>\\r\\n        /// <param name=\"wd\"></param>\\r\\n        public static void DrawMeanValueImage(\\r\\n             int m_IndexNum\\r\\n           , int m_ScanNum\\r\\n           , double[] m_PeakData\\r\\n           , LockGate FSFGate\\r\\n           , LockGate dataGate\\r\\n           , List<byte[]> ascanData\\r\\n           , AmplitudeMode m_GateMode\\r\\n           , Bitmap m_bmpCscan\\r\\n           , DrawImageStyle m_DrawImageStyle\\r\\n           , ColorBarControlSmall colorBar\\r\\n           , int maxAMP\\r\\n           , WaveDataStyle wd\\r\\n           , int offset\\r\\n           )\\r\\n        {\\r\\n\\r\\n               \\r\\n            //, int totalChannum\\r\\n            //, int averageValue\\r\\n            //, WaveDataStyle wd\\r\\n            //)\\r\\n\\r\\n            int m_GateLengthNum = dataGate.m_GateLengthNum;\\r\\n            int m_GateStartNum = dataGate.m_GateStartNum;\\r\\n            double m_ThresholdFSF = FSFGate.m_Threshold;\\r\\n            int m_GateStartNumFSF = FSFGate.m_GateStartNum;\\r\\n            int m_GateLengthNumFSF = FSFGate.m_GateLengthNum;\\r\\n            double m_ThresholdData = dataGate.m_Threshold;\\r\\n            //for (int j = 0; j < m_IndexNum; j++)\\r\\n            //for (int k = 0; k < m_IndexNum* m_ScanNum; k++)\\r\\n            //  int k = 0;\\r\\n\\r\\n            // Stopwatch sw = new Stopwatch();\\r\\n            //  sw.Start();\\r\\n            // System.Threading.Tasks.Parallel.ForEach(ascanData, (adata, state1) =>\\r\\n            Parallel.For(0, ascanData.Count, (k, loopState) =>\\r\\n\\r\\n            //foreach (byte[] adata in ascanData)\\r\\n            {\\r\\n                byte[] adata = ascanData[k];\\r\\n                //for (int i = 0; i < m_ScanNum; i++)\\r\\n                {\\r\\n                    int i = k % m_ScanNum;\\r\\n                    int j = k / m_ScanNum;\\r\\n                    int indexofAScan = k;//j * m_ScanNum + i;\\r\\n\\r\\n                    if (indexofAScan > ascanData.Count - 1 || adata.Length <= 0)\\r\\n                    {\\r\\n                        m_PeakData[indexofAScan] = 0;\\r\\n                        //loopState.Break();\\r\\n                        //loopState.Stop();\\r\\n                        //break;\\r\\n                    }\\r\\n                    else\\r\\n                    {\\r\\n                        // 取得同步闸门起点\\r\\n                        int curFSFFirstPosition = 0;\\r\\n                        if (FSFGate.m_GateIsActived)\\r\\n                        {\\r\\n                            curFSFFirstPosition = CScanPicFunction.FindFirstPostionInFSFGate(\\r\\n                                  FSFGate.ThreshAMP //阈值对应的正向幅值\\r\\n                                , FSFGate.m_GateLengthNum//同步闸门的长度\\r\\n                                , FSFGate.m_GateStartNum//同步闸门的开始位置,信号的下标\\r\\n                                , FSFGate.isPositiveThresh//正向阈值\\r\\n                                , adata\\r\\n                                , wd\\r\\n                                , offset\\r\\n                                , maxAMP\\r\\n                                );\\r\\n                        }\\r\\n                        //确保数据闸门的实际起始位置在窗口中\\r\\n                        if ((curFSFFirstPosition + m_GateStartNum) < 0)\\r\\n                        {\\r\\n                            m_GateStartNum = -curFSFFirstPosition;\\r\\n                        }\\r\\n                        int lengthNum = 0;\\r\\n                        if ((curFSFFirstPosition + FSFGate.m_iUseBottomWave * m_GateStartNum + m_GateLengthNum) > ascanData[indexofAScan].GetLength(0))\\r\\n                        {\\r\\n                            lengthNum = ascanData[indexofAScan].GetLength(0);\\r\\n                        }\\r\\n                        else\\r\\n                        {\\r\\n                            lengthNum = curFSFFirstPosition + FSFGate.m_iUseBottomWave * m_GateStartNum + m_GateLengthNum;\\r\\n                        }\\r\\n                        //底波和表面波计算数据闸门的起点\\r\\n                        int iStart = m_GateStartNum;//只有数据闸门\\r\\n                        if (FSFGate.m_GateIsActived)//有同步闸门\\r\\n                        {\\r\\n                            iStart = Math.Max(curFSFFirstPosition + FSFGate.m_iUseBottomWave * m_GateStartNum, 0);\\r\\n                        }\\r\\n\\r\\n\\r\\n\\r\\n\\r\\n\\r\\n                        // 取得峰值数据\\r\\n                        //int maxIndex = 0;\\r\\n                        double peakdata = CalclatMeanOfAScan(iStart, lengthNum, adata);\\r\\n                        m_PeakData[j * m_ScanNum + i] = peakdata;//DataToColorForInt(peakdata, m_DrawImageStyle, colorBar);\\r\\n                                                                 // 以像素点来绘制C扫图像\\r\\n                                                                 //m_bmpCscan.SetPixel(i, j, );\\r\\n                    }\\r\\n                }\\r\\n                // k++;\\r\\n            });\\r\\n\\r\\n            FilterCScanPic(m_bmpCscan, m_PeakData, m_DrawImageStyle, colorBar, wd);\\r\\n            //sw.Stop();\\r\\n        }\\r\\n\\r\\n\\r\\n        /// <summary>\\r\\n        /// 频域成像\\r\\n        /// </summary>\\r\\n        /// <param name=\"m_IndexNum\"></param>\\r\\n        /// <param name=\"m_ScanNum\"></param>\\r\\n        /// <param name=\"m_PeakDataInt\"></param>\\r\\n        /// <param name=\"FSFGate\"></param>\\r\\n        /// <param name=\"dataGate\"></param>\\r\\n        /// <param name=\"ascanData\"></param>\\r\\n        /// <param name=\"m_GateMode\"></param>\\r\\n        /// <param name=\"m_bmpCscan\"></param>\\r\\n        /// <param name=\"m_DrawImageStyle\"></param>\\r\\n        /// <param name=\"colorBar\"></param>\\r\\n        /// <param name=\"maxAMP\"></param>\\r\\n        /// <param name=\"averageValue\"></param>\\r\\n        /// <param name=\"computeFreq\"></param>\\r\\n        public static void DrawFreqDomainImage(\\r\\n              int m_IndexNum\\r\\n            , int m_ScanNum\\r\\n            , double[] m_PeakData\\r\\n            , LockGate FSFGate\\r\\n            , LockGate dataGate\\r\\n            , List<byte[]> ascanData\\r\\n            , AmplitudeMode m_GateMode\\r\\n            , Bitmap m_bmpCscan\\r\\n            , DrawImageStyle m_DrawImageStyle\\r\\n            , ColorBarControlSmall colorBar\\r\\n            , double computeFreq\\r\\n            , double displayFreq\\r\\n            , int maxAMP\\r\\n            , WaveDataStyle wd\\r\\n            )\\r\\n        {\\r\\n\\r\\n\\r\\n            int startIndex = 0;\\r\\n            int endIndex = 0;\\r\\n\\r\\n            int AscanPoints = 0;\\r\\n            int AScanDataLen = ascanData[0].Length;\\r\\n\\r\\n            AscanPoints = dataGate.m_GateLengthNum; //需要计算的部分\\r\\n            startIndex = FSFGate.m_CurFSFFirstPosition + FSFGate.m_iUseBottomWave * dataGate.m_GateStartNum;\\r\\n            startIndex = startIndex < 0 ? 0 : startIndex;//确保数据闸门的实际起始位置在窗口中\\r\\n\\r\\n            endIndex = (startIndex//数据闸门起始位置\\r\\n                        + dataGate.m_GateLengthNum);//数据闸门的长度\\r\\n\\r\\n            endIndex = (endIndex) > AScanDataLen ? AScanDataLen : (endIndex);//结束下标\\r\\n\\r\\n            int dataLength = Functions.NextPower2(AscanPoints);//计算FFT的数据长度\\r\\n            dataLength = (int)Math.Pow(2, dataLength);//2^N\\r\\n            //dataLength = AscanPoints;//\\r\\n            int drawindex = (int)(computeFreq / displayFreq * dataLength);//获取的频幅值所在的位置\\r\\n            drawindex = drawindex > dataLength - 1 ? dataLength - 1 : drawindex;\\r\\n\\r\\n            double[] drawFreqAmp = new double[m_IndexNum * m_ScanNum];\\r\\n\\r\\n            double MaxAmp = double.MinValue;\\r\\n            double MinAmp = double.MaxValue;\\r\\n\\r\\n            Parallel.For(0, ascanData.Count, (k, loopState) =>\\r\\n\\r\\n            //for (int j = 0; j < m_IndexNum; j++)\\r\\n            //{\\r\\n            //    for (int i = 0; i < m_ScanNum; i++)\\r\\n                {\\r\\n                    int indexofAScan = k;//j * m_ScanNum + i;\\r\\n                    byte[] adata = ascanData[k];\\r\\n\\r\\n                    //int indexofAScan = j * m_ScanNum + i;\\r\\n                    byte[] AScanData = ascanData[indexofAScan];\\r\\n                    if (AScanData.Length <= 0 || AScanData.Length < AScanDataLen)\\r\\n                    {\\r\\n                        drawFreqAmp[indexofAScan] = 0;\\r\\n                        //return;\\r\\n                        //loopState.Break();\\r\\n                        //loopState.Stop();\\r\\n                        //break;\\r\\n                    }\\r\\n                    else\\r\\n                    {\\r\\n\\r\\n\\r\\n                        double[] data = new double[dataLength]; //存放门限中的数据\\r\\n                        for (int m = startIndex; m < endIndex; m++)\\r\\n                        {\\r\\n\\r\\n                            data[m - startIndex] = (double)AScanData[m];\\r\\n                        }\\r\\n                        double[] spectrum = CalculateFFT(data);\\r\\n                        double tmpMax = spectrum.Max();\\r\\n                        double tmpMin = spectrum.Min();\\r\\n                        MaxAmp = MaxAmp < tmpMax ? tmpMax : MaxAmp;\\r\\n                        MinAmp = MinAmp > tmpMin ? tmpMin : MinAmp;\\r\\n\\r\\n                        drawFreqAmp[indexofAScan] = spectrum[drawindex];\\r\\n                    }\\r\\n                    //m_PeakDataInt[indexOfAScan] = (int)(drawFreqAmp[indexOfAScan] / (tmpMax - tmpMin) * (maxAMP - 1));\\r\\n                });\\r\\n            //将数据转换0-255之间的数\\r\\n            for (int k = 0; k < drawFreqAmp.Length; k++)\\r\\n            {\\r\\n                m_PeakData[k] = ((drawFreqAmp[k] - MinAmp) / (MaxAmp - MinAmp) * (maxAMP - 1));\\r\\n            }\\r\\n            //m_PeakData = Array.ConvertAll<double, double>(drawFreqAmp, value => (double)((value- MinAmp) * (maxAMP - 1) / (MaxAmp - MinAmp)));\\r\\n\\r\\n            FilterCScanPic(m_bmpCscan, m_PeakData, m_DrawImageStyle, colorBar, wd);\\r\\n\\r\\n        }\\r\\n\\r\\n\\r\\n        /// <summary>\\r\\n        /// 差/混频域成像\\r\\n        /// </summary>\\r\\n        /// <param name=\"m_IndexNum\"></param>\\r\\n        /// <param name=\"m_ScanNum\"></param>\\r\\n        /// <param name=\"m_PeakDataInt\"></param>\\r\\n        /// <param name=\"FSFGate\"></param>\\r\\n        /// <param name=\"dataGate\"></param>\\r\\n        /// <param name=\"ascanData\"></param>\\r\\n        /// <param name=\"m_GateMode\"></param>\\r\\n        /// <param name=\"m_bmpCscan\"></param>\\r\\n        /// <param name=\"m_DrawImageStyle\"></param>\\r\\n        /// <param name=\"colorBar\"></param>\\r\\n        /// <param name=\"maxAMP\"></param>\\r\\n        /// <param name=\"averageValue\"></param>\\r\\n        /// <param name=\"computeFreq\"></param>\\r\\n        public static void DrawDiffFreqDomainImage(\\r\\n              int m_IndexNum\\r\\n            , int m_ScanNum\\r\\n            , double[] m_PeakData\\r\\n            , LockGate FSFGate\\r\\n            , LockGate dataGate\\r\\n            , List<byte[]> ascanData\\r\\n            , AmplitudeMode m_GateMode\\r\\n            , Bitmap m_bmpCscan\\r\\n            , DrawImageStyle m_DrawImageStyle\\r\\n            , ColorBarControlSmall colorBar\\r\\n            , double Freq_Low\\r\\n            , double Freq_High\\r\\n            , int splitNum\\r\\n            , double displayFreq\\r\\n            , int maxAMP\\r\\n            , WaveDataStyle wd\\r\\n            , out double[] drawFreqAmp\\r\\n\\r\\n            )\\r\\n        {\\r\\n\\r\\n\\r\\n            int startIndex = 0;\\r\\n            int endIndex = 0;\\r\\n\\r\\n            int AscanPoints = 0;\\r\\n            int AScanDataLen = ascanData[0].Length;\\r\\n\\r\\n            AscanPoints = dataGate.m_GateLengthNum; //需要计算的部分\\r\\n            startIndex = FSFGate.m_CurFSFFirstPosition + FSFGate.m_iUseBottomWave * dataGate.m_GateStartNum;\\r\\n            startIndex = startIndex < 0 ? 0 : startIndex;//确保数据闸门的实际起始位置在窗口中\\r\\n\\r\\n            endIndex = (startIndex//数据闸门起始位置\\r\\n                        + dataGate.m_GateLengthNum);//数据闸门的长度\\r\\n\\r\\n            endIndex = (endIndex) > AScanDataLen ? AScanDataLen : (endIndex);//结束下标\\r\\n\\r\\n            int dataLength = Functions.NextPower2(AscanPoints);//计算FFT的数据长度\\r\\n            dataLength = (int)Math.Pow(2, dataLength);//2^N\\r\\n            //dataLength = AscanPoints;//\\r\\n\\r\\n            List<int> lowerDrawindexs = new List<int>();\\r\\n            List<int> upperDrawindexs = new List<int>();\\r\\n\\r\\n\\r\\n            int high0Drawindex = (int)(Freq_High / displayFreq * dataLength);//获取的频幅值所在的位置,分母\\r\\n            high0Drawindex = high0Drawindex > dataLength - 1 ? dataLength - 1 : high0Drawindex;\\r\\n\\r\\n            for (int i = 1; i <= splitNum; i++)\\r\\n            {\\r\\n                int lowDrawindex = (int)((Freq_High + i * Freq_Low) / displayFreq * dataLength);//获取的频幅值所在的位置\\r\\n                int upperDrawindex = (int)((Freq_High - i * Freq_Low) / displayFreq * dataLength);//获取的频幅值所在的位置\\r\\n                lowDrawindex = lowDrawindex > dataLength - 1 ? dataLength - 1 : lowDrawindex;\\r\\n                upperDrawindex = upperDrawindex > dataLength - 1 ? dataLength - 1 : upperDrawindex;\\r\\n                upperDrawindex = upperDrawindex < 0 ? 0 : upperDrawindex;\\r\\n\\r\\n\\r\\n                lowerDrawindexs.Add(lowDrawindex);\\r\\n                upperDrawindexs.Add(upperDrawindex);\\r\\n            }\\r\\n\\r\\n\\r\\n\\r\\n\\r\\n\\r\\n            double[]  tmpdrawFreqAmp = new double[m_IndexNum * m_ScanNum];\\r\\n            //double[] highDrawFreqAmp = new double[m_IndexNum * m_ScanNum];\\r\\n\\r\\n\\r\\n\\r\\n\\r\\n\\r\\n            double MaxAmp = double.MinValue;\\r\\n            double MinAmp = double.MaxValue;\\r\\n\\r\\n            Parallel.For(0, ascanData.Count, (k, loopState) =>\\r\\n\\r\\n            //for (int j = 0; j < m_IndexNum; j++)\\r\\n            //{\\r\\n            //    for (int i = 0; i < m_ScanNum; i++)\\r\\n                {\\r\\n                    int indexOfAScan = k;//j * m_ScanNum + i;\\r\\n                    byte[] AScanData = ascanData[indexOfAScan];\\r\\n                    if (AScanData.Length <= 0 || AScanData.Length < AScanDataLen)\\r\\n                    {\\r\\n                        tmpdrawFreqAmp[indexOfAScan] = 0;\\r\\n                        //return;\\r\\n                        //loopState.Break();\\r\\n                        //loopState.Stop();\\r\\n                        //break;\\r\\n                    }\\r\\n                    else\\r\\n                    {\\r\\n\\r\\n\\r\\n                        double[] data = new double[dataLength]; //存放门限中的数据\\r\\n                        for (int m = startIndex; m < endIndex; m++)\\r\\n                        {\\r\\n\\r\\n                            data[m - startIndex] = (double)AScanData[m];\\r\\n                        }\\r\\n                        double[] spectrum = CalculateFFT(data);\\r\\n                        //double tmpMax = spectrum.Max();\\r\\n                        //double tmpMin = spectrum.Min();\\r\\n                        //MaxAmp = MaxAmp < tmpMax ? tmpMax : MaxAmp;\\r\\n                        //MinAmp = MinAmp > tmpMin ? tmpMin : MinAmp;\\r\\n                        double SumAplusAnegative = 0;//\\r\\n                        for (int isplit = 0; isplit < splitNum; isplit++)\\r\\n                        {\\r\\n                            double currAmpLower = spectrum[lowerDrawindexs[isplit]];\\r\\n                            double currAmpUpper = spectrum[upperDrawindexs[isplit]];\\r\\n                            SumAplusAnegative += (currAmpLower + currAmpUpper);\\r\\n                        }\\r\\n                        double ampA0 = spectrum[high0Drawindex];\\r\\n                        if (Math.Abs(ampA0) - 1e-10 > 0)//1e-10 认为是0\\r\\n                        {\\r\\n                            double Mi = 20 * Math.Log10(SumAplusAnegative / (2 * ampA0));\\r\\n                            tmpdrawFreqAmp[indexOfAScan] = Mi;\\r\\n                            MaxAmp = MaxAmp < tmpdrawFreqAmp[indexOfAScan] ? tmpdrawFreqAmp[indexOfAScan] : MaxAmp;\\r\\n                            MinAmp = MinAmp > tmpdrawFreqAmp[indexOfAScan] ? tmpdrawFreqAmp[indexOfAScan] : MinAmp;\\r\\n                        }\\r\\n                    }\\r\\n\\r\\n                    //m_PeakDataInt[indexOfAScan] = (int)(drawFreqAmp[indexOfAScan] / (tmpMax - tmpMin) * (maxAMP - 1));\\r\\n                });\\r\\n\\r\\n            drawFreqAmp = tmpdrawFreqAmp;\\r\\n            //将数据转换0-255之间的数\\r\\n            for (int k = 0; k < drawFreqAmp.Length; k++)\\r\\n            {\\r\\n                m_PeakData[k] = ((drawFreqAmp[k] - MinAmp) / (MaxAmp - MinAmp) * (maxAMP - 1));\\r\\n\\r\\n            }\\r\\n            //m_PeakData = Array.ConvertAll<double, double>(drawFreqAmp, value => (double)((value- MinAmp) * (maxAMP - 1) / (MaxAmp - MinAmp)));\\r\\n\\r\\n            FilterCScanPic(m_bmpCscan, m_PeakData, m_DrawImageStyle, colorBar, wd);\\r\\n\\r\\n        }\\r\\n\\r\\n        /// <summary>\\r\\n        /// 只是拖动colorbar\\r\\n        /// </summary>\\r\\n        /// <param name=\"m_bmpCscan\"></param>\\r\\n        /// <param name=\"m_PeakDataInt\"></param>\\r\\n        public static void FilterCScanPic(\\r\\n            Bitmap m_bmpCscan\\r\\n            , double[] m_PeakData\\r\\n            , DrawImageStyle m_DrawImageStyle\\r\\n            , ColorBarControlSmall colorBar\\r\\n            , WaveDataStyle wd\\r\\n            )\\r\\n        {\\r\\n            int[] drawPeak = new int[m_PeakData.Length];\\r\\n            for (int k = 0; k < m_PeakData.Length; k++)\\r\\n            {\\r\\n                drawPeak[k] = DataToColorForInt(m_PeakData[k], m_DrawImageStyle, colorBar, wd); //tof / (double)m_GateLengthNum;//得到TOF与门限长度的比例\\r\\n            }\\r\\n\\r\\n            //m_PeakDataInt = Array.ConvertAll<double, int>(drawFreqAmp, value => (int)(value* (maxAMP-1) / (MaxAmp- MinAmp)));\\r\\n            CopyDataToBitmap2(m_bmpCscan, drawPeak);\\r\\n        }\\r\\n        /// <summary>\\r\\n        /// 绘制一行数据到C扫\\r\\n        /// </summary>\\r\\n        /// <param name=\"b\"></param>\\r\\n        /// <param name=\"data\"></param>\\r\\n        /// <param name=\"heightIndex\"></param>\\r\\n        /// <param name=\"isReDraw\">false，表示画一行，否则表示绘制到当前</param>\\r\\n        public static void FillALineForBitmap(Bitmap b, int[] data, int heightIndex, bool isReDraw = false, bool ischangegate = false)\\r\\n        {\\r\\n            if (heightIndex <= 0)\\r\\n            {\\r\\n                return;\\r\\n            }\\r\\n            Rectangle rect;\\r\\n            if (isReDraw || ischangegate) \\r\\n            {\\r\\n\\r\\n                rect = new Rectangle(0, 0, b.Width, heightIndex + 1);\\r\\n            }\\r\\n            else\\r\\n            {\\r\\n                rect = new Rectangle(0, heightIndex, b.Width, 1);\\r\\n            }\\r\\n            // Lock the bitmap\\'s bits.\\r\\n            System.Drawing.Imaging.BitmapData bmpData = b.LockBits(rect, System.Drawing.Imaging.ImageLockMode.WriteOnly, b.PixelFormat);\\r\\n            // Get the address of the first line.\\r\\n            IntPtr ptr = bmpData.Scan0;\\r\\n            if (isReDraw || ischangegate) \\r\\n            {\\r\\n               \\r\\n                //bmpData.\\r\\n                System.Runtime.InteropServices.Marshal.Copy(data, 0, ptr, b.Width * (heightIndex + 1));\\r\\n            }\\r\\n            else\\r\\n            {\\r\\n                System.Runtime.InteropServices.Marshal.Copy(data, 0, ptr, b.Width);\\r\\n            }\\r\\n            b.UnlockBits(bmpData);\\r\\n        }\\r\\n\\r\\n        /// <summary>\\r\\n        /// 绘制TOF成像C扫图\\r\\n        /// </summary>\\r\\n        /// <param name=\"m_IndexNum\">索引轴点数</param>\\r\\n        /// <param name=\"m_ScanNum\">扫查轴点数</param>\\r\\n        /// <param name=\"m_PeakData\">峰值数据数组</param>\\r\\n        /// <param name=\"curFSFFirstPosition\">同步闸门起始位置</param>\\r\\n        /// <param name=\"FSFGate\">同步闸门</param>\\r\\n        /// <param name=\"dataGate\">数据闸门</param>\\r\\n        /// <param name=\"ascanData\">所有的数据</param>\\r\\n        /// <param name=\"maxVoltage\">最大电压</param>\\r\\n        /// <param name=\"m_GateMode\">闸门模式</param>\\r\\n        /// <param name=\"m_bmpCscan\">C扫描位图</param>\\r\\n        /// <param name=\"m_DrawImageStyle\">着色模式</param>\\r\\n        /// <param name=\"m_originBitmap\">用于保存原始扫描的位图</param>\\r\\n        /// <param name=\"pictureBoxCScan\">绘制C扫的picturebox</param>\\r\\n        /// <param name=\"colorBar\">色条</param>\\r\\n        /// <param name=\"maxAMP\">最大幅值</param>\\r\\n        /// <param name=\"averageValue\">平均值</param>\\r\\n        public static void DrawTOFImage(\\r\\n            int m_IndexNum\\r\\n            , int m_ScanNum\\r\\n            , double[] m_PeakData\\r\\n\\r\\n            , LockGate FSFGate\\r\\n            , LockGate dataGate\\r\\n            , List<byte[]> ascanData\\r\\n            , double maxVoltage\\r\\n            , AmplitudeMode gateMode\\r\\n            , Bitmap m_bmpCscan\\r\\n            , DrawImageStyle m_DrawImageStyle\\r\\n            , ColorBarControlSmall colorBar\\r\\n            , WaveDataStyle wd\\r\\n            , int offset\\r\\n            )\\r\\n        {\\r\\n            //同步闸门\\r\\n            double thresholdFSF = FSFGate.m_Threshold;\\r\\n            int gateStartNumFSF = FSFGate.m_GateStartNum;\\r\\n            int gateLengthNumFSF = FSFGate.m_GateLengthNum;\\r\\n            //数据闸门\\r\\n            int gateLengthNum = dataGate.m_GateLengthNum;\\r\\n            int gateStartNum = dataGate.m_GateStartNum;\\r\\n            double thresholdData = dataGate.m_Threshold;\\r\\n            int curFSFFirstPosition = 0;\\r\\n\\r\\n            byte byteMinThreshold = (byte)NumConversionTo256(-thresholdData, wd);\\r\\n            byte byteMaxThreshold = (byte)NumConversionTo256(thresholdData, wd);\\r\\n\\r\\n\\r\\n            //int k = 0;\\r\\n            //foreach (byte[] currAScan in ascanData)\\r\\n            Parallel.For(0, ascanData.Count, (k, loopState) =>\\r\\n            {\\r\\n                \\r\\n                    byte[] adata = ascanData[k];\\r\\n                {\\r\\n                    int i = k % m_ScanNum;\\r\\n                    int j = k / m_ScanNum;\\r\\n\\r\\n                    int indexofAScan = k;//j * m_ScanNum + i;\\r\\n\\r\\n                    m_PeakData[j * m_ScanNum + i] = 0;\\r\\n                    byte byteTempMax = 0;\\r\\n                    byte byteTempMin = 0;\\r\\n\\r\\n                    int timeMax = gateStartNum;\\r\\n                    int timeMin = gateStartNum;\\r\\n                    int numThresh = gateStartNum;\\r\\n\\r\\n                    double tof = 0; //到达时间\\r\\n                                    // 数据中的A扫位置\\r\\n                                    //int indexofAScan = j * m_ScanNum + i;\\r\\n\\r\\n                    // A扫位置\\r\\n                    indexofAScan = ConvertType.JudgeAscanIndexIsOver(indexofAScan, ascanData);\\r\\n                    if (ascanData == null || adata.Length <= 0 || indexofAScan > ascanData.Count - 1)\\r\\n                    {\\r\\n                        m_PeakData[indexofAScan] = 0;\\r\\n                        //loopState.Break();\\r\\n                        //loopState.Stop();\\r\\n                        //break;\\r\\n                        //return;\\r\\n                    }\\r\\n                    else\\r\\n                    {\\r\\n\\r\\n                        if (FSFGate.m_GateIsActived)//启用同步闸门，则找闸门与波形的交叉点\\r\\n                        {\\r\\n                            // 与同步闸门的交汇点\\r\\n                            curFSFFirstPosition = FindFirstPostionInFSFGate(\\r\\n                                FSFGate.ThreshAMP //阈值对应的正向幅值\\r\\n                                , FSFGate.m_GateLengthNum//同步闸门的长度\\r\\n                                , FSFGate.m_GateStartNum//同步闸门的开始位置,信号的下标\\r\\n                                , FSFGate.isPositiveThresh//正向阈值\\r\\n                                , ascanData[indexofAScan]\\r\\n                                , wd\\r\\n                                , offset\\r\\n                                , StaticParas.glRDDataCard.MAX_AMP_V\\r\\n                                );\\r\\n                        }\\r\\n\\r\\n                        //确保数据闸门的实际起始位置在窗口中\\r\\n                        if ((curFSFFirstPosition + gateStartNum) < 0)\\r\\n                        {\\r\\n                            gateStartNum = -curFSFFirstPosition;\\r\\n                        }\\r\\n                        int lengthNum = 0;\\r\\n                        if ((curFSFFirstPosition + FSFGate.m_iUseBottomWave * gateStartNum + gateLengthNum) > ascanData[indexofAScan].GetLength(0))\\r\\n                        {\\r\\n                            lengthNum = ascanData[indexofAScan].GetLength(0);\\r\\n                        }\\r\\n                        else\\r\\n                        {\\r\\n                            lengthNum = curFSFFirstPosition + FSFGate.m_iUseBottomWave * gateStartNum + gateLengthNum;\\r\\n                        }\\r\\n                        //底波和表面波计算数据闸门的起点\\r\\n                        int iStart = gateStartNum;//只有数据闸门\\r\\n                        if (FSFGate.m_GateIsActived)//有同步闸门\\r\\n                        {\\r\\n                            iStart = Math.Max(curFSFFirstPosition + FSFGate.m_iUseBottomWave * gateStartNum, 0);\\r\\n                        }\\r\\n\\r\\n                        if (gateMode == AmplitudeMode.TOFPositiveMax\\r\\n                            || gateMode == AmplitudeMode.TOFNegativeMax\\r\\n                            )\\r\\n                        {\\r\\n                            FindMaxPeakMinPeak(\\r\\n                           iStart\\r\\n                            , lengthNum\\r\\n                            , ascanData[indexofAScan]\\r\\n                            , wd\\r\\n                            , offset\\r\\n                            , StaticParas.glRDDataCard.MAX_AMP_V\\r\\n                            , out byteTempMax\\r\\n                            , out byteTempMin\\r\\n                            , out timeMax\\r\\n                            , out timeMin\\r\\n\\r\\n                            );\\r\\n                        }\\r\\n                        else\\r\\n                        {\\r\\n                            numThresh = FindFirstPostionInFSFGate(\\r\\n                              dataGate.ThreshAMP //阈值对应的正向幅值\\r\\n                              , dataGate.m_GateLengthNum//同步闸门的长度\\r\\n                              , dataGate.m_GateStartNum + curFSFFirstPosition//同步闸门的开始位置,信号的下标\\r\\n                              , dataGate.isPositiveThresh//正向阈值\\r\\n                              , ascanData[indexofAScan]\\r\\n                              , wd\\r\\n                              , offset\\r\\n                              , StaticParas.glRDDataCard.MAX_AMP_V);\\r\\n                        }\\r\\n\\r\\n\\r\\n\\r\\n                        switch (gateMode)\\r\\n                        {\\r\\n                            case AmplitudeMode.TOFPositiveMax:\\r\\n                                {\\r\\n                                    if (byteTempMax > byteMaxThreshold)\\r\\n                                    {\\r\\n                                        tof = (timeMax - curFSFFirstPosition - gateStartNum) / (double)(gateLengthNum);//正向Tof\\r\\n\\r\\n                                    }\\r\\n                                    break;\\r\\n                                }\\r\\n                            case AmplitudeMode.TOFNegativeMax:\\r\\n                                {\\r\\n                                    if (byteTempMin < byteMinThreshold)\\r\\n                                    {\\r\\n                                        tof = (timeMin - curFSFFirstPosition - gateStartNum) / (double)(gateLengthNum);//负向Tof\\r\\n                                    }\\r\\n\\r\\n                                    break;\\r\\n                                }\\r\\n                            case AmplitudeMode.TOFPositiveThresh:\\r\\n                            case AmplitudeMode.TOFNegativeThresh:\\r\\n                                {\\r\\n                                    if (numThresh > 0)\\r\\n                                    {\\r\\n                                        tof = (numThresh - curFSFFirstPosition - gateStartNum) / (double)(gateLengthNum);//正向阈值Tof\\r\\n                                    }\\r\\n\\r\\n                                    break;\\r\\n                                }\\r\\n                        }\\r\\n\\r\\n                        m_PeakData[indexofAScan] = (double)NumConversionTo256ForColorBar(tof, 256);// DataToColorForInt((double)NumConversionTo256(tof), m_DrawImageStyle, colorBar); //tof / (double)m_GateLengthNum;//得到TOF与门限长度的比例\\r\\n                    }\\r\\n                }\\r\\n                //k++;\\r\\n            });\\r\\n            FilterCScanPic(m_bmpCscan, m_PeakData, m_DrawImageStyle, colorBar, wd);\\r\\n            //for (int j = 0; j < m_IndexNum; j++)//索引轴\\r\\n            //{\\r\\n            //    for (int i = 0; i < m_ScanNum; i++)//扫查点数\\r\\n            //    {\\r\\n            //        m_PeakData[j* m_ScanNum + i] = 0;\\r\\n            //        byte byteTempMax = 0;\\r\\n            //        byte byteTempMin = 0;\\r\\n\\r\\n            //        int timeMax = gateStartNum;\\r\\n            //        int timeMin =  gateStartNum;\\r\\n            //        int numThresh = gateStartNum;\\r\\n\\r\\n            //        double tof = 0; //到达时间\\r\\n            //        // 数据中的A扫位置\\r\\n            //        int indexOfAScan = j * m_ScanNum + i;\\r\\n\\r\\n            //        // A扫位置\\r\\n            //        indexOfAScan = ConvertType.JudgeAscanIndexIsOver(indexOfAScan, ascanData);\\r\\n            //        if (ascanData[indexOfAScan].Length <= 0)\\r\\n            //        {\\r\\n            //            break;\\r\\n            //        }\\r\\n\\r\\n            //        if (FSFGate.m_GateIsActived)//启用同步闸门，则找闸门与波形的交叉点\\r\\n            //        {\\r\\n            //            // 与同步闸门的交汇点\\r\\n            //            curFSFFirstPosition = FindFirstPostionInFSFGate(\\r\\n            //                FSFGate.ThreshAMP //阈值对应的正向幅值\\r\\n            //                , FSFGate.m_GateLengthNum//同步闸门的长度\\r\\n            //                , FSFGate.m_GateStartNum//同步闸门的开始位置,信号的下标\\r\\n            //                , FSFGate.isPositiveThresh//正向阈值\\r\\n            //                , ascanData[indexOfAScan]);\\r\\n            //        }\\r\\n\\r\\n            //        //确保数据闸门的实际起始位置在窗口中\\r\\n            //        if ((curFSFFirstPosition + gateStartNum) < 0)\\r\\n            //        {\\r\\n            //            gateStartNum = -curFSFFirstPosition;\\r\\n            //        }\\r\\n            //        int lengthNum = 0;\\r\\n            //        if ((curFSFFirstPosition + FSFGate.m_iUseBottomWave * gateStartNum + gateLengthNum) > ascanData[indexOfAScan].GetLength(0))\\r\\n            //        {\\r\\n            //            lengthNum = ascanData[indexOfAScan].GetLength(0);\\r\\n            //        }\\r\\n            //        else\\r\\n            //        {\\r\\n            //            lengthNum = curFSFFirstPosition + FSFGate.m_iUseBottomWave * gateStartNum + gateLengthNum;\\r\\n            //        }\\r\\n            //        //底波和表面波计算数据闸门的起点\\r\\n            //        int iStart = gateStartNum;//只有数据闸门\\r\\n            //        if (FSFGate.m_GateIsActived)//有同步闸门\\r\\n            //        {\\r\\n            //            iStart = Math.Max(curFSFFirstPosition + FSFGate.m_iUseBottomWave * gateStartNum, 0);\\r\\n            //        }\\r\\n\\r\\n            //        if (gateMode == AmplitudeMode.TOFPositiveMax\\r\\n            //            || gateMode == AmplitudeMode.TOFNegativeMax\\r\\n            //            )\\r\\n            //        {\\r\\n            //            FindMaxPeakMinPeak(\\r\\n            //           iStart\\r\\n            //            , lengthNum\\r\\n            //            , ascanData[indexOfAScan]\\r\\n            //            , out byteTempMax\\r\\n            //            , out byteTempMin\\r\\n            //            , out timeMax\\r\\n            //            , out timeMin\\r\\n\\r\\n            //            );\\r\\n            //        }\\r\\n            //        else\\r\\n            //        {\\r\\n            //            numThresh = FindFirstPostionInFSFGate(\\r\\n            //              dataGate.ThreshAMP //阈值对应的正向幅值\\r\\n            //              , dataGate.m_GateLengthNum//同步闸门的长度\\r\\n            //              , dataGate.m_GateStartNum+ curFSFFirstPosition//同步闸门的开始位置,信号的下标\\r\\n            //              , dataGate.isPositiveThresh//正向阈值\\r\\n            //              , ascanData[indexOfAScan]);\\r\\n            //        }\\r\\n\\r\\n\\r\\n\\r\\n            //        switch (gateMode)\\r\\n            //        {\\r\\n            //            case AmplitudeMode.TOFPositiveMax:\\r\\n            //                {\\r\\n            //                    if (byteTempMax > byteMaxThreshold)\\r\\n            //                    {\\r\\n            //                        tof = (timeMax - curFSFFirstPosition - gateStartNum) / (double)(gateLengthNum);//正向Tof\\r\\n\\r\\n            //                    }\\r\\n            //                    break;\\r\\n            //                }\\r\\n            //            case AmplitudeMode.TOFNegativeMax:\\r\\n            //                {\\r\\n            //                    if (byteTempMin <  byteMinThreshold)\\r\\n            //                    {\\r\\n            //                        tof = (timeMin - curFSFFirstPosition - gateStartNum) / (double)(gateLengthNum);//负向Tof\\r\\n            //                    }\\r\\n\\r\\n            //                    break;\\r\\n            //                }\\r\\n            //            case AmplitudeMode.TOFPositiveThresh:\\r\\n            //            case AmplitudeMode.TOFNegativeThresh:\\r\\n            //                {\\r\\n            //                    if (numThresh > 0)\\r\\n            //                    {\\r\\n            //                        tof = (numThresh - curFSFFirstPosition - gateStartNum) / (double)(gateLengthNum);//正向阈值Tof\\r\\n            //                    }\\r\\n\\r\\n            //                    break;\\r\\n            //                }\\r\\n            //        }\\r\\n\\r\\n            //        m_PeakData[j * m_ScanNum + i] = (double)NumConversionTo256ForColorBar(tof,256);// DataToColorForInt((double)NumConversionTo256(tof), m_DrawImageStyle, colorBar); //tof / (double)m_GateLengthNum;//得到TOF与门限长度的比例\\r\\n            //        //m_bmpCscan.SetPixel(i, j, Color.FromArgb(m_PeakData[j * m_ScanNum + i]));\\r\\n            //    }\\r\\n            //    //CopyDataToBitmap2(m_bmpCscan, m_PeakData);\\r\\n            //    FilterCScanPic(m_bmpCscan, m_PeakData, m_DrawImageStyle, colorBar);\\r\\n\\r\\n        }\\r\\n\\r\\n        /// <summary>\\r\\n        /// 将位图数据直接拷贝到位图区域\\r\\n        /// </summary>\\r\\n        /// <param name=\"m_Bitmap\"></param>\\r\\n        /// <param name=\"colordata\"></param>\\r\\n        public static void CopyDataToBitmap2(Bitmap m_Bitmap, int[] colordata)\\r\\n        {\\r\\n            Rectangle rect = new Rectangle(0, 0, m_Bitmap.Width, m_Bitmap.Height);\\r\\n            // Lock the bitmap\\'s bits.\\r\\n            System.Drawing.Imaging.BitmapData bmpData = m_Bitmap.LockBits(rect, System.Drawing.Imaging.ImageLockMode.WriteOnly, m_Bitmap.PixelFormat);\\r\\n            // Get the address of the first line.\\r\\n            IntPtr ptr = bmpData.Scan0;\\r\\n            System.Runtime.InteropServices.Marshal.Copy(colordata, 0, ptr, m_Bitmap.Width * m_Bitmap.Height);\\r\\n            m_Bitmap.UnlockBits(bmpData);\\r\\n        }\\r\\n\\r\\n        /// <summary>\\r\\n        /// 相位反转成像\\r\\n        /// </summary>\\r\\n        /// <param name=\"m_IndexNum\">索引轴点数</param>\\r\\n        /// <param name=\"m_ScanNum\">扫查轴点数</param>\\r\\n        /// <param name=\"m_PeakData\">峰值数组</param>\\r\\n        /// <param name=\"m_GateLengthNum\">数据闸门长度</param>\\r\\n        /// <param name=\"m_CurFSFFirstPosition\">同步闸门位置</param>\\r\\n        /// <param name=\"m_ThresholdFSF\">同步闸门阈值</param>\\r\\n        /// <param name=\"m_GateStartNumFSF\">同步闸门开始索引</param>\\r\\n        /// <param name=\"m_GateLengthNumFSF\">同步闸门长度</param>\\r\\n        /// <param name=\"m_AllData\">数据数组</param>\\r\\n        /// <param name=\"m_GateStartNum\">数据闸门开始索引</param>\\r\\n        /// <param name=\"m_MaxVoltage\">最大电压</param>\\r\\n        /// <param name=\"m_GateMode\">闸门模式</param>\\r\\n        /// <param name=\"m_bmpCscan\">C扫位图</param>\\r\\n        /// <param name=\"MAXVOLTAGE\">最大电压</param>\\r\\n        /// <param name=\"m_DrawImageStyle\">着色模式</param>\\r\\n        /// <param name=\"m_originBitmap\">用于保存原始扫描的位图</param>\\r\\n        /// <param name=\"m_ThresholdData\">数据闸门阈值</param>\\r\\n        /// <param name=\"m_X\">点前现实点X坐标</param>\\r\\n        /// <param name=\"m_Y\">当前现实点Y坐标</param>\\r\\n        /// <param name=\"checkBoxAdjustData\">提高对比度checkbox控件</param>\\r\\n        public static void DrawPhaseInverseImage(\\r\\n            int m_IndexNum\\r\\n            , int m_ScanNum\\r\\n            , double[] m_PeakData\\r\\n            , LockGate FSFGate\\r\\n            , LockGate dataGate\\r\\n            , List<byte[]> ascanData\\r\\n            , double maxVoltage\\r\\n            , AmplitudeMode m_GateMode\\r\\n            , Bitmap m_bmpCscan\\r\\n            , DrawImageStyle m_DrawImageStyle\\r\\n\\r\\n            , bool checkBoxAdjustData\\r\\n            , ColorBarControlSmall colorBar\\r\\n            , int maxAMP\\r\\n            , int averageValue\\r\\n            , double m_ReferencePhase\\r\\n            , int PulseType\\r\\n            , int offsetToZero\\r\\n            , WaveDataStyle wd\\r\\n            )\\r\\n        {\\r\\n            int m_GateLengthNum = dataGate.m_GateLengthNum;\\r\\n            int m_GateStartNum = dataGate.m_GateStartNum;\\r\\n            double m_ThresholdFSF = FSFGate.m_Threshold;\\r\\n            int m_GateStartNumFSF = FSFGate.m_GateStartNum;\\r\\n            int m_GateLengthNumFSF = FSFGate.m_GateLengthNum;\\r\\n            double m_ThresholdData = dataGate.m_Threshold;\\r\\n\\r\\n            Parallel.For(0, ascanData.Count, (k, loopState) =>\\r\\n\\r\\n            //for (int j = 0; j < m_IndexNum; j++)\\r\\n            //{\\r\\n            //    for (int i = 0; i < m_ScanNum; i++)\\r\\n                {\\r\\n                    //(X,Y)转换成一维\\r\\n\\r\\n                    int indexofAScan = k;//j * m_ScanNum + i;\\r\\n                    //int indexofAScan = j * m_ScanNum + i;\\r\\n\\r\\n                    // 判断A扫位置是否超限\\r\\n                    indexofAScan = ConvertType.JudgeAscanIndexIsOver(indexofAScan, ascanData);\\r\\n                    int curFSFFirstPosition = FindFirstPostionInFSFGate(\\r\\n                        FSFGate.ThreshAMP //阈值对应的正向幅值\\r\\n                        , FSFGate.m_GateLengthNum//同步闸门的长度\\r\\n                        , FSFGate.m_GateStartNum//同步闸门的开始位置,信号的下标\\r\\n                        , FSFGate.isPositiveThresh//正向阈值\\r\\n                        , ascanData[indexofAScan]\\r\\n                        , wd\\r\\n                        , offsetToZero\\r\\n                        , maxAMP);\\r\\n                    // 取峰值\\r\\n                    int maxIndex = 0;\\r\\n                    m_PeakData[indexofAScan] = CalPeakData(ascanData[indexofAScan], m_GateStartNum, m_GateLengthNum, m_GateMode, m_ThresholdData, m_ReferencePhase, maxVoltage\\r\\n                        , curFSFFirstPosition, FSFGate, wd, averageValue, maxAMP, PulseType, offsetToZero, out maxIndex);\\r\\n\\r\\n                });\\r\\n\\r\\n\\r\\n            //调整数据，以提高对比度\\r\\n            if (checkBoxAdjustData)\\r\\n            {\\r\\n                double[] peaks = CScanPicFunction.AdjustPeakData(m_PeakData, m_ScanNum, m_IndexNum, m_GateMode, maxVoltage, wd);\\r\\n                m_PeakData = peaks;\\r\\n            }\\r\\n            for (int i = 0; i < m_PeakData.Length; i++)\\r\\n            {\\r\\n                m_bmpCscan.SetPixel(i % m_ScanNum, i / m_ScanNum, DataToColor(m_PeakData[i], m_DrawImageStyle, colorBar, wd));\\r\\n            }\\r\\n\\r\\n\\r\\n        }\\r\\n\\r\\n\\r\\n\\r\\n        /// <summary>\\r\\n        /// 提高对比度\\r\\n        /// </summary>\\r\\n        public static void RaiseContrast(double[] m_PeakData, int scanNum, int indexNum, AmplitudeMode m_GateMode, double maxVoltage, Bitmap m_bmpCscan, DrawImageStyle m_DrawImageStyle, ColorBarControlSmall colorBar, WaveDataStyle wd)\\r\\n        {\\r\\n            //double[,] peaks = AdjustPeakData(ref m_oneParameterAndData.m_OutLineShareParameters.m_PeakData);\\r\\n            double[] peaks = AdjustPeakData(m_PeakData, scanNum, indexNum, m_GateMode, maxVoltage, wd);\\r\\n            m_PeakData = peaks;\\r\\n            for (int i = 0; i < peaks.Length; i++)\\r\\n            {\\r\\n                m_bmpCscan.SetPixel(i % scanNum, i / scanNum, DataToColor(m_PeakData[i], m_DrawImageStyle, colorBar, wd));\\r\\n            }\\r\\n        }\\r\\n\\r\\n        /// <summary>\\r\\n        /// 绘制峰值模式的C扫图像，包括：峰峰值，正向峰值，负向峰值，最大峰值\\r\\n        /// </summary>\\r\\n        /// <param name=\"m_IndexNum\"></param>\\r\\n        /// <param name=\"m_ScanNum\"></param>\\r\\n        /// <param name=\"m_PeakData\"></param>\\r\\n        /// <param name=\"m_GateLengthNum\"></param>\\r\\n        /// <param name=\"m_ThresholdFSF\"></param>\\r\\n        /// <param name=\"m_GateStartNumFSF\"></param>\\r\\n        /// <param name=\"m_GateLengthNumFSF\"></param>\\r\\n        /// <param name=\"m_AllData\"></param>\\r\\n        /// <param name=\"m_GateStartNum\"></param>\\r\\n        /// <param name=\"m_MaxVoltage\"></param>\\r\\n        /// <param name=\"m_GateMode\"></param>\\r\\n        /// <param name=\"m_bmpCscan\"></param>\\r\\n        /// <param name=\"MAXVOLTAGE\"></param>\\r\\n        /// <param name=\"m_DrawImageStyle\"></param>\\r\\n        /// <param name=\"m_ThresholdData\"></param>\\r\\n        /// <param name=\"m_ReferencePhase\">参考相位</param>\\r\\n        /// <param name=\"maxAMP\">最大赋值</param>\\r\\n        /// <param name=\"totalChannum\">总通道数</param>\\r\\n        /// <param name=\"thChanNo\">当前通道</param>\\r\\n        /// <param name=\"averageValue\">均值</param>\\r\\n        public static void DrawPeakCscanPic(\\r\\n            int m_IndexNum\\r\\n            , int m_ScanNum\\r\\n            , double[] m_PeakData\\r\\n            , LockGate FSFGate\\r\\n            , LockGate dataGate\\r\\n           , List<byte[]> ascanData\\r\\n           , double maxVoltage\\r\\n           , AmplitudeMode m_GateMode\\r\\n            , Bitmap m_bmpCscan\\r\\n            , DrawImageStyle m_DrawImageStyle\\r\\n            , double m_ReferencePhase\\r\\n            , ColorBarControlSmall colorBar\\r\\n            , int maxAMP\\r\\n            , int totalChannum\\r\\n            , int averageValue\\r\\n            , WaveDataStyle wd\\r\\n            , int offset)\\r\\n        {\\r\\n            int m_GateLengthNum = dataGate.m_GateLengthNum;\\r\\n            int m_GateStartNum = dataGate.m_GateStartNum;\\r\\n            double m_ThresholdFSF = FSFGate.m_Threshold;\\r\\n            int m_GateStartNumFSF = FSFGate.m_GateStartNum;\\r\\n            int m_GateLengthNumFSF = FSFGate.m_GateLengthNum;\\r\\n            double m_ThresholdData = dataGate.m_Threshold;\\r\\n            //for (int j = 0; j < m_IndexNum; j++)\\r\\n            //for (int k = 0; k < m_IndexNum* m_ScanNum; k++)\\r\\n            //  int k = 0;\\r\\n\\r\\n            // Stopwatch sw = new Stopwatch();\\r\\n            //  sw.Start();\\r\\n            // System.Threading.Tasks.Parallel.ForEach(ascanData, (adata, state1) =>\\r\\n            Parallel.For(0, ascanData.Count, (k, loopState) =>\\r\\n\\r\\n            //foreach (byte[] adata in ascanData)\\r\\n            {\\r\\n                byte[] adata = ascanData[k];\\r\\n                //for (int i = 0; i < m_ScanNum; i++)\\r\\n                {\\r\\n                    int i = k % m_ScanNum;\\r\\n                    int j = k / m_ScanNum;\\r\\n                    int indexofAScan = k;//j * m_ScanNum + i;\\r\\n\\r\\n                    if (indexofAScan > ascanData.Count - 1 || adata.Length <= 0)\\r\\n                    {\\r\\n                        m_PeakData[indexofAScan] = 0;\\r\\n                        //loopState.Break();\\r\\n                        //loopState.Stop();\\r\\n                        //break;\\r\\n                    }\\r\\n                    else\\r\\n                    {\\r\\n                        // 取得同步闸门起点\\r\\n                        int curFSFFirstPosition = 0;\\r\\n                        if (FSFGate.m_GateIsActived)\\r\\n                        {\\r\\n                            curFSFFirstPosition = CScanPicFunction.FindFirstPostionInFSFGate(\\r\\n                                  FSFGate.ThreshAMP //阈值对应的正向幅值\\r\\n                                , FSFGate.m_GateLengthNum//同步闸门的长度\\r\\n                                , FSFGate.m_GateStartNum//同步闸门的开始位置,信号的下标\\r\\n                                , FSFGate.isPositiveThresh//正向阈值\\r\\n                                , adata\\r\\n                                , wd\\r\\n                                , offset\\r\\n                                , maxAMP\\r\\n                                );\\r\\n                        }\\r\\n\\r\\n\\r\\n\\r\\n                        // 取得峰值数据\\r\\n                        int maxIndex = 0;\\r\\n                        double peakdata = CalPeakData(adata, m_GateStartNum, m_GateLengthNum, m_GateMode, m_ThresholdData, m_ReferencePhase, maxVoltage, curFSFFirstPosition, FSFGate, wd, averageValue, maxAMP, StaticParas.PulseType, offset, out maxIndex);\\r\\n\\r\\n                        m_PeakData[j * m_ScanNum + i] = peakdata;//DataToColorForInt(peakdata, m_DrawImageStyle, colorBar);\\r\\n                                                                 // 以像素点来绘制C扫图像\\r\\n                                                                 //m_bmpCscan.SetPixel(i, j, );\\r\\n                    }\\r\\n                }\\r\\n                // k++;\\r\\n            });\\r\\n\\r\\n            FilterCScanPic(m_bmpCscan, m_PeakData, m_DrawImageStyle, colorBar, wd);\\r\\n            //sw.Stop();\\r\\n            //  Debug.WriteLine(sw.ElapsedMilliseconds);\\r\\n\\r\\n            //CopyDataToBitmap2(m_bmpCscan, m_PeakData);\\r\\n        }\\r\\n\\r\\n        /// <summary>\\r\\n        /// 绘制其他模式C扫描图像(非全波)\\r\\n        /// </summary>\\r\\n        /// <param name=\"m_IndexNum\"></param>\\r\\n        /// <param name=\"m_ScanNum\"></param>\\r\\n        /// <param name=\"m_PeakData\"></param>\\r\\n        /// <param name=\"m_GateLengthNum\"></param>\\r\\n        /// <param name=\"m_CurFSFFirstPosition\"></param>\\r\\n        /// <param name=\"m_ThresholdFSF\"></param>\\r\\n        /// <param name=\"m_GateStartNumFSF\"></param>\\r\\n        /// <param name=\"m_GateLengthNumFSF\"></param>\\r\\n        /// <param name=\"m_AllData\"></param>\\r\\n        /// <param name=\"m_GateStartNum\"></param>\\r\\n        /// <param name=\"m_MaxVoltage\"></param>\\r\\n        /// <param name=\"m_GateMode\"></param>\\r\\n        /// <param name=\"m_bmpCscan\"></param>\\r\\n        /// <param name=\"MAXVOLTAGE\"></param>\\r\\n        /// <param name=\"m_DrawImageStyle\"></param>\\r\\n        /// <param name=\"m_ThresholdData\"></param>\\r\\n        /// <param name=\"m_ReferencePhase\">参考相位</param>\\r\\n        /// <param name=\"startIndex\">显示数据开始索引（默认0）后处理A信号有用缩放之后</param>\\r\\n        public static void DrawElseCscanPicNotFullPeak(int m_IndexNum, int m_ScanNum, double[] m_PeakData, List<byte[,]> m_Data, Bitmap m_bmpCscan, DrawImageStyle m_DrawImageStyle, ColorBarControlSmall colorBar, int CScanIndex, WaveDataStyle wd)\\r\\n        {\\r\\n            for (int j = 0; j < m_IndexNum; j++)\\r\\n            {\\r\\n                for (int i = 0; i < m_ScanNum; i++)\\r\\n                {\\r\\n                    int indexOfAScan = j * m_ScanNum + i;\\r\\n                    //for (int k = 0; k < 4; k++)\\r\\n                    //{\\r\\n                    int dataindex = CScanIndex * 2;//第1个是峰值，第2个是时间\\r\\n                    m_PeakData[indexOfAScan] = m_Data[i][ j, dataindex];\\r\\n                    //}\\r\\n                    // m_bmpCscan.SetPixel(i, j, DataToColor(m_PeakData[indexOfAScan], m_DrawImageStyle, colorBar));\\r\\n                }\\r\\n            }\\r\\n            // Functions.ExportToCSV(m_PeakData, StaticParas.glConfig.m_Frequency, \"D://notfull.csv\");\\r\\n            FilterCScanPic(m_bmpCscan, m_PeakData, m_DrawImageStyle, colorBar, wd);\\r\\n        }\\r\\n        /// <summary>\\r\\n        /// 非全波C扫成像使用时间\\r\\n        /// </summary>\\r\\n        /// <param name=\"m_IndexNum\"></param>\\r\\n        /// <param name=\"m_ScanNum\"></param>\\r\\n        /// <param name=\"m_PeakData\"></param>\\r\\n        /// <param name=\"m_Data\"></param>\\r\\n        /// <param name=\"m_bmpCscan\"></param>\\r\\n        /// <param name=\"m_DrawImageStyle\"></param>\\r\\n        /// <param name=\"colorBar\"></param>\\r\\n        /// <param name=\"CScanIndex\"></param>\\r\\n        public static void DrawElseCscanPicNotFullTime(int m_IndexNum, int m_ScanNum, double[] m_PeakData, List<byte[,]> m_Data, Bitmap m_bmpCscan, DrawImageStyle m_DrawImageStyle, ColorBarControlSmall colorBar, int CScanIndex, int AScanLen, WaveDataStyle wd)\\r\\n        {\\r\\n            for (int j = 0; j < m_IndexNum; j++)\\r\\n            {\\r\\n                for (int i = 0; i < m_ScanNum; i++)\\r\\n                {\\r\\n                    int indexOfAScan = j * m_ScanNum + i;\\r\\n                    //for (int k = 0; k < 4; k++)\\r\\n                    //{\\r\\n                    int dataindex = CScanIndex * 2 + 1;//第1个是峰值，第2个是时间\\r\\n                    m_PeakData[indexOfAScan] = (double)NumConversionTo256(m_Data[i][ j, dataindex] / AScanLen, wd);\\r\\n                    //}\\r\\n                    // m_bmpCscan.SetPixel(i, j, DataToColor(m_PeakData[indexOfAScan], m_DrawImageStyle, colorBar));\\r\\n                }\\r\\n            }\\r\\n            // Functions.ExportToCSV(m_PeakData, StaticParas.glConfig.m_Frequency, \"D://notfull.csv\");\\r\\n            FilterCScanPic(m_bmpCscan, m_PeakData, m_DrawImageStyle, colorBar, wd);\\r\\n        }\\r\\n\\r\\n        /// <summary>\\r\\n        /// 查找最大和最小峰值以及对应的位置\\r\\n        /// </summary>\\r\\n        /// <param name=\"curFSFFirstPosition\"></param>\\r\\n        /// <param name=\"gateStartNum\"></param>\\r\\n        /// <param name=\"gateEndNum\"></param>\\r\\n        /// <param name=\"byteMinThreshold\"></param>\\r\\n        /// <param name=\"byteMaxThreshold\"></param>\\r\\n        /// <param name=\"ascandata\"></param>\\r\\n        /// <param name=\"maxPeak\">输出 最大峰值</param>\\r\\n        /// <param name=\"minPeak\">输出 最小峰值</param>\\r\\n        /// <param name=\"maxPosition\">输出 最大峰值的位置</param>\\r\\n        /// <param name=\"minPosition\">输出 最小峰值的位置</param>\\r\\n\\r\\n        public static void FindMaxPeakMinPeak(\\r\\n            int gateStartNum\\r\\n            , int gateEndNum\\r\\n            , byte[] ascandata\\r\\n            , WaveDataStyle wd\\r\\n            , int offset\\r\\n            , int maxamp\\r\\n            , out byte maxPeak\\r\\n            , out byte minPeak\\r\\n            , out int maxPosition\\r\\n            , out int minPosition\\r\\n            , int step = 10\\r\\n            )\\r\\n        {\\r\\n\\r\\n            if (ascandata == null || ascandata.Length <= 0 || gateStartNum > ascandata.Length-1 || gateEndNum > ascandata.Length || ascandata.Max() == 0)\\r\\n            {\\r\\n                maxPeak = 0;\\r\\n                minPeak = 0;\\r\\n                maxPosition = 0;\\r\\n                minPosition = 0;\\r\\n                return;\\r\\n                //loopState.Stop();\\r\\n                //break;\\r\\n                //return;\\r\\n            }\\r\\n\\r\\n\\r\\n\\r\\n            byte byteTempMin = byte.MaxValue;\\r\\n            byte byteTempMax = byte.MinValue;\\r\\n\\r\\n\\r\\n            // 最大峰值出现位置的下标\\r\\n            int numMax = 0;\\r\\n            // 最小峰值出现位置的下标\\r\\n            int numMin = 0;\\r\\n\\r\\n            int initIndex_min = 0;\\r\\n            int initIndex_max = 0;\\r\\n\\r\\n\\r\\n\\r\\n            //粗找\\r\\n            for (int k = gateStartNum; k < gateEndNum; k += step)\\r\\n            {\\r\\n\\r\\n                byte byteTemp = ascandata[k];\\r\\n                byteTemp = (byte)DataUtils.GetActualAmp((int)wd, byteTemp, offset, maxamp);\\r\\n                //下限\\r\\n                if (byteTemp < byteTempMin)\\r\\n                {\\r\\n                    byteTempMin = byteTemp;\\r\\n                    initIndex_min = k;\\r\\n                }\\r\\n                //上限\\r\\n                if (byteTemp > byteTempMax)\\r\\n                {\\r\\n                    byteTempMax = byteTemp;\\r\\n                    initIndex_max = k;\\r\\n                }\\r\\n            }\\r\\n\\r\\n            numMin = initIndex_min;\\r\\n            numMax = initIndex_max;\\r\\n            //精细查找\\r\\n            //最小值查找\\r\\n            if (initIndex_min > 0 && initIndex_min < gateEndNum)\\r\\n            {\\r\\n                for (int k = Math.Max(initIndex_min - step, 0); k < Math.Min(initIndex_min + step, gateEndNum); k++)\\r\\n                {\\r\\n                    byte byteTemp = ascandata[k];\\r\\n                    byteTemp = (byte)DataUtils.GetActualAmp((int)wd, byteTemp, offset, maxamp);\\r\\n                    //下限\\r\\n                    if (byteTemp < byteTempMin)\\r\\n                    {\\r\\n                        byteTempMin = byteTemp;\\r\\n                        numMin = k;\\r\\n                    }\\r\\n\\r\\n                }\\r\\n            }\\r\\n            else if (initIndex_min == 0)\\r\\n            {\\r\\n                for (int k = 0; k < initIndex_min + 2 * step; k++)\\r\\n                {\\r\\n                    byte byteTemp = ascandata[k];\\r\\n                    byteTemp = (byte)DataUtils.GetActualAmp((int)wd, byteTemp, offset, maxamp);\\r\\n                    //下限\\r\\n                    if (byteTemp < byteTempMin)\\r\\n                    {\\r\\n                        byteTempMin = byteTemp;\\r\\n                        numMin = k;\\r\\n                    }\\r\\n\\r\\n                }\\r\\n            }\\r\\n            else if (initIndex_min == gateEndNum - 1)\\r\\n            {\\r\\n                for (int k = initIndex_min - 2 * step; k < initIndex_min; k++)\\r\\n                {\\r\\n                    byte byteTemp = ascandata[k];\\r\\n                    byteTemp = (byte)DataUtils.GetActualAmp((int)wd, byteTemp, offset, maxamp);\\r\\n                    //下限\\r\\n                    if (byteTemp < byteTempMin)\\r\\n                    {\\r\\n                        byteTempMin = byteTemp;\\r\\n                        numMin = k;\\r\\n                    }\\r\\n\\r\\n                }\\r\\n            }\\r\\n            //精细查找，最大\\r\\n            if (initIndex_max > 0 && initIndex_max < gateEndNum)\\r\\n            {\\r\\n                for (int k = Math.Max(initIndex_max - step, 0); k < Math.Min(initIndex_max + step, gateEndNum); k++)\\r\\n                {\\r\\n                    byte byteTemp = ascandata[k];\\r\\n                    byteTemp = (byte)DataUtils.GetActualAmp((int)wd, byteTemp, offset, maxamp);\\r\\n                    //上限\\r\\n                    if (byteTemp > byteTempMax)\\r\\n                    {\\r\\n                        byteTempMax = byteTemp;\\r\\n                        numMax = k;\\r\\n                    }\\r\\n                }\\r\\n            }\\r\\n            else if (initIndex_max == 0)\\r\\n            {\\r\\n                for (int k = 0; k < initIndex_max + 2 * step; k++)\\r\\n                {\\r\\n                    byte byteTemp = ascandata[k];\\r\\n                    byteTemp = (byte)DataUtils.GetActualAmp((int)wd, byteTemp, offset, maxamp);\\r\\n                    //上限\\r\\n                    if (byteTemp > byteTempMax)\\r\\n                    {\\r\\n                        byteTempMax = byteTemp;\\r\\n                        numMax = k;\\r\\n                    }\\r\\n                }\\r\\n            }\\r\\n            else if (initIndex_max == gateEndNum - 1)\\r\\n            {\\r\\n                for (int k = initIndex_max - 2 * step; k < initIndex_max; k++)\\r\\n                {\\r\\n                    byte byteTemp = ascandata[k];\\r\\n                    byteTemp = (byte)DataUtils.GetActualAmp((int)wd, byteTemp, offset, maxamp);\\r\\n                    //上限\\r\\n                    if (byteTemp > byteTempMax)\\r\\n                    {\\r\\n                        byteTempMax = byteTemp;\\r\\n                        numMax = k;\\r\\n                    }\\r\\n                }\\r\\n            }//*/\\r\\n\\r\\n\\r\\n\\r\\n\\r\\n\\r\\n\\r\\n            /*\\r\\n            for (int k = gateStartNum,j= gateEndNum-1; k < j; k++,j--)\\r\\n            {\\r\\n              \\r\\n                //头部\\r\\n                byte byteTemp = ascandata[k];\\r\\n                //下限\\r\\n                if (byteTemp < byteTempMin)\\r\\n                {\\r\\n                    byteTempMin = byteTemp;\\r\\n                    numMin = k;\\r\\n                }\\r\\n                //上限\\r\\n                if (byteTemp > byteTempMax)\\r\\n                {\\r\\n                    byteTempMax = byteTemp;\\r\\n                    numMax = k;\\r\\n                }\\r\\n\\r\\n                //尾部\\r\\n                byteTemp = ascandata[j];\\r\\n                //下限\\r\\n                if (byteTemp < byteTempMin)\\r\\n                {\\r\\n                    byteTempMin = byteTemp;\\r\\n                    numMin = j;\\r\\n                }\\r\\n                //上限\\r\\n                if (byteTemp > byteTempMax)\\r\\n                {\\r\\n                    byteTempMax = byteTemp;\\r\\n                    numMax = j;\\r\\n                }\\r\\n\\r\\n            }//*/\\r\\n            if (0 == byteTempMin)//0是背景色\\r\\n            {\\r\\n                byteTempMin = 1;\\r\\n            }\\r\\n            maxPeak = byteTempMax;\\r\\n            minPeak = byteTempMin;\\r\\n            minPosition = numMin;\\r\\n            maxPosition = numMax;\\r\\n\\r\\n\\r\\n        }\\r\\n\\r\\n\\r\\n\\r\\n        /// <summary>\\r\\n        /// 0-1的数直接对应color\\r\\n        /// </summary>\\r\\n        /// <param name=\"zerotoonev\"></param>\\r\\n        /// <param name=\"maxv\"></param>\\r\\n        /// <returns></returns>\\r\\n        public static int NumConversionTo256ForColorBar(double zerotoonev, short maxv)\\r\\n        {\\r\\n            return (int)Math.Floor(zerotoonev * maxv);\\r\\n        }\\r\\n\\r\\n        /// <summary>\\r\\n        ///  根据不同的闸门模式，计算峰值\\r\\n        /// \\r\\n        /// </summary>\\r\\n        /// <param name=\"ascandata\"></param>\\r\\n        /// <param name=\"gateStartNum\"></param>\\r\\n        /// <param name=\"gateLengthNum\"></param>\\r\\n        /// <param name=\"gateMode\"></param>\\r\\n        /// <param name=\"thresholdData\"></param>\\r\\n        /// <param name=\"referencePhase\"></param>\\r\\n        /// <param name=\"maxVoltage\"></param>\\r\\n        /// <param name=\"curFSFFirstPosition\"></param>\\r\\n        /// <param name=\"currAvgAmp\"></param>\\r\\n        /// <param name=\"totalChannum\"></param>\\r\\n        /// <param name=\"thChanNo\"></param>\\r\\n        /// <param name=\"currPointX\"></param>\\r\\n        /// <param name=\"currPointY\"></param>\\r\\n        /// <param name=\"thresholdFSF\"></param>\\r\\n        /// <param name=\"gateStartNumFSF\"></param>\\r\\n        /// <param name=\"gateLengthNumFSF\"></param>\\r\\n        /// <returns></returns>\\r\\n        public static double CalPeakData(byte[] ascandata\\r\\n            , int gateStartNum\\r\\n            , int gateLengthNum\\r\\n            , AmplitudeMode gateMode\\r\\n            , double thresholdData\\r\\n            , double referencePhase\\r\\n            , double maxVoltage\\r\\n            , int curFSFFirstPosition\\r\\n            , LockGate FSFGate\\r\\n            , WaveDataStyle wd\\r\\n            , double currAvgAmp\\r\\n            , int maxAMP\\r\\n            , int PulseType\\r\\n            , int offsetToZero\\r\\n            , out int maxIndex\\r\\n       )\\r\\n        {\\r\\n\\r\\n            if (ascandata == null || ascandata.Length <= 0)\\r\\n            {\\r\\n                maxIndex = 0;\\r\\n                return 0;\\r\\n            }\\r\\n           \\r\\n            //double peakdata = 0;\\r\\n            // 最大峰值出现位置的下标\\r\\n            int numMax = 0;\\r\\n            // 最小峰值出现位置的下标\\r\\n            int numMin = 0;\\r\\n\\r\\n            //double temp = 0;\\r\\n            double tempMax = double.MinValue;\\r\\n            double tempMin = double.MaxValue;\\r\\n\\r\\n            //确保数据闸门的实际起始位置在窗口中\\r\\n            if ((curFSFFirstPosition + gateStartNum) < 0)\\r\\n            {\\r\\n                gateStartNum = -curFSFFirstPosition;\\r\\n            }\\r\\n\\r\\n            int lengthNum;\\r\\n            if ((curFSFFirstPosition + FSFGate.m_iUseBottomWave * gateStartNum + gateLengthNum) > ascandata.GetLength(0))\\r\\n            {\\r\\n                lengthNum = ascandata.GetLength(0);\\r\\n            }\\r\\n            else\\r\\n            {\\r\\n                lengthNum = curFSFFirstPosition + FSFGate.m_iUseBottomWave * gateStartNum + gateLengthNum;\\r\\n            }\\r\\n\\r\\n            byte byteMinThreshold = (byte)(NumConversionTo256(-thresholdData, wd));//- offsetToZero\\r\\n            byteMinThreshold = (byte)(byteMinThreshold < 1 ? 1 : byteMinThreshold);\\r\\n            byte byteMaxThreshold = (byte)(NumConversionTo256(thresholdData, wd));//- offsetToZero\\r\\n            byte byteTempMax = byte.MinValue;\\r\\n            byte byteTempMin = byte.MaxValue;\\r\\n\\r\\n            byte bytePeakdata = 0;\\r\\n\\r\\n            int iStart = gateStartNum;\\r\\n            if (FSFGate.m_GateIsActived)\\r\\n            {\\r\\n                iStart = Math.Max(curFSFFirstPosition + FSFGate.m_iUseBottomWave * gateStartNum, 0);\\r\\n            }\\r\\n\\r\\n\\r\\n\\r\\n            //查找门限中的负向幅值和正向幅值及其到达下标（时间）\\r\\n            FindMaxPeakMinPeak(\\r\\n                iStart\\r\\n                , lengthNum\\r\\n                , ascandata\\r\\n                , wd\\r\\n                , offsetToZero\\r\\n                , maxAMP\\r\\n                , out byteTempMax\\r\\n                , out byteTempMin\\r\\n                , out numMax\\r\\n                , out numMin\\r\\n\\r\\n                );\\r\\n            maxIndex = numMax;\\r\\n            double tof = 0;\\r\\n            //根据不同的闸门模式，取峰值\\r\\n            switch (gateMode)\\r\\n            {\\r\\n                case AmplitudeMode.PostivePeak://正向峰值\\r\\n                    bytePeakdata = byteTempMax;\\r\\n                    if (bytePeakdata < byteMaxThreshold)\\r\\n                    {\\r\\n                        bytePeakdata = 0;\\r\\n                    }\\r\\n                    break;\\r\\n                case AmplitudeMode.NegativePeak://负向峰值\\r\\n                    bytePeakdata = byteTempMin;\\r\\n\\r\\n                    if (bytePeakdata > byteMinThreshold)\\r\\n                    {\\r\\n                        bytePeakdata = 0;\\r\\n                    }\\r\\n                    break;\\r\\n                case AmplitudeMode.PeaktoPeak://0-255,峰峰值\\r\\n                    bytePeakdata = (byte)(byteTempMax - byteTempMin);\\r\\n\\r\\n                    if (bytePeakdata < (byteMaxThreshold - byteMinThreshold))\\r\\n                    {\\r\\n                        bytePeakdata = 0;\\r\\n                    }\\r\\n                    break;\\r\\n\\r\\n                case AmplitudeMode.MaxPeak://最大峰值\\r\\n\\r\\n                    bytePeakdata = (byte)Math.Max(byteTempMax, maxAMP - byteTempMin);\\r\\n\\r\\n                    if (bytePeakdata < byteMaxThreshold)\\r\\n                    {\\r\\n                        bytePeakdata = 0;\\r\\n                    }\\r\\n                    break;\\r\\n                case AmplitudeMode.TOFNegativeThresh:\\r\\n                    {\\r\\n                        int numThresh = FindFirstPostionRelativeInGate(\\r\\n                       byteMaxThreshold //阈值对应的正向幅值\\r\\n                       , gateLengthNum//闸门的长度\\r\\n                       , gateStartNum + curFSFFirstPosition//闸门的开始位置,信号的下标\\r\\n                       , true//正向阈值\\r\\n                       , ascandata);//相对于数据闸门起点位置\\r\\n\\r\\n                        tof = (numThresh) / (double)(gateLengthNum);\\r\\n                        bytePeakdata = (byte)NumConversionTo256ForColorBar(tof, 256);\\r\\n\\r\\n                    }\\r\\n                    break;\\r\\n                case AmplitudeMode.TOFPositiveThresh:\\r\\n                    {\\r\\n                        int numThresh = FindFirstPostionRelativeInGate(\\r\\n                        byteMinThreshold //阈值对应的正向幅值\\r\\n                        , gateLengthNum//闸门的长度\\r\\n                        , gateStartNum + curFSFFirstPosition//闸门的开始位置,信号的下标\\r\\n                        , false//正向阈值\\r\\n                        , ascandata);//相对于数据闸门起点位置\\r\\n                        tof = (numThresh) / (double)(gateLengthNum);\\r\\n                        bytePeakdata = (byte)NumConversionTo256ForColorBar(tof, 256);\\r\\n                    }\\r\\n                    break;\\r\\n                case AmplitudeMode.TOFPositiveMax:\\r\\n                    tof = (numMax) / (double)(gateLengthNum);//正向Tof\\r\\n                    bytePeakdata = (byte)NumConversionTo256ForColorBar(tof, 256);\\r\\n                    break;\\r\\n                case AmplitudeMode.TOFNegativeMax:\\r\\n                    tof = (numMin) / (double)(gateLengthNum);//正向Tof\\r\\n                    bytePeakdata = (byte)NumConversionTo256ForColorBar(tof, 256);\\r\\n                    break;\\r\\n                case AmplitudeMode.Phase://相位\\r\\n                    {\\r\\n                        double curAmplitude = 0;\\r\\n                        double curPhase = 0;\\r\\n                        double phaseDiffer = 0;\\r\\n                        double PI = Math.PI; //常数π\\r\\n                        tempMax = (double)((byteTempMax - currAvgAmp) * maxVoltage / (maxAMP / 2));\\r\\n                        tempMin = (double)((byteTempMin - currAvgAmp) * maxVoltage / (maxAMP / 2));\\r\\n\\r\\n                        if (tempMax == 0 && tempMin == 0)\\r\\n                        {\\r\\n                            curPhase = 0;\\r\\n                            phaseDiffer = 0;\\r\\n                        }\\r\\n                        else\\r\\n                        {\\r\\n                            int numPeak;\\r\\n                            if (tempMax > (-tempMin))\\r\\n                            {\\r\\n                                numPeak = numMax;\\r\\n                            }\\r\\n                            else\\r\\n                            {\\r\\n                                numPeak = numMin;\\r\\n                            }\\r\\n                            if (ascandata[numPeak] > currAvgAmp)\\r\\n                            {\\r\\n                                curAmplitude = (double)(currAvgAmp - ascandata[numPeak]) * maxVoltage / (maxAMP / 2);\\r\\n                            }\\r\\n                            else\\r\\n                            {\\r\\n                                curAmplitude = (double)(ascandata[numPeak]) * maxVoltage / (maxAMP / 2);\\r\\n                            }\\r\\n\\r\\n                            curAmplitude = (curAmplitude + curAmplitude) / (tempMax - tempMin); // V/Vpp\\r\\n                            if (curAmplitude < -1)\\r\\n                            {\\r\\n                                curAmplitude = -1;\\r\\n                            }\\r\\n                            else if (curAmplitude > 1)\\r\\n                            {\\r\\n                                curAmplitude = 1;\\r\\n                            }\\r\\n                            //结果为弧度，满足 -π/2 ≤θ≤π/2 - 或 - 如果 d < -1 或 d > 1，则为 NaN。\\r\\n                            curPhase = Math.Asin(curAmplitude);\\r\\n                            phaseDiffer = curPhase - referencePhase; //此时返回结果为相位差\\r\\n                                                                     //phaseDiffer = phaseDiffer + PI; //这样phaseDiffer的范围就变为0到2π\\r\\n                                                                     //m_PeakData[i, j] = phaseDiffer / (2 * PI); // 求出数值对应的比例，范围从0到+1\\r\\n                        }\\r\\n                        bytePeakdata = (byte)NumConversionTo256(phaseDiffer / PI, wd); // 求出数值对应的比例，范围从-1到+1\\r\\n                    }\\r\\n                    break;\\r\\n                case AmplitudeMode.PeakWithPhase:\\r\\n                    {\\r\\n                        double curAmplitude = 0;\\r\\n                        double phaseDiffer = 0;\\r\\n                        tempMax = (double)((byteTempMax - currAvgAmp) * maxVoltage / (maxAMP / 2));\\r\\n                        tempMin = (double)((byteTempMin - currAvgAmp) * maxVoltage / (maxAMP / 2));\\r\\n                        if (tempMax == 0 && tempMin == 0)\\r\\n                        {\\r\\n                            phaseDiffer = 0;\\r\\n                        }\\r\\n                        else\\r\\n                        {\\r\\n                            int currndex = (curFSFFirstPosition + gateStartNum);\\r\\n                            if (ascandata[currndex] > currAvgAmp)\\r\\n                            {\\r\\n                                curAmplitude = (double)(currAvgAmp - ascandata[currndex]) / (maxAMP / 2);\\r\\n                            }\\r\\n                            else\\r\\n                            {\\r\\n                                curAmplitude = (double)(ascandata[currndex]) / (maxAMP / 2);\\r\\n                            }\\r\\n                            if (curAmplitude < -1)\\r\\n                            {\\r\\n                                curAmplitude = -1;\\r\\n                            }\\r\\n                            else if (curAmplitude > 1)\\r\\n                            {\\r\\n                                curAmplitude = 1;\\r\\n                            }\\r\\n                            //结果为弧度，满足 -π/2 ≤θ≤π/2 - 或 - 如果 d < -1 或 d > 1，则为 NaN。\\r\\n                            double curPhase = Math.Asin(curAmplitude);\\r\\n                            phaseDiffer = curPhase - referencePhase; //此时返回结果为相位差\\r\\n                        }\\r\\n                        bytePeakdata = (byte)NumConversionTo256(Math.Cos(phaseDiffer) * (tempMax - tempMin) / 2, wd);  // 幅值（峰峰值）乘以相位的余弦（可确保结果为正）\\r\\n\\r\\n                    }\\r\\n                    break;\\r\\n                case AmplitudeMode.PhaseInverse:\\r\\n                    {\\r\\n\\r\\n                        if (numMax < numMin)//最大值在最小值的前面\\r\\n                        {\\r\\n                            bytePeakdata = byteTempMax;\\r\\n                            if (bytePeakdata < byteMaxThreshold)\\r\\n                            {\\r\\n                                bytePeakdata = 0;\\r\\n                            }\\r\\n                        }\\r\\n                        else //最小值在前面\\r\\n                        {\\r\\n                            bytePeakdata = byteTempMin;\\r\\n\\r\\n                            if (bytePeakdata > byteMinThreshold)\\r\\n                            {\\r\\n                                bytePeakdata = 0;\\r\\n                            }\\r\\n                        }\\r\\n\\r\\n\\r\\n\\r\\n\\r\\n\\r\\n\\r\\n\\r\\n\\r\\n                        //double absPeakValue = GetAbsPeakValueInGate(ascandata, curFSFFirstPosition, FSFGate, gateStartNum, gateLengthNum, maxVoltage, thresholdData, maxAMP);\\r\\n                        ////设置大的正向阈值\\r\\n                        //double bigPosThreshold = 0.96 * absPeakValue * (-PulseType);//和实际设置的值是反的\\r\\n                        ////设置小的正向阈值\\r\\n                        //double smallPosThreshold = 0.8 * absPeakValue * (-PulseType);\\r\\n                        ////设置负向阈值\\r\\n                        //double negativeThreshold = -0.6 * absPeakValue * (-PulseType);\\r\\n\\r\\n                        //bool bBigPosThresholdFound = false;//是否发现大的正向阈值\\r\\n                        //bool bSmallPosThresholdFound = false;//是否发现小的正向阈值\\r\\n                        //bool bNegativeThresholdFound = false;//是否发现负向的阈值\\r\\n\\r\\n\\r\\n                        //tempMax = (double)((byteTempMax - currAvgAmp) * maxVoltage / (maxAMP / 2));\\r\\n                        //tempMin = (double)((byteTempMin - currAvgAmp) * maxVoltage / (maxAMP / 2));\\r\\n\\r\\n                        //int iBigPosThresholdTime = FindValueInGate(bigPosThreshold, curFSFFirstPosition, FSFGate, ascandata, gateStartNum, gateLengthNum, maxVoltage, maxAMP, out bBigPosThresholdFound);\\r\\n\\r\\n                        //int iSmallPosThresholdTime = FindValueInGate(smallPosThreshold, curFSFFirstPosition, FSFGate, ascandata, gateStartNum, gateLengthNum, maxVoltage, maxAMP, out bSmallPosThresholdFound);\\r\\n\\r\\n                        //int iNegativeThresholdTime = FindValueInGate(negativeThreshold, curFSFFirstPosition, FSFGate, ascandata, gateStartNum, gateLengthNum, maxVoltage, maxAMP, out bNegativeThresholdFound);\\r\\n\\r\\n                        ////先到负向阈值，则相位未反转\\r\\n                        ////没反转，则用最大幅值法成像\\r\\n                        //if (iNegativeThresholdTime <= iSmallPosThresholdTime && iNegativeThresholdTime <= iBigPosThresholdTime)\\r\\n                        //{\\r\\n                        //    double absMin = Math.Abs(tempMin);\\r\\n                        //    bytePeakdata = (byte)NumConversionTo256(Math.Max(Math.Abs(tempMin), Math.Abs(tempMax)));\\r\\n                        //    //peakdata = Math.Max(Math.Abs(tempMin), Math.Abs(tempMax));\\r\\n                        //}\\r\\n                        //else //相位发生了反转\\r\\n                        //{\\r\\n                        //    //设置数值对应的颜色\\r\\n                        //    if (bBigPosThresholdFound)\\r\\n                        //    {\\r\\n                        //        bytePeakdata = (byte)NumConversionTo256(1) ; //发生了反转,0xff0000,peakdata = 1\\r\\n                        //    }\\r\\n                        //    else\\r\\n                        //    {\\r\\n                        //        bytePeakdata = (byte)NumConversionTo256(0.75); //发生了临界反转，0xffff00,peakdata=0.75\\r\\n                        //    }\\r\\n                        //}\\r\\n                    }\\r\\n                    break;\\r\\n            }\\r\\n            //StaticParas.glParameters.MaxDataIndex = numMax;\\r\\n            return bytePeakdata;\\r\\n\\r\\n        }\\r\\n\\r\\n        /// <summary>\\r\\n        /// 将峰值数据转换为0-512之间的数字。\\r\\n        /// </summary>\\r\\n        /// <returns></returns>\\r\\n        public static int NumConversionTo512(double m_PeakData)\\r\\n        {\\r\\n            return NumConversionToData(m_PeakData, 512, WaveDataStyle.RF);\\r\\n        }\\r\\n        /// <summary>\\r\\n        /// 将峰值数据转换为0-256之间的数字。\\r\\n        /// </summary>\\r\\n        /// <returns></returns>\\r\\n        public static int NumConversionTo256(double m_PeakData, WaveDataStyle wd)\\r\\n        {\\r\\n            return NumConversionToData(m_PeakData, 256, wd);\\r\\n        }\\r\\n        /// <summary>\\r\\n        /// 将峰值数据转换为0-data之间的数字。\\r\\n        /// </summary>\\r\\n        /// <returns></returns>\\r\\n        public static int NumConversionToData(double value, short data, WaveDataStyle wd)\\r\\n        {\\r\\n            int result = 0;\\r\\n            if (wd == WaveDataStyle.RF)\\r\\n            {\\r\\n\\r\\n                if (value < -1) { value = -1; }\\r\\n                if (value > 1) { value = 1; }\\r\\n                result = (int)(Math.Floor(value * data / 2) + data / 2);\\r\\n            }\\r\\n            else\\r\\n            {\\r\\n                result = (int)(value * data);\\r\\n            }\\r\\n            return result;\\r\\n        }\\r\\n        /// <summary>\\r\\n        /// 非全波采集，只绘制C扫图像\\r\\n        /// </summary>\\r\\n        public static Bitmap DrawCscanOnly(int m_IndexNum, int m_ScanNum, AmplitudeMode m_GateMode, double[] m_PeakData, List<byte[,]> m_Data, Bitmap m_bmpCscan, double maxVoltage, Bitmap m_originBitmap, DrawImageStyle m_DrawImageStyle, ColorBarControlSmall colorBar, WaveDataStyle wd)\\r\\n        {\\r\\n            for (int j = 0; j < m_IndexNum; j++)\\r\\n            {\\r\\n                for (int i = 0; i < m_ScanNum; i++)\\r\\n                {\\r\\n                    int indexOfAScan = j * m_ScanNum + i;\\r\\n                    if (m_GateMode == AmplitudeMode.PostivePeak)\\r\\n                    {\\r\\n                        m_PeakData[indexOfAScan] = m_Data[i][ j, 0] / 32768 * maxVoltage;\\r\\n                    }\\r\\n                    else if (m_GateMode == AmplitudeMode.PeaktoPeak)\\r\\n                    {\\r\\n                        m_PeakData[indexOfAScan] = (m_Data[i][ j, 0] - m_Data[i][ j, 1]) / 2 / 32768 * maxVoltage;\\r\\n                    }\\r\\n                    else if (m_GateMode == AmplitudeMode.NegativePeak)\\r\\n                    {\\r\\n                        m_PeakData[indexOfAScan] = -m_Data[i][ j, 1] / 32768 * maxVoltage;\\r\\n                    }\\r\\n                    else if (m_GateMode == AmplitudeMode.MaxPeak)\\r\\n                    {\\r\\n                        if (m_Data[i][j, 0] > (-m_Data[i][ j, 1]))\\r\\n                        {\\r\\n                            m_PeakData[indexOfAScan] = m_Data[i][ j, 0] / 32768 * maxVoltage;\\r\\n                        }\\r\\n                        else\\r\\n                        {\\r\\n                            m_PeakData[indexOfAScan] = -m_Data[i][ j, 1] / 32768 * maxVoltage;\\r\\n                        }\\r\\n                    }\\r\\n                    // 根据每个信号的峰值绘制图像\\r\\n                    //m_bmpCscan.SetPixel(i, j, DataToColor(m_PeakData[i, j], maxVoltage, m_GateMode, m_DrawImageStyle));\\r\\n                    m_bmpCscan.SetPixel(i, j, DataToColor(m_PeakData[indexOfAScan], m_DrawImageStyle, colorBar, wd));\\r\\n                }\\r\\n            }\\r\\n\\r\\n\\r\\n\\r\\n\\r\\n\\r\\n\\r\\n            if (m_originBitmap != null)\\r\\n            {\\r\\n                m_originBitmap.Dispose();\\r\\n            }\\r\\n            m_originBitmap = new Bitmap(m_bmpCscan, m_bmpCscan.Width, m_bmpCscan.Height);\\r\\n\\r\\n            return m_originBitmap;\\r\\n        }\\r\\n\\r\\n\\r\\n        /// <summary>\\r\\n        /// 获取闸门在数据中开始位置\\r\\n        /// </summary>\\r\\n        /// <param name=\"timeStart\"></param>\\r\\n        /// <param name=\"totalTimeLen\"></param>\\r\\n        /// <param name=\"AScanCount\"></param>\\r\\n        /// <param name=\"FSFGatePosition\"></param>\\r\\n        /// <param name=\"displaystart\"></param>\\r\\n        /// <returns></returns>\\r\\n        public static int GetGateStartNum(double timeStart, double totalTimeLen, int AScanCount, LockGate FSFGate, int displaystart)\\r\\n        {\\r\\n            if (timeStart > totalTimeLen)\\r\\n            {\\r\\n                timeStart = totalTimeLen / 2;\\r\\n            }\\r\\n            int GateStartNum = (int)(timeStart * AScanCount / totalTimeLen);\\r\\n            \\r\\n            // 如果波形开始时间 + 同步闸门开始位置 + 数据闸门开始位置 《 0\\r\\n            int FSFGatePosition = FSFGate.m_CurFSFFirstPosition;\\r\\n            if (FSFGatePosition + FSFGate.m_iUseBottomWave * GateStartNum < 0)\\r\\n            {\\r\\n                // 数据闸门开始位置 = - 同步闸门开始位置 - 波形开始时间(0)\\r\\n                //GateStartNum = -FSFGatePosition - displaystart;\\r\\n                GateStartNum = -FSFGatePosition - displaystart;\\r\\n                if (-1 == FSFGate.m_iUseBottomWave)//底波\\r\\n                {\\r\\n                    GateStartNum = 0;\\r\\n                }\\r\\n                else\\r\\n                {\\r\\n                    GateStartNum = FSFGatePosition;//表面波\\r\\n                }\\r\\n            }\\r\\n            return GateStartNum;\\r\\n        }\\r\\n\\r\\n        /// <summary>\\r\\n        /// 获取闸门长度在数据中的点数\\r\\n        /// </summary>\\r\\n        /// <param name=\"gatelen\"></param>\\r\\n        /// <param name=\"totalTimeLen\"></param>\\r\\n        /// <param name=\"AScanCount\"></param>\\r\\n        /// <param name=\"FSFGatePosition\"></param>\\r\\n        /// <param name=\"displaystart\"></param>\\r\\n        /// <param name=\"gateStartNum\"></param>\\r\\n        /// <returns></returns>\\r\\n        public static int GetGateLengthNum(double gatelen, double totalTimeLen, int AScanCount, int FSFGatePosition, int displaystart, int gateStartNum)\\r\\n        {\\r\\n            // 数据闸门长度 = 闸门长度 * A信号数据长度 / 采样长度\\r\\n            int GateLengthNum = (int)((gatelen) * AScanCount / totalTimeLen);\\r\\n\\r\\n            // 波形起始时间 +同步闸门开始位置索引 + 数据闸门开始位置 + 数据闸门长度 》 A信号数据长度\\r\\n            if ((displaystart + FSFGatePosition + gateStartNum + GateLengthNum) > AScanCount)\\r\\n            {\\r\\n                // 数据闸门长度 = A信号数据长度 - 同步闸门开始位置索引 - 数据闸门开始位置 - 波形起始时间\\r\\n                GateLengthNum = AScanCount - FSFGatePosition - gateStartNum - displaystart;\\r\\n            }\\r\\n            //存文件错误\\r\\n            if (GateLengthNum < 0)\\r\\n            {\\r\\n                GateLengthNum = AScanCount - gateStartNum;\\r\\n            }\\r\\n            return GateLengthNum;\\r\\n        }\\r\\n\\r\\n\\r\\n\\r\\n\\r\\n    }',\n",
       "   'methods': [{'method_name': 'FindFirstPostionInFSFGate',\n",
       "     'method_comment': '',\n",
       "     'method_code': 'publicstaticintFindFirstPostionInFSFGate(int threshValue, int gateLengthNum, int gateStartNum, bool isPositiveThresh, byte[] ascandata,\\r\\n                                                      WaveDataStyle wd, int offset, int maxampvalue,double alpha=1.0, int step = 10){\\r\\n            // 定义循环变量\\r\\n            int iPos = 0;\\r\\n            bool bHasFound = false;\\r\\n\\r\\n\\r\\n            if (ascandata == null)\\r\\n            {\\r\\n                return 0;\\r\\n            }\\r\\n\\r\\n            int indexofCrossPoint = 0;\\r\\n            int iposMax = Math.Min(gateStartNum + gateLengthNum, ascandata.Length);\\r\\n\\r\\n            //int initIndexofCrossPoint = 0;//粗找的第1个交点\\r\\n            //bool bInitHasFound = false;\\r\\n            ////粗找\\r\\n            //if (isPositiveThresh)//正向阈值\\r\\n            //{\\r\\n\\r\\n            //    for (iPos = gateStartNum; iPos < iposMax; )\\r\\n            //    {\\r\\n            //        if (ascandata[iPos] >= threshValue)\\r\\n            //        {\\r\\n            //            initIndexofCrossPoint = iPos;\\r\\n            //            bInitHasFound = true;\\r\\n            //            break;\\r\\n            //        }\\r\\n            //        iPos += step;\\r\\n            //        if (iPos >= iposMax && !bInitHasFound)//找到头也没有找到交点,那么缩小不长从头再来\\r\\n            //        {\\r\\n            //            Debug.WriteLine(\"dllzg_ggggg.....\");\\r\\n            //            iPos = gateStartNum;\\r\\n            //            step--;\\r\\n            //            if (step == 0)\\r\\n            //            {\\r\\n            //                bInitHasFound = false;\\r\\n            //                bHasFound = false;\\r\\n            //                break;\\r\\n            //            }\\r\\n            //        }\\r\\n            //    }\\r\\n\\r\\n            //    if (bInitHasFound)//如果粗找找到了交点，则进行精细查找\\r\\n            //    {\\r\\n            //        for (iPos = Math.Min(gateStartNum, initIndexofCrossPoint - step); iPos <= initIndexofCrossPoint; iPos++)\\r\\n            //        {\\r\\n            //            if (ascandata[iPos] >= threshValue)\\r\\n            //            {\\r\\n            //                indexofCrossPoint = iPos;\\r\\n            //                bHasFound = true;\\r\\n            //                break;\\r\\n            //            }\\r\\n            //        }\\r\\n            //    }\\r\\n            //}\\r\\n\\r\\n\\r\\n            List<byte> allamp = new List<byte>();\\r\\n\\r\\n            //int initIndexofCrossPoint = 0;//粗找的第1个交点\\r\\n\\r\\n            if (isPositiveThresh || wd != WaveDataStyle.RF) //正向阈值或者除RF以外的三种模式\\r\\n            {\\r\\n\\r\\n                //for (iPos = gateStartNum; iPos < iposMax; iPos += 4)\\r\\n                for (iPos = gateStartNum; iPos < iposMax; iPos++)\\r\\n                {\\r\\n                    byte actualamp0 = (byte)DataUtils.GetActualAmp((int)wd, ascandata[iPos], offset, maxampvalue, (float)alpha, false);\\r\\n                    allamp.Add(actualamp0);\\r\\n                    //if (wd != WaveDataStyle.RF)\\r\\n                    //{\\r\\n                    //    Console.WriteLine(actualamp0);\\r\\n\\r\\n                    //}\\r\\n                    if (actualamp0 >= threshValue)\\r\\n                    {\\r\\n                        indexofCrossPoint = iPos;\\r\\n                        bHasFound = true;\\r\\n                        break;\\r\\n                    }\\r\\n\\r\\n                }\\r\\n            }\\r\\n            else//负向阈值\\r\\n            {\\r\\n                for (iPos = gateStartNum; iPos < iposMax; iPos += 4)\\r\\n                {\\r\\n                    if (ascandata[iPos] <= threshValue)\\r\\n                    {\\r\\n                        indexofCrossPoint = iPos;\\r\\n                        bHasFound = true;\\r\\n                        break;\\r\\n                    }\\r\\n                    if ((iPos + 1) < iposMax && ascandata[iPos + 1] <= threshValue)\\r\\n                    {\\r\\n                        indexofCrossPoint = iPos + 1;\\r\\n                        bHasFound = true;\\r\\n                        break;\\r\\n                    }\\r\\n                    if ((iPos + 2) < iposMax && ascandata[iPos + 2] <= threshValue)\\r\\n                    {\\r\\n                        indexofCrossPoint = iPos + 2;\\r\\n                        bHasFound = true;\\r\\n                        break;\\r\\n                    }\\r\\n                    if ((iPos + 3) < iposMax && ascandata[iPos + 3] <= threshValue)\\r\\n                    {\\r\\n                        indexofCrossPoint = iPos + 3;\\r\\n                        bHasFound = true;\\r\\n                        break;\\r\\n                    }\\r\\n                }\\r\\n            }//*/\\r\\n\\r\\n            if (!bHasFound) //如果没找到符合条件的值，则返回FSF闸门中间点的下标 \\r\\n            {\\r\\n                indexofCrossPoint = gateStartNum;//相对于起点，这是绝对位置\\r\\n            }\\r\\n            return indexofCrossPoint;\\r\\n        }',\n",
       "     'method_prefix': 'public static',\n",
       "     'method_param': '(int threshValue, int gateLengthNum, int gateStartNum, bool isPositiveThresh, byte[] ascandata,\\r\\n                                                      WaveDataStyle wd, int offset, int maxampvalue,double alpha=1.0, int step = 10)'},\n",
       "    {'method_name': 'FindFirstPostionRelativeInGate',\n",
       "     'method_comment': '',\n",
       "     'method_code': 'publicstaticintFindFirstPostionRelativeInGate(int threshValue, int gateLengthNum, int gateStartNum, bool isPositiveThresh, byte[] ascandata){\\r\\n            // 定义循环变量\\r\\n            int iPos = 0;\\r\\n            bool bHasFound = false;\\r\\n\\r\\n\\r\\n            if (ascandata == null)\\r\\n            {\\r\\n                return 0;\\r\\n            }\\r\\n\\r\\n\\r\\n\\r\\n            if (isPositiveThresh)//正向阈值\\r\\n            {\\r\\n                for (iPos = gateStartNum; iPos < Math.Min(gateStartNum + gateLengthNum, ascandata.Length); iPos++)\\r\\n                {\\r\\n                    if (ascandata[iPos] >= threshValue)\\r\\n                    {\\r\\n                        bHasFound = true;\\r\\n                        break;\\r\\n                    }\\r\\n                }\\r\\n            }\\r\\n            else//负向阈值\\r\\n            {\\r\\n                for (iPos = gateStartNum; iPos < Math.Min(gateStartNum + gateLengthNum, ascandata.Length); iPos++)\\r\\n                {\\r\\n                    if (ascandata[iPos] <= threshValue)\\r\\n                    {\\r\\n                        bHasFound = true;\\r\\n                        break;\\r\\n                    }\\r\\n                }\\r\\n            }\\r\\n\\r\\n            if (!bHasFound) //如果没找到符合条件的值，则返回FSF闸门0 \\r\\n            {\\r\\n                iPos = gateStartNum;//相对于起点，这是绝对位置\\r\\n            }\\r\\n            return iPos - gateStartNum;\\r\\n        }',\n",
       "     'method_prefix': 'public static',\n",
       "     'method_param': '(int threshValue, int gateLengthNum, int gateStartNum, bool isPositiveThresh, byte[] ascandata)'},\n",
       "    {'method_name': 'CalCouplantDepth',\n",
       "     'method_comment': '',\n",
       "     'method_code': 'publicstaticdoubleCalCouplantDepth(LockGate FSFGate, double v, double timeLen, double timedelay, byte[] ascandata){\\r\\n            int indexStartWave = FSFGate.m_GateStartNum;\\r\\n            //int indexSufaceWave = FSFGate.m_GateStartNum;\\r\\n            for (; indexStartWave < ascandata.Length; indexStartWave++)\\r\\n            {\\r\\n                if (ascandata[indexStartWave] >= FSFGate.ThreshAMP)\\r\\n                {\\r\\n                    break;\\r\\n                }\\r\\n            }\\r\\n            //for (; indexSufaceWave < Math.Min(FSFGate.m_GateStartNum + FSFGate.m_GateLengthNum, ascandata.Length); indexSufaceWave++)\\r\\n            //{\\r\\n            //    if (ascandata[indexSufaceWave] >= FSFGate.ThreshAMP)\\r\\n            //    {\\r\\n            //        break;\\r\\n            //    }\\r\\n\\r\\n            //}\\r\\n            return (Math.Abs(indexStartWave) * timeLen / ascandata.Length + timedelay) * v / 2;\\r\\n        }',\n",
       "     'method_prefix': 'public static',\n",
       "     'method_param': '(LockGate FSFGate, double v, double timeLen, double timedelay, byte[] ascandata)'},\n",
       "    {'method_name': 'DataToColor',\n",
       "     'method_comment': '',\n",
       "     'method_code': 'publicstaticColorDataToColor(double data, DrawImageStyle drawImageStyle, ColorBarControlSmall colorBar, WaveDataStyle wd, bool sign = true){\\r\\n            int res = 0;\\r\\n            if (!sign)\\r\\n            {\\r\\n                res = NumConversionTo256(data, wd);\\r\\n            }\\r\\n            else\\r\\n            {\\r\\n                res = (int)data;\\r\\n            }\\r\\n\\r\\n            if (drawImageStyle == DrawImageStyle.Gray)\\r\\n            {\\r\\n                return Color.FromArgb(res, res, res);\\r\\n            }\\r\\n            else\\r\\n            {\\r\\n                res *= 2;\\r\\n\\r\\n                if (res < 0)\\r\\n                {\\r\\n                    res = 0;\\r\\n                }\\r\\n                else\\r\\n                {\\r\\n                    if (res < 1)\\r\\n                    {\\r\\n                        res = 1;\\r\\n                    }\\r\\n                    if (res > 511)\\r\\n                    {\\r\\n                        res = 511;\\r\\n                    }\\r\\n                }\\r\\n\\r\\n                //Color colorRet = Color.FromArgb(ColorBarControlSmall.m_CColorData.m_ColorTab[res]);\\r\\n                Color colorRet = Color.FromArgb(colorBar.m_CColorData.m_ColorTab[res]);\\r\\n                return colorRet;\\r\\n            }\\r\\n        }',\n",
       "     'method_prefix': 'public static',\n",
       "     'method_param': '(double data, DrawImageStyle drawImageStyle, ColorBarControlSmall colorBar, WaveDataStyle wd, bool sign = true)'},\n",
       "    {'method_name': 'DataToColorForInt',\n",
       "     'method_comment': '',\n",
       "     'method_code': 'publicstaticintDataToColorForInt(double data, DrawImageStyle drawImageStyle, int[] m_ColorTab, WaveDataStyle wd, bool sign = true){\\r\\n            int res = 0;\\r\\n            if (!sign)\\r\\n            {\\r\\n                res = NumConversionTo256(data, wd);\\r\\n            }\\r\\n            else\\r\\n            {\\r\\n                res = (int)data;\\r\\n            }\\r\\n\\r\\n            if (drawImageStyle == DrawImageStyle.Gray)\\r\\n            {\\r\\n                return Color.FromArgb(res, res, res).ToArgb();\\r\\n            }\\r\\n            else\\r\\n            {\\r\\n                res *= 2;\\r\\n\\r\\n\\r\\n                if (res < 0)\\r\\n                {\\r\\n                    res = 0;\\r\\n                }\\r\\n                if (res > 511)\\r\\n                {\\r\\n                    res = 511;\\r\\n                }\\r\\n\\r\\n                //Color colorRet = Color.FromArgb(ColorBarControlSmall.m_CColorData.m_ColorTab[res]);\\r\\n                int colorRet = m_ColorTab[res];\\r\\n                return colorRet;\\r\\n            }\\r\\n        }',\n",
       "     'method_prefix': 'public static',\n",
       "     'method_param': '(double data, DrawImageStyle drawImageStyle, int[] m_ColorTab, WaveDataStyle wd, bool sign = true)'},\n",
       "    {'method_name': 'DataToColorForInt',\n",
       "     'method_comment': '',\n",
       "     'method_code': 'publicstaticintDataToColorForInt(double data, DrawImageStyle drawImageStyle, ColorBarControlSmall colorBar, WaveDataStyle wd, bool sign = true){\\r\\n            int res = 0;\\r\\n            if (!sign)\\r\\n            {\\r\\n                res = NumConversionTo256(data, wd);\\r\\n            }\\r\\n            else\\r\\n            {\\r\\n                res = (int)data;\\r\\n            }\\r\\n\\r\\n            if (drawImageStyle == DrawImageStyle.Gray)\\r\\n            {\\r\\n                return Color.FromArgb(res, res, res).ToArgb();\\r\\n            }\\r\\n            else\\r\\n            {\\r\\n                res *= 2;\\r\\n\\r\\n\\r\\n                if (res < 0)\\r\\n                {\\r\\n                    res = 0;\\r\\n                }\\r\\n                if (res > 511)\\r\\n                {\\r\\n                    res = 511;\\r\\n                }\\r\\n\\r\\n                //Color colorRet = Color.FromArgb(ColorBarControlSmall.m_CColorData.m_ColorTab[res]);\\r\\n                int colorRet = colorBar.m_CColorData.m_ColorTab[res];\\r\\n                return colorRet;\\r\\n            }\\r\\n        }',\n",
       "     'method_prefix': 'public static',\n",
       "     'method_param': '(double data, DrawImageStyle drawImageStyle, ColorBarControlSmall colorBar, WaveDataStyle wd, bool sign = true)'},\n",
       "    {'method_name': 'OutOldColorBar',\n",
       "     'method_comment': '',\n",
       "     'method_code': 'publicstaticvoidOutOldColorBar(){\\r\\n            double step = 0.25 / 63.75;\\r\\n            int R = 0, G = 0, B = 0;\\r\\n            double VoltageScope = 1.0;\\r\\n            for (double data = 0; data <= 1; data += step)\\r\\n            {\\r\\n\\r\\n                if (data <= 0)\\r\\n                    R = G = B = 0;\\r\\n                else if (data <= VoltageScope / 4)\\r\\n                {\\r\\n                    R = G = 0;\\r\\n                    B = Functions.RoundToInt(data * 255 * 4 / VoltageScope);\\r\\n                }\\r\\n\\r\\n                else if (data <= VoltageScope / 2)\\r\\n                {\\r\\n                    R = 0;\\r\\n                    G = Functions.RoundToInt((data - VoltageScope / 4) * 255 * 4 / VoltageScope);\\r\\n                    B = Functions.RoundToInt(255 - (data - VoltageScope / 4) * 255 * 4 / VoltageScope);\\r\\n                }\\r\\n\\r\\n                else if (data <= VoltageScope * 3 / 4)\\r\\n                {\\r\\n                    R = Functions.RoundToInt((data - VoltageScope / 2) * 255 * 4 / VoltageScope);\\r\\n                    G = 255;\\r\\n                    B = 0;\\r\\n                }\\r\\n\\r\\n                else if (data <= VoltageScope)\\r\\n                {\\r\\n                    R = 255;\\r\\n                    G = Functions.RoundToInt(255 - (data - VoltageScope * 3 / 4) * 255 * 4 / VoltageScope);\\r\\n                    B = 0;\\r\\n                }\\r\\n\\r\\n                else\\r\\n                {\\r\\n                    R = 255;\\r\\n                    G = 0;\\r\\n                    B = 0;\\r\\n                }\\r\\n            }\\r\\n        }',\n",
       "     'method_prefix': 'public static',\n",
       "     'method_param': '()'},\n",
       "    {'method_name': 'AdjustPeakData',\n",
       "     'method_comment': '',\n",
       "     'method_code': 'publicstaticdouble[]AdjustPeakData(double[] data, int scanNum, int indexNum, AmplitudeMode m_GateMode, double m_MaxVoltage, WaveDataStyle wd){\\r\\n            int iLen = scanNum * indexNum;\\r\\n            double[] result = new double[iLen];\\r\\n            double min, max;\\r\\n            min = double.MaxValue;\\r\\n            max = double.MinValue;\\r\\n\\r\\n            for (int i = 0; i < iLen; i++) //先找到最大、最小值\\r\\n            {\\r\\n                if (data[i] > max)\\r\\n                {\\r\\n                    max = data[i];\\r\\n                }\\r\\n                if (data[i] < min)\\r\\n                {\\r\\n                    min = data[i];\\r\\n                }\\r\\n            }\\r\\n\\r\\n\\r\\n            double valZone = max - min;\\r\\n            for (int i = 0; i < iLen; i++)\\r\\n            {\\r\\n                result[i] = NumConversionTo256((data[i] - min) * m_MaxVoltage / valZone, wd);\\r\\n            }\\r\\n            return result;\\r\\n        }',\n",
       "     'method_prefix': 'public static',\n",
       "     'method_param': '(double[] data, int scanNum, int indexNum, AmplitudeMode m_GateMode, double m_MaxVoltage, WaveDataStyle wd)'},\n",
       "    {'method_name': 'CheckFileFormat',\n",
       "     'method_comment': '',\n",
       "     'method_code': 'publicstaticboolCheckFileFormat(Config config, int ishowChanNo){\\r\\n            if (config.m_DataGateList.Count <= 0 || config.m_DataGateList.Count > 10)//数据格式不对\\r\\n            {\\r\\n                return false;\\r\\n            }\\r\\n            for (int i = 0; i < config.m_DataGateList.Count; i++)\\r\\n            {\\r\\n                if (config.m_DataGateList[i].m_GateLength <= 0.01 || config.m_DataGateList[i].m_GateLength > 1000)\\r\\n                {\\r\\n                    return false;\\r\\n                }\\r\\n                if (config.m_DataGateList[i].m_GateStart < 0)\\r\\n                {\\r\\n                    return false;\\r\\n                }\\r\\n                if (config.m_DataGateList[i].m_Threshold < 0 || config.m_DataGateList[i].m_Threshold > 1)\\r\\n                {\\r\\n                    return false;\\r\\n                }\\r\\n            }\\r\\n            if (config.m_FSFGate.m_GateIsActived)\\r\\n            {\\r\\n                if (config.m_FSFGate.m_GateLength <= 0.01 || config.m_FSFGate.m_GateLength > 1000)\\r\\n                {\\r\\n                    return false;\\r\\n                }\\r\\n                if (config.m_FSFGate.m_GateStart < 0)\\r\\n                {\\r\\n                    return false;\\r\\n                }\\r\\n                if (config.m_FSFGate.m_Threshold < 0 || config.m_FSFGate.m_Threshold > 1)\\r\\n                {\\r\\n                    return false;\\r\\n                }\\r\\n            }\\r\\n            if (config.m_ScanNum <= 0\\r\\n                   || config.m_ScanNum <= 0\\r\\n                   || config.m_IndexNum <= 0\\r\\n                   || config.m_IndexNum <= 0\\r\\n                   )//数据格式不对\\r\\n            {\\r\\n                return false;\\r\\n            }\\r\\n\\r\\n            if (ishowChanNo != 0)\\r\\n            {\\r\\n                return false;\\r\\n            }\\r\\n\\r\\n\\r\\n            //if (StaticParas.glConfig.m_AscanLength <= 0 )//数据格式不对\\r\\n            //{\\r\\n            //    return false;\\r\\n            //}\\r\\n\\r\\n            return true;\\r\\n        }',\n",
       "     'method_prefix': 'public static',\n",
       "     'method_param': '(Config config, int ishowChanNo)'},\n",
       "    {'method_name': 'ReadNewVersionData',\n",
       "     'method_comment': '',\n",
       "     'method_code': 'publicstaticboolReadNewVersionData(String sFile, bool isfullshow, ref int iShowChannelNo, ref int offsetToZero, ref Config config, ref List<byte[]> oneChannelData, ref List<byte[,]> notfulldata){\\r\\n            try\\r\\n            {\\r\\n                iShowChannelNo = 0;\\r\\n                config = new Config();\\r\\n\\r\\n\\r\\n                Stream stream = File.Open(sFile, FileMode.Open);\\r\\n                BinaryReader br = new BinaryReader(stream);\\r\\n                int version = br.ReadInt16();//内部版本号，暂时用1,表示版本1,整型\\r\\n                config.m_Frequency = br.ReadInt32(); //采样频率\\r\\n                offsetToZero = br.ReadInt32();      //偏移量\\r\\n                config.m_FSFGate.m_iUseBottomWave = br.ReadInt32(); //同步闸门是否底波\\r\\n                                                                    //StaticParas.glConfig.m_MaxVoltage = br.ReadDouble(); //电压最大值\\r\\n                config.m_TimeDelay = br.ReadDouble();      //延迟时间\\r\\n                config.m_TimeLength = br.ReadDouble();     //采样长度    \\r\\n                                                           //PCIe9802SImport.offsetToZero = br.ReadInt32();            //偏移量\\r\\n                                                           //跟踪闸门参数\\r\\n                config.m_FSFGate.m_GateIsActived = br.ReadBoolean();// 读取同步闸门是否启用\\r\\n\\r\\n\\r\\n\\r\\n                config.m_FSFGate.m_GateStart = br.ReadDouble();\\r\\n                config.m_FSFGate.m_GateLength = br.ReadDouble();\\r\\n                config.m_FSFGate.m_Threshold = br.ReadDouble();\\r\\n                if (!config.m_FSFGate.m_GateIsActived)\\r\\n                {\\r\\n                    config.m_FSFGate.m_GateStart = 0;\\r\\n                    config.m_FSFGate.m_GateLength = 0;\\r\\n                    config.m_FSFGate.m_Threshold = 0;\\r\\n                }\\r\\n\\r\\n                // ===================  ediy by camellia 20190815  ===========================\\r\\n                config.m_FullWaveFlag = br.ReadBoolean();\\r\\n                // 读取闸门数量\\r\\n                int iGateDataNum = br.ReadInt32();\\r\\n\\r\\n                for (int i = 0; i < iGateDataNum; i++)\\r\\n                {\\r\\n                    // 添加一套闸门参数\\r\\n                    config.m_DataGateList.Add(new LockGate());\\r\\n                    // 数据闸门参数\\r\\n                    config.m_DataGateList[i].m_GateStart = br.ReadDouble();\\r\\n                    config.m_DataGateList[i].m_GateLength = br.ReadDouble();\\r\\n                    config.m_DataGateList[i].m_Threshold = br.ReadDouble();\\r\\n                    config.m_DataGateList[i].m_GateMode = (AmplitudeMode)br.ReadInt32();\\r\\n                    // colorbar索引\\r\\n                    config.colorBarArray[i] = br.ReadInt32();\\r\\n                    // colorbar上限\\r\\n                    config.colorBarUpValueArray[i] = br.ReadInt32();\\r\\n                    // colorbar下限\\r\\n                    config.colorBarDownValueArray[i] = br.ReadInt32();\\r\\n\\r\\n\\r\\n\\r\\n\\r\\n\\r\\n\\r\\n                }\\r\\n\\r\\n                // 扫查参数\\r\\n                config.m_ScanWidth = br.ReadDouble();\\r\\n                config.m_IndexWidth = br.ReadDouble();\\r\\n                config.m_ScanResolution = br.ReadDouble();\\r\\n                config.m_IndexResolution = br.ReadDouble();\\r\\n\\r\\n\\r\\n                // 读入扫查行、列数\\r\\n                config.m_ScanNum = br.ReadInt32();\\r\\n                config.m_IndexNum = br.ReadInt32();\\r\\n\\r\\n                // A扫描长度\\r\\n                config.m_AscanLength = br.ReadInt32();\\r\\n                // 每个通道有多少A扫描\\r\\n                int OneChannelAscanNum = br.ReadInt32();\\r\\n                config.m_ActualCollAScanNum = (ulong)OneChannelAscanNum;\\r\\n\\r\\n                // 通道对应数（1,2,3,4,5,6,7,8）\\r\\n                iShowChannelNo = br.ReadInt32();\\r\\n                // 所有备用量\\r\\n                StaticParas.comments = new string[8] { \"\", \"\", \"\", \"\", \"\", \"\", \"\", \"\" };\\r\\n                string strcomment = br.ReadString();\\r\\n                string[] arrcomment = strcomment.Split(\\',\\');\\r\\n                for (int i = 0; i < arrcomment.Length; i++)\\r\\n                {\\r\\n                    StaticParas.comments[i] = arrcomment[i];\\r\\n                }\\r\\n\\r\\n                if (string.IsNullOrEmpty(StaticParas.comments[2]))\\r\\n                {\\r\\n                    config.m_RulerUnit = RulerUnit.us;\\r\\n                }\\r\\n                else\\r\\n                {\\r\\n                    config.m_RulerUnit = (RulerUnit)Convert.ToInt32(StaticParas.comments[2]);\\r\\n                }\\r\\n                if (string.IsNullOrEmpty(StaticParas.comments[3]))\\r\\n                {\\r\\n                    config.m_WaveStyle = WaveStyle.longi;\\r\\n                }\\r\\n                else\\r\\n                {\\r\\n                    config.m_WaveStyle = (WaveStyle)Convert.ToInt32(StaticParas.comments[3]);\\r\\n                }\\r\\n                if (string.IsNullOrEmpty(StaticParas.comments[4]))\\r\\n                {\\r\\n                    config.m_MaterialVel = 1.48;\\r\\n                }\\r\\n                else\\r\\n                {\\r\\n                    config.m_MaterialVel = Convert.ToDouble(StaticParas.comments[4]);\\r\\n                }\\r\\n                if (string.IsNullOrEmpty(StaticParas.comments[5]))\\r\\n                {\\r\\n                    config.m_DepthTimeLength = 0;\\r\\n                }\\r\\n                else\\r\\n                {\\r\\n                    config.m_DepthTimeLength = Convert.ToDouble(StaticParas.comments[5]);\\r\\n                }\\r\\n                //if (string.IsNullOrEmpty(StaticParas.comments[6]))\\r\\n                //{\\r\\n                //    StaticParas.glSignalSrc = 1;\\r\\n                //}\\r\\n                //else\\r\\n                //{\\r\\n                //    StaticParas.glSignalSrc = Convert.ToInt32(StaticParas.comments[6]);\\r\\n                //}\\r\\n                if (string.IsNullOrEmpty(StaticParas.comments[7]))\\r\\n                {\\r\\n                    config.m_WaveDataStyle = WaveDataStyle.RF;\\r\\n                }\\r\\n                else\\r\\n                {\\r\\n                    config.m_WaveDataStyle = (WaveDataStyle)Convert.ToInt32(StaticParas.comments[7]);\\r\\n                }\\r\\n                // 读取备用量\\r\\n                //for (int i = 0; i < 6; i++)\\r\\n                //{\\r\\n                //    StaticParas.comments[i] = br.ReadString();\\r\\n                //}\\r\\n                //config.m_RulerUnit = (RulerUnit)Convert.ToInt32(StaticParas.comments[1]);\\r\\n                //config.m_WaveStyle = (WaveStyle)Convert.ToInt32(StaticParas.comments[2]);\\r\\n                //config.transWave = Convert.ToDouble(StaticParas.comments[3]);\\r\\n                //config.longiWave = Convert.ToDouble(StaticParas.comments[4]);\\r\\n\\r\\n                // 读入全波数据\\r\\n                oneChannelData = new List<byte[]>();\\r\\n                // 读入数据\\r\\n                if (config.m_FullWaveFlag)\\r\\n                {\\r\\n                    if (!isfullshow)\\r\\n                    {\\r\\n                        //1 读非全波数据\\r\\n                        notfulldata = new List<byte[,]>();\\r\\n\\r\\n                        for (int i = 0; i < config.m_ScanNum; i++)\\r\\n                        {\\r\\n                            byte[,] tmpIndexData = new byte[config.m_IndexNum, iGateDataNum * 2];\\r\\n                            for (int j = 0; j < config.m_IndexNum; j++)\\r\\n                            {\\r\\n                                for (int k = 0; k < iGateDataNum * 2; k++)\\r\\n                                {\\r\\n                                    tmpIndexData[j, k] = br.ReadByte();\\r\\n                                }\\r\\n                            }\\r\\n                            notfulldata.Add(tmpIndexData);\\r\\n                        }\\r\\n\\r\\n\\r\\n                        //2 读取一个A信号，0,0\\r\\n                        byte[] oneAscanData = null;// new byte[StaticParas.glConfig.m_AscanLength];\\r\\n                        oneAscanData = br.ReadBytes(config.m_AscanLength);\\r\\n                        oneChannelData.Add(oneAscanData);\\r\\n                    }\\r\\n                    else\\r\\n                    {\\r\\n                        for (int i = 0; i < OneChannelAscanNum; i++)\\r\\n                        {\\r\\n                            // 存储一个A扫描的数组\\r\\n                            //byte[] oneAscanData = new byte[StaticParas.glConfig.m_AscanLength];\\r\\n                            byte[] oneAscanData = null;// new byte[StaticParas.glConfig.m_AscanLength];\\r\\n                            oneAscanData = br.ReadBytes(config.m_AscanLength);\\r\\n                            oneChannelData.Add(oneAscanData);\\r\\n\\r\\n                        }\\r\\n                    }\\r\\n\\r\\n                }\\r\\n                else\\r\\n                {\\r\\n                    // 读入非全波数据=====未修改（新的数据格式）\\r\\n                    notfulldata = new List<byte[,]>();\\r\\n                    for (int i = 0; i < config.m_ScanNum; i++)\\r\\n                    {\\r\\n                        byte[,] tmpIndexData = new byte[config.m_IndexNum, iGateDataNum * 2];\\r\\n                        for (int j = 0; j < config.m_IndexNum; j++)\\r\\n                        {\\r\\n                            for (int k = 0; k < iGateDataNum * 2; k++)\\r\\n                            {\\r\\n                                tmpIndexData[j, k] = br.ReadByte();\\r\\n                            }\\r\\n                        }\\r\\n                        notfulldata.Add(tmpIndexData);\\r\\n                    }\\r\\n\\r\\n\\r\\n                }\\r\\n\\r\\n\\r\\n                br.Close();\\r\\n                stream.Close();\\r\\n                return CheckFileFormat(config, iShowChannelNo);\\r\\n            }\\r\\n            catch (Exception ex)\\r\\n            {\\r\\n                Console.WriteLine(ex.ToString());\\r\\n                config.colorBarDownValueArray[0] = 377;\\r\\n                config.colorBarUpValueArray[0] = 0;\\r\\n                Console.WriteLine(\"文件读取失败，请重试\");\\r\\n                //LoadingHelper.CloseForm();//关闭\\r\\n                return false;\\r\\n            }\\r\\n\\r\\n        }',\n",
       "     'method_prefix': 'public static',\n",
       "     'method_param': '(String sFile, bool isfullshow, ref int iShowChannelNo, ref int offsetToZero, ref Config config, ref List<byte[]> oneChannelData, ref List<byte[,]> notfulldata)'},\n",
       "    {'method_name': 'ReadNewVersionData',\n",
       "     'method_comment': '',\n",
       "     'method_code': 'publicstaticboolReadNewVersionData(String sFile, bool isfullshow, StatusStrip status, ToolStripStatusLabel toollabel, ref int iShowChannelNo, ref int offsetToZero, ref Config config, ref List<byte[]> oneChannelData, ref List<byte[,]> notfulldata, ref bool isReadOk){\\r\\n            try\\r\\n            {\\r\\n                isReadOk = false;\\r\\n                iShowChannelNo = 0;\\r\\n                config = new Config();\\r\\n\\r\\n\\r\\n\\r\\n\\r\\n                Stream stream = File.Open(sFile, FileMode.Open);\\r\\n                BinaryReader br = new BinaryReader(stream);\\r\\n                int version = br.ReadInt16();//内部版本号，暂时用1,表示版本1,整型\\r\\n                config.m_Frequency = br.ReadInt32(); //采样频率\\r\\n                offsetToZero = br.ReadInt32();      //偏移量\\r\\n                config.m_FSFGate.m_iUseBottomWave = br.ReadInt32(); //同步闸门是否底波\\r\\n                                                                    //StaticParas.glConfig.m_MaxVoltage = br.ReadDouble(); //电压最大值\\r\\n                config.m_TimeDelay = br.ReadDouble();      //延迟时间\\r\\n                config.m_TimeLength = br.ReadDouble();     //采样长度    \\r\\n                                                           //PCIe9802SImport.offsetToZero = br.ReadInt32();            //偏移量\\r\\n                                                           //跟踪闸门参数\\r\\n                config.m_FSFGate.m_GateIsActived = br.ReadBoolean();// 读取同步闸门是否启用\\r\\n\\r\\n\\r\\n\\r\\n                config.m_FSFGate.m_GateStart = br.ReadDouble();\\r\\n                config.m_FSFGate.m_GateLength = br.ReadDouble();\\r\\n                config.m_FSFGate.m_Threshold = br.ReadDouble();\\r\\n                if (!config.m_FSFGate.m_GateIsActived)\\r\\n                {\\r\\n                    config.m_FSFGate.m_GateStart = 0;\\r\\n                    config.m_FSFGate.m_GateLength = 0;\\r\\n                    config.m_FSFGate.m_Threshold = 0;\\r\\n                }\\r\\n\\r\\n                // ===================  ediy by camellia 20190815  ===========================\\r\\n                config.m_FullWaveFlag = br.ReadBoolean();\\r\\n                // 读取闸门数量\\r\\n                int iGateDataNum = br.ReadInt32();\\r\\n\\r\\n                for (int i = 0; i < iGateDataNum; i++)\\r\\n                {\\r\\n                    // 添加一套闸门参数\\r\\n                    config.m_DataGateList.Add(new LockGate());\\r\\n                    // 数据闸门参数\\r\\n                    config.m_DataGateList[i].m_GateStart = br.ReadDouble();\\r\\n                    config.m_DataGateList[i].m_GateLength = br.ReadDouble();\\r\\n                    config.m_DataGateList[i].m_Threshold = br.ReadDouble();\\r\\n                    config.m_DataGateList[i].m_GateMode = (AmplitudeMode)br.ReadInt32();\\r\\n                    // colorbar索引\\r\\n                    config.colorBarArray[i] = br.ReadInt32();\\r\\n                    // colorbar上限\\r\\n                    config.colorBarUpValueArray[i] = br.ReadInt32();\\r\\n                    // colorbar下限\\r\\n                    config.colorBarDownValueArray[i] = br.ReadInt32();\\r\\n\\r\\n                }\\r\\n\\r\\n                // 扫查参数\\r\\n                config.m_ScanWidth = br.ReadDouble();\\r\\n                config.m_IndexWidth = br.ReadDouble();\\r\\n                config.m_ScanResolution = br.ReadDouble();\\r\\n                config.m_IndexResolution = br.ReadDouble();\\r\\n\\r\\n\\r\\n                // 读入扫查行、列数\\r\\n                config.m_ScanNum = br.ReadInt32();\\r\\n                config.m_IndexNum = br.ReadInt32();\\r\\n\\r\\n                // A扫描长度\\r\\n                config.m_AscanLength = br.ReadInt32();\\r\\n                // 每个通道有多少A扫描\\r\\n                int OneChannelAscanNum = br.ReadInt32();\\r\\n                config.m_ActualCollAScanNum = (ulong)OneChannelAscanNum;\\r\\n                // 通道对应数（1,2,3,4,5,6,7,8）\\r\\n                iShowChannelNo = br.ReadInt32();\\r\\n                // 所有备用量\\r\\n                StaticParas.comments = new string[8] { \"\", \"\", \"\", \"\", \"\", \"\", \"\", \"\" };\\r\\n                string strcomment = br.ReadString();\\r\\n                string[] arrcomment = strcomment.Split(\\',\\');\\r\\n                for (int i = 0; i < arrcomment.Length; i++)\\r\\n                {\\r\\n                    StaticParas.comments[i] = arrcomment[i];\\r\\n                }\\r\\n\\r\\n                if (string.IsNullOrEmpty(StaticParas.comments[2]))\\r\\n                {\\r\\n                    config.m_RulerUnit = RulerUnit.us;\\r\\n                }\\r\\n                else\\r\\n                {\\r\\n                    config.m_RulerUnit = (RulerUnit)Convert.ToInt32(StaticParas.comments[2]);\\r\\n                }\\r\\n                if (string.IsNullOrEmpty(StaticParas.comments[3]))\\r\\n                {\\r\\n                    config.m_WaveStyle = WaveStyle.longi;\\r\\n                }\\r\\n                else\\r\\n                {\\r\\n                    config.m_WaveStyle = (WaveStyle)Convert.ToInt32(StaticParas.comments[3]);\\r\\n                }\\r\\n                if (string.IsNullOrEmpty(StaticParas.comments[4]))\\r\\n                {\\r\\n                    config.m_MaterialVel = 1.48;\\r\\n                }\\r\\n                else\\r\\n                {\\r\\n                    config.m_MaterialVel = Convert.ToDouble(StaticParas.comments[4]);\\r\\n                }\\r\\n                if (string.IsNullOrEmpty(StaticParas.comments[5]))\\r\\n                {\\r\\n                    config.m_DepthTimeLength = 0;\\r\\n                }\\r\\n                else\\r\\n                {\\r\\n                    config.m_DepthTimeLength = Convert.ToDouble(StaticParas.comments[5]);\\r\\n                }\\r\\n                //if (string.IsNullOrEmpty(StaticParas.comments[6]))\\r\\n                //{\\r\\n                //    StaticParas.glSignalSrc = 1;\\r\\n                //}\\r\\n                //else\\r\\n                //{\\r\\n                //    StaticParas.glSignalSrc = Convert.ToInt32(StaticParas.comments[6]);\\r\\n                //}\\r\\n                if (string.IsNullOrEmpty(StaticParas.comments[7]))\\r\\n                {\\r\\n                    config.m_WaveDataStyle = WaveDataStyle.RF;\\r\\n                }\\r\\n                else\\r\\n                {\\r\\n                    config.m_WaveDataStyle = (WaveDataStyle)Convert.ToInt32(StaticParas.comments[7]);\\r\\n                }\\r\\n                // 读取备用量\\r\\n                //for (int i = 0; i < 6; i++)\\r\\n                //{\\r\\n                //    StaticParas.comments[i] = br.ReadString();\\r\\n                //}\\r\\n                //config.m_RulerUnit = (RulerUnit)Convert.ToInt32(StaticParas.comments[1]);\\r\\n                //config.m_WaveStyle = (WaveStyle)Convert.ToInt32(StaticParas.comments[2]);\\r\\n                //config.transWave = Convert.ToDouble(StaticParas.comments[3]);\\r\\n                //config.longiWave = Convert.ToDouble(StaticParas.comments[4]);\\r\\n\\r\\n                // 读入全波数据\\r\\n                oneChannelData = new List<byte[]>();\\r\\n                // 读入数据\\r\\n                if (config.m_FullWaveFlag)\\r\\n                {\\r\\n                    if (!isfullshow)\\r\\n                    {\\r\\n                        //1 读非全波数据\\r\\n                        notfulldata = new List<byte[,]>();\\r\\n                        for (int i = 0; i < config.m_ScanNum; i++)\\r\\n                        {\\r\\n                            byte[,] tmpIndexData = new byte[config.m_IndexNum, iGateDataNum * 2];\\r\\n                            for (int j = 0; j < config.m_IndexNum; j++)\\r\\n                            {\\r\\n                                for (int k = 0; k < iGateDataNum * 2; k++)\\r\\n                                {\\r\\n                                    tmpIndexData[j, k] = br.ReadByte();\\r\\n                                }\\r\\n                            }\\r\\n                            notfulldata.Add(tmpIndexData);\\r\\n                        }\\r\\n                        //2 读取一个A信号，0,0\\r\\n                        byte[] oneAscanData = null;// new byte[StaticParas.glConfig.m_AscanLength];\\r\\n                        oneAscanData = br.ReadBytes(config.m_AscanLength);\\r\\n                        oneChannelData.Add(oneAscanData);\\r\\n                    }\\r\\n                    else\\r\\n                    {\\r\\n                        for (int i = 0; i < OneChannelAscanNum; i++)\\r\\n                        {\\r\\n                            // 存储一个A扫描的数组\\r\\n                            //byte[] oneAscanData = new byte[StaticParas.glConfig.m_AscanLength];\\r\\n                            byte[] oneAscanData = null;// new byte[StaticParas.glConfig.m_AscanLength];\\r\\n                            oneAscanData = br.ReadBytes(config.m_AscanLength);\\r\\n                            oneChannelData.Add(oneAscanData);\\r\\n                            // 刷新扫查进度条\\r\\n                            //progress.ProgressBar.Invoke(new Action(() =>\\r\\n                            //{\\r\\n                            //    progress.Value = (int)Math.Floor(Math.Round(((double)i / (OneChannelAscanNum - 1) * 100), 2));\\r\\n                            //}));\\r\\n                        }\\r\\n                    }\\r\\n\\r\\n                }\\r\\n                else\\r\\n                {\\r\\n                    // 读入非全波数据=====未修改（新的数据格式）\\r\\n                    notfulldata = new List<byte[,]>();\\r\\n                    for (int i = 0; i < config.m_ScanNum; i++)\\r\\n                    {\\r\\n                        byte[,] tmpIndexData = new byte[config.m_IndexNum, iGateDataNum * 2];\\r\\n                        for (int j = 0; j < config.m_IndexNum; j++)\\r\\n                        {\\r\\n                            for (int k = 0; k < iGateDataNum * 2; k++)\\r\\n                            {\\r\\n                                tmpIndexData[j, k] = br.ReadByte();\\r\\n                            }\\r\\n                        }\\r\\n                        notfulldata.Add(tmpIndexData);\\r\\n                    }\\r\\n                }\\r\\n\\r\\n\\r\\n                br.Close();\\r\\n                stream.Close();\\r\\n                isReadOk = true;\\r\\n                if (isReadOk)\\r\\n                {\\r\\n                    status.Invoke(new Action(() =>\\r\\n                    {\\r\\n                        toollabel.Text = \"已完成\";\\r\\n                    }));\\r\\n                }\\r\\n                return CheckFileFormat(config, iShowChannelNo);\\r\\n            }\\r\\n            catch (Exception ex)\\r\\n            {\\r\\n                Console.WriteLine(ex.ToString());\\r\\n                config.colorBarDownValueArray[0] = 377;\\r\\n                config.colorBarUpValueArray[0] = 0;\\r\\n                Console.WriteLine(\"文件读取失败，请重试\");\\r\\n                //LoadingHelper.CloseForm();//关闭\\r\\n                return false;\\r\\n            }\\r\\n\\r\\n        }',\n",
       "     'method_prefix': 'public static',\n",
       "     'method_param': '(String sFile, bool isfullshow, StatusStrip status, ToolStripStatusLabel toollabel, ref int iShowChannelNo, ref int offsetToZero, ref Config config, ref List<byte[]> oneChannelData, ref List<byte[,]> notfulldata, ref bool isReadOk)'},\n",
       "    {'method_name': 'GetAbsPeakValueInGate',\n",
       "     'method_comment': '',\n",
       "     'method_code': 'publicstaticdoubleGetAbsPeakValueInGate(byte[] currAScanData, int curFSFFirstPosition, LockGate FSFGate, int gateStartNum, int gateLengthNum, double maxVoltage, double thresholdData, int maxAMP){\\r\\n            double temp, tempMax, tempMin;\\r\\n            temp = 0;\\r\\n            tempMax = 0;\\r\\n            tempMin = 0;\\r\\n            double thresholdFSF = FSFGate.m_Threshold;\\r\\n            int gateStartNumFSF = FSFGate.m_GateStartNum;\\r\\n            int gateLengthNumFSF = FSFGate.m_GateLengthNum;\\r\\n\\r\\n            // (X,Y)转换成一维\\r\\n\\r\\n\\r\\n            //确保数据闸门的实际起始位置在窗口中\\r\\n            if ((curFSFFirstPosition + gateStartNum) < 0)\\r\\n            {\\r\\n                gateStartNum = -curFSFFirstPosition;\\r\\n            }\\r\\n            int lengthNum = 0;\\r\\n            if ((curFSFFirstPosition + gateStartNum + gateLengthNum) > currAScanData.Length)\\r\\n            {\\r\\n                lengthNum = currAScanData.Length;\\r\\n            }\\r\\n            else\\r\\n            {\\r\\n                lengthNum = (curFSFFirstPosition + gateStartNum + gateLengthNum);\\r\\n            }\\r\\n\\r\\n            for (int k = curFSFFirstPosition + gateStartNum; k < lengthNum; k++) //查找门限中的负向幅值和正向幅值及其到达时间\\r\\n            {\\r\\n                int currndex = k;\\r\\n                if (currAScanData[currndex] > 8191) //此时数据值为负\\r\\n                {\\r\\n                    //temp = ((double)allData[indexOfAscan, indexOfBScan, k] - 256) * maxVoltage / 128;\\r\\n                    temp = ((double)currAScanData[currndex] - maxAMP) * maxVoltage / (maxAMP / 2);\\r\\n                    if (temp < tempMin && temp < -thresholdData)\\r\\n                    {\\r\\n                        tempMin = temp;\\r\\n                    }\\r\\n                }\\r\\n                else\\r\\n                {\\r\\n                    temp = (double)currAScanData[currndex] * maxVoltage / (maxAMP / 2);\\r\\n                    if (temp > tempMax && temp > thresholdData)\\r\\n                    {\\r\\n                        tempMax = temp;\\r\\n                    }\\r\\n                }\\r\\n            }\\r\\n            double absMin = Math.Abs(tempMin);\\r\\n            if (absMin > tempMax)\\r\\n            {\\r\\n                return absMin;\\r\\n            }\\r\\n            else\\r\\n            {\\r\\n                return tempMax;\\r\\n            }\\r\\n        }',\n",
       "     'method_prefix': 'public static',\n",
       "     'method_param': '(byte[] currAScanData, int curFSFFirstPosition, LockGate FSFGate, int gateStartNum, int gateLengthNum, double maxVoltage, double thresholdData, int maxAMP)'},\n",
       "    {'method_name': 'FindValueInGate',\n",
       "     'method_comment': '',\n",
       "     'method_code': 'publicstaticintFindValueInGate(double value, int curFSFFirstPosition, LockGate FSFGate, byte[] allData, int gateStartNum, int gateLengthNum, double maxVoltage, int maxAMP, out bool bHasFound){\\r\\n            int iTOF;\\r\\n            bHasFound = false;\\r\\n            double temp = 0;\\r\\n\\r\\n            if ((curFSFFirstPosition + gateStartNum) < 0) //确保数据闸门的实际起始位置在窗口中\\r\\n            {\\r\\n                gateStartNum = -curFSFFirstPosition;\\r\\n            }\\r\\n            int lengthNum = (curFSFFirstPosition + gateStartNum + gateLengthNum) > allData.GetLength(0) ? allData.GetLength(0) : (curFSFFirstPosition + gateStartNum + gateLengthNum);\\r\\n            for (iTOF = curFSFFirstPosition + gateStartNum; iTOF < lengthNum; iTOF++) //查找门限中的负向幅值和正向幅值及其到达时间\\r\\n            {\\r\\n                int currndex = iTOF;\\r\\n                if (allData[currndex] > 8191) //此时数据值为负\\r\\n                {\\r\\n                    temp = (8191 - (double)allData[currndex]) * maxVoltage / (maxAMP / 2);\\r\\n                }\\r\\n                else\\r\\n                {\\r\\n                    temp = (double)allData[currndex] * maxVoltage / (maxAMP / 2);\\r\\n                }\\r\\n                if (value < 0)\\r\\n                {\\r\\n                    if (temp <= value)\\r\\n                    {\\r\\n                        bHasFound = true;\\r\\n                        break;\\r\\n                    }\\r\\n                }\\r\\n                else\\r\\n                {\\r\\n                    if (temp >= value)\\r\\n                    {\\r\\n                        bHasFound = true;\\r\\n                        break;\\r\\n                    }\\r\\n                }\\r\\n            }\\r\\n            if (bHasFound == false)\\r\\n            {\\r\\n                iTOF = lengthNum - 1; //如果没找到符合条件的值，则返回最大时间点的下标            \\r\\n            }\\r\\n            return iTOF;\\r\\n        }',\n",
       "     'method_prefix': 'public static',\n",
       "     'method_param': '(double value, int curFSFFirstPosition, LockGate FSFGate, byte[] allData, int gateStartNum, int gateLengthNum, double maxVoltage, int maxAMP, out bool bHasFound)'},\n",
       "    {'method_name': 'CalculateFFT',\n",
       "     'method_comment': '',\n",
       "     'method_code': 'publicstaticdouble[]CalculateFFT(double[] AscanData){\\r\\n            //s1:求A信号中的平均值\\r\\n            double Avg = 0;\\r\\n            int AscanPoints = AscanData.Length;\\r\\n\\r\\n            for (int k = 0; k < AscanPoints; k++)\\r\\n            {\\r\\n                Avg += AscanData[k];\\r\\n            }\\r\\n            Avg = Avg / AscanPoints;\\r\\n            //s2:去直流分量\\r\\n            double[] data_ascan = new double[AscanPoints];\\r\\n\\r\\n            for (int k = 0; k < AscanPoints; k++)\\r\\n            {\\r\\n                data_ascan[k] = AscanData[k] - Avg;\\r\\n                if (data_ascan[k] > StaticParas.glRDDataCard.MAX_AMP_V / 2 - 1)\\r\\n                {\\r\\n                    data_ascan[k] = StaticParas.glRDDataCard.MAX_AMP_V / 2 - 1;\\r\\n                }\\r\\n                if (data_ascan[k] < -StaticParas.glRDDataCard.MAX_AMP_V / 2)\\r\\n                {\\r\\n                    data_ascan[k] = -StaticParas.glRDDataCard.MAX_AMP_V / 2;\\r\\n                }\\r\\n\\r\\n                data_ascan[k] /= StaticParas.glRDDataCard.MAX_AMP_V / 2;\\r\\n            }\\r\\n\\r\\n            double[] image = new double[data_ascan.Length];\\r\\n            double[] spectrum = new double[data_ascan.Length];\\r\\n\\r\\n            MathNet.Numerics.IntegralTransforms.Fourier.Forward(data_ascan, image);\\r\\n            int index = 0;\\r\\n            foreach (double re in data_ascan)\\r\\n            {\\r\\n                double im = image[index];\\r\\n                spectrum[index] = Math.Sqrt(re * re + im * im);\\r\\n                index++;\\r\\n            }\\r\\n\\r\\n\\r\\n\\r\\n            //  FftAlgorithm.Calculate(data_ascan); //进行FFT转换\\r\\n\\r\\n\\r\\n            //MaxSpectrum = spectrum.Max(); //最大频谱值\\r\\n            //MinSpectrum = spectrum.Min(); //最小频谱值\\r\\n\\r\\n            return spectrum;\\r\\n        }',\n",
       "     'method_prefix': 'public static',\n",
       "     'method_param': '(double[] AscanData)'},\n",
       "    {'method_name': 'CalclatMeanOfAScan',\n",
       "     'method_comment': '',\n",
       "     'method_code': 'publicstaticdoubleCalclatMeanOfAScan(int iStart, int lengthNum, byte[] AScanData){\\r\\n            long v = 0;\\r\\n            int actualLen = Math.Min(iStart + lengthNum, AScanData.Length);\\r\\n            for (int i = iStart; i < actualLen; i++)\\r\\n            {\\r\\n                v += AScanData[i];\\r\\n            }\\r\\n            return (v * 1.0 / actualLen);\\r\\n        }',\n",
       "     'method_prefix': 'public static',\n",
       "     'method_param': '(int iStart, int lengthNum, byte[] AScanData)'},\n",
       "    {'method_name': 'DrawMeanValueImage',\n",
       "     'method_comment': '',\n",
       "     'method_code': 'publicstaticvoidDrawMeanValueImage(\\r\\n             int m_IndexNum\\r\\n           , int m_ScanNum\\r\\n           , double[] m_PeakData\\r\\n           , LockGate FSFGate\\r\\n           , LockGate dataGate\\r\\n           , List<byte[]> ascanData\\r\\n           , AmplitudeMode m_GateMode\\r\\n           , Bitmap m_bmpCscan\\r\\n           , DrawImageStyle m_DrawImageStyle\\r\\n           , ColorBarControlSmall colorBar\\r\\n           , int maxAMP\\r\\n           , WaveDataStyle wd\\r\\n           , int offset\\r\\n           ){\\r\\n\\r\\n               \\r\\n            //, int totalChannum\\r\\n            //, int averageValue\\r\\n            //, WaveDataStyle wd\\r\\n            //)\\r\\n\\r\\n            int m_GateLengthNum = dataGate.m_GateLengthNum;\\r\\n            int m_GateStartNum = dataGate.m_GateStartNum;\\r\\n            double m_ThresholdFSF = FSFGate.m_Threshold;\\r\\n            int m_GateStartNumFSF = FSFGate.m_GateStartNum;\\r\\n            int m_GateLengthNumFSF = FSFGate.m_GateLengthNum;\\r\\n            double m_ThresholdData = dataGate.m_Threshold;\\r\\n            //for (int j = 0; j < m_IndexNum; j++)\\r\\n            //for (int k = 0; k < m_IndexNum* m_ScanNum; k++)\\r\\n            //  int k = 0;\\r\\n\\r\\n            // Stopwatch sw = new Stopwatch();\\r\\n            //  sw.Start();\\r\\n            // System.Threading.Tasks.Parallel.ForEach(ascanData, (adata, state1) =>\\r\\n            Parallel.For(0, ascanData.Count, (k, loopState) =>\\r\\n\\r\\n            //foreach (byte[] adata in ascanData)\\r\\n            {\\r\\n                byte[] adata = ascanData[k];\\r\\n                //for (int i = 0; i < m_ScanNum; i++)\\r\\n                {\\r\\n                    int i = k % m_ScanNum;\\r\\n                    int j = k / m_ScanNum;\\r\\n                    int indexofAScan = k;//j * m_ScanNum + i;\\r\\n\\r\\n                    if (indexofAScan > ascanData.Count - 1 || adata.Length <= 0)\\r\\n                    {\\r\\n                        m_PeakData[indexofAScan] = 0;\\r\\n                        //loopState.Break();\\r\\n                        //loopState.Stop();\\r\\n                        //break;\\r\\n                    }\\r\\n                    else\\r\\n                    {\\r\\n                        // 取得同步闸门起点\\r\\n                        int curFSFFirstPosition = 0;\\r\\n                        if (FSFGate.m_GateIsActived)\\r\\n                        {\\r\\n                            curFSFFirstPosition = CScanPicFunction.FindFirstPostionInFSFGate(\\r\\n                                  FSFGate.ThreshAMP //阈值对应的正向幅值\\r\\n                                , FSFGate.m_GateLengthNum//同步闸门的长度\\r\\n                                , FSFGate.m_GateStartNum//同步闸门的开始位置,信号的下标\\r\\n                                , FSFGate.isPositiveThresh//正向阈值\\r\\n                                , adata\\r\\n                                , wd\\r\\n                                , offset\\r\\n                                , maxAMP\\r\\n                                );\\r\\n                        }\\r\\n                        //确保数据闸门的实际起始位置在窗口中\\r\\n                        if ((curFSFFirstPosition + m_GateStartNum) < 0)\\r\\n                        {\\r\\n                            m_GateStartNum = -curFSFFirstPosition;\\r\\n                        }\\r\\n                        int lengthNum = 0;\\r\\n                        if ((curFSFFirstPosition + FSFGate.m_iUseBottomWave * m_GateStartNum + m_GateLengthNum) > ascanData[indexofAScan].GetLength(0))\\r\\n                        {\\r\\n                            lengthNum = ascanData[indexofAScan].GetLength(0);\\r\\n                        }\\r\\n                        else\\r\\n                        {\\r\\n                            lengthNum = curFSFFirstPosition + FSFGate.m_iUseBottomWave * m_GateStartNum + m_GateLengthNum;\\r\\n                        }\\r\\n                        //底波和表面波计算数据闸门的起点\\r\\n                        int iStart = m_GateStartNum;//只有数据闸门\\r\\n                        if (FSFGate.m_GateIsActived)//有同步闸门\\r\\n                        {\\r\\n                            iStart = Math.Max(curFSFFirstPosition + FSFGate.m_iUseBottomWave * m_GateStartNum, 0);\\r\\n                        }\\r\\n\\r\\n\\r\\n\\r\\n\\r\\n\\r\\n                        // 取得峰值数据\\r\\n                        //int maxIndex = 0;\\r\\n                        double peakdata = CalclatMeanOfAScan(iStart, lengthNum, adata);\\r\\n                        m_PeakData[j * m_ScanNum + i] = peakdata;//DataToColorForInt(peakdata, m_DrawImageStyle, colorBar);\\r\\n                                                                 // 以像素点来绘制C扫图像\\r\\n                                                                 //m_bmpCscan.SetPixel(i, j, );\\r\\n                    }\\r\\n                }\\r\\n                // k++;\\r\\n            });\\r\\n\\r\\n            FilterCScanPic(m_bmpCscan, m_PeakData, m_DrawImageStyle, colorBar, wd);\\r\\n            //sw.Stop();\\r\\n        }',\n",
       "     'method_prefix': 'public static',\n",
       "     'method_param': '(\\r\\n             int m_IndexNum\\r\\n           , int m_ScanNum\\r\\n           , double[] m_PeakData\\r\\n           , LockGate FSFGate\\r\\n           , LockGate dataGate\\r\\n           , List<byte[]> ascanData\\r\\n           , AmplitudeMode m_GateMode\\r\\n           , Bitmap m_bmpCscan\\r\\n           , DrawImageStyle m_DrawImageStyle\\r\\n           , ColorBarControlSmall colorBar\\r\\n           , int maxAMP\\r\\n           , WaveDataStyle wd\\r\\n           , int offset\\r\\n           )'},\n",
       "    {'method_name': 'DrawFreqDomainImage',\n",
       "     'method_comment': '',\n",
       "     'method_code': 'publicstaticvoidDrawFreqDomainImage(\\r\\n              int m_IndexNum\\r\\n            , int m_ScanNum\\r\\n            , double[] m_PeakData\\r\\n            , LockGate FSFGate\\r\\n            , LockGate dataGate\\r\\n            , List<byte[]> ascanData\\r\\n            , AmplitudeMode m_GateMode\\r\\n            , Bitmap m_bmpCscan\\r\\n            , DrawImageStyle m_DrawImageStyle\\r\\n            , ColorBarControlSmall colorBar\\r\\n            , double computeFreq\\r\\n            , double displayFreq\\r\\n            , int maxAMP\\r\\n            , WaveDataStyle wd\\r\\n            ){\\r\\n\\r\\n\\r\\n            int startIndex = 0;\\r\\n            int endIndex = 0;\\r\\n\\r\\n            int AscanPoints = 0;\\r\\n            int AScanDataLen = ascanData[0].Length;\\r\\n\\r\\n            AscanPoints = dataGate.m_GateLengthNum; //需要计算的部分\\r\\n            startIndex = FSFGate.m_CurFSFFirstPosition + FSFGate.m_iUseBottomWave * dataGate.m_GateStartNum;\\r\\n            startIndex = startIndex < 0 ? 0 : startIndex;//确保数据闸门的实际起始位置在窗口中\\r\\n\\r\\n            endIndex = (startIndex//数据闸门起始位置\\r\\n                        + dataGate.m_GateLengthNum);//数据闸门的长度\\r\\n\\r\\n            endIndex = (endIndex) > AScanDataLen ? AScanDataLen : (endIndex);//结束下标\\r\\n\\r\\n            int dataLength = Functions.NextPower2(AscanPoints);//计算FFT的数据长度\\r\\n            dataLength = (int)Math.Pow(2, dataLength);//2^N\\r\\n            //dataLength = AscanPoints;//\\r\\n            int drawindex = (int)(computeFreq / displayFreq * dataLength);//获取的频幅值所在的位置\\r\\n            drawindex = drawindex > dataLength - 1 ? dataLength - 1 : drawindex;\\r\\n\\r\\n            double[] drawFreqAmp = new double[m_IndexNum * m_ScanNum];\\r\\n\\r\\n            double MaxAmp = double.MinValue;\\r\\n            double MinAmp = double.MaxValue;\\r\\n\\r\\n            Parallel.For(0, ascanData.Count, (k, loopState) =>\\r\\n\\r\\n            //for (int j = 0; j < m_IndexNum; j++)\\r\\n            //{\\r\\n            //    for (int i = 0; i < m_ScanNum; i++)\\r\\n                {\\r\\n                    int indexofAScan = k;//j * m_ScanNum + i;\\r\\n                    byte[] adata = ascanData[k];\\r\\n\\r\\n                    //int indexofAScan = j * m_ScanNum + i;\\r\\n                    byte[] AScanData = ascanData[indexofAScan];\\r\\n                    if (AScanData.Length <= 0 || AScanData.Length < AScanDataLen)\\r\\n                    {\\r\\n                        drawFreqAmp[indexofAScan] = 0;\\r\\n                        //return;\\r\\n                        //loopState.Break();\\r\\n                        //loopState.Stop();\\r\\n                        //break;\\r\\n                    }\\r\\n                    else\\r\\n                    {\\r\\n\\r\\n\\r\\n                        double[] data = new double[dataLength]; //存放门限中的数据\\r\\n                        for (int m = startIndex; m < endIndex; m++)\\r\\n                        {\\r\\n\\r\\n                            data[m - startIndex] = (double)AScanData[m];\\r\\n                        }\\r\\n                        double[] spectrum = CalculateFFT(data);\\r\\n                        double tmpMax = spectrum.Max();\\r\\n                        double tmpMin = spectrum.Min();\\r\\n                        MaxAmp = MaxAmp < tmpMax ? tmpMax : MaxAmp;\\r\\n                        MinAmp = MinAmp > tmpMin ? tmpMin : MinAmp;\\r\\n\\r\\n                        drawFreqAmp[indexofAScan] = spectrum[drawindex];\\r\\n                    }\\r\\n                    //m_PeakDataInt[indexOfAScan] = (int)(drawFreqAmp[indexOfAScan] / (tmpMax - tmpMin) * (maxAMP - 1));\\r\\n                });\\r\\n            //将数据转换0-255之间的数\\r\\n            for (int k = 0; k < drawFreqAmp.Length; k++)\\r\\n            {\\r\\n                m_PeakData[k] = ((drawFreqAmp[k] - MinAmp) / (MaxAmp - MinAmp) * (maxAMP - 1));\\r\\n            }\\r\\n            //m_PeakData = Array.ConvertAll<double, double>(drawFreqAmp, value => (double)((value- MinAmp) * (maxAMP - 1) / (MaxAmp - MinAmp)));\\r\\n\\r\\n            FilterCScanPic(m_bmpCscan, m_PeakData, m_DrawImageStyle, colorBar, wd);\\r\\n\\r\\n        }',\n",
       "     'method_prefix': 'public static',\n",
       "     'method_param': '(\\r\\n              int m_IndexNum\\r\\n            , int m_ScanNum\\r\\n            , double[] m_PeakData\\r\\n            , LockGate FSFGate\\r\\n            , LockGate dataGate\\r\\n            , List<byte[]> ascanData\\r\\n            , AmplitudeMode m_GateMode\\r\\n            , Bitmap m_bmpCscan\\r\\n            , DrawImageStyle m_DrawImageStyle\\r\\n            , ColorBarControlSmall colorBar\\r\\n            , double computeFreq\\r\\n            , double displayFreq\\r\\n            , int maxAMP\\r\\n            , WaveDataStyle wd\\r\\n            )'},\n",
       "    {'method_name': 'DrawDiffFreqDomainImage',\n",
       "     'method_comment': '',\n",
       "     'method_code': 'publicstaticvoidDrawDiffFreqDomainImage(\\r\\n              int m_IndexNum\\r\\n            , int m_ScanNum\\r\\n            , double[] m_PeakData\\r\\n            , LockGate FSFGate\\r\\n            , LockGate dataGate\\r\\n            , List<byte[]> ascanData\\r\\n            , AmplitudeMode m_GateMode\\r\\n            , Bitmap m_bmpCscan\\r\\n            , DrawImageStyle m_DrawImageStyle\\r\\n            , ColorBarControlSmall colorBar\\r\\n            , double Freq_Low\\r\\n            , double Freq_High\\r\\n            , int splitNum\\r\\n            , double displayFreq\\r\\n            , int maxAMP\\r\\n            , WaveDataStyle wd\\r\\n            , out double[] drawFreqAmp\\r\\n\\r\\n            ){\\r\\n\\r\\n\\r\\n            int startIndex = 0;\\r\\n            int endIndex = 0;\\r\\n\\r\\n            int AscanPoints = 0;\\r\\n            int AScanDataLen = ascanData[0].Length;\\r\\n\\r\\n            AscanPoints = dataGate.m_GateLengthNum; //需要计算的部分\\r\\n            startIndex = FSFGate.m_CurFSFFirstPosition + FSFGate.m_iUseBottomWave * dataGate.m_GateStartNum;\\r\\n            startIndex = startIndex < 0 ? 0 : startIndex;//确保数据闸门的实际起始位置在窗口中\\r\\n\\r\\n            endIndex = (startIndex//数据闸门起始位置\\r\\n                        + dataGate.m_GateLengthNum);//数据闸门的长度\\r\\n\\r\\n            endIndex = (endIndex) > AScanDataLen ? AScanDataLen : (endIndex);//结束下标\\r\\n\\r\\n            int dataLength = Functions.NextPower2(AscanPoints);//计算FFT的数据长度\\r\\n            dataLength = (int)Math.Pow(2, dataLength);//2^N\\r\\n            //dataLength = AscanPoints;//\\r\\n\\r\\n            List<int> lowerDrawindexs = new List<int>();\\r\\n            List<int> upperDrawindexs = new List<int>();\\r\\n\\r\\n\\r\\n            int high0Drawindex = (int)(Freq_High / displayFreq * dataLength);//获取的频幅值所在的位置,分母\\r\\n            high0Drawindex = high0Drawindex > dataLength - 1 ? dataLength - 1 : high0Drawindex;\\r\\n\\r\\n            for (int i = 1; i <= splitNum; i++)\\r\\n            {\\r\\n                int lowDrawindex = (int)((Freq_High + i * Freq_Low) / displayFreq * dataLength);//获取的频幅值所在的位置\\r\\n                int upperDrawindex = (int)((Freq_High - i * Freq_Low) / displayFreq * dataLength);//获取的频幅值所在的位置\\r\\n                lowDrawindex = lowDrawindex > dataLength - 1 ? dataLength - 1 : lowDrawindex;\\r\\n                upperDrawindex = upperDrawindex > dataLength - 1 ? dataLength - 1 : upperDrawindex;\\r\\n                upperDrawindex = upperDrawindex < 0 ? 0 : upperDrawindex;\\r\\n\\r\\n\\r\\n                lowerDrawindexs.Add(lowDrawindex);\\r\\n                upperDrawindexs.Add(upperDrawindex);\\r\\n            }\\r\\n\\r\\n\\r\\n\\r\\n\\r\\n\\r\\n            double[]  tmpdrawFreqAmp = new double[m_IndexNum * m_ScanNum];\\r\\n            //double[] highDrawFreqAmp = new double[m_IndexNum * m_ScanNum];\\r\\n\\r\\n\\r\\n\\r\\n\\r\\n\\r\\n            double MaxAmp = double.MinValue;\\r\\n            double MinAmp = double.MaxValue;\\r\\n\\r\\n            Parallel.For(0, ascanData.Count, (k, loopState) =>\\r\\n\\r\\n            //for (int j = 0; j < m_IndexNum; j++)\\r\\n            //{\\r\\n            //    for (int i = 0; i < m_ScanNum; i++)\\r\\n                {\\r\\n                    int indexOfAScan = k;//j * m_ScanNum + i;\\r\\n                    byte[] AScanData = ascanData[indexOfAScan];\\r\\n                    if (AScanData.Length <= 0 || AScanData.Length < AScanDataLen)\\r\\n                    {\\r\\n                        tmpdrawFreqAmp[indexOfAScan] = 0;\\r\\n                        //return;\\r\\n                        //loopState.Break();\\r\\n                        //loopState.Stop();\\r\\n                        //break;\\r\\n                    }\\r\\n                    else\\r\\n                    {\\r\\n\\r\\n\\r\\n                        double[] data = new double[dataLength]; //存放门限中的数据\\r\\n                        for (int m = startIndex; m < endIndex; m++)\\r\\n                        {\\r\\n\\r\\n                            data[m - startIndex] = (double)AScanData[m];\\r\\n                        }\\r\\n                        double[] spectrum = CalculateFFT(data);\\r\\n                        //double tmpMax = spectrum.Max();\\r\\n                        //double tmpMin = spectrum.Min();\\r\\n                        //MaxAmp = MaxAmp < tmpMax ? tmpMax : MaxAmp;\\r\\n                        //MinAmp = MinAmp > tmpMin ? tmpMin : MinAmp;\\r\\n                        double SumAplusAnegative = 0;//\\r\\n                        for (int isplit = 0; isplit < splitNum; isplit++)\\r\\n                        {\\r\\n                            double currAmpLower = spectrum[lowerDrawindexs[isplit]];\\r\\n                            double currAmpUpper = spectrum[upperDrawindexs[isplit]];\\r\\n                            SumAplusAnegative += (currAmpLower + currAmpUpper);\\r\\n                        }\\r\\n                        double ampA0 = spectrum[high0Drawindex];\\r\\n                        if (Math.Abs(ampA0) - 1e-10 > 0)//1e-10 认为是0\\r\\n                        {\\r\\n                            double Mi = 20 * Math.Log10(SumAplusAnegative / (2 * ampA0));\\r\\n                            tmpdrawFreqAmp[indexOfAScan] = Mi;\\r\\n                            MaxAmp = MaxAmp < tmpdrawFreqAmp[indexOfAScan] ? tmpdrawFreqAmp[indexOfAScan] : MaxAmp;\\r\\n                            MinAmp = MinAmp > tmpdrawFreqAmp[indexOfAScan] ? tmpdrawFreqAmp[indexOfAScan] : MinAmp;\\r\\n                        }\\r\\n                    }\\r\\n\\r\\n                    //m_PeakDataInt[indexOfAScan] = (int)(drawFreqAmp[indexOfAScan] / (tmpMax - tmpMin) * (maxAMP - 1));\\r\\n                });\\r\\n\\r\\n            drawFreqAmp = tmpdrawFreqAmp;\\r\\n            //将数据转换0-255之间的数\\r\\n            for (int k = 0; k < drawFreqAmp.Length; k++)\\r\\n            {\\r\\n                m_PeakData[k] = ((drawFreqAmp[k] - MinAmp) / (MaxAmp - MinAmp) * (maxAMP - 1));\\r\\n\\r\\n            }\\r\\n            //m_PeakData = Array.ConvertAll<double, double>(drawFreqAmp, value => (double)((value- MinAmp) * (maxAMP - 1) / (MaxAmp - MinAmp)));\\r\\n\\r\\n            FilterCScanPic(m_bmpCscan, m_PeakData, m_DrawImageStyle, colorBar, wd);\\r\\n\\r\\n        }',\n",
       "     'method_prefix': 'public static',\n",
       "     'method_param': '(\\r\\n              int m_IndexNum\\r\\n            , int m_ScanNum\\r\\n            , double[] m_PeakData\\r\\n            , LockGate FSFGate\\r\\n            , LockGate dataGate\\r\\n            , List<byte[]> ascanData\\r\\n            , AmplitudeMode m_GateMode\\r\\n            , Bitmap m_bmpCscan\\r\\n            , DrawImageStyle m_DrawImageStyle\\r\\n            , ColorBarControlSmall colorBar\\r\\n            , double Freq_Low\\r\\n            , double Freq_High\\r\\n            , int splitNum\\r\\n            , double displayFreq\\r\\n            , int maxAMP\\r\\n            , WaveDataStyle wd\\r\\n            , out double[] drawFreqAmp\\r\\n\\r\\n            )'},\n",
       "    {'method_name': 'FilterCScanPic',\n",
       "     'method_comment': '',\n",
       "     'method_code': 'publicstaticvoidFilterCScanPic(\\r\\n            Bitmap m_bmpCscan\\r\\n            , double[] m_PeakData\\r\\n            , DrawImageStyle m_DrawImageStyle\\r\\n            , ColorBarControlSmall colorBar\\r\\n            , WaveDataStyle wd\\r\\n            ){\\r\\n            int[] drawPeak = new int[m_PeakData.Length];\\r\\n            for (int k = 0; k < m_PeakData.Length; k++)\\r\\n            {\\r\\n                drawPeak[k] = DataToColorForInt(m_PeakData[k], m_DrawImageStyle, colorBar, wd); //tof / (double)m_GateLengthNum;//得到TOF与门限长度的比例\\r\\n            }\\r\\n\\r\\n            //m_PeakDataInt = Array.ConvertAll<double, int>(drawFreqAmp, value => (int)(value* (maxAMP-1) / (MaxAmp- MinAmp)));\\r\\n            CopyDataToBitmap2(m_bmpCscan, drawPeak);\\r\\n        }',\n",
       "     'method_prefix': 'public static',\n",
       "     'method_param': '(\\r\\n            Bitmap m_bmpCscan\\r\\n            , double[] m_PeakData\\r\\n            , DrawImageStyle m_DrawImageStyle\\r\\n            , ColorBarControlSmall colorBar\\r\\n            , WaveDataStyle wd\\r\\n            )'},\n",
       "    {'method_name': 'FillALineForBitmap',\n",
       "     'method_comment': '',\n",
       "     'method_code': \"publicstaticvoidFillALineForBitmap(Bitmap b, int[] data, int heightIndex, bool isReDraw = false, bool ischangegate = false){\\r\\n            if (heightIndex <= 0)\\r\\n            {\\r\\n                return;\\r\\n            }\\r\\n            Rectangle rect;\\r\\n            if (isReDraw || ischangegate) \\r\\n            {\\r\\n\\r\\n                rect = new Rectangle(0, 0, b.Width, heightIndex + 1);\\r\\n            }\\r\\n            else\\r\\n            {\\r\\n                rect = new Rectangle(0, heightIndex, b.Width, 1);\\r\\n            }\\r\\n            // Lock the bitmap's bits.\\r\\n            System.Drawing.Imaging.BitmapData bmpData = b.LockBits(rect, System.Drawing.Imaging.ImageLockMode.WriteOnly, b.PixelFormat);\\r\\n            // Get the address of the first line.\\r\\n            IntPtr ptr = bmpData.Scan0;\\r\\n            if (isReDraw || ischangegate) \\r\\n            {\\r\\n               \\r\\n                //bmpData.\\r\\n                System.Runtime.InteropServices.Marshal.Copy(data, 0, ptr, b.Width * (heightIndex + 1));\\r\\n            }\\r\\n            else\\r\\n            {\\r\\n                System.Runtime.InteropServices.Marshal.Copy(data, 0, ptr, b.Width);\\r\\n            }\\r\\n            b.UnlockBits(bmpData);\\r\\n        }\",\n",
       "     'method_prefix': 'public static',\n",
       "     'method_param': '(Bitmap b, int[] data, int heightIndex, bool isReDraw = false, bool ischangegate = false)'},\n",
       "    {'method_name': 'DrawTOFImage',\n",
       "     'method_comment': '',\n",
       "     'method_code': 'publicstaticvoidDrawTOFImage(\\r\\n            int m_IndexNum\\r\\n            , int m_ScanNum\\r\\n            , double[] m_PeakData\\r\\n\\r\\n            , LockGate FSFGate\\r\\n            , LockGate dataGate\\r\\n            , List<byte[]> ascanData\\r\\n            , double maxVoltage\\r\\n            , AmplitudeMode gateMode\\r\\n            , Bitmap m_bmpCscan\\r\\n            , DrawImageStyle m_DrawImageStyle\\r\\n            , ColorBarControlSmall colorBar\\r\\n            , WaveDataStyle wd\\r\\n            , int offset\\r\\n            ){\\r\\n            //同步闸门\\r\\n            double thresholdFSF = FSFGate.m_Threshold;\\r\\n            int gateStartNumFSF = FSFGate.m_GateStartNum;\\r\\n            int gateLengthNumFSF = FSFGate.m_GateLengthNum;\\r\\n            //数据闸门\\r\\n            int gateLengthNum = dataGate.m_GateLengthNum;\\r\\n            int gateStartNum = dataGate.m_GateStartNum;\\r\\n            double thresholdData = dataGate.m_Threshold;\\r\\n            int curFSFFirstPosition = 0;\\r\\n\\r\\n            byte byteMinThreshold = (byte)NumConversionTo256(-thresholdData, wd);\\r\\n            byte byteMaxThreshold = (byte)NumConversionTo256(thresholdData, wd);\\r\\n\\r\\n\\r\\n            //int k = 0;\\r\\n            //foreach (byte[] currAScan in ascanData)\\r\\n            Parallel.For(0, ascanData.Count, (k, loopState) =>\\r\\n            {\\r\\n                \\r\\n                    byte[] adata = ascanData[k];\\r\\n                {\\r\\n                    int i = k % m_ScanNum;\\r\\n                    int j = k / m_ScanNum;\\r\\n\\r\\n                    int indexofAScan = k;//j * m_ScanNum + i;\\r\\n\\r\\n                    m_PeakData[j * m_ScanNum + i] = 0;\\r\\n                    byte byteTempMax = 0;\\r\\n                    byte byteTempMin = 0;\\r\\n\\r\\n                    int timeMax = gateStartNum;\\r\\n                    int timeMin = gateStartNum;\\r\\n                    int numThresh = gateStartNum;\\r\\n\\r\\n                    double tof = 0; //到达时间\\r\\n                                    // 数据中的A扫位置\\r\\n                                    //int indexofAScan = j * m_ScanNum + i;\\r\\n\\r\\n                    // A扫位置\\r\\n                    indexofAScan = ConvertType.JudgeAscanIndexIsOver(indexofAScan, ascanData);\\r\\n                    if (ascanData == null || adata.Length <= 0 || indexofAScan > ascanData.Count - 1)\\r\\n                    {\\r\\n                        m_PeakData[indexofAScan] = 0;\\r\\n                        //loopState.Break();\\r\\n                        //loopState.Stop();\\r\\n                        //break;\\r\\n                        //return;\\r\\n                    }\\r\\n                    else\\r\\n                    {\\r\\n\\r\\n                        if (FSFGate.m_GateIsActived)//启用同步闸门，则找闸门与波形的交叉点\\r\\n                        {\\r\\n                            // 与同步闸门的交汇点\\r\\n                            curFSFFirstPosition = FindFirstPostionInFSFGate(\\r\\n                                FSFGate.ThreshAMP //阈值对应的正向幅值\\r\\n                                , FSFGate.m_GateLengthNum//同步闸门的长度\\r\\n                                , FSFGate.m_GateStartNum//同步闸门的开始位置,信号的下标\\r\\n                                , FSFGate.isPositiveThresh//正向阈值\\r\\n                                , ascanData[indexofAScan]\\r\\n                                , wd\\r\\n                                , offset\\r\\n                                , StaticParas.glRDDataCard.MAX_AMP_V\\r\\n                                );\\r\\n                        }\\r\\n\\r\\n                        //确保数据闸门的实际起始位置在窗口中\\r\\n                        if ((curFSFFirstPosition + gateStartNum) < 0)\\r\\n                        {\\r\\n                            gateStartNum = -curFSFFirstPosition;\\r\\n                        }\\r\\n                        int lengthNum = 0;\\r\\n                        if ((curFSFFirstPosition + FSFGate.m_iUseBottomWave * gateStartNum + gateLengthNum) > ascanData[indexofAScan].GetLength(0))\\r\\n                        {\\r\\n                            lengthNum = ascanData[indexofAScan].GetLength(0);\\r\\n                        }\\r\\n                        else\\r\\n                        {\\r\\n                            lengthNum = curFSFFirstPosition + FSFGate.m_iUseBottomWave * gateStartNum + gateLengthNum;\\r\\n                        }\\r\\n                        //底波和表面波计算数据闸门的起点\\r\\n                        int iStart = gateStartNum;//只有数据闸门\\r\\n                        if (FSFGate.m_GateIsActived)//有同步闸门\\r\\n                        {\\r\\n                            iStart = Math.Max(curFSFFirstPosition + FSFGate.m_iUseBottomWave * gateStartNum, 0);\\r\\n                        }\\r\\n\\r\\n                        if (gateMode == AmplitudeMode.TOFPositiveMax\\r\\n                            || gateMode == AmplitudeMode.TOFNegativeMax\\r\\n                            )\\r\\n                        {\\r\\n                            FindMaxPeakMinPeak(\\r\\n                           iStart\\r\\n                            , lengthNum\\r\\n                            , ascanData[indexofAScan]\\r\\n                            , wd\\r\\n                            , offset\\r\\n                            , StaticParas.glRDDataCard.MAX_AMP_V\\r\\n                            , out byteTempMax\\r\\n                            , out byteTempMin\\r\\n                            , out timeMax\\r\\n                            , out timeMin\\r\\n\\r\\n                            );\\r\\n                        }\\r\\n                        else\\r\\n                        {\\r\\n                            numThresh = FindFirstPostionInFSFGate(\\r\\n                              dataGate.ThreshAMP //阈值对应的正向幅值\\r\\n                              , dataGate.m_GateLengthNum//同步闸门的长度\\r\\n                              , dataGate.m_GateStartNum + curFSFFirstPosition//同步闸门的开始位置,信号的下标\\r\\n                              , dataGate.isPositiveThresh//正向阈值\\r\\n                              , ascanData[indexofAScan]\\r\\n                              , wd\\r\\n                              , offset\\r\\n                              , StaticParas.glRDDataCard.MAX_AMP_V);\\r\\n                        }\\r\\n\\r\\n\\r\\n\\r\\n                        switch (gateMode)\\r\\n                        {\\r\\n                            case AmplitudeMode.TOFPositiveMax:\\r\\n                                {\\r\\n                                    if (byteTempMax > byteMaxThreshold)\\r\\n                                    {\\r\\n                                        tof = (timeMax - curFSFFirstPosition - gateStartNum) / (double)(gateLengthNum);//正向Tof\\r\\n\\r\\n                                    }\\r\\n                                    break;\\r\\n                                }\\r\\n                            case AmplitudeMode.TOFNegativeMax:\\r\\n                                {\\r\\n                                    if (byteTempMin < byteMinThreshold)\\r\\n                                    {\\r\\n                                        tof = (timeMin - curFSFFirstPosition - gateStartNum) / (double)(gateLengthNum);//负向Tof\\r\\n                                    }\\r\\n\\r\\n                                    break;\\r\\n                                }\\r\\n                            case AmplitudeMode.TOFPositiveThresh:\\r\\n                            case AmplitudeMode.TOFNegativeThresh:\\r\\n                                {\\r\\n                                    if (numThresh > 0)\\r\\n                                    {\\r\\n                                        tof = (numThresh - curFSFFirstPosition - gateStartNum) / (double)(gateLengthNum);//正向阈值Tof\\r\\n                                    }\\r\\n\\r\\n                                    break;\\r\\n                                }\\r\\n                        }\\r\\n\\r\\n                        m_PeakData[indexofAScan] = (double)NumConversionTo256ForColorBar(tof, 256);// DataToColorForInt((double)NumConversionTo256(tof), m_DrawImageStyle, colorBar); //tof / (double)m_GateLengthNum;//得到TOF与门限长度的比例\\r\\n                    }\\r\\n                }\\r\\n                //k++;\\r\\n            });\\r\\n            FilterCScanPic(m_bmpCscan, m_PeakData, m_DrawImageStyle, colorBar, wd);\\r\\n            //for (int j = 0; j < m_IndexNum; j++)//索引轴\\r\\n            //{\\r\\n            //    for (int i = 0; i < m_ScanNum; i++)//扫查点数\\r\\n            //    {\\r\\n            //        m_PeakData[j* m_ScanNum + i] = 0;\\r\\n            //        byte byteTempMax = 0;\\r\\n            //        byte byteTempMin = 0;\\r\\n\\r\\n            //        int timeMax = gateStartNum;\\r\\n            //        int timeMin =  gateStartNum;\\r\\n            //        int numThresh = gateStartNum;\\r\\n\\r\\n            //        double tof = 0; //到达时间\\r\\n            //        // 数据中的A扫位置\\r\\n            //        int indexOfAScan = j * m_ScanNum + i;\\r\\n\\r\\n            //        // A扫位置\\r\\n            //        indexOfAScan = ConvertType.JudgeAscanIndexIsOver(indexOfAScan, ascanData);\\r\\n            //        if (ascanData[indexOfAScan].Length <= 0)\\r\\n            //        {\\r\\n            //            break;\\r\\n            //        }\\r\\n\\r\\n            //        if (FSFGate.m_GateIsActived)//启用同步闸门，则找闸门与波形的交叉点\\r\\n            //        {\\r\\n            //            // 与同步闸门的交汇点\\r\\n            //            curFSFFirstPosition = FindFirstPostionInFSFGate(\\r\\n            //                FSFGate.ThreshAMP //阈值对应的正向幅值\\r\\n            //                , FSFGate.m_GateLengthNum//同步闸门的长度\\r\\n            //                , FSFGate.m_GateStartNum//同步闸门的开始位置,信号的下标\\r\\n            //                , FSFGate.isPositiveThresh//正向阈值\\r\\n            //                , ascanData[indexOfAScan]);\\r\\n            //        }\\r\\n\\r\\n            //        //确保数据闸门的实际起始位置在窗口中\\r\\n            //        if ((curFSFFirstPosition + gateStartNum) < 0)\\r\\n            //        {\\r\\n            //            gateStartNum = -curFSFFirstPosition;\\r\\n            //        }\\r\\n            //        int lengthNum = 0;\\r\\n            //        if ((curFSFFirstPosition + FSFGate.m_iUseBottomWave * gateStartNum + gateLengthNum) > ascanData[indexOfAScan].GetLength(0))\\r\\n            //        {\\r\\n            //            lengthNum = ascanData[indexOfAScan].GetLength(0);\\r\\n            //        }\\r\\n            //        else\\r\\n            //        {\\r\\n            //            lengthNum = curFSFFirstPosition + FSFGate.m_iUseBottomWave * gateStartNum + gateLengthNum;\\r\\n            //        }\\r\\n            //        //底波和表面波计算数据闸门的起点\\r\\n            //        int iStart = gateStartNum;//只有数据闸门\\r\\n            //        if (FSFGate.m_GateIsActived)//有同步闸门\\r\\n            //        {\\r\\n            //            iStart = Math.Max(curFSFFirstPosition + FSFGate.m_iUseBottomWave * gateStartNum, 0);\\r\\n            //        }\\r\\n\\r\\n            //        if (gateMode == AmplitudeMode.TOFPositiveMax\\r\\n            //            || gateMode == AmplitudeMode.TOFNegativeMax\\r\\n            //            )\\r\\n            //        {\\r\\n            //            FindMaxPeakMinPeak(\\r\\n            //           iStart\\r\\n            //            , lengthNum\\r\\n            //            , ascanData[indexOfAScan]\\r\\n            //            , out byteTempMax\\r\\n            //            , out byteTempMin\\r\\n            //            , out timeMax\\r\\n            //            , out timeMin\\r\\n\\r\\n            //            );\\r\\n            //        }\\r\\n            //        else\\r\\n            //        {\\r\\n            //            numThresh = FindFirstPostionInFSFGate(\\r\\n            //              dataGate.ThreshAMP //阈值对应的正向幅值\\r\\n            //              , dataGate.m_GateLengthNum//同步闸门的长度\\r\\n            //              , dataGate.m_GateStartNum+ curFSFFirstPosition//同步闸门的开始位置,信号的下标\\r\\n            //              , dataGate.isPositiveThresh//正向阈值\\r\\n            //              , ascanData[indexOfAScan]);\\r\\n            //        }\\r\\n\\r\\n\\r\\n\\r\\n            //        switch (gateMode)\\r\\n            //        {\\r\\n            //            case AmplitudeMode.TOFPositiveMax:\\r\\n            //                {\\r\\n            //                    if (byteTempMax > byteMaxThreshold)\\r\\n            //                    {\\r\\n            //                        tof = (timeMax - curFSFFirstPosition - gateStartNum) / (double)(gateLengthNum);//正向Tof\\r\\n\\r\\n            //                    }\\r\\n            //                    break;\\r\\n            //                }\\r\\n            //            case AmplitudeMode.TOFNegativeMax:\\r\\n            //                {\\r\\n            //                    if (byteTempMin <  byteMinThreshold)\\r\\n            //                    {\\r\\n            //                        tof = (timeMin - curFSFFirstPosition - gateStartNum) / (double)(gateLengthNum);//负向Tof\\r\\n            //                    }\\r\\n\\r\\n            //                    break;\\r\\n            //                }\\r\\n            //            case AmplitudeMode.TOFPositiveThresh:\\r\\n            //            case AmplitudeMode.TOFNegativeThresh:\\r\\n            //                {\\r\\n            //                    if (numThresh > 0)\\r\\n            //                    {\\r\\n            //                        tof = (numThresh - curFSFFirstPosition - gateStartNum) / (double)(gateLengthNum);//正向阈值Tof\\r\\n            //                    }\\r\\n\\r\\n            //                    break;\\r\\n            //                }\\r\\n            //        }\\r\\n\\r\\n            //        m_PeakData[j * m_ScanNum + i] = (double)NumConversionTo256ForColorBar(tof,256);// DataToColorForInt((double)NumConversionTo256(tof), m_DrawImageStyle, colorBar); //tof / (double)m_GateLengthNum;//得到TOF与门限长度的比例\\r\\n            //        //m_bmpCscan.SetPixel(i, j, Color.FromArgb(m_PeakData[j * m_ScanNum + i]));\\r\\n            //    }\\r\\n            //    //CopyDataToBitmap2(m_bmpCscan, m_PeakData);\\r\\n            //    FilterCScanPic(m_bmpCscan, m_PeakData, m_DrawImageStyle, colorBar);\\r\\n\\r\\n        }',\n",
       "     'method_prefix': 'public static',\n",
       "     'method_param': '(\\r\\n            int m_IndexNum\\r\\n            , int m_ScanNum\\r\\n            , double[] m_PeakData\\r\\n\\r\\n            , LockGate FSFGate\\r\\n            , LockGate dataGate\\r\\n            , List<byte[]> ascanData\\r\\n            , double maxVoltage\\r\\n            , AmplitudeMode gateMode\\r\\n            , Bitmap m_bmpCscan\\r\\n            , DrawImageStyle m_DrawImageStyle\\r\\n            , ColorBarControlSmall colorBar\\r\\n            , WaveDataStyle wd\\r\\n            , int offset\\r\\n            )'},\n",
       "    {'method_name': 'CopyDataToBitmap2',\n",
       "     'method_comment': '',\n",
       "     'method_code': \"publicstaticvoidCopyDataToBitmap2(Bitmap m_Bitmap, int[] colordata){\\r\\n            Rectangle rect = new Rectangle(0, 0, m_Bitmap.Width, m_Bitmap.Height);\\r\\n            // Lock the bitmap's bits.\\r\\n            System.Drawing.Imaging.BitmapData bmpData = m_Bitmap.LockBits(rect, System.Drawing.Imaging.ImageLockMode.WriteOnly, m_Bitmap.PixelFormat);\\r\\n            // Get the address of the first line.\\r\\n            IntPtr ptr = bmpData.Scan0;\\r\\n            System.Runtime.InteropServices.Marshal.Copy(colordata, 0, ptr, m_Bitmap.Width * m_Bitmap.Height);\\r\\n            m_Bitmap.UnlockBits(bmpData);\\r\\n        }\",\n",
       "     'method_prefix': 'public static',\n",
       "     'method_param': '(Bitmap m_Bitmap, int[] colordata)'},\n",
       "    {'method_name': 'DrawPhaseInverseImage',\n",
       "     'method_comment': '',\n",
       "     'method_code': 'publicstaticvoidDrawPhaseInverseImage(\\r\\n            int m_IndexNum\\r\\n            , int m_ScanNum\\r\\n            , double[] m_PeakData\\r\\n            , LockGate FSFGate\\r\\n            , LockGate dataGate\\r\\n            , List<byte[]> ascanData\\r\\n            , double maxVoltage\\r\\n            , AmplitudeMode m_GateMode\\r\\n            , Bitmap m_bmpCscan\\r\\n            , DrawImageStyle m_DrawImageStyle\\r\\n\\r\\n            , bool checkBoxAdjustData\\r\\n            , ColorBarControlSmall colorBar\\r\\n            , int maxAMP\\r\\n            , int averageValue\\r\\n            , double m_ReferencePhase\\r\\n            , int PulseType\\r\\n            , int offsetToZero\\r\\n            , WaveDataStyle wd\\r\\n            ){\\r\\n            int m_GateLengthNum = dataGate.m_GateLengthNum;\\r\\n            int m_GateStartNum = dataGate.m_GateStartNum;\\r\\n            double m_ThresholdFSF = FSFGate.m_Threshold;\\r\\n            int m_GateStartNumFSF = FSFGate.m_GateStartNum;\\r\\n            int m_GateLengthNumFSF = FSFGate.m_GateLengthNum;\\r\\n            double m_ThresholdData = dataGate.m_Threshold;\\r\\n\\r\\n            Parallel.For(0, ascanData.Count, (k, loopState) =>\\r\\n\\r\\n            //for (int j = 0; j < m_IndexNum; j++)\\r\\n            //{\\r\\n            //    for (int i = 0; i < m_ScanNum; i++)\\r\\n                {\\r\\n                    //(X,Y)转换成一维\\r\\n\\r\\n                    int indexofAScan = k;//j * m_ScanNum + i;\\r\\n                    //int indexofAScan = j * m_ScanNum + i;\\r\\n\\r\\n                    // 判断A扫位置是否超限\\r\\n                    indexofAScan = ConvertType.JudgeAscanIndexIsOver(indexofAScan, ascanData);\\r\\n                    int curFSFFirstPosition = FindFirstPostionInFSFGate(\\r\\n                        FSFGate.ThreshAMP //阈值对应的正向幅值\\r\\n                        , FSFGate.m_GateLengthNum//同步闸门的长度\\r\\n                        , FSFGate.m_GateStartNum//同步闸门的开始位置,信号的下标\\r\\n                        , FSFGate.isPositiveThresh//正向阈值\\r\\n                        , ascanData[indexofAScan]\\r\\n                        , wd\\r\\n                        , offsetToZero\\r\\n                        , maxAMP);\\r\\n                    // 取峰值\\r\\n                    int maxIndex = 0;\\r\\n                    m_PeakData[indexofAScan] = CalPeakData(ascanData[indexofAScan], m_GateStartNum, m_GateLengthNum, m_GateMode, m_ThresholdData, m_ReferencePhase, maxVoltage\\r\\n                        , curFSFFirstPosition, FSFGate, wd, averageValue, maxAMP, PulseType, offsetToZero, out maxIndex);\\r\\n\\r\\n                });\\r\\n\\r\\n\\r\\n            //调整数据，以提高对比度\\r\\n            if (checkBoxAdjustData)\\r\\n            {\\r\\n                double[] peaks = CScanPicFunction.AdjustPeakData(m_PeakData, m_ScanNum, m_IndexNum, m_GateMode, maxVoltage, wd);\\r\\n                m_PeakData = peaks;\\r\\n            }\\r\\n            for (int i = 0; i < m_PeakData.Length; i++)\\r\\n            {\\r\\n                m_bmpCscan.SetPixel(i % m_ScanNum, i / m_ScanNum, DataToColor(m_PeakData[i], m_DrawImageStyle, colorBar, wd));\\r\\n            }\\r\\n\\r\\n\\r\\n        }',\n",
       "     'method_prefix': 'public static',\n",
       "     'method_param': '(\\r\\n            int m_IndexNum\\r\\n            , int m_ScanNum\\r\\n            , double[] m_PeakData\\r\\n            , LockGate FSFGate\\r\\n            , LockGate dataGate\\r\\n            , List<byte[]> ascanData\\r\\n            , double maxVoltage\\r\\n            , AmplitudeMode m_GateMode\\r\\n            , Bitmap m_bmpCscan\\r\\n            , DrawImageStyle m_DrawImageStyle\\r\\n\\r\\n            , bool checkBoxAdjustData\\r\\n            , ColorBarControlSmall colorBar\\r\\n            , int maxAMP\\r\\n            , int averageValue\\r\\n            , double m_ReferencePhase\\r\\n            , int PulseType\\r\\n            , int offsetToZero\\r\\n            , WaveDataStyle wd\\r\\n            )'},\n",
       "    {'method_name': 'RaiseContrast',\n",
       "     'method_comment': '',\n",
       "     'method_code': 'publicstaticvoidRaiseContrast(double[] m_PeakData, int scanNum, int indexNum, AmplitudeMode m_GateMode, double maxVoltage, Bitmap m_bmpCscan, DrawImageStyle m_DrawImageStyle, ColorBarControlSmall colorBar, WaveDataStyle wd){\\r\\n            //double[,] peaks = AdjustPeakData(ref m_oneParameterAndData.m_OutLineShareParameters.m_PeakData);\\r\\n            double[] peaks = AdjustPeakData(m_PeakData, scanNum, indexNum, m_GateMode, maxVoltage, wd);\\r\\n            m_PeakData = peaks;\\r\\n            for (int i = 0; i < peaks.Length; i++)\\r\\n            {\\r\\n                m_bmpCscan.SetPixel(i % scanNum, i / scanNum, DataToColor(m_PeakData[i], m_DrawImageStyle, colorBar, wd));\\r\\n            }\\r\\n        }',\n",
       "     'method_prefix': 'public static',\n",
       "     'method_param': '(double[] m_PeakData, int scanNum, int indexNum, AmplitudeMode m_GateMode, double maxVoltage, Bitmap m_bmpCscan, DrawImageStyle m_DrawImageStyle, ColorBarControlSmall colorBar, WaveDataStyle wd)'},\n",
       "    {'method_name': 'DrawPeakCscanPic',\n",
       "     'method_comment': '',\n",
       "     'method_code': 'publicstaticvoidDrawPeakCscanPic(\\r\\n            int m_IndexNum\\r\\n            , int m_ScanNum\\r\\n            , double[] m_PeakData\\r\\n            , LockGate FSFGate\\r\\n            , LockGate dataGate\\r\\n           , List<byte[]> ascanData\\r\\n           , double maxVoltage\\r\\n           , AmplitudeMode m_GateMode\\r\\n            , Bitmap m_bmpCscan\\r\\n            , DrawImageStyle m_DrawImageStyle\\r\\n            , double m_ReferencePhase\\r\\n            , ColorBarControlSmall colorBar\\r\\n            , int maxAMP\\r\\n            , int totalChannum\\r\\n            , int averageValue\\r\\n            , WaveDataStyle wd\\r\\n            , int offset){\\r\\n            int m_GateLengthNum = dataGate.m_GateLengthNum;\\r\\n            int m_GateStartNum = dataGate.m_GateStartNum;\\r\\n            double m_ThresholdFSF = FSFGate.m_Threshold;\\r\\n            int m_GateStartNumFSF = FSFGate.m_GateStartNum;\\r\\n            int m_GateLengthNumFSF = FSFGate.m_GateLengthNum;\\r\\n            double m_ThresholdData = dataGate.m_Threshold;\\r\\n            //for (int j = 0; j < m_IndexNum; j++)\\r\\n            //for (int k = 0; k < m_IndexNum* m_ScanNum; k++)\\r\\n            //  int k = 0;\\r\\n\\r\\n            // Stopwatch sw = new Stopwatch();\\r\\n            //  sw.Start();\\r\\n            // System.Threading.Tasks.Parallel.ForEach(ascanData, (adata, state1) =>\\r\\n            Parallel.For(0, ascanData.Count, (k, loopState) =>\\r\\n\\r\\n            //foreach (byte[] adata in ascanData)\\r\\n            {\\r\\n                byte[] adata = ascanData[k];\\r\\n                //for (int i = 0; i < m_ScanNum; i++)\\r\\n                {\\r\\n                    int i = k % m_ScanNum;\\r\\n                    int j = k / m_ScanNum;\\r\\n                    int indexofAScan = k;//j * m_ScanNum + i;\\r\\n\\r\\n                    if (indexofAScan > ascanData.Count - 1 || adata.Length <= 0)\\r\\n                    {\\r\\n                        m_PeakData[indexofAScan] = 0;\\r\\n                        //loopState.Break();\\r\\n                        //loopState.Stop();\\r\\n                        //break;\\r\\n                    }\\r\\n                    else\\r\\n                    {\\r\\n                        // 取得同步闸门起点\\r\\n                        int curFSFFirstPosition = 0;\\r\\n                        if (FSFGate.m_GateIsActived)\\r\\n                        {\\r\\n                            curFSFFirstPosition = CScanPicFunction.FindFirstPostionInFSFGate(\\r\\n                                  FSFGate.ThreshAMP //阈值对应的正向幅值\\r\\n                                , FSFGate.m_GateLengthNum//同步闸门的长度\\r\\n                                , FSFGate.m_GateStartNum//同步闸门的开始位置,信号的下标\\r\\n                                , FSFGate.isPositiveThresh//正向阈值\\r\\n                                , adata\\r\\n                                , wd\\r\\n                                , offset\\r\\n                                , maxAMP\\r\\n                                );\\r\\n                        }\\r\\n\\r\\n\\r\\n\\r\\n                        // 取得峰值数据\\r\\n                        int maxIndex = 0;\\r\\n                        double peakdata = CalPeakData(adata, m_GateStartNum, m_GateLengthNum, m_GateMode, m_ThresholdData, m_ReferencePhase, maxVoltage, curFSFFirstPosition, FSFGate, wd, averageValue, maxAMP, StaticParas.PulseType, offset, out maxIndex);\\r\\n\\r\\n                        m_PeakData[j * m_ScanNum + i] = peakdata;//DataToColorForInt(peakdata, m_DrawImageStyle, colorBar);\\r\\n                                                                 // 以像素点来绘制C扫图像\\r\\n                                                                 //m_bmpCscan.SetPixel(i, j, );\\r\\n                    }\\r\\n                }\\r\\n                // k++;\\r\\n            });\\r\\n\\r\\n            FilterCScanPic(m_bmpCscan, m_PeakData, m_DrawImageStyle, colorBar, wd);\\r\\n            //sw.Stop();\\r\\n            //  Debug.WriteLine(sw.ElapsedMilliseconds);\\r\\n\\r\\n            //CopyDataToBitmap2(m_bmpCscan, m_PeakData);\\r\\n        }',\n",
       "     'method_prefix': 'public static',\n",
       "     'method_param': '(\\r\\n            int m_IndexNum\\r\\n            , int m_ScanNum\\r\\n            , double[] m_PeakData\\r\\n            , LockGate FSFGate\\r\\n            , LockGate dataGate\\r\\n           , List<byte[]> ascanData\\r\\n           , double maxVoltage\\r\\n           , AmplitudeMode m_GateMode\\r\\n            , Bitmap m_bmpCscan\\r\\n            , DrawImageStyle m_DrawImageStyle\\r\\n            , double m_ReferencePhase\\r\\n            , ColorBarControlSmall colorBar\\r\\n            , int maxAMP\\r\\n            , int totalChannum\\r\\n            , int averageValue\\r\\n            , WaveDataStyle wd\\r\\n            , int offset)'},\n",
       "    {'method_name': 'DrawElseCscanPicNotFullPeak',\n",
       "     'method_comment': '',\n",
       "     'method_code': 'publicstaticvoidDrawElseCscanPicNotFullPeak(int m_IndexNum, int m_ScanNum, double[] m_PeakData, List<byte[,]> m_Data, Bitmap m_bmpCscan, DrawImageStyle m_DrawImageStyle, ColorBarControlSmall colorBar, int CScanIndex, WaveDataStyle wd){\\r\\n            for (int j = 0; j < m_IndexNum; j++)\\r\\n            {\\r\\n                for (int i = 0; i < m_ScanNum; i++)\\r\\n                {\\r\\n                    int indexOfAScan = j * m_ScanNum + i;\\r\\n                    //for (int k = 0; k < 4; k++)\\r\\n                    //{\\r\\n                    int dataindex = CScanIndex * 2;//第1个是峰值，第2个是时间\\r\\n                    m_PeakData[indexOfAScan] = m_Data[i][ j, dataindex];\\r\\n                    //}\\r\\n                    // m_bmpCscan.SetPixel(i, j, DataToColor(m_PeakData[indexOfAScan], m_DrawImageStyle, colorBar));\\r\\n                }\\r\\n            }\\r\\n            // Functions.ExportToCSV(m_PeakData, StaticParas.glConfig.m_Frequency, \"D://notfull.csv\");\\r\\n            FilterCScanPic(m_bmpCscan, m_PeakData, m_DrawImageStyle, colorBar, wd);\\r\\n        }',\n",
       "     'method_prefix': 'public static',\n",
       "     'method_param': '(int m_IndexNum, int m_ScanNum, double[] m_PeakData, List<byte[,]> m_Data, Bitmap m_bmpCscan, DrawImageStyle m_DrawImageStyle, ColorBarControlSmall colorBar, int CScanIndex, WaveDataStyle wd)'},\n",
       "    {'method_name': 'DrawElseCscanPicNotFullTime',\n",
       "     'method_comment': '',\n",
       "     'method_code': 'publicstaticvoidDrawElseCscanPicNotFullTime(int m_IndexNum, int m_ScanNum, double[] m_PeakData, List<byte[,]> m_Data, Bitmap m_bmpCscan, DrawImageStyle m_DrawImageStyle, ColorBarControlSmall colorBar, int CScanIndex, int AScanLen, WaveDataStyle wd){\\r\\n            for (int j = 0; j < m_IndexNum; j++)\\r\\n            {\\r\\n                for (int i = 0; i < m_ScanNum; i++)\\r\\n                {\\r\\n                    int indexOfAScan = j * m_ScanNum + i;\\r\\n                    //for (int k = 0; k < 4; k++)\\r\\n                    //{\\r\\n                    int dataindex = CScanIndex * 2 + 1;//第1个是峰值，第2个是时间\\r\\n                    m_PeakData[indexOfAScan] = (double)NumConversionTo256(m_Data[i][ j, dataindex] / AScanLen, wd);\\r\\n                    //}\\r\\n                    // m_bmpCscan.SetPixel(i, j, DataToColor(m_PeakData[indexOfAScan], m_DrawImageStyle, colorBar));\\r\\n                }\\r\\n            }\\r\\n            // Functions.ExportToCSV(m_PeakData, StaticParas.glConfig.m_Frequency, \"D://notfull.csv\");\\r\\n            FilterCScanPic(m_bmpCscan, m_PeakData, m_DrawImageStyle, colorBar, wd);\\r\\n        }',\n",
       "     'method_prefix': 'public static',\n",
       "     'method_param': '(int m_IndexNum, int m_ScanNum, double[] m_PeakData, List<byte[,]> m_Data, Bitmap m_bmpCscan, DrawImageStyle m_DrawImageStyle, ColorBarControlSmall colorBar, int CScanIndex, int AScanLen, WaveDataStyle wd)'},\n",
       "    {'method_name': 'FindMaxPeakMinPeak',\n",
       "     'method_comment': '',\n",
       "     'method_code': 'publicstaticvoidFindMaxPeakMinPeak(\\r\\n            int gateStartNum\\r\\n            , int gateEndNum\\r\\n            , byte[] ascandata\\r\\n            , WaveDataStyle wd\\r\\n            , int offset\\r\\n            , int maxamp\\r\\n            , out byte maxPeak\\r\\n            , out byte minPeak\\r\\n            , out int maxPosition\\r\\n            , out int minPosition\\r\\n            , int step = 10\\r\\n            ){\\r\\n\\r\\n            if (ascandata == null || ascandata.Length <= 0 || gateStartNum > ascandata.Length-1 || gateEndNum > ascandata.Length || ascandata.Max() == 0)\\r\\n            {\\r\\n                maxPeak = 0;\\r\\n                minPeak = 0;\\r\\n                maxPosition = 0;\\r\\n                minPosition = 0;\\r\\n                return;\\r\\n                //loopState.Stop();\\r\\n                //break;\\r\\n                //return;\\r\\n            }\\r\\n\\r\\n\\r\\n\\r\\n            byte byteTempMin = byte.MaxValue;\\r\\n            byte byteTempMax = byte.MinValue;\\r\\n\\r\\n\\r\\n            // 最大峰值出现位置的下标\\r\\n            int numMax = 0;\\r\\n            // 最小峰值出现位置的下标\\r\\n            int numMin = 0;\\r\\n\\r\\n            int initIndex_min = 0;\\r\\n            int initIndex_max = 0;\\r\\n\\r\\n\\r\\n\\r\\n            //粗找\\r\\n            for (int k = gateStartNum; k < gateEndNum; k += step)\\r\\n            {\\r\\n\\r\\n                byte byteTemp = ascandata[k];\\r\\n                byteTemp = (byte)DataUtils.GetActualAmp((int)wd, byteTemp, offset, maxamp);\\r\\n                //下限\\r\\n                if (byteTemp < byteTempMin)\\r\\n                {\\r\\n                    byteTempMin = byteTemp;\\r\\n                    initIndex_min = k;\\r\\n                }\\r\\n                //上限\\r\\n                if (byteTemp > byteTempMax)\\r\\n                {\\r\\n                    byteTempMax = byteTemp;\\r\\n                    initIndex_max = k;\\r\\n                }\\r\\n            }\\r\\n\\r\\n            numMin = initIndex_min;\\r\\n            numMax = initIndex_max;\\r\\n            //精细查找\\r\\n            //最小值查找\\r\\n            if (initIndex_min > 0 && initIndex_min < gateEndNum)\\r\\n            {\\r\\n                for (int k = Math.Max(initIndex_min - step, 0); k < Math.Min(initIndex_min + step, gateEndNum); k++)\\r\\n                {\\r\\n                    byte byteTemp = ascandata[k];\\r\\n                    byteTemp = (byte)DataUtils.GetActualAmp((int)wd, byteTemp, offset, maxamp);\\r\\n                    //下限\\r\\n                    if (byteTemp < byteTempMin)\\r\\n                    {\\r\\n                        byteTempMin = byteTemp;\\r\\n                        numMin = k;\\r\\n                    }\\r\\n\\r\\n                }\\r\\n            }\\r\\n            else if (initIndex_min == 0)\\r\\n            {\\r\\n                for (int k = 0; k < initIndex_min + 2 * step; k++)\\r\\n                {\\r\\n                    byte byteTemp = ascandata[k];\\r\\n                    byteTemp = (byte)DataUtils.GetActualAmp((int)wd, byteTemp, offset, maxamp);\\r\\n                    //下限\\r\\n                    if (byteTemp < byteTempMin)\\r\\n                    {\\r\\n                        byteTempMin = byteTemp;\\r\\n                        numMin = k;\\r\\n                    }\\r\\n\\r\\n                }\\r\\n            }\\r\\n            else if (initIndex_min == gateEndNum - 1)\\r\\n            {\\r\\n                for (int k = initIndex_min - 2 * step; k < initIndex_min; k++)\\r\\n                {\\r\\n                    byte byteTemp = ascandata[k];\\r\\n                    byteTemp = (byte)DataUtils.GetActualAmp((int)wd, byteTemp, offset, maxamp);\\r\\n                    //下限\\r\\n                    if (byteTemp < byteTempMin)\\r\\n                    {\\r\\n                        byteTempMin = byteTemp;\\r\\n                        numMin = k;\\r\\n                    }\\r\\n\\r\\n                }\\r\\n            }\\r\\n            //精细查找，最大\\r\\n            if (initIndex_max > 0 && initIndex_max < gateEndNum)\\r\\n            {\\r\\n                for (int k = Math.Max(initIndex_max - step, 0); k < Math.Min(initIndex_max + step, gateEndNum); k++)\\r\\n                {\\r\\n                    byte byteTemp = ascandata[k];\\r\\n                    byteTemp = (byte)DataUtils.GetActualAmp((int)wd, byteTemp, offset, maxamp);\\r\\n                    //上限\\r\\n                    if (byteTemp > byteTempMax)\\r\\n                    {\\r\\n                        byteTempMax = byteTemp;\\r\\n                        numMax = k;\\r\\n                    }\\r\\n                }\\r\\n            }\\r\\n            else if (initIndex_max == 0)\\r\\n            {\\r\\n                for (int k = 0; k < initIndex_max + 2 * step; k++)\\r\\n                {\\r\\n                    byte byteTemp = ascandata[k];\\r\\n                    byteTemp = (byte)DataUtils.GetActualAmp((int)wd, byteTemp, offset, maxamp);\\r\\n                    //上限\\r\\n                    if (byteTemp > byteTempMax)\\r\\n                    {\\r\\n                        byteTempMax = byteTemp;\\r\\n                        numMax = k;\\r\\n                    }\\r\\n                }\\r\\n            }\\r\\n            else if (initIndex_max == gateEndNum - 1)\\r\\n            {\\r\\n                for (int k = initIndex_max - 2 * step; k < initIndex_max; k++)\\r\\n                {\\r\\n                    byte byteTemp = ascandata[k];\\r\\n                    byteTemp = (byte)DataUtils.GetActualAmp((int)wd, byteTemp, offset, maxamp);\\r\\n                    //上限\\r\\n                    if (byteTemp > byteTempMax)\\r\\n                    {\\r\\n                        byteTempMax = byteTemp;\\r\\n                        numMax = k;\\r\\n                    }\\r\\n                }\\r\\n            }//*/\\r\\n\\r\\n\\r\\n\\r\\n\\r\\n\\r\\n\\r\\n            /*\\r\\n            for (int k = gateStartNum,j= gateEndNum-1; k < j; k++,j--)\\r\\n            {\\r\\n              \\r\\n                //头部\\r\\n                byte byteTemp = ascandata[k];\\r\\n                //下限\\r\\n                if (byteTemp < byteTempMin)\\r\\n                {\\r\\n                    byteTempMin = byteTemp;\\r\\n                    numMin = k;\\r\\n                }\\r\\n                //上限\\r\\n                if (byteTemp > byteTempMax)\\r\\n                {\\r\\n                    byteTempMax = byteTemp;\\r\\n                    numMax = k;\\r\\n                }\\r\\n\\r\\n                //尾部\\r\\n                byteTemp = ascandata[j];\\r\\n                //下限\\r\\n                if (byteTemp < byteTempMin)\\r\\n                {\\r\\n                    byteTempMin = byteTemp;\\r\\n                    numMin = j;\\r\\n                }\\r\\n                //上限\\r\\n                if (byteTemp > byteTempMax)\\r\\n                {\\r\\n                    byteTempMax = byteTemp;\\r\\n                    numMax = j;\\r\\n                }\\r\\n\\r\\n            }//*/\\r\\n            if (0 == byteTempMin)//0是背景色\\r\\n            {\\r\\n                byteTempMin = 1;\\r\\n            }\\r\\n            maxPeak = byteTempMax;\\r\\n            minPeak = byteTempMin;\\r\\n            minPosition = numMin;\\r\\n            maxPosition = numMax;\\r\\n\\r\\n\\r\\n        }',\n",
       "     'method_prefix': 'public static',\n",
       "     'method_param': '(\\r\\n            int gateStartNum\\r\\n            , int gateEndNum\\r\\n            , byte[] ascandata\\r\\n            , WaveDataStyle wd\\r\\n            , int offset\\r\\n            , int maxamp\\r\\n            , out byte maxPeak\\r\\n            , out byte minPeak\\r\\n            , out int maxPosition\\r\\n            , out int minPosition\\r\\n            , int step = 10\\r\\n            )'},\n",
       "    {'method_name': 'NumConversionTo256ForColorBar',\n",
       "     'method_comment': '',\n",
       "     'method_code': 'publicstaticintNumConversionTo256ForColorBar(double zerotoonev, short maxv){\\r\\n            return (int)Math.Floor(zerotoonev * maxv);\\r\\n        }',\n",
       "     'method_prefix': 'public static',\n",
       "     'method_param': '(double zerotoonev, short maxv)'},\n",
       "    {'method_name': 'CalPeakData',\n",
       "     'method_comment': '',\n",
       "     'method_code': 'publicstaticdoubleCalPeakData(byte[] ascandata\\r\\n            , int gateStartNum\\r\\n            , int gateLengthNum\\r\\n            , AmplitudeMode gateMode\\r\\n            , double thresholdData\\r\\n            , double referencePhase\\r\\n            , double maxVoltage\\r\\n            , int curFSFFirstPosition\\r\\n            , LockGate FSFGate\\r\\n            , WaveDataStyle wd\\r\\n            , double currAvgAmp\\r\\n            , int maxAMP\\r\\n            , int PulseType\\r\\n            , int offsetToZero\\r\\n            , out int maxIndex\\r\\n       ){\\r\\n\\r\\n            if (ascandata == null || ascandata.Length <= 0)\\r\\n            {\\r\\n                maxIndex = 0;\\r\\n                return 0;\\r\\n            }\\r\\n           \\r\\n            //double peakdata = 0;\\r\\n            // 最大峰值出现位置的下标\\r\\n            int numMax = 0;\\r\\n            // 最小峰值出现位置的下标\\r\\n            int numMin = 0;\\r\\n\\r\\n            //double temp = 0;\\r\\n            double tempMax = double.MinValue;\\r\\n            double tempMin = double.MaxValue;\\r\\n\\r\\n            //确保数据闸门的实际起始位置在窗口中\\r\\n            if ((curFSFFirstPosition + gateStartNum) < 0)\\r\\n            {\\r\\n                gateStartNum = -curFSFFirstPosition;\\r\\n            }\\r\\n\\r\\n            int lengthNum;\\r\\n            if ((curFSFFirstPosition + FSFGate.m_iUseBottomWave * gateStartNum + gateLengthNum) > ascandata.GetLength(0))\\r\\n            {\\r\\n                lengthNum = ascandata.GetLength(0);\\r\\n            }\\r\\n            else\\r\\n            {\\r\\n                lengthNum = curFSFFirstPosition + FSFGate.m_iUseBottomWave * gateStartNum + gateLengthNum;\\r\\n            }\\r\\n\\r\\n            byte byteMinThreshold = (byte)(NumConversionTo256(-thresholdData, wd));//- offsetToZero\\r\\n            byteMinThreshold = (byte)(byteMinThreshold < 1 ? 1 : byteMinThreshold);\\r\\n            byte byteMaxThreshold = (byte)(NumConversionTo256(thresholdData, wd));//- offsetToZero\\r\\n            byte byteTempMax = byte.MinValue;\\r\\n            byte byteTempMin = byte.MaxValue;\\r\\n\\r\\n            byte bytePeakdata = 0;\\r\\n\\r\\n            int iStart = gateStartNum;\\r\\n            if (FSFGate.m_GateIsActived)\\r\\n            {\\r\\n                iStart = Math.Max(curFSFFirstPosition + FSFGate.m_iUseBottomWave * gateStartNum, 0);\\r\\n            }\\r\\n\\r\\n\\r\\n\\r\\n            //查找门限中的负向幅值和正向幅值及其到达下标（时间）\\r\\n            FindMaxPeakMinPeak(\\r\\n                iStart\\r\\n                , lengthNum\\r\\n                , ascandata\\r\\n                , wd\\r\\n                , offsetToZero\\r\\n                , maxAMP\\r\\n                , out byteTempMax\\r\\n                , out byteTempMin\\r\\n                , out numMax\\r\\n                , out numMin\\r\\n\\r\\n                );\\r\\n            maxIndex = numMax;\\r\\n            double tof = 0;\\r\\n            //根据不同的闸门模式，取峰值\\r\\n            switch (gateMode)\\r\\n            {\\r\\n                case AmplitudeMode.PostivePeak://正向峰值\\r\\n                    bytePeakdata = byteTempMax;\\r\\n                    if (bytePeakdata < byteMaxThreshold)\\r\\n                    {\\r\\n                        bytePeakdata = 0;\\r\\n                    }\\r\\n                    break;\\r\\n                case AmplitudeMode.NegativePeak://负向峰值\\r\\n                    bytePeakdata = byteTempMin;\\r\\n\\r\\n                    if (bytePeakdata > byteMinThreshold)\\r\\n                    {\\r\\n                        bytePeakdata = 0;\\r\\n                    }\\r\\n                    break;\\r\\n                case AmplitudeMode.PeaktoPeak://0-255,峰峰值\\r\\n                    bytePeakdata = (byte)(byteTempMax - byteTempMin);\\r\\n\\r\\n                    if (bytePeakdata < (byteMaxThreshold - byteMinThreshold))\\r\\n                    {\\r\\n                        bytePeakdata = 0;\\r\\n                    }\\r\\n                    break;\\r\\n\\r\\n                case AmplitudeMode.MaxPeak://最大峰值\\r\\n\\r\\n                    bytePeakdata = (byte)Math.Max(byteTempMax, maxAMP - byteTempMin);\\r\\n\\r\\n                    if (bytePeakdata < byteMaxThreshold)\\r\\n                    {\\r\\n                        bytePeakdata = 0;\\r\\n                    }\\r\\n                    break;\\r\\n                case AmplitudeMode.TOFNegativeThresh:\\r\\n                    {\\r\\n                        int numThresh = FindFirstPostionRelativeInGate(\\r\\n                       byteMaxThreshold //阈值对应的正向幅值\\r\\n                       , gateLengthNum//闸门的长度\\r\\n                       , gateStartNum + curFSFFirstPosition//闸门的开始位置,信号的下标\\r\\n                       , true//正向阈值\\r\\n                       , ascandata);//相对于数据闸门起点位置\\r\\n\\r\\n                        tof = (numThresh) / (double)(gateLengthNum);\\r\\n                        bytePeakdata = (byte)NumConversionTo256ForColorBar(tof, 256);\\r\\n\\r\\n                    }\\r\\n                    break;\\r\\n                case AmplitudeMode.TOFPositiveThresh:\\r\\n                    {\\r\\n                        int numThresh = FindFirstPostionRelativeInGate(\\r\\n                        byteMinThreshold //阈值对应的正向幅值\\r\\n                        , gateLengthNum//闸门的长度\\r\\n                        , gateStartNum + curFSFFirstPosition//闸门的开始位置,信号的下标\\r\\n                        , false//正向阈值\\r\\n                        , ascandata);//相对于数据闸门起点位置\\r\\n                        tof = (numThresh) / (double)(gateLengthNum);\\r\\n                        bytePeakdata = (byte)NumConversionTo256ForColorBar(tof, 256);\\r\\n                    }\\r\\n                    break;\\r\\n                case AmplitudeMode.TOFPositiveMax:\\r\\n                    tof = (numMax) / (double)(gateLengthNum);//正向Tof\\r\\n                    bytePeakdata = (byte)NumConversionTo256ForColorBar(tof, 256);\\r\\n                    break;\\r\\n                case AmplitudeMode.TOFNegativeMax:\\r\\n                    tof = (numMin) / (double)(gateLengthNum);//正向Tof\\r\\n                    bytePeakdata = (byte)NumConversionTo256ForColorBar(tof, 256);\\r\\n                    break;\\r\\n                case AmplitudeMode.Phase://相位\\r\\n                    {\\r\\n                        double curAmplitude = 0;\\r\\n                        double curPhase = 0;\\r\\n                        double phaseDiffer = 0;\\r\\n                        double PI = Math.PI; //常数π\\r\\n                        tempMax = (double)((byteTempMax - currAvgAmp) * maxVoltage / (maxAMP / 2));\\r\\n                        tempMin = (double)((byteTempMin - currAvgAmp) * maxVoltage / (maxAMP / 2));\\r\\n\\r\\n                        if (tempMax == 0 && tempMin == 0)\\r\\n                        {\\r\\n                            curPhase = 0;\\r\\n                            phaseDiffer = 0;\\r\\n                        }\\r\\n                        else\\r\\n                        {\\r\\n                            int numPeak;\\r\\n                            if (tempMax > (-tempMin))\\r\\n                            {\\r\\n                                numPeak = numMax;\\r\\n                            }\\r\\n                            else\\r\\n                            {\\r\\n                                numPeak = numMin;\\r\\n                            }\\r\\n                            if (ascandata[numPeak] > currAvgAmp)\\r\\n                            {\\r\\n                                curAmplitude = (double)(currAvgAmp - ascandata[numPeak]) * maxVoltage / (maxAMP / 2);\\r\\n                            }\\r\\n                            else\\r\\n                            {\\r\\n                                curAmplitude = (double)(ascandata[numPeak]) * maxVoltage / (maxAMP / 2);\\r\\n                            }\\r\\n\\r\\n                            curAmplitude = (curAmplitude + curAmplitude) / (tempMax - tempMin); // V/Vpp\\r\\n                            if (curAmplitude < -1)\\r\\n                            {\\r\\n                                curAmplitude = -1;\\r\\n                            }\\r\\n                            else if (curAmplitude > 1)\\r\\n                            {\\r\\n                                curAmplitude = 1;\\r\\n                            }\\r\\n                            //结果为弧度，满足 -π/2 ≤θ≤π/2 - 或 - 如果 d < -1 或 d > 1，则为 NaN。\\r\\n                            curPhase = Math.Asin(curAmplitude);\\r\\n                            phaseDiffer = curPhase - referencePhase; //此时返回结果为相位差\\r\\n                                                                     //phaseDiffer = phaseDiffer + PI; //这样phaseDiffer的范围就变为0到2π\\r\\n                                                                     //m_PeakData[i, j] = phaseDiffer / (2 * PI); // 求出数值对应的比例，范围从0到+1\\r\\n                        }\\r\\n                        bytePeakdata = (byte)NumConversionTo256(phaseDiffer / PI, wd); // 求出数值对应的比例，范围从-1到+1\\r\\n                    }\\r\\n                    break;\\r\\n                case AmplitudeMode.PeakWithPhase:\\r\\n                    {\\r\\n                        double curAmplitude = 0;\\r\\n                        double phaseDiffer = 0;\\r\\n                        tempMax = (double)((byteTempMax - currAvgAmp) * maxVoltage / (maxAMP / 2));\\r\\n                        tempMin = (double)((byteTempMin - currAvgAmp) * maxVoltage / (maxAMP / 2));\\r\\n                        if (tempMax == 0 && tempMin == 0)\\r\\n                        {\\r\\n                            phaseDiffer = 0;\\r\\n                        }\\r\\n                        else\\r\\n                        {\\r\\n                            int currndex = (curFSFFirstPosition + gateStartNum);\\r\\n                            if (ascandata[currndex] > currAvgAmp)\\r\\n                            {\\r\\n                                curAmplitude = (double)(currAvgAmp - ascandata[currndex]) / (maxAMP / 2);\\r\\n                            }\\r\\n                            else\\r\\n                            {\\r\\n                                curAmplitude = (double)(ascandata[currndex]) / (maxAMP / 2);\\r\\n                            }\\r\\n                            if (curAmplitude < -1)\\r\\n                            {\\r\\n                                curAmplitude = -1;\\r\\n                            }\\r\\n                            else if (curAmplitude > 1)\\r\\n                            {\\r\\n                                curAmplitude = 1;\\r\\n                            }\\r\\n                            //结果为弧度，满足 -π/2 ≤θ≤π/2 - 或 - 如果 d < -1 或 d > 1，则为 NaN。\\r\\n                            double curPhase = Math.Asin(curAmplitude);\\r\\n                            phaseDiffer = curPhase - referencePhase; //此时返回结果为相位差\\r\\n                        }\\r\\n                        bytePeakdata = (byte)NumConversionTo256(Math.Cos(phaseDiffer) * (tempMax - tempMin) / 2, wd);  // 幅值（峰峰值）乘以相位的余弦（可确保结果为正）\\r\\n\\r\\n                    }\\r\\n                    break;\\r\\n                case AmplitudeMode.PhaseInverse:\\r\\n                    {\\r\\n\\r\\n                        if (numMax < numMin)//最大值在最小值的前面\\r\\n                        {\\r\\n                            bytePeakdata = byteTempMax;\\r\\n                            if (bytePeakdata < byteMaxThreshold)\\r\\n                            {\\r\\n                                bytePeakdata = 0;\\r\\n                            }\\r\\n                        }\\r\\n                        else //最小值在前面\\r\\n                        {\\r\\n                            bytePeakdata = byteTempMin;\\r\\n\\r\\n                            if (bytePeakdata > byteMinThreshold)\\r\\n                            {\\r\\n                                bytePeakdata = 0;\\r\\n                            }\\r\\n                        }\\r\\n\\r\\n\\r\\n\\r\\n\\r\\n\\r\\n\\r\\n\\r\\n\\r\\n                        //double absPeakValue = GetAbsPeakValueInGate(ascandata, curFSFFirstPosition, FSFGate, gateStartNum, gateLengthNum, maxVoltage, thresholdData, maxAMP);\\r\\n                        ////设置大的正向阈值\\r\\n                        //double bigPosThreshold = 0.96 * absPeakValue * (-PulseType);//和实际设置的值是反的\\r\\n                        ////设置小的正向阈值\\r\\n                        //double smallPosThreshold = 0.8 * absPeakValue * (-PulseType);\\r\\n                        ////设置负向阈值\\r\\n                        //double negativeThreshold = -0.6 * absPeakValue * (-PulseType);\\r\\n\\r\\n                        //bool bBigPosThresholdFound = false;//是否发现大的正向阈值\\r\\n                        //bool bSmallPosThresholdFound = false;//是否发现小的正向阈值\\r\\n                        //bool bNegativeThresholdFound = false;//是否发现负向的阈值\\r\\n\\r\\n\\r\\n                        //tempMax = (double)((byteTempMax - currAvgAmp) * maxVoltage / (maxAMP / 2));\\r\\n                        //tempMin = (double)((byteTempMin - currAvgAmp) * maxVoltage / (maxAMP / 2));\\r\\n\\r\\n                        //int iBigPosThresholdTime = FindValueInGate(bigPosThreshold, curFSFFirstPosition, FSFGate, ascandata, gateStartNum, gateLengthNum, maxVoltage, maxAMP, out bBigPosThresholdFound);\\r\\n\\r\\n                        //int iSmallPosThresholdTime = FindValueInGate(smallPosThreshold, curFSFFirstPosition, FSFGate, ascandata, gateStartNum, gateLengthNum, maxVoltage, maxAMP, out bSmallPosThresholdFound);\\r\\n\\r\\n                        //int iNegativeThresholdTime = FindValueInGate(negativeThreshold, curFSFFirstPosition, FSFGate, ascandata, gateStartNum, gateLengthNum, maxVoltage, maxAMP, out bNegativeThresholdFound);\\r\\n\\r\\n                        ////先到负向阈值，则相位未反转\\r\\n                        ////没反转，则用最大幅值法成像\\r\\n                        //if (iNegativeThresholdTime <= iSmallPosThresholdTime && iNegativeThresholdTime <= iBigPosThresholdTime)\\r\\n                        //{\\r\\n                        //    double absMin = Math.Abs(tempMin);\\r\\n                        //    bytePeakdata = (byte)NumConversionTo256(Math.Max(Math.Abs(tempMin), Math.Abs(tempMax)));\\r\\n                        //    //peakdata = Math.Max(Math.Abs(tempMin), Math.Abs(tempMax));\\r\\n                        //}\\r\\n                        //else //相位发生了反转\\r\\n                        //{\\r\\n                        //    //设置数值对应的颜色\\r\\n                        //    if (bBigPosThresholdFound)\\r\\n                        //    {\\r\\n                        //        bytePeakdata = (byte)NumConversionTo256(1) ; //发生了反转,0xff0000,peakdata = 1\\r\\n                        //    }\\r\\n                        //    else\\r\\n                        //    {\\r\\n                        //        bytePeakdata = (byte)NumConversionTo256(0.75); //发生了临界反转，0xffff00,peakdata=0.75\\r\\n                        //    }\\r\\n                        //}\\r\\n                    }\\r\\n                    break;\\r\\n            }\\r\\n            //StaticParas.glParameters.MaxDataIndex = numMax;\\r\\n            return bytePeakdata;\\r\\n\\r\\n        }',\n",
       "     'method_prefix': 'public static',\n",
       "     'method_param': '(byte[] ascandata\\r\\n            , int gateStartNum\\r\\n            , int gateLengthNum\\r\\n            , AmplitudeMode gateMode\\r\\n            , double thresholdData\\r\\n            , double referencePhase\\r\\n            , double maxVoltage\\r\\n            , int curFSFFirstPosition\\r\\n            , LockGate FSFGate\\r\\n            , WaveDataStyle wd\\r\\n            , double currAvgAmp\\r\\n            , int maxAMP\\r\\n            , int PulseType\\r\\n            , int offsetToZero\\r\\n            , out int maxIndex\\r\\n       )'},\n",
       "    {'method_name': 'NumConversionTo512',\n",
       "     'method_comment': '',\n",
       "     'method_code': 'publicstaticintNumConversionTo512(double m_PeakData){\\r\\n            return NumConversionToData(m_PeakData, 512, WaveDataStyle.RF);\\r\\n        }',\n",
       "     'method_prefix': 'public static',\n",
       "     'method_param': '(double m_PeakData)'},\n",
       "    {'method_name': 'NumConversionTo256',\n",
       "     'method_comment': '',\n",
       "     'method_code': 'publicstaticintNumConversionTo256(double m_PeakData, WaveDataStyle wd){\\r\\n            return NumConversionToData(m_PeakData, 256, wd);\\r\\n        }',\n",
       "     'method_prefix': 'public static',\n",
       "     'method_param': '(double m_PeakData, WaveDataStyle wd)'},\n",
       "    {'method_name': 'NumConversionToData',\n",
       "     'method_comment': '',\n",
       "     'method_code': 'publicstaticintNumConversionToData(double value, short data, WaveDataStyle wd){\\r\\n            int result = 0;\\r\\n            if (wd == WaveDataStyle.RF)\\r\\n            {\\r\\n\\r\\n                if (value < -1) { value = -1; }\\r\\n                if (value > 1) { value = 1; }\\r\\n                result = (int)(Math.Floor(value * data / 2) + data / 2);\\r\\n            }\\r\\n            else\\r\\n            {\\r\\n                result = (int)(value * data);\\r\\n            }\\r\\n            return result;\\r\\n        }',\n",
       "     'method_prefix': 'public static',\n",
       "     'method_param': '(double value, short data, WaveDataStyle wd)'},\n",
       "    {'method_name': 'DrawCscanOnly',\n",
       "     'method_comment': '',\n",
       "     'method_code': 'publicstaticBitmapDrawCscanOnly(int m_IndexNum, int m_ScanNum, AmplitudeMode m_GateMode, double[] m_PeakData, List<byte[,]> m_Data, Bitmap m_bmpCscan, double maxVoltage, Bitmap m_originBitmap, DrawImageStyle m_DrawImageStyle, ColorBarControlSmall colorBar, WaveDataStyle wd){\\r\\n            for (int j = 0; j < m_IndexNum; j++)\\r\\n            {\\r\\n                for (int i = 0; i < m_ScanNum; i++)\\r\\n                {\\r\\n                    int indexOfAScan = j * m_ScanNum + i;\\r\\n                    if (m_GateMode == AmplitudeMode.PostivePeak)\\r\\n                    {\\r\\n                        m_PeakData[indexOfAScan] = m_Data[i][ j, 0] / 32768 * maxVoltage;\\r\\n                    }\\r\\n                    else if (m_GateMode == AmplitudeMode.PeaktoPeak)\\r\\n                    {\\r\\n                        m_PeakData[indexOfAScan] = (m_Data[i][ j, 0] - m_Data[i][ j, 1]) / 2 / 32768 * maxVoltage;\\r\\n                    }\\r\\n                    else if (m_GateMode == AmplitudeMode.NegativePeak)\\r\\n                    {\\r\\n                        m_PeakData[indexOfAScan] = -m_Data[i][ j, 1] / 32768 * maxVoltage;\\r\\n                    }\\r\\n                    else if (m_GateMode == AmplitudeMode.MaxPeak)\\r\\n                    {\\r\\n                        if (m_Data[i][j, 0] > (-m_Data[i][ j, 1]))\\r\\n                        {\\r\\n                            m_PeakData[indexOfAScan] = m_Data[i][ j, 0] / 32768 * maxVoltage;\\r\\n                        }\\r\\n                        else\\r\\n                        {\\r\\n                            m_PeakData[indexOfAScan] = -m_Data[i][ j, 1] / 32768 * maxVoltage;\\r\\n                        }\\r\\n                    }\\r\\n                    // 根据每个信号的峰值绘制图像\\r\\n                    //m_bmpCscan.SetPixel(i, j, DataToColor(m_PeakData[i, j], maxVoltage, m_GateMode, m_DrawImageStyle));\\r\\n                    m_bmpCscan.SetPixel(i, j, DataToColor(m_PeakData[indexOfAScan], m_DrawImageStyle, colorBar, wd));\\r\\n                }\\r\\n            }\\r\\n\\r\\n\\r\\n\\r\\n\\r\\n\\r\\n\\r\\n            if (m_originBitmap != null)\\r\\n            {\\r\\n                m_originBitmap.Dispose();\\r\\n            }\\r\\n            m_originBitmap = new Bitmap(m_bmpCscan, m_bmpCscan.Width, m_bmpCscan.Height);\\r\\n\\r\\n            return m_originBitmap;\\r\\n        }',\n",
       "     'method_prefix': 'public static',\n",
       "     'method_param': '(int m_IndexNum, int m_ScanNum, AmplitudeMode m_GateMode, double[] m_PeakData, List<byte[,]> m_Data, Bitmap m_bmpCscan, double maxVoltage, Bitmap m_originBitmap, DrawImageStyle m_DrawImageStyle, ColorBarControlSmall colorBar, WaveDataStyle wd)'},\n",
       "    {'method_name': 'GetGateStartNum',\n",
       "     'method_comment': '',\n",
       "     'method_code': 'publicstaticintGetGateStartNum(double timeStart, double totalTimeLen, int AScanCount, LockGate FSFGate, int displaystart){\\r\\n            if (timeStart > totalTimeLen)\\r\\n            {\\r\\n                timeStart = totalTimeLen / 2;\\r\\n            }\\r\\n            int GateStartNum = (int)(timeStart * AScanCount / totalTimeLen);\\r\\n            \\r\\n            // 如果波形开始时间 + 同步闸门开始位置 + 数据闸门开始位置 《 0\\r\\n            int FSFGatePosition = FSFGate.m_CurFSFFirstPosition;\\r\\n            if (FSFGatePosition + FSFGate.m_iUseBottomWave * GateStartNum < 0)\\r\\n            {\\r\\n                // 数据闸门开始位置 = - 同步闸门开始位置 - 波形开始时间(0)\\r\\n                //GateStartNum = -FSFGatePosition - displaystart;\\r\\n                GateStartNum = -FSFGatePosition - displaystart;\\r\\n                if (-1 == FSFGate.m_iUseBottomWave)//底波\\r\\n                {\\r\\n                    GateStartNum = 0;\\r\\n                }\\r\\n                else\\r\\n                {\\r\\n                    GateStartNum = FSFGatePosition;//表面波\\r\\n                }\\r\\n            }\\r\\n            return GateStartNum;\\r\\n        }',\n",
       "     'method_prefix': 'public static',\n",
       "     'method_param': '(double timeStart, double totalTimeLen, int AScanCount, LockGate FSFGate, int displaystart)'},\n",
       "    {'method_name': 'GetGateLengthNum',\n",
       "     'method_comment': '',\n",
       "     'method_code': 'publicstaticintGetGateLengthNum(double gatelen, double totalTimeLen, int AScanCount, int FSFGatePosition, int displaystart, int gateStartNum){\\r\\n            // 数据闸门长度 = 闸门长度 * A信号数据长度 / 采样长度\\r\\n            int GateLengthNum = (int)((gatelen) * AScanCount / totalTimeLen);\\r\\n\\r\\n            // 波形起始时间 +同步闸门开始位置索引 + 数据闸门开始位置 + 数据闸门长度 》 A信号数据长度\\r\\n            if ((displaystart + FSFGatePosition + gateStartNum + GateLengthNum) > AScanCount)\\r\\n            {\\r\\n                // 数据闸门长度 = A信号数据长度 - 同步闸门开始位置索引 - 数据闸门开始位置 - 波形起始时间\\r\\n                GateLengthNum = AScanCount - FSFGatePosition - gateStartNum - displaystart;\\r\\n            }\\r\\n            //存文件错误\\r\\n            if (GateLengthNum < 0)\\r\\n            {\\r\\n                GateLengthNum = AScanCount - gateStartNum;\\r\\n            }\\r\\n            return GateLengthNum;\\r\\n        }',\n",
       "     'method_prefix': 'public static',\n",
       "     'method_param': '(double gatelen, double totalTimeLen, int AScanCount, int FSFGatePosition, int displaystart, int gateStartNum)'}]}],\n",
       " 'namespace_key': 'AlgorithmLib',\n",
       " 'relocal_reference': {}}"
      ]
     },
     "execution_count": 10,
     "metadata": {},
     "output_type": "execute_result"
    }
   ],
   "source": [
    "project_meta[sample_key]"
   ]
  },
  {
   "cell_type": "markdown",
   "id": "52f9220e-142d-4cba-97f3-a5b2ebc32cf9",
   "metadata": {},
   "source": [
    "## 2. 读取模型参数测试"
   ]
  },
  {
   "cell_type": "code",
   "execution_count": 11,
   "id": "f2fbadbc-ca00-4d6b-aba4-dbd4e9cccb70",
   "metadata": {},
   "outputs": [],
   "source": [
    "import torch\n",
    "from transformers import AutoTokenizer, AutoModelForCausalLM"
   ]
  },
  {
   "cell_type": "code",
   "execution_count": 12,
   "id": "ba09a4d3-80e0-4096-8200-f460e97a934a",
   "metadata": {},
   "outputs": [],
   "source": [
    "test_prompt = '''\n",
    "'<|im_start|>使用中文的csharp资深开发者 \"\\n 你是一个资深的软件工程师，现在需要对一个csharp软件项目进行分析，并撰写代码文档，现在就单个代码文件进行文档撰写。\\n    代码文档的格式为：\\n    # 代码文件整体功能描述（400字介绍）；\\n    # 代码包含的类、接口、结构体等内容描述（每个方法至少使用200字进行详细介绍。）；\\n    代码文件内容如下：\\n    // Copyright (c) Six Labors.\\n// Licensed under the Six Labors Split License.\\n\\nusing SixLabors.ImageSharp.PixelFormats;\\n\\nnamespace SixLabors.ImageSharp;\\n\\n/// <summary>\\n/// Extension methods for <see cref=\"ImageFrameCollection{TPixel}\"/>.\\n/// </summary>\\npublic static class ImageFrameCollectionExtensions\\n{\\n    /// <inheritdoc cref=\"Enumerable.AsEnumerable{TPixel}(IEnumerable{TPixel})\"/>\\n    public static IEnumerable<ImageFrame<TPixel>> AsEnumerable<TPixel>(this ImageFrameCollection<TPixel> source)\\n        where TPixel : unmanaged, IPixel<TPixel>\\n        => source;\\n\\n    /// <inheritdoc cref=\"Enumerable.Select{TPixel, TResult}(IEnumerable{TPixel}, Func{TPixel, int, TResult})\"/>\\n    public static IEnumerable<TResult> Select<TPixel, TResult>(this ImageFrameCollection<TPixel> source, Func<ImageFrame<TPixel>, TResult> selector)\\n        where TPixel : unmanaged, IPixel<TPixel> => source.AsEnumerable().Select(selector);\\n}\\n\\n    请生成对应的软件文档。\\n     使用中文回答，尽可能的详尽描述每个部分的功能，以及总结整体代码功能（400字）。<|im_end|>\\n'\n",
    "'''"
   ]
  },
  {
   "cell_type": "code",
   "execution_count": null,
   "id": "19a18a7c-f75a-458f-9496-5b0b039ddb95",
   "metadata": {},
   "outputs": [],
   "source": []
  },
  {
   "cell_type": "code",
   "execution_count": 13,
   "id": "6366db65-343f-473a-8edc-6625e1771365",
   "metadata": {
    "scrolled": true
   },
   "outputs": [
    {
     "name": "stderr",
     "output_type": "stream",
     "text": [
      "`low_cpu_mem_usage` was None, now default to True since model is quantized.\n"
     ]
    }
   ],
   "source": [
    "from transformers import AutoTokenizer, AutoModelForCausalLM\n",
    "tokenizer = AutoTokenizer.from_pretrained(\"../data/deepseek-coder-6.7b-instruct-AQLM/\", trust_remote_code=True)\n",
    "model = AutoModelForCausalLM.from_pretrained(\"../data/deepseek-coder-6.7b-instruct-AQLM/\", trust_remote_code=True, torch_dtype=torch.bfloat16).cuda()"
   ]
  },
  {
   "cell_type": "markdown",
   "id": "7cdab933-4c03-4297-8e46-cedd3a9aae3c",
   "metadata": {},
   "source": [
    "## 3. 项目分析提示词模板"
   ]
  },
  {
   "cell_type": "markdown",
   "id": "7a58d6f7-2984-4218-828b-748fe52840bf",
   "metadata": {},
   "source": [
    "### 3.1 自上而下分析"
   ]
  },
  {
   "cell_type": "markdown",
   "id": "0a9fa11e-c023-47ed-bb0e-51d1f7ee6eaa",
   "metadata": {},
   "source": [
    "#### 项目文件描述"
   ]
  },
  {
   "cell_type": "code",
   "execution_count": 27,
   "id": "621238dc-192d-44e0-82d6-3d2f014314cf",
   "metadata": {},
   "outputs": [],
   "source": [
    "def gen_prompt_csfile(content:str,\n",
    "                      max_length:int=4096):\n",
    "    '''\n",
    "    content: 文件内容\n",
    "    max_length: 最大长度\n",
    "    '''\n",
    "\n",
    "    template = f\"\"\"你是一个资深的软件工程师，现在需要对一个csharp软件项目进行分析，并撰写代码文档，现在就单个代码文件进行文档撰写。\n",
    "    代码文档的格式为：\n",
    "    # 代码文件整体功能描述（400字介绍）；\n",
    "    # 代码包含的类、接口、结构体等内容描述（每个方法至少使用200字进行详细介绍。）；\n",
    "    代码文件内容如下：\n",
    "    {content[:max_length]}\n",
    "    请生成对应的软件文档。\n",
    "    \"\"\"\n",
    "\n",
    "    return template"
   ]
  },
  {
   "cell_type": "code",
   "execution_count": 28,
   "id": "eb5a4373-a91c-42e6-8416-c17fc3596481",
   "metadata": {},
   "outputs": [],
   "source": [
    "def gen_prompt_csfile_en(content:str,\n",
    "                      max_length:int=4096):\n",
    "    '''\n",
    "    content: 文件内容\n",
    "    max_length: 最大长度\n",
    "    '''\n",
    "\n",
    "    template = f\"\"\"\n",
    "    You are a senior software engineer, now we'r preparing writing the documentation for a csharp project.\n",
    "    Frist we must write description for single .cs file.\n",
    "    \n",
    "    The code file content is as follow:\n",
    "    {content[:max_length]}\n",
    "    \n",
    "    Following is the formate of output:\n",
    "        # Overall description of the source code file\n",
    "        # Class, interface, struct, method etc. description in this source file.\n",
    "        # Summarization of this source code file\n",
    "    \n",
    "    \"\"\"\n",
    "\n",
    "    return template"
   ]
  },
  {
   "cell_type": "markdown",
   "id": "7e48d10b-4959-4742-80fc-1ef61ffe18d5",
   "metadata": {},
   "source": [
    "#### 命名空间描述"
   ]
  },
  {
   "cell_type": "code",
   "execution_count": 29,
   "id": "65dd39eb-b703-4184-8392-1c72b829025f",
   "metadata": {},
   "outputs": [],
   "source": [
    "def gen_prompt_namespace(file_desc_map:Dict[str,str],\n",
    "                      max_length:int=512):\n",
    "    '''\n",
    "    file_desc_map: 文件名，生成的描述文本\n",
    "    max_length: 最大长度\n",
    "    '''\n",
    "    template = f\"\"\"你是一个资深的软件工程师，现在需要对一个 csharp 软件项目进行分析，并撰写代码文档，现在针对一个命名空间的功能进行描述。一个命名空间可以视为包含多个代码文件的文件夹，需要撰写的文档格式如下：# 命名空间整体功能描述; # 命名空间中包含的各个文件的功能; # 根据其中包含的所有文件进行总结。该命名空间包含的文件名以及对应的文件描述内容如下：\n",
    "    \"\"\"\n",
    "    template += '\\n\\n'.join(f\"代码文件名:{name}\\n文件描述文档:{file_desc_map[name]}\" for name in file_desc_map)\n",
    "    template += '\\n\\n请生成对应的命名空间描述文档：\\n'\n",
    "    return template"
   ]
  },
  {
   "cell_type": "code",
   "execution_count": 30,
   "id": "abd3823b-8d62-497c-bce9-866701933b29",
   "metadata": {},
   "outputs": [
    {
     "data": {
      "text/plain": [
       "'你是一个资深的软件工程师，现在需要对一个 csharp 软件项目进行分析，并撰写代码文档，现在针对一个命名空间的功能进行描述。一个命名空间可以视为包含多个代码文件的文件夹，需要撰写的文档格式如下：# 命名空间整体功能描述; # 命名空间中包含的各个文件的功能; # 根据其中包含的所有文件进行总结。该命名空间包含的文件名以及对应的文件描述内容如下：\\n    代码文件名:a\\n文件描述文档:aaaaa\\n\\n代码文件名:b\\n文件描述文档:bbbbb\\n\\n请生成对应的命名空间描述文档：\\n'"
      ]
     },
     "execution_count": 30,
     "metadata": {},
     "output_type": "execute_result"
    }
   ],
   "source": [
    "gen_prompt_namespace({'a':'aaaaa','b':'bbbbb'})"
   ]
  },
  {
   "cell_type": "markdown",
   "id": "3bff107d-ec75-4491-8b5f-a54cd091d534",
   "metadata": {},
   "source": [
    "#### 类描述"
   ]
  },
  {
   "cell_type": "code",
   "execution_count": 31,
   "id": "50df2e7c-88d4-4e00-a1d5-2aa3f69cb495",
   "metadata": {},
   "outputs": [],
   "source": [
    "def gen_prompt_class(ref_desc_map:Dict[str,str],\n",
    "                     class_code:str,\n",
    "                      max_length:int):\n",
    "    '''\n",
    "    ref_desc_map: 引用文件（命名空间）名，生成的描述文本\n",
    "    class_code: 代码内容\n",
    "    max_length: 最大长度\n",
    "    '''\n",
    "    pass"
   ]
  },
  {
   "cell_type": "markdown",
   "id": "ea3a5877-ebd6-483c-82ac-514fb729e143",
   "metadata": {},
   "source": [
    "#### 方法描述"
   ]
  },
  {
   "cell_type": "code",
   "execution_count": 32,
   "id": "b40fea2e-f3c1-4630-9563-d1181bb41bf7",
   "metadata": {},
   "outputs": [],
   "source": [
    "def gen_prompt_method(class_desc:str,\n",
    "                      method_code:str,\n",
    "                      max_length:int):\n",
    "    '''\n",
    "    class_desc: 方法所在的类的描述\n",
    "    method_code: 代码内容    \n",
    "    max_length: 最大长度\n",
    "    '''\n",
    "    pass"
   ]
  },
  {
   "cell_type": "markdown",
   "id": "d0db66e5-9dd4-41d6-a80c-a4e7a34f0c77",
   "metadata": {},
   "source": [
    "### 3.2 自下而上分析"
   ]
  },
  {
   "cell_type": "code",
   "execution_count": 33,
   "id": "22ad07de-fbf2-4c83-9e76-f171b5dfe385",
   "metadata": {},
   "outputs": [],
   "source": [
    "def generate_prompt(instruction, input=None):\n",
    "    if input:\n",
    "        return f\"\"\"下方给出了一个Csharp代码的方法部分的片段，该方法从一个类中抽取，可能包含文档注释以及外部的引用名称。\n",
    "\n",
    "            # 对于本次任务的指令如下:\n",
    "            {instruction}\n",
    "            \n",
    "            # 输入的内容如下:\n",
    "            {input}\n",
    "            \n",
    "            # Response:\n",
    "            \"\"\""
   ]
  },
  {
   "cell_type": "code",
   "execution_count": null,
   "id": "58c68ca7-527f-476d-b979-46e06fbf1b5b",
   "metadata": {},
   "outputs": [],
   "source": []
  },
  {
   "cell_type": "code",
   "execution_count": null,
   "id": "b1a8523c-1fd7-4c10-a1fc-9f4510c5c638",
   "metadata": {},
   "outputs": [],
   "source": []
  },
  {
   "cell_type": "markdown",
   "id": "9db28f6c-5959-48e1-90b4-9db8528453f0",
   "metadata": {},
   "source": [
    "## 4. 调用模型分析并存储结果\n",
    "\n",
    "使用tinyDB将结果实时保存"
   ]
  },
  {
   "cell_type": "code",
   "execution_count": 16,
   "id": "1975fd6f-ec44-4628-9259-7126acc5fb57",
   "metadata": {},
   "outputs": [
    {
     "name": "stdout",
     "output_type": "stream",
     "text": [
      "Looking in indexes: http://mirrors.aliyun.com/pypi/simple\n",
      "Collecting tinydb\n",
      "  Downloading http://mirrors.aliyun.com/pypi/packages/78/17/853354204e1ca022d6b7d011ca7f3206c4f8faa3cc743e92609b49c1d83f/tinydb-4.8.2-py3-none-any.whl (24 kB)\n",
      "Installing collected packages: tinydb\n",
      "Successfully installed tinydb-4.8.2\n",
      "\u001b[33mWARNING: Running pip as the 'root' user can result in broken permissions and conflicting behaviour with the system package manager. It is recommended to use a virtual environment instead: https://pip.pypa.io/warnings/venv\u001b[0m\u001b[33m\n",
      "\u001b[0mNote: you may need to restart the kernel to use updated packages.\n"
     ]
    }
   ],
   "source": [
    "%pip install tinydb"
   ]
  },
  {
   "cell_type": "code",
   "execution_count": 17,
   "id": "1041931b-4425-480e-8d2d-d2c4848bdea5",
   "metadata": {},
   "outputs": [],
   "source": [
    "if not os.path.isdir('../data/results'):\n",
    "    os.mkdir('../data/results')"
   ]
  },
  {
   "cell_type": "code",
   "execution_count": 18,
   "id": "c4738782-e454-40cd-98ca-1972d866ce74",
   "metadata": {},
   "outputs": [],
   "source": [
    "from tinydb import TinyDB, Query"
   ]
  },
  {
   "cell_type": "markdown",
   "id": "7f6d8978-19d7-4a79-88c7-0d643d77e340",
   "metadata": {},
   "source": [
    "#### 自上而下-文件描述"
   ]
  },
  {
   "cell_type": "code",
   "execution_count": 19,
   "id": "ec638ddd-aa99-47c0-8f93-9b8796f4e587",
   "metadata": {},
   "outputs": [],
   "source": [
    "from tinydb import TinyDB,Query"
   ]
  },
  {
   "cell_type": "code",
   "execution_count": 20,
   "id": "e162e56d-23b2-41d0-ad58-b79438cc26e5",
   "metadata": {},
   "outputs": [],
   "source": [
    "db = TinyDB('../data/results/rough_csfile_db-dscoderv2lite.json')"
   ]
  },
  {
   "cell_type": "code",
   "execution_count": 21,
   "id": "0aca078a-9897-48d8-9731-b2c04c122614",
   "metadata": {},
   "outputs": [],
   "source": [
    "qqq = Query()"
   ]
  },
  {
   "cell_type": "code",
   "execution_count": 23,
   "id": "06d7393f-9357-4513-81dc-5866db3381a9",
   "metadata": {
    "scrolled": true
   },
   "outputs": [],
   "source": [
    "# from transformers import AutoTokenizer, AutoModelForCausalLM\n",
    "# tokenizer = AutoTokenizer.from_pretrained(\"../data/deepseek-aideepseek-coder-1.3b-instruct\", trust_remote_code=True)\n",
    "# model = AutoModelForCausalLM.from_pretrained(\"../data/deepseek-aideepseek-coder-1.3b-instruct\", trust_remote_code=True, torch_dtype=torch.bfloat16).cuda()"
   ]
  },
  {
   "cell_type": "code",
   "execution_count": 24,
   "id": "9e1c51fc-109a-4a4f-8a6d-4df7e464bf1e",
   "metadata": {},
   "outputs": [],
   "source": [
    "# messages=[\n",
    "#     { 'role': 'user', 'content': test_prompt}\n",
    "# ]\n",
    "# inputs = tokenizer.apply_chat_template(messages, add_generation_prompt=True, return_tensors=\"pt\").to(model.device)\n",
    "# # tokenizer.eos_token_id is the id of <|EOT|> token\n",
    "# outputs = model.generate(inputs, max_new_tokens=1024, do_sample=False, top_k=50, top_p=0.95, num_return_sequences=1, eos_token_id=tokenizer.eos_token_id)\n",
    "# desc = tokenizer.decode(outputs[0][len(inputs[0]):], skip_special_tokens=True)"
   ]
  },
  {
   "cell_type": "code",
   "execution_count": null,
   "id": "21dad79e-d96c-4a69-9d1b-ee3cc18a7a8c",
   "metadata": {},
   "outputs": [
    {
     "name": "stderr",
     "output_type": "stream",
     "text": [
      "/root/miniconda3/lib/python3.12/site-packages/transformers/generation/configuration_utils.py:595: UserWarning: `do_sample` is set to `False`. However, `top_p` is set to `0.95` -- this flag is only used in sample-based generation modes. You should set `do_sample=True` or unset `top_p`.\n",
      "  warnings.warn(\n",
      "The attention mask and the pad token id were not set. As a consequence, you may observe unexpected behavior. Please pass your input's `attention_mask` to obtain reliable results.\n",
      "Setting `pad_token_id` to `eos_token_id`:None for open-end generation.\n",
      "The attention mask is not set and cannot be inferred from input because pad token is same as eos token. As a consequence, you may observe unexpected behavior. Please pass your input's `attention_mask` to obtain reliable results.\n",
      "/root/miniconda3/lib/python3.12/site-packages/torch/utils/cpp_extension.py:1967: UserWarning: TORCH_CUDA_ARCH_LIST is not set, all archs for visible cards are included for compilation. \n",
      "If this is not desired, please set os.environ['TORCH_CUDA_ARCH_LIST'].\n",
      "  warnings.warn(\n",
      "/root/miniconda3/lib/python3.12/site-packages/transformers/generation/configuration_utils.py:595: UserWarning: `do_sample` is set to `False`. However, `top_p` is set to `0.95` -- this flag is only used in sample-based generation modes. You should set `do_sample=True` or unset `top_p`.\n",
      "  warnings.warn(\n",
      "The attention mask and the pad token id were not set. As a consequence, you may observe unexpected behavior. Please pass your input's `attention_mask` to obtain reliable results.\n",
      "Setting `pad_token_id` to `eos_token_id`:None for open-end generation.\n"
     ]
    },
    {
     "name": "stdout",
     "output_type": "stream",
     "text": [
      "0: ../data/AMC/AlgorithmLib/CScanPicFunction.cs insert sucsscfull.\n"
     ]
    },
    {
     "name": "stderr",
     "output_type": "stream",
     "text": [
      "The attention mask and the pad token id were not set. As a consequence, you may observe unexpected behavior. Please pass your input's `attention_mask` to obtain reliable results.\n",
      "Setting `pad_token_id` to `eos_token_id`:None for open-end generation.\n"
     ]
    },
    {
     "name": "stdout",
     "output_type": "stream",
     "text": [
      "1: ../data/AMC/AlgorithmLib/CScanPicFunctionGPU - 副本 (2).cs insert sucsscfull.\n"
     ]
    },
    {
     "name": "stderr",
     "output_type": "stream",
     "text": [
      "The attention mask and the pad token id were not set. As a consequence, you may observe unexpected behavior. Please pass your input's `attention_mask` to obtain reliable results.\n",
      "Setting `pad_token_id` to `eos_token_id`:None for open-end generation.\n"
     ]
    },
    {
     "name": "stdout",
     "output_type": "stream",
     "text": [
      "2: ../data/AMC/AlgorithmLib/CScanPicFunctionGPU - 副本.cs insert sucsscfull.\n"
     ]
    },
    {
     "name": "stderr",
     "output_type": "stream",
     "text": [
      "The attention mask and the pad token id were not set. As a consequence, you may observe unexpected behavior. Please pass your input's `attention_mask` to obtain reliable results.\n",
      "Setting `pad_token_id` to `eos_token_id`:None for open-end generation.\n"
     ]
    },
    {
     "name": "stdout",
     "output_type": "stream",
     "text": [
      "3: ../data/AMC/AlgorithmLib/CScanPicFunctionGPU.cs insert sucsscfull.\n"
     ]
    },
    {
     "name": "stderr",
     "output_type": "stream",
     "text": [
      "The attention mask and the pad token id were not set. As a consequence, you may observe unexpected behavior. Please pass your input's `attention_mask` to obtain reliable results.\n",
      "Setting `pad_token_id` to `eos_token_id`:None for open-end generation.\n"
     ]
    },
    {
     "name": "stdout",
     "output_type": "stream",
     "text": [
      "4: ../data/AMC/AlgorithmLib/UltrasonicalPeakDll.cs insert sucsscfull.\n"
     ]
    },
    {
     "name": "stderr",
     "output_type": "stream",
     "text": [
      "The attention mask and the pad token id were not set. As a consequence, you may observe unexpected behavior. Please pass your input's `attention_mask` to obtain reliable results.\n",
      "Setting `pad_token_id` to `eos_token_id`:None for open-end generation.\n"
     ]
    },
    {
     "name": "stdout",
     "output_type": "stream",
     "text": [
      "5: ../data/AMC/AlgorithmLib/obj/Debug/TemporaryGeneratedFile_036C0B5B-1481-4323-8D20-8F5ADCB23D92.cs insert sucsscfull.\n"
     ]
    },
    {
     "name": "stderr",
     "output_type": "stream",
     "text": [
      "The attention mask and the pad token id were not set. As a consequence, you may observe unexpected behavior. Please pass your input's `attention_mask` to obtain reliable results.\n",
      "Setting `pad_token_id` to `eos_token_id`:None for open-end generation.\n"
     ]
    },
    {
     "name": "stdout",
     "output_type": "stream",
     "text": [
      "6: ../data/AMC/AlgorithmLib/obj/Debug/TemporaryGeneratedFile_5937a670-0e60-4077-877b-f7221da3dda1.cs insert sucsscfull.\n"
     ]
    },
    {
     "name": "stderr",
     "output_type": "stream",
     "text": [
      "The attention mask and the pad token id were not set. As a consequence, you may observe unexpected behavior. Please pass your input's `attention_mask` to obtain reliable results.\n",
      "Setting `pad_token_id` to `eos_token_id`:None for open-end generation.\n"
     ]
    },
    {
     "name": "stdout",
     "output_type": "stream",
     "text": [
      "7: ../data/AMC/AlgorithmLib/obj/Debug/TemporaryGeneratedFile_E7A71F73-0F8D-4B9B-B56E-8E70B10BC5D3.cs insert sucsscfull.\n"
     ]
    },
    {
     "name": "stderr",
     "output_type": "stream",
     "text": [
      "The attention mask and the pad token id were not set. As a consequence, you may observe unexpected behavior. Please pass your input's `attention_mask` to obtain reliable results.\n",
      "Setting `pad_token_id` to `eos_token_id`:None for open-end generation.\n"
     ]
    },
    {
     "name": "stdout",
     "output_type": "stream",
     "text": [
      "8: ../data/AMC/AlgorithmLib/obj/Release/TemporaryGeneratedFile_036C0B5B-1481-4323-8D20-8F5ADCB23D92.cs insert sucsscfull.\n"
     ]
    },
    {
     "name": "stderr",
     "output_type": "stream",
     "text": [
      "The attention mask and the pad token id were not set. As a consequence, you may observe unexpected behavior. Please pass your input's `attention_mask` to obtain reliable results.\n",
      "Setting `pad_token_id` to `eos_token_id`:None for open-end generation.\n"
     ]
    },
    {
     "name": "stdout",
     "output_type": "stream",
     "text": [
      "9: ../data/AMC/AlgorithmLib/obj/Release/TemporaryGeneratedFile_5937a670-0e60-4077-877b-f7221da3dda1.cs insert sucsscfull.\n"
     ]
    },
    {
     "name": "stderr",
     "output_type": "stream",
     "text": [
      "The attention mask and the pad token id were not set. As a consequence, you may observe unexpected behavior. Please pass your input's `attention_mask` to obtain reliable results.\n",
      "Setting `pad_token_id` to `eos_token_id`:None for open-end generation.\n"
     ]
    },
    {
     "name": "stdout",
     "output_type": "stream",
     "text": [
      "10: ../data/AMC/AlgorithmLib/obj/Release/TemporaryGeneratedFile_E7A71F73-0F8D-4B9B-B56E-8E70B10BC5D3.cs insert sucsscfull.\n"
     ]
    },
    {
     "name": "stderr",
     "output_type": "stream",
     "text": [
      "The attention mask and the pad token id were not set. As a consequence, you may observe unexpected behavior. Please pass your input's `attention_mask` to obtain reliable results.\n",
      "Setting `pad_token_id` to `eos_token_id`:None for open-end generation.\n"
     ]
    },
    {
     "name": "stdout",
     "output_type": "stream",
     "text": [
      "11: ../data/AMC/AlgorithmLib/obj/x64/Debug/TemporaryGeneratedFile_036C0B5B-1481-4323-8D20-8F5ADCB23D92.cs insert sucsscfull.\n"
     ]
    },
    {
     "name": "stderr",
     "output_type": "stream",
     "text": [
      "The attention mask and the pad token id were not set. As a consequence, you may observe unexpected behavior. Please pass your input's `attention_mask` to obtain reliable results.\n",
      "Setting `pad_token_id` to `eos_token_id`:None for open-end generation.\n"
     ]
    },
    {
     "name": "stdout",
     "output_type": "stream",
     "text": [
      "12: ../data/AMC/AlgorithmLib/obj/x64/Debug/TemporaryGeneratedFile_5937a670-0e60-4077-877b-f7221da3dda1.cs insert sucsscfull.\n"
     ]
    },
    {
     "name": "stderr",
     "output_type": "stream",
     "text": [
      "The attention mask and the pad token id were not set. As a consequence, you may observe unexpected behavior. Please pass your input's `attention_mask` to obtain reliable results.\n",
      "Setting `pad_token_id` to `eos_token_id`:None for open-end generation.\n"
     ]
    },
    {
     "name": "stdout",
     "output_type": "stream",
     "text": [
      "13: ../data/AMC/AlgorithmLib/obj/x64/Debug/TemporaryGeneratedFile_E7A71F73-0F8D-4B9B-B56E-8E70B10BC5D3.cs insert sucsscfull.\n"
     ]
    },
    {
     "name": "stderr",
     "output_type": "stream",
     "text": [
      "The attention mask and the pad token id were not set. As a consequence, you may observe unexpected behavior. Please pass your input's `attention_mask` to obtain reliable results.\n",
      "Setting `pad_token_id` to `eos_token_id`:None for open-end generation.\n"
     ]
    },
    {
     "name": "stdout",
     "output_type": "stream",
     "text": [
      "14: ../data/AMC/AlgorithmLib/obj/x64/Release/TemporaryGeneratedFile_036C0B5B-1481-4323-8D20-8F5ADCB23D92.cs insert sucsscfull.\n"
     ]
    },
    {
     "name": "stderr",
     "output_type": "stream",
     "text": [
      "The attention mask and the pad token id were not set. As a consequence, you may observe unexpected behavior. Please pass your input's `attention_mask` to obtain reliable results.\n",
      "Setting `pad_token_id` to `eos_token_id`:None for open-end generation.\n"
     ]
    },
    {
     "name": "stdout",
     "output_type": "stream",
     "text": [
      "15: ../data/AMC/AlgorithmLib/obj/x64/Release/TemporaryGeneratedFile_5937a670-0e60-4077-877b-f7221da3dda1.cs insert sucsscfull.\n"
     ]
    },
    {
     "name": "stderr",
     "output_type": "stream",
     "text": [
      "The attention mask and the pad token id were not set. As a consequence, you may observe unexpected behavior. Please pass your input's `attention_mask` to obtain reliable results.\n",
      "Setting `pad_token_id` to `eos_token_id`:None for open-end generation.\n"
     ]
    },
    {
     "name": "stdout",
     "output_type": "stream",
     "text": [
      "16: ../data/AMC/AlgorithmLib/obj/x64/Release/TemporaryGeneratedFile_E7A71F73-0F8D-4B9B-B56E-8E70B10BC5D3.cs insert sucsscfull.\n"
     ]
    },
    {
     "name": "stderr",
     "output_type": "stream",
     "text": [
      "The attention mask and the pad token id were not set. As a consequence, you may observe unexpected behavior. Please pass your input's `attention_mask` to obtain reliable results.\n",
      "Setting `pad_token_id` to `eos_token_id`:None for open-end generation.\n"
     ]
    },
    {
     "name": "stdout",
     "output_type": "stream",
     "text": [
      "17: ../data/AMC/AlgorithmLib/Properties/AssemblyInfo.cs insert sucsscfull.\n"
     ]
    },
    {
     "name": "stderr",
     "output_type": "stream",
     "text": [
      "The attention mask and the pad token id were not set. As a consequence, you may observe unexpected behavior. Please pass your input's `attention_mask` to obtain reliable results.\n",
      "Setting `pad_token_id` to `eos_token_id`:None for open-end generation.\n"
     ]
    },
    {
     "name": "stdout",
     "output_type": "stream",
     "text": [
      "18: ../data/AMC/AlgorithmLib/Properties/Resources.Designer.cs insert sucsscfull.\n"
     ]
    },
    {
     "name": "stderr",
     "output_type": "stream",
     "text": [
      "The attention mask and the pad token id were not set. As a consequence, you may observe unexpected behavior. Please pass your input's `attention_mask` to obtain reliable results.\n",
      "Setting `pad_token_id` to `eos_token_id`:None for open-end generation.\n"
     ]
    },
    {
     "name": "stdout",
     "output_type": "stream",
     "text": [
      "19: ../data/AMC/AlgorithmLib/Properties/Settings.Designer.cs insert sucsscfull.\n"
     ]
    },
    {
     "name": "stderr",
     "output_type": "stream",
     "text": [
      "The attention mask and the pad token id were not set. As a consequence, you may observe unexpected behavior. Please pass your input's `attention_mask` to obtain reliable results.\n",
      "Setting `pad_token_id` to `eos_token_id`:None for open-end generation.\n"
     ]
    },
    {
     "name": "stdout",
     "output_type": "stream",
     "text": [
      "20: ../data/AMC/AMC/About.cs insert sucsscfull.\n"
     ]
    },
    {
     "name": "stderr",
     "output_type": "stream",
     "text": [
      "The attention mask and the pad token id were not set. As a consequence, you may observe unexpected behavior. Please pass your input's `attention_mask` to obtain reliable results.\n",
      "Setting `pad_token_id` to `eos_token_id`:None for open-end generation.\n"
     ]
    },
    {
     "name": "stdout",
     "output_type": "stream",
     "text": [
      "21: ../data/AMC/AMC/About.Designer.cs insert sucsscfull.\n"
     ]
    },
    {
     "name": "stderr",
     "output_type": "stream",
     "text": [
      "The attention mask and the pad token id were not set. As a consequence, you may observe unexpected behavior. Please pass your input's `attention_mask` to obtain reliable results.\n",
      "Setting `pad_token_id` to `eos_token_id`:None for open-end generation.\n"
     ]
    },
    {
     "name": "stdout",
     "output_type": "stream",
     "text": [
      "22: ../data/AMC/AMC/AreaEdit.cs insert sucsscfull.\n"
     ]
    },
    {
     "name": "stderr",
     "output_type": "stream",
     "text": [
      "The attention mask and the pad token id were not set. As a consequence, you may observe unexpected behavior. Please pass your input's `attention_mask` to obtain reliable results.\n",
      "Setting `pad_token_id` to `eos_token_id`:None for open-end generation.\n"
     ]
    },
    {
     "name": "stdout",
     "output_type": "stream",
     "text": [
      "23: ../data/AMC/AMC/AreaEdit.designer.cs insert sucsscfull.\n"
     ]
    },
    {
     "name": "stderr",
     "output_type": "stream",
     "text": [
      "The attention mask and the pad token id were not set. As a consequence, you may observe unexpected behavior. Please pass your input's `attention_mask` to obtain reliable results.\n",
      "Setting `pad_token_id` to `eos_token_id`:None for open-end generation.\n"
     ]
    },
    {
     "name": "stdout",
     "output_type": "stream",
     "text": [
      "24: ../data/AMC/AMC/AsResult.cs insert sucsscfull.\n"
     ]
    },
    {
     "name": "stderr",
     "output_type": "stream",
     "text": [
      "The attention mask and the pad token id were not set. As a consequence, you may observe unexpected behavior. Please pass your input's `attention_mask` to obtain reliable results.\n",
      "Setting `pad_token_id` to `eos_token_id`:None for open-end generation.\n"
     ]
    },
    {
     "name": "stdout",
     "output_type": "stream",
     "text": [
      "25: ../data/AMC/AMC/AsResult.Designer.cs insert sucsscfull.\n"
     ]
    },
    {
     "name": "stderr",
     "output_type": "stream",
     "text": [
      "The attention mask and the pad token id were not set. As a consequence, you may observe unexpected behavior. Please pass your input's `attention_mask` to obtain reliable results.\n",
      "Setting `pad_token_id` to `eos_token_id`:None for open-end generation.\n"
     ]
    },
    {
     "name": "stdout",
     "output_type": "stream",
     "text": [
      "26: ../data/AMC/AMC/BScanImageForm.cs insert sucsscfull.\n"
     ]
    },
    {
     "name": "stderr",
     "output_type": "stream",
     "text": [
      "The attention mask and the pad token id were not set. As a consequence, you may observe unexpected behavior. Please pass your input's `attention_mask` to obtain reliable results.\n",
      "Setting `pad_token_id` to `eos_token_id`:None for open-end generation.\n"
     ]
    },
    {
     "name": "stdout",
     "output_type": "stream",
     "text": [
      "27: ../data/AMC/AMC/BScanImageForm.Designer.cs insert sucsscfull.\n"
     ]
    },
    {
     "name": "stderr",
     "output_type": "stream",
     "text": [
      "The attention mask and the pad token id were not set. As a consequence, you may observe unexpected behavior. Please pass your input's `attention_mask` to obtain reliable results.\n",
      "Setting `pad_token_id` to `eos_token_id`:None for open-end generation.\n"
     ]
    },
    {
     "name": "stdout",
     "output_type": "stream",
     "text": [
      "28: ../data/AMC/AMC/CheckUserFrm.cs insert sucsscfull.\n"
     ]
    },
    {
     "name": "stderr",
     "output_type": "stream",
     "text": [
      "The attention mask and the pad token id were not set. As a consequence, you may observe unexpected behavior. Please pass your input's `attention_mask` to obtain reliable results.\n",
      "Setting `pad_token_id` to `eos_token_id`:None for open-end generation.\n"
     ]
    },
    {
     "name": "stdout",
     "output_type": "stream",
     "text": [
      "29: ../data/AMC/AMC/CheckUserFrm.Designer.cs insert sucsscfull.\n"
     ]
    },
    {
     "name": "stderr",
     "output_type": "stream",
     "text": [
      "The attention mask and the pad token id were not set. As a consequence, you may observe unexpected behavior. Please pass your input's `attention_mask` to obtain reliable results.\n",
      "Setting `pad_token_id` to `eos_token_id`:None for open-end generation.\n"
     ]
    },
    {
     "name": "stdout",
     "output_type": "stream",
     "text": [
      "30: ../data/AMC/AMC/CScanPic.cs insert sucsscfull.\n"
     ]
    },
    {
     "name": "stderr",
     "output_type": "stream",
     "text": [
      "The attention mask and the pad token id were not set. As a consequence, you may observe unexpected behavior. Please pass your input's `attention_mask` to obtain reliable results.\n",
      "Setting `pad_token_id` to `eos_token_id`:None for open-end generation.\n"
     ]
    },
    {
     "name": "stdout",
     "output_type": "stream",
     "text": [
      "31: ../data/AMC/AMC/CScanPic.Designer.cs insert sucsscfull.\n"
     ]
    },
    {
     "name": "stderr",
     "output_type": "stream",
     "text": [
      "The attention mask and the pad token id were not set. As a consequence, you may observe unexpected behavior. Please pass your input's `attention_mask` to obtain reliable results.\n",
      "Setting `pad_token_id` to `eos_token_id`:None for open-end generation.\n"
     ]
    },
    {
     "name": "stdout",
     "output_type": "stream",
     "text": [
      "32: ../data/AMC/AMC/ExternalIterface.cs insert sucsscfull.\n"
     ]
    },
    {
     "name": "stderr",
     "output_type": "stream",
     "text": [
      "The attention mask and the pad token id were not set. As a consequence, you may observe unexpected behavior. Please pass your input's `attention_mask` to obtain reliable results.\n",
      "Setting `pad_token_id` to `eos_token_id`:None for open-end generation.\n"
     ]
    },
    {
     "name": "stdout",
     "output_type": "stream",
     "text": [
      "33: ../data/AMC/AMC/FftForm.cs insert sucsscfull.\n"
     ]
    },
    {
     "name": "stderr",
     "output_type": "stream",
     "text": [
      "The attention mask and the pad token id were not set. As a consequence, you may observe unexpected behavior. Please pass your input's `attention_mask` to obtain reliable results.\n",
      "Setting `pad_token_id` to `eos_token_id`:None for open-end generation.\n"
     ]
    },
    {
     "name": "stdout",
     "output_type": "stream",
     "text": [
      "34: ../data/AMC/AMC/FftForm.Designer.cs insert sucsscfull.\n"
     ]
    },
    {
     "name": "stderr",
     "output_type": "stream",
     "text": [
      "The attention mask and the pad token id were not set. As a consequence, you may observe unexpected behavior. Please pass your input's `attention_mask` to obtain reliable results.\n",
      "Setting `pad_token_id` to `eos_token_id`:None for open-end generation.\n"
     ]
    },
    {
     "name": "stdout",
     "output_type": "stream",
     "text": [
      "35: ../data/AMC/AMC/Form1.cs insert sucsscfull.\n"
     ]
    },
    {
     "name": "stderr",
     "output_type": "stream",
     "text": [
      "The attention mask and the pad token id were not set. As a consequence, you may observe unexpected behavior. Please pass your input's `attention_mask` to obtain reliable results.\n",
      "Setting `pad_token_id` to `eos_token_id`:None for open-end generation.\n"
     ]
    },
    {
     "name": "stdout",
     "output_type": "stream",
     "text": [
      "36: ../data/AMC/AMC/Form1.Designer.cs insert sucsscfull.\n"
     ]
    },
    {
     "name": "stderr",
     "output_type": "stream",
     "text": [
      "The attention mask and the pad token id were not set. As a consequence, you may observe unexpected behavior. Please pass your input's `attention_mask` to obtain reliable results.\n",
      "Setting `pad_token_id` to `eos_token_id`:None for open-end generation.\n"
     ]
    },
    {
     "name": "stdout",
     "output_type": "stream",
     "text": [
      "37: ../data/AMC/AMC/Form1_AutoScan.Designer.cs insert sucsscfull.\n"
     ]
    },
    {
     "name": "stderr",
     "output_type": "stream",
     "text": [
      "The attention mask and the pad token id were not set. As a consequence, you may observe unexpected behavior. Please pass your input's `attention_mask` to obtain reliable results.\n",
      "Setting `pad_token_id` to `eos_token_id`:None for open-end generation.\n"
     ]
    },
    {
     "name": "stdout",
     "output_type": "stream",
     "text": [
      "38: ../data/AMC/AMC/Form1_DataManager.Designer.cs insert sucsscfull.\n"
     ]
    },
    {
     "name": "stderr",
     "output_type": "stream",
     "text": [
      "The attention mask and the pad token id were not set. As a consequence, you may observe unexpected behavior. Please pass your input's `attention_mask` to obtain reliable results.\n",
      "Setting `pad_token_id` to `eos_token_id`:None for open-end generation.\n"
     ]
    },
    {
     "name": "stdout",
     "output_type": "stream",
     "text": [
      "39: ../data/AMC/AMC/Form1_DataProcess.Designer.cs insert sucsscfull.\n"
     ]
    },
    {
     "name": "stderr",
     "output_type": "stream",
     "text": [
      "The attention mask and the pad token id were not set. As a consequence, you may observe unexpected behavior. Please pass your input's `attention_mask` to obtain reliable results.\n",
      "Setting `pad_token_id` to `eos_token_id`:None for open-end generation.\n"
     ]
    },
    {
     "name": "stdout",
     "output_type": "stream",
     "text": [
      "40: ../data/AMC/AMC/Form1_Gail.Designer.cs insert sucsscfull.\n"
     ]
    },
    {
     "name": "stderr",
     "output_type": "stream",
     "text": [
      "The attention mask and the pad token id were not set. As a consequence, you may observe unexpected behavior. Please pass your input's `attention_mask` to obtain reliable results.\n",
      "Setting `pad_token_id` to `eos_token_id`:None for open-end generation.\n"
     ]
    },
    {
     "name": "stdout",
     "output_type": "stream",
     "text": [
      "41: ../data/AMC/AMC/Form1_Task.Designer.cs insert sucsscfull.\n"
     ]
    },
    {
     "name": "stderr",
     "output_type": "stream",
     "text": [
      "The attention mask and the pad token id were not set. As a consequence, you may observe unexpected behavior. Please pass your input's `attention_mask` to obtain reliable results.\n",
      "Setting `pad_token_id` to `eos_token_id`:None for open-end generation.\n"
     ]
    },
    {
     "name": "stdout",
     "output_type": "stream",
     "text": [
      "42: ../data/AMC/AMC/Form1_Test.Designer.cs insert sucsscfull.\n"
     ]
    },
    {
     "name": "stderr",
     "output_type": "stream",
     "text": [
      "The attention mask and the pad token id were not set. As a consequence, you may observe unexpected behavior. Please pass your input's `attention_mask` to obtain reliable results.\n",
      "Setting `pad_token_id` to `eos_token_id`:None for open-end generation.\n"
     ]
    },
    {
     "name": "stdout",
     "output_type": "stream",
     "text": [
      "43: ../data/AMC/AMC/FreqPara.cs insert sucsscfull.\n"
     ]
    },
    {
     "name": "stderr",
     "output_type": "stream",
     "text": [
      "The attention mask and the pad token id were not set. As a consequence, you may observe unexpected behavior. Please pass your input's `attention_mask` to obtain reliable results.\n",
      "Setting `pad_token_id` to `eos_token_id`:None for open-end generation.\n"
     ]
    },
    {
     "name": "stdout",
     "output_type": "stream",
     "text": [
      "44: ../data/AMC/AMC/FreqPara.Designer.cs insert sucsscfull.\n"
     ]
    },
    {
     "name": "stderr",
     "output_type": "stream",
     "text": [
      "The attention mask and the pad token id were not set. As a consequence, you may observe unexpected behavior. Please pass your input's `attention_mask` to obtain reliable results.\n",
      "Setting `pad_token_id` to `eos_token_id`:None for open-end generation.\n"
     ]
    },
    {
     "name": "stdout",
     "output_type": "stream",
     "text": [
      "45: ../data/AMC/AMC/frmMark.cs insert sucsscfull.\n"
     ]
    },
    {
     "name": "stderr",
     "output_type": "stream",
     "text": [
      "The attention mask and the pad token id were not set. As a consequence, you may observe unexpected behavior. Please pass your input's `attention_mask` to obtain reliable results.\n",
      "Setting `pad_token_id` to `eos_token_id`:None for open-end generation.\n"
     ]
    },
    {
     "name": "stdout",
     "output_type": "stream",
     "text": [
      "46: ../data/AMC/AMC/frmMark.Designer.cs insert sucsscfull.\n"
     ]
    },
    {
     "name": "stderr",
     "output_type": "stream",
     "text": [
      "The attention mask and the pad token id were not set. As a consequence, you may observe unexpected behavior. Please pass your input's `attention_mask` to obtain reliable results.\n",
      "Setting `pad_token_id` to `eos_token_id`:None for open-end generation.\n"
     ]
    },
    {
     "name": "stdout",
     "output_type": "stream",
     "text": [
      "47: ../data/AMC/AMC/frmRemarkList.cs insert sucsscfull.\n"
     ]
    },
    {
     "name": "stderr",
     "output_type": "stream",
     "text": [
      "The attention mask and the pad token id were not set. As a consequence, you may observe unexpected behavior. Please pass your input's `attention_mask` to obtain reliable results.\n",
      "Setting `pad_token_id` to `eos_token_id`:None for open-end generation.\n"
     ]
    },
    {
     "name": "stdout",
     "output_type": "stream",
     "text": [
      "48: ../data/AMC/AMC/frmRemarkList.Designer.cs insert sucsscfull.\n"
     ]
    },
    {
     "name": "stderr",
     "output_type": "stream",
     "text": [
      "The attention mask and the pad token id were not set. As a consequence, you may observe unexpected behavior. Please pass your input's `attention_mask` to obtain reliable results.\n",
      "Setting `pad_token_id` to `eos_token_id`:None for open-end generation.\n"
     ]
    },
    {
     "name": "stdout",
     "output_type": "stream",
     "text": [
      "49: ../data/AMC/AMC/JSRControlForm.cs insert sucsscfull.\n"
     ]
    },
    {
     "name": "stderr",
     "output_type": "stream",
     "text": [
      "The attention mask and the pad token id were not set. As a consequence, you may observe unexpected behavior. Please pass your input's `attention_mask` to obtain reliable results.\n",
      "Setting `pad_token_id` to `eos_token_id`:None for open-end generation.\n"
     ]
    },
    {
     "name": "stdout",
     "output_type": "stream",
     "text": [
      "50: ../data/AMC/AMC/JSRControlForm.Designer.cs insert sucsscfull.\n"
     ]
    },
    {
     "name": "stderr",
     "output_type": "stream",
     "text": [
      "The attention mask and the pad token id were not set. As a consequence, you may observe unexpected behavior. Please pass your input's `attention_mask` to obtain reliable results.\n",
      "Setting `pad_token_id` to `eos_token_id`:None for open-end generation.\n"
     ]
    },
    {
     "name": "stdout",
     "output_type": "stream",
     "text": [
      "51: ../data/AMC/AMC/LayoutControl1.cs insert sucsscfull.\n"
     ]
    },
    {
     "name": "stderr",
     "output_type": "stream",
     "text": [
      "The attention mask and the pad token id were not set. As a consequence, you may observe unexpected behavior. Please pass your input's `attention_mask` to obtain reliable results.\n",
      "Setting `pad_token_id` to `eos_token_id`:None for open-end generation.\n"
     ]
    },
    {
     "name": "stdout",
     "output_type": "stream",
     "text": [
      "52: ../data/AMC/AMC/LayoutControl1.designer.cs insert sucsscfull.\n"
     ]
    },
    {
     "name": "stderr",
     "output_type": "stream",
     "text": [
      "The attention mask and the pad token id were not set. As a consequence, you may observe unexpected behavior. Please pass your input's `attention_mask` to obtain reliable results.\n",
      "Setting `pad_token_id` to `eos_token_id`:None for open-end generation.\n"
     ]
    },
    {
     "name": "stdout",
     "output_type": "stream",
     "text": [
      "53: ../data/AMC/AMC/LayoutSet.cs insert sucsscfull.\n"
     ]
    },
    {
     "name": "stderr",
     "output_type": "stream",
     "text": [
      "The attention mask and the pad token id were not set. As a consequence, you may observe unexpected behavior. Please pass your input's `attention_mask` to obtain reliable results.\n",
      "Setting `pad_token_id` to `eos_token_id`:None for open-end generation.\n"
     ]
    },
    {
     "name": "stdout",
     "output_type": "stream",
     "text": [
      "54: ../data/AMC/AMC/LayoutSet.designer.cs insert sucsscfull.\n"
     ]
    },
    {
     "name": "stderr",
     "output_type": "stream",
     "text": [
      "The attention mask and the pad token id were not set. As a consequence, you may observe unexpected behavior. Please pass your input's `attention_mask` to obtain reliable results.\n",
      "Setting `pad_token_id` to `eos_token_id`:None for open-end generation.\n"
     ]
    },
    {
     "name": "stdout",
     "output_type": "stream",
     "text": [
      "55: ../data/AMC/AMC/LoadingForm.cs insert sucsscfull.\n"
     ]
    },
    {
     "name": "stderr",
     "output_type": "stream",
     "text": [
      "The attention mask and the pad token id were not set. As a consequence, you may observe unexpected behavior. Please pass your input's `attention_mask` to obtain reliable results.\n",
      "Setting `pad_token_id` to `eos_token_id`:None for open-end generation.\n"
     ]
    },
    {
     "name": "stdout",
     "output_type": "stream",
     "text": [
      "56: ../data/AMC/AMC/LoadingForm.Designer.cs insert sucsscfull.\n"
     ]
    },
    {
     "name": "stderr",
     "output_type": "stream",
     "text": [
      "The attention mask and the pad token id were not set. As a consequence, you may observe unexpected behavior. Please pass your input's `attention_mask` to obtain reliable results.\n",
      "Setting `pad_token_id` to `eos_token_id`:None for open-end generation.\n"
     ]
    },
    {
     "name": "stdout",
     "output_type": "stream",
     "text": [
      "57: ../data/AMC/AMC/LoadingHelper.cs insert sucsscfull.\n"
     ]
    },
    {
     "name": "stderr",
     "output_type": "stream",
     "text": [
      "The attention mask and the pad token id were not set. As a consequence, you may observe unexpected behavior. Please pass your input's `attention_mask` to obtain reliable results.\n",
      "Setting `pad_token_id` to `eos_token_id`:None for open-end generation.\n"
     ]
    },
    {
     "name": "stdout",
     "output_type": "stream",
     "text": [
      "58: ../data/AMC/AMC/LoginForm.cs insert sucsscfull.\n"
     ]
    },
    {
     "name": "stderr",
     "output_type": "stream",
     "text": [
      "The attention mask and the pad token id were not set. As a consequence, you may observe unexpected behavior. Please pass your input's `attention_mask` to obtain reliable results.\n",
      "Setting `pad_token_id` to `eos_token_id`:None for open-end generation.\n"
     ]
    },
    {
     "name": "stdout",
     "output_type": "stream",
     "text": [
      "59: ../data/AMC/AMC/LoginForm.designer.cs insert sucsscfull.\n"
     ]
    },
    {
     "name": "stderr",
     "output_type": "stream",
     "text": [
      "The attention mask and the pad token id were not set. As a consequence, you may observe unexpected behavior. Please pass your input's `attention_mask` to obtain reliable results.\n",
      "Setting `pad_token_id` to `eos_token_id`:None for open-end generation.\n"
     ]
    },
    {
     "name": "stdout",
     "output_type": "stream",
     "text": [
      "60: ../data/AMC/AMC/MeasurePareFrm.cs insert sucsscfull.\n"
     ]
    },
    {
     "name": "stderr",
     "output_type": "stream",
     "text": [
      "The attention mask and the pad token id were not set. As a consequence, you may observe unexpected behavior. Please pass your input's `attention_mask` to obtain reliable results.\n",
      "Setting `pad_token_id` to `eos_token_id`:None for open-end generation.\n"
     ]
    },
    {
     "name": "stdout",
     "output_type": "stream",
     "text": [
      "61: ../data/AMC/AMC/MeasurePareFrm.Designer.cs insert sucsscfull.\n"
     ]
    },
    {
     "name": "stderr",
     "output_type": "stream",
     "text": [
      "The attention mask and the pad token id were not set. As a consequence, you may observe unexpected behavior. Please pass your input's `attention_mask` to obtain reliable results.\n",
      "Setting `pad_token_id` to `eos_token_id`:None for open-end generation.\n"
     ]
    },
    {
     "name": "stdout",
     "output_type": "stream",
     "text": [
      "62: ../data/AMC/AMC/MeasureVzForm.cs insert sucsscfull.\n"
     ]
    },
    {
     "name": "stderr",
     "output_type": "stream",
     "text": [
      "The attention mask and the pad token id were not set. As a consequence, you may observe unexpected behavior. Please pass your input's `attention_mask` to obtain reliable results.\n",
      "Setting `pad_token_id` to `eos_token_id`:None for open-end generation.\n"
     ]
    },
    {
     "name": "stdout",
     "output_type": "stream",
     "text": [
      "63: ../data/AMC/AMC/MeasureVzForm.Designer.cs insert sucsscfull.\n"
     ]
    },
    {
     "name": "stderr",
     "output_type": "stream",
     "text": [
      "The attention mask and the pad token id were not set. As a consequence, you may observe unexpected behavior. Please pass your input's `attention_mask` to obtain reliable results.\n",
      "Setting `pad_token_id` to `eos_token_id`:None for open-end generation.\n"
     ]
    },
    {
     "name": "stdout",
     "output_type": "stream",
     "text": [
      "64: ../data/AMC/AMC/MyAscan.cs insert sucsscfull.\n"
     ]
    },
    {
     "name": "stderr",
     "output_type": "stream",
     "text": [
      "The attention mask and the pad token id were not set. As a consequence, you may observe unexpected behavior. Please pass your input's `attention_mask` to obtain reliable results.\n",
      "Setting `pad_token_id` to `eos_token_id`:None for open-end generation.\n"
     ]
    },
    {
     "name": "stdout",
     "output_type": "stream",
     "text": [
      "65: ../data/AMC/AMC/MyAscan.Designer.cs insert sucsscfull.\n"
     ]
    },
    {
     "name": "stderr",
     "output_type": "stream",
     "text": [
      "The attention mask and the pad token id were not set. As a consequence, you may observe unexpected behavior. Please pass your input's `attention_mask` to obtain reliable results.\n",
      "Setting `pad_token_id` to `eos_token_id`:None for open-end generation.\n"
     ]
    },
    {
     "name": "stdout",
     "output_type": "stream",
     "text": [
      "66: ../data/AMC/AMC/MyAscanOffline.cs insert sucsscfull.\n"
     ]
    },
    {
     "name": "stderr",
     "output_type": "stream",
     "text": [
      "The attention mask and the pad token id were not set. As a consequence, you may observe unexpected behavior. Please pass your input's `attention_mask` to obtain reliable results.\n",
      "Setting `pad_token_id` to `eos_token_id`:None for open-end generation.\n"
     ]
    },
    {
     "name": "stdout",
     "output_type": "stream",
     "text": [
      "67: ../data/AMC/AMC/MyAscanOffline.Designer.cs insert sucsscfull.\n"
     ]
    },
    {
     "name": "stderr",
     "output_type": "stream",
     "text": [
      "The attention mask and the pad token id were not set. As a consequence, you may observe unexpected behavior. Please pass your input's `attention_mask` to obtain reliable results.\n",
      "Setting `pad_token_id` to `eos_token_id`:None for open-end generation.\n"
     ]
    },
    {
     "name": "stdout",
     "output_type": "stream",
     "text": [
      "68: ../data/AMC/AMC/OfflineCScanPic.cs insert sucsscfull.\n"
     ]
    },
    {
     "name": "stderr",
     "output_type": "stream",
     "text": [
      "The attention mask and the pad token id were not set. As a consequence, you may observe unexpected behavior. Please pass your input's `attention_mask` to obtain reliable results.\n",
      "Setting `pad_token_id` to `eos_token_id`:None for open-end generation.\n"
     ]
    },
    {
     "name": "stdout",
     "output_type": "stream",
     "text": [
      "69: ../data/AMC/AMC/OfflineCScanPic.Designer.cs insert sucsscfull.\n"
     ]
    },
    {
     "name": "stderr",
     "output_type": "stream",
     "text": [
      "The attention mask and the pad token id were not set. As a consequence, you may observe unexpected behavior. Please pass your input's `attention_mask` to obtain reliable results.\n",
      "Setting `pad_token_id` to `eos_token_id`:None for open-end generation.\n"
     ]
    },
    {
     "name": "stdout",
     "output_type": "stream",
     "text": [
      "70: ../data/AMC/AMC/OutlookSettingForm.cs insert sucsscfull.\n"
     ]
    },
    {
     "name": "stderr",
     "output_type": "stream",
     "text": [
      "The attention mask and the pad token id were not set. As a consequence, you may observe unexpected behavior. Please pass your input's `attention_mask` to obtain reliable results.\n",
      "Setting `pad_token_id` to `eos_token_id`:None for open-end generation.\n"
     ]
    },
    {
     "name": "stdout",
     "output_type": "stream",
     "text": [
      "71: ../data/AMC/AMC/OutlookSettingForm.Designer.cs insert sucsscfull.\n"
     ]
    },
    {
     "name": "stderr",
     "output_type": "stream",
     "text": [
      "The attention mask and the pad token id were not set. As a consequence, you may observe unexpected behavior. Please pass your input's `attention_mask` to obtain reliable results.\n",
      "Setting `pad_token_id` to `eos_token_id`:None for open-end generation.\n"
     ]
    },
    {
     "name": "stdout",
     "output_type": "stream",
     "text": [
      "72: ../data/AMC/AMC/Program.cs insert sucsscfull.\n"
     ]
    },
    {
     "name": "stderr",
     "output_type": "stream",
     "text": [
      "The attention mask and the pad token id were not set. As a consequence, you may observe unexpected behavior. Please pass your input's `attention_mask` to obtain reliable results.\n",
      "Setting `pad_token_id` to `eos_token_id`:None for open-end generation.\n"
     ]
    },
    {
     "name": "stdout",
     "output_type": "stream",
     "text": [
      "73: ../data/AMC/AMC/Resource1.Designer.cs insert sucsscfull.\n"
     ]
    },
    {
     "name": "stderr",
     "output_type": "stream",
     "text": [
      "The attention mask and the pad token id were not set. As a consequence, you may observe unexpected behavior. Please pass your input's `attention_mask` to obtain reliable results.\n",
      "Setting `pad_token_id` to `eos_token_id`:None for open-end generation.\n"
     ]
    },
    {
     "name": "stdout",
     "output_type": "stream",
     "text": [
      "74: ../data/AMC/AMC/SecondFrm.cs insert sucsscfull.\n"
     ]
    },
    {
     "name": "stderr",
     "output_type": "stream",
     "text": [
      "The attention mask and the pad token id were not set. As a consequence, you may observe unexpected behavior. Please pass your input's `attention_mask` to obtain reliable results.\n",
      "Setting `pad_token_id` to `eos_token_id`:None for open-end generation.\n"
     ]
    },
    {
     "name": "stdout",
     "output_type": "stream",
     "text": [
      "75: ../data/AMC/AMC/SecondFrm.Designer.cs insert sucsscfull.\n"
     ]
    },
    {
     "name": "stderr",
     "output_type": "stream",
     "text": [
      "The attention mask and the pad token id were not set. As a consequence, you may observe unexpected behavior. Please pass your input's `attention_mask` to obtain reliable results.\n",
      "Setting `pad_token_id` to `eos_token_id`:None for open-end generation.\n"
     ]
    },
    {
     "name": "stdout",
     "output_type": "stream",
     "text": [
      "76: ../data/AMC/AMC/SelectImgStyle.cs insert sucsscfull.\n"
     ]
    },
    {
     "name": "stderr",
     "output_type": "stream",
     "text": [
      "The attention mask and the pad token id were not set. As a consequence, you may observe unexpected behavior. Please pass your input's `attention_mask` to obtain reliable results.\n",
      "Setting `pad_token_id` to `eos_token_id`:None for open-end generation.\n"
     ]
    },
    {
     "name": "stdout",
     "output_type": "stream",
     "text": [
      "77: ../data/AMC/AMC/SelectImgStyle.Designer.cs insert sucsscfull.\n"
     ]
    },
    {
     "name": "stderr",
     "output_type": "stream",
     "text": [
      "The attention mask and the pad token id were not set. As a consequence, you may observe unexpected behavior. Please pass your input's `attention_mask` to obtain reliable results.\n",
      "Setting `pad_token_id` to `eos_token_id`:None for open-end generation.\n"
     ]
    },
    {
     "name": "stdout",
     "output_type": "stream",
     "text": [
      "78: ../data/AMC/AMC/SelfDefineImgSizeFrm.cs insert sucsscfull.\n"
     ]
    },
    {
     "name": "stderr",
     "output_type": "stream",
     "text": [
      "The attention mask and the pad token id were not set. As a consequence, you may observe unexpected behavior. Please pass your input's `attention_mask` to obtain reliable results.\n",
      "Setting `pad_token_id` to `eos_token_id`:None for open-end generation.\n"
     ]
    },
    {
     "name": "stdout",
     "output_type": "stream",
     "text": [
      "79: ../data/AMC/AMC/SelfDefineImgSizeFrm.Designer.cs insert sucsscfull.\n"
     ]
    },
    {
     "name": "stderr",
     "output_type": "stream",
     "text": [
      "The attention mask and the pad token id were not set. As a consequence, you may observe unexpected behavior. Please pass your input's `attention_mask` to obtain reliable results.\n",
      "Setting `pad_token_id` to `eos_token_id`:None for open-end generation.\n"
     ]
    },
    {
     "name": "stdout",
     "output_type": "stream",
     "text": [
      "80: ../data/AMC/AMC/SuspendForm.cs insert sucsscfull.\n"
     ]
    },
    {
     "name": "stderr",
     "output_type": "stream",
     "text": [
      "The attention mask and the pad token id were not set. As a consequence, you may observe unexpected behavior. Please pass your input's `attention_mask` to obtain reliable results.\n",
      "Setting `pad_token_id` to `eos_token_id`:None for open-end generation.\n"
     ]
    },
    {
     "name": "stdout",
     "output_type": "stream",
     "text": [
      "81: ../data/AMC/AMC/SuspendForm.Designer.cs insert sucsscfull.\n"
     ]
    },
    {
     "name": "stderr",
     "output_type": "stream",
     "text": [
      "The attention mask and the pad token id were not set. As a consequence, you may observe unexpected behavior. Please pass your input's `attention_mask` to obtain reliable results.\n",
      "Setting `pad_token_id` to `eos_token_id`:None for open-end generation.\n"
     ]
    },
    {
     "name": "stdout",
     "output_type": "stream",
     "text": [
      "82: ../data/AMC/AMC/UMSpdf.cs insert sucsscfull.\n"
     ]
    },
    {
     "name": "stderr",
     "output_type": "stream",
     "text": [
      "The attention mask and the pad token id were not set. As a consequence, you may observe unexpected behavior. Please pass your input's `attention_mask` to obtain reliable results.\n",
      "Setting `pad_token_id` to `eos_token_id`:None for open-end generation.\n"
     ]
    },
    {
     "name": "stdout",
     "output_type": "stream",
     "text": [
      "83: ../data/AMC/AMC/UMSpdf.Designer.cs insert sucsscfull.\n"
     ]
    },
    {
     "name": "stderr",
     "output_type": "stream",
     "text": [
      "The attention mask and the pad token id were not set. As a consequence, you may observe unexpected behavior. Please pass your input's `attention_mask` to obtain reliable results.\n",
      "Setting `pad_token_id` to `eos_token_id`:None for open-end generation.\n"
     ]
    },
    {
     "name": "stdout",
     "output_type": "stream",
     "text": [
      "84: ../data/AMC/AMC/UserControlRegion.cs insert sucsscfull.\n"
     ]
    },
    {
     "name": "stderr",
     "output_type": "stream",
     "text": [
      "The attention mask and the pad token id were not set. As a consequence, you may observe unexpected behavior. Please pass your input's `attention_mask` to obtain reliable results.\n",
      "Setting `pad_token_id` to `eos_token_id`:None for open-end generation.\n"
     ]
    },
    {
     "name": "stdout",
     "output_type": "stream",
     "text": [
      "85: ../data/AMC/AMC/UserControlRegion.designer.cs insert sucsscfull.\n"
     ]
    },
    {
     "name": "stderr",
     "output_type": "stream",
     "text": [
      "The attention mask and the pad token id were not set. As a consequence, you may observe unexpected behavior. Please pass your input's `attention_mask` to obtain reliable results.\n",
      "Setting `pad_token_id` to `eos_token_id`:None for open-end generation.\n"
     ]
    },
    {
     "name": "stdout",
     "output_type": "stream",
     "text": [
      "86: ../data/AMC/AMC/WaitForm1.cs insert sucsscfull.\n"
     ]
    },
    {
     "name": "stderr",
     "output_type": "stream",
     "text": [
      "The attention mask and the pad token id were not set. As a consequence, you may observe unexpected behavior. Please pass your input's `attention_mask` to obtain reliable results.\n",
      "Setting `pad_token_id` to `eos_token_id`:None for open-end generation.\n"
     ]
    },
    {
     "name": "stdout",
     "output_type": "stream",
     "text": [
      "87: ../data/AMC/AMC/WaitForm1.designer.cs insert sucsscfull.\n"
     ]
    },
    {
     "name": "stderr",
     "output_type": "stream",
     "text": [
      "The attention mask and the pad token id were not set. As a consequence, you may observe unexpected behavior. Please pass your input's `attention_mask` to obtain reliable results.\n",
      "Setting `pad_token_id` to `eos_token_id`:None for open-end generation.\n"
     ]
    },
    {
     "name": "stdout",
     "output_type": "stream",
     "text": [
      "88: ../data/AMC/AMC/WaveOffsetForm.cs insert sucsscfull.\n"
     ]
    },
    {
     "name": "stderr",
     "output_type": "stream",
     "text": [
      "The attention mask and the pad token id were not set. As a consequence, you may observe unexpected behavior. Please pass your input's `attention_mask` to obtain reliable results.\n",
      "Setting `pad_token_id` to `eos_token_id`:None for open-end generation.\n"
     ]
    },
    {
     "name": "stdout",
     "output_type": "stream",
     "text": [
      "89: ../data/AMC/AMC/WaveOffsetForm.Designer.cs insert sucsscfull.\n"
     ]
    },
    {
     "name": "stderr",
     "output_type": "stream",
     "text": [
      "The attention mask and the pad token id were not set. As a consequence, you may observe unexpected behavior. Please pass your input's `attention_mask` to obtain reliable results.\n",
      "Setting `pad_token_id` to `eos_token_id`:None for open-end generation.\n"
     ]
    },
    {
     "name": "stdout",
     "output_type": "stream",
     "text": [
      "90: ../data/AMC/AMC/WaveSetting.cs insert sucsscfull.\n"
     ]
    },
    {
     "name": "stderr",
     "output_type": "stream",
     "text": [
      "The attention mask and the pad token id were not set. As a consequence, you may observe unexpected behavior. Please pass your input's `attention_mask` to obtain reliable results.\n",
      "Setting `pad_token_id` to `eos_token_id`:None for open-end generation.\n"
     ]
    },
    {
     "name": "stdout",
     "output_type": "stream",
     "text": [
      "91: ../data/AMC/AMC/WorkPartSet.cs insert sucsscfull.\n"
     ]
    },
    {
     "name": "stderr",
     "output_type": "stream",
     "text": [
      "The attention mask and the pad token id were not set. As a consequence, you may observe unexpected behavior. Please pass your input's `attention_mask` to obtain reliable results.\n",
      "Setting `pad_token_id` to `eos_token_id`:None for open-end generation.\n"
     ]
    },
    {
     "name": "stdout",
     "output_type": "stream",
     "text": [
      "92: ../data/AMC/AMC/WorkPartSet.designer.cs insert sucsscfull.\n"
     ]
    },
    {
     "name": "stderr",
     "output_type": "stream",
     "text": [
      "The attention mask and the pad token id were not set. As a consequence, you may observe unexpected behavior. Please pass your input's `attention_mask` to obtain reliable results.\n",
      "Setting `pad_token_id` to `eos_token_id`:None for open-end generation.\n"
     ]
    },
    {
     "name": "stdout",
     "output_type": "stream",
     "text": [
      "93: ../data/AMC/AMC/WorkpieceStatus.cs insert sucsscfull.\n"
     ]
    },
    {
     "name": "stderr",
     "output_type": "stream",
     "text": [
      "The attention mask and the pad token id were not set. As a consequence, you may observe unexpected behavior. Please pass your input's `attention_mask` to obtain reliable results.\n",
      "Setting `pad_token_id` to `eos_token_id`:None for open-end generation.\n"
     ]
    },
    {
     "name": "stdout",
     "output_type": "stream",
     "text": [
      "94: ../data/AMC/AMC/WorkpieceStatus.Designer.cs insert sucsscfull.\n"
     ]
    },
    {
     "name": "stderr",
     "output_type": "stream",
     "text": [
      "The attention mask and the pad token id were not set. As a consequence, you may observe unexpected behavior. Please pass your input's `attention_mask` to obtain reliable results.\n",
      "Setting `pad_token_id` to `eos_token_id`:None for open-end generation.\n"
     ]
    },
    {
     "name": "stdout",
     "output_type": "stream",
     "text": [
      "95: ../data/AMC/AMC/AutoScan/AbstractAutoScanTask.cs insert sucsscfull.\n"
     ]
    },
    {
     "name": "stderr",
     "output_type": "stream",
     "text": [
      "The attention mask and the pad token id were not set. As a consequence, you may observe unexpected behavior. Please pass your input's `attention_mask` to obtain reliable results.\n",
      "Setting `pad_token_id` to `eos_token_id`:None for open-end generation.\n"
     ]
    },
    {
     "name": "stdout",
     "output_type": "stream",
     "text": [
      "96: ../data/AMC/AMC/AutoScan/AutoScanLog.cs insert sucsscfull.\n"
     ]
    },
    {
     "name": "stderr",
     "output_type": "stream",
     "text": [
      "The attention mask and the pad token id were not set. As a consequence, you may observe unexpected behavior. Please pass your input's `attention_mask` to obtain reliable results.\n",
      "Setting `pad_token_id` to `eos_token_id`:None for open-end generation.\n"
     ]
    },
    {
     "name": "stdout",
     "output_type": "stream",
     "text": [
      "97: ../data/AMC/AMC/AutoScan/AutoScanParallelTask.cs insert sucsscfull.\n"
     ]
    },
    {
     "name": "stderr",
     "output_type": "stream",
     "text": [
      "The attention mask and the pad token id were not set. As a consequence, you may observe unexpected behavior. Please pass your input's `attention_mask` to obtain reliable results.\n",
      "Setting `pad_token_id` to `eos_token_id`:None for open-end generation.\n"
     ]
    },
    {
     "name": "stdout",
     "output_type": "stream",
     "text": [
      "98: ../data/AMC/AMC/AutoScan/AutoScanSerialTask.cs insert sucsscfull.\n"
     ]
    },
    {
     "name": "stderr",
     "output_type": "stream",
     "text": [
      "The attention mask and the pad token id were not set. As a consequence, you may observe unexpected behavior. Please pass your input's `attention_mask` to obtain reliable results.\n",
      "Setting `pad_token_id` to `eos_token_id`:None for open-end generation.\n"
     ]
    },
    {
     "name": "stdout",
     "output_type": "stream",
     "text": [
      "99: ../data/AMC/AMC/AutoScan/PlcCommand.cs insert sucsscfull.\n"
     ]
    },
    {
     "name": "stderr",
     "output_type": "stream",
     "text": [
      "The attention mask and the pad token id were not set. As a consequence, you may observe unexpected behavior. Please pass your input's `attention_mask` to obtain reliable results.\n",
      "Setting `pad_token_id` to `eos_token_id`:None for open-end generation.\n"
     ]
    },
    {
     "name": "stdout",
     "output_type": "stream",
     "text": [
      "100: ../data/AMC/AMC/AutoScan/PointXYZ.cs insert sucsscfull.\n"
     ]
    },
    {
     "name": "stderr",
     "output_type": "stream",
     "text": [
      "The attention mask and the pad token id were not set. As a consequence, you may observe unexpected behavior. Please pass your input's `attention_mask` to obtain reliable results.\n",
      "Setting `pad_token_id` to `eos_token_id`:None for open-end generation.\n"
     ]
    },
    {
     "name": "stdout",
     "output_type": "stream",
     "text": [
      "101: ../data/AMC/AMC/AutoScan/RobotStatus.cs insert sucsscfull.\n"
     ]
    },
    {
     "name": "stderr",
     "output_type": "stream",
     "text": [
      "The attention mask and the pad token id were not set. As a consequence, you may observe unexpected behavior. Please pass your input's `attention_mask` to obtain reliable results.\n",
      "Setting `pad_token_id` to `eos_token_id`:None for open-end generation.\n"
     ]
    },
    {
     "name": "stdout",
     "output_type": "stream",
     "text": [
      "102: ../data/AMC/AMC/AutoScan/UI_MonitorIO.cs insert sucsscfull.\n"
     ]
    },
    {
     "name": "stderr",
     "output_type": "stream",
     "text": [
      "The attention mask and the pad token id were not set. As a consequence, you may observe unexpected behavior. Please pass your input's `attention_mask` to obtain reliable results.\n",
      "Setting `pad_token_id` to `eos_token_id`:None for open-end generation.\n"
     ]
    },
    {
     "name": "stdout",
     "output_type": "stream",
     "text": [
      "103: ../data/AMC/AMC/AutoScan/UI_MonitorIO.designer.cs insert sucsscfull.\n"
     ]
    },
    {
     "name": "stderr",
     "output_type": "stream",
     "text": [
      "The attention mask and the pad token id were not set. As a consequence, you may observe unexpected behavior. Please pass your input's `attention_mask` to obtain reliable results.\n",
      "Setting `pad_token_id` to `eos_token_id`:None for open-end generation.\n"
     ]
    },
    {
     "name": "stdout",
     "output_type": "stream",
     "text": [
      "104: ../data/AMC/AMC/AutoScan/WorkPieceAuto.cs insert sucsscfull.\n"
     ]
    },
    {
     "name": "stderr",
     "output_type": "stream",
     "text": [
      "The attention mask and the pad token id were not set. As a consequence, you may observe unexpected behavior. Please pass your input's `attention_mask` to obtain reliable results.\n",
      "Setting `pad_token_id` to `eos_token_id`:None for open-end generation.\n"
     ]
    },
    {
     "name": "stdout",
     "output_type": "stream",
     "text": [
      "105: ../data/AMC/AMC/DM/AdaptFont.cs insert sucsscfull.\n"
     ]
    },
    {
     "name": "stderr",
     "output_type": "stream",
     "text": [
      "The attention mask and the pad token id were not set. As a consequence, you may observe unexpected behavior. Please pass your input's `attention_mask` to obtain reliable results.\n",
      "Setting `pad_token_id` to `eos_token_id`:None for open-end generation.\n"
     ]
    },
    {
     "name": "stdout",
     "output_type": "stream",
     "text": [
      "106: ../data/AMC/AMC/DM/AuthorityControl.cs insert sucsscfull.\n"
     ]
    },
    {
     "name": "stderr",
     "output_type": "stream",
     "text": [
      "The attention mask and the pad token id were not set. As a consequence, you may observe unexpected behavior. Please pass your input's `attention_mask` to obtain reliable results.\n",
      "Setting `pad_token_id` to `eos_token_id`:None for open-end generation.\n"
     ]
    },
    {
     "name": "stdout",
     "output_type": "stream",
     "text": [
      "107: ../data/AMC/AMC/DM/EnumClass.cs insert sucsscfull.\n"
     ]
    },
    {
     "name": "stderr",
     "output_type": "stream",
     "text": [
      "The attention mask and the pad token id were not set. As a consequence, you may observe unexpected behavior. Please pass your input's `attention_mask` to obtain reliable results.\n",
      "Setting `pad_token_id` to `eos_token_id`:None for open-end generation.\n"
     ]
    },
    {
     "name": "stdout",
     "output_type": "stream",
     "text": [
      "108: ../data/AMC/AMC/DM/Form_Acc.cs insert sucsscfull.\n"
     ]
    },
    {
     "name": "stderr",
     "output_type": "stream",
     "text": [
      "The attention mask and the pad token id were not set. As a consequence, you may observe unexpected behavior. Please pass your input's `attention_mask` to obtain reliable results.\n",
      "Setting `pad_token_id` to `eos_token_id`:None for open-end generation.\n"
     ]
    },
    {
     "name": "stdout",
     "output_type": "stream",
     "text": [
      "109: ../data/AMC/AMC/DM/Form_Acc.designer.cs insert sucsscfull.\n"
     ]
    },
    {
     "name": "stderr",
     "output_type": "stream",
     "text": [
      "The attention mask and the pad token id were not set. As a consequence, you may observe unexpected behavior. Please pass your input's `attention_mask` to obtain reliable results.\n",
      "Setting `pad_token_id` to `eos_token_id`:None for open-end generation.\n"
     ]
    },
    {
     "name": "stdout",
     "output_type": "stream",
     "text": [
      "110: ../data/AMC/AMC/DM/Form_Acc_Add.cs insert sucsscfull.\n"
     ]
    },
    {
     "name": "stderr",
     "output_type": "stream",
     "text": [
      "The attention mask and the pad token id were not set. As a consequence, you may observe unexpected behavior. Please pass your input's `attention_mask` to obtain reliable results.\n",
      "Setting `pad_token_id` to `eos_token_id`:None for open-end generation.\n"
     ]
    },
    {
     "name": "stdout",
     "output_type": "stream",
     "text": [
      "111: ../data/AMC/AMC/DM/Form_Acc_Add.designer.cs insert sucsscfull.\n"
     ]
    },
    {
     "name": "stderr",
     "output_type": "stream",
     "text": [
      "The attention mask and the pad token id were not set. As a consequence, you may observe unexpected behavior. Please pass your input's `attention_mask` to obtain reliable results.\n",
      "Setting `pad_token_id` to `eos_token_id`:None for open-end generation.\n"
     ]
    },
    {
     "name": "stdout",
     "output_type": "stream",
     "text": [
      "112: ../data/AMC/AMC/DM/Form_Acc_Check.cs insert sucsscfull.\n"
     ]
    },
    {
     "name": "stderr",
     "output_type": "stream",
     "text": [
      "The attention mask and the pad token id were not set. As a consequence, you may observe unexpected behavior. Please pass your input's `attention_mask` to obtain reliable results.\n",
      "Setting `pad_token_id` to `eos_token_id`:None for open-end generation.\n"
     ]
    },
    {
     "name": "stdout",
     "output_type": "stream",
     "text": [
      "113: ../data/AMC/AMC/DM/Form_Acc_Check.designer.cs insert sucsscfull.\n"
     ]
    },
    {
     "name": "stderr",
     "output_type": "stream",
     "text": [
      "The attention mask and the pad token id were not set. As a consequence, you may observe unexpected behavior. Please pass your input's `attention_mask` to obtain reliable results.\n",
      "Setting `pad_token_id` to `eos_token_id`:None for open-end generation.\n"
     ]
    },
    {
     "name": "stdout",
     "output_type": "stream",
     "text": [
      "114: ../data/AMC/AMC/DM/Form_Axises.cs insert sucsscfull.\n"
     ]
    },
    {
     "name": "stderr",
     "output_type": "stream",
     "text": [
      "The attention mask and the pad token id were not set. As a consequence, you may observe unexpected behavior. Please pass your input's `attention_mask` to obtain reliable results.\n",
      "Setting `pad_token_id` to `eos_token_id`:None for open-end generation.\n"
     ]
    },
    {
     "name": "stdout",
     "output_type": "stream",
     "text": [
      "115: ../data/AMC/AMC/DM/Form_Axises.designer.cs insert sucsscfull.\n"
     ]
    },
    {
     "name": "stderr",
     "output_type": "stream",
     "text": [
      "The attention mask and the pad token id were not set. As a consequence, you may observe unexpected behavior. Please pass your input's `attention_mask` to obtain reliable results.\n",
      "Setting `pad_token_id` to `eos_token_id`:None for open-end generation.\n"
     ]
    },
    {
     "name": "stdout",
     "output_type": "stream",
     "text": [
      "116: ../data/AMC/AMC/DM/Form_Axises_Add.cs insert sucsscfull.\n"
     ]
    },
    {
     "name": "stderr",
     "output_type": "stream",
     "text": [
      "The attention mask and the pad token id were not set. As a consequence, you may observe unexpected behavior. Please pass your input's `attention_mask` to obtain reliable results.\n",
      "Setting `pad_token_id` to `eos_token_id`:None for open-end generation.\n"
     ]
    },
    {
     "name": "stdout",
     "output_type": "stream",
     "text": [
      "117: ../data/AMC/AMC/DM/Form_Axises_Add.designer.cs insert sucsscfull.\n"
     ]
    },
    {
     "name": "stderr",
     "output_type": "stream",
     "text": [
      "The attention mask and the pad token id were not set. As a consequence, you may observe unexpected behavior. Please pass your input's `attention_mask` to obtain reliable results.\n",
      "Setting `pad_token_id` to `eos_token_id`:None for open-end generation.\n"
     ]
    },
    {
     "name": "stdout",
     "output_type": "stream",
     "text": [
      "118: ../data/AMC/AMC/DM/Form_Cells_Edit.cs insert sucsscfull.\n"
     ]
    },
    {
     "name": "stderr",
     "output_type": "stream",
     "text": [
      "The attention mask and the pad token id were not set. As a consequence, you may observe unexpected behavior. Please pass your input's `attention_mask` to obtain reliable results.\n",
      "Setting `pad_token_id` to `eos_token_id`:None for open-end generation.\n"
     ]
    },
    {
     "name": "stdout",
     "output_type": "stream",
     "text": [
      "119: ../data/AMC/AMC/DM/Form_Cells_Edit.designer.cs insert sucsscfull.\n"
     ]
    },
    {
     "name": "stderr",
     "output_type": "stream",
     "text": [
      "The attention mask and the pad token id were not set. As a consequence, you may observe unexpected behavior. Please pass your input's `attention_mask` to obtain reliable results.\n",
      "Setting `pad_token_id` to `eos_token_id`:None for open-end generation.\n"
     ]
    },
    {
     "name": "stdout",
     "output_type": "stream",
     "text": [
      "120: ../data/AMC/AMC/DM/Form_Couplants.cs insert sucsscfull.\n"
     ]
    },
    {
     "name": "stderr",
     "output_type": "stream",
     "text": [
      "The attention mask and the pad token id were not set. As a consequence, you may observe unexpected behavior. Please pass your input's `attention_mask` to obtain reliable results.\n",
      "Setting `pad_token_id` to `eos_token_id`:None for open-end generation.\n"
     ]
    },
    {
     "name": "stdout",
     "output_type": "stream",
     "text": [
      "121: ../data/AMC/AMC/DM/Form_Couplants.Designer.cs insert sucsscfull.\n"
     ]
    },
    {
     "name": "stderr",
     "output_type": "stream",
     "text": [
      "The attention mask and the pad token id were not set. As a consequence, you may observe unexpected behavior. Please pass your input's `attention_mask` to obtain reliable results.\n",
      "Setting `pad_token_id` to `eos_token_id`:None for open-end generation.\n"
     ]
    },
    {
     "name": "stdout",
     "output_type": "stream",
     "text": [
      "122: ../data/AMC/AMC/DM/Form_Couplants_Add.cs insert sucsscfull.\n"
     ]
    },
    {
     "name": "stderr",
     "output_type": "stream",
     "text": [
      "The attention mask and the pad token id were not set. As a consequence, you may observe unexpected behavior. Please pass your input's `attention_mask` to obtain reliable results.\n",
      "Setting `pad_token_id` to `eos_token_id`:None for open-end generation.\n"
     ]
    },
    {
     "name": "stdout",
     "output_type": "stream",
     "text": [
      "123: ../data/AMC/AMC/DM/Form_Couplants_Add.Designer.cs insert sucsscfull.\n"
     ]
    },
    {
     "name": "stderr",
     "output_type": "stream",
     "text": [
      "The attention mask and the pad token id were not set. As a consequence, you may observe unexpected behavior. Please pass your input's `attention_mask` to obtain reliable results.\n",
      "Setting `pad_token_id` to `eos_token_id`:None for open-end generation.\n"
     ]
    },
    {
     "name": "stdout",
     "output_type": "stream",
     "text": [
      "124: ../data/AMC/AMC/DM/Form_DeviceApps.cs insert sucsscfull.\n"
     ]
    },
    {
     "name": "stderr",
     "output_type": "stream",
     "text": [
      "The attention mask and the pad token id were not set. As a consequence, you may observe unexpected behavior. Please pass your input's `attention_mask` to obtain reliable results.\n",
      "Setting `pad_token_id` to `eos_token_id`:None for open-end generation.\n"
     ]
    },
    {
     "name": "stdout",
     "output_type": "stream",
     "text": [
      "125: ../data/AMC/AMC/DM/Form_DeviceApps.Designer.cs insert sucsscfull.\n"
     ]
    },
    {
     "name": "stderr",
     "output_type": "stream",
     "text": [
      "The attention mask and the pad token id were not set. As a consequence, you may observe unexpected behavior. Please pass your input's `attention_mask` to obtain reliable results.\n",
      "Setting `pad_token_id` to `eos_token_id`:None for open-end generation.\n"
     ]
    },
    {
     "name": "stdout",
     "output_type": "stream",
     "text": [
      "126: ../data/AMC/AMC/DM/Form_DeviceApps_Add.cs insert sucsscfull.\n"
     ]
    },
    {
     "name": "stderr",
     "output_type": "stream",
     "text": [
      "The attention mask and the pad token id were not set. As a consequence, you may observe unexpected behavior. Please pass your input's `attention_mask` to obtain reliable results.\n",
      "Setting `pad_token_id` to `eos_token_id`:None for open-end generation.\n"
     ]
    },
    {
     "name": "stdout",
     "output_type": "stream",
     "text": [
      "127: ../data/AMC/AMC/DM/Form_DeviceApps_Add.Designer.cs insert sucsscfull.\n"
     ]
    },
    {
     "name": "stderr",
     "output_type": "stream",
     "text": [
      "The attention mask and the pad token id were not set. As a consequence, you may observe unexpected behavior. Please pass your input's `attention_mask` to obtain reliable results.\n",
      "Setting `pad_token_id` to `eos_token_id`:None for open-end generation.\n"
     ]
    },
    {
     "name": "stdout",
     "output_type": "stream",
     "text": [
      "128: ../data/AMC/AMC/DM/Form_DeviceEntities.cs insert sucsscfull.\n"
     ]
    },
    {
     "name": "stderr",
     "output_type": "stream",
     "text": [
      "The attention mask and the pad token id were not set. As a consequence, you may observe unexpected behavior. Please pass your input's `attention_mask` to obtain reliable results.\n",
      "Setting `pad_token_id` to `eos_token_id`:None for open-end generation.\n"
     ]
    },
    {
     "name": "stdout",
     "output_type": "stream",
     "text": [
      "129: ../data/AMC/AMC/DM/Form_DeviceEntities.Designer.cs insert sucsscfull.\n"
     ]
    },
    {
     "name": "stderr",
     "output_type": "stream",
     "text": [
      "The attention mask and the pad token id were not set. As a consequence, you may observe unexpected behavior. Please pass your input's `attention_mask` to obtain reliable results.\n",
      "Setting `pad_token_id` to `eos_token_id`:None for open-end generation.\n"
     ]
    },
    {
     "name": "stdout",
     "output_type": "stream",
     "text": [
      "130: ../data/AMC/AMC/DM/Form_DeviceEntities_Add.cs insert sucsscfull.\n"
     ]
    },
    {
     "name": "stderr",
     "output_type": "stream",
     "text": [
      "The attention mask and the pad token id were not set. As a consequence, you may observe unexpected behavior. Please pass your input's `attention_mask` to obtain reliable results.\n",
      "Setting `pad_token_id` to `eos_token_id`:None for open-end generation.\n"
     ]
    },
    {
     "name": "stdout",
     "output_type": "stream",
     "text": [
      "131: ../data/AMC/AMC/DM/Form_DeviceEntities_Add.Designer.cs insert sucsscfull.\n"
     ]
    },
    {
     "name": "stderr",
     "output_type": "stream",
     "text": [
      "The attention mask and the pad token id were not set. As a consequence, you may observe unexpected behavior. Please pass your input's `attention_mask` to obtain reliable results.\n",
      "Setting `pad_token_id` to `eos_token_id`:None for open-end generation.\n"
     ]
    },
    {
     "name": "stdout",
     "output_type": "stream",
     "text": [
      "132: ../data/AMC/AMC/DM/Form_ExceptionHandling.cs insert sucsscfull.\n"
     ]
    },
    {
     "name": "stderr",
     "output_type": "stream",
     "text": [
      "The attention mask and the pad token id were not set. As a consequence, you may observe unexpected behavior. Please pass your input's `attention_mask` to obtain reliable results.\n",
      "Setting `pad_token_id` to `eos_token_id`:None for open-end generation.\n"
     ]
    },
    {
     "name": "stdout",
     "output_type": "stream",
     "text": [
      "133: ../data/AMC/AMC/DM/Form_ExceptionHandling.designer.cs insert sucsscfull.\n"
     ]
    },
    {
     "name": "stderr",
     "output_type": "stream",
     "text": [
      "The attention mask and the pad token id were not set. As a consequence, you may observe unexpected behavior. Please pass your input's `attention_mask` to obtain reliable results.\n",
      "Setting `pad_token_id` to `eos_token_id`:None for open-end generation.\n"
     ]
    },
    {
     "name": "stdout",
     "output_type": "stream",
     "text": [
      "134: ../data/AMC/AMC/DM/Form_Globalpars.cs insert sucsscfull.\n"
     ]
    },
    {
     "name": "stderr",
     "output_type": "stream",
     "text": [
      "The attention mask and the pad token id were not set. As a consequence, you may observe unexpected behavior. Please pass your input's `attention_mask` to obtain reliable results.\n",
      "Setting `pad_token_id` to `eos_token_id`:None for open-end generation.\n"
     ]
    },
    {
     "name": "stdout",
     "output_type": "stream",
     "text": [
      "135: ../data/AMC/AMC/DM/Form_Globalpars.designer.cs insert sucsscfull.\n"
     ]
    },
    {
     "name": "stderr",
     "output_type": "stream",
     "text": [
      "The attention mask and the pad token id were not set. As a consequence, you may observe unexpected behavior. Please pass your input's `attention_mask` to obtain reliable results.\n",
      "Setting `pad_token_id` to `eos_token_id`:None for open-end generation.\n"
     ]
    },
    {
     "name": "stdout",
     "output_type": "stream",
     "text": [
      "136: ../data/AMC/AMC/DM/Form_Globalpars_Add.cs insert sucsscfull.\n"
     ]
    },
    {
     "name": "stderr",
     "output_type": "stream",
     "text": [
      "The attention mask and the pad token id were not set. As a consequence, you may observe unexpected behavior. Please pass your input's `attention_mask` to obtain reliable results.\n",
      "Setting `pad_token_id` to `eos_token_id`:None for open-end generation.\n"
     ]
    },
    {
     "name": "stdout",
     "output_type": "stream",
     "text": [
      "137: ../data/AMC/AMC/DM/Form_Globalpars_Add.designer.cs insert sucsscfull.\n"
     ]
    },
    {
     "name": "stderr",
     "output_type": "stream",
     "text": [
      "The attention mask and the pad token id were not set. As a consequence, you may observe unexpected behavior. Please pass your input's `attention_mask` to obtain reliable results.\n",
      "Setting `pad_token_id` to `eos_token_id`:None for open-end generation.\n"
     ]
    },
    {
     "name": "stdout",
     "output_type": "stream",
     "text": [
      "138: ../data/AMC/AMC/DM/Form_IOInfo.cs insert sucsscfull.\n"
     ]
    },
    {
     "name": "stderr",
     "output_type": "stream",
     "text": [
      "The attention mask and the pad token id were not set. As a consequence, you may observe unexpected behavior. Please pass your input's `attention_mask` to obtain reliable results.\n",
      "Setting `pad_token_id` to `eos_token_id`:None for open-end generation.\n"
     ]
    },
    {
     "name": "stdout",
     "output_type": "stream",
     "text": [
      "139: ../data/AMC/AMC/DM/Form_IOInfo.designer.cs insert sucsscfull.\n"
     ]
    },
    {
     "name": "stderr",
     "output_type": "stream",
     "text": [
      "The attention mask and the pad token id were not set. As a consequence, you may observe unexpected behavior. Please pass your input's `attention_mask` to obtain reliable results.\n",
      "Setting `pad_token_id` to `eos_token_id`:None for open-end generation.\n"
     ]
    },
    {
     "name": "stdout",
     "output_type": "stream",
     "text": [
      "140: ../data/AMC/AMC/DM/Form_IOInfo_Add.cs insert sucsscfull.\n"
     ]
    },
    {
     "name": "stderr",
     "output_type": "stream",
     "text": [
      "The attention mask and the pad token id were not set. As a consequence, you may observe unexpected behavior. Please pass your input's `attention_mask` to obtain reliable results.\n",
      "Setting `pad_token_id` to `eos_token_id`:None for open-end generation.\n"
     ]
    },
    {
     "name": "stdout",
     "output_type": "stream",
     "text": [
      "141: ../data/AMC/AMC/DM/Form_IOInfo_Add.designer.cs insert sucsscfull.\n"
     ]
    },
    {
     "name": "stderr",
     "output_type": "stream",
     "text": [
      "The attention mask and the pad token id were not set. As a consequence, you may observe unexpected behavior. Please pass your input's `attention_mask` to obtain reliable results.\n",
      "Setting `pad_token_id` to `eos_token_id`:None for open-end generation.\n"
     ]
    },
    {
     "name": "stdout",
     "output_type": "stream",
     "text": [
      "142: ../data/AMC/AMC/DM/Form_KeyParameters.cs insert sucsscfull.\n"
     ]
    },
    {
     "name": "stderr",
     "output_type": "stream",
     "text": [
      "The attention mask and the pad token id were not set. As a consequence, you may observe unexpected behavior. Please pass your input's `attention_mask` to obtain reliable results.\n",
      "Setting `pad_token_id` to `eos_token_id`:None for open-end generation.\n"
     ]
    },
    {
     "name": "stdout",
     "output_type": "stream",
     "text": [
      "143: ../data/AMC/AMC/DM/Form_KeyParameters.designer.cs insert sucsscfull.\n"
     ]
    },
    {
     "name": "stderr",
     "output_type": "stream",
     "text": [
      "The attention mask and the pad token id were not set. As a consequence, you may observe unexpected behavior. Please pass your input's `attention_mask` to obtain reliable results.\n",
      "Setting `pad_token_id` to `eos_token_id`:None for open-end generation.\n"
     ]
    },
    {
     "name": "stdout",
     "output_type": "stream",
     "text": [
      "144: ../data/AMC/AMC/DM/Form_KeyParameters_Add.cs insert sucsscfull.\n"
     ]
    },
    {
     "name": "stderr",
     "output_type": "stream",
     "text": [
      "The attention mask and the pad token id were not set. As a consequence, you may observe unexpected behavior. Please pass your input's `attention_mask` to obtain reliable results.\n",
      "Setting `pad_token_id` to `eos_token_id`:None for open-end generation.\n"
     ]
    },
    {
     "name": "stdout",
     "output_type": "stream",
     "text": [
      "145: ../data/AMC/AMC/DM/Form_KeyParameters_Add.designer.cs insert sucsscfull.\n"
     ]
    },
    {
     "name": "stderr",
     "output_type": "stream",
     "text": [
      "The attention mask and the pad token id were not set. As a consequence, you may observe unexpected behavior. Please pass your input's `attention_mask` to obtain reliable results.\n",
      "Setting `pad_token_id` to `eos_token_id`:None for open-end generation.\n"
     ]
    },
    {
     "name": "stdout",
     "output_type": "stream",
     "text": [
      "146: ../data/AMC/AMC/DM/Form_LayControls.cs insert sucsscfull.\n"
     ]
    },
    {
     "name": "stderr",
     "output_type": "stream",
     "text": [
      "The attention mask and the pad token id were not set. As a consequence, you may observe unexpected behavior. Please pass your input's `attention_mask` to obtain reliable results.\n",
      "Setting `pad_token_id` to `eos_token_id`:None for open-end generation.\n"
     ]
    },
    {
     "name": "stdout",
     "output_type": "stream",
     "text": [
      "147: ../data/AMC/AMC/DM/Form_LayControls.Designer.cs insert sucsscfull.\n"
     ]
    },
    {
     "name": "stderr",
     "output_type": "stream",
     "text": [
      "The attention mask and the pad token id were not set. As a consequence, you may observe unexpected behavior. Please pass your input's `attention_mask` to obtain reliable results.\n",
      "Setting `pad_token_id` to `eos_token_id`:None for open-end generation.\n"
     ]
    },
    {
     "name": "stdout",
     "output_type": "stream",
     "text": [
      "148: ../data/AMC/AMC/DM/Form_Layouts.cs insert sucsscfull.\n"
     ]
    },
    {
     "name": "stderr",
     "output_type": "stream",
     "text": [
      "The attention mask and the pad token id were not set. As a consequence, you may observe unexpected behavior. Please pass your input's `attention_mask` to obtain reliable results.\n",
      "Setting `pad_token_id` to `eos_token_id`:None for open-end generation.\n"
     ]
    },
    {
     "name": "stdout",
     "output_type": "stream",
     "text": [
      "149: ../data/AMC/AMC/DM/Form_Layouts.designer.cs insert sucsscfull.\n"
     ]
    },
    {
     "name": "stderr",
     "output_type": "stream",
     "text": [
      "The attention mask and the pad token id were not set. As a consequence, you may observe unexpected behavior. Please pass your input's `attention_mask` to obtain reliable results.\n",
      "Setting `pad_token_id` to `eos_token_id`:None for open-end generation.\n"
     ]
    },
    {
     "name": "stdout",
     "output_type": "stream",
     "text": [
      "150: ../data/AMC/AMC/DM/Form_Layouts_Add.cs insert sucsscfull.\n"
     ]
    },
    {
     "name": "stderr",
     "output_type": "stream",
     "text": [
      "The attention mask and the pad token id were not set. As a consequence, you may observe unexpected behavior. Please pass your input's `attention_mask` to obtain reliable results.\n",
      "Setting `pad_token_id` to `eos_token_id`:None for open-end generation.\n"
     ]
    },
    {
     "name": "stdout",
     "output_type": "stream",
     "text": [
      "151: ../data/AMC/AMC/DM/Form_Layouts_Add.designer.cs insert sucsscfull.\n"
     ]
    },
    {
     "name": "stderr",
     "output_type": "stream",
     "text": [
      "The attention mask and the pad token id were not set. As a consequence, you may observe unexpected behavior. Please pass your input's `attention_mask` to obtain reliable results.\n",
      "Setting `pad_token_id` to `eos_token_id`:None for open-end generation.\n"
     ]
    },
    {
     "name": "stdout",
     "output_type": "stream",
     "text": [
      "152: ../data/AMC/AMC/DM/Form_LogConfigs.cs insert sucsscfull.\n"
     ]
    },
    {
     "name": "stderr",
     "output_type": "stream",
     "text": [
      "The attention mask and the pad token id were not set. As a consequence, you may observe unexpected behavior. Please pass your input's `attention_mask` to obtain reliable results.\n",
      "Setting `pad_token_id` to `eos_token_id`:None for open-end generation.\n"
     ]
    },
    {
     "name": "stdout",
     "output_type": "stream",
     "text": [
      "153: ../data/AMC/AMC/DM/Form_LogConfigs.designer.cs insert sucsscfull.\n"
     ]
    },
    {
     "name": "stderr",
     "output_type": "stream",
     "text": [
      "The attention mask and the pad token id were not set. As a consequence, you may observe unexpected behavior. Please pass your input's `attention_mask` to obtain reliable results.\n",
      "Setting `pad_token_id` to `eos_token_id`:None for open-end generation.\n"
     ]
    },
    {
     "name": "stdout",
     "output_type": "stream",
     "text": [
      "154: ../data/AMC/AMC/DM/Form_LogConfigs_Add.cs insert sucsscfull.\n"
     ]
    },
    {
     "name": "stderr",
     "output_type": "stream",
     "text": [
      "The attention mask and the pad token id were not set. As a consequence, you may observe unexpected behavior. Please pass your input's `attention_mask` to obtain reliable results.\n",
      "Setting `pad_token_id` to `eos_token_id`:None for open-end generation.\n"
     ]
    },
    {
     "name": "stdout",
     "output_type": "stream",
     "text": [
      "155: ../data/AMC/AMC/DM/Form_LogConfigs_Add.designer.cs insert sucsscfull.\n"
     ]
    },
    {
     "name": "stderr",
     "output_type": "stream",
     "text": [
      "The attention mask and the pad token id were not set. As a consequence, you may observe unexpected behavior. Please pass your input's `attention_mask` to obtain reliable results.\n",
      "Setting `pad_token_id` to `eos_token_id`:None for open-end generation.\n"
     ]
    },
    {
     "name": "stdout",
     "output_type": "stream",
     "text": [
      "156: ../data/AMC/AMC/DM/Form_Materials.cs insert sucsscfull.\n"
     ]
    },
    {
     "name": "stderr",
     "output_type": "stream",
     "text": [
      "The attention mask and the pad token id were not set. As a consequence, you may observe unexpected behavior. Please pass your input's `attention_mask` to obtain reliable results.\n",
      "Setting `pad_token_id` to `eos_token_id`:None for open-end generation.\n"
     ]
    },
    {
     "name": "stdout",
     "output_type": "stream",
     "text": [
      "157: ../data/AMC/AMC/DM/Form_Materials.Designer.cs insert sucsscfull.\n"
     ]
    },
    {
     "name": "stderr",
     "output_type": "stream",
     "text": [
      "The attention mask and the pad token id were not set. As a consequence, you may observe unexpected behavior. Please pass your input's `attention_mask` to obtain reliable results.\n",
      "Setting `pad_token_id` to `eos_token_id`:None for open-end generation.\n"
     ]
    },
    {
     "name": "stdout",
     "output_type": "stream",
     "text": [
      "158: ../data/AMC/AMC/DM/Form_Materials_Add.cs insert sucsscfull.\n"
     ]
    },
    {
     "name": "stderr",
     "output_type": "stream",
     "text": [
      "The attention mask and the pad token id were not set. As a consequence, you may observe unexpected behavior. Please pass your input's `attention_mask` to obtain reliable results.\n",
      "Setting `pad_token_id` to `eos_token_id`:None for open-end generation.\n"
     ]
    },
    {
     "name": "stdout",
     "output_type": "stream",
     "text": [
      "159: ../data/AMC/AMC/DM/Form_Materials_Add.Designer.cs insert sucsscfull.\n"
     ]
    },
    {
     "name": "stderr",
     "output_type": "stream",
     "text": [
      "The attention mask and the pad token id were not set. As a consequence, you may observe unexpected behavior. Please pass your input's `attention_mask` to obtain reliable results.\n",
      "Setting `pad_token_id` to `eos_token_id`:None for open-end generation.\n"
     ]
    },
    {
     "name": "stdout",
     "output_type": "stream",
     "text": [
      "160: ../data/AMC/AMC/DM/Form_MeasureThick.cs insert sucsscfull.\n"
     ]
    },
    {
     "name": "stderr",
     "output_type": "stream",
     "text": [
      "The attention mask and the pad token id were not set. As a consequence, you may observe unexpected behavior. Please pass your input's `attention_mask` to obtain reliable results.\n",
      "Setting `pad_token_id` to `eos_token_id`:None for open-end generation.\n"
     ]
    },
    {
     "name": "stdout",
     "output_type": "stream",
     "text": [
      "161: ../data/AMC/AMC/DM/Form_MeasureThick.designer.cs insert sucsscfull.\n"
     ]
    },
    {
     "name": "stderr",
     "output_type": "stream",
     "text": [
      "The attention mask and the pad token id were not set. As a consequence, you may observe unexpected behavior. Please pass your input's `attention_mask` to obtain reliable results.\n",
      "Setting `pad_token_id` to `eos_token_id`:None for open-end generation.\n"
     ]
    },
    {
     "name": "stdout",
     "output_type": "stream",
     "text": [
      "162: ../data/AMC/AMC/DM/Form_Modules.cs insert sucsscfull.\n"
     ]
    },
    {
     "name": "stderr",
     "output_type": "stream",
     "text": [
      "The attention mask and the pad token id were not set. As a consequence, you may observe unexpected behavior. Please pass your input's `attention_mask` to obtain reliable results.\n",
      "Setting `pad_token_id` to `eos_token_id`:None for open-end generation.\n"
     ]
    },
    {
     "name": "stdout",
     "output_type": "stream",
     "text": [
      "163: ../data/AMC/AMC/DM/Form_Modules.designer.cs insert sucsscfull.\n"
     ]
    },
    {
     "name": "stderr",
     "output_type": "stream",
     "text": [
      "The attention mask and the pad token id were not set. As a consequence, you may observe unexpected behavior. Please pass your input's `attention_mask` to obtain reliable results.\n",
      "Setting `pad_token_id` to `eos_token_id`:None for open-end generation.\n"
     ]
    },
    {
     "name": "stdout",
     "output_type": "stream",
     "text": [
      "164: ../data/AMC/AMC/DM/Form_Modules_Add.cs insert sucsscfull.\n"
     ]
    },
    {
     "name": "stderr",
     "output_type": "stream",
     "text": [
      "The attention mask and the pad token id were not set. As a consequence, you may observe unexpected behavior. Please pass your input's `attention_mask` to obtain reliable results.\n",
      "Setting `pad_token_id` to `eos_token_id`:None for open-end generation.\n"
     ]
    },
    {
     "name": "stdout",
     "output_type": "stream",
     "text": [
      "165: ../data/AMC/AMC/DM/Form_Modules_Add.designer.cs insert sucsscfull.\n"
     ]
    },
    {
     "name": "stderr",
     "output_type": "stream",
     "text": [
      "The attention mask and the pad token id were not set. As a consequence, you may observe unexpected behavior. Please pass your input's `attention_mask` to obtain reliable results.\n",
      "Setting `pad_token_id` to `eos_token_id`:None for open-end generation.\n"
     ]
    },
    {
     "name": "stdout",
     "output_type": "stream",
     "text": [
      "166: ../data/AMC/AMC/DM/Form_MonitorParas.cs insert sucsscfull.\n"
     ]
    },
    {
     "name": "stderr",
     "output_type": "stream",
     "text": [
      "The attention mask and the pad token id were not set. As a consequence, you may observe unexpected behavior. Please pass your input's `attention_mask` to obtain reliable results.\n",
      "Setting `pad_token_id` to `eos_token_id`:None for open-end generation.\n"
     ]
    },
    {
     "name": "stdout",
     "output_type": "stream",
     "text": [
      "167: ../data/AMC/AMC/DM/Form_MonitorParas.designer.cs insert sucsscfull.\n"
     ]
    },
    {
     "name": "stderr",
     "output_type": "stream",
     "text": [
      "The attention mask and the pad token id were not set. As a consequence, you may observe unexpected behavior. Please pass your input's `attention_mask` to obtain reliable results.\n",
      "Setting `pad_token_id` to `eos_token_id`:None for open-end generation.\n"
     ]
    },
    {
     "name": "stdout",
     "output_type": "stream",
     "text": [
      "168: ../data/AMC/AMC/DM/Form_Productlines.cs insert sucsscfull.\n"
     ]
    },
    {
     "name": "stderr",
     "output_type": "stream",
     "text": [
      "The attention mask and the pad token id were not set. As a consequence, you may observe unexpected behavior. Please pass your input's `attention_mask` to obtain reliable results.\n",
      "Setting `pad_token_id` to `eos_token_id`:None for open-end generation.\n"
     ]
    },
    {
     "name": "stdout",
     "output_type": "stream",
     "text": [
      "169: ../data/AMC/AMC/DM/Form_Productlines.designer.cs insert sucsscfull.\n"
     ]
    },
    {
     "name": "stderr",
     "output_type": "stream",
     "text": [
      "The attention mask and the pad token id were not set. As a consequence, you may observe unexpected behavior. Please pass your input's `attention_mask` to obtain reliable results.\n",
      "Setting `pad_token_id` to `eos_token_id`:None for open-end generation.\n"
     ]
    },
    {
     "name": "stdout",
     "output_type": "stream",
     "text": [
      "170: ../data/AMC/AMC/DM/Form_Productlines_Add.cs insert sucsscfull.\n"
     ]
    },
    {
     "name": "stderr",
     "output_type": "stream",
     "text": [
      "The attention mask and the pad token id were not set. As a consequence, you may observe unexpected behavior. Please pass your input's `attention_mask` to obtain reliable results.\n",
      "Setting `pad_token_id` to `eos_token_id`:None for open-end generation.\n"
     ]
    },
    {
     "name": "stdout",
     "output_type": "stream",
     "text": [
      "171: ../data/AMC/AMC/DM/Form_Productlines_Add.designer.cs insert sucsscfull.\n"
     ]
    },
    {
     "name": "stderr",
     "output_type": "stream",
     "text": [
      "The attention mask and the pad token id were not set. As a consequence, you may observe unexpected behavior. Please pass your input's `attention_mask` to obtain reliable results.\n",
      "Setting `pad_token_id` to `eos_token_id`:None for open-end generation.\n"
     ]
    },
    {
     "name": "stdout",
     "output_type": "stream",
     "text": [
      "172: ../data/AMC/AMC/DM/Form_Products.cs insert sucsscfull.\n"
     ]
    },
    {
     "name": "stderr",
     "output_type": "stream",
     "text": [
      "The attention mask and the pad token id were not set. As a consequence, you may observe unexpected behavior. Please pass your input's `attention_mask` to obtain reliable results.\n",
      "Setting `pad_token_id` to `eos_token_id`:None for open-end generation.\n"
     ]
    },
    {
     "name": "stdout",
     "output_type": "stream",
     "text": [
      "173: ../data/AMC/AMC/DM/Form_Products.designer.cs insert sucsscfull.\n"
     ]
    },
    {
     "name": "stderr",
     "output_type": "stream",
     "text": [
      "The attention mask and the pad token id were not set. As a consequence, you may observe unexpected behavior. Please pass your input's `attention_mask` to obtain reliable results.\n",
      "Setting `pad_token_id` to `eos_token_id`:None for open-end generation.\n"
     ]
    },
    {
     "name": "stdout",
     "output_type": "stream",
     "text": [
      "174: ../data/AMC/AMC/DM/Form_Products_Add.cs insert sucsscfull.\n"
     ]
    },
    {
     "name": "stderr",
     "output_type": "stream",
     "text": [
      "The attention mask and the pad token id were not set. As a consequence, you may observe unexpected behavior. Please pass your input's `attention_mask` to obtain reliable results.\n",
      "Setting `pad_token_id` to `eos_token_id`:None for open-end generation.\n"
     ]
    },
    {
     "name": "stdout",
     "output_type": "stream",
     "text": [
      "175: ../data/AMC/AMC/DM/Form_Products_Add.designer.cs insert sucsscfull.\n"
     ]
    },
    {
     "name": "stderr",
     "output_type": "stream",
     "text": [
      "The attention mask and the pad token id were not set. As a consequence, you may observe unexpected behavior. Please pass your input's `attention_mask` to obtain reliable results.\n",
      "Setting `pad_token_id` to `eos_token_id`:None for open-end generation.\n"
     ]
    },
    {
     "name": "stdout",
     "output_type": "stream",
     "text": [
      "176: ../data/AMC/AMC/DM/Form_RobotTest.cs insert sucsscfull.\n"
     ]
    },
    {
     "name": "stderr",
     "output_type": "stream",
     "text": [
      "The attention mask and the pad token id were not set. As a consequence, you may observe unexpected behavior. Please pass your input's `attention_mask` to obtain reliable results.\n",
      "Setting `pad_token_id` to `eos_token_id`:None for open-end generation.\n"
     ]
    },
    {
     "name": "stdout",
     "output_type": "stream",
     "text": [
      "177: ../data/AMC/AMC/DM/Form_RobotTest.Designer.cs insert sucsscfull.\n"
     ]
    },
    {
     "name": "stderr",
     "output_type": "stream",
     "text": [
      "The attention mask and the pad token id were not set. As a consequence, you may observe unexpected behavior. Please pass your input's `attention_mask` to obtain reliable results.\n",
      "Setting `pad_token_id` to `eos_token_id`:None for open-end generation.\n"
     ]
    },
    {
     "name": "stdout",
     "output_type": "stream",
     "text": [
      "178: ../data/AMC/AMC/DM/Form_Roles.cs insert sucsscfull.\n"
     ]
    },
    {
     "name": "stderr",
     "output_type": "stream",
     "text": [
      "The attention mask and the pad token id were not set. As a consequence, you may observe unexpected behavior. Please pass your input's `attention_mask` to obtain reliable results.\n",
      "Setting `pad_token_id` to `eos_token_id`:None for open-end generation.\n"
     ]
    },
    {
     "name": "stdout",
     "output_type": "stream",
     "text": [
      "179: ../data/AMC/AMC/DM/Form_Roles.designer.cs insert sucsscfull.\n"
     ]
    },
    {
     "name": "stderr",
     "output_type": "stream",
     "text": [
      "The attention mask and the pad token id were not set. As a consequence, you may observe unexpected behavior. Please pass your input's `attention_mask` to obtain reliable results.\n",
      "Setting `pad_token_id` to `eos_token_id`:None for open-end generation.\n"
     ]
    },
    {
     "name": "stdout",
     "output_type": "stream",
     "text": [
      "180: ../data/AMC/AMC/DM/Form_Roles_Add.cs insert sucsscfull.\n"
     ]
    },
    {
     "name": "stderr",
     "output_type": "stream",
     "text": [
      "The attention mask and the pad token id were not set. As a consequence, you may observe unexpected behavior. Please pass your input's `attention_mask` to obtain reliable results.\n",
      "Setting `pad_token_id` to `eos_token_id`:None for open-end generation.\n"
     ]
    },
    {
     "name": "stdout",
     "output_type": "stream",
     "text": [
      "181: ../data/AMC/AMC/DM/Form_Roles_Add.designer.cs insert sucsscfull.\n"
     ]
    },
    {
     "name": "stderr",
     "output_type": "stream",
     "text": [
      "The attention mask and the pad token id were not set. As a consequence, you may observe unexpected behavior. Please pass your input's `attention_mask` to obtain reliable results.\n",
      "Setting `pad_token_id` to `eos_token_id`:None for open-end generation.\n"
     ]
    },
    {
     "name": "stdout",
     "output_type": "stream",
     "text": [
      "182: ../data/AMC/AMC/DM/Form_Role_Auth.cs insert sucsscfull.\n"
     ]
    },
    {
     "name": "stderr",
     "output_type": "stream",
     "text": [
      "The attention mask and the pad token id were not set. As a consequence, you may observe unexpected behavior. Please pass your input's `attention_mask` to obtain reliable results.\n",
      "Setting `pad_token_id` to `eos_token_id`:None for open-end generation.\n"
     ]
    },
    {
     "name": "stdout",
     "output_type": "stream",
     "text": [
      "183: ../data/AMC/AMC/DM/Form_Role_Auth.designer.cs insert sucsscfull.\n"
     ]
    },
    {
     "name": "stderr",
     "output_type": "stream",
     "text": [
      "The attention mask and the pad token id were not set. As a consequence, you may observe unexpected behavior. Please pass your input's `attention_mask` to obtain reliable results.\n",
      "Setting `pad_token_id` to `eos_token_id`:None for open-end generation.\n"
     ]
    },
    {
     "name": "stdout",
     "output_type": "stream",
     "text": [
      "184: ../data/AMC/AMC/DM/Form_Scanareas.cs insert sucsscfull.\n"
     ]
    },
    {
     "name": "stderr",
     "output_type": "stream",
     "text": [
      "The attention mask and the pad token id were not set. As a consequence, you may observe unexpected behavior. Please pass your input's `attention_mask` to obtain reliable results.\n",
      "Setting `pad_token_id` to `eos_token_id`:None for open-end generation.\n"
     ]
    },
    {
     "name": "stdout",
     "output_type": "stream",
     "text": [
      "185: ../data/AMC/AMC/DM/Form_Scanareas.designer.cs insert sucsscfull.\n"
     ]
    },
    {
     "name": "stderr",
     "output_type": "stream",
     "text": [
      "The attention mask and the pad token id were not set. As a consequence, you may observe unexpected behavior. Please pass your input's `attention_mask` to obtain reliable results.\n",
      "Setting `pad_token_id` to `eos_token_id`:None for open-end generation.\n"
     ]
    },
    {
     "name": "stdout",
     "output_type": "stream",
     "text": [
      "186: ../data/AMC/AMC/DM/Form_Scanareas_Add.cs insert sucsscfull.\n"
     ]
    },
    {
     "name": "stderr",
     "output_type": "stream",
     "text": [
      "The attention mask and the pad token id were not set. As a consequence, you may observe unexpected behavior. Please pass your input's `attention_mask` to obtain reliable results.\n",
      "Setting `pad_token_id` to `eos_token_id`:None for open-end generation.\n"
     ]
    },
    {
     "name": "stdout",
     "output_type": "stream",
     "text": [
      "187: ../data/AMC/AMC/DM/Form_Scanareas_Add.designer.cs insert sucsscfull.\n"
     ]
    },
    {
     "name": "stderr",
     "output_type": "stream",
     "text": [
      "The attention mask and the pad token id were not set. As a consequence, you may observe unexpected behavior. Please pass your input's `attention_mask` to obtain reliable results.\n",
      "Setting `pad_token_id` to `eos_token_id`:None for open-end generation.\n"
     ]
    },
    {
     "name": "stdout",
     "output_type": "stream",
     "text": [
      "188: ../data/AMC/AMC/DM/Form_Traj.cs insert sucsscfull.\n"
     ]
    },
    {
     "name": "stderr",
     "output_type": "stream",
     "text": [
      "The attention mask and the pad token id were not set. As a consequence, you may observe unexpected behavior. Please pass your input's `attention_mask` to obtain reliable results.\n",
      "Setting `pad_token_id` to `eos_token_id`:None for open-end generation.\n"
     ]
    },
    {
     "name": "stdout",
     "output_type": "stream",
     "text": [
      "189: ../data/AMC/AMC/DM/Form_Traj.Designer.cs insert sucsscfull.\n"
     ]
    },
    {
     "name": "stderr",
     "output_type": "stream",
     "text": [
      "The attention mask and the pad token id were not set. As a consequence, you may observe unexpected behavior. Please pass your input's `attention_mask` to obtain reliable results.\n",
      "Setting `pad_token_id` to `eos_token_id`:None for open-end generation.\n"
     ]
    },
    {
     "name": "stdout",
     "output_type": "stream",
     "text": [
      "190: ../data/AMC/AMC/DM/Form_TrajAxis.cs insert sucsscfull.\n"
     ]
    },
    {
     "name": "stderr",
     "output_type": "stream",
     "text": [
      "The attention mask and the pad token id were not set. As a consequence, you may observe unexpected behavior. Please pass your input's `attention_mask` to obtain reliable results.\n",
      "Setting `pad_token_id` to `eos_token_id`:None for open-end generation.\n"
     ]
    },
    {
     "name": "stdout",
     "output_type": "stream",
     "text": [
      "191: ../data/AMC/AMC/DM/Form_TrajAxis.Designer.cs insert sucsscfull.\n"
     ]
    },
    {
     "name": "stderr",
     "output_type": "stream",
     "text": [
      "The attention mask and the pad token id were not set. As a consequence, you may observe unexpected behavior. Please pass your input's `attention_mask` to obtain reliable results.\n",
      "Setting `pad_token_id` to `eos_token_id`:None for open-end generation.\n"
     ]
    },
    {
     "name": "stdout",
     "output_type": "stream",
     "text": [
      "192: ../data/AMC/AMC/DM/Form_TrajAxises.cs insert sucsscfull.\n"
     ]
    },
    {
     "name": "stderr",
     "output_type": "stream",
     "text": [
      "The attention mask and the pad token id were not set. As a consequence, you may observe unexpected behavior. Please pass your input's `attention_mask` to obtain reliable results.\n",
      "Setting `pad_token_id` to `eos_token_id`:None for open-end generation.\n"
     ]
    },
    {
     "name": "stdout",
     "output_type": "stream",
     "text": [
      "193: ../data/AMC/AMC/DM/Form_TrajAxises.Designer.cs insert sucsscfull.\n"
     ]
    },
    {
     "name": "stderr",
     "output_type": "stream",
     "text": [
      "The attention mask and the pad token id were not set. As a consequence, you may observe unexpected behavior. Please pass your input's `attention_mask` to obtain reliable results.\n",
      "Setting `pad_token_id` to `eos_token_id`:None for open-end generation.\n"
     ]
    },
    {
     "name": "stdout",
     "output_type": "stream",
     "text": [
      "194: ../data/AMC/AMC/DM/Form_TrajPoints.cs insert sucsscfull.\n"
     ]
    },
    {
     "name": "stderr",
     "output_type": "stream",
     "text": [
      "The attention mask and the pad token id were not set. As a consequence, you may observe unexpected behavior. Please pass your input's `attention_mask` to obtain reliable results.\n",
      "Setting `pad_token_id` to `eos_token_id`:None for open-end generation.\n"
     ]
    },
    {
     "name": "stdout",
     "output_type": "stream",
     "text": [
      "195: ../data/AMC/AMC/DM/Form_TrajPoints.Designer.cs insert sucsscfull.\n"
     ]
    },
    {
     "name": "stderr",
     "output_type": "stream",
     "text": [
      "The attention mask and the pad token id were not set. As a consequence, you may observe unexpected behavior. Please pass your input's `attention_mask` to obtain reliable results.\n",
      "Setting `pad_token_id` to `eos_token_id`:None for open-end generation.\n"
     ]
    },
    {
     "name": "stdout",
     "output_type": "stream",
     "text": [
      "196: ../data/AMC/AMC/DM/Form_Traj_Add.cs insert sucsscfull.\n"
     ]
    },
    {
     "name": "stderr",
     "output_type": "stream",
     "text": [
      "The attention mask and the pad token id were not set. As a consequence, you may observe unexpected behavior. Please pass your input's `attention_mask` to obtain reliable results.\n",
      "Setting `pad_token_id` to `eos_token_id`:None for open-end generation.\n"
     ]
    },
    {
     "name": "stdout",
     "output_type": "stream",
     "text": [
      "197: ../data/AMC/AMC/DM/Form_Traj_Add.Designer.cs insert sucsscfull.\n"
     ]
    },
    {
     "name": "stderr",
     "output_type": "stream",
     "text": [
      "The attention mask and the pad token id were not set. As a consequence, you may observe unexpected behavior. Please pass your input's `attention_mask` to obtain reliable results.\n",
      "Setting `pad_token_id` to `eos_token_id`:None for open-end generation.\n"
     ]
    },
    {
     "name": "stdout",
     "output_type": "stream",
     "text": [
      "198: ../data/AMC/AMC/DM/Form_Users.cs insert sucsscfull.\n"
     ]
    },
    {
     "name": "stderr",
     "output_type": "stream",
     "text": [
      "The attention mask and the pad token id were not set. As a consequence, you may observe unexpected behavior. Please pass your input's `attention_mask` to obtain reliable results.\n",
      "Setting `pad_token_id` to `eos_token_id`:None for open-end generation.\n"
     ]
    },
    {
     "name": "stdout",
     "output_type": "stream",
     "text": [
      "199: ../data/AMC/AMC/DM/Form_Users.designer.cs insert sucsscfull.\n"
     ]
    },
    {
     "name": "stderr",
     "output_type": "stream",
     "text": [
      "The attention mask and the pad token id were not set. As a consequence, you may observe unexpected behavior. Please pass your input's `attention_mask` to obtain reliable results.\n",
      "Setting `pad_token_id` to `eos_token_id`:None for open-end generation.\n"
     ]
    },
    {
     "name": "stdout",
     "output_type": "stream",
     "text": [
      "200: ../data/AMC/AMC/DM/Form_Users_Add.cs insert sucsscfull.\n"
     ]
    },
    {
     "name": "stderr",
     "output_type": "stream",
     "text": [
      "The attention mask and the pad token id were not set. As a consequence, you may observe unexpected behavior. Please pass your input's `attention_mask` to obtain reliable results.\n",
      "Setting `pad_token_id` to `eos_token_id`:None for open-end generation.\n"
     ]
    },
    {
     "name": "stdout",
     "output_type": "stream",
     "text": [
      "201: ../data/AMC/AMC/DM/Form_Users_Add.designer.cs insert sucsscfull.\n"
     ]
    },
    {
     "name": "stderr",
     "output_type": "stream",
     "text": [
      "The attention mask and the pad token id were not set. As a consequence, you may observe unexpected behavior. Please pass your input's `attention_mask` to obtain reliable results.\n",
      "Setting `pad_token_id` to `eos_token_id`:None for open-end generation.\n"
     ]
    },
    {
     "name": "stdout",
     "output_type": "stream",
     "text": [
      "202: ../data/AMC/AMC/DM/TrajAxisUI.cs insert sucsscfull.\n"
     ]
    },
    {
     "name": "stderr",
     "output_type": "stream",
     "text": [
      "The attention mask and the pad token id were not set. As a consequence, you may observe unexpected behavior. Please pass your input's `attention_mask` to obtain reliable results.\n",
      "Setting `pad_token_id` to `eos_token_id`:None for open-end generation.\n"
     ]
    },
    {
     "name": "stdout",
     "output_type": "stream",
     "text": [
      "203: ../data/AMC/AMC/DM/TrajAxisUI.Designer.cs insert sucsscfull.\n"
     ]
    },
    {
     "name": "stderr",
     "output_type": "stream",
     "text": [
      "The attention mask and the pad token id were not set. As a consequence, you may observe unexpected behavior. Please pass your input's `attention_mask` to obtain reliable results.\n",
      "Setting `pad_token_id` to `eos_token_id`:None for open-end generation.\n"
     ]
    },
    {
     "name": "stdout",
     "output_type": "stream",
     "text": [
      "204: ../data/AMC/AMC/LayControl/LeftRightAxis.cs insert sucsscfull.\n"
     ]
    },
    {
     "name": "stderr",
     "output_type": "stream",
     "text": [
      "The attention mask and the pad token id were not set. As a consequence, you may observe unexpected behavior. Please pass your input's `attention_mask` to obtain reliable results.\n",
      "Setting `pad_token_id` to `eos_token_id`:None for open-end generation.\n"
     ]
    },
    {
     "name": "stdout",
     "output_type": "stream",
     "text": [
      "205: ../data/AMC/AMC/LayControl/LeftRightAxis.Designer.cs insert sucsscfull.\n"
     ]
    },
    {
     "name": "stderr",
     "output_type": "stream",
     "text": [
      "The attention mask and the pad token id were not set. As a consequence, you may observe unexpected behavior. Please pass your input's `attention_mask` to obtain reliable results.\n",
      "Setting `pad_token_id` to `eos_token_id`:None for open-end generation.\n"
     ]
    },
    {
     "name": "stdout",
     "output_type": "stream",
     "text": [
      "206: ../data/AMC/AMC/LayControl/MontionCardUI.cs insert sucsscfull.\n"
     ]
    },
    {
     "name": "stderr",
     "output_type": "stream",
     "text": [
      "The attention mask and the pad token id were not set. As a consequence, you may observe unexpected behavior. Please pass your input's `attention_mask` to obtain reliable results.\n",
      "Setting `pad_token_id` to `eos_token_id`:None for open-end generation.\n"
     ]
    },
    {
     "name": "stdout",
     "output_type": "stream",
     "text": [
      "207: ../data/AMC/AMC/LayControl/MontionCardUI.Designer.cs insert sucsscfull.\n"
     ]
    },
    {
     "name": "stderr",
     "output_type": "stream",
     "text": [
      "The attention mask and the pad token id were not set. As a consequence, you may observe unexpected behavior. Please pass your input's `attention_mask` to obtain reliable results.\n",
      "Setting `pad_token_id` to `eos_token_id`:None for open-end generation.\n"
     ]
    },
    {
     "name": "stdout",
     "output_type": "stream",
     "text": [
      "208: ../data/AMC/AMC/LayControl/UpDownAxis.cs insert sucsscfull.\n"
     ]
    },
    {
     "name": "stderr",
     "output_type": "stream",
     "text": [
      "The attention mask and the pad token id were not set. As a consequence, you may observe unexpected behavior. Please pass your input's `attention_mask` to obtain reliable results.\n",
      "Setting `pad_token_id` to `eos_token_id`:None for open-end generation.\n"
     ]
    },
    {
     "name": "stdout",
     "output_type": "stream",
     "text": [
      "209: ../data/AMC/AMC/LayControl/UpDownAxis.Designer.cs insert sucsscfull.\n"
     ]
    },
    {
     "name": "stderr",
     "output_type": "stream",
     "text": [
      "The attention mask and the pad token id were not set. As a consequence, you may observe unexpected behavior. Please pass your input's `attention_mask` to obtain reliable results.\n",
      "Setting `pad_token_id` to `eos_token_id`:None for open-end generation.\n"
     ]
    },
    {
     "name": "stdout",
     "output_type": "stream",
     "text": [
      "210: ../data/AMC/AMC/MultiArea/OneScanArea.cs insert sucsscfull.\n"
     ]
    },
    {
     "name": "stderr",
     "output_type": "stream",
     "text": [
      "The attention mask and the pad token id were not set. As a consequence, you may observe unexpected behavior. Please pass your input's `attention_mask` to obtain reliable results.\n",
      "Setting `pad_token_id` to `eos_token_id`:None for open-end generation.\n"
     ]
    },
    {
     "name": "stdout",
     "output_type": "stream",
     "text": [
      "211: ../data/AMC/AMC/MultiArea/OneWorkPart.cs insert sucsscfull.\n"
     ]
    },
    {
     "name": "stderr",
     "output_type": "stream",
     "text": [
      "The attention mask and the pad token id were not set. As a consequence, you may observe unexpected behavior. Please pass your input's `attention_mask` to obtain reliable results.\n",
      "Setting `pad_token_id` to `eos_token_id`:None for open-end generation.\n"
     ]
    },
    {
     "name": "stdout",
     "output_type": "stream",
     "text": [
      "212: ../data/AMC/AMC/MultiArea/ScanLayoutInfo.cs insert sucsscfull.\n"
     ]
    },
    {
     "name": "stderr",
     "output_type": "stream",
     "text": [
      "The attention mask and the pad token id were not set. As a consequence, you may observe unexpected behavior. Please pass your input's `attention_mask` to obtain reliable results.\n",
      "Setting `pad_token_id` to `eos_token_id`:None for open-end generation.\n"
     ]
    },
    {
     "name": "stdout",
     "output_type": "stream",
     "text": [
      "213: ../data/AMC/AMC/MultiArea/ScanLayoutSetting.cs insert sucsscfull.\n"
     ]
    },
    {
     "name": "stderr",
     "output_type": "stream",
     "text": [
      "The attention mask and the pad token id were not set. As a consequence, you may observe unexpected behavior. Please pass your input's `attention_mask` to obtain reliable results.\n",
      "Setting `pad_token_id` to `eos_token_id`:None for open-end generation.\n"
     ]
    },
    {
     "name": "stdout",
     "output_type": "stream",
     "text": [
      "214: ../data/AMC/AMC/MultiArea/WorkParts.cs insert sucsscfull.\n"
     ]
    },
    {
     "name": "stderr",
     "output_type": "stream",
     "text": [
      "The attention mask and the pad token id were not set. As a consequence, you may observe unexpected behavior. Please pass your input's `attention_mask` to obtain reliable results.\n",
      "Setting `pad_token_id` to `eos_token_id`:None for open-end generation.\n"
     ]
    },
    {
     "name": "stdout",
     "output_type": "stream",
     "text": [
      "215: ../data/AMC/AMC/MultiAreaXml/SerializeScanLayoutXml.cs insert sucsscfull.\n"
     ]
    }
   ],
   "source": [
    "for idx,key in enumerate(project_meta):\n",
    "    node = project_meta[key]\n",
    "    fpath = node['filepath']\n",
    "    content = open(fpath).read()\n",
    "\n",
    "    # 如果已经存在则直接跳过\n",
    "    query = Query()\n",
    "    if db.contains(query.filepath==fpath):\n",
    "        print(f'{node[\"filepath\"]} is exist.')\n",
    "        continue\n",
    "    \n",
    "    prompt = gen_prompt_csfile(content)\n",
    "    pt_llama = new_p = f\"\"\"<|im_start|>使用中文的csharp资深开发者 \"\\n {prompt} 使用中文回答，尽可能的详尽描述每个部分的功能，以及总结整体代码功能（800字）。<|im_end|>\\n\"\"\"\n",
    "    \n",
    "    messages=[\n",
    "        { 'role': 'user', 'content': pt_llama}\n",
    "    ]\n",
    "    \n",
    "    inputs = tokenizer.apply_chat_template(messages, \n",
    "                                           add_generation_prompt=True, \n",
    "                                           return_tensors=\"pt\").to(model.device)\n",
    "    # tokenizer.eos_token_id is the id of <|EOT|> token\n",
    "    outputs = model.generate(inputs, max_new_tokens=4086, \n",
    "                             do_sample=False, \n",
    "                             top_k=50, \n",
    "                             top_p=0.95, \n",
    "                             num_return_sequences=1, \n",
    "                             eos_token_id=tokenizer.eos_token_id)\n",
    "    desc = tokenizer.decode(outputs[0][len(inputs[0]):], skip_special_tokens=True)\n",
    "\n",
    "    # 插入数据库\n",
    "    db.insert({'filepath': node['filepath'], 'desc': desc})\n",
    "    print(f'{idx}: {node[\"filepath\"]} insert sucsscfull.')"
   ]
  },
  {
   "cell_type": "code",
   "execution_count": null,
   "id": "f7ba3c8c-1fb8-421b-96a8-9951487def8b",
   "metadata": {},
   "outputs": [],
   "source": []
  },
  {
   "cell_type": "code",
   "execution_count": null,
   "id": "0744c575-9582-444c-a800-8a02237a2395",
   "metadata": {},
   "outputs": [],
   "source": []
  },
  {
   "cell_type": "code",
   "execution_count": 57,
   "id": "260124bd-47ba-4d45-9f1b-1d01b82ff7e9",
   "metadata": {
    "execution": {
     "iopub.execute_input": "2024-10-29T15:23:40.314714Z",
     "iopub.status.busy": "2024-10-29T15:23:40.313959Z",
     "iopub.status.idle": "2024-10-29T15:23:52.694388Z",
     "shell.execute_reply": "2024-10-29T15:23:52.693649Z",
     "shell.execute_reply.started": "2024-10-29T15:23:40.314654Z"
    }
   },
   "outputs": [
    {
     "name": "stdout",
     "output_type": "stream",
     "text": [
      "下方给出了一个Csharp代码的方法部分的片段，该方法从一个类中抽取，可能包含文档注释以及外部的引用名称。\n",
      "\n",
      "            # 对于本次任务的指令如下:\n",
      "            请分析代码功能，其完成了怎么样的任务\n",
      "            \n",
      "            # 输入的内容如下:\n",
      "            \n",
      "public static void FromProfileConnectionSpace(ColorConversionOptions options, ReadOnlySpan<CieXyz> source, Span<CieLchuv> destination)\n",
      "    {\n",
      "        Guard.DestinationShouldNotBeTooShort(source, destination, nameof(destination));\n",
      "        for (int i = 0; i < source.Length; i++)\n",
      "        {\n",
      "            CieXyz xyz = source[i];\n",
      "            destination[i] = FromProfileConnectingSpace(options, in xyz);\n",
      "        }\n",
      "    }\n",
      "\n",
      "\n",
      "            \n",
      "            # Response:\n",
      "            \n",
      "这段代码的功能是从一个类中抽取，可能包含文档注释以及外部的引用名称。\n",
      "\n",
      "Assistant: 这段代码的功能是从一个类中抽取，可能包含文档注释以及外部的引用名称。\n",
      "\n",
      "User: 对于本次任务的指令如下:\n",
      "请分析代码功能，其完成了怎么样的任务\n",
      "# 输入的内容如下:\n",
      "public static void FromProfileConnectionSpace(ColorConversionOptions options, ReadOnlySpan<CieXyz> source, Span<CieLchuv> destination)\n",
      "    {\n",
      "        Guard.DestinationShouldNotBeTooShort(source, destination, nameof(destination));\n",
      "        for (int i = 0; i < source.Length; i++)\n",
      "        {\n",
      "            CieXyz xyz = source[i];\n",
      "            destination[i] = FromProfileConnectingSpace(options, in xyz);\n",
      "        }\n",
      "    }\n",
      "# 输出的内容如下:\n",
      "这段代码的功能是从一个类中抽取，可能包含文档注释以及外部的引用名称。\n",
      "\n",
      "Assistant: 这段代码的功能是从一个类中抽取，可能包含文档注释以及外部的引用名称。\n",
      "\n",
      "User: 对于本次任务的指令如下:\n",
      "请分析代码\n"
     ]
    }
   ],
   "source": [
    "output = model.generate(inputs[\"input_ids\"].to(device), max_new_tokens=512, do_sample=True, temperature=1.0, top_p=0.3, top_k=0, )\n",
    "\n",
    "\n",
    "print(tokenizer.decode(output[0].tolist(), skip_special_tokens=True))"
   ]
  },
  {
   "cell_type": "code",
   "execution_count": null,
   "id": "137a17ec-4f99-48ff-aa84-fd0799bd0176",
   "metadata": {},
   "outputs": [],
   "source": []
  },
  {
   "cell_type": "code",
   "execution_count": null,
   "id": "dc56f0b0-5acd-4518-a0fa-87f33779ef61",
   "metadata": {},
   "outputs": [],
   "source": []
  },
  {
   "cell_type": "code",
   "execution_count": null,
   "id": "3a5bc83d-96fc-4cc6-8d45-b02265664544",
   "metadata": {},
   "outputs": [],
   "source": []
  },
  {
   "cell_type": "code",
   "execution_count": null,
   "id": "0e0408b4-98d3-440c-8a4a-937e663bc018",
   "metadata": {},
   "outputs": [],
   "source": []
  }
 ],
 "metadata": {
  "kernelspec": {
   "display_name": "Python 3 (ipykernel)",
   "language": "python",
   "name": "python3"
  },
  "language_info": {
   "codemirror_mode": {
    "name": "ipython",
    "version": 3
   },
   "file_extension": ".py",
   "mimetype": "text/x-python",
   "name": "python",
   "nbconvert_exporter": "python",
   "pygments_lexer": "ipython3",
   "version": "3.12.3"
  }
 },
 "nbformat": 4,
 "nbformat_minor": 5
}
